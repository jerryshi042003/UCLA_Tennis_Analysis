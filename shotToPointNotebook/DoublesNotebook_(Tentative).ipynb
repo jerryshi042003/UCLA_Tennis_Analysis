{
  "cells": [
    {
      "cell_type": "markdown",
      "id": "02d3fd87-62b1-4c6c-a986-8e302a9b9189",
      "metadata": {
        "id": "02d3fd87-62b1-4c6c-a986-8e302a9b9189"
      },
      "source": [
        "#### What Require Inputs in this Notebook\n",
        "1. [Fill in File Input](#Load-in-Data)\n",
        "2. [Right or Left Hand](#Right-or-Left-Hand)\n",
        "3. [Output ShotCSV](#Output-ShotCSV)\n",
        "4. [Change to atNet (by Player) from tagger later](#At-Net)\n",
        "5. [EDA and get Stats Here](#EDA)\n",
        "6. [Output PointCSV for Visuals](#PRINT-POINTCSV-VISUALS)\n",
        "7. [Output PointCSV for Upload](#Print-POINTCSV-UPLOAD)"
      ]
    },
    {
      "cell_type": "markdown",
      "id": "a070c44e-ea6f-4b06-b098-5246cffd01a1",
      "metadata": {
        "id": "a070c44e-ea6f-4b06-b098-5246cffd01a1"
      },
      "source": [
        "# Table of Contents\n",
        "1. [Load in Data](#Load-in-Data)\n",
        "- Error Checking\n",
        "- Add Columns\n",
        "- [Output ShotCSV](#Output-ShotCSV)\n",
        "2. [Create Point DF](#Create-Point-DF)\n",
        "- Add Columns\n",
        "- [Output PointCSV for Visuals](#PRINT-POINTCSV-VISUALS)\n",
        "- [Output PointCSV for Upload](#Print-POINTCSV-UPLOAD)    \n",
        "        - cut out points with no timestamp position    \n",
        "        - atNetPlayer1 has values of the player name for display purposes instead of boolean values\n",
        "\n",
        "# [Click for Summary Stats and EDA HERE](#EDA)"
      ]
    },
    {
      "cell_type": "markdown",
      "id": "a7732809-2f64-4073-92cd-53c6a89ae448",
      "metadata": {
        "id": "a7732809-2f64-4073-92cd-53c6a89ae448"
      },
      "source": [
        "# Notebook Start"
      ]
    },
    {
      "cell_type": "markdown",
      "id": "f8d8fd7b-43ba-4fd2-83ec-3679c6de6174",
      "metadata": {
        "id": "f8d8fd7b-43ba-4fd2-83ec-3679c6de6174"
      },
      "source": [
        "### Load in Data"
      ]
    },
    {
      "cell_type": "code",
      "execution_count": null,
      "id": "d5c13104-5252-4b42-8d10-80ce021f8035",
      "metadata": {
        "id": "d5c13104-5252-4b42-8d10-80ce021f8035"
      },
      "outputs": [],
      "source": [
        "import pandas as pd\n",
        "import numpy as np"
      ]
    },
    {
      "cell_type": "code",
      "execution_count": null,
      "id": "2bdb70cd-4596-4691-855c-0477381445dd",
      "metadata": {
        "id": "2bdb70cd-4596-4691-855c-0477381445dd"
      },
      "outputs": [],
      "source": [
        "# Put your Uncleaned .csv file name here\n",
        "\n",
        "your_file_name = \"doublestagging.csv\"\n",
        "shot_data = pd.read_csv(your_file_name)\n",
        "\n",
        "# Put timestamps file here\n",
        "timestamp = pd.read_csv(\"Spencer_Emon vs. USC Timestamps - Sheet1.csv\")"
      ]
    },
    {
      "cell_type": "code",
      "execution_count": null,
      "id": "9864aae5-8bbb-4d1c-a5f0-78fac5c6b5f2",
      "metadata": {
        "id": "9864aae5-8bbb-4d1c-a5f0-78fac5c6b5f2",
        "colab": {
          "base_uri": "https://localhost:8080/"
        },
        "outputId": "c7539ac8-c499-4c0a-8439-00bf4e2472a6"
      },
      "outputs": [
        {
          "output_type": "stream",
          "name": "stdout",
          "text": [
            "70\n"
          ]
        },
        {
          "output_type": "execute_result",
          "data": {
            "text/plain": [
              "Index(['pointScore', 'gameScore', 'setScore', 'tiebreakScore', 'isPointStart',\n",
              "       'pointStartTime', 'isPointEnd', 'pointEndTime', 'pointNumber',\n",
              "       'isBreakPoint', 'shotInRally', 'side', 'serverName', 'firstServeIn',\n",
              "       'firstServeZone', 'firstServeXCoord', 'firstServeYCoord',\n",
              "       'secondServeIn', 'secondServeZone', 'secondServeXCoord',\n",
              "       'secondServeYCoord', 'isAce', 'returnContactX', 'returnContactY',\n",
              "       'returnPlacementX', 'returnPlacementY', 'shotContactX', 'shotContactY',\n",
              "       'shotDirection', 'shotType', 'isSlice', 'isVolley', 'isOverhead',\n",
              "       'isApproach', 'isDropshot', 'isPoach', 'bothAtNetTeamA',\n",
              "       'bothAtNetTeamB', 'isFakeTeamA', 'isFakeTeamB', 'serveFormation',\n",
              "       'returnFormation', 'shotLocationX', 'shotLocationY', 'isWinner',\n",
              "       'isErrorWideR', 'isErrorWideL', 'isErrorNet', 'isErrorLong', 'isLob',\n",
              "       'shotHitBy', 'teamA', 'teamB', 'Date', 'Division', 'Event',\n",
              "       'lineupPosition', 'matchVenue', 'teamAPlayer1', 'teamAPlayer2',\n",
              "       'teamAPlayer1Hand', 'teamAPlayer2Hand', 'Data Error', 'teamBPlayer1',\n",
              "       'teamBPlayer2', 'teamBPlayer1Hand', 'teamBPlayer2Hand', 'Round',\n",
              "       'Surface', 'Notes'],\n",
              "      dtype='object')"
            ]
          },
          "metadata": {},
          "execution_count": 3
        }
      ],
      "source": [
        "# Check existing columns\n",
        "print(len(shot_data.columns))\n",
        "shot_data.columns"
      ]
    },
    {
      "cell_type": "markdown",
      "id": "0bdf5560-c1db-4e3f-a2c7-bd5b44502bac",
      "metadata": {
        "id": "0bdf5560-c1db-4e3f-a2c7-bd5b44502bac"
      },
      "source": [
        "<!-- ### Error Check:\n",
        "#### If data includes firstServeZone but no \"1\" for firstServeIn, same for secondServeZone/secondServeIn -->"
      ]
    },
    {
      "cell_type": "markdown",
      "id": "17ef2b0e-f69f-4bd1-a652-5c3a4916b0f4",
      "metadata": {
        "id": "17ef2b0e-f69f-4bd1-a652-5c3a4916b0f4"
      },
      "source": [
        "## Error Check 1:\n",
        "#### If returnData exists, separate values of \"Forehand/Backhand Crosscourt/Down the Line\" into shotFhBh and shotDirection"
      ]
    },
    {
      "cell_type": "code",
      "execution_count": null,
      "id": "47f0fb1e-1bf6-4a74-8d79-6804b6e5721e",
      "metadata": {
        "id": "47f0fb1e-1bf6-4a74-8d79-6804b6e5721e",
        "colab": {
          "base_uri": "https://localhost:8080/"
        },
        "outputId": "ff4a6324-139e-44f9-cf70-9b8e2a28d88c"
      },
      "outputs": [
        {
          "output_type": "stream",
          "name": "stdout",
          "text": [
            "Check Passed: Column 'returnData' does not exist.\n"
          ]
        }
      ],
      "source": [
        "# Check if 'returnData' column exists\n",
        "if 'returnData' in shot_data.columns:\n",
        "    # Replace NaN values in returnData column with an empty string\n",
        "    shot_data['returnData'].fillna('', inplace=True)\n",
        "\n",
        "    # Check if \"backhand\" or \"forehand\" is in returnData and update shotFhBh accordingly\n",
        "    shot_data.loc[shot_data['returnData'].str.contains('backhand', case=False), 'shotFhBh'] = 'Backhand'\n",
        "    shot_data.loc[shot_data['returnData'].str.contains('forehand', case=False), 'shotFhBh'] = 'Forehand'\n",
        "\n",
        "    # Check if \"Crosscourt\" or \"Down the Line\" is in returnData and update shotDirection accordingly\n",
        "    shot_data.loc[shot_data['returnData'].str.contains('Crosscourt', case=False), 'shotDirection'] = 'Crosscourt'\n",
        "    shot_data.loc[shot_data['returnData'].str.contains('Down the Line', case=False), 'shotDirection'] = 'Down the Line'\n",
        "\n",
        "    # Display the modified shot_data\n",
        "    print(shot_data[['returnData', 'shotDirection', 'shotFhBh']].head(10))\n",
        "else:\n",
        "    print(\"Check Passed: Column 'returnData' does not exist.\")\n"
      ]
    },
    {
      "cell_type": "markdown",
      "id": "f3aabeea-30c8-456f-94f2-bfe4bb5909c8",
      "metadata": {
        "id": "f3aabeea-30c8-456f-94f2-bfe4bb5909c8"
      },
      "source": [
        "## Error Check 2:\n",
        "#### Change ShotType column to shotFhBh column if using old tagger"
      ]
    },
    {
      "cell_type": "code",
      "execution_count": null,
      "id": "06a0b5e9-080c-4390-a093-bd3314d2db49",
      "metadata": {
        "id": "06a0b5e9-080c-4390-a093-bd3314d2db49",
        "colab": {
          "base_uri": "https://localhost:8080/"
        },
        "outputId": "b824f101-cae8-4f14-e203-32afcd50f2d1"
      },
      "outputs": [
        {
          "output_type": "stream",
          "name": "stdout",
          "text": [
            "Column renamed successfully.\n"
          ]
        }
      ],
      "source": [
        "if 'shotType' in shot_data.columns:\n",
        "    # Rename the column\n",
        "    shot_data.rename(columns={'shotType': 'shotFhBh'}, inplace=True)\n",
        "    print(\"Column renamed successfully.\")\n",
        "else:\n",
        "    print(\"Check Passed: Column 'shotType' does not exist.\")"
      ]
    },
    {
      "cell_type": "markdown",
      "id": "a0f3181a-b9eb-4922-b9a4-475f876a529e",
      "metadata": {
        "id": "a0f3181a-b9eb-4922-b9a4-475f876a529e"
      },
      "source": [
        "## Error Check 3:\n",
        "#### From Old Tagger, check that shotFhBh doesn't include Direction and Fh/Bh"
      ]
    },
    {
      "cell_type": "code",
      "execution_count": null,
      "id": "d6d40c54-7290-436e-86a1-5d2c16e3eeff",
      "metadata": {
        "id": "d6d40c54-7290-436e-86a1-5d2c16e3eeff",
        "colab": {
          "base_uri": "https://localhost:8080/"
        },
        "outputId": "3bd1ab67-95a2-4839-93d8-8561cccd17d0"
      },
      "outputs": [
        {
          "output_type": "stream",
          "name": "stdout",
          "text": [
            "   shotDirection  shotFhBh\n",
            "0            NaN       NaN\n",
            "1  Down the Line  Backhand\n",
            "2            NaN       NaN\n",
            "3     Crosscourt  Backhand\n",
            "4     Crosscourt  Backhand\n",
            "5            NaN       NaN\n",
            "6  Down the Line  Backhand\n",
            "7     Crosscourt  Backhand\n",
            "8     Crosscourt  Forehand\n",
            "9            NaN       NaN\n"
          ]
        }
      ],
      "source": [
        "shot_data.loc[shot_data['shotFhBh'] == 'Forehand Crosscourt', 'shotDirection'] = 'Crosscourt'\n",
        "shot_data.loc[shot_data['shotFhBh'] == 'Forehand Crosscourt', 'shotFhBh'] = 'Forehand'\n",
        "\n",
        "shot_data.loc[shot_data['shotFhBh'] == 'Backhand Crosscourt', 'shotDirection'] = 'Crosscourt'\n",
        "shot_data.loc[shot_data['shotFhBh'] == 'Backhand Crosscourt', 'shotFhBh'] = 'Backhand'\n",
        "\n",
        "shot_data.loc[shot_data['shotFhBh'] == 'Forehand Down the Line', 'shotDirection'] = 'Down the Line'\n",
        "shot_data.loc[shot_data['shotFhBh'] == 'Forehand Down the Line', 'shotFhBh'] = 'Forehand'\n",
        "\n",
        "shot_data.loc[shot_data['shotFhBh'] == 'Backhand Down the Line', 'shotDirection'] = 'Down the Line'\n",
        "shot_data.loc[shot_data['shotFhBh'] == 'Backhand Down the Line', 'shotFhBh'] = 'Backhand'\n",
        "\n",
        "print(shot_data[['shotDirection', 'shotFhBh']].head(10))"
      ]
    },
    {
      "cell_type": "markdown",
      "id": "09cac2b0-cff4-4f94-a880-375f3fe3cb29",
      "metadata": {
        "id": "09cac2b0-cff4-4f94-a880-375f3fe3cb29"
      },
      "source": [
        "# CHANGED\n",
        "## Error Check 4:\n",
        "#### Check that Player1Name and Player2Name have values"
      ]
    },
    {
      "cell_type": "code",
      "execution_count": null,
      "id": "0396fcbc-16a4-47fc-a751-ff80e2752516",
      "metadata": {
        "id": "0396fcbc-16a4-47fc-a751-ff80e2752516",
        "colab": {
          "base_uri": "https://localhost:8080/"
        },
        "outputId": "b18b72f8-4fdf-4081-9141-cb30b7e12481"
      },
      "outputs": [
        {
          "output_type": "stream",
          "name": "stdout",
          "text": [
            "Check Passed: teamAplayer1Name is not blank. Current value: Spencer Johnson\n",
            "Check Passed: teamAplayer2Name is not blank. Current value: Emon van Loben Sels\n",
            "Check Passed: teamBplayer1Name is not blank. Current value: Karl Lee\n",
            "Check Passed: teamAplayer1Name is not blank. Current value: Samuel Rubell\n"
          ]
        }
      ],
      "source": [
        "# Fill in missing values for teamAPlayer1\n",
        "\n",
        "fillInteamAPlayer1Name = \"Choose_teamAPlayer1Name_Here\"\n",
        "fillInteamAPlayer2Name = \"Choose_teamAPlayer2Name_Here\"\n",
        "fillInteamBPlayer1Name = \"Choose_teamBPlayer1Name_Here\"\n",
        "fillInteamBPlayer2Name = \"Choose_teamBPlayer2Name_Here\"\n",
        "\n",
        "#teamAPlayer1\n",
        "if shot_data.at[0, 'teamAPlayer1'] == None:\n",
        "    print(\"teamAPlayer1 was blank. Filling with 'fillinteamAPlayer1\")\n",
        "    shot_data['teamAPlayer1'].fillna('Fill_In_Value', inplace=True)\n",
        "else:\n",
        "    print(\"Check Passed: teamAplayer1Name is not blank. Current value:\", shot_data.at[0, 'teamAPlayer1'])\n",
        "\n",
        "# teamAPlayer2\n",
        "if shot_data.at[0, 'teamAPlayer2'] == None:\n",
        "    print(\"teamAPlayer2 was blank. Filling with 'fillinteamAPlayer2\")\n",
        "    shot_data['teamAPlayer2'].fillna('Fill_In_Value', inplace=True)\n",
        "else:\n",
        "    print(\"Check Passed: teamAplayer2Name is not blank. Current value:\", shot_data.at[0, 'teamAPlayer2'])\n",
        "\n",
        "# teamBPlayer1\n",
        "if shot_data.at[0, 'teamBPlayer1'] == None:\n",
        "    print(\"teamBPlayer1 was blank. Filling with 'fillinteamBPlayer1\")\n",
        "    shot_data['teamBPlayer1'].fillna('Fill_In_Value', inplace=True)\n",
        "else:\n",
        "    print(\"Check Passed: teamBplayer1Name is not blank. Current value:\", shot_data.at[0, 'teamBPlayer1'])\n",
        "\n",
        "# teamBPlayer2\n",
        "if shot_data.at[0, 'teamBPlayer2'] == None:\n",
        "    print(\"teamBPlayer2 was blank. Filling with 'fillinteamBPlayer2\")\n",
        "    shot_data['teamBPlayer2'].fillna('Fill_In_Value', inplace=True)\n",
        "else:\n",
        "    print(\"Check Passed: teamAplayer1Name is not blank. Current value:\", shot_data.at[0, 'teamBPlayer2'])"
      ]
    },
    {
      "cell_type": "markdown",
      "id": "83cb5916-17e3-4620-b894-2cdfa9bf0747",
      "metadata": {
        "id": "83cb5916-17e3-4620-b894-2cdfa9bf0747"
      },
      "source": [
        "## Error Check 5:\n",
        "#### Check if there are missing 'Deuce' or 'Ad' sides in side column"
      ]
    },
    {
      "cell_type": "code",
      "execution_count": null,
      "id": "3d7232e3-95e2-4c74-954d-4d526e13d33d",
      "metadata": {
        "id": "3d7232e3-95e2-4c74-954d-4d526e13d33d",
        "colab": {
          "base_uri": "https://localhost:8080/"
        },
        "outputId": "1e3afa90-94cd-46b3-ff83-7ff7e03fbd02"
      },
      "outputs": [
        {
          "output_type": "stream",
          "name": "stdout",
          "text": [
            "Rows with Side that aren't Deuce or Ad: 0\n"
          ]
        }
      ],
      "source": [
        "# Filter out rows with 'side' values other than 'Deuce' and 'Ad'\n",
        "filtered_data = shot_data[shot_data['side'].isin(['Deuce', 'Ad'])]\n",
        "\n",
        "# Rows that don't meet the condition\n",
        "rows_not_meeting_condition = shot_data[~shot_data['side'].isin(['Deuce', 'Ad'])]\n",
        "\n",
        "# Count of rows not meeting the condition\n",
        "count_rows_not_meeting_condition = len(rows_not_meeting_condition)\n",
        "\n",
        "print(\"Rows with Side that aren't Deuce or Ad:\", count_rows_not_meeting_condition)\n",
        "\n",
        "# Output rows if you want to see which rows\n",
        "# print(\"Rows not meeting the condition:\")\n",
        "# print(rows_not_meeting_condition)\n"
      ]
    },
    {
      "cell_type": "code",
      "execution_count": null,
      "id": "175c644d-ffdc-4c76-8429-9115d001c13c",
      "metadata": {
        "id": "175c644d-ffdc-4c76-8429-9115d001c13c",
        "colab": {
          "base_uri": "https://localhost:8080/"
        },
        "outputId": "ffc0b558-c27c-405e-c5db-03883ae01989"
      },
      "outputs": [
        {
          "output_type": "stream",
          "name": "stdout",
          "text": [
            "Data had missing point numbers. They were filled in automatically\n"
          ]
        }
      ],
      "source": [
        " # Check if both conditions passed\n",
        "if 'pointNumber' in shot_data.columns and not shot_data['pointNumber'].isnull().any() and shot_data['pointNumber'].is_monotonic_increasing:\n",
        "    print(\"Check Passed: Point Numbers already exist\")\n",
        "\n",
        "\n",
        "# Check if pointNumber exists for every row and is not empty\n",
        "if 'pointNumber' not in shot_data.columns or shot_data['pointNumber'].isnull().any():\n",
        "    # Execute the script to calculate pointNumber\n",
        "    point_starts = (shot_data['isPointStart'] == 1)\n",
        "    shot_data['pointNumber'] = point_starts.cumsum()\n",
        "\n",
        "    print(\"Data had missing point numbers. They were filled in automatically\")\n",
        "\n",
        "# Check if pointNumber is in increasing order\n",
        "if not shot_data['pointNumber'].is_monotonic_increasing:\n",
        "    # Print the condition failure if the 'pointNumber' column is not in increasing order\n",
        "    print(\"Data had point numbers in the wrong order. They were filled in automatically\")\n",
        "    point_starts = (shot_data['isPointStart'] == 1)\n",
        "    shot_data['pointNumber'] = point_starts.cumsum()\n"
      ]
    },
    {
      "cell_type": "markdown",
      "id": "a5be8eab",
      "metadata": {
        "id": "a5be8eab"
      },
      "source": [
        "## Error Check 6:\n",
        "\n",
        "1.   List item\n",
        "2.   List item\n",
        "\n",
        "\n",
        "#### Fills in PointNumber if not there"
      ]
    },
    {
      "cell_type": "code",
      "execution_count": null,
      "id": "38151b56-3c39-479a-834d-ebf2b5dc45b7",
      "metadata": {
        "id": "38151b56-3c39-479a-834d-ebf2b5dc45b7",
        "colab": {
          "base_uri": "https://localhost:8080/"
        },
        "outputId": "77a3b7ad-9ef9-431c-e52b-d5adb6fac9a5"
      },
      "outputs": [
        {
          "output_type": "stream",
          "name": "stdout",
          "text": [
            "Check Passed: All rows have pointNumber\n"
          ]
        }
      ],
      "source": [
        "missing_pointNumber_rows = shot_data[shot_data['pointNumber'].isnull()]\n",
        "\n",
        "# Check if there are missing rows\n",
        "if len(missing_pointNumber_rows) == 0:\n",
        "    print(\"Check Passed: All rows have pointNumber\")\n",
        "else:\n",
        "    print(f\"Count of rows missing 'pointNumber': {len(missing_pointNumber_rows)}\")"
      ]
    },
    {
      "cell_type": "markdown",
      "source": [
        "## Error Check 6.5:\n",
        "\n",
        "1. Check to see that isVolley and isPoach are indeed a column\n",
        "2. Check to make sure that each isPoach value occurs when isVolley is true\n",
        "3. ...\n",
        "\n"
      ],
      "metadata": {
        "id": "2B0JWiKt5Wws"
      },
      "id": "2B0JWiKt5Wws"
    },
    {
      "cell_type": "code",
      "source": [
        "# Truth variables\n",
        "isVolleyExists = False\n",
        "isPoachExists = False\n",
        "\n",
        "# Check to see if \"isVolley\" is a column\n",
        "if 'isVolley' in shot_data.columns:\n",
        "    isVolleyExists = True\n",
        "    print(\"Check Passed: isVolley is a column. \\n\")\n",
        "else:\n",
        "    print(\"Error: isVolley is not a column. \\n\")\n",
        "\n",
        "\n",
        "# Check to see if \"isPoach\" is a column\n",
        "if 'isPoach' in shot_data.columns:\n",
        "    isPoachExists = True\n",
        "    print(\"Check Passed: isPoach is a column. \\n\")\n",
        "else:\n",
        "    print(\"Error: isPoach is not a column. \\n\")\n",
        "\n",
        "\n",
        "# Only execute the following code when Volley and Poach columns exist:\n",
        "if isVolleyExists and isPoachExists:\n",
        "  error_rows = []\n",
        "\n",
        "  # Iterate through shot_data, check each row for the error\n",
        "  for index, row in shot_data.iterrows():\n",
        "    if row['isPoach'] == 1 and row['isVolley'] != 1:\n",
        "      error_rows.append(row)\n",
        "\n",
        "  # Display results\n",
        "  if not error_rows:\n",
        "    print(\"Check Passed: all isPoach 1's correspond to a isVolley 1.\")\n",
        "  else:\n",
        "    print(\"Error: the following row(s) have a 1 in isPoach but do not have a 1 in isVolley.\")\n",
        "    print(pd.DataFrame(error_rows))  # Print the DataFrame of error rows\n"
      ],
      "metadata": {
        "id": "823jzG-b5y2s",
        "colab": {
          "base_uri": "https://localhost:8080/"
        },
        "outputId": "1744d578-e7c0-4d1e-e52a-9a2528303aa1"
      },
      "id": "823jzG-b5y2s",
      "execution_count": null,
      "outputs": [
        {
          "output_type": "stream",
          "name": "stdout",
          "text": [
            "Check Passed: isVolley is a column. \n",
            "\n",
            "Check Passed: isPoach is a column. \n",
            "\n",
            "Check Passed: all isPoach 1's correspond to a isVolley 1.\n"
          ]
        }
      ]
    },
    {
      "cell_type": "markdown",
      "id": "92345c3f-1893-4b78-bffe-b5fe9877995e",
      "metadata": {
        "id": "92345c3f-1893-4b78-bffe-b5fe9877995e"
      },
      "source": [
        "## Add Column:\n",
        "#### player1Hand, player2Hand"
      ]
    },
    {
      "cell_type": "code",
      "execution_count": null,
      "id": "af9a7917-6704-49d6-9b23-e3d60270f8d9",
      "metadata": {
        "id": "af9a7917-6704-49d6-9b23-e3d60270f8d9",
        "colab": {
          "base_uri": "https://localhost:8080/"
        },
        "outputId": "8d72f3b6-c7fb-4769-e4e2-eb542bb602a6"
      },
      "outputs": [
        {
          "output_type": "stream",
          "name": "stdout",
          "text": [
            "Check Passed: teamAPlayer1Hand is not blank. Current value: Left\n",
            "Check Passed: teamAplayer2Hand is not blank. Current value: Right\n",
            "Check Passed: teamBplayer1Hand is not blank. Current value: Right\n",
            "Check Passed: teamBplayer2Hand is not blank. Current value: Right\n",
            "Player1Hand Current value: Left\n",
            "Player2Hand Current value: Right\n"
          ]
        }
      ],
      "source": [
        "fillInteamAplayer1Hand = \"Right\"\n",
        "fillInteamAplayer2Hand = \"Right\"\n",
        "fillInteamBplayer1Hand = \"Right\"\n",
        "fillInteamBplayer2Hand = \"Right\"\n",
        "\n",
        "# Check if teamAplayer1Hand key exists in shot_data, if not, create it\n",
        "if 'teamAPlayer1Hand' not in shot_data:\n",
        "    shot_data['teamAPlayer1Hand'] = None\n",
        "\n",
        "# Check if teamAplayer2Hand key exists in shot_data, if not, create it\n",
        "if 'teamAPlayer2Hand' not in shot_data:\n",
        "    shot_data['teamAPlayer2Hand'] = None\n",
        "\n",
        "# Check if teambplayer1Hand key exists in shot_data, if not, create it\n",
        "if 'teamBPlayer1Hand' not in shot_data:\n",
        "    shot_data['teamBPlayer1Hand'] = None\n",
        "\n",
        "# Check if teamBplayer2Hand key exists in shot_data, if not, create it\n",
        "if 'teamBPlayer2Hand' not in shot_data:\n",
        "    shot_data['teamBPlayer2Hand'] = None\n",
        "\n",
        "if shot_data.at[0, 'teamAPlayer1Hand'] == None:\n",
        "    print(\"teamAPlayer1Hand was blank. Filling with 'fillInteamAPlayer1Hand'\")\n",
        "    shot_data.at[0, 'teamAPlayer1Hand'] = fillInteamAplayer1Hand\n",
        "else:\n",
        "    print(\"Check Passed: teamAPlayer1Hand is not blank. Current value:\", shot_data.at[0, 'teamAPlayer1Hand'])\n",
        "\n",
        "# Check if player2Hand is blank, if so, fill it with 'fillInplayer2Hand'\n",
        "if shot_data.at[0, 'teamAPlayer2Hand'] == None:\n",
        "    print(\"teamAPlayer2Hand was blank. Filling with 'fillInteamAPlayer2Hand'\")\n",
        "    shot_data.at[0, 'teamAPlayer2Hand'] = fillInteamAplayer2Hand\n",
        "else:\n",
        "    print(\"Check Passed: teamAplayer2Hand is not blank. Current value:\", shot_data.at[0, 'teamAPlayer2Hand'])\n",
        "\n",
        "if shot_data.at[0, 'teamBPlayer1Hand'] == None:\n",
        "    print(\"teamBplayer1Hand was blank. Filling with 'fillInteamBplayer1Hand'\")\n",
        "    shot_data.at[0, 'teamBPlayer1Hand'] = fillInteamBplayer1Hand\n",
        "else:\n",
        "    print(\"Check Passed: teamBplayer1Hand is not blank. Current value:\", shot_data.at[0, 'teamBPlayer1Hand'])\n",
        "\n",
        "# Check if player2Hand is blank, if so, fill it with 'fillInplayer2Hand'\n",
        "if shot_data.at[0, 'teamBPlayer2Hand'] == None:\n",
        "    print(\"teamBplayer2Hand was blank. Filling with 'fillInteamBplayer2Hand'\")\n",
        "    shot_data.at[0, 'teamBPlayer2Hand'] = fillInteamBplayer2Hand\n",
        "else:\n",
        "    print(\"Check Passed: teamBplayer2Hand is not blank. Current value:\", shot_data.at[0, 'teamBPlayer2Hand'])\n",
        "\n",
        "\n",
        "print(\"Player1Hand Current value:\", shot_data.at[0, 'teamAPlayer1Hand'])\n",
        "print(\"Player2Hand Current value:\", shot_data.at[0, 'teamAPlayer2Hand'])"
      ]
    },
    {
      "cell_type": "markdown",
      "id": "88189a3e-a8af-4c0c-b620-770e628a6bd9",
      "metadata": {
        "id": "88189a3e-a8af-4c0c-b620-770e628a6bd9"
      },
      "source": [
        "### Filling Columns: Forward Fill\n",
        "- 'gameScore'\n",
        "- 'setScore'\n",
        "- 'serverName'\n",
        "- 'teamAPlayer1'\n",
        "- 'teamAPlayer2'\n",
        "- 'teamBPlayer1'\n",
        "- 'teamBPlayer2'\n",
        "- 'teamAPlayer1Hand'\n",
        "- 'teamAPlayer2Hand'\n",
        "- 'teamBPlayer1Hand'\n",
        "- 'teamBPlayer2Hand'\n",
        "\n",
        "# Forward Fill GameScore, SetScore, tiebreakScore, serverName, player1Name, player2Name"
      ]
    },
    {
      "cell_type": "code",
      "execution_count": null,
      "id": "203b5a5e-9f55-429f-87dd-a7807cb76b7a",
      "metadata": {
        "id": "203b5a5e-9f55-429f-87dd-a7807cb76b7a",
        "colab": {
          "base_uri": "https://localhost:8080/"
        },
        "outputId": "41fde804-3d29-446c-b05b-4f236af5a5b2"
      },
      "outputs": [
        {
          "output_type": "stream",
          "name": "stdout",
          "text": [
            "Sucessful\n",
            "Sucessful\n",
            "Sucessful\n",
            "Sucessful\n",
            "Sucessful\n",
            "Sucessful\n",
            "Sucessful\n",
            "Sucessful\n",
            "Sucessful\n",
            "Sucessful\n",
            "Sucessful\n"
          ]
        }
      ],
      "source": [
        "columns_to_fill = ['gameScore','setScore', 'serverName', 'teamAPlayer1', 'teamAPlayer2','teamBPlayer1', 'teamBPlayer2', 'teamAPlayer1Hand', 'teamAPlayer2Hand',\n",
        "                   'teamBPlayer1Hand', 'teamBPlayer2Hand']\n",
        "# columns_to_fill = ['gameScore','setScore', 'tiebreakScore', 'serverName', 'player1Name', 'player2Name']\n",
        "# Add player1Hand, player2Hand when it is in tagger\n",
        "\n",
        "for column in columns_to_fill:\n",
        "    shot_data[column].replace(['', 'na'], pd.NaT, inplace=True)\n",
        "    shot_data[column] = shot_data[column].ffill()\n",
        "    print(\"Sucessful\")"
      ]
    },
    {
      "cell_type": "markdown",
      "id": "6d443221-db14-4598-bf2a-664dd32489f3",
      "metadata": {
        "id": "6d443221-db14-4598-bf2a-664dd32489f3"
      },
      "source": [
        "## Error Check 7:\n",
        "#### Check for NA's\n",
        "\n",
        "- all 0, except missing pointScore should match amount of tiebreak shots\n",
        "- side can have missing, for old tagger and not tagging side of each shot\n",
        "\n",
        "### Fixing:\n",
        "- Open CSV in Google Sheets (Excel will change to date format), output game, set, point Score of missing values. Then find in google sheets, adjust, redownload, and re-upload into notebook"
      ]
    },
    {
      "cell_type": "code",
      "execution_count": null,
      "id": "4ad4d3f7-6338-4e0b-a01a-683d3db80aee",
      "metadata": {
        "id": "4ad4d3f7-6338-4e0b-a01a-683d3db80aee",
        "colab": {
          "base_uri": "https://localhost:8080/"
        },
        "outputId": "349811f9-5d6c-46fa-e9d0-8ccb7e41292a"
      },
      "outputs": [
        {
          "output_type": "stream",
          "name": "stdout",
          "text": [
            "\n",
            "Count of NaN values for 'side' on Point Start: 0\n",
            "\n",
            "Count of Nan when gameScore is '6-6' (# tiebreak shots): 0\n",
            "\n",
            "Count of NA's in these columns\n",
            "pointScore     42\n",
            "shotInRally     0\n",
            "gameScore       0\n",
            "setScore        0\n",
            "side            0\n",
            "serverName      0\n",
            "dtype: int64\n",
            "Count of empty strings in each column that includes at least one:\n",
            "Series([], dtype: int64)\n"
          ]
        }
      ],
      "source": [
        "# Count empty strings in each column\n",
        "empty_string_counts = (shot_data == \"\").sum()\n",
        "\n",
        "# Filter out columns with zero empty strings\n",
        "non_zero_counts = empty_string_counts[empty_string_counts > 0]\n",
        "\n",
        "# Count NaN values in 'pointScore' column when 'gameScore' is '6-6'\n",
        "na_tiebreak_count = shot_data.loc[shot_data['gameScore'] == '6-6', 'pointScore'].isna().sum()\n",
        "\n",
        "side_na_count = shot_data.loc[shot_data['isPointStart'] == 1, 'side'].isna().sum()\n",
        "print(\"\\nCount of NaN values for 'side' on Point Start:\", side_na_count)\n",
        "\n",
        "# Display the count\n",
        "print(\"\\nCount of Nan when gameScore is '6-6' (# tiebreak shots):\", na_tiebreak_count)\n",
        "\n",
        "\n",
        "# Count NaN or empty values in specified columns\n",
        "na_counts = shot_data[[ 'pointScore', 'shotInRally', 'gameScore', 'setScore', 'side', 'serverName']].isna().sum()\n",
        "\n",
        "# Display the counts\n",
        "print(f\"\\nCount of NA's in these columns\\n{na_counts}\")\n",
        "\n",
        "# Display the counts\n",
        "print(\"Count of empty strings in each column that includes at least one:\")\n",
        "print(non_zero_counts)\n",
        "\n"
      ]
    },
    {
      "cell_type": "markdown",
      "id": "308083c2-bed5-4ca9-a778-b96432ccdf2c",
      "metadata": {
        "id": "308083c2-bed5-4ca9-a778-b96432ccdf2c"
      },
      "source": [
        "## Error Check 8:\n",
        "####  rows where side is empty\n",
        "- If side missing, focus on rows where (shotInRally == 1) and returns (shotInRally == 2 ), anything else can leave NA"
      ]
    },
    {
      "cell_type": "code",
      "execution_count": null,
      "id": "1f1e630e-9578-4a13-a712-4bb4f348c001",
      "metadata": {
        "id": "1f1e630e-9578-4a13-a712-4bb4f348c001",
        "colab": {
          "base_uri": "https://localhost:8080/"
        },
        "outputId": "0e2aeb10-6759-492b-98cd-cae56fbc5b45"
      },
      "outputs": [
        {
          "output_type": "stream",
          "name": "stdout",
          "text": [
            "Empty DataFrame\n",
            "Columns: [pointScore, gameScore, setScore, side, shotInRally]\n",
            "Index: []\n"
          ]
        }
      ],
      "source": [
        "print(shot_data[shot_data[\"side\"].isnull()][['pointScore', 'gameScore', 'setScore','side', 'shotInRally']])"
      ]
    },
    {
      "cell_type": "markdown",
      "id": "03d9caf3-3614-4b70-b81b-33bb7df7cec3",
      "metadata": {
        "id": "03d9caf3-3614-4b70-b81b-33bb7df7cec3"
      },
      "source": [
        "## Error Check 9:\n",
        "####  Outputs Missing shotInRally Rows"
      ]
    },
    {
      "cell_type": "code",
      "execution_count": null,
      "id": "1c8e3ec9-bc77-4ba1-925d-e1d3ad8f75f9",
      "metadata": {
        "id": "1c8e3ec9-bc77-4ba1-925d-e1d3ad8f75f9",
        "colab": {
          "base_uri": "https://localhost:8080/"
        },
        "outputId": "1a66725d-6ca1-48eb-8a4a-1ba640e3bdf2"
      },
      "outputs": [
        {
          "output_type": "stream",
          "name": "stdout",
          "text": [
            "Check Passed: No Missing shotInRally\n"
          ]
        }
      ],
      "source": [
        "empty_shot_rows = shot_data[shot_data['shotInRally'].isnull()]\n",
        "\n",
        "if not empty_shot_rows.empty:\n",
        "    # Iterate over the index of empty_shot_rows\n",
        "    for index in empty_shot_rows.index:\n",
        "        # Get the row with empty shotInRally\n",
        "        empty_row = shot_data.loc[index]\n",
        "\n",
        "        # Get the row above it\n",
        "        if index - 1 >= 0:\n",
        "            above_row = shot_data.loc[index - 1]\n",
        "        else:\n",
        "            above_row = None\n",
        "\n",
        "        # Get the row below it\n",
        "        if index + 1 < len(shot_data):\n",
        "            below_row = shot_data.loc[index + 1]\n",
        "        else:\n",
        "            below_row = None\n",
        "\n",
        "        # Print the rows\n",
        "        print(\"Empty row:\")\n",
        "        print(empty_row)\n",
        "        print(\"Row above:\")\n",
        "        print(above_row)\n",
        "        print(\"Row below:\")\n",
        "        print(below_row)\n",
        "        print(\"====================\")\n",
        "else:\n",
        "    print(\"Check Passed: No Missing shotInRally\")\n"
      ]
    },
    {
      "cell_type": "markdown",
      "id": "45a917fe-c252-4ca8-ba40-c0b69b5f5b96",
      "metadata": {
        "id": "45a917fe-c252-4ca8-ba40-c0b69b5f5b96"
      },
      "source": [
        "## Error Check 10:\n",
        "####  Check that pointNumber is increasing consecutively\n",
        "\n",
        "- if video is bad and points are cut out, this can fail and that's ok."
      ]
    },
    {
      "cell_type": "code",
      "execution_count": null,
      "id": "381a01d7-3e2f-409c-a26b-d7c17e732e76",
      "metadata": {
        "id": "381a01d7-3e2f-409c-a26b-d7c17e732e76",
        "colab": {
          "base_uri": "https://localhost:8080/"
        },
        "outputId": "ac2de140-477d-4d92-d65e-5da92c0824bf"
      },
      "outputs": [
        {
          "output_type": "stream",
          "name": "stdout",
          "text": [
            "Check Passed\n"
          ]
        }
      ],
      "source": [
        "point_numbers = shot_data['pointNumber'].unique()\n",
        "\n",
        "# Check if the point numbers are consecutive\n",
        "if list(point_numbers) == list(range(1, len(point_numbers) + 1)):\n",
        "    print(\"Check Passed\")\n",
        "else:\n",
        "    raise ValueError(\"Error: The 'pointNumber' column does not contain consecutive numbers starting from 1.\")\n"
      ]
    },
    {
      "cell_type": "markdown",
      "id": "74f2bd4e-0ef1-45f9-8eb3-1bce987236a8",
      "metadata": {
        "id": "74f2bd4e-0ef1-45f9-8eb3-1bce987236a8"
      },
      "source": [
        "## Error Check 11:\n",
        "#### Check same amount of start and end points"
      ]
    },
    {
      "cell_type": "code",
      "execution_count": null,
      "id": "39dfe584-dd93-4f76-ad43-9b536e3bcf88",
      "metadata": {
        "id": "39dfe584-dd93-4f76-ad43-9b536e3bcf88",
        "colab": {
          "base_uri": "https://localhost:8080/"
        },
        "outputId": "54954657-77bf-4102-8d6c-7b892ac95fd7"
      },
      "outputs": [
        {
          "output_type": "stream",
          "name": "stdout",
          "text": [
            "Number of rows with isPointStart = 1: 75.0\n",
            "Number of rows with isPointEnd = 1: 75.0\n"
          ]
        }
      ],
      "source": [
        "# Count of Point Start and Point End\n",
        "num_point_start = shot_data['isPointStart'].sum()\n",
        "\n",
        "# Count the number of rows where isPointEnd is equal to 1\n",
        "num_point_end = shot_data['isPointEnd'].sum()\n",
        "\n",
        "print(\"Number of rows with isPointStart = 1:\", num_point_start)\n",
        "print(\"Number of rows with isPointEnd = 1:\", num_point_end)"
      ]
    },
    {
      "cell_type": "markdown",
      "id": "5b82b4e8-e193-4430-b643-486afd26366e",
      "metadata": {
        "id": "5b82b4e8-e193-4430-b643-486afd26366e"
      },
      "source": [
        "## Error Check 12:\n",
        "#### Output consecutive isPointStart with no isPointEnd, and vice versa for isPointEnd\n"
      ]
    },
    {
      "cell_type": "code",
      "execution_count": null,
      "id": "cec761ed",
      "metadata": {
        "id": "cec761ed",
        "colab": {
          "base_uri": "https://localhost:8080/"
        },
        "outputId": "8cdf10f4-1c3b-4664-d9f9-644a974ab22f"
      },
      "outputs": [
        {
          "output_type": "stream",
          "name": "stdout",
          "text": [
            "Total count where isPointStart = 1: 75\n",
            "Total count where isPointEnd = 1: 75\n",
            "All isPointStart have corresponding isPointEnd.\n",
            "All isPointEnd have corresponding isPointStart.\n"
          ]
        },
        {
          "output_type": "execute_result",
          "data": {
            "text/plain": [
              "True"
            ]
          },
          "metadata": {},
          "execution_count": 19
        }
      ],
      "source": [
        "# Shubhan\n",
        "\n",
        "# Output total start, total end\n",
        "# How many Points aren't enclosing between point start and point end\n",
        "\n",
        "# Count where isPointStart = 1\n",
        "count_isPointStart = (shot_data['isPointStart'] == 1).sum()\n",
        "\n",
        "# Count where isPointEnd = 1\n",
        "count_isPointEnd = (shot_data['isPointEnd'] == 1).sum()\n",
        "\n",
        "print(\"Total count where isPointStart = 1:\", count_isPointStart)\n",
        "print(\"Total count where isPointEnd = 1:\", count_isPointEnd)\n",
        "\n",
        "# Output Point/Game Scores where there is consecutive isPointStart with no isPointEnd\n",
        "def check_isPointStart_in_between(shot_data):\n",
        "    start_indices = shot_data.index[shot_data['isPointStart'] == 1]  # Get indices where isPointStart is True\n",
        "    end_indices = shot_data.index[shot_data['isPointEnd'] == 1]  # Get indices where isPointEnd is True\n",
        "    start_without_end = []\n",
        "\n",
        "    for i in range(len(start_indices) - 1):\n",
        "        current_start_index = start_indices[i]\n",
        "        next_start_index = start_indices[i + 1]\n",
        "\n",
        "        # Get all isPointEnd indices between current_start_index and next_start_index\n",
        "        end_between_starts = end_indices[(end_indices >= current_start_index) & (end_indices < next_start_index)]\n",
        "\n",
        "        # Check if there is at least one isPointEnd between current_start_index and next_start_index\n",
        "        if len(end_between_starts) == 0:\n",
        "            start_without_end.append(current_start_index)\n",
        "\n",
        "    # Check the last isPointStart\n",
        "    last_start_index = start_indices[-1]\n",
        "    end_after_last_start = end_indices[end_indices >= last_start_index]\n",
        "\n",
        "    if len(end_after_last_start) == 0:\n",
        "        start_without_end.append(last_start_index)\n",
        "\n",
        "    if start_without_end:\n",
        "        print(\" \")\n",
        "        print(\"isPointStart without corresponding isPointEnd:\")\n",
        "        for index in start_without_end:\n",
        "#             print(\"Index:\", index)\n",
        "#             print(\"pointScore:\", shot_data.at[index, 'pointScore'])\n",
        "#             print(\"gameScore:\", shot_data.at[index, 'gameScore'])\n",
        "#             print(\"setScore:\", shot_data.at[index, 'setScore'])\n",
        "            print(\" \")\n",
        "            print(shot_data.loc[start_without_end][['pointScore', 'gameScore', 'setScore', 'tiebreakScore', 'isPointStart']])\n",
        "            print(\" \")\n",
        "\n",
        "\n",
        "        return False\n",
        "    else:\n",
        "        print(\"All isPointStart have corresponding isPointEnd.\")\n",
        "        return True\n",
        "\n",
        "# Check if the condition is met\n",
        "check_isPointStart_in_between(shot_data)\n",
        "\n",
        "# Output Point/Game Scores where there is consecutive isPointEnd with no isPointStart\n",
        "def check_isPointEnd_in_between(shot_data):\n",
        "    start_indices = shot_data.index[shot_data['isPointStart'] == 1]  # Get indices where isPointStart is True\n",
        "    end_indices = shot_data.index[shot_data['isPointEnd'] == 1]  # Get indices where isPointEnd is True\n",
        "    end_without_start = []\n",
        "\n",
        "    for i in range(len(end_indices) - 1):\n",
        "        current_end_index = end_indices[i]\n",
        "        next_end_index = end_indices[i + 1]\n",
        "\n",
        "        # Get all isPointStart indices b/w current_end_index and next_end_index\n",
        "        start_between_ends = start_indices[(start_indices > current_end_index) & (start_indices <= next_end_index)]\n",
        "\n",
        "        # Check if there is at least one isPointStart between current_end_index and next_end_index\n",
        "        if len(start_between_ends) == 0:\n",
        "            end_without_start.append(current_end_index)\n",
        "\n",
        "    # NOTE: This will always append the last index of the sheet because the last end will never have a corresponding start so I'm not sure if its necessary to add it to the end_without_start array\n",
        "    # Check the last isPointStart\n",
        "    \"\"\"\n",
        "    last_end_index = end_indices[-1]\n",
        "    start_after_last_end = start_indices[start_indices >= last_end_index]\n",
        "\n",
        "    if len(start_after_last_end) == 0:\n",
        "        end_without_start.append(last_end_index)\n",
        "    \"\"\"\n",
        "\n",
        "    if end_without_start:\n",
        "        print(\"isPointEnd without corresponding isPointStart:\")\n",
        "#         for index in end_without_start:\n",
        "#             print(\"Index:\", index)\n",
        "#             print(\"pointScore:\", shot_data.at[index, 'pointScore'])\n",
        "#             print(\"gameScore:\", shot_data.at[index, 'gameScore'])\n",
        "#             print(\"setScore:\", shot_data.at[index, 'setScore'])\n",
        "#             print(\"setScore:\", shot_data.at[index, 'tiebreakScore'])\n",
        "\n",
        "        # Output the rows of shot_data that correspond to the indices in end_without_start\n",
        "        print(\" \")\n",
        "        print(shot_data.loc[end_without_start][['pointScore', 'gameScore', 'setScore', 'tiebreakScore', 'isPointEnd']])\n",
        "\n",
        "        return False\n",
        "    else:\n",
        "        print(\"All isPointEnd have corresponding isPointStart.\")\n",
        "        return True\n",
        "\n",
        "# Check if the condition is met\n",
        "check_isPointEnd_in_between(shot_data)"
      ]
    },
    {
      "cell_type": "markdown",
      "id": "3fec62fa",
      "metadata": {
        "id": "3fec62fa"
      },
      "source": [
        "## Error Check 14:\n",
        "#### Change the score from incorrect date format\n",
        "- accounts for all variations of dates eg. (0-00-0000, 0/0/0000)"
      ]
    },
    {
      "cell_type": "code",
      "execution_count": null,
      "id": "40ca3891",
      "metadata": {
        "id": "40ca3891"
      },
      "outputs": [],
      "source": [
        "## Error Check 13:\n",
        "#### Make Jan-00 back into 1-0 for Game/Set Score\n",
        "\n",
        "# Make Scores Strings not Date Time\n",
        "columns_to_convert = ['gameScore', 'setScore'] #if no tiebreakScore\n",
        "# columns_to_convert = ['gameScore', 'setScore', 'tiebreakScore']\n",
        "shot_data[columns_to_convert] = shot_data[columns_to_convert].astype(object)"
      ]
    },
    {
      "cell_type": "code",
      "execution_count": null,
      "id": "370044f2",
      "metadata": {
        "id": "370044f2"
      },
      "outputs": [],
      "source": [
        "import re\n",
        "\n",
        "# Define a mapping for month abbreviations\n",
        "month_mapping = {'Jan': '1', 'Feb': '2', 'Mar': '3', 'Apr': '4', 'May': '5', 'Jun': '6',\n",
        "                 'Jul': '7', 'Aug': '8', 'Sep': '9', 'Oct': '10', 'Nov': '11', 'Dec': '12'}\n",
        "\n",
        "# Function to convert string like 'Jan-00' to '1-0'\n",
        "def convert_score_string(score_str):\n",
        "    # Check if the input is a string\n",
        "    if not isinstance(score_str, str):\n",
        "        return score_str\n",
        "    # Check if the string has a month abbreviation and a year ending with '00'\n",
        "    if re.match(r'^\\d{1,2}-[A-Za-z]{3}$', score_str):\n",
        "        # Extract year and month abbreviation\n",
        "        year, month = score_str.split('-')\n",
        "\n",
        "        # Remove leading zeros from the year\n",
        "        year = str(int(year))\n",
        "\n",
        "        # Replace month abbreviation with corresponding number\n",
        "        month_number = month_mapping.get(month, month)\n",
        "\n",
        "        # Concatenate the parts to form the transformed string\n",
        "        transformed_str = f'{year}-{month_number}'\n",
        "        return transformed_str\n",
        "\n",
        "    # Check if the string has a month abbreviation and a year with leading '0's\n",
        "    elif re.match(r'^[A-Za-z]{3}-\\d{1,2}$', score_str):\n",
        "        # Extract month abbreviation and year\n",
        "        month, year = score_str.split('-')\n",
        "\n",
        "        # Replace month abbreviation with corresponding number\n",
        "        month_number = month_mapping.get(month, month)\n",
        "\n",
        "        # Remove leading zeros from the year\n",
        "        year = str(int(year))\n",
        "\n",
        "        # Concatenate the parts to form the transformed string\n",
        "        transformed_str = f'{month_number}-{year}'\n",
        "        return transformed_str\n",
        "\n",
        "    # Check if the string has a date in the format 'month/day/year'\n",
        "    elif re.match(r'^\\d{1,2}/\\d{1,2}/\\d{4}$', score_str):\n",
        "        # Extract month, day, and year\n",
        "        month, day, year = score_str.split('/')\n",
        "\n",
        "        # Remove leading zeros from month and day\n",
        "        month = str(int(month))\n",
        "        day = str(int(day))\n",
        "\n",
        "        # Concatenate the parts to form the transformed string\n",
        "        transformed_str = f'{month}-{day}'\n",
        "        return transformed_str\n",
        "\n",
        "    # Check if the string has a date in the format 'month-day-year'\n",
        "    elif re.match(r'^\\d{1,2}-\\d{1,2}-\\d{4}$', score_str):\n",
        "        # Extract month, day, and year\n",
        "        month, day, year = score_str.split('-')\n",
        "\n",
        "        # Remove leading zeros from month and day\n",
        "        month = str(int(month))\n",
        "        day = str(int(day))\n",
        "\n",
        "        # Concatenate the parts to form the transformed string\n",
        "        transformed_str = f'{month}-{day}'\n",
        "        return transformed_str\n",
        "\n",
        "    return score_str\n",
        "\n",
        "# Apply the conversion function to the relevant columns in shot_data\n",
        "shot_data['gameScore'] = shot_data['gameScore'].apply(convert_score_string)\n",
        "shot_data['setScore'] = shot_data['setScore'].apply(convert_score_string)\n",
        "# shot_data['tiebreakerScore'] = shot_data['tiebreakerScore'].apply(convert_score_string)\n"
      ]
    },
    {
      "cell_type": "markdown",
      "id": "d8522b57-d0cc-43fc-b08c-47768bae5231",
      "metadata": {
        "id": "d8522b57-d0cc-43fc-b08c-47768bae5231"
      },
      "source": [
        "## Error Check 15:\n",
        "#### Check that there is no strings in set, game scores."
      ]
    },
    {
      "cell_type": "code",
      "execution_count": null,
      "id": "6dc62692-a1a6-4d0c-9e3a-d15f3ce06b84",
      "metadata": {
        "id": "6dc62692-a1a6-4d0c-9e3a-d15f3ce06b84",
        "colab": {
          "base_uri": "https://localhost:8080/"
        },
        "outputId": "a5160fd1-3924-41da-e21c-22561c2f9875"
      },
      "outputs": [
        {
          "output_type": "stream",
          "name": "stdout",
          "text": [
            "Unique Set Scores: ['0-0']\n",
            "Unique Game Scores: ['0-0' '1-0' '1-1' '2-1' '1-2' '2-2' '2-3' '3-3' '3-4' '4-4' '4-5' '5-5'\n",
            " '5-6' '6-6']\n"
          ]
        }
      ],
      "source": [
        "# Assuming shot_data is your DataFrame\n",
        "unique_set_scores = shot_data['setScore'].unique()\n",
        "unique_game_scores = shot_data['gameScore'].unique()\n",
        "\n",
        "# Print unique values\n",
        "print(\"Unique Set Scores:\", unique_set_scores)\n",
        "print(\"Unique Game Scores:\", unique_game_scores)\n"
      ]
    },
    {
      "cell_type": "markdown",
      "id": "4c415b10",
      "metadata": {
        "id": "4c415b10"
      },
      "source": [
        "## Error Check 16 :\n",
        "### Print out all the rows where isPointStart time doesn't start in the beginning of a rally"
      ]
    },
    {
      "cell_type": "code",
      "execution_count": null,
      "id": "d9f6d0f2",
      "metadata": {
        "id": "d9f6d0f2",
        "colab": {
          "base_uri": "https://localhost:8080/"
        },
        "outputId": "83f52efa-4ff2-476b-d767-b1731db6c22d"
      },
      "outputs": [
        {
          "output_type": "stream",
          "name": "stdout",
          "text": [
            "Check passed.\n"
          ]
        }
      ],
      "source": [
        "# Filter the DataFrame\n",
        "filtered_rows = shot_data[(shot_data['isPointStart'] == 1) & (shot_data['shotInRally'] != 1)]\n",
        "\n",
        "# Print the filtered rows\n",
        "if filtered_rows.empty:\n",
        "    print (\"Check passed.\")\n",
        "else:\n",
        "    print(\"Rows where isPointStart = 1 and shotInRally != 1:\")\n",
        "    print(filtered_rows)\n"
      ]
    },
    {
      "cell_type": "markdown",
      "id": "dede4ccc",
      "metadata": {
        "id": "dede4ccc"
      },
      "source": [
        "## Error Check 17:\n",
        "### Find the rows where isPointEnd = 1 and shotInRally = 1 but is neither an ace or a double fault"
      ]
    },
    {
      "cell_type": "code",
      "execution_count": null,
      "id": "11411185",
      "metadata": {
        "id": "11411185",
        "colab": {
          "base_uri": "https://localhost:8080/"
        },
        "outputId": "71395a22-17b1-4cd4-ef51-b1316dd9f0fb"
      },
      "outputs": [
        {
          "output_type": "stream",
          "name": "stdout",
          "text": [
            "Rows where isPointEnd = 1, shotInRally = 1, firstServeIn and secondServeIn are both not 0, and isAce != 1:\n",
            "    pointScore gameScore setScore tiebreakScore  isPointStart  pointStartTime  \\\n",
            "72        0-30       2-2      0-0           NaN           1.0             NaN   \n",
            "75       30-30       2-2      0-0           NaN           1.0             NaN   \n",
            "76       40-30       2-2      0-0           NaN           1.0             NaN   \n",
            "134       15-0       4-4      0-0           NaN           1.0             NaN   \n",
            "\n",
            "     isPointEnd  pointEndTime  pointNumber  isBreakPoint  ...  \\\n",
            "72          1.0           NaN           23           NaN  ...   \n",
            "75          1.0           NaN           25           NaN  ...   \n",
            "76          1.0           NaN           26           NaN  ...   \n",
            "134         1.0           NaN           42           NaN  ...   \n",
            "\n",
            "     teamAPlayer1Hand teamAPlayer2Hand Data Error  teamBPlayer1  \\\n",
            "72               Left            Right        NaN      Karl Lee   \n",
            "75               Left            Right        NaN      Karl Lee   \n",
            "76               Left            Right        NaN      Karl Lee   \n",
            "134              Left            Right        NaN      Karl Lee   \n",
            "\n",
            "      teamBPlayer2  teamBPlayer1Hand  teamBPlayer2Hand  Round Surface  Notes  \n",
            "72   Samuel Rubell             Right             Right    NaN     NaN    NaN  \n",
            "75   Samuel Rubell             Right             Right    NaN     NaN    NaN  \n",
            "76   Samuel Rubell             Right             Right    NaN     NaN    NaN  \n",
            "134  Samuel Rubell             Right             Right    NaN     NaN    NaN  \n",
            "\n",
            "[4 rows x 70 columns]\n"
          ]
        }
      ],
      "source": [
        "# Filter the DataFrame\n",
        "filtered_rows = shot_data[\n",
        "    (shot_data['isPointEnd'] == 1) &\n",
        "    (shot_data['shotInRally'] == 1) &\n",
        "    (shot_data['firstServeIn'] != 0) &\n",
        "    (shot_data['secondServeIn'] != 0) &\n",
        "    (shot_data['isAce'] != 1)\n",
        "]\n",
        "\n",
        "# Print the filtered rows\n",
        "if filtered_rows.empty:\n",
        "    print (\"Check passed.\")\n",
        "else:\n",
        "    print(\"Rows where isPointEnd = 1, shotInRally = 1, firstServeIn and secondServeIn are both not 0, and isAce != 1:\")\n",
        "    print(filtered_rows)"
      ]
    },
    {
      "cell_type": "markdown",
      "id": "63e9d925",
      "metadata": {
        "id": "63e9d925"
      },
      "source": [
        "## Error Check 18:\n",
        "### Find all the rows where there are duplicate isPointStarts == 1 points\n",
        "- Finds all the points where the there are the same score and isPointStart == 1"
      ]
    },
    {
      "cell_type": "code",
      "execution_count": null,
      "id": "1cb75856",
      "metadata": {
        "id": "1cb75856",
        "colab": {
          "base_uri": "https://localhost:8080/"
        },
        "outputId": "36db53f4-7ffb-43d3-aec1-945d8102d0dc"
      },
      "outputs": [
        {
          "output_type": "stream",
          "name": "stdout",
          "text": [
            "Check passed.\n"
          ]
        }
      ],
      "source": [
        "# Filter the DataFrame\n",
        "filtered_rows = shot_data[shot_data['isPointStart'] == 1]\n",
        "\n",
        "# Output rows where isPointStart is 1 and pointScore, gameScore, and setScore have the same value\n",
        "output_rows = filtered_rows[filtered_rows.duplicated(subset=['pointScore', 'gameScore', 'setScore', 'tiebreakScore'], keep=False)]\n",
        "\n",
        "# Print the output rows\n",
        "if output_rows.empty:\n",
        "    print (\"Check passed.\")\n",
        "else:\n",
        "    print(\"Rows where isPointStart is 1 and pointScore, gameScore, and setScore have the same value:\")\n",
        "    print(output_rows[['pointScore', 'gameScore', 'setScore', 'tiebreakScore', 'isPointStart']])\n",
        "\n"
      ]
    },
    {
      "cell_type": "markdown",
      "id": "ae7b5b92",
      "metadata": {
        "id": "ae7b5b92"
      },
      "source": [
        "## Error Check 19:\n",
        "### Find all the rows where there are duplicate isPointEnd == 1 points\n",
        "- Finds all the points where the there are the same score and isPointEnd == 1"
      ]
    },
    {
      "cell_type": "code",
      "execution_count": null,
      "id": "d66627be",
      "metadata": {
        "id": "d66627be",
        "colab": {
          "base_uri": "https://localhost:8080/"
        },
        "outputId": "fa6f0931-a469-4c32-cde7-65c055f66777"
      },
      "outputs": [
        {
          "output_type": "stream",
          "name": "stdout",
          "text": [
            "Check passed.\n"
          ]
        }
      ],
      "source": [
        "# Filter the DataFrame\n",
        "filtered_rows = shot_data[shot_data['isPointEnd'] == 1]\n",
        "\n",
        "# Output rows where isPointStart is 1 and pointScore, gameScore, and setScore have the same value\n",
        "output_rows = filtered_rows[filtered_rows.duplicated(subset=['pointScore', 'gameScore', 'setScore', 'tiebreakScore'], keep=False)]\n",
        "\n",
        "# Print the output rows\n",
        "if output_rows.empty:\n",
        "    print (\"Check passed.\")\n",
        "else:\n",
        "    print(\"Rows where isPointEnd is 1 and pointScore, gameScore, and setScore have the same value:\")\n",
        "    print(output_rows[['pointScore', 'gameScore', 'setScore', 'tiebreakScore', 'isPointStart']])\n"
      ]
    },
    {
      "cell_type": "markdown",
      "id": "00bd1abd",
      "metadata": {
        "id": "00bd1abd"
      },
      "source": [
        "## Error Check 20:\n",
        "### Find all the rows where there is isPointEnd == 1 but there is no isWinner, isErrorWideL, isErrorWideR, isErrorNet, isErrorLong\n"
      ]
    },
    {
      "cell_type": "code",
      "execution_count": null,
      "id": "08215648",
      "metadata": {
        "id": "08215648",
        "colab": {
          "base_uri": "https://localhost:8080/"
        },
        "outputId": "bc7d2d33-6b5b-4fd6-d1ec-5aa98d5c4e51"
      },
      "outputs": [
        {
          "output_type": "stream",
          "name": "stdout",
          "text": [
            "Check passed.\n"
          ]
        }
      ],
      "source": [
        "filtered_rows = shot_data[(shot_data['isPointEnd'] == 1) &\n",
        "                          (shot_data['isWinner'] != 1) &\n",
        "                          (shot_data['isErrorWideL'] != 1) &\n",
        "                          (shot_data['isErrorWideR'] != 1) &\n",
        "                          (shot_data['isErrorNet'] != 1) &\n",
        "                          (shot_data['isErrorLong'] != 1) &\n",
        "                          (shot_data['firstServeIn'] != 0) &\n",
        "                          (shot_data['secondServeIn'] != 0)]\n",
        "\n",
        "if filtered_rows.empty:\n",
        "    print (\"Check passed.\")\n",
        "else:\n",
        "    print(\"Error: isPointEnd == 1 but there is no point end shot\")\n",
        "    print(filtered_rows[['pointScore', 'gameScore', 'setScore','isPointStart', 'isPointEnd', 'isWinner', 'isErrorWideL', 'isErrorWideR', 'isErrorNet', 'isErrorLong']])\n"
      ]
    },
    {
      "cell_type": "markdown",
      "source": [
        "## Error Check 21:\n",
        "### Check if shotHitBy column exists. If it does replace empty values in shotHitBy column with string \"NA\"\n"
      ],
      "metadata": {
        "id": "DMsK5kPPY1lf"
      },
      "id": "DMsK5kPPY1lf"
    },
    {
      "cell_type": "code",
      "source": [
        "if 'shotHitBy' in shot_data.columns:\n",
        "    print(\"shotHitBy column exists. replacing empty values with NA ...\")\n",
        "    # replace empty string and NaN values in shotHitBy column with string \"NA\"\n",
        "    shot_data['shotHitBy'] = shot_data['shotHitBy'].replace('', 'NA').fillna('NA')\n",
        "else:\n",
        "    print(\"shotHitBy column doesn't exist.\")"
      ],
      "metadata": {
        "id": "7NiM6SLcY3v_",
        "colab": {
          "base_uri": "https://localhost:8080/"
        },
        "outputId": "20ce5f29-1ad9-40ef-901e-ddfbba27a3da"
      },
      "id": "7NiM6SLcY3v_",
      "execution_count": null,
      "outputs": [
        {
          "output_type": "stream",
          "name": "stdout",
          "text": [
            "shotHitBy column exists. replacing empty values with NA ...\n"
          ]
        }
      ]
    },
    {
      "cell_type": "markdown",
      "source": [
        "## Error Check 22:\n",
        "### Check if there are any \"NA\"s in the shotHitBy column. Replace \"NA\" values in shotHitBy that has a corresponding shotInRally = 1 with the serverName. Print out remaining unresolved shotHitBy \"NA\" rows."
      ],
      "metadata": {
        "id": "oj9h_hboY62F"
      },
      "id": "oj9h_hboY62F"
    },
    {
      "cell_type": "code",
      "source": [
        "# replace shotHitBy \"NA\" values whose shotInRally = 1 with the serverName for that row\n",
        "shot_data.loc[shot_data['shotInRally'] == 1, 'shotHitBy'] = shot_data['serverName']\n",
        "# unresolved shotHitBy \"NA\" rows\n",
        "shot_hitby_nas = shot_data[shot_data['shotHitBy'] == \"NA\"]\n",
        "\n",
        "if (len(shot_hitby_nas) == 0):\n",
        "    print(\"NA shotHitBy error check passed successfully\")\n",
        "else:\n",
        "    print(\"unresolved NA's in shotHitBy column\")\n",
        "    print(shot_hitby_nas)"
      ],
      "metadata": {
        "id": "5KPxgKbaY8aN",
        "colab": {
          "base_uri": "https://localhost:8080/"
        },
        "outputId": "2eccb420-0c42-410f-d3d9-3cf90bb69cdd"
      },
      "id": "5KPxgKbaY8aN",
      "execution_count": null,
      "outputs": [
        {
          "output_type": "stream",
          "name": "stdout",
          "text": [
            "NA shotHitBy error check passed successfully\n"
          ]
        }
      ]
    },
    {
      "cell_type": "markdown",
      "source": [
        "## Error Check 23:\n",
        "### Check that the shotHitBy rows alternate with a member of each team. Print out rows that have consecutive shotHitBy when shotInRally is increasing.\n"
      ],
      "metadata": {
        "id": "u9PcjVJLY_xv"
      },
      "id": "u9PcjVJLY_xv"
    },
    {
      "cell_type": "code",
      "source": [
        "shothitby_repeat = []\n",
        "\n",
        "for i in range(len(shot_data) - 1):\n",
        "    row = shot_data.iloc[i]\n",
        "    row_next = shot_data.iloc[i + 1]\n",
        "\n",
        "    # filters out cases where rows may have consecutive shotHitBy's because it goes from the end of a rally to a serve.\n",
        "    if row_next['shotInRally'] > row['shotInRally']:\n",
        "        if row_next['shotHitBy'] == row['shotHitBy']:\n",
        "            shothitby_repeat.append(row)\n",
        "            shothitby_repeat.append(row_next)\n",
        "\n",
        "if len(shothitby_repeat) == 0:\n",
        "    print(\"alternating shotHitBy error check passed successfully\")\n",
        "else:\n",
        "    print(\"shotHitBy rows not alternating with a team member of each team (team A or team B)\")\n",
        "    print(shothitby_repeat)"
      ],
      "metadata": {
        "id": "WYChm8KFZAc9",
        "colab": {
          "base_uri": "https://localhost:8080/"
        },
        "outputId": "1757e1f8-e65a-48cb-ae30-f5ffc5e70bbe"
      },
      "id": "WYChm8KFZAc9",
      "execution_count": null,
      "outputs": [
        {
          "output_type": "stream",
          "name": "stdout",
          "text": [
            "shotHitBy rows not alternating with a team member of each team (team A or team B)\n",
            "[pointScore          40-15\n",
            "gameScore             4-4\n",
            "setScore              0-0\n",
            "tiebreakScore         NaN\n",
            "isPointStart          1.0\n",
            "                    ...  \n",
            "teamBPlayer1Hand    Right\n",
            "teamBPlayer2Hand    Right\n",
            "Round                 NaN\n",
            "Surface               NaN\n",
            "Notes                 NaN\n",
            "Name: 146, Length: 70, dtype: object, pointScore          40-15\n",
            "gameScore             4-4\n",
            "setScore              0-0\n",
            "tiebreakScore         NaN\n",
            "isPointStart          NaN\n",
            "                    ...  \n",
            "teamBPlayer1Hand    Right\n",
            "teamBPlayer2Hand    Right\n",
            "Round                 NaN\n",
            "Surface               NaN\n",
            "Notes                 NaN\n",
            "Name: 147, Length: 70, dtype: object]\n"
          ]
        }
      ]
    },
    {
      "cell_type": "markdown",
      "id": "9aa7ed4f-7ebd-4c0b-b287-b8492bba44b6",
      "metadata": {
        "id": "9aa7ed4f-7ebd-4c0b-b287-b8492bba44b6"
      },
      "source": [
        "# Add More Columns"
      ]
    },
    {
      "cell_type": "code",
      "execution_count": null,
      "id": "a95e4421-a815-4347-96b0-a71ad91011a2",
      "metadata": {
        "id": "a95e4421-a815-4347-96b0-a71ad91011a2",
        "colab": {
          "base_uri": "https://localhost:8080/",
          "height": 273
        },
        "outputId": "587d9ae0-44d8-4bd2-8b75-704ae561bb94"
      },
      "outputs": [
        {
          "output_type": "execute_result",
          "data": {
            "text/plain": [
              "  pointScore gameScore setScore tiebreakScore  isPointStart  pointStartTime  \\\n",
              "0        0-0       0-0      0-0           NaN           1.0             NaN   \n",
              "1        0-0       0-0      0-0           NaN           NaN             NaN   \n",
              "2       15-0       0-0      0-0           NaN           1.0             NaN   \n",
              "3       15-0       0-0      0-0           NaN           NaN             NaN   \n",
              "4       15-0       0-0      0-0           NaN           NaN             NaN   \n",
              "\n",
              "   isPointEnd  pointEndTime  pointNumber  isBreakPoint  ...  teamAPlayer2Hand  \\\n",
              "0         NaN           NaN            1           NaN  ...             Right   \n",
              "1         1.0           NaN            1           NaN  ...             Right   \n",
              "2         NaN           NaN            2           NaN  ...             Right   \n",
              "3         NaN           NaN            2           NaN  ...             Right   \n",
              "4         1.0           NaN            2           NaN  ...             Right   \n",
              "\n",
              "  Data Error teamBPlayer1   teamBPlayer2 teamBPlayer1Hand  teamBPlayer2Hand  \\\n",
              "0        NaN     Karl Lee  Samuel Rubell            Right             Right   \n",
              "1        NaN     Karl Lee  Samuel Rubell            Right             Right   \n",
              "2        NaN     Karl Lee  Samuel Rubell            Right             Right   \n",
              "3        NaN     Karl Lee  Samuel Rubell            Right             Right   \n",
              "4        NaN     Karl Lee  Samuel Rubell            Right             Right   \n",
              "\n",
              "   Round  Surface Notes   returnerName  \n",
              "0    NaN     Hard   NaN       Karl Lee  \n",
              "1    NaN      NaN   NaN       Karl Lee  \n",
              "2    NaN      NaN   NaN  Samuel Rubell  \n",
              "3    NaN      NaN   NaN  Samuel Rubell  \n",
              "4    NaN      NaN   NaN  Samuel Rubell  \n",
              "\n",
              "[5 rows x 71 columns]"
            ],
            "text/html": [
              "\n",
              "  <div id=\"df-5b539b8d-a4b9-4fa6-a0ff-65fe777da5c2\" class=\"colab-df-container\">\n",
              "    <div>\n",
              "<style scoped>\n",
              "    .dataframe tbody tr th:only-of-type {\n",
              "        vertical-align: middle;\n",
              "    }\n",
              "\n",
              "    .dataframe tbody tr th {\n",
              "        vertical-align: top;\n",
              "    }\n",
              "\n",
              "    .dataframe thead th {\n",
              "        text-align: right;\n",
              "    }\n",
              "</style>\n",
              "<table border=\"1\" class=\"dataframe\">\n",
              "  <thead>\n",
              "    <tr style=\"text-align: right;\">\n",
              "      <th></th>\n",
              "      <th>pointScore</th>\n",
              "      <th>gameScore</th>\n",
              "      <th>setScore</th>\n",
              "      <th>tiebreakScore</th>\n",
              "      <th>isPointStart</th>\n",
              "      <th>pointStartTime</th>\n",
              "      <th>isPointEnd</th>\n",
              "      <th>pointEndTime</th>\n",
              "      <th>pointNumber</th>\n",
              "      <th>isBreakPoint</th>\n",
              "      <th>...</th>\n",
              "      <th>teamAPlayer2Hand</th>\n",
              "      <th>Data Error</th>\n",
              "      <th>teamBPlayer1</th>\n",
              "      <th>teamBPlayer2</th>\n",
              "      <th>teamBPlayer1Hand</th>\n",
              "      <th>teamBPlayer2Hand</th>\n",
              "      <th>Round</th>\n",
              "      <th>Surface</th>\n",
              "      <th>Notes</th>\n",
              "      <th>returnerName</th>\n",
              "    </tr>\n",
              "  </thead>\n",
              "  <tbody>\n",
              "    <tr>\n",
              "      <th>0</th>\n",
              "      <td>0-0</td>\n",
              "      <td>0-0</td>\n",
              "      <td>0-0</td>\n",
              "      <td>NaN</td>\n",
              "      <td>1.0</td>\n",
              "      <td>NaN</td>\n",
              "      <td>NaN</td>\n",
              "      <td>NaN</td>\n",
              "      <td>1</td>\n",
              "      <td>NaN</td>\n",
              "      <td>...</td>\n",
              "      <td>Right</td>\n",
              "      <td>NaN</td>\n",
              "      <td>Karl Lee</td>\n",
              "      <td>Samuel Rubell</td>\n",
              "      <td>Right</td>\n",
              "      <td>Right</td>\n",
              "      <td>NaN</td>\n",
              "      <td>Hard</td>\n",
              "      <td>NaN</td>\n",
              "      <td>Karl Lee</td>\n",
              "    </tr>\n",
              "    <tr>\n",
              "      <th>1</th>\n",
              "      <td>0-0</td>\n",
              "      <td>0-0</td>\n",
              "      <td>0-0</td>\n",
              "      <td>NaN</td>\n",
              "      <td>NaN</td>\n",
              "      <td>NaN</td>\n",
              "      <td>1.0</td>\n",
              "      <td>NaN</td>\n",
              "      <td>1</td>\n",
              "      <td>NaN</td>\n",
              "      <td>...</td>\n",
              "      <td>Right</td>\n",
              "      <td>NaN</td>\n",
              "      <td>Karl Lee</td>\n",
              "      <td>Samuel Rubell</td>\n",
              "      <td>Right</td>\n",
              "      <td>Right</td>\n",
              "      <td>NaN</td>\n",
              "      <td>NaN</td>\n",
              "      <td>NaN</td>\n",
              "      <td>Karl Lee</td>\n",
              "    </tr>\n",
              "    <tr>\n",
              "      <th>2</th>\n",
              "      <td>15-0</td>\n",
              "      <td>0-0</td>\n",
              "      <td>0-0</td>\n",
              "      <td>NaN</td>\n",
              "      <td>1.0</td>\n",
              "      <td>NaN</td>\n",
              "      <td>NaN</td>\n",
              "      <td>NaN</td>\n",
              "      <td>2</td>\n",
              "      <td>NaN</td>\n",
              "      <td>...</td>\n",
              "      <td>Right</td>\n",
              "      <td>NaN</td>\n",
              "      <td>Karl Lee</td>\n",
              "      <td>Samuel Rubell</td>\n",
              "      <td>Right</td>\n",
              "      <td>Right</td>\n",
              "      <td>NaN</td>\n",
              "      <td>NaN</td>\n",
              "      <td>NaN</td>\n",
              "      <td>Samuel Rubell</td>\n",
              "    </tr>\n",
              "    <tr>\n",
              "      <th>3</th>\n",
              "      <td>15-0</td>\n",
              "      <td>0-0</td>\n",
              "      <td>0-0</td>\n",
              "      <td>NaN</td>\n",
              "      <td>NaN</td>\n",
              "      <td>NaN</td>\n",
              "      <td>NaN</td>\n",
              "      <td>NaN</td>\n",
              "      <td>2</td>\n",
              "      <td>NaN</td>\n",
              "      <td>...</td>\n",
              "      <td>Right</td>\n",
              "      <td>NaN</td>\n",
              "      <td>Karl Lee</td>\n",
              "      <td>Samuel Rubell</td>\n",
              "      <td>Right</td>\n",
              "      <td>Right</td>\n",
              "      <td>NaN</td>\n",
              "      <td>NaN</td>\n",
              "      <td>NaN</td>\n",
              "      <td>Samuel Rubell</td>\n",
              "    </tr>\n",
              "    <tr>\n",
              "      <th>4</th>\n",
              "      <td>15-0</td>\n",
              "      <td>0-0</td>\n",
              "      <td>0-0</td>\n",
              "      <td>NaN</td>\n",
              "      <td>NaN</td>\n",
              "      <td>NaN</td>\n",
              "      <td>1.0</td>\n",
              "      <td>NaN</td>\n",
              "      <td>2</td>\n",
              "      <td>NaN</td>\n",
              "      <td>...</td>\n",
              "      <td>Right</td>\n",
              "      <td>NaN</td>\n",
              "      <td>Karl Lee</td>\n",
              "      <td>Samuel Rubell</td>\n",
              "      <td>Right</td>\n",
              "      <td>Right</td>\n",
              "      <td>NaN</td>\n",
              "      <td>NaN</td>\n",
              "      <td>NaN</td>\n",
              "      <td>Samuel Rubell</td>\n",
              "    </tr>\n",
              "  </tbody>\n",
              "</table>\n",
              "<p>5 rows × 71 columns</p>\n",
              "</div>\n",
              "    <div class=\"colab-df-buttons\">\n",
              "\n",
              "  <div class=\"colab-df-container\">\n",
              "    <button class=\"colab-df-convert\" onclick=\"convertToInteractive('df-5b539b8d-a4b9-4fa6-a0ff-65fe777da5c2')\"\n",
              "            title=\"Convert this dataframe to an interactive table.\"\n",
              "            style=\"display:none;\">\n",
              "\n",
              "  <svg xmlns=\"http://www.w3.org/2000/svg\" height=\"24px\" viewBox=\"0 -960 960 960\">\n",
              "    <path d=\"M120-120v-720h720v720H120Zm60-500h600v-160H180v160Zm220 220h160v-160H400v160Zm0 220h160v-160H400v160ZM180-400h160v-160H180v160Zm440 0h160v-160H620v160ZM180-180h160v-160H180v160Zm440 0h160v-160H620v160Z\"/>\n",
              "  </svg>\n",
              "    </button>\n",
              "\n",
              "  <style>\n",
              "    .colab-df-container {\n",
              "      display:flex;\n",
              "      gap: 12px;\n",
              "    }\n",
              "\n",
              "    .colab-df-convert {\n",
              "      background-color: #E8F0FE;\n",
              "      border: none;\n",
              "      border-radius: 50%;\n",
              "      cursor: pointer;\n",
              "      display: none;\n",
              "      fill: #1967D2;\n",
              "      height: 32px;\n",
              "      padding: 0 0 0 0;\n",
              "      width: 32px;\n",
              "    }\n",
              "\n",
              "    .colab-df-convert:hover {\n",
              "      background-color: #E2EBFA;\n",
              "      box-shadow: 0px 1px 2px rgba(60, 64, 67, 0.3), 0px 1px 3px 1px rgba(60, 64, 67, 0.15);\n",
              "      fill: #174EA6;\n",
              "    }\n",
              "\n",
              "    .colab-df-buttons div {\n",
              "      margin-bottom: 4px;\n",
              "    }\n",
              "\n",
              "    [theme=dark] .colab-df-convert {\n",
              "      background-color: #3B4455;\n",
              "      fill: #D2E3FC;\n",
              "    }\n",
              "\n",
              "    [theme=dark] .colab-df-convert:hover {\n",
              "      background-color: #434B5C;\n",
              "      box-shadow: 0px 1px 3px 1px rgba(0, 0, 0, 0.15);\n",
              "      filter: drop-shadow(0px 1px 2px rgba(0, 0, 0, 0.3));\n",
              "      fill: #FFFFFF;\n",
              "    }\n",
              "  </style>\n",
              "\n",
              "    <script>\n",
              "      const buttonEl =\n",
              "        document.querySelector('#df-5b539b8d-a4b9-4fa6-a0ff-65fe777da5c2 button.colab-df-convert');\n",
              "      buttonEl.style.display =\n",
              "        google.colab.kernel.accessAllowed ? 'block' : 'none';\n",
              "\n",
              "      async function convertToInteractive(key) {\n",
              "        const element = document.querySelector('#df-5b539b8d-a4b9-4fa6-a0ff-65fe777da5c2');\n",
              "        const dataTable =\n",
              "          await google.colab.kernel.invokeFunction('convertToInteractive',\n",
              "                                                    [key], {});\n",
              "        if (!dataTable) return;\n",
              "\n",
              "        const docLinkHtml = 'Like what you see? Visit the ' +\n",
              "          '<a target=\"_blank\" href=https://colab.research.google.com/notebooks/data_table.ipynb>data table notebook</a>'\n",
              "          + ' to learn more about interactive tables.';\n",
              "        element.innerHTML = '';\n",
              "        dataTable['output_type'] = 'display_data';\n",
              "        await google.colab.output.renderOutput(dataTable, element);\n",
              "        const docLink = document.createElement('div');\n",
              "        docLink.innerHTML = docLinkHtml;\n",
              "        element.appendChild(docLink);\n",
              "      }\n",
              "    </script>\n",
              "  </div>\n",
              "\n",
              "\n",
              "<div id=\"df-22508bc1-4cae-4629-91c6-984e80b9880a\">\n",
              "  <button class=\"colab-df-quickchart\" onclick=\"quickchart('df-22508bc1-4cae-4629-91c6-984e80b9880a')\"\n",
              "            title=\"Suggest charts\"\n",
              "            style=\"display:none;\">\n",
              "\n",
              "<svg xmlns=\"http://www.w3.org/2000/svg\" height=\"24px\"viewBox=\"0 0 24 24\"\n",
              "     width=\"24px\">\n",
              "    <g>\n",
              "        <path d=\"M19 3H5c-1.1 0-2 .9-2 2v14c0 1.1.9 2 2 2h14c1.1 0 2-.9 2-2V5c0-1.1-.9-2-2-2zM9 17H7v-7h2v7zm4 0h-2V7h2v10zm4 0h-2v-4h2v4z\"/>\n",
              "    </g>\n",
              "</svg>\n",
              "  </button>\n",
              "\n",
              "<style>\n",
              "  .colab-df-quickchart {\n",
              "      --bg-color: #E8F0FE;\n",
              "      --fill-color: #1967D2;\n",
              "      --hover-bg-color: #E2EBFA;\n",
              "      --hover-fill-color: #174EA6;\n",
              "      --disabled-fill-color: #AAA;\n",
              "      --disabled-bg-color: #DDD;\n",
              "  }\n",
              "\n",
              "  [theme=dark] .colab-df-quickchart {\n",
              "      --bg-color: #3B4455;\n",
              "      --fill-color: #D2E3FC;\n",
              "      --hover-bg-color: #434B5C;\n",
              "      --hover-fill-color: #FFFFFF;\n",
              "      --disabled-bg-color: #3B4455;\n",
              "      --disabled-fill-color: #666;\n",
              "  }\n",
              "\n",
              "  .colab-df-quickchart {\n",
              "    background-color: var(--bg-color);\n",
              "    border: none;\n",
              "    border-radius: 50%;\n",
              "    cursor: pointer;\n",
              "    display: none;\n",
              "    fill: var(--fill-color);\n",
              "    height: 32px;\n",
              "    padding: 0;\n",
              "    width: 32px;\n",
              "  }\n",
              "\n",
              "  .colab-df-quickchart:hover {\n",
              "    background-color: var(--hover-bg-color);\n",
              "    box-shadow: 0 1px 2px rgba(60, 64, 67, 0.3), 0 1px 3px 1px rgba(60, 64, 67, 0.15);\n",
              "    fill: var(--button-hover-fill-color);\n",
              "  }\n",
              "\n",
              "  .colab-df-quickchart-complete:disabled,\n",
              "  .colab-df-quickchart-complete:disabled:hover {\n",
              "    background-color: var(--disabled-bg-color);\n",
              "    fill: var(--disabled-fill-color);\n",
              "    box-shadow: none;\n",
              "  }\n",
              "\n",
              "  .colab-df-spinner {\n",
              "    border: 2px solid var(--fill-color);\n",
              "    border-color: transparent;\n",
              "    border-bottom-color: var(--fill-color);\n",
              "    animation:\n",
              "      spin 1s steps(1) infinite;\n",
              "  }\n",
              "\n",
              "  @keyframes spin {\n",
              "    0% {\n",
              "      border-color: transparent;\n",
              "      border-bottom-color: var(--fill-color);\n",
              "      border-left-color: var(--fill-color);\n",
              "    }\n",
              "    20% {\n",
              "      border-color: transparent;\n",
              "      border-left-color: var(--fill-color);\n",
              "      border-top-color: var(--fill-color);\n",
              "    }\n",
              "    30% {\n",
              "      border-color: transparent;\n",
              "      border-left-color: var(--fill-color);\n",
              "      border-top-color: var(--fill-color);\n",
              "      border-right-color: var(--fill-color);\n",
              "    }\n",
              "    40% {\n",
              "      border-color: transparent;\n",
              "      border-right-color: var(--fill-color);\n",
              "      border-top-color: var(--fill-color);\n",
              "    }\n",
              "    60% {\n",
              "      border-color: transparent;\n",
              "      border-right-color: var(--fill-color);\n",
              "    }\n",
              "    80% {\n",
              "      border-color: transparent;\n",
              "      border-right-color: var(--fill-color);\n",
              "      border-bottom-color: var(--fill-color);\n",
              "    }\n",
              "    90% {\n",
              "      border-color: transparent;\n",
              "      border-bottom-color: var(--fill-color);\n",
              "    }\n",
              "  }\n",
              "</style>\n",
              "\n",
              "  <script>\n",
              "    async function quickchart(key) {\n",
              "      const quickchartButtonEl =\n",
              "        document.querySelector('#' + key + ' button');\n",
              "      quickchartButtonEl.disabled = true;  // To prevent multiple clicks.\n",
              "      quickchartButtonEl.classList.add('colab-df-spinner');\n",
              "      try {\n",
              "        const charts = await google.colab.kernel.invokeFunction(\n",
              "            'suggestCharts', [key], {});\n",
              "      } catch (error) {\n",
              "        console.error('Error during call to suggestCharts:', error);\n",
              "      }\n",
              "      quickchartButtonEl.classList.remove('colab-df-spinner');\n",
              "      quickchartButtonEl.classList.add('colab-df-quickchart-complete');\n",
              "    }\n",
              "    (() => {\n",
              "      let quickchartButtonEl =\n",
              "        document.querySelector('#df-22508bc1-4cae-4629-91c6-984e80b9880a button');\n",
              "      quickchartButtonEl.style.display =\n",
              "        google.colab.kernel.accessAllowed ? 'block' : 'none';\n",
              "    })();\n",
              "  </script>\n",
              "</div>\n",
              "\n",
              "    </div>\n",
              "  </div>\n"
            ],
            "application/vnd.google.colaboratory.intrinsic+json": {
              "type": "dataframe",
              "variable_name": "shot_data"
            }
          },
          "metadata": {},
          "execution_count": 31
        }
      ],
      "source": [
        "# Ensure there are no out-of-bounds errors\n",
        "for index in range(len(shot_data) - 1):\n",
        "    if shot_data.loc[index, 'firstServeIn'] == 1 or shot_data.loc[index, 'secondServeIn'] == 1:\n",
        "        shot_data.loc[index, 'returnerName'] = shot_data.loc[index + 1, 'shotHitBy']\n",
        "\n",
        "\n",
        "shot_data['returnerName'] = shot_data['returnerName'].ffill()\n",
        "# Display the first few rows of the updated DataFrame to verify the changes\n",
        "shot_data.head()\n"
      ]
    },
    {
      "cell_type": "markdown",
      "id": "14a4d9c4-ba53-4a5e-bfd1-55dfea8ad426",
      "metadata": {
        "id": "14a4d9c4-ba53-4a5e-bfd1-55dfea8ad426"
      },
      "source": []
    },
    {
      "cell_type": "markdown",
      "id": "74920095-a63b-4e61-b350-d84587c217ae",
      "metadata": {
        "id": "74920095-a63b-4e61-b350-d84587c217ae"
      },
      "source": [
        "### Add Column: isInsideOut, isInsideIn"
      ]
    },
    {
      "cell_type": "code",
      "execution_count": null,
      "id": "f6d99f4c-77a8-48e4-9556-b0ff3417a2bb",
      "metadata": {
        "id": "f6d99f4c-77a8-48e4-9556-b0ff3417a2bb"
      },
      "outputs": [],
      "source": [
        "# Add columns for isInsideOut and isInsideIn, initially set to 0\n",
        "shot_data['isInsideOut'] = None\n",
        "shot_data['isInsideIn'] = None\n",
        "\n",
        "# Iterate through rows\n",
        "for index, row in shot_data.iterrows():\n",
        "    shotHitBy = row['shotHitBy']\n",
        "    player_hand = (\n",
        "    row['teamAPlayer1Hand'] if shotHitBy == row['teamAPlayer1'] else\n",
        "    row['teamAPlayer2Hand'] if shotHitBy == row['teamAPlayer2'] else\n",
        "    row['teamBPlayer1Hand'] if shotHitBy == row['teamBPlayer1'] else\n",
        "    row['teamBPlayer2Hand']\n",
        "    )\n",
        "\n",
        "\n",
        "    if player_hand == \"Right\":\n",
        "        if row['side'] == \"Deuce\" and row['shotFhBh'] == \"Backhand\" and row['shotDirection'] == \"Crosscourt\":\n",
        "            shot_data.at[index, 'isInsideOut'] = 1\n",
        "        elif row['side'] == \"Ad\" and row['shotFhBh'] == \"Forehand\" and row['shotDirection'] == \"Crosscourt\":\n",
        "            shot_data.at[index, 'isInsideOut'] = 1\n",
        "        elif row['side'] == \"Deuce\" and row['shotFhBh'] == \"Backhand\" and row['shotDirection'] == \"Down the Line\":\n",
        "            shot_data.at[index, 'isInsideIn'] = 1\n",
        "        elif row['side'] == \"Ad\" and row['shotFhBh'] == \"Forehand\" and row['shotDirection'] == \"Down the Line\":\n",
        "            shot_data.at[index, 'isInsideIn'] = 1\n",
        "    elif player_hand == \"Left\":\n",
        "        if row['side'] == \"Ad\" and row['shotFhBh'] == \"Backhand\" and row['shotDirection'] == \"Crosscourt\":\n",
        "            shot_data.at[index, 'isInsideOut'] = 1\n",
        "        elif row['side'] == \"Deuce\" and row['shotFhBh'] == \"Forehand\" and row['shotDirection'] == \"Crosscourt\":\n",
        "            shot_data.at[index, 'isInsideOut'] = 1\n",
        "        elif row['side'] == \"Ad\" and row['shotFhBh'] == \"Backhand\" and row['shotDirection'] == \"Down the Line\":\n",
        "            shot_data.at[index, 'isInsideIn'] = 1\n",
        "        elif row['side'] == \"Deuce\" and row['shotFhBh'] == \"Forehand\" and row['shotDirection'] == \"Down the Line\":\n",
        "            shot_data.at[index, 'isInsideIn'] = 1"
      ]
    },
    {
      "cell_type": "markdown",
      "id": "5ce47455-e52a-4c29-846b-6ff44af87b62",
      "metadata": {
        "id": "5ce47455-e52a-4c29-846b-6ff44af87b62"
      },
      "source": [
        "### Add Column: isAce"
      ]
    },
    {
      "cell_type": "code",
      "execution_count": null,
      "id": "a14a32f6-db9d-44e8-ad59-32b48995eb23",
      "metadata": {
        "id": "a14a32f6-db9d-44e8-ad59-32b48995eb23"
      },
      "outputs": [],
      "source": [
        "# Add the Ace column\n",
        "shot_data['isAce'] = None\n",
        "\n",
        "for index, row in shot_data.iterrows():\n",
        "    if row['isPointEnd'] == 1:\n",
        "        if row['shotInRally'] == 1: # last point is serve\n",
        "            if (row['firstServeIn'] == 1 or row['secondServeIn'] == 1): # either first or second serve went in\n",
        "                shot_data.at[index, 'isAce'] = 1"
      ]
    },
    {
      "cell_type": "markdown",
      "id": "5beb11c5-27f4-413a-a96c-a07431d1a797",
      "metadata": {
        "id": "5beb11c5-27f4-413a-a96c-a07431d1a797"
      },
      "source": [
        "### Add Column: isDoubleFault"
      ]
    },
    {
      "cell_type": "code",
      "execution_count": null,
      "id": "7365f350-9cb6-4c1a-ae51-8def184dddb4",
      "metadata": {
        "id": "7365f350-9cb6-4c1a-ae51-8def184dddb4"
      },
      "outputs": [],
      "source": [
        "# Add the DoubleFault column\n",
        "shot_data['isDoubleFault'] = None\n",
        "\n",
        "for index, row in shot_data.iterrows():\n",
        "    if row['isPointEnd'] == 1:\n",
        "        if row['shotInRally'] == 1: # last point is serve\n",
        "            if (row['firstServeIn'] != 1 and row['secondServeIn'] != 1): # either first or second serve went in\n",
        "                shot_data.at[index, 'isDoubleFault'] = 1"
      ]
    },
    {
      "cell_type": "markdown",
      "id": "f8b2d1a4-6b15-49d8-82cf-451bf806402e",
      "metadata": {
        "id": "f8b2d1a4-6b15-49d8-82cf-451bf806402e"
      },
      "source": [
        "### Add Column: pointWonBy, lastShotError"
      ]
    },
    {
      "cell_type": "code",
      "execution_count": null,
      "id": "d453c3e5-cf56-41a1-89ff-0db6f4ace548",
      "metadata": {
        "id": "d453c3e5-cf56-41a1-89ff-0db6f4ace548"
      },
      "outputs": [],
      "source": [
        "# Add the 'pointWonBy' column\n",
        "shot_data['pointWonBy'] = None\n",
        "\n",
        "# Add the 'lastShotError' column\n",
        "shot_data['lastShotError'] = 0\n",
        "\n",
        "for index, row in shot_data.iterrows():\n",
        "    if row['isPointEnd'] == 1:\n",
        "        if row['shotInRally'] == 1: # last point is serve\n",
        "            if row['isAce'] == 1:\n",
        "                shot_data.at[index, 'pointWonBy'] = row['serverName']\n",
        "            elif row['isDoubleFault'] == 1:\n",
        "                shot_data.at[index, 'pointWonBy'] = row['returnerName']\n",
        "\n",
        "\n",
        "        elif row['shotInRally'] != 1:\n",
        "            if row['isErrorWideR'] == 1 or row['isErrorWideL'] == 1 or row['isErrorNet'] == 1 or row['isErrorLong'] == 1: # if error\n",
        "                shot_data.at[index, 'lastShotError'] = 1\n",
        "                # point won by person who hit ball 2nd to last\n",
        "                shot_data.at[index, 'pointWonBy'] = shot_data.at[index-1, 'shotHitBy']\n",
        "\n",
        "\n",
        "\n",
        "            elif row['isWinner'] == 1:\n",
        "              # point won by person who hit the ball last\n",
        "                shot_data.at[index, 'pointWonBy'] = shot_data.at[index, 'shotHitBy']\n"
      ]
    },
    {
      "cell_type": "markdown",
      "id": "ed0a1097-1617-4a01-94ba-e6340dbebf08",
      "metadata": {
        "id": "ed0a1097-1617-4a01-94ba-e6340dbebf08"
      },
      "source": [
        "## Error Check 21:\n",
        "#### Output Point End with no pointWonBy\n"
      ]
    },
    {
      "cell_type": "code",
      "execution_count": null,
      "id": "49a2474a-881f-4281-94cb-156ff1c947bc",
      "metadata": {
        "id": "49a2474a-881f-4281-94cb-156ff1c947bc",
        "colab": {
          "base_uri": "https://localhost:8080/"
        },
        "outputId": "320564d1-16fe-4d8f-a83f-2933d6cab1f5"
      },
      "outputs": [
        {
          "output_type": "stream",
          "name": "stdout",
          "text": [
            "Empty DataFrame\n",
            "Columns: [pointScore, gameScore, setScore, lastShotError, isWinner, isErrorWideR, isErrorWideL, isErrorNet, isErrorLong, pointWonBy, serverName, shotInRally]\n",
            "Index: []\n"
          ]
        }
      ],
      "source": [
        "# Missing Point End\n",
        "print(shot_data[(shot_data['isPointEnd'] == 1) & (shot_data['pointWonBy'].isnull())][['pointScore', 'gameScore','setScore', 'lastShotError', 'isWinner', 'isErrorWideR', 'isErrorWideL',\n",
        "       'isErrorNet', 'isErrorLong', 'pointWonBy', 'serverName', 'shotInRally']])\n"
      ]
    },
    {
      "cell_type": "markdown",
      "id": "4b8515de-5d31-4902-b3f0-a304940e3dfa",
      "metadata": {
        "id": "4b8515de-5d31-4902-b3f0-a304940e3dfa"
      },
      "source": [
        "### Backward Fill: PointWonBy"
      ]
    },
    {
      "cell_type": "code",
      "execution_count": null,
      "id": "1923cee2-b584-410b-a381-f1dc6396504b",
      "metadata": {
        "id": "1923cee2-b584-410b-a381-f1dc6396504b",
        "colab": {
          "base_uri": "https://localhost:8080/"
        },
        "outputId": "268caf5d-5003-4ec4-e264-75974afa0d31"
      },
      "outputs": [
        {
          "output_type": "execute_result",
          "data": {
            "text/plain": [
              "0          Spencer Johnson\n",
              "1          Spencer Johnson\n",
              "2      Emon van Loben Sels\n",
              "3      Emon van Loben Sels\n",
              "4      Emon van Loben Sels\n",
              "              ...         \n",
              "272        Spencer Johnson\n",
              "273        Spencer Johnson\n",
              "274        Spencer Johnson\n",
              "275        Spencer Johnson\n",
              "276        Spencer Johnson\n",
              "Name: pointWonBy, Length: 277, dtype: object"
            ]
          },
          "metadata": {},
          "execution_count": 37
        }
      ],
      "source": [
        "shot_data['pointWonBy'].bfill()"
      ]
    },
    {
      "cell_type": "markdown",
      "id": "bfbb8b2d-abc2-46bc-80eb-d78bd6f66fb9",
      "metadata": {
        "id": "bfbb8b2d-abc2-46bc-80eb-d78bd6f66fb9"
      },
      "source": [
        "### Add Column: serveResult, serveInPlacement"
      ]
    },
    {
      "cell_type": "code",
      "execution_count": null,
      "id": "318eee77-8fa0-4da0-a8da-21656b027872",
      "metadata": {
        "id": "318eee77-8fa0-4da0-a8da-21656b027872"
      },
      "outputs": [],
      "source": [
        "conditions = [\n",
        "    (shot_data['isPointStart'] == 1) & (shot_data['firstServeIn'] == 1),\n",
        "    (shot_data['isPointStart'] == 1) & (shot_data['firstServeIn'] != 1) & (shot_data['secondServeIn'] == 1),\n",
        "    (shot_data['isPointStart'] == 1) & (shot_data['firstServeIn'] != 1) & (shot_data['secondServeIn'] != 1)\n",
        "]\n",
        "\n",
        "# Define the values to be assigned for each condition\n",
        "values_result = ['1st Serve In', '2nd Serve In', 'Double Fault']\n",
        "values_placement = [shot_data['firstServeZone'], shot_data['secondServeZone'], np.nan]\n",
        "\n",
        "# Use numpy.select to assign values based on conditions\n",
        "shot_data['serveResult'] = np.select(conditions, values_result, default='')\n",
        "shot_data['serveInPlacement'] = np.select(conditions, values_placement, default='')\n",
        "\n",
        "# Now shot_data DataFrame is updated with serveResult and serveInPlacement values where isPointStart is 1\n",
        "# print(shot_data[['serveResult', 'serveInPlacement','pointScore','side']].head(60))"
      ]
    },
    {
      "cell_type": "code",
      "execution_count": null,
      "id": "2af189b3-2ae2-403a-91c4-a5367e417f86",
      "metadata": {
        "id": "2af189b3-2ae2-403a-91c4-a5367e417f86"
      },
      "outputs": [],
      "source": [
        "shot_data.replace(\"\", None, inplace=True)"
      ]
    },
    {
      "cell_type": "markdown",
      "id": "10658bcb-6b73-487c-bb7a-26b280781f10",
      "metadata": {
        "id": "10658bcb-6b73-487c-bb7a-26b280781f10"
      },
      "source": [
        "# Double Check BEFORE Outputting"
      ]
    },
    {
      "cell_type": "code",
      "execution_count": null,
      "id": "79424c5b-e819-4fdd-865e-80a3fc983710",
      "metadata": {
        "id": "79424c5b-e819-4fdd-865e-80a3fc983710",
        "colab": {
          "base_uri": "https://localhost:8080/"
        },
        "outputId": "dbeefb3c-3a67-4cc2-bd52-5fa0a302041e"
      },
      "outputs": [
        {
          "output_type": "stream",
          "name": "stdout",
          "text": [
            "  pointScore gameScore setScore tiebreakScore  isPointStart  pointStartTime  \\\n",
            "0        0-0       0-0      0-0           NaN           1.0             NaN   \n",
            "1        0-0       0-0      0-0           NaN           NaN             NaN   \n",
            "2       15-0       0-0      0-0           NaN           1.0             NaN   \n",
            "3       15-0       0-0      0-0           NaN           NaN             NaN   \n",
            "4       15-0       0-0      0-0           NaN           NaN             NaN   \n",
            "5       30-0       0-0      0-0           NaN           1.0             NaN   \n",
            "6       30-0       0-0      0-0           NaN           NaN             NaN   \n",
            "7       30-0       0-0      0-0           NaN           NaN             NaN   \n",
            "8       30-0       0-0      0-0           NaN           NaN             NaN   \n",
            "9       40-0       0-0      0-0           NaN           1.0             NaN   \n",
            "\n",
            "   isPointEnd  pointEndTime  pointNumber  isBreakPoint  ...  Surface Notes  \\\n",
            "0         NaN           NaN            1           NaN  ...     Hard   NaN   \n",
            "1         1.0           NaN            1           NaN  ...      NaN   NaN   \n",
            "2         NaN           NaN            2           NaN  ...      NaN   NaN   \n",
            "3         NaN           NaN            2           NaN  ...      NaN   NaN   \n",
            "4         1.0           NaN            2           NaN  ...      NaN   NaN   \n",
            "5         NaN           NaN            3           NaN  ...      NaN   NaN   \n",
            "6         NaN           NaN            3           NaN  ...      NaN   NaN   \n",
            "7         NaN           NaN            3           NaN  ...      NaN   NaN   \n",
            "8         1.0           NaN            3           NaN  ...      NaN   NaN   \n",
            "9         NaN           NaN            4           NaN  ...      NaN   NaN   \n",
            "\n",
            "    returnerName  isInsideOut isInsideIn  isDoubleFault           pointWonBy  \\\n",
            "0       Karl Lee         None       None           None                 None   \n",
            "1       Karl Lee         None          1           None      Spencer Johnson   \n",
            "2  Samuel Rubell         None       None           None                 None   \n",
            "3  Samuel Rubell         None       None           None                 None   \n",
            "4  Samuel Rubell            1       None           None  Emon van Loben Sels   \n",
            "5       Karl Lee         None       None           None                 None   \n",
            "6       Karl Lee         None          1           None                 None   \n",
            "7       Karl Lee         None       None           None                 None   \n",
            "8       Karl Lee            1       None           None  Emon van Loben Sels   \n",
            "9  Samuel Rubell         None       None           None                 None   \n",
            "\n",
            "   lastShotError   serveResult  serveInPlacement  \n",
            "0              0  1st Serve In                 T  \n",
            "1              1          None              None  \n",
            "2              0  2nd Serve In              Body  \n",
            "3              0          None              None  \n",
            "4              0          None              None  \n",
            "5              0  1st Serve In              Body  \n",
            "6              0          None              None  \n",
            "7              0          None              None  \n",
            "8              1          None              None  \n",
            "9              0  2nd Serve In              Body  \n",
            "\n",
            "[10 rows x 78 columns]\n"
          ]
        }
      ],
      "source": [
        "print(shot_data.head(10))"
      ]
    },
    {
      "cell_type": "code",
      "source": [
        "shot_data.columns"
      ],
      "metadata": {
        "id": "BQPw4XLdZaCt",
        "colab": {
          "base_uri": "https://localhost:8080/"
        },
        "outputId": "9cbf4dba-a9e4-44b1-bf52-b7f066c693c4"
      },
      "id": "BQPw4XLdZaCt",
      "execution_count": null,
      "outputs": [
        {
          "output_type": "execute_result",
          "data": {
            "text/plain": [
              "Index(['pointScore', 'gameScore', 'setScore', 'tiebreakScore', 'isPointStart',\n",
              "       'pointStartTime', 'isPointEnd', 'pointEndTime', 'pointNumber',\n",
              "       'isBreakPoint', 'shotInRally', 'side', 'serverName', 'firstServeIn',\n",
              "       'firstServeZone', 'firstServeXCoord', 'firstServeYCoord',\n",
              "       'secondServeIn', 'secondServeZone', 'secondServeXCoord',\n",
              "       'secondServeYCoord', 'isAce', 'returnContactX', 'returnContactY',\n",
              "       'returnPlacementX', 'returnPlacementY', 'shotContactX', 'shotContactY',\n",
              "       'shotDirection', 'shotFhBh', 'isSlice', 'isVolley', 'isOverhead',\n",
              "       'isApproach', 'isDropshot', 'isPoach', 'bothAtNetTeamA',\n",
              "       'bothAtNetTeamB', 'isFakeTeamA', 'isFakeTeamB', 'serveFormation',\n",
              "       'returnFormation', 'shotLocationX', 'shotLocationY', 'isWinner',\n",
              "       'isErrorWideR', 'isErrorWideL', 'isErrorNet', 'isErrorLong', 'isLob',\n",
              "       'shotHitBy', 'teamA', 'teamB', 'Date', 'Division', 'Event',\n",
              "       'lineupPosition', 'matchVenue', 'teamAPlayer1', 'teamAPlayer2',\n",
              "       'teamAPlayer1Hand', 'teamAPlayer2Hand', 'Data Error', 'teamBPlayer1',\n",
              "       'teamBPlayer2', 'teamBPlayer1Hand', 'teamBPlayer2Hand', 'Round',\n",
              "       'Surface', 'Notes', 'returnerName', 'isInsideOut', 'isInsideIn',\n",
              "       'isDoubleFault', 'pointWonBy', 'lastShotError', 'serveResult',\n",
              "       'serveInPlacement'],\n",
              "      dtype='object')"
            ]
          },
          "metadata": {},
          "execution_count": 41
        }
      ]
    },
    {
      "cell_type": "code",
      "execution_count": null,
      "id": "7a9192e5-8f0e-4267-bdc5-7003a9dbe45d",
      "metadata": {
        "id": "7a9192e5-8f0e-4267-bdc5-7003a9dbe45d",
        "colab": {
          "base_uri": "https://localhost:8080/"
        },
        "outputId": "c904993e-6768-4de0-b9eb-fcb6846eeb0c"
      },
      "outputs": [
        {
          "output_type": "stream",
          "name": "stdout",
          "text": [
            "    pointScore gameScore setScore tiebreakScore  isPointStart  pointStartTime  \\\n",
            "267        NaN       6-6      0-0         3-Jun           NaN             NaN   \n",
            "268        NaN       6-6      0-0         4-Jun           1.0             NaN   \n",
            "269        NaN       6-6      0-0         4-Jun           NaN             NaN   \n",
            "270        NaN       6-6      0-0         4-Jun           NaN             NaN   \n",
            "271        NaN       6-6      0-0         4-Jun           NaN             NaN   \n",
            "272        NaN       6-6      0-0         4-Jun           NaN             NaN   \n",
            "273        NaN       6-6      0-0         4-Jun           NaN             NaN   \n",
            "274        NaN       6-6      0-0         4-Jun           NaN             NaN   \n",
            "275        NaN       6-6      0-0         4-Jun           NaN             NaN   \n",
            "276        NaN       6-6      0-0         4-Jun           NaN             NaN   \n",
            "\n",
            "     isPointEnd  pointEndTime  pointNumber  isBreakPoint  ...  Surface Notes  \\\n",
            "267         1.0           NaN           74           NaN  ...      NaN   NaN   \n",
            "268         NaN           NaN           75           NaN  ...      NaN   NaN   \n",
            "269         NaN           NaN           75           NaN  ...      NaN   NaN   \n",
            "270         NaN           NaN           75           NaN  ...      NaN   NaN   \n",
            "271         NaN           NaN           75           NaN  ...      NaN   NaN   \n",
            "272         NaN           NaN           75           NaN  ...      NaN   NaN   \n",
            "273         NaN           NaN           75           NaN  ...      NaN   NaN   \n",
            "274         NaN           NaN           75           NaN  ...      NaN   NaN   \n",
            "275         NaN           NaN           75           NaN  ...      NaN   NaN   \n",
            "276         1.0           NaN           75           NaN  ...      NaN   NaN   \n",
            "\n",
            "            returnerName  isInsideOut isInsideIn  isDoubleFault  \\\n",
            "267      Spencer Johnson         None          1           None   \n",
            "268  Emon van Loben Sels         None       None           None   \n",
            "269  Emon van Loben Sels         None          1           None   \n",
            "270  Emon van Loben Sels         None       None           None   \n",
            "271  Emon van Loben Sels         None          1           None   \n",
            "272  Emon van Loben Sels         None          1           None   \n",
            "273  Emon van Loben Sels         None          1           None   \n",
            "274  Emon van Loben Sels            1       None           None   \n",
            "275  Emon van Loben Sels            1       None           None   \n",
            "276  Emon van Loben Sels            1       None           None   \n",
            "\n",
            "          pointWonBy  lastShotError   serveResult  serveInPlacement  \n",
            "267         Karl Lee              0          None              None  \n",
            "268             None              0  1st Serve In              Body  \n",
            "269             None              0          None              None  \n",
            "270             None              0          None              None  \n",
            "271             None              0          None              None  \n",
            "272             None              0          None              None  \n",
            "273             None              0          None              None  \n",
            "274             None              0          None              None  \n",
            "275             None              0          None              None  \n",
            "276  Spencer Johnson              1          None              None  \n",
            "\n",
            "[10 rows x 78 columns]\n"
          ]
        }
      ],
      "source": [
        "print(shot_data.tail(10))"
      ]
    },
    {
      "cell_type": "markdown",
      "id": "a69a017a-9959-4eca-b083-edbc8b009e78",
      "metadata": {
        "id": "a69a017a-9959-4eca-b083-edbc8b009e78"
      },
      "source": [
        "# Output ShotCSV"
      ]
    },
    {
      "cell_type": "code",
      "execution_count": null,
      "id": "cb74fcb2-47ea-43bd-b304-dd5e05f17df3",
      "metadata": {
        "id": "cb74fcb2-47ea-43bd-b304-dd5e05f17df3"
      },
      "outputs": [],
      "source": [
        "# # # Ouput Improved Shot Csv HERE\n",
        "# Assuming shot_data is your DataFrame and the names are from the first row\n",
        "teamAPlayer1NameNoSpace = shot_data.iloc[0]['teamAPlayer1'].replace(\" \", \"\")\n",
        "teamAPlayer2NameNoSpace = shot_data.iloc[0]['teamAPlayer2'].replace(\" \", \"\")\n",
        "teamBPlayer1NameNoSpace = shot_data.iloc[0]['teamBPlayer1'].replace(\" \", \"\")\n",
        "teamBPlayer2NameNoSpace = shot_data.iloc[0]['teamBPlayer2'].replace(\" \", \"\")\n",
        "\n",
        "# Save DataFrame to CSV file with modified player names\n",
        "shot_data.to_csv(f'Shot_Visuals_{teamAPlayer1NameNoSpace}_{teamAPlayer2NameNoSpace}_{teamBPlayer1NameNoSpace}_{teamBPlayer2NameNoSpace}.csv', index=False)\n"
      ]
    },
    {
      "cell_type": "code",
      "execution_count": null,
      "id": "92ba40db-005c-47d7-86e7-fa52d25ec080",
      "metadata": {
        "id": "92ba40db-005c-47d7-86e7-fa52d25ec080",
        "colab": {
          "base_uri": "https://localhost:8080/"
        },
        "outputId": "c2d71501-cbe2-4baa-dede-bbd9febd375e"
      },
      "outputs": [
        {
          "output_type": "execute_result",
          "data": {
            "text/plain": [
              "array([ 1,  2,  3,  4,  5,  6,  7,  8,  9, 10, 11, 12, 13, 14, 15, 16, 17,\n",
              "       18, 19, 20, 21, 22, 23, 24, 25, 26, 27, 28, 29, 30, 31, 32, 33, 34,\n",
              "       35, 36, 37, 38, 39, 40, 41, 42, 43, 44, 45, 46, 47, 48, 49, 50, 51,\n",
              "       52, 53, 54, 55, 56, 57, 58, 59, 60, 61, 62, 63, 64, 65, 66, 67, 68,\n",
              "       69, 70, 71, 72, 73, 74, 75])"
            ]
          },
          "metadata": {},
          "execution_count": 44
        }
      ],
      "source": [
        "shot_data['pointNumber'].unique()"
      ]
    },
    {
      "cell_type": "markdown",
      "id": "dd38774c-8826-4889-b85c-7b19567048ee",
      "metadata": {
        "id": "dd38774c-8826-4889-b85c-7b19567048ee"
      },
      "source": [
        "# Below is for Point CSV"
      ]
    },
    {
      "cell_type": "markdown",
      "id": "7f1d94f6-82a3-41b6-baf6-a37171703732",
      "metadata": {
        "id": "7f1d94f6-82a3-41b6-baf6-a37171703732"
      },
      "source": [
        "### Create Point DF"
      ]
    },
    {
      "cell_type": "code",
      "execution_count": null,
      "id": "e50fad00-3f62-41c7-9d3f-87d19fdc6925",
      "metadata": {
        "id": "e50fad00-3f62-41c7-9d3f-87d19fdc6925"
      },
      "outputs": [],
      "source": [
        "# Creating point_df (with only 1 row for each pointNumber)\n",
        "point_df = shot_data.drop_duplicates(subset='pointNumber')[['pointNumber']]\n",
        "# point_df.shape"
      ]
    },
    {
      "cell_type": "code",
      "source": [
        "shot_data.head()"
      ],
      "metadata": {
        "id": "ctZCIhYBYwdy",
        "colab": {
          "base_uri": "https://localhost:8080/",
          "height": 290
        },
        "outputId": "b6c09a1a-14c0-4c85-caec-24d5a65086a7"
      },
      "id": "ctZCIhYBYwdy",
      "execution_count": null,
      "outputs": [
        {
          "output_type": "execute_result",
          "data": {
            "text/plain": [
              "  pointScore gameScore setScore tiebreakScore  isPointStart  pointStartTime  \\\n",
              "0        0-0       0-0      0-0           NaN           1.0             NaN   \n",
              "1        0-0       0-0      0-0           NaN           NaN             NaN   \n",
              "2       15-0       0-0      0-0           NaN           1.0             NaN   \n",
              "3       15-0       0-0      0-0           NaN           NaN             NaN   \n",
              "4       15-0       0-0      0-0           NaN           NaN             NaN   \n",
              "\n",
              "   isPointEnd  pointEndTime  pointNumber  isBreakPoint  ...  Surface Notes  \\\n",
              "0         NaN           NaN            1           NaN  ...     Hard   NaN   \n",
              "1         1.0           NaN            1           NaN  ...      NaN   NaN   \n",
              "2         NaN           NaN            2           NaN  ...      NaN   NaN   \n",
              "3         NaN           NaN            2           NaN  ...      NaN   NaN   \n",
              "4         1.0           NaN            2           NaN  ...      NaN   NaN   \n",
              "\n",
              "    returnerName  isInsideOut isInsideIn  isDoubleFault           pointWonBy  \\\n",
              "0       Karl Lee         None       None           None                 None   \n",
              "1       Karl Lee         None          1           None      Spencer Johnson   \n",
              "2  Samuel Rubell         None       None           None                 None   \n",
              "3  Samuel Rubell         None       None           None                 None   \n",
              "4  Samuel Rubell            1       None           None  Emon van Loben Sels   \n",
              "\n",
              "   lastShotError   serveResult  serveInPlacement  \n",
              "0              0  1st Serve In                 T  \n",
              "1              1          None              None  \n",
              "2              0  2nd Serve In              Body  \n",
              "3              0          None              None  \n",
              "4              0          None              None  \n",
              "\n",
              "[5 rows x 78 columns]"
            ],
            "text/html": [
              "\n",
              "  <div id=\"df-fc23595d-7b17-4135-88ab-0473484b2a3a\" class=\"colab-df-container\">\n",
              "    <div>\n",
              "<style scoped>\n",
              "    .dataframe tbody tr th:only-of-type {\n",
              "        vertical-align: middle;\n",
              "    }\n",
              "\n",
              "    .dataframe tbody tr th {\n",
              "        vertical-align: top;\n",
              "    }\n",
              "\n",
              "    .dataframe thead th {\n",
              "        text-align: right;\n",
              "    }\n",
              "</style>\n",
              "<table border=\"1\" class=\"dataframe\">\n",
              "  <thead>\n",
              "    <tr style=\"text-align: right;\">\n",
              "      <th></th>\n",
              "      <th>pointScore</th>\n",
              "      <th>gameScore</th>\n",
              "      <th>setScore</th>\n",
              "      <th>tiebreakScore</th>\n",
              "      <th>isPointStart</th>\n",
              "      <th>pointStartTime</th>\n",
              "      <th>isPointEnd</th>\n",
              "      <th>pointEndTime</th>\n",
              "      <th>pointNumber</th>\n",
              "      <th>isBreakPoint</th>\n",
              "      <th>...</th>\n",
              "      <th>Surface</th>\n",
              "      <th>Notes</th>\n",
              "      <th>returnerName</th>\n",
              "      <th>isInsideOut</th>\n",
              "      <th>isInsideIn</th>\n",
              "      <th>isDoubleFault</th>\n",
              "      <th>pointWonBy</th>\n",
              "      <th>lastShotError</th>\n",
              "      <th>serveResult</th>\n",
              "      <th>serveInPlacement</th>\n",
              "    </tr>\n",
              "  </thead>\n",
              "  <tbody>\n",
              "    <tr>\n",
              "      <th>0</th>\n",
              "      <td>0-0</td>\n",
              "      <td>0-0</td>\n",
              "      <td>0-0</td>\n",
              "      <td>NaN</td>\n",
              "      <td>1.0</td>\n",
              "      <td>NaN</td>\n",
              "      <td>NaN</td>\n",
              "      <td>NaN</td>\n",
              "      <td>1</td>\n",
              "      <td>NaN</td>\n",
              "      <td>...</td>\n",
              "      <td>Hard</td>\n",
              "      <td>NaN</td>\n",
              "      <td>Karl Lee</td>\n",
              "      <td>None</td>\n",
              "      <td>None</td>\n",
              "      <td>None</td>\n",
              "      <td>None</td>\n",
              "      <td>0</td>\n",
              "      <td>1st Serve In</td>\n",
              "      <td>T</td>\n",
              "    </tr>\n",
              "    <tr>\n",
              "      <th>1</th>\n",
              "      <td>0-0</td>\n",
              "      <td>0-0</td>\n",
              "      <td>0-0</td>\n",
              "      <td>NaN</td>\n",
              "      <td>NaN</td>\n",
              "      <td>NaN</td>\n",
              "      <td>1.0</td>\n",
              "      <td>NaN</td>\n",
              "      <td>1</td>\n",
              "      <td>NaN</td>\n",
              "      <td>...</td>\n",
              "      <td>NaN</td>\n",
              "      <td>NaN</td>\n",
              "      <td>Karl Lee</td>\n",
              "      <td>None</td>\n",
              "      <td>1</td>\n",
              "      <td>None</td>\n",
              "      <td>Spencer Johnson</td>\n",
              "      <td>1</td>\n",
              "      <td>None</td>\n",
              "      <td>None</td>\n",
              "    </tr>\n",
              "    <tr>\n",
              "      <th>2</th>\n",
              "      <td>15-0</td>\n",
              "      <td>0-0</td>\n",
              "      <td>0-0</td>\n",
              "      <td>NaN</td>\n",
              "      <td>1.0</td>\n",
              "      <td>NaN</td>\n",
              "      <td>NaN</td>\n",
              "      <td>NaN</td>\n",
              "      <td>2</td>\n",
              "      <td>NaN</td>\n",
              "      <td>...</td>\n",
              "      <td>NaN</td>\n",
              "      <td>NaN</td>\n",
              "      <td>Samuel Rubell</td>\n",
              "      <td>None</td>\n",
              "      <td>None</td>\n",
              "      <td>None</td>\n",
              "      <td>None</td>\n",
              "      <td>0</td>\n",
              "      <td>2nd Serve In</td>\n",
              "      <td>Body</td>\n",
              "    </tr>\n",
              "    <tr>\n",
              "      <th>3</th>\n",
              "      <td>15-0</td>\n",
              "      <td>0-0</td>\n",
              "      <td>0-0</td>\n",
              "      <td>NaN</td>\n",
              "      <td>NaN</td>\n",
              "      <td>NaN</td>\n",
              "      <td>NaN</td>\n",
              "      <td>NaN</td>\n",
              "      <td>2</td>\n",
              "      <td>NaN</td>\n",
              "      <td>...</td>\n",
              "      <td>NaN</td>\n",
              "      <td>NaN</td>\n",
              "      <td>Samuel Rubell</td>\n",
              "      <td>None</td>\n",
              "      <td>None</td>\n",
              "      <td>None</td>\n",
              "      <td>None</td>\n",
              "      <td>0</td>\n",
              "      <td>None</td>\n",
              "      <td>None</td>\n",
              "    </tr>\n",
              "    <tr>\n",
              "      <th>4</th>\n",
              "      <td>15-0</td>\n",
              "      <td>0-0</td>\n",
              "      <td>0-0</td>\n",
              "      <td>NaN</td>\n",
              "      <td>NaN</td>\n",
              "      <td>NaN</td>\n",
              "      <td>1.0</td>\n",
              "      <td>NaN</td>\n",
              "      <td>2</td>\n",
              "      <td>NaN</td>\n",
              "      <td>...</td>\n",
              "      <td>NaN</td>\n",
              "      <td>NaN</td>\n",
              "      <td>Samuel Rubell</td>\n",
              "      <td>1</td>\n",
              "      <td>None</td>\n",
              "      <td>None</td>\n",
              "      <td>Emon van Loben Sels</td>\n",
              "      <td>0</td>\n",
              "      <td>None</td>\n",
              "      <td>None</td>\n",
              "    </tr>\n",
              "  </tbody>\n",
              "</table>\n",
              "<p>5 rows × 78 columns</p>\n",
              "</div>\n",
              "    <div class=\"colab-df-buttons\">\n",
              "\n",
              "  <div class=\"colab-df-container\">\n",
              "    <button class=\"colab-df-convert\" onclick=\"convertToInteractive('df-fc23595d-7b17-4135-88ab-0473484b2a3a')\"\n",
              "            title=\"Convert this dataframe to an interactive table.\"\n",
              "            style=\"display:none;\">\n",
              "\n",
              "  <svg xmlns=\"http://www.w3.org/2000/svg\" height=\"24px\" viewBox=\"0 -960 960 960\">\n",
              "    <path d=\"M120-120v-720h720v720H120Zm60-500h600v-160H180v160Zm220 220h160v-160H400v160Zm0 220h160v-160H400v160ZM180-400h160v-160H180v160Zm440 0h160v-160H620v160ZM180-180h160v-160H180v160Zm440 0h160v-160H620v160Z\"/>\n",
              "  </svg>\n",
              "    </button>\n",
              "\n",
              "  <style>\n",
              "    .colab-df-container {\n",
              "      display:flex;\n",
              "      gap: 12px;\n",
              "    }\n",
              "\n",
              "    .colab-df-convert {\n",
              "      background-color: #E8F0FE;\n",
              "      border: none;\n",
              "      border-radius: 50%;\n",
              "      cursor: pointer;\n",
              "      display: none;\n",
              "      fill: #1967D2;\n",
              "      height: 32px;\n",
              "      padding: 0 0 0 0;\n",
              "      width: 32px;\n",
              "    }\n",
              "\n",
              "    .colab-df-convert:hover {\n",
              "      background-color: #E2EBFA;\n",
              "      box-shadow: 0px 1px 2px rgba(60, 64, 67, 0.3), 0px 1px 3px 1px rgba(60, 64, 67, 0.15);\n",
              "      fill: #174EA6;\n",
              "    }\n",
              "\n",
              "    .colab-df-buttons div {\n",
              "      margin-bottom: 4px;\n",
              "    }\n",
              "\n",
              "    [theme=dark] .colab-df-convert {\n",
              "      background-color: #3B4455;\n",
              "      fill: #D2E3FC;\n",
              "    }\n",
              "\n",
              "    [theme=dark] .colab-df-convert:hover {\n",
              "      background-color: #434B5C;\n",
              "      box-shadow: 0px 1px 3px 1px rgba(0, 0, 0, 0.15);\n",
              "      filter: drop-shadow(0px 1px 2px rgba(0, 0, 0, 0.3));\n",
              "      fill: #FFFFFF;\n",
              "    }\n",
              "  </style>\n",
              "\n",
              "    <script>\n",
              "      const buttonEl =\n",
              "        document.querySelector('#df-fc23595d-7b17-4135-88ab-0473484b2a3a button.colab-df-convert');\n",
              "      buttonEl.style.display =\n",
              "        google.colab.kernel.accessAllowed ? 'block' : 'none';\n",
              "\n",
              "      async function convertToInteractive(key) {\n",
              "        const element = document.querySelector('#df-fc23595d-7b17-4135-88ab-0473484b2a3a');\n",
              "        const dataTable =\n",
              "          await google.colab.kernel.invokeFunction('convertToInteractive',\n",
              "                                                    [key], {});\n",
              "        if (!dataTable) return;\n",
              "\n",
              "        const docLinkHtml = 'Like what you see? Visit the ' +\n",
              "          '<a target=\"_blank\" href=https://colab.research.google.com/notebooks/data_table.ipynb>data table notebook</a>'\n",
              "          + ' to learn more about interactive tables.';\n",
              "        element.innerHTML = '';\n",
              "        dataTable['output_type'] = 'display_data';\n",
              "        await google.colab.output.renderOutput(dataTable, element);\n",
              "        const docLink = document.createElement('div');\n",
              "        docLink.innerHTML = docLinkHtml;\n",
              "        element.appendChild(docLink);\n",
              "      }\n",
              "    </script>\n",
              "  </div>\n",
              "\n",
              "\n",
              "<div id=\"df-f60384f8-7a91-4fcb-b5b3-32cd504da52e\">\n",
              "  <button class=\"colab-df-quickchart\" onclick=\"quickchart('df-f60384f8-7a91-4fcb-b5b3-32cd504da52e')\"\n",
              "            title=\"Suggest charts\"\n",
              "            style=\"display:none;\">\n",
              "\n",
              "<svg xmlns=\"http://www.w3.org/2000/svg\" height=\"24px\"viewBox=\"0 0 24 24\"\n",
              "     width=\"24px\">\n",
              "    <g>\n",
              "        <path d=\"M19 3H5c-1.1 0-2 .9-2 2v14c0 1.1.9 2 2 2h14c1.1 0 2-.9 2-2V5c0-1.1-.9-2-2-2zM9 17H7v-7h2v7zm4 0h-2V7h2v10zm4 0h-2v-4h2v4z\"/>\n",
              "    </g>\n",
              "</svg>\n",
              "  </button>\n",
              "\n",
              "<style>\n",
              "  .colab-df-quickchart {\n",
              "      --bg-color: #E8F0FE;\n",
              "      --fill-color: #1967D2;\n",
              "      --hover-bg-color: #E2EBFA;\n",
              "      --hover-fill-color: #174EA6;\n",
              "      --disabled-fill-color: #AAA;\n",
              "      --disabled-bg-color: #DDD;\n",
              "  }\n",
              "\n",
              "  [theme=dark] .colab-df-quickchart {\n",
              "      --bg-color: #3B4455;\n",
              "      --fill-color: #D2E3FC;\n",
              "      --hover-bg-color: #434B5C;\n",
              "      --hover-fill-color: #FFFFFF;\n",
              "      --disabled-bg-color: #3B4455;\n",
              "      --disabled-fill-color: #666;\n",
              "  }\n",
              "\n",
              "  .colab-df-quickchart {\n",
              "    background-color: var(--bg-color);\n",
              "    border: none;\n",
              "    border-radius: 50%;\n",
              "    cursor: pointer;\n",
              "    display: none;\n",
              "    fill: var(--fill-color);\n",
              "    height: 32px;\n",
              "    padding: 0;\n",
              "    width: 32px;\n",
              "  }\n",
              "\n",
              "  .colab-df-quickchart:hover {\n",
              "    background-color: var(--hover-bg-color);\n",
              "    box-shadow: 0 1px 2px rgba(60, 64, 67, 0.3), 0 1px 3px 1px rgba(60, 64, 67, 0.15);\n",
              "    fill: var(--button-hover-fill-color);\n",
              "  }\n",
              "\n",
              "  .colab-df-quickchart-complete:disabled,\n",
              "  .colab-df-quickchart-complete:disabled:hover {\n",
              "    background-color: var(--disabled-bg-color);\n",
              "    fill: var(--disabled-fill-color);\n",
              "    box-shadow: none;\n",
              "  }\n",
              "\n",
              "  .colab-df-spinner {\n",
              "    border: 2px solid var(--fill-color);\n",
              "    border-color: transparent;\n",
              "    border-bottom-color: var(--fill-color);\n",
              "    animation:\n",
              "      spin 1s steps(1) infinite;\n",
              "  }\n",
              "\n",
              "  @keyframes spin {\n",
              "    0% {\n",
              "      border-color: transparent;\n",
              "      border-bottom-color: var(--fill-color);\n",
              "      border-left-color: var(--fill-color);\n",
              "    }\n",
              "    20% {\n",
              "      border-color: transparent;\n",
              "      border-left-color: var(--fill-color);\n",
              "      border-top-color: var(--fill-color);\n",
              "    }\n",
              "    30% {\n",
              "      border-color: transparent;\n",
              "      border-left-color: var(--fill-color);\n",
              "      border-top-color: var(--fill-color);\n",
              "      border-right-color: var(--fill-color);\n",
              "    }\n",
              "    40% {\n",
              "      border-color: transparent;\n",
              "      border-right-color: var(--fill-color);\n",
              "      border-top-color: var(--fill-color);\n",
              "    }\n",
              "    60% {\n",
              "      border-color: transparent;\n",
              "      border-right-color: var(--fill-color);\n",
              "    }\n",
              "    80% {\n",
              "      border-color: transparent;\n",
              "      border-right-color: var(--fill-color);\n",
              "      border-bottom-color: var(--fill-color);\n",
              "    }\n",
              "    90% {\n",
              "      border-color: transparent;\n",
              "      border-bottom-color: var(--fill-color);\n",
              "    }\n",
              "  }\n",
              "</style>\n",
              "\n",
              "  <script>\n",
              "    async function quickchart(key) {\n",
              "      const quickchartButtonEl =\n",
              "        document.querySelector('#' + key + ' button');\n",
              "      quickchartButtonEl.disabled = true;  // To prevent multiple clicks.\n",
              "      quickchartButtonEl.classList.add('colab-df-spinner');\n",
              "      try {\n",
              "        const charts = await google.colab.kernel.invokeFunction(\n",
              "            'suggestCharts', [key], {});\n",
              "      } catch (error) {\n",
              "        console.error('Error during call to suggestCharts:', error);\n",
              "      }\n",
              "      quickchartButtonEl.classList.remove('colab-df-spinner');\n",
              "      quickchartButtonEl.classList.add('colab-df-quickchart-complete');\n",
              "    }\n",
              "    (() => {\n",
              "      let quickchartButtonEl =\n",
              "        document.querySelector('#df-f60384f8-7a91-4fcb-b5b3-32cd504da52e button');\n",
              "      quickchartButtonEl.style.display =\n",
              "        google.colab.kernel.accessAllowed ? 'block' : 'none';\n",
              "    })();\n",
              "  </script>\n",
              "</div>\n",
              "\n",
              "    </div>\n",
              "  </div>\n"
            ],
            "application/vnd.google.colaboratory.intrinsic+json": {
              "type": "dataframe",
              "variable_name": "shot_data"
            }
          },
          "metadata": {},
          "execution_count": 46
        }
      ]
    },
    {
      "cell_type": "markdown",
      "id": "a57ecdf5-aaa6-4799-92e6-2845775401b8",
      "metadata": {
        "id": "a57ecdf5-aaa6-4799-92e6-2845775401b8"
      },
      "source": [
        "### Add Column: teamAplayer1Name, teamAplayer2Name, teamBplayer1Name, teamBplayer2Name\n",
        "### Set Variable: first_teamAplayer1, first_teamAplayer, first_teamBplayer1, first_teamBplayer"
      ]
    },
    {
      "cell_type": "code",
      "execution_count": null,
      "id": "f15c115d-4eb4-4eb3-9a6d-e4ff225c1385",
      "metadata": {
        "id": "f15c115d-4eb4-4eb3-9a6d-e4ff225c1385"
      },
      "outputs": [],
      "source": [
        "# Extract the first value of teamAPlayer1, teamAPlayer2, teamBPlayer1, and teamBPlayer2 from shot_data\n",
        "first_teamAPlayer1 = shot_data['teamAPlayer1'].iloc[0]\n",
        "first_teamAPlayer2 = shot_data['teamAPlayer2'].iloc[0]\n",
        "first_teamBPlayer1 = shot_data['teamBPlayer1'].iloc[0]\n",
        "first_teamBPlayer2 = shot_data['teamBPlayer2'].iloc[0]\n",
        "\n",
        "# Fill in the first value into all rows of point_df for the respective columns\n",
        "point_df['teamAPlayer1'] = first_teamAPlayer1\n",
        "point_df['teamAPlayer2'] = first_teamAPlayer2\n",
        "point_df['teamBPlayer1'] = first_teamBPlayer1\n",
        "point_df['teamBPlayer2'] = first_teamBPlayer2\n"
      ]
    },
    {
      "cell_type": "markdown",
      "id": "deb74788-f2d1-4c96-98e0-9d0d3717c6a7",
      "metadata": {
        "id": "deb74788-f2d1-4c96-98e0-9d0d3717c6a7"
      },
      "source": [
        "### Add Column: Scores"
      ]
    },
    {
      "cell_type": "code",
      "execution_count": null,
      "id": "ee01bdd1-0815-4eb5-9d0b-7cd0f0749a38",
      "metadata": {
        "id": "ee01bdd1-0815-4eb5-9d0b-7cd0f0749a38"
      },
      "outputs": [],
      "source": [
        "point_df['pointScore'] = shot_data.groupby('pointNumber')['pointScore'].first().values\n",
        "point_df['gameScore'] = shot_data.groupby('pointNumber')['gameScore'].first().values\n",
        "point_df['setScore'] = shot_data.groupby('pointNumber')['setScore'].first().values\n",
        "point_df['tiebreakScore'] = shot_data.groupby('pointNumber')['tiebreakScore'].first().values"
      ]
    },
    {
      "cell_type": "markdown",
      "id": "14fe84b7-38de-4c4a-97a2-17aca9281bd8",
      "metadata": {
        "id": "14fe84b7-38de-4c4a-97a2-17aca9281bd8"
      },
      "source": [
        "### Add Column: Side"
      ]
    },
    {
      "cell_type": "code",
      "execution_count": null,
      "id": "4d250819-706d-4cdf-ba3e-bc2a48a323bb",
      "metadata": {
        "id": "4d250819-706d-4cdf-ba3e-bc2a48a323bb"
      },
      "outputs": [],
      "source": [
        "# Group shot_data by 'pointNumber' and get the first 'side' value for each group\n",
        "side_values = shot_data.groupby('pointNumber')['side'].first().reset_index()\n",
        "\n",
        "point_df['side'] = side_values['side'].values"
      ]
    },
    {
      "cell_type": "markdown",
      "id": "0da6808a-148a-4a16-be9a-dcf1902c385a",
      "metadata": {
        "id": "0da6808a-148a-4a16-be9a-dcf1902c385a"
      },
      "source": [
        "### Add Column: serverName, returnerName\n",
        "\n",
        "---\n",
        "\n"
      ]
    },
    {
      "cell_type": "code",
      "execution_count": null,
      "id": "062f1793-501f-4662-b5f9-606d4d44d97f",
      "metadata": {
        "id": "062f1793-501f-4662-b5f9-606d4d44d97f"
      },
      "outputs": [],
      "source": [
        "# Adds Server and Returner Names and pointScore\n",
        "\n",
        "point_df['serverName'] = shot_data.groupby('pointNumber')['serverName'].first().values\n",
        "point_df['returnerName'] = shot_data.groupby('pointNumber')['returnerName'].first().values\n"
      ]
    },
    {
      "cell_type": "code",
      "execution_count": null,
      "id": "04e27ed6-5293-4ef2-a98f-ce93e3b34e40",
      "metadata": {
        "id": "04e27ed6-5293-4ef2-a98f-ce93e3b34e40"
      },
      "outputs": [],
      "source": [
        "client_team_value = shot_data.loc[0, 'teamA']\n",
        "opponent_team_value = shot_data.loc[0, 'teamB']\n",
        "\n",
        "# Adding 'clientTeam' and 'opponentTeam' columns to point_df\n",
        "point_df['clientTeam'] = client_team_value\n",
        "point_df['opponentTeam'] = opponent_team_value\n"
      ]
    },
    {
      "cell_type": "markdown",
      "id": "b2aa7da7-feee-49a5-9598-71c9738584cb",
      "metadata": {
        "id": "b2aa7da7-feee-49a5-9598-71c9738584cb"
      },
      "source": [
        "## Warning: Will be Empty if Timestamp separate"
      ]
    },
    {
      "cell_type": "code",
      "execution_count": null,
      "id": "bc3a101c-f6f7-410c-bae1-f248d85614df",
      "metadata": {
        "id": "bc3a101c-f6f7-410c-bae1-f248d85614df"
      },
      "outputs": [],
      "source": [
        "# Add Start and End times per point\n",
        "\n",
        "for index, row in shot_data.iterrows():\n",
        "    point_number = row['pointNumber']\n",
        "\n",
        "    if row['isPointStart'] == 1:\n",
        "        point_df.loc[point_df['pointNumber'] == point_number, 'Position'] = row['pointStartTime']\n",
        "    if row['isPointEnd'] == 1:\n",
        "        point_df.loc[point_df['pointNumber'] == point_number, 'pointEndPosition'] = row['pointEndTime']\n",
        "\n",
        "# Add Duration\n",
        "point_df['Duration'] = point_df['pointEndPosition'] - point_df['Position']"
      ]
    },
    {
      "cell_type": "markdown",
      "id": "ab9a88ef-3f8a-42c1-b81c-50b03c2fc853",
      "metadata": {
        "id": "ab9a88ef-3f8a-42c1-b81c-50b03c2fc853"
      },
      "source": [
        "### Add Column: Rally Column\n",
        "- rallyCount (x amount)\n",
        "- rallyCountFreq (1-4,5-8,9-12,13+)"
      ]
    },
    {
      "cell_type": "code",
      "execution_count": null,
      "id": "c69f0435-3385-448e-8d1e-f60bad6bbfb9",
      "metadata": {
        "id": "c69f0435-3385-448e-8d1e-f60bad6bbfb9"
      },
      "outputs": [],
      "source": [
        "# Find the highest shotInRally for each pointNumber in shot_data\n",
        "max_rally_per_point = shot_data.groupby('pointNumber')['shotInRally'].max().reset_index()\n",
        "point_df['rallyCount'] = list(max_rally_per_point['shotInRally'])\n",
        "\n",
        "# Add 'rallyCountFreq' column based on specified conditions\n",
        "point_df['rallyCountFreq'] = point_df['rallyCount'].apply(lambda x: '1 - 4' if 1 <= x <= 4 else ('5 - 8' if 5 <= x <= 8 else ('9 - 12' if 9 <= x <= 12 else ('13 +' if x >= 13 else 'Error'))))\n"
      ]
    },
    {
      "cell_type": "markdown",
      "id": "6d73c5aa-9ba2-428b-80e8-5a85f7fbb4a1",
      "metadata": {
        "id": "6d73c5aa-9ba2-428b-80e8-5a85f7fbb4a1"
      },
      "source": [
        "### Add Column: Serve\n",
        "- firstServeIn\n",
        "- secondServeIn\n",
        "- serveResult\n",
        "- serveInPlacement\n",
        "\n",
        "Part 2\n",
        "- serveResult\n",
        "- serveInPlacement\n",
        "\n",
        "Part 3\n",
        "- firstServeZone\n",
        "- secondServeZone"
      ]
    },
    {
      "cell_type": "code",
      "execution_count": null,
      "id": "ab2ae70f-ad58-4d53-b229-44044ad391c8",
      "metadata": {
        "id": "ab2ae70f-ad58-4d53-b229-44044ad391c8"
      },
      "outputs": [],
      "source": [
        "# Add firstServeIn and secondServeIn\n",
        "\n",
        "# Add firstServeIn and secondServeIn columns\n",
        "point_df['firstServeIn'] = 0\n",
        "point_df['secondServeIn'] = 0\n",
        "\n",
        "for point_number in shot_data['pointNumber'].unique():\n",
        "    # Check if firstServeIn is 1 for the given pointNumber in shot_data\n",
        "    if any((shot_data['pointNumber'] == point_number) & (shot_data['firstServeIn'] == 1)):\n",
        "        point_df.loc[point_df['pointNumber'] == point_number, 'firstServeIn'] = 1\n",
        "\n",
        "    # Check if secondServeIn is 1 for the given pointNumber in shot_data\n",
        "    if any((shot_data['pointNumber'] == point_number) & (shot_data['secondServeIn'] == 1)):\n",
        "        point_df.loc[point_df['pointNumber'] == point_number, 'secondServeIn'] = 1\n",
        "\n",
        "#part 2\n",
        "start_points = shot_data[shot_data['isPointStart'] == 1]\n",
        "\n",
        "# Set values in point_df to corresponding values from start_points\n",
        "point_df['serveResult'] = start_points['serveResult'].values\n",
        "point_df['serveInPlacement'] = start_points['serveInPlacement'].values\n",
        "\n",
        "# part 3\n",
        "serve_zones = shot_data.loc[shot_data['shotInRally'] == 1, ['pointNumber', 'firstServeZone', 'secondServeZone', 'firstServeIn', 'secondServeIn']].drop_duplicates()\n",
        "point_df['firstServeZone'] = shot_data.groupby('pointNumber')['firstServeZone'].first().values\n",
        "point_df['secondServeZone'] = shot_data.groupby('pointNumber')['secondServeZone'].first().values"
      ]
    },
    {
      "cell_type": "markdown",
      "id": "eb67c372-56c0-41d2-b972-84b747cf0cd1",
      "metadata": {
        "id": "eb67c372-56c0-41d2-b972-84b747cf0cd1"
      },
      "source": [
        "### Add Column: Ace"
      ]
    },
    {
      "cell_type": "code",
      "execution_count": null,
      "id": "dccd8e5d-c4aa-42a9-9131-a950fd9c1fc3",
      "metadata": {
        "id": "dccd8e5d-c4aa-42a9-9131-a950fd9c1fc3",
        "colab": {
          "base_uri": "https://localhost:8080/"
        },
        "outputId": "ac8bd68a-0e2f-4d34-f69e-5f7a24c68f16"
      },
      "outputs": [
        {
          "output_type": "stream",
          "name": "stdout",
          "text": [
            "    pointNumber  rallyCount  isAce\n",
            "0             1           2  False\n",
            "2             2           3  False\n",
            "5             3           4  False\n",
            "9             4           3  False\n",
            "12            5           2  False\n",
            "14            6           5  False\n",
            "19            7           5  False\n",
            "24            8           2  False\n",
            "26            9           4  False\n",
            "30           10           5  False\n",
            "35           11           3  False\n",
            "38           12           1  False\n",
            "39           13           3  False\n",
            "42           14           3  False\n"
          ]
        }
      ],
      "source": [
        "point_df['isAce'] = ((point_df['rallyCount'] == 1) & ((point_df['serveResult'] != \"Double Fault\")))\n",
        "\n",
        "# Display the resulting DataFrame\n",
        "print(point_df[['pointNumber', 'rallyCount', 'isAce']].head(14))"
      ]
    },
    {
      "cell_type": "markdown",
      "id": "3e3a3730-dac7-44f0-b03c-de912ab7b0d5",
      "metadata": {
        "id": "3e3a3730-dac7-44f0-b03c-de912ab7b0d5"
      },
      "source": [
        "### Add Column: Return"
      ]
    },
    {
      "cell_type": "code",
      "execution_count": null,
      "id": "6ad9166e-c979-4914-b749-d734d1a26bd7",
      "metadata": {
        "id": "6ad9166e-c979-4914-b749-d734d1a26bd7"
      },
      "outputs": [],
      "source": [
        "# print(shot_data[shot_data['shotInRally'] == 2][['shotDirection','shotFhBh','pointScore','gameScore','setScore']])"
      ]
    },
    {
      "cell_type": "code",
      "execution_count": null,
      "id": "c8456a4a-2faf-401c-ade1-180c6c28f40a",
      "metadata": {
        "id": "c8456a4a-2faf-401c-ade1-180c6c28f40a",
        "colab": {
          "base_uri": "https://localhost:8080/"
        },
        "outputId": "c41a5218-ddb7-4204-8b47-ed3a5a46c3d0"
      },
      "outputs": [
        {
          "output_type": "stream",
          "name": "stdout",
          "text": [
            "    pointNumber     teamAPlayer1         teamAPlayer2 teamBPlayer1  \\\n",
            "0             1  Spencer Johnson  Emon van Loben Sels     Karl Lee   \n",
            "2             2  Spencer Johnson  Emon van Loben Sels     Karl Lee   \n",
            "5             3  Spencer Johnson  Emon van Loben Sels     Karl Lee   \n",
            "9             4  Spencer Johnson  Emon van Loben Sels     Karl Lee   \n",
            "12            5  Spencer Johnson  Emon van Loben Sels     Karl Lee   \n",
            "14            6  Spencer Johnson  Emon van Loben Sels     Karl Lee   \n",
            "19            7  Spencer Johnson  Emon van Loben Sels     Karl Lee   \n",
            "24            8  Spencer Johnson  Emon van Loben Sels     Karl Lee   \n",
            "26            9  Spencer Johnson  Emon van Loben Sels     Karl Lee   \n",
            "30           10  Spencer Johnson  Emon van Loben Sels     Karl Lee   \n",
            "\n",
            "     teamBPlayer2 pointScore gameScore setScore tiebreakScore   side  ...  \\\n",
            "0   Samuel Rubell        0-0       0-0      0-0          None  Deuce  ...   \n",
            "2   Samuel Rubell       15-0       0-0      0-0          None     Ad  ...   \n",
            "5   Samuel Rubell       30-0       0-0      0-0          None  Deuce  ...   \n",
            "9   Samuel Rubell       40-0       0-0      0-0          None     Ad  ...   \n",
            "12  Samuel Rubell        0-0       1-0      0-0          None  Deuce  ...   \n",
            "14  Samuel Rubell       15-0       1-0      0-0          None     Ad  ...   \n",
            "19  Samuel Rubell       30-0       1-0      0-0          None  Deuce  ...   \n",
            "24  Samuel Rubell       40-0       1-0      0-0          None     Ad  ...   \n",
            "26  Samuel Rubell        0-0       1-1      0-0          None  Deuce  ...   \n",
            "30  Samuel Rubell       15-0       1-1      0-0          None     Ad  ...   \n",
            "\n",
            "   rallyCountFreq firstServeIn secondServeIn   serveResult  serveInPlacement  \\\n",
            "0           1 - 4            1             0  1st Serve In                 T   \n",
            "2           1 - 4            0             1  2nd Serve In              Body   \n",
            "5           1 - 4            1             0  1st Serve In              Body   \n",
            "9           1 - 4            0             1  2nd Serve In              Body   \n",
            "12          1 - 4            1             0  1st Serve In                 T   \n",
            "14          5 - 8            1             0  1st Serve In              Body   \n",
            "19          5 - 8            1             0  1st Serve In                 T   \n",
            "24          1 - 4            1             0  1st Serve In                 T   \n",
            "26          1 - 4            1             0  1st Serve In              Body   \n",
            "30          5 - 8            1             0  1st Serve In                 T   \n",
            "\n",
            "    firstServeZone  secondServeZone  isAce returnDirection  returnFhBh  \n",
            "0                T             None  False   Down the Line    Backhand  \n",
            "2             Body             Body  False      Crosscourt    Backhand  \n",
            "5             Body             None  False   Down the Line    Backhand  \n",
            "9                T             Body  False      Crosscourt    Backhand  \n",
            "12               T             None  False   Down the Line    Backhand  \n",
            "14            Body             None  False   Down the Line    Backhand  \n",
            "19               T             None  False      Crosscourt    Backhand  \n",
            "24               T             None  False      Crosscourt    Backhand  \n",
            "26            Body             None  False   Down the Line    Backhand  \n",
            "30               T             None  False      Crosscourt    Forehand  \n",
            "\n",
            "[10 rows x 28 columns]\n"
          ]
        }
      ],
      "source": [
        "# Set the initial values of 'returnDirection' and 'returnHand' columns to None\n",
        "point_df['returnDirection'] = None\n",
        "point_df['returnFhBh'] = None\n",
        "\n",
        "# Iterate through pointNumber in shot_data\n",
        "for point_number in shot_data['pointNumber'].unique():\n",
        "    # Check if shotInRally == 2 exists for the given pointNumber\n",
        "    if 2 in shot_data.loc[shot_data['pointNumber'] == point_number, 'shotInRally'].values:\n",
        "        # Get the information from the corresponding row\n",
        "        row_with_return_info = shot_data[(shot_data['pointNumber'] == point_number) & (shot_data['shotInRally'] == 2)].iloc[0]\n",
        "\n",
        "        # Assign values to 'returnDirection' and 'returnHand' columns\n",
        "        point_df.loc[point_df['pointNumber'] == point_number, 'returnDirection'] = row_with_return_info['shotDirection']\n",
        "        point_df.loc[point_df['pointNumber'] == point_number, 'returnFhBh'] = row_with_return_info['shotFhBh']\n",
        "\n",
        "# Display the modified DataFrame\n",
        "print(point_df.head(10))"
      ]
    },
    {
      "cell_type": "markdown",
      "id": "c33cb300-0c70-49d2-bb4b-e76d4853de0a",
      "metadata": {
        "id": "c33cb300-0c70-49d2-bb4b-e76d4853de0a"
      },
      "source": [
        "### Add Column: Error Column\n",
        "- errorType"
      ]
    },
    {
      "cell_type": "code",
      "execution_count": null,
      "id": "f10972b3-884a-4e58-9d81-ab0d9704bd23",
      "metadata": {
        "id": "f10972b3-884a-4e58-9d81-ab0d9704bd23"
      },
      "outputs": [],
      "source": [
        "# Create an empty DataFrame to store the results\n",
        "error_results = pd.DataFrame(columns=['errorType', 'pointNumber'])\n",
        "\n",
        "# Iterate through entire shot_data\n",
        "for index, row in shot_data.iterrows():\n",
        "    pointNumber = row['pointNumber']\n",
        "    point_error_value = None\n",
        "\n",
        "    if row['isErrorWideR'] == 1:\n",
        "        point_error_value = 'Wide Right'\n",
        "    elif row['isErrorWideL'] == 1:\n",
        "        point_error_value = 'Wide Left'\n",
        "    elif 'isErrorNet' in row and row['isErrorNet'] == 1:\n",
        "        point_error_value = 'Net'\n",
        "    elif row['isErrorLong'] == 1:\n",
        "        point_error_value = 'Long'\n",
        "\n",
        "\n",
        "    # If an error is found, append the result to the error_results DataFrame\n",
        "    if point_error_value is not None:\n",
        "        error_results = pd.concat([error_results, pd.DataFrame({'pointNumber': [pointNumber], 'errorType': [point_error_value]})], ignore_index=True)\n",
        "\n",
        "\n",
        "# Drop duplicates based on 'pointNumber'\n",
        "error_results = error_results.drop_duplicates(subset=['pointNumber'])"
      ]
    },
    {
      "cell_type": "code",
      "execution_count": null,
      "id": "a9b428e1-322f-4908-b89f-2a7c38667504",
      "metadata": {
        "id": "a9b428e1-322f-4908-b89f-2a7c38667504"
      },
      "outputs": [],
      "source": [
        "# Create a dictionary mapping 'pointNumber' to 'errorType' in error_results\n",
        "error_type_mapping = dict(zip(error_results['pointNumber'], error_results['errorType']))\n",
        "\n",
        "# Create 'errorType' column in point_df based on the mapping\n",
        "point_df['errorType'] = point_df['pointNumber'].map(error_type_mapping)\n",
        "\n",
        "point_df = point_df.replace({np.nan: None})"
      ]
    },
    {
      "cell_type": "markdown",
      "id": "60e73b6b-2a6f-4a29-9110-010eefc4021b",
      "metadata": {
        "id": "60e73b6b-2a6f-4a29-9110-010eefc4021b"
      },
      "source": [
        "### Add Column: Error (Returns)"
      ]
    },
    {
      "cell_type": "code",
      "execution_count": null,
      "id": "4b6b3aa8-be4c-4fe7-ad30-f3a8b58fde86",
      "metadata": {
        "id": "4b6b3aa8-be4c-4fe7-ad30-f3a8b58fde86"
      },
      "outputs": [],
      "source": [
        "def get_return_error(row):\n",
        "    if row['rallyCount'] == 2:\n",
        "        return row['errorType']\n",
        "    else:\n",
        "        return None\n",
        "\n",
        "point_df.loc[point_df['pointNumber'] == point_number, 'serveInPlacement'] = shot_data['secondServeZone']\n",
        "\n",
        "# Apply the functions to create the new columns\n",
        "point_df['returnError'] = point_df.apply(get_return_error, axis=1)\n"
      ]
    },
    {
      "cell_type": "markdown",
      "id": "9016ca68-379b-4af0-9d34-17e9dea6de06",
      "metadata": {
        "id": "9016ca68-379b-4af0-9d34-17e9dea6de06"
      },
      "source": [
        "### Add Column: Last Shot"
      ]
    },
    {
      "cell_type": "code",
      "execution_count": null,
      "id": "d82dd333-70de-4a33-b493-cca692cde241",
      "metadata": {
        "id": "d82dd333-70de-4a33-b493-cca692cde241"
      },
      "outputs": [],
      "source": [
        "point_df['lastShotDirection'] = None\n",
        "point_df['lastShotFhBh'] = None\n",
        "point_df['lastShotHitBy'] = None\n",
        "point_df['lastShotResult'] = None\n",
        "\n",
        "# Iterate through unique pointNumbers in shot_data\n",
        "for point_number in shot_data['pointNumber'].unique():\n",
        "    # Check if isPointEnd == 1 exists for the given pointNumber\n",
        "    if 1 in shot_data.loc[shot_data['pointNumber'] == point_number, 'isPointEnd'].values:\n",
        "        # Get the information from the corresponding row\n",
        "        row_with_lastshot_info = shot_data[(shot_data['pointNumber'] == point_number) & (shot_data['isPointEnd'] == 1)].iloc[0]\n",
        "\n",
        "        # Assign values to 'lastShotDirection' and 'lastShotFhBh' columns\n",
        "        point_df.loc[point_df['pointNumber'] == point_number, 'lastShotDirection'] = row_with_lastshot_info['shotDirection']\n",
        "        point_df.loc[point_df['pointNumber'] == point_number, 'lastShotFhBh'] = row_with_lastshot_info['shotFhBh']\n",
        "        point_df.loc[point_df['pointNumber'] == point_number, 'lastShotHitBy'] = row_with_lastshot_info['shotHitBy']\n",
        "\n",
        "        # Determine lastShotResult based on conditions\n",
        "        if row_with_lastshot_info['isWinner'] == 1 and not row_with_lastshot_info['isAce']:\n",
        "            point_df.loc[point_df['pointNumber'] == point_number, 'lastShotResult'] = \"Winner\"\n",
        "        elif row_with_lastshot_info['lastShotError'] == 1:\n",
        "            point_df.loc[point_df['pointNumber'] == point_number, 'lastShotResult'] = \"Error\""
      ]
    },
    {
      "cell_type": "code",
      "execution_count": null,
      "id": "d8f8eb4c-73cf-4dd4-ab19-60a81bcd6bc9",
      "metadata": {
        "id": "d8f8eb4c-73cf-4dd4-ab19-60a81bcd6bc9",
        "colab": {
          "base_uri": "https://localhost:8080/"
        },
        "outputId": "96c93269-f5e1-4038-e997-89202b8366ae"
      },
      "outputs": [
        {
          "output_type": "stream",
          "name": "stdout",
          "text": [
            "['Error' 'Winner' None]\n"
          ]
        }
      ],
      "source": [
        "print(point_df['lastShotResult'].unique())"
      ]
    },
    {
      "cell_type": "markdown",
      "id": "f86354a2-0aca-4d0b-9e61-5d5f93c2a6d8",
      "metadata": {
        "id": "f86354a2-0aca-4d0b-9e61-5d5f93c2a6d8"
      },
      "source": [
        "### Add Column: pointWonBy"
      ]
    },
    {
      "cell_type": "code",
      "execution_count": null,
      "id": "072c95c3-a8cd-448c-8ce8-88b5288316bb",
      "metadata": {
        "id": "072c95c3-a8cd-448c-8ce8-88b5288316bb"
      },
      "outputs": [],
      "source": [
        "# Initialize variables to keep track of the state\n",
        "prev_point_number = None\n",
        "point_won_by_list = []\n",
        "\n",
        "# Iterate through the DataFrame\n",
        "for index, row in shot_data.iterrows():\n",
        "    if row['isPointEnd'] == 1:\n",
        "        # Check if pointNumber is different and consecutively increasing\n",
        "        if prev_point_number is None or row['pointNumber'] == prev_point_number + 1:\n",
        "            # Append pointWonBy to the list\n",
        "            point_won_by_list.append(row['pointWonBy'])\n",
        "            prev_point_number = row['pointNumber']\n",
        "        else:\n",
        "            raise ValueError(\"Error: Point numbers are not different or consecutively increasing.\")\n",
        "            break\n",
        "\n",
        "# Add point_won_by_list as a new column to point_df\n",
        "point_df['pointWonBy'] = point_won_by_list"
      ]
    },
    {
      "cell_type": "markdown",
      "id": "eaf01ad1-a8bd-4d4a-88fd-8a8e2402d069",
      "metadata": {
        "id": "eaf01ad1-a8bd-4d4a-88fd-8a8e2402d069"
      },
      "source": [
        "## Error Check 22:\n",
        "#### teamA and teamB player1, player2, serverName, returnerName do not have misspellings"
      ]
    },
    {
      "cell_type": "code",
      "execution_count": null,
      "id": "5a0fd4d2-e9e5-435a-ac05-17f52f8bfef2",
      "metadata": {
        "id": "5a0fd4d2-e9e5-435a-ac05-17f52f8bfef2",
        "colab": {
          "base_uri": "https://localhost:8080/"
        },
        "outputId": "d7e5929d-c573-4d42-cd48-cd7b9ac4711a"
      },
      "outputs": [
        {
          "output_type": "stream",
          "name": "stdout",
          "text": [
            "['Spencer Johnson']\n",
            "['Emon van Loben Sels']\n",
            "['Karl Lee']\n",
            "['Samuel Rubell']\n",
            "['Spencer Johnson' 'Samuel Rubell' 'Emon van Loben Sels' 'Karl Lee']\n",
            "['Karl Lee' 'Samuel Rubell' 'Emon van Loben Sels' 'Spencer Johnson']\n"
          ]
        }
      ],
      "source": [
        "# Print the unique values of teamAPlayer1, teamAPlayer2, teamBPlayer1, and teamBPlayer2\n",
        "print(point_df['teamAPlayer1'].unique())\n",
        "print(point_df['teamAPlayer2'].unique())\n",
        "print(point_df['teamBPlayer1'].unique())\n",
        "print(point_df['teamBPlayer2'].unique())\n",
        "\n",
        "print(point_df['serverName'].unique())\n",
        "print(point_df['returnerName'].unique())\n",
        "\n",
        "if (len(point_df['serverName'].unique()) != 4):\n",
        "    raise ValueError('Error: Mispelled Names')\n",
        "\n",
        "if (len(point_df['returnerName'].unique()) != 4):\n",
        "    raise ValueError('Error: Mispelled Names')"
      ]
    },
    {
      "cell_type": "markdown",
      "id": "81674f01-f647-4ecb-8c11-8e8c7caa037f",
      "metadata": {
        "id": "81674f01-f647-4ecb-8c11-8e8c7caa037f"
      },
      "source": [
        "## Error Check 23:\n",
        "#### pointWonBy has value that is not one of the two player names\n",
        "- References: first_teamAplayer1, first_teamAplayer2, first_teamBplayer1, first_teamBplayer2 from above server info in point_df"
      ]
    },
    {
      "cell_type": "code",
      "execution_count": null,
      "id": "20159d1f-49e5-4b80-94bc-0273386eeaf2",
      "metadata": {
        "id": "20159d1f-49e5-4b80-94bc-0273386eeaf2",
        "colab": {
          "base_uri": "https://localhost:8080/"
        },
        "outputId": "0b97d2a8-b7b0-4eda-f262-e540b89a2143"
      },
      "outputs": [
        {
          "output_type": "stream",
          "name": "stdout",
          "text": [
            "['Spencer Johnson' 'Emon van Loben Sels' 'Samuel Rubell' 'Karl Lee']\n",
            "Check passed.\n"
          ]
        }
      ],
      "source": [
        "print(point_df['pointWonBy'].unique())\n",
        "none_pointWonBy_df = point_df[~point_df['pointWonBy'].isin([first_teamAPlayer1, first_teamAPlayer2, first_teamBPlayer1, first_teamBPlayer2])]\n",
        "\n",
        "if none_pointWonBy_df.empty:\n",
        "    print(\"Check passed.\")\n",
        "else:\n",
        "    print(\"Error: Rows where pointWonBy is not by either player!\")\n",
        "    print(none_pointWonBy_df)"
      ]
    },
    {
      "cell_type": "markdown",
      "id": "60aebf71-65aa-4d1d-8fec-ea650c4ae3be",
      "metadata": {
        "id": "60aebf71-65aa-4d1d-8fec-ea650c4ae3be"
      },
      "source": [
        "### Add Column: Break Point"
      ]
    },
    {
      "cell_type": "code",
      "execution_count": null,
      "id": "77ec29ea",
      "metadata": {
        "id": "77ec29ea"
      },
      "outputs": [],
      "source": [
        "break_point_values = ['0-40', '15-40', '30-40', '40-40']\n",
        "\n",
        "# Create 'isBreakPoint' column in point_df\n",
        "point_df['isBreakPoint'] = point_df['pointScore'].isin(break_point_values)"
      ]
    },
    {
      "cell_type": "code",
      "execution_count": null,
      "id": "2ab037f6",
      "metadata": {
        "id": "2ab037f6",
        "colab": {
          "base_uri": "https://localhost:8080/",
          "height": 311
        },
        "outputId": "0eb2f7f1-b001-4f2b-86f6-0657619355ba"
      },
      "outputs": [
        {
          "output_type": "stream",
          "name": "stdout",
          "text": [
            "Total break points: 4\n"
          ]
        },
        {
          "output_type": "execute_result",
          "data": {
            "text/plain": [
              "     pointNumber     teamAPlayer1         teamAPlayer2 teamBPlayer1  \\\n",
              "42            14  Spencer Johnson  Emon van Loben Sels     Karl Lee   \n",
              "62            20  Spencer Johnson  Emon van Loben Sels     Karl Lee   \n",
              "203           57  Spencer Johnson  Emon van Loben Sels     Karl Lee   \n",
              "205           58  Spencer Johnson  Emon van Loben Sels     Karl Lee   \n",
              "\n",
              "      teamBPlayer2 pointScore gameScore setScore tiebreakScore   side  ...  \\\n",
              "42   Samuel Rubell      30-40       1-1      0-0          None     Ad  ...   \n",
              "62   Samuel Rubell      30-40       2-1      0-0          None     Ad  ...   \n",
              "203  Samuel Rubell      30-40       5-5      0-0          None     Ad  ...   \n",
              "205  Samuel Rubell      40-40       5-5      0-0          None  Deuce  ...   \n",
              "\n",
              "    returnDirection returnFhBh  errorType returnError lastShotDirection  \\\n",
              "42       Crosscourt   Backhand        Net        None     Down the Line   \n",
              "62       Crosscourt   Backhand        Net        None        Crosscourt   \n",
              "203      Crosscourt   Forehand       Long        Long        Crosscourt   \n",
              "205      Crosscourt   Forehand  Wide Left        None        Crosscourt   \n",
              "\n",
              "    lastShotFhBh        lastShotHitBy  lastShotResult           pointWonBy  \\\n",
              "42      Backhand  Emon van Loben Sels           Error        Samuel Rubell   \n",
              "62      Backhand        Samuel Rubell           Error      Spencer Johnson   \n",
              "203     Forehand        Samuel Rubell           Error  Emon van Loben Sels   \n",
              "205     Backhand             Karl Lee           Error  Emon van Loben Sels   \n",
              "\n",
              "     isBreakPoint  \n",
              "42           True  \n",
              "62           True  \n",
              "203          True  \n",
              "205          True  \n",
              "\n",
              "[4 rows x 36 columns]"
            ],
            "text/html": [
              "\n",
              "  <div id=\"df-2a4a5c32-9958-409f-be2b-00c492e57bea\" class=\"colab-df-container\">\n",
              "    <div>\n",
              "<style scoped>\n",
              "    .dataframe tbody tr th:only-of-type {\n",
              "        vertical-align: middle;\n",
              "    }\n",
              "\n",
              "    .dataframe tbody tr th {\n",
              "        vertical-align: top;\n",
              "    }\n",
              "\n",
              "    .dataframe thead th {\n",
              "        text-align: right;\n",
              "    }\n",
              "</style>\n",
              "<table border=\"1\" class=\"dataframe\">\n",
              "  <thead>\n",
              "    <tr style=\"text-align: right;\">\n",
              "      <th></th>\n",
              "      <th>pointNumber</th>\n",
              "      <th>teamAPlayer1</th>\n",
              "      <th>teamAPlayer2</th>\n",
              "      <th>teamBPlayer1</th>\n",
              "      <th>teamBPlayer2</th>\n",
              "      <th>pointScore</th>\n",
              "      <th>gameScore</th>\n",
              "      <th>setScore</th>\n",
              "      <th>tiebreakScore</th>\n",
              "      <th>side</th>\n",
              "      <th>...</th>\n",
              "      <th>returnDirection</th>\n",
              "      <th>returnFhBh</th>\n",
              "      <th>errorType</th>\n",
              "      <th>returnError</th>\n",
              "      <th>lastShotDirection</th>\n",
              "      <th>lastShotFhBh</th>\n",
              "      <th>lastShotHitBy</th>\n",
              "      <th>lastShotResult</th>\n",
              "      <th>pointWonBy</th>\n",
              "      <th>isBreakPoint</th>\n",
              "    </tr>\n",
              "  </thead>\n",
              "  <tbody>\n",
              "    <tr>\n",
              "      <th>42</th>\n",
              "      <td>14</td>\n",
              "      <td>Spencer Johnson</td>\n",
              "      <td>Emon van Loben Sels</td>\n",
              "      <td>Karl Lee</td>\n",
              "      <td>Samuel Rubell</td>\n",
              "      <td>30-40</td>\n",
              "      <td>1-1</td>\n",
              "      <td>0-0</td>\n",
              "      <td>None</td>\n",
              "      <td>Ad</td>\n",
              "      <td>...</td>\n",
              "      <td>Crosscourt</td>\n",
              "      <td>Backhand</td>\n",
              "      <td>Net</td>\n",
              "      <td>None</td>\n",
              "      <td>Down the Line</td>\n",
              "      <td>Backhand</td>\n",
              "      <td>Emon van Loben Sels</td>\n",
              "      <td>Error</td>\n",
              "      <td>Samuel Rubell</td>\n",
              "      <td>True</td>\n",
              "    </tr>\n",
              "    <tr>\n",
              "      <th>62</th>\n",
              "      <td>20</td>\n",
              "      <td>Spencer Johnson</td>\n",
              "      <td>Emon van Loben Sels</td>\n",
              "      <td>Karl Lee</td>\n",
              "      <td>Samuel Rubell</td>\n",
              "      <td>30-40</td>\n",
              "      <td>2-1</td>\n",
              "      <td>0-0</td>\n",
              "      <td>None</td>\n",
              "      <td>Ad</td>\n",
              "      <td>...</td>\n",
              "      <td>Crosscourt</td>\n",
              "      <td>Backhand</td>\n",
              "      <td>Net</td>\n",
              "      <td>None</td>\n",
              "      <td>Crosscourt</td>\n",
              "      <td>Backhand</td>\n",
              "      <td>Samuel Rubell</td>\n",
              "      <td>Error</td>\n",
              "      <td>Spencer Johnson</td>\n",
              "      <td>True</td>\n",
              "    </tr>\n",
              "    <tr>\n",
              "      <th>203</th>\n",
              "      <td>57</td>\n",
              "      <td>Spencer Johnson</td>\n",
              "      <td>Emon van Loben Sels</td>\n",
              "      <td>Karl Lee</td>\n",
              "      <td>Samuel Rubell</td>\n",
              "      <td>30-40</td>\n",
              "      <td>5-5</td>\n",
              "      <td>0-0</td>\n",
              "      <td>None</td>\n",
              "      <td>Ad</td>\n",
              "      <td>...</td>\n",
              "      <td>Crosscourt</td>\n",
              "      <td>Forehand</td>\n",
              "      <td>Long</td>\n",
              "      <td>Long</td>\n",
              "      <td>Crosscourt</td>\n",
              "      <td>Forehand</td>\n",
              "      <td>Samuel Rubell</td>\n",
              "      <td>Error</td>\n",
              "      <td>Emon van Loben Sels</td>\n",
              "      <td>True</td>\n",
              "    </tr>\n",
              "    <tr>\n",
              "      <th>205</th>\n",
              "      <td>58</td>\n",
              "      <td>Spencer Johnson</td>\n",
              "      <td>Emon van Loben Sels</td>\n",
              "      <td>Karl Lee</td>\n",
              "      <td>Samuel Rubell</td>\n",
              "      <td>40-40</td>\n",
              "      <td>5-5</td>\n",
              "      <td>0-0</td>\n",
              "      <td>None</td>\n",
              "      <td>Deuce</td>\n",
              "      <td>...</td>\n",
              "      <td>Crosscourt</td>\n",
              "      <td>Forehand</td>\n",
              "      <td>Wide Left</td>\n",
              "      <td>None</td>\n",
              "      <td>Crosscourt</td>\n",
              "      <td>Backhand</td>\n",
              "      <td>Karl Lee</td>\n",
              "      <td>Error</td>\n",
              "      <td>Emon van Loben Sels</td>\n",
              "      <td>True</td>\n",
              "    </tr>\n",
              "  </tbody>\n",
              "</table>\n",
              "<p>4 rows × 36 columns</p>\n",
              "</div>\n",
              "    <div class=\"colab-df-buttons\">\n",
              "\n",
              "  <div class=\"colab-df-container\">\n",
              "    <button class=\"colab-df-convert\" onclick=\"convertToInteractive('df-2a4a5c32-9958-409f-be2b-00c492e57bea')\"\n",
              "            title=\"Convert this dataframe to an interactive table.\"\n",
              "            style=\"display:none;\">\n",
              "\n",
              "  <svg xmlns=\"http://www.w3.org/2000/svg\" height=\"24px\" viewBox=\"0 -960 960 960\">\n",
              "    <path d=\"M120-120v-720h720v720H120Zm60-500h600v-160H180v160Zm220 220h160v-160H400v160Zm0 220h160v-160H400v160ZM180-400h160v-160H180v160Zm440 0h160v-160H620v160ZM180-180h160v-160H180v160Zm440 0h160v-160H620v160Z\"/>\n",
              "  </svg>\n",
              "    </button>\n",
              "\n",
              "  <style>\n",
              "    .colab-df-container {\n",
              "      display:flex;\n",
              "      gap: 12px;\n",
              "    }\n",
              "\n",
              "    .colab-df-convert {\n",
              "      background-color: #E8F0FE;\n",
              "      border: none;\n",
              "      border-radius: 50%;\n",
              "      cursor: pointer;\n",
              "      display: none;\n",
              "      fill: #1967D2;\n",
              "      height: 32px;\n",
              "      padding: 0 0 0 0;\n",
              "      width: 32px;\n",
              "    }\n",
              "\n",
              "    .colab-df-convert:hover {\n",
              "      background-color: #E2EBFA;\n",
              "      box-shadow: 0px 1px 2px rgba(60, 64, 67, 0.3), 0px 1px 3px 1px rgba(60, 64, 67, 0.15);\n",
              "      fill: #174EA6;\n",
              "    }\n",
              "\n",
              "    .colab-df-buttons div {\n",
              "      margin-bottom: 4px;\n",
              "    }\n",
              "\n",
              "    [theme=dark] .colab-df-convert {\n",
              "      background-color: #3B4455;\n",
              "      fill: #D2E3FC;\n",
              "    }\n",
              "\n",
              "    [theme=dark] .colab-df-convert:hover {\n",
              "      background-color: #434B5C;\n",
              "      box-shadow: 0px 1px 3px 1px rgba(0, 0, 0, 0.15);\n",
              "      filter: drop-shadow(0px 1px 2px rgba(0, 0, 0, 0.3));\n",
              "      fill: #FFFFFF;\n",
              "    }\n",
              "  </style>\n",
              "\n",
              "    <script>\n",
              "      const buttonEl =\n",
              "        document.querySelector('#df-2a4a5c32-9958-409f-be2b-00c492e57bea button.colab-df-convert');\n",
              "      buttonEl.style.display =\n",
              "        google.colab.kernel.accessAllowed ? 'block' : 'none';\n",
              "\n",
              "      async function convertToInteractive(key) {\n",
              "        const element = document.querySelector('#df-2a4a5c32-9958-409f-be2b-00c492e57bea');\n",
              "        const dataTable =\n",
              "          await google.colab.kernel.invokeFunction('convertToInteractive',\n",
              "                                                    [key], {});\n",
              "        if (!dataTable) return;\n",
              "\n",
              "        const docLinkHtml = 'Like what you see? Visit the ' +\n",
              "          '<a target=\"_blank\" href=https://colab.research.google.com/notebooks/data_table.ipynb>data table notebook</a>'\n",
              "          + ' to learn more about interactive tables.';\n",
              "        element.innerHTML = '';\n",
              "        dataTable['output_type'] = 'display_data';\n",
              "        await google.colab.output.renderOutput(dataTable, element);\n",
              "        const docLink = document.createElement('div');\n",
              "        docLink.innerHTML = docLinkHtml;\n",
              "        element.appendChild(docLink);\n",
              "      }\n",
              "    </script>\n",
              "  </div>\n",
              "\n",
              "\n",
              "<div id=\"df-2a0877fe-fa03-447f-acc3-84f3f724e5df\">\n",
              "  <button class=\"colab-df-quickchart\" onclick=\"quickchart('df-2a0877fe-fa03-447f-acc3-84f3f724e5df')\"\n",
              "            title=\"Suggest charts\"\n",
              "            style=\"display:none;\">\n",
              "\n",
              "<svg xmlns=\"http://www.w3.org/2000/svg\" height=\"24px\"viewBox=\"0 0 24 24\"\n",
              "     width=\"24px\">\n",
              "    <g>\n",
              "        <path d=\"M19 3H5c-1.1 0-2 .9-2 2v14c0 1.1.9 2 2 2h14c1.1 0 2-.9 2-2V5c0-1.1-.9-2-2-2zM9 17H7v-7h2v7zm4 0h-2V7h2v10zm4 0h-2v-4h2v4z\"/>\n",
              "    </g>\n",
              "</svg>\n",
              "  </button>\n",
              "\n",
              "<style>\n",
              "  .colab-df-quickchart {\n",
              "      --bg-color: #E8F0FE;\n",
              "      --fill-color: #1967D2;\n",
              "      --hover-bg-color: #E2EBFA;\n",
              "      --hover-fill-color: #174EA6;\n",
              "      --disabled-fill-color: #AAA;\n",
              "      --disabled-bg-color: #DDD;\n",
              "  }\n",
              "\n",
              "  [theme=dark] .colab-df-quickchart {\n",
              "      --bg-color: #3B4455;\n",
              "      --fill-color: #D2E3FC;\n",
              "      --hover-bg-color: #434B5C;\n",
              "      --hover-fill-color: #FFFFFF;\n",
              "      --disabled-bg-color: #3B4455;\n",
              "      --disabled-fill-color: #666;\n",
              "  }\n",
              "\n",
              "  .colab-df-quickchart {\n",
              "    background-color: var(--bg-color);\n",
              "    border: none;\n",
              "    border-radius: 50%;\n",
              "    cursor: pointer;\n",
              "    display: none;\n",
              "    fill: var(--fill-color);\n",
              "    height: 32px;\n",
              "    padding: 0;\n",
              "    width: 32px;\n",
              "  }\n",
              "\n",
              "  .colab-df-quickchart:hover {\n",
              "    background-color: var(--hover-bg-color);\n",
              "    box-shadow: 0 1px 2px rgba(60, 64, 67, 0.3), 0 1px 3px 1px rgba(60, 64, 67, 0.15);\n",
              "    fill: var(--button-hover-fill-color);\n",
              "  }\n",
              "\n",
              "  .colab-df-quickchart-complete:disabled,\n",
              "  .colab-df-quickchart-complete:disabled:hover {\n",
              "    background-color: var(--disabled-bg-color);\n",
              "    fill: var(--disabled-fill-color);\n",
              "    box-shadow: none;\n",
              "  }\n",
              "\n",
              "  .colab-df-spinner {\n",
              "    border: 2px solid var(--fill-color);\n",
              "    border-color: transparent;\n",
              "    border-bottom-color: var(--fill-color);\n",
              "    animation:\n",
              "      spin 1s steps(1) infinite;\n",
              "  }\n",
              "\n",
              "  @keyframes spin {\n",
              "    0% {\n",
              "      border-color: transparent;\n",
              "      border-bottom-color: var(--fill-color);\n",
              "      border-left-color: var(--fill-color);\n",
              "    }\n",
              "    20% {\n",
              "      border-color: transparent;\n",
              "      border-left-color: var(--fill-color);\n",
              "      border-top-color: var(--fill-color);\n",
              "    }\n",
              "    30% {\n",
              "      border-color: transparent;\n",
              "      border-left-color: var(--fill-color);\n",
              "      border-top-color: var(--fill-color);\n",
              "      border-right-color: var(--fill-color);\n",
              "    }\n",
              "    40% {\n",
              "      border-color: transparent;\n",
              "      border-right-color: var(--fill-color);\n",
              "      border-top-color: var(--fill-color);\n",
              "    }\n",
              "    60% {\n",
              "      border-color: transparent;\n",
              "      border-right-color: var(--fill-color);\n",
              "    }\n",
              "    80% {\n",
              "      border-color: transparent;\n",
              "      border-right-color: var(--fill-color);\n",
              "      border-bottom-color: var(--fill-color);\n",
              "    }\n",
              "    90% {\n",
              "      border-color: transparent;\n",
              "      border-bottom-color: var(--fill-color);\n",
              "    }\n",
              "  }\n",
              "</style>\n",
              "\n",
              "  <script>\n",
              "    async function quickchart(key) {\n",
              "      const quickchartButtonEl =\n",
              "        document.querySelector('#' + key + ' button');\n",
              "      quickchartButtonEl.disabled = true;  // To prevent multiple clicks.\n",
              "      quickchartButtonEl.classList.add('colab-df-spinner');\n",
              "      try {\n",
              "        const charts = await google.colab.kernel.invokeFunction(\n",
              "            'suggestCharts', [key], {});\n",
              "      } catch (error) {\n",
              "        console.error('Error during call to suggestCharts:', error);\n",
              "      }\n",
              "      quickchartButtonEl.classList.remove('colab-df-spinner');\n",
              "      quickchartButtonEl.classList.add('colab-df-quickchart-complete');\n",
              "    }\n",
              "    (() => {\n",
              "      let quickchartButtonEl =\n",
              "        document.querySelector('#df-2a0877fe-fa03-447f-acc3-84f3f724e5df button');\n",
              "      quickchartButtonEl.style.display =\n",
              "        google.colab.kernel.accessAllowed ? 'block' : 'none';\n",
              "    })();\n",
              "  </script>\n",
              "</div>\n",
              "\n",
              "    </div>\n",
              "  </div>\n"
            ],
            "application/vnd.google.colaboratory.intrinsic+json": {
              "type": "dataframe"
            }
          },
          "metadata": {},
          "execution_count": 67
        }
      ],
      "source": [
        "break_point_total = point_df['isBreakPoint'].sum()\n",
        "print(\"Total break points:\", break_point_total)\n",
        "point_df[point_df['isBreakPoint'] == 1].head()\n"
      ]
    },
    {
      "cell_type": "markdown",
      "id": "57c12014-bf30-4719-b6d9-e9ab29a33c8f",
      "metadata": {
        "id": "57c12014-bf30-4719-b6d9-e9ab29a33c8f"
      },
      "source": [
        "## Warning: Do not use if atNetPlayer1 is in shot_data\n",
        "### Add Column: atNetPlayer1, atNetPlayer2\n",
        "\n",
        "- if below says atNetPlayer1: Uncomment below Code\n",
        "- replace later with atNetPlayer1 atNetPlayer2"
      ]
    },
    {
      "cell_type": "code",
      "execution_count": null,
      "id": "2cd27435-75e9-4673-862d-39adbeb93580",
      "metadata": {
        "id": "2cd27435-75e9-4673-862d-39adbeb93580",
        "colab": {
          "base_uri": "https://localhost:8080/"
        },
        "outputId": "bcdd8bf6-0b57-4e3d-ee4a-ed21fb3ba8ac"
      },
      "outputs": [
        {
          "output_type": "stream",
          "name": "stdout",
          "text": [
            "Column 'bothAtNetTeamA' exists in point_df.\n",
            "Column 'bothAtNetTeamB' exists in point_df.\n"
          ]
        }
      ],
      "source": [
        "# Check if 'atNetPlayer1' exists in point_df\n",
        "if 'bothAtNetTeamA' in shot_data.columns:\n",
        "    print(\"Column 'bothAtNetTeamA' exists in point_df.\")\n",
        "else:\n",
        "    raise ValueError(\"Column 'bothAtNetTeamA' does not exist in point_df.\")\n",
        "\n",
        "\n",
        "if 'bothAtNetTeamB' in shot_data.columns:\n",
        "    print(\"Column 'bothAtNetTeamB' exists in point_df.\")\n",
        "else:\n",
        "    raise ValueError(\"Column 'bothAtNetTeamB' does not exist in point_df.\")"
      ]
    },
    {
      "cell_type": "code",
      "execution_count": null,
      "id": "36d51032-7be4-4e1c-81e8-6888f389660f",
      "metadata": {
        "id": "36d51032-7be4-4e1c-81e8-6888f389660f"
      },
      "outputs": [],
      "source": [
        "# Add atNetPlayer1 and atNetPlayer2 columns\n",
        "# point_df['bothatNetTeamA'] = 0\n",
        "# point_df['bothAtNetTeamB'] = 0\n",
        "\n",
        "for point_number in shot_data['pointNumber'].unique():\n",
        "    # Check if firstServeIn is 1 for the given pointNumber in shot_data\n",
        "    if any((shot_data['pointNumber'] == point_number) & (shot_data['bothAtNetTeamA'] == 1)):\n",
        "        point_df.loc[point_df['pointNumber'] == point_number, 'bothAtNetTeamA'] = 1\n",
        "\n",
        "    # Check if secondServeIn is 1 for the given pointNumber in shot_data\n",
        "    if any((shot_data['pointNumber'] == point_number) & (shot_data['bothAtNetTeamB'] == 1)):\n",
        "        point_df.loc[point_df['pointNumber'] == point_number, 'bothAtNetTeamB'] = 1"
      ]
    },
    {
      "cell_type": "code",
      "source": [
        "point_df['bothAtNetTeamA'].unique()"
      ],
      "metadata": {
        "id": "egjN5QwzAA0i",
        "colab": {
          "base_uri": "https://localhost:8080/"
        },
        "outputId": "871db6c1-d1e9-4fd7-ac83-40f83b5dcc7a"
      },
      "id": "egjN5QwzAA0i",
      "execution_count": null,
      "outputs": [
        {
          "output_type": "execute_result",
          "data": {
            "text/plain": [
              "array([nan,  1.])"
            ]
          },
          "metadata": {},
          "execution_count": 70
        }
      ]
    },
    {
      "cell_type": "markdown",
      "id": "7d091079-a2ba-485c-8abb-71acb4df66f6",
      "metadata": {
        "id": "7d091079-a2ba-485c-8abb-71acb4df66f6"
      },
      "source": [
        "### Add Column: setNum"
      ]
    },
    {
      "cell_type": "code",
      "execution_count": null,
      "id": "6f762139-8377-4e82-90e1-5a6b474d0375",
      "metadata": {
        "id": "6f762139-8377-4e82-90e1-5a6b474d0375"
      },
      "outputs": [],
      "source": [
        "# Extract numbers from 'setScore' and calculate the sum plus 1\n",
        "point_df['setNum'] = point_df['setScore'].apply(lambda x: sum(int(char) for char in x if char.isdigit()) + 1)"
      ]
    },
    {
      "cell_type": "code",
      "execution_count": null,
      "id": "5321fcdc-09a6-4442-832e-8df1485658f1",
      "metadata": {
        "id": "5321fcdc-09a6-4442-832e-8df1485658f1",
        "colab": {
          "base_uri": "https://localhost:8080/"
        },
        "outputId": "fd1461f3-8f6b-4afd-b01d-ce5f97707096"
      },
      "outputs": [
        {
          "output_type": "execute_result",
          "data": {
            "text/plain": [
              "Index(['pointNumber', 'teamAPlayer1', 'teamAPlayer2', 'teamBPlayer1',\n",
              "       'teamBPlayer2', 'pointScore', 'gameScore', 'setScore', 'tiebreakScore',\n",
              "       'side', 'serverName', 'returnerName', 'clientTeam', 'opponentTeam',\n",
              "       'Position', 'pointEndPosition', 'Duration', 'rallyCount',\n",
              "       'rallyCountFreq', 'firstServeIn', 'secondServeIn', 'serveResult',\n",
              "       'serveInPlacement', 'firstServeZone', 'secondServeZone', 'isAce',\n",
              "       'returnDirection', 'returnFhBh', 'errorType', 'returnError',\n",
              "       'lastShotDirection', 'lastShotFhBh', 'lastShotHitBy', 'lastShotResult',\n",
              "       'pointWonBy', 'isBreakPoint', 'bothAtNetTeamB', 'bothAtNetTeamA',\n",
              "       'setNum'],\n",
              "      dtype='object')"
            ]
          },
          "metadata": {},
          "execution_count": 72
        }
      ],
      "source": [
        "point_df.columns"
      ]
    },
    {
      "cell_type": "markdown",
      "id": "68b07b91-ef33-4314-a33a-41be146d2707",
      "metadata": {
        "id": "68b07b91-ef33-4314-a33a-41be146d2707"
      },
      "source": [
        "### Add Column: Game Number, Set Number, Game/Set/Point for each player"
      ]
    },
    {
      "cell_type": "code",
      "execution_count": null,
      "id": "35bbb4a6-53dc-4b66-8399-5cd1d2cd4365",
      "metadata": {
        "id": "35bbb4a6-53dc-4b66-8399-5cd1d2cd4365"
      },
      "outputs": [],
      "source": [
        "point_df[['player1SetScore', 'player2SetScore']] = point_df['setScore'].str.split('-', expand=True)\n",
        "point_df[['player1GameScore', 'player2GameScore']] = point_df['gameScore'].str.split('-', expand=True)\n",
        "point_df[['player1PointScore', 'player2PointScore']] = point_df['pointScore'].str.split('-', expand=True)\n",
        "if not point_df['tiebreakScore'].isnull().all() and not point_df['tiebreakScore'].eq(\"\").all():\n",
        "    # Perform the operation only when tiebreakScore is not empty\n",
        "    point_df[['player1TiebreakScore', 'player2TiebreakScore']] = point_df['tiebreakScore'].str.split('-', expand=True)\n",
        "else:\n",
        "    # Set player1TiebreakScore and player2TiebreakScore to NaN\n",
        "    point_df['player1TiebreakScore'] = np.nan\n",
        "    point_df['player2TiebreakScore'] = np.nan\n",
        "\n",
        "def calculate_game_number(score):\n",
        "    return int(score.split('-')[0]) + int(score.split('-')[1])+1\n",
        "\n",
        "# Apply the function to create the 'gameNumber' column\n",
        "point_df['gameNumber'] = point_df['gameScore'].apply(calculate_game_number)"
      ]
    },
    {
      "cell_type": "markdown",
      "id": "c07b8392-9f9d-4768-bef3-8217effe0c97",
      "metadata": {
        "id": "c07b8392-9f9d-4768-bef3-8217effe0c97"
      },
      "source": [
        "## Error Check 24:\n",
        "#### Output Game Number in order: Should be consecutive increasing. Ex: 1,2,3,4,5,6. End of Set 1. 1,2,3,4,5,6,7,8"
      ]
    },
    {
      "cell_type": "code",
      "execution_count": null,
      "id": "07889dd3-4887-495d-9536-30d0b799b14e",
      "metadata": {
        "id": "07889dd3-4887-495d-9536-30d0b799b14e",
        "colab": {
          "base_uri": "https://localhost:8080/"
        },
        "outputId": "e74da879-ee7d-49e0-8712-d2189d5d00fc"
      },
      "outputs": [
        {
          "output_type": "stream",
          "name": "stdout",
          "text": [
            "1, 2, 3, 4, 5, 6, 7, 8, 9, 10, 11, 12, 13, "
          ]
        }
      ],
      "source": [
        "game_numbers = point_df['gameNumber'].tolist()\n",
        "\n",
        "# Initialize variables\n",
        "seen = set()\n",
        "prev = None\n",
        "\n",
        "# Iterate through gameNumber column\n",
        "for num in game_numbers:\n",
        "    # If the number is not in seen or it's different from the previous one, print it\n",
        "    if num not in seen or num != prev:\n",
        "        print(num, end=', ')\n",
        "    # If the number is the same as the previous one but not consecutive, print it\n",
        "    elif num == prev and num not in seen:\n",
        "        print(num, end=', ')\n",
        "    # Update seen set and prev variable\n",
        "    seen.add(num)\n",
        "    prev = num"
      ]
    },
    {
      "cell_type": "markdown",
      "id": "528a0c89-8948-43be-8d37-b844a061d6b7",
      "metadata": {
        "id": "528a0c89-8948-43be-8d37-b844a061d6b7"
      },
      "source": [
        "### Add Column: ServeResult for all 4 players"
      ]
    },
    {
      "cell_type": "code",
      "execution_count": null,
      "id": "c2362f99-6beb-4821-8880-a7717298d872",
      "metadata": {
        "id": "c2362f99-6beb-4821-8880-a7717298d872"
      },
      "outputs": [],
      "source": [
        "# Add the 'teamAPlayer1ServeResult', 'teamAPlayer2ServeResult', 'teamBPlayer1ServeResult', and 'teamBPlayer2ServeResult' columns\n",
        "point_df['teamAPlayer1ServeResult'] = None\n",
        "point_df['teamAPlayer2ServeResult'] = None\n",
        "point_df['teamBPlayer1ServeResult'] = None\n",
        "point_df['teamBPlayer2ServeResult'] = None\n",
        "\n",
        "# Set serve results based on conditions\n",
        "point_df.loc[point_df['serverName'] == point_df['teamAPlayer1'], 'teamAPlayer1ServeResult'] = point_df['serveResult']\n",
        "point_df.loc[point_df['serverName'] == point_df['teamAPlayer2'], 'teamAPlayer2ServeResult'] = point_df['serveResult']\n",
        "point_df.loc[point_df['serverName'] == point_df['teamBPlayer1'], 'teamBPlayer1ServeResult'] = point_df['serveResult']\n",
        "point_df.loc[point_df['serverName'] == point_df['teamBPlayer2'], 'teamBPlayer2ServeResult'] = point_df['serveResult']\n"
      ]
    },
    {
      "cell_type": "code",
      "execution_count": null,
      "id": "384f623f-5341-4996-b688-fd5856f77d55",
      "metadata": {
        "id": "384f623f-5341-4996-b688-fd5856f77d55"
      },
      "outputs": [],
      "source": [
        "point_df.loc[point_df['isAce'] == True, 'player1ServeResult'] = 'Ace'\n"
      ]
    },
    {
      "cell_type": "markdown",
      "id": "12706269-25d1-4c42-8200-6e4ccdeef2ab",
      "metadata": {
        "id": "12706269-25d1-4c42-8200-6e4ccdeef2ab"
      },
      "source": [
        "### Add Column: ServePlacement for all 4 players"
      ]
    },
    {
      "cell_type": "code",
      "execution_count": null,
      "id": "096d87b3-5048-493d-9444-99549d3afa85",
      "metadata": {
        "id": "096d87b3-5048-493d-9444-99549d3afa85"
      },
      "outputs": [],
      "source": [
        "# Add the 'teamAPlayer1ServePlacement', 'teamAPlayer2ServePlacement', 'teamBPlayer1ServePlacement', and 'teamBPlayer2ServePlacement' columns\n",
        "point_df['teamAPlayer1ServePlacement'] = None\n",
        "point_df['teamAPlayer2ServePlacement'] = None\n",
        "point_df['teamBPlayer1ServePlacement'] = None\n",
        "point_df['teamBPlayer2ServePlacement'] = None\n",
        "\n",
        "# Set serve placements based on conditions\n",
        "point_df.loc[point_df['serverName'] == point_df['teamAPlayer1'], 'teamAPlayer1ServePlacement'] = point_df['side'] + ': ' + point_df['serveInPlacement']\n",
        "point_df.loc[point_df['serverName'] == point_df['teamAPlayer2'], 'teamAPlayer2ServePlacement'] = point_df['side'] + ': ' + point_df['serveInPlacement']\n",
        "point_df.loc[point_df['serverName'] == point_df['teamBPlayer1'], 'teamBPlayer1ServePlacement'] = point_df['side'] + ': ' + point_df['serveInPlacement']\n",
        "point_df.loc[point_df['serverName'] == point_df['teamBPlayer2'], 'teamBPlayer2ServePlacement'] = point_df['side'] + ': ' + point_df['serveInPlacement']\n"
      ]
    },
    {
      "cell_type": "markdown",
      "id": "368139a0-a088-44d1-9603-3f15c4c9a92b",
      "metadata": {
        "id": "368139a0-a088-44d1-9603-3f15c4c9a92b"
      },
      "source": [
        "### Add Column: ReturnPlacement for all 4 players"
      ]
    },
    {
      "cell_type": "code",
      "execution_count": null,
      "id": "e6c850aa-b0bc-497e-a2b8-ba9b935287b1",
      "metadata": {
        "id": "e6c850aa-b0bc-497e-a2b8-ba9b935287b1"
      },
      "outputs": [],
      "source": [
        "# Add the 'teamAPlayer1ReturnPlacement', 'teamAPlayer2ReturnPlacement', 'teamBPlayer1ReturnPlacement', and 'teamBPlayer2ReturnPlacement' columns\n",
        "point_df['teamAPlayer1ReturnPlacement'] = None\n",
        "point_df['teamAPlayer2ReturnPlacement'] = None\n",
        "point_df['teamBPlayer1ReturnPlacement'] = None\n",
        "point_df['teamBPlayer2ReturnPlacement'] = None\n",
        "\n",
        "# Set return placements based on conditions\n",
        "point_df.loc[point_df['returnerName'] == point_df['teamAPlayer1'], 'teamAPlayer1ReturnPlacement'] = point_df['returnDirection']\n",
        "point_df.loc[point_df['returnerName'] == point_df['teamAPlayer2'], 'teamAPlayer2ReturnPlacement'] = point_df['returnDirection']\n",
        "point_df.loc[point_df['returnerName'] == point_df['teamBPlayer1'], 'teamBPlayer1ReturnPlacement'] = point_df['returnDirection']\n",
        "point_df.loc[point_df['returnerName'] == point_df['teamBPlayer2'], 'teamBPlayer2ReturnPlacement'] = point_df['returnDirection']\n"
      ]
    },
    {
      "cell_type": "markdown",
      "id": "1dbe59a6-7462-470a-8655-4ac199d5c678",
      "metadata": {
        "id": "1dbe59a6-7462-470a-8655-4ac199d5c678"
      },
      "source": [
        "### Add Column: ReturnFhBh for all 4 players"
      ]
    },
    {
      "cell_type": "code",
      "execution_count": null,
      "id": "12563728-af42-4207-bd96-3185ff9b1325",
      "metadata": {
        "id": "12563728-af42-4207-bd96-3185ff9b1325"
      },
      "outputs": [],
      "source": [
        "# Add the 'teamAPlayer1ReturnFhBh', 'teamAPlayer2ReturnFhBh', 'teamBPlayer1ReturnFhBh', and 'teamBPlayer2ReturnFhBh' columns\n",
        "point_df['teamAPlayer1ReturnFhBh'] = None\n",
        "point_df['teamAPlayer2ReturnFhBh'] = None\n",
        "point_df['teamBPlayer1ReturnFhBh'] = None\n",
        "point_df['teamBPlayer2ReturnFhBh'] = None\n",
        "\n",
        "# Set return FhBh based on conditions\n",
        "point_df.loc[point_df['returnerName'] == point_df['teamAPlayer1'], 'teamAPlayer1ReturnFhBh'] = point_df['returnFhBh']\n",
        "point_df.loc[point_df['returnerName'] == point_df['teamAPlayer2'], 'teamAPlayer2ReturnFhBh'] = point_df['returnFhBh']\n",
        "point_df.loc[point_df['returnerName'] == point_df['teamBPlayer1'], 'teamBPlayer1ReturnFhBh'] = point_df['returnFhBh']\n",
        "point_df.loc[point_df['returnerName'] == point_df['teamBPlayer2'], 'teamBPlayer2ReturnFhBh'] = point_df['returnFhBh']\n"
      ]
    },
    {
      "cell_type": "markdown",
      "id": "6153038d-b0fb-4a4a-a6ef-964f5ba94d10",
      "metadata": {
        "id": "6153038d-b0fb-4a4a-a6ef-964f5ba94d10"
      },
      "source": [
        "### Add Column: LastShotPlacement for all 4 players"
      ]
    },
    {
      "cell_type": "code",
      "execution_count": null,
      "id": "8a766537-32fa-4dee-b49b-05403db0fca6",
      "metadata": {
        "id": "8a766537-32fa-4dee-b49b-05403db0fca6"
      },
      "outputs": [],
      "source": [
        "# Add the 'teamAPlayer1LastShotPlacement', 'teamAPlayer2LastShotPlacement', 'teamBPlayer1LastShotPlacement', and 'teamBPlayer2LastShotPlacement' columns\n",
        "point_df['teamAPlayer1LastShotPlacement'] = None\n",
        "point_df['teamAPlayer2LastShotPlacement'] = None\n",
        "point_df['teamBPlayer1LastShotPlacement'] = None\n",
        "point_df['teamBPlayer2LastShotPlacement'] = None\n",
        "\n",
        "# Set last shot placement based on conditions\n",
        "point_df.loc[point_df['lastShotHitBy'] == point_df['teamAPlayer1'], 'teamAPlayer1LastShotPlacement'] = point_df['lastShotDirection']\n",
        "point_df.loc[point_df['lastShotHitBy'] == point_df['teamAPlayer2'], 'teamAPlayer2LastShotPlacement'] = point_df['lastShotDirection']\n",
        "point_df.loc[point_df['lastShotHitBy'] == point_df['teamBPlayer1'], 'teamBPlayer1LastShotPlacement'] = point_df['lastShotDirection']\n",
        "point_df.loc[point_df['lastShotHitBy'] == point_df['teamBPlayer2'], 'teamBPlayer2LastShotPlacement'] = point_df['lastShotDirection']\n"
      ]
    },
    {
      "cell_type": "markdown",
      "id": "0c6cb1ae-ea60-4d85-93ba-890ed98180b4",
      "metadata": {
        "id": "0c6cb1ae-ea60-4d85-93ba-890ed98180b4"
      },
      "source": [
        "### Add Column: LastShotFhBh for all 4 players"
      ]
    },
    {
      "cell_type": "code",
      "execution_count": null,
      "id": "b3657d3b-ba7d-43e7-9735-9674e6a7a6ad",
      "metadata": {
        "id": "b3657d3b-ba7d-43e7-9735-9674e6a7a6ad"
      },
      "outputs": [],
      "source": [
        "# Add the 'teamAPlayer1LastShotFhBh', 'teamAPlayer2LastShotFhBh', 'teamBPlayer1LastShotFhBh', and 'teamBPlayer2LastShotFhBh' columns\n",
        "point_df['teamAPlayer1LastShotFhBh'] = None\n",
        "point_df['teamAPlayer2LastShotFhBh'] = None\n",
        "point_df['teamBPlayer1LastShotFhBh'] = None\n",
        "point_df['teamBPlayer2LastShotFhBh'] = None\n",
        "\n",
        "# Set last shot FhBh based on conditions\n",
        "point_df.loc[point_df['lastShotHitBy'] == point_df['teamAPlayer1'], 'teamAPlayer1LastShotFhBh'] = point_df['lastShotFhBh']\n",
        "point_df.loc[point_df['lastShotHitBy'] == point_df['teamAPlayer2'], 'teamAPlayer2LastShotFhBh'] = point_df['lastShotFhBh']\n",
        "point_df.loc[point_df['lastShotHitBy'] == point_df['teamBPlayer1'], 'teamBPlayer1LastShotFhBh'] = point_df['lastShotFhBh']\n",
        "point_df.loc[point_df['lastShotHitBy'] == point_df['teamBPlayer2'], 'teamBPlayer2LastShotFhBh'] = point_df['lastShotFhBh']\n"
      ]
    },
    {
      "cell_type": "markdown",
      "id": "7c843db5-492a-4b4b-9e73-18e82782b18d",
      "metadata": {
        "id": "7c843db5-492a-4b4b-9e73-18e82782b18d"
      },
      "source": [
        "### Add Column: LastShotResult for all 4 players"
      ]
    },
    {
      "cell_type": "code",
      "execution_count": null,
      "id": "a5d72b7c-175e-4389-9c1d-b87c905f07fd",
      "metadata": {
        "id": "a5d72b7c-175e-4389-9c1d-b87c905f07fd"
      },
      "outputs": [],
      "source": [
        "# Add the 'teamAPlayer1LastShotResult', 'teamAPlayer2LastShotResult', 'teamBPlayer1LastShotResult', and 'teamBPlayer2LastShotResult' columns\n",
        "point_df['teamAPlayer1LastShotResult'] = None\n",
        "point_df['teamAPlayer2LastShotResult'] = None\n",
        "point_df['teamBPlayer1LastShotResult'] = None\n",
        "point_df['teamBPlayer2LastShotResult'] = None\n",
        "\n",
        "# Set last shot result based on conditions, excluding 'Ace' and 'Double Fault'\n",
        "point_df.loc[\n",
        "    (point_df['lastShotHitBy'] == point_df['teamAPlayer1']) &\n",
        "    ~point_df['teamAPlayer1ServeResult'].isin(['Ace', 'Double Fault']),\n",
        "    'teamAPlayer1LastShotResult'\n",
        "] = point_df['lastShotResult']\n",
        "\n",
        "point_df.loc[\n",
        "    (point_df['lastShotHitBy'] == point_df['teamAPlayer2']) &\n",
        "    ~point_df['teamAPlayer2ServeResult'].isin(['Ace', 'Double Fault']),\n",
        "    'teamAPlayer2LastShotResult'\n",
        "] = point_df['lastShotResult']\n",
        "\n",
        "point_df.loc[\n",
        "    (point_df['lastShotHitBy'] == point_df['teamBPlayer1']) &\n",
        "    ~point_df['teamBPlayer1ServeResult'].isin(['Ace', 'Double Fault']),\n",
        "    'teamBPlayer1LastShotResult'\n",
        "] = point_df['lastShotResult']\n",
        "\n",
        "point_df.loc[\n",
        "    (point_df['lastShotHitBy'] == point_df['teamBPlayer2']) &\n",
        "    ~point_df['teamBPlayer2ServeResult'].isin(['Ace', 'Double Fault']),\n",
        "    'teamBPlayer2LastShotResult'\n",
        "] = point_df['lastShotResult']\n"
      ]
    },
    {
      "cell_type": "markdown",
      "source": [
        "## Add Column: Poach"
      ],
      "metadata": {
        "id": "GPhKEo8Baa00"
      },
      "id": "GPhKEo8Baa00"
    },
    {
      "cell_type": "code",
      "source": [
        "# Initialize the isPoach column in point_df to 0\n",
        "point_df['isPoach'] = 0\n",
        "\n",
        "# Iterate through the unique point numbers in shot_data\n",
        "for point_number in shot_data['pointNumber'].unique():\n",
        "    # Check if any row in shot_data has isPoach = 1 for the current point_number\n",
        "    if ((shot_data['pointNumber'] == point_number) & (shot_data['isPoach'] == 1)).any():\n",
        "        # Set isPoach = 1 in point_df for the corresponding point_number\n",
        "        point_df.loc[point_df['pointNumber'] == point_number, 'isPoach'] = 1\n"
      ],
      "metadata": {
        "id": "EIygFmVXadkf"
      },
      "id": "EIygFmVXadkf",
      "execution_count": null,
      "outputs": []
    },
    {
      "cell_type": "markdown",
      "source": [
        "## Add Column: serveFormation"
      ],
      "metadata": {
        "id": "zt7s8A782537"
      },
      "id": "zt7s8A782537"
    },
    {
      "cell_type": "code",
      "source": [
        "point_df['serveFormation'] = None\n",
        "\n",
        "\n",
        "# Iterate through the unique point numbers in shot_data\n",
        "for point_number in shot_data['pointNumber'].unique():\n",
        "    # Check if any row in shot_data has serveFormation = NA for the current point_number\n",
        "    if ((shot_data['pointNumber'] == point_number) & (shot_data['serveFormation'] == 'I')).any():\n",
        "        # Set serveFormation in point_df for the corresponding point_number row in shot_data\n",
        "        point_df.loc[point_df['pointNumber'] == point_number, 'serveFormation'] = 'I'\n",
        "\n",
        "    if ((shot_data['pointNumber'] == point_number) & (shot_data['serveFormation'] == 'Normal')).any():\n",
        "        # Set serveFormation in point_df for the corresponding point_number row in shot_data\n",
        "        point_df.loc[point_df['pointNumber'] == point_number, 'serveFormation'] = 'Normal'"
      ],
      "metadata": {
        "id": "oevP-atjaA_9"
      },
      "id": "oevP-atjaA_9",
      "execution_count": null,
      "outputs": []
    },
    {
      "cell_type": "markdown",
      "source": [
        "## Add Column: returnFormation"
      ],
      "metadata": {
        "id": "L7bEuG6-3Bc4"
      },
      "id": "L7bEuG6-3Bc4"
    },
    {
      "cell_type": "code",
      "source": [
        "point_df['returnFormation'] = 0\n",
        "# Iterate through the unique point numbers in shot_data\n",
        "for point_number in shot_data['pointNumber'].unique():\n",
        "    # Check if any row in shot_data has isPoach = 1 for the current point_number\n",
        "    if ((shot_data['pointNumber'] == point_number) & (shot_data['returnFormation'] == '2-Back')).any():\n",
        "        # Set isPoach = 1 in point_df for the corresponding point_number\n",
        "        point_df.loc[point_df['pointNumber'] == point_number, 'returnFormation'] = '2-Back'\n",
        "    if ((shot_data['pointNumber'] == point_number) & (shot_data['returnFormation'] == 'Normal')).any():\n",
        "        point_df.loc[point_df['pointNumber'] == point_number, 'returnFormation'] = 'Normal'"
      ],
      "metadata": {
        "id": "vqbaZdjQaB2p"
      },
      "id": "vqbaZdjQaB2p",
      "execution_count": null,
      "outputs": []
    },
    {
      "cell_type": "markdown",
      "id": "fcb3dc11-4abc-4f1b-b07a-50e2b8295043",
      "metadata": {
        "id": "fcb3dc11-4abc-4f1b-b07a-50e2b8295043"
      },
      "source": [
        "## Add Column: Name (For Video)"
      ]
    },
    {
      "cell_type": "code",
      "execution_count": null,
      "id": "9487a6d5-18eb-4a3b-ab7c-995482a3ce49",
      "metadata": {
        "id": "9487a6d5-18eb-4a3b-ab7c-995482a3ce49"
      },
      "outputs": [],
      "source": [
        "# Change pointScore to the specified format\n",
        "point_df['Name'] = point_df.apply(lambda row: f\"Set {row['setNum']}: {row['gameScore']}, {row['tiebreakScore']} {row['serverName']} Serving\" if pd.notna(row['tiebreakScore']) else f\"Set {row['setNum']}: {row['gameScore']}, {row['pointScore']} {row['serverName']} Serving\", axis=1)\n"
      ]
    },
    {
      "cell_type": "code",
      "execution_count": null,
      "id": "ea3c8e6e-fd05-47e1-90a1-aded3c01c54b",
      "metadata": {
        "scrolled": true,
        "id": "ea3c8e6e-fd05-47e1-90a1-aded3c01c54b",
        "outputId": "7d155d3d-7800-4c1f-8939-42b009674531",
        "colab": {
          "base_uri": "https://localhost:8080/"
        }
      },
      "outputs": [
        {
          "output_type": "stream",
          "name": "stdout",
          "text": [
            "    setNum gameScore pointScore tiebreakScore  \\\n",
            "0        1       0-0        0-0          None   \n",
            "2        1       0-0       15-0          None   \n",
            "5        1       0-0       30-0          None   \n",
            "9        1       0-0       40-0          None   \n",
            "12       1       1-0        0-0          None   \n",
            "\n",
            "                                        Name  \n",
            "0    Set 1: 0-0, 0-0 Spencer Johnson Serving  \n",
            "2   Set 1: 0-0, 15-0 Spencer Johnson Serving  \n",
            "5   Set 1: 0-0, 30-0 Spencer Johnson Serving  \n",
            "9   Set 1: 0-0, 40-0 Spencer Johnson Serving  \n",
            "12     Set 1: 1-0, 0-0 Samuel Rubell Serving  \n",
            "     setNum gameScore pointScore tiebreakScore  \\\n",
            "257       1       6-6       None         3-Mar   \n",
            "259       1       6-6       None         3-Apr   \n",
            "261       1       6-6       None         3-May   \n",
            "263       1       6-6       None         3-Jun   \n",
            "268       1       6-6       None         4-Jun   \n",
            "\n",
            "                                          Name  \n",
            "257         Set 1: 6-6, 3-Mar Karl Lee Serving  \n",
            "259  Set 1: 6-6, 3-Apr Spencer Johnson Serving  \n",
            "261  Set 1: 6-6, 3-May Spencer Johnson Serving  \n",
            "263    Set 1: 6-6, 3-Jun Samuel Rubell Serving  \n",
            "268    Set 1: 6-6, 4-Jun Samuel Rubell Serving  \n"
          ]
        }
      ],
      "source": [
        "print(point_df[['setNum', 'gameScore','pointScore','tiebreakScore','Name']].head(5))\n",
        "print(point_df[['setNum', 'gameScore','pointScore','tiebreakScore','Name']].tail(5))"
      ]
    },
    {
      "cell_type": "markdown",
      "id": "d4ebed59-72a7-4dc9-a63f-95b528ab5bbb",
      "metadata": {
        "id": "d4ebed59-72a7-4dc9-a63f-95b528ab5bbb"
      },
      "source": [
        "## Reorder DataFrame for Output"
      ]
    },
    {
      "cell_type": "code",
      "execution_count": null,
      "id": "8fa6c8a9-ad32-47d6-88f0-1f3550fcff96",
      "metadata": {
        "id": "8fa6c8a9-ad32-47d6-88f0-1f3550fcff96"
      },
      "outputs": [],
      "source": [
        "point_df_copy = point_df.copy()"
      ]
    },
    {
      "cell_type": "code",
      "execution_count": null,
      "id": "90659462-13b0-4991-9c59-4924754d9924",
      "metadata": {
        "id": "90659462-13b0-4991-9c59-4924754d9924",
        "outputId": "e48a316c-0e38-4091-9439-fb5355a69647",
        "colab": {
          "base_uri": "https://localhost:8080/"
        }
      },
      "outputs": [
        {
          "output_type": "execute_result",
          "data": {
            "text/plain": [
              "(75, 81)"
            ]
          },
          "metadata": {},
          "execution_count": 89
        }
      ],
      "source": [
        "point_df.shape"
      ]
    },
    {
      "cell_type": "code",
      "execution_count": null,
      "id": "4ea3efb9-85d7-4428-afef-2c174d1e5f13",
      "metadata": {
        "id": "4ea3efb9-85d7-4428-afef-2c174d1e5f13",
        "outputId": "fcc9f6e3-95ab-49d7-b527-302f40d6bd8d",
        "colab": {
          "base_uri": "https://localhost:8080/"
        }
      },
      "outputs": [
        {
          "output_type": "execute_result",
          "data": {
            "text/plain": [
              "(75, 81)"
            ]
          },
          "metadata": {},
          "execution_count": 90
        }
      ],
      "source": [
        "point_df_copy.shape"
      ]
    },
    {
      "cell_type": "code",
      "execution_count": null,
      "id": "fddad71c-4394-4731-979b-63add27425ea",
      "metadata": {
        "id": "fddad71c-4394-4731-979b-63add27425ea",
        "outputId": "1059f778-22c0-4dd4-ab7e-2fded4a27d4a",
        "colab": {
          "base_uri": "https://localhost:8080/"
        }
      },
      "outputs": [
        {
          "output_type": "execute_result",
          "data": {
            "text/plain": [
              "Index(['pointNumber', 'teamAPlayer1', 'teamAPlayer2', 'teamBPlayer1',\n",
              "       'teamBPlayer2', 'pointScore', 'gameScore', 'setScore', 'tiebreakScore',\n",
              "       'side', 'serverName', 'returnerName', 'clientTeam', 'opponentTeam',\n",
              "       'Position', 'pointEndPosition', 'Duration', 'rallyCount',\n",
              "       'rallyCountFreq', 'firstServeIn', 'secondServeIn', 'serveResult',\n",
              "       'serveInPlacement', 'firstServeZone', 'secondServeZone', 'isAce',\n",
              "       'returnDirection', 'returnFhBh', 'errorType', 'returnError',\n",
              "       'lastShotDirection', 'lastShotFhBh', 'lastShotHitBy', 'lastShotResult',\n",
              "       'pointWonBy', 'isBreakPoint', 'bothAtNetTeamB', 'bothAtNetTeamA',\n",
              "       'setNum', 'player1SetScore', 'player2SetScore', 'player1GameScore',\n",
              "       'player2GameScore', 'player1PointScore', 'player2PointScore',\n",
              "       'player1TiebreakScore', 'player2TiebreakScore', 'gameNumber',\n",
              "       'teamAPlayer1ServeResult', 'teamAPlayer2ServeResult',\n",
              "       'teamBPlayer1ServeResult', 'teamBPlayer2ServeResult',\n",
              "       'player1ServeResult', 'teamAPlayer1ServePlacement',\n",
              "       'teamAPlayer2ServePlacement', 'teamBPlayer1ServePlacement',\n",
              "       'teamBPlayer2ServePlacement', 'teamAPlayer1ReturnPlacement',\n",
              "       'teamAPlayer2ReturnPlacement', 'teamBPlayer1ReturnPlacement',\n",
              "       'teamBPlayer2ReturnPlacement', 'teamAPlayer1ReturnFhBh',\n",
              "       'teamAPlayer2ReturnFhBh', 'teamBPlayer1ReturnFhBh',\n",
              "       'teamBPlayer2ReturnFhBh', 'teamAPlayer1LastShotPlacement',\n",
              "       'teamAPlayer2LastShotPlacement', 'teamBPlayer1LastShotPlacement',\n",
              "       'teamBPlayer2LastShotPlacement', 'teamAPlayer1LastShotFhBh',\n",
              "       'teamAPlayer2LastShotFhBh', 'teamBPlayer1LastShotFhBh',\n",
              "       'teamBPlayer2LastShotFhBh', 'teamAPlayer1LastShotResult',\n",
              "       'teamAPlayer2LastShotResult', 'teamBPlayer1LastShotResult',\n",
              "       'teamBPlayer2LastShotResult', 'isPoach', 'serveFormation',\n",
              "       'returnFormation', 'Name'],\n",
              "      dtype='object')"
            ]
          },
          "metadata": {},
          "execution_count": 91
        }
      ],
      "source": [
        "point_df.columns"
      ]
    },
    {
      "cell_type": "markdown",
      "source": [
        "# WILL HAVE TO CHANGE THIS BASED ON POINT_DF.COLUMNS"
      ],
      "metadata": {
        "id": "5PHu4GIECeGd"
      },
      "id": "5PHu4GIECeGd"
    },
    {
      "cell_type": "code",
      "execution_count": null,
      "id": "ba386657-82b9-4b27-9354-770b50fc7623",
      "metadata": {
        "id": "ba386657-82b9-4b27-9354-770b50fc7623"
      },
      "outputs": [],
      "source": [
        "desired_order = [\n",
        "    'Name', 'pointNumber', 'setNum', 'gameNumber', 'teamAPlayer1', 'teamAPlayer2',\n",
        "    'teamBPlayer1',  'teamBPlayer2',\n",
        "    'pointScore', 'gameScore', 'setScore', 'tiebreakScore', 'side', 'serverName',\n",
        "    'returnerName', 'Position', 'pointEndPosition', 'Duration', 'pointWonBy',\n",
        "    'rallyCount', 'rallyCountFreq', 'firstServeIn', 'secondServeIn',\n",
        "    'serveResult', 'serveInPlacement', 'firstServeZone', 'secondServeZone',\n",
        "    'isAce', 'returnDirection', 'returnFhBh', 'errorType', 'returnError',\n",
        "    'lastShotDirection', 'lastShotFhBh', 'lastShotHitBy', 'lastShotResult',\n",
        "    'isBreakPoint', 'bothAtNetTeamA', 'bothAtNetTeamB', 'player1SetScore',\n",
        "    'player2SetScore', 'player1GameScore', 'player2GameScore', 'player1PointScore',\n",
        "    'player2PointScore', 'player1TiebreakScore', 'player2TiebreakScore',\n",
        "    'teamAPlayer1ServeResult', 'teamAPlayer1ServePlacement', 'teamAPlayer1ReturnPlacement',\n",
        "    'teamAPlayer1ReturnFhBh', 'teamAPlayer1LastShotPlacement', 'teamAPlayer1LastShotFhBh',\n",
        "    'teamAPlayer1LastShotResult', 'teamAPlayer2ServeResult', 'teamAPlayer2ServePlacement',\n",
        "       'teamAPlayer2ReturnPlacement', 'teamAPlayer2ReturnFhBh',\n",
        "       'teamAPlayer2LastShotPlacement', 'teamAPlayer2LastShotFhBh',\n",
        "       'teamAPlayer2LastShotResult', 'clientTeam', 'opponentTeam',\n",
        "       'teamBPlayer1ServeResult', 'teamBPlayer2ServeResult',  'teamBPlayer1ServePlacement',\n",
        "       'teamBPlayer2ServePlacement', 'teamBPlayer1ReturnPlacement',\n",
        "       'teamBPlayer2ReturnPlacement','teamBPlayer1ReturnFhBh',\n",
        "       'teamBPlayer2ReturnFhBh',  'teamBPlayer1LastShotPlacement',\n",
        "       'teamBPlayer2LastShotPlacement',\n",
        "       'teamAPlayer2LastShotFhBh', 'teamBPlayer1LastShotFhBh',\n",
        "       'teamBPlayer2LastShotFhBh',  'teamBPlayer1LastShotResult',\n",
        "       'teamBPlayer2LastShotResult', 'isPoach', 'serveFormation', 'returnFormation'\n",
        "]\n",
        "\n",
        "# Reorder the columns\n",
        "point_df = point_df.reindex(columns=desired_order)"
      ]
    },
    {
      "cell_type": "code",
      "source": [
        "cols = ['pointNumber', 'teamAPlayer1', 'teamAPlayer2', 'teamBPlayer1',\n",
        "       'teamBPlayer2', 'pointScore', 'gameScore', 'setScore', 'tiebreakScore',\n",
        "       'side', 'serverName', 'returnerName', 'clientTeam', 'opponentTeam',\n",
        "       'Position', 'pointEndPosition', 'Duration', 'rallyCount',\n",
        "       'rallyCountFreq', 'firstServeIn', 'secondServeIn', 'serveResult',\n",
        "       'serveInPlacement', 'firstServeZone', 'secondServeZone', 'isAce',\n",
        "       'returnDirection', 'returnFhBh', 'errorType', 'returnError',\n",
        "       'lastShotDirection', 'lastShotFhBh', 'lastShotHitBy', 'lastShotResult',\n",
        "       'pointWonBy', 'isBreakPoint', 'bothAtNetTeamB', 'bothAtNetTeamA',\n",
        "       'setNum', 'player1SetScore', 'player2SetScore', 'player1GameScore',\n",
        "       'player2GameScore', 'player1PointScore', 'player2PointScore',\n",
        "       'player1TiebreakScore', 'player2TiebreakScore', 'gameNumber',\n",
        "       'teamAPlayer1ServeResult', 'teamAPlayer2ServeResult',\n",
        "       'teamBPlayer1ServeResult', 'teamBPlayer2ServeResult',\n",
        "       'player1ServeResult', 'teamAPlayer1ServePlacement',\n",
        "       'teamAPlayer2ServePlacement', 'teamBPlayer1ServePlacement',\n",
        "       'teamBPlayer2ServePlacement', 'teamAPlayer1ReturnPlacement',\n",
        "       'teamAPlayer2ReturnPlacement', 'teamBPlayer1ReturnPlacement',\n",
        "       'teamBPlayer2ReturnPlacement', 'teamAPlayer1ReturnFhBh',\n",
        "       'teamAPlayer2ReturnFhBh', 'teamBPlayer1ReturnFhBh',\n",
        "       'teamBPlayer2ReturnFhBh', 'teamAPlayer1LastShotPlacement',\n",
        "       'teamAPlayer2LastShotPlacement', 'teamBPlayer1LastShotPlacement',\n",
        "       'teamBPlayer2LastShotPlacement', 'teamAPlayer1LastShotFhBh',\n",
        "       'teamAPlayer2LastShotFhBh', 'teamBPlayer1LastShotFhBh',\n",
        "       'teamBPlayer2LastShotFhBh', 'teamAPlayer1LastShotResult',\n",
        "       'teamAPlayer2LastShotResult', 'teamBPlayer1LastShotResult',\n",
        "       'teamBPlayer2LastShotResult', 'Name']\n"
      ],
      "metadata": {
        "id": "Dtn51JnjDnA7"
      },
      "id": "Dtn51JnjDnA7",
      "execution_count": null,
      "outputs": []
    },
    {
      "cell_type": "code",
      "source": [
        "set(cols) - set(desired_order)"
      ],
      "metadata": {
        "colab": {
          "base_uri": "https://localhost:8080/"
        },
        "id": "_gAVGo7dD1sR",
        "outputId": "1929334c-06ff-492d-b9df-7f1221c64899"
      },
      "id": "_gAVGo7dD1sR",
      "execution_count": null,
      "outputs": [
        {
          "output_type": "execute_result",
          "data": {
            "text/plain": [
              "{'player1ServeResult'}"
            ]
          },
          "metadata": {},
          "execution_count": 94
        }
      ]
    },
    {
      "cell_type": "markdown",
      "id": "2b3f3268-eac6-4b0d-83d8-0b943d927015",
      "metadata": {
        "id": "2b3f3268-eac6-4b0d-83d8-0b943d927015"
      },
      "source": [
        "## Error Check 25:\n",
        "#### Check if the columns and their order are the same"
      ]
    },
    {
      "cell_type": "code",
      "execution_count": null,
      "id": "fdead9e8-666d-4d5a-82b6-f3691aae7185",
      "metadata": {
        "id": "fdead9e8-666d-4d5a-82b6-f3691aae7185",
        "outputId": "13b5bc6e-51b0-4401-86fc-c5d29a694a8c",
        "colab": {
          "base_uri": "https://localhost:8080/"
        }
      },
      "outputs": [
        {
          "output_type": "stream",
          "name": "stdout",
          "text": [
            "(75, 81)\n",
            "(75, 81)\n",
            "Check passed.\n"
          ]
        }
      ],
      "source": [
        "print(point_df.shape)\n",
        "print(point_df_copy.shape)\n",
        "\n",
        "if (point_df.shape == point_df_copy.shape):\n",
        "    print('Check passed.')\n",
        "else:\n",
        "    raise ValueError('Error: Not the same!')"
      ]
    },
    {
      "cell_type": "code",
      "execution_count": null,
      "id": "48cf85be-dfd1-4cd0-a548-be645e166da8",
      "metadata": {
        "id": "48cf85be-dfd1-4cd0-a548-be645e166da8",
        "outputId": "f2e6a205-5126-4c81-c014-2cb7d6846f77",
        "colab": {
          "base_uri": "https://localhost:8080/"
        }
      },
      "outputs": [
        {
          "output_type": "stream",
          "name": "stdout",
          "text": [
            "All columns in point_df are also in point_df_copy\n",
            "Columns unique to point_df_copy: {'player1ServeResult'}\n"
          ]
        }
      ],
      "source": [
        "# Get the set of column names for each DataFrame\n",
        "point_df_columns = set(point_df.columns)\n",
        "point_df_copy_columns = set(point_df_copy.columns)\n",
        "\n",
        "# Find the column names unique to each DataFrame\n",
        "unique_to_point_df = point_df_columns - point_df_copy_columns\n",
        "unique_to_point_df_copy = point_df_copy_columns - point_df_columns\n",
        "\n",
        "# Output the results\n",
        "if unique_to_point_df:\n",
        "    print(\"Columns unique to point_df:\", unique_to_point_df)\n",
        "else:\n",
        "    print(\"All columns in point_df are also in point_df_copy\")\n",
        "\n",
        "if unique_to_point_df_copy:\n",
        "    print(\"Columns unique to point_df_copy:\", unique_to_point_df_copy)\n",
        "else:\n",
        "    print(\"All columns in point_df_copy are also in point_df\")\n"
      ]
    },
    {
      "cell_type": "markdown",
      "id": "0b51b1c2-8a26-4b5a-8a86-c08c7738172b",
      "metadata": {
        "id": "0b51b1c2-8a26-4b5a-8a86-c08c7738172b"
      },
      "source": [
        "## Warning: All nan to \"\"\n",
        "### Alterating Data"
      ]
    },
    {
      "cell_type": "code",
      "execution_count": null,
      "id": "c6f8badd-f2e3-469e-a885-2ce2f56a9c49",
      "metadata": {
        "id": "c6f8badd-f2e3-469e-a885-2ce2f56a9c49"
      },
      "outputs": [],
      "source": [
        "# Change Na to \"\" Empty String\n",
        "\n",
        "# Assuming point_df is your DataFrame\n",
        "point_df.replace([pd.NA, None, pd.NaT, float('nan')], \"\", inplace=True)"
      ]
    },
    {
      "cell_type": "markdown",
      "id": "ad4334e4-cac5-451d-8770-8b691649ba07",
      "metadata": {
        "id": "ad4334e4-cac5-451d-8770-8b691649ba07"
      },
      "source": [
        "# Double Check before Outputting Point (FOR VISUAL)"
      ]
    },
    {
      "cell_type": "code",
      "execution_count": null,
      "id": "6a44a324-4c8b-49a8-96d4-80be4ea2267f",
      "metadata": {
        "id": "6a44a324-4c8b-49a8-96d4-80be4ea2267f",
        "outputId": "34c94ef1-5269-4e1e-c192-2acb94ecde76",
        "colab": {
          "base_uri": "https://localhost:8080/"
        }
      },
      "outputs": [
        {
          "output_type": "stream",
          "name": "stdout",
          "text": [
            "                                        Name  pointNumber  setNum  gameNumber  \\\n",
            "0    Set 1: 0-0, 0-0 Spencer Johnson Serving            1       1           1   \n",
            "2   Set 1: 0-0, 15-0 Spencer Johnson Serving            2       1           1   \n",
            "5   Set 1: 0-0, 30-0 Spencer Johnson Serving            3       1           1   \n",
            "9   Set 1: 0-0, 40-0 Spencer Johnson Serving            4       1           1   \n",
            "12     Set 1: 1-0, 0-0 Samuel Rubell Serving            5       1           2   \n",
            "\n",
            "       teamAPlayer1         teamAPlayer2 teamBPlayer1   teamBPlayer2  \\\n",
            "0   Spencer Johnson  Emon van Loben Sels     Karl Lee  Samuel Rubell   \n",
            "2   Spencer Johnson  Emon van Loben Sels     Karl Lee  Samuel Rubell   \n",
            "5   Spencer Johnson  Emon van Loben Sels     Karl Lee  Samuel Rubell   \n",
            "9   Spencer Johnson  Emon van Loben Sels     Karl Lee  Samuel Rubell   \n",
            "12  Spencer Johnson  Emon van Loben Sels     Karl Lee  Samuel Rubell   \n",
            "\n",
            "   pointScore gameScore  ... teamBPlayer1LastShotPlacement  \\\n",
            "0         0-0       0-0  ...                 Down the Line   \n",
            "2        15-0       0-0  ...                                 \n",
            "5        30-0       0-0  ...                                 \n",
            "9        40-0       0-0  ...                                 \n",
            "12        0-0       1-0  ...                                 \n",
            "\n",
            "   teamBPlayer2LastShotPlacement teamAPlayer2LastShotFhBh  \\\n",
            "0                                                           \n",
            "2                                                Backhand   \n",
            "5                     Crosscourt                            \n",
            "9                                                Backhand   \n",
            "12                                               Backhand   \n",
            "\n",
            "   teamBPlayer1LastShotFhBh teamBPlayer2LastShotFhBh  \\\n",
            "0                  Backhand                            \n",
            "2                                                      \n",
            "5                                           Forehand   \n",
            "9                                                      \n",
            "12                                                     \n",
            "\n",
            "   teamBPlayer1LastShotResult teamBPlayer2LastShotResult isPoach  \\\n",
            "0                       Error                                  0   \n",
            "2                                                              1   \n",
            "5                                                  Error       0   \n",
            "9                                                              0   \n",
            "12                                                             0   \n",
            "\n",
            "   serveFormation  returnFormation  \n",
            "0          Normal           Normal  \n",
            "2          Normal           2-Back  \n",
            "5          Normal           Normal  \n",
            "9          Normal           2-Back  \n",
            "12         Normal           2-Back  \n",
            "\n",
            "[5 rows x 81 columns]\n"
          ]
        }
      ],
      "source": [
        "print(point_df.head(5))"
      ]
    },
    {
      "cell_type": "code",
      "execution_count": null,
      "id": "83c57f83-14d4-4594-8e29-ee29b83c6eea",
      "metadata": {
        "id": "83c57f83-14d4-4594-8e29-ee29b83c6eea",
        "outputId": "1920d8fe-fa33-4f9d-e2cb-efbc8afd19a7",
        "colab": {
          "base_uri": "https://localhost:8080/"
        }
      },
      "outputs": [
        {
          "output_type": "stream",
          "name": "stdout",
          "text": [
            "                                          Name  pointNumber  setNum  \\\n",
            "257         Set 1: 6-6, 3-Mar Karl Lee Serving           71       1   \n",
            "259  Set 1: 6-6, 3-Apr Spencer Johnson Serving           72       1   \n",
            "261  Set 1: 6-6, 3-May Spencer Johnson Serving           73       1   \n",
            "263    Set 1: 6-6, 3-Jun Samuel Rubell Serving           74       1   \n",
            "268    Set 1: 6-6, 4-Jun Samuel Rubell Serving           75       1   \n",
            "\n",
            "     gameNumber     teamAPlayer1         teamAPlayer2 teamBPlayer1  \\\n",
            "257          13  Spencer Johnson  Emon van Loben Sels     Karl Lee   \n",
            "259          13  Spencer Johnson  Emon van Loben Sels     Karl Lee   \n",
            "261          13  Spencer Johnson  Emon van Loben Sels     Karl Lee   \n",
            "263          13  Spencer Johnson  Emon van Loben Sels     Karl Lee   \n",
            "268          13  Spencer Johnson  Emon van Loben Sels     Karl Lee   \n",
            "\n",
            "      teamBPlayer2 pointScore gameScore  ... teamBPlayer1LastShotPlacement  \\\n",
            "257  Samuel Rubell                  6-6  ...                                 \n",
            "259  Samuel Rubell                  6-6  ...                                 \n",
            "261  Samuel Rubell                  6-6  ...                    Crosscourt   \n",
            "263  Samuel Rubell                  6-6  ...                 Down the Line   \n",
            "268  Samuel Rubell                  6-6  ...                    Crosscourt   \n",
            "\n",
            "    teamBPlayer2LastShotPlacement teamAPlayer2LastShotFhBh  \\\n",
            "257                                               Forehand   \n",
            "259                    Crosscourt                            \n",
            "261                                                          \n",
            "263                                                          \n",
            "268                                                          \n",
            "\n",
            "    teamBPlayer1LastShotFhBh teamBPlayer2LastShotFhBh  \\\n",
            "257                                                     \n",
            "259                                          Forehand   \n",
            "261                 Forehand                            \n",
            "263                 Forehand                            \n",
            "268                 Forehand                            \n",
            "\n",
            "    teamBPlayer1LastShotResult teamBPlayer2LastShotResult isPoach  \\\n",
            "257                                                             0   \n",
            "259                                                 Error       0   \n",
            "261                      Error                                  0   \n",
            "263                     Winner                                  1   \n",
            "268                      Error                                  0   \n",
            "\n",
            "    serveFormation  returnFormation  \n",
            "257         Normal           Normal  \n",
            "259              I           2-Back  \n",
            "261              I           2-Back  \n",
            "263         Normal           Normal  \n",
            "268         Normal           2-Back  \n",
            "\n",
            "[5 rows x 81 columns]\n"
          ]
        }
      ],
      "source": [
        "print(point_df.tail(5))"
      ]
    },
    {
      "cell_type": "markdown",
      "id": "67a89dc9-8346-46c7-abd1-c35e3d60513d",
      "metadata": {
        "id": "67a89dc9-8346-46c7-abd1-c35e3d60513d"
      },
      "source": []
    },
    {
      "cell_type": "code",
      "source": [
        "point_df.columns"
      ],
      "metadata": {
        "colab": {
          "base_uri": "https://localhost:8080/"
        },
        "id": "rt_FM9Lgi708",
        "outputId": "1fd8c3fd-58b0-4d10-c78b-b708c2db0ca3"
      },
      "id": "rt_FM9Lgi708",
      "execution_count": null,
      "outputs": [
        {
          "output_type": "execute_result",
          "data": {
            "text/plain": [
              "Index(['Name', 'pointNumber', 'setNum', 'gameNumber', 'teamAPlayer1',\n",
              "       'teamAPlayer2', 'teamBPlayer1', 'teamBPlayer2', 'pointScore',\n",
              "       'gameScore', 'setScore', 'tiebreakScore', 'side', 'serverName',\n",
              "       'returnerName', 'Position', 'pointEndPosition', 'Duration',\n",
              "       'pointWonBy', 'rallyCount', 'rallyCountFreq', 'firstServeIn',\n",
              "       'secondServeIn', 'serveResult', 'serveInPlacement', 'firstServeZone',\n",
              "       'secondServeZone', 'isAce', 'returnDirection', 'returnFhBh',\n",
              "       'errorType', 'returnError', 'lastShotDirection', 'lastShotFhBh',\n",
              "       'lastShotHitBy', 'lastShotResult', 'isBreakPoint', 'bothAtNetTeamA',\n",
              "       'bothAtNetTeamB', 'player1SetScore', 'player2SetScore',\n",
              "       'player1GameScore', 'player2GameScore', 'player1PointScore',\n",
              "       'player2PointScore', 'player1TiebreakScore', 'player2TiebreakScore',\n",
              "       'teamAPlayer1ServeResult', 'teamAPlayer1ServePlacement',\n",
              "       'teamAPlayer1ReturnPlacement', 'teamAPlayer1ReturnFhBh',\n",
              "       'teamAPlayer1LastShotPlacement', 'teamAPlayer1LastShotFhBh',\n",
              "       'teamAPlayer1LastShotResult', 'teamAPlayer2ServeResult',\n",
              "       'teamAPlayer2ServePlacement', 'teamAPlayer2ReturnPlacement',\n",
              "       'teamAPlayer2ReturnFhBh', 'teamAPlayer2LastShotPlacement',\n",
              "       'teamAPlayer2LastShotFhBh', 'teamAPlayer2LastShotResult', 'clientTeam',\n",
              "       'opponentTeam', 'teamBPlayer1ServeResult', 'teamBPlayer2ServeResult',\n",
              "       'teamBPlayer1ServePlacement', 'teamBPlayer2ServePlacement',\n",
              "       'teamBPlayer1ReturnPlacement', 'teamBPlayer2ReturnPlacement',\n",
              "       'teamBPlayer1ReturnFhBh', 'teamBPlayer2ReturnFhBh',\n",
              "       'teamBPlayer1LastShotPlacement', 'teamBPlayer2LastShotPlacement',\n",
              "       'teamAPlayer2LastShotFhBh', 'teamBPlayer1LastShotFhBh',\n",
              "       'teamBPlayer2LastShotFhBh', 'teamBPlayer1LastShotResult',\n",
              "       'teamBPlayer2LastShotResult', 'isPoach', 'serveFormation',\n",
              "       'returnFormation'],\n",
              "      dtype='object')"
            ]
          },
          "metadata": {},
          "execution_count": 100
        }
      ]
    },
    {
      "cell_type": "code",
      "execution_count": null,
      "id": "a7408afb-d79d-433f-bfad-12831c0d78a7",
      "metadata": {
        "id": "a7408afb-d79d-433f-bfad-12831c0d78a7"
      },
      "outputs": [],
      "source": [
        "# Change Value Names for Match Viewer Output\n",
        "\n",
        "# Assuming point_df is your DataFrame and teamAPlayer1 is the name from the first row\n",
        "teamA = point_df.loc[0]['clientTeam']\n",
        "teamB = point_df.loc[0]['opponentTeam']\n",
        "\n",
        "\n",
        "# Replace values in the 'atNetPlayer1' column\n",
        "# point_df['atNetTeamA'] = point_df['bothatNetTeamA'].replace({0: \"\", 1: teamA})\n",
        "# point_df['atNetTeamB'] = point_df['bothatNetTeamB'].replace({0: \"\", 1: teamB})"
      ]
    },
    {
      "cell_type": "markdown",
      "id": "153a5c4d-b325-487b-aab7-a3526729d5a0",
      "metadata": {
        "id": "153a5c4d-b325-487b-aab7-a3526729d5a0"
      },
      "source": [
        "# Add in Timestamps\n",
        "#### Timestamps Error Check"
      ]
    },
    {
      "cell_type": "code",
      "execution_count": null,
      "id": "f52ace6a-3895-4482-bd56-dd571e5ced6e",
      "metadata": {
        "id": "f52ace6a-3895-4482-bd56-dd571e5ced6e",
        "outputId": "5dc36365-94a0-47cd-87e8-9523bed2271b",
        "colab": {
          "base_uri": "https://localhost:8080/"
        }
      },
      "outputs": [
        {
          "output_type": "stream",
          "name": "stdout",
          "text": [
            "✓ Check passed\n"
          ]
        }
      ],
      "source": [
        "if timestamp.shape[0] != point_df.shape[0]:\n",
        "    raise ValueError(\"Error: The number of rows in timestamp and point_df are not the same.\")\n",
        "else:\n",
        "    # Assign values to point_df\n",
        "    point_df['Position'] = timestamp['pointStartTime'].values\n",
        "    point_df['pointEndPosition'] = timestamp['pointEndTime'].values\n",
        "    print(\"\\u2713 Check passed\")\n"
      ]
    },
    {
      "cell_type": "markdown",
      "id": "85e484d1-1746-45b6-851d-a7614aacafd2",
      "metadata": {
        "id": "85e484d1-1746-45b6-851d-a7614aacafd2"
      },
      "source": [
        "# Check that Time Stamp head and end is same as point_df"
      ]
    },
    {
      "cell_type": "code",
      "execution_count": null,
      "id": "db88bfc0-8f98-4e93-9ae1-908ede28ee50",
      "metadata": {
        "id": "db88bfc0-8f98-4e93-9ae1-908ede28ee50",
        "outputId": "fa9daab7-3378-447e-d93d-ca91744068dc",
        "colab": {
          "base_uri": "https://localhost:8080/"
        }
      },
      "outputs": [
        {
          "output_type": "stream",
          "name": "stdout",
          "text": [
            "   pointStartTime  pointEndTime\n",
            "0            1655          5418\n",
            "1           26769         42286\n",
            "2           62435         76254\n",
            "3           96884        111336\n",
            "4          163514        168814\n"
          ]
        }
      ],
      "source": [
        "print(timestamp.head())"
      ]
    },
    {
      "cell_type": "code",
      "execution_count": null,
      "id": "cb70d08d-09ad-4fe9-a0b1-b66c9e55f7b6",
      "metadata": {
        "id": "cb70d08d-09ad-4fe9-a0b1-b66c9e55f7b6",
        "outputId": "2da2c19a-de4d-457e-96c1-abc217424026",
        "colab": {
          "base_uri": "https://localhost:8080/"
        }
      },
      "outputs": [
        {
          "output_type": "stream",
          "name": "stdout",
          "text": [
            "    pointStartTime  pointEndTime\n",
            "70         2730661       2734962\n",
            "71         2766282       2772583\n",
            "72         2789171       2793396\n",
            "73         2813386       2820849\n",
            "74         2843675       2855041\n"
          ]
        }
      ],
      "source": [
        "print(timestamp.tail())"
      ]
    },
    {
      "cell_type": "code",
      "execution_count": null,
      "id": "b568a138-ed57-4478-b09f-779454d4f702",
      "metadata": {
        "id": "b568a138-ed57-4478-b09f-779454d4f702",
        "outputId": "ea203e0d-053f-47a2-8681-2bfee7e604af",
        "colab": {
          "base_uri": "https://localhost:8080/"
        }
      },
      "outputs": [
        {
          "output_type": "stream",
          "name": "stdout",
          "text": [
            "     Position  pointEndPosition\n",
            "0        1655              5418\n",
            "2       26769             42286\n",
            "5       62435             76254\n",
            "9       96884            111336\n",
            "12     163514            168814\n",
            "..        ...               ...\n",
            "257   2730661           2734962\n",
            "259   2766282           2772583\n",
            "261   2789171           2793396\n",
            "263   2813386           2820849\n",
            "268   2843675           2855041\n",
            "\n",
            "[75 rows x 2 columns]\n"
          ]
        }
      ],
      "source": [
        "print(point_df[['Position', 'pointEndPosition']])"
      ]
    },
    {
      "cell_type": "markdown",
      "id": "29c55fac-8013-4892-b868-89894561453c",
      "metadata": {
        "id": "29c55fac-8013-4892-b868-89894561453c"
      },
      "source": [
        "# PRINT POINTCSV VISUALS"
      ]
    },
    {
      "cell_type": "code",
      "execution_count": null,
      "id": "6068f39f-7f61-4a09-8b29-07adc9b52e83",
      "metadata": {
        "id": "6068f39f-7f61-4a09-8b29-07adc9b52e83"
      },
      "outputs": [],
      "source": [
        "# Save point_df to CSV file\n",
        "\n",
        "# Assuming point_df is your DataFrame and teamAPlayer1, teamAPlayer2, teamBPlayer1, and teamBPlayer2 are the names from the first row\n",
        "teamAPlayer1NoSpace = shot_data.iloc[0]['teamAPlayer1'].replace(\" \", \"\")\n",
        "teamAPlayer2NoSpace = shot_data.iloc[0]['teamAPlayer2'].replace(\" \", \"\")\n",
        "teamBPlayer1NoSpace = shot_data.iloc[0]['teamBPlayer1'].replace(\" \", \"\")\n",
        "teamBPlayer2NoSpace = shot_data.iloc[0]['teamBPlayer2'].replace(\" \", \"\")\n",
        "\n",
        "# Save DataFrame to CSV file with modified player names\n",
        "point_df.to_csv(f'Point_Visuals_{teamAPlayer1NoSpace}_{teamAPlayer2NoSpace}_{teamBPlayer1NoSpace}_{teamBPlayer2NoSpace}.csv', index=False)\n",
        "\n"
      ]
    },
    {
      "cell_type": "code",
      "execution_count": null,
      "id": "bac20398-32b6-443c-91c8-b846081258ee",
      "metadata": {
        "id": "bac20398-32b6-443c-91c8-b846081258ee",
        "outputId": "f77c08d7-8011-44d0-d534-468ba73b2b88",
        "colab": {
          "base_uri": "https://localhost:8080/",
          "height": 35
        }
      },
      "outputs": [
        {
          "output_type": "execute_result",
          "data": {
            "text/plain": [
              "'Point_Visuals_SpencerJohnson_EmonvanLobenSels_KarlLee_SamuelRubell.json'"
            ],
            "application/vnd.google.colaboratory.intrinsic+json": {
              "type": "string"
            }
          },
          "metadata": {},
          "execution_count": 107
        }
      ],
      "source": [
        "def csv_to_json(csv_file_path, json_file_name):\n",
        "    # Load CSV file into a pandas DataFrame\n",
        "    df = pd.read_csv(csv_file_path)\n",
        "\n",
        "    # Convert DataFrame to JSON format\n",
        "    json_data = df.to_json(orient='records')\n",
        "\n",
        "    # Save JSON data to a file in the same directory\n",
        "    json_file_path = f'{json_file_name}'\n",
        "    with open(json_file_path, 'w') as json_file:\n",
        "        json_file.write(json_data)\n",
        "\n",
        "    return json_file_path\n",
        "\n",
        "# Define the CSV file path\n",
        "csv_file_path = f\"Point_Visuals_{teamAPlayer1NoSpace}_{teamAPlayer2NoSpace}_{teamBPlayer1NoSpace}_{teamBPlayer2NoSpace}.csv\"\n",
        "\n",
        "# Define the desired JSON file name (without extension)\n",
        "json_file_name = f\"Point_Visuals_{teamAPlayer1NoSpace}_{teamAPlayer2NoSpace}_{teamBPlayer1NoSpace}_{teamBPlayer2NoSpace}.json\"\n",
        "\n",
        "\n",
        "# Convert CSV to JSON and save in the same directory\n",
        "output_file_path = csv_to_json(csv_file_path, json_file_name)\n",
        "\n",
        "# Display the path where the JSON file is saved\n",
        "output_file_path\n"
      ]
    },
    {
      "cell_type": "markdown",
      "id": "c00e49c8-0479-47e8-bf83-28c6d57da209",
      "metadata": {
        "id": "c00e49c8-0479-47e8-bf83-28c6d57da209"
      },
      "source": [
        "# EDA\n",
        "\n",
        "# CHANGES\n",
        "1. Copy cells, do it for both players done\n",
        "2. bothAtNetTeamA and bothAtNetTeamB win% and frequency done\n",
        "\n",
        "---\n",
        "3. isPoach frequency and win% for both teams\n",
        "4. isFake frequency and win% for both teams\n",
        "5. serveFormation direction, win%, freq\n",
        "6. returnFormation win%, freq"
      ]
    },
    {
      "cell_type": "markdown",
      "id": "735f9aa0-d40c-4c43-94a8-d97bbf920d60",
      "metadata": {
        "id": "735f9aa0-d40c-4c43-94a8-d97bbf920d60"
      },
      "source": [
        "## Shot CSV EDA\n",
        "Add isPoach frequency and win% here\n",
        "Add"
      ]
    },
    {
      "cell_type": "code",
      "execution_count": null,
      "id": "fc732ce1-8de6-4248-a8b2-228f4934eebd",
      "metadata": {
        "id": "fc732ce1-8de6-4248-a8b2-228f4934eebd"
      },
      "outputs": [],
      "source": [
        "# Can input CSV Directly here for statistics functions\n",
        "\n",
        "# your_file_name = \"filename.csv\"\n",
        "# shot_eda = pd.read_csv(your_file_name)\n",
        "\n",
        "# if directly from notebook\n",
        "shot_eda = shot_data.copy()"
      ]
    },
    {
      "cell_type": "code",
      "execution_count": null,
      "id": "4f834479-9c3d-4279-a799-99a8f595a08f",
      "metadata": {
        "id": "4f834479-9c3d-4279-a799-99a8f595a08f",
        "outputId": "17efd735-9684-4f09-b571-c0e8dacfa1c3",
        "colab": {
          "base_uri": "https://localhost:8080/"
        }
      },
      "outputs": [
        {
          "output_type": "stream",
          "name": "stdout",
          "text": [
            "Number of Approach Shots hit by Spencer Johnson: 2\n",
            "Number of Approach Shots hit by Emon van Loben Sels: 3\n"
          ]
        }
      ],
      "source": [
        "# Assuming teamAPlayer1 and teamAPlayer2 are the names from the first row in shot_eda DataFrame\n",
        "teamAPlayer1 = shot_eda.iloc[0]['teamAPlayer1']\n",
        "teamAPlayer2 = shot_eda.iloc[0]['teamAPlayer2']\n",
        "\n",
        "# Filter shot_data based on the conditions for teamAPlayer1\n",
        "approach_data_teamAPlayer1 = shot_eda[(shot_eda['isApproach'] == 1) & (shot_eda['shotHitBy'] == teamAPlayer1)]\n",
        "\n",
        "# Count the distinct pointNumbers for teamAPlayer1\n",
        "distinct_point_numbers_teamAPlayer1 = approach_data_teamAPlayer1['pointNumber'].nunique()\n",
        "\n",
        "# Filter shot_data based on the conditions for teamAPlayer2\n",
        "approach_data_teamAPlayer2 = shot_eda[(shot_eda['isApproach'] == 1) & (shot_eda['shotHitBy'] == teamAPlayer2)]\n",
        "\n",
        "# Count the distinct pointNumbers for teamAPlayer2\n",
        "distinct_point_numbers_teamAPlayer2 = approach_data_teamAPlayer2['pointNumber'].nunique()\n",
        "\n",
        "# Print the results for teamAPlayer1 and teamAPlayer2\n",
        "print(f\"Number of Approach Shots hit by {teamAPlayer1}: {distinct_point_numbers_teamAPlayer1}\")\n",
        "print(f\"Number of Approach Shots hit by {teamAPlayer2}: {distinct_point_numbers_teamAPlayer2}\")\n",
        "\n",
        "\n",
        "# Poaching EDA\n",
        "\n",
        "\n",
        "# Fake EDA\n",
        "\n",
        "\n",
        "#\n",
        "\n"
      ]
    },
    {
      "cell_type": "code",
      "execution_count": null,
      "id": "90b77205-22df-4bd4-96a2-4dcc848e990a",
      "metadata": {
        "id": "90b77205-22df-4bd4-96a2-4dcc848e990a",
        "outputId": "11c42c49-8e45-41a0-ed99-432daba098a0",
        "colab": {
          "base_uri": "https://localhost:8080/"
        }
      },
      "outputs": [
        {
          "output_type": "stream",
          "name": "stdout",
          "text": [
            "0        Set 1: 0-0, 0-0 Spencer Johnson Serving\n",
            "2       Set 1: 0-0, 15-0 Spencer Johnson Serving\n",
            "5       Set 1: 0-0, 30-0 Spencer Johnson Serving\n",
            "9       Set 1: 0-0, 40-0 Spencer Johnson Serving\n",
            "12         Set 1: 1-0, 0-0 Samuel Rubell Serving\n",
            "                         ...                    \n",
            "257           Set 1: 6-6, 3-Mar Karl Lee Serving\n",
            "259    Set 1: 6-6, 3-Apr Spencer Johnson Serving\n",
            "261    Set 1: 6-6, 3-May Spencer Johnson Serving\n",
            "263      Set 1: 6-6, 3-Jun Samuel Rubell Serving\n",
            "268      Set 1: 6-6, 4-Jun Samuel Rubell Serving\n",
            "Name: Name, Length: 75, dtype: object\n"
          ]
        }
      ],
      "source": [
        "print(point_df['Name'])"
      ]
    },
    {
      "cell_type": "markdown",
      "id": "479c35f4-3096-40c9-9560-3d5abeb81626",
      "metadata": {
        "id": "479c35f4-3096-40c9-9560-3d5abeb81626"
      },
      "source": [
        "## Point CSV EDA"
      ]
    },
    {
      "cell_type": "code",
      "execution_count": null,
      "id": "4f0feb90-99df-4639-bd31-95772fbdc57b",
      "metadata": {
        "id": "4f0feb90-99df-4639-bd31-95772fbdc57b"
      },
      "outputs": [],
      "source": [
        "# # Can input CSV Directly here for statistics functions\n",
        "# import pandas as pd\n",
        "# your_file_name = \"Point_Visuals_Anne-ChristineLutkemeyer_SehaYu.csv\"\n",
        "# point_df_eda = pd.read_csv(your_file_name)\n",
        "\n",
        "# # OR MAKE point_df_eda copy of point_df\n",
        "\n",
        "point_df_eda = point_df.copy()"
      ]
    },
    {
      "cell_type": "code",
      "execution_count": null,
      "id": "ff9f9652-5ce4-436a-be30-abf5ea40236b",
      "metadata": {
        "scrolled": true,
        "id": "ff9f9652-5ce4-436a-be30-abf5ea40236b",
        "outputId": "076e18d0-cfe3-4afa-e9a8-8a5c8c7ca178",
        "colab": {
          "base_uri": "https://localhost:8080/"
        }
      },
      "outputs": [
        {
          "output_type": "stream",
          "name": "stdout",
          "text": [
            "Index(['Name', 'pointNumber', 'setNum', 'gameNumber', 'teamAPlayer1',\n",
            "       'teamAPlayer2', 'teamBPlayer1', 'teamBPlayer2', 'pointScore',\n",
            "       'gameScore', 'setScore', 'tiebreakScore', 'side', 'serverName',\n",
            "       'returnerName', 'Position', 'pointEndPosition', 'Duration',\n",
            "       'pointWonBy', 'rallyCount', 'rallyCountFreq', 'firstServeIn',\n",
            "       'secondServeIn', 'serveResult', 'serveInPlacement', 'firstServeZone',\n",
            "       'secondServeZone', 'isAce', 'returnDirection', 'returnFhBh',\n",
            "       'errorType', 'returnError', 'lastShotDirection', 'lastShotFhBh',\n",
            "       'lastShotHitBy', 'lastShotResult', 'isBreakPoint', 'bothAtNetTeamA',\n",
            "       'bothAtNetTeamB', 'player1SetScore', 'player2SetScore',\n",
            "       'player1GameScore', 'player2GameScore', 'player1PointScore',\n",
            "       'player2PointScore', 'player1TiebreakScore', 'player2TiebreakScore',\n",
            "       'teamAPlayer1ServeResult', 'teamAPlayer1ServePlacement',\n",
            "       'teamAPlayer1ReturnPlacement', 'teamAPlayer1ReturnFhBh',\n",
            "       'teamAPlayer1LastShotPlacement', 'teamAPlayer1LastShotFhBh',\n",
            "       'teamAPlayer1LastShotResult', 'teamAPlayer2ServeResult',\n",
            "       'teamAPlayer2ServePlacement', 'teamAPlayer2ReturnPlacement',\n",
            "       'teamAPlayer2ReturnFhBh', 'teamAPlayer2LastShotPlacement',\n",
            "       'teamAPlayer2LastShotFhBh', 'teamAPlayer2LastShotResult', 'clientTeam',\n",
            "       'opponentTeam', 'teamBPlayer1ServeResult', 'teamBPlayer2ServeResult',\n",
            "       'teamBPlayer1ServePlacement', 'teamBPlayer2ServePlacement',\n",
            "       'teamBPlayer1ReturnPlacement', 'teamBPlayer2ReturnPlacement',\n",
            "       'teamBPlayer1ReturnFhBh', 'teamBPlayer2ReturnFhBh',\n",
            "       'teamBPlayer1LastShotPlacement', 'teamBPlayer2LastShotPlacement',\n",
            "       'teamAPlayer2LastShotFhBh', 'teamBPlayer1LastShotFhBh',\n",
            "       'teamBPlayer2LastShotFhBh', 'teamBPlayer1LastShotResult',\n",
            "       'teamBPlayer2LastShotResult', 'isPoach', 'serveFormation',\n",
            "       'returnFormation'],\n",
            "      dtype='object')\n"
          ]
        }
      ],
      "source": [
        "print(point_df_eda.columns)"
      ]
    },
    {
      "cell_type": "code",
      "execution_count": null,
      "id": "028aa13a-95ce-4020-85b6-b1a8e4d10014",
      "metadata": {
        "id": "028aa13a-95ce-4020-85b6-b1a8e4d10014",
        "outputId": "b91a3a8a-d30a-4d0e-a3e6-12bbeb5d2cb8",
        "colab": {
          "base_uri": "https://localhost:8080/"
        }
      },
      "outputs": [
        {
          "output_type": "stream",
          "name": "stdout",
          "text": [
            "pointNumber                 23\n",
            "setNum                       1\n",
            "gameNumber                   5\n",
            "serveResult       1st Serve In\n",
            "rallyCount                   1\n",
            "serverName     Spencer Johnson\n",
            "Name: 72, dtype: object\n",
            "pointNumber                 25\n",
            "setNum                       1\n",
            "gameNumber                   5\n",
            "serveResult       1st Serve In\n",
            "rallyCount                   1\n",
            "serverName     Spencer Johnson\n",
            "Name: 75, dtype: object\n",
            "pointNumber                 26\n",
            "setNum                       1\n",
            "gameNumber                   5\n",
            "serveResult       1st Serve In\n",
            "rallyCount                   1\n",
            "serverName     Spencer Johnson\n",
            "Name: 76, dtype: object\n",
            "pointNumber                 42\n",
            "setNum                       1\n",
            "gameNumber                   9\n",
            "serveResult       1st Serve In\n",
            "rallyCount                   1\n",
            "serverName     Spencer Johnson\n",
            "Name: 134, dtype: object\n"
          ]
        }
      ],
      "source": [
        "serve_in_rows = point_df_eda[(point_df_eda['serveResult'] == '1st Serve In') | (point_df_eda['serveResult'] == '2nd Serve In')]\n",
        "\n",
        "# filter the rows where rallyCount column is equal to 1\n",
        "desired_rows = serve_in_rows[serve_in_rows['rallyCount'] == 1]\n",
        "\n",
        "# print each row\n",
        "for index, row in desired_rows.iterrows():\n",
        "    print(row[['pointNumber', 'setNum', 'gameNumber','serveResult','rallyCount' ,'serverName']])\n"
      ]
    },
    {
      "cell_type": "code",
      "execution_count": null,
      "id": "7cfc7542-6668-4c85-9522-cc52c121fa37",
      "metadata": {
        "scrolled": true,
        "id": "7cfc7542-6668-4c85-9522-cc52c121fa37",
        "outputId": "da6483d9-9363-40fe-f82f-feebe9bb213f",
        "colab": {
          "base_uri": "https://localhost:8080/"
        }
      },
      "outputs": [
        {
          "output_type": "stream",
          "name": "stdout",
          "text": [
            "\n",
            "Serve Results for Spencer Johnson:\n",
            "18\n",
            "\n",
            "Total Serves: 18\n",
            "First Serve In (Count): 14\n",
            "First Serve Won (Count): 8\n",
            "First Serve In (%): 77.78%\n",
            "First Serve Won (%): 57.14%\n",
            "Second Serve In (Count): 4\n",
            "Second Serve Total (Count): 4\n",
            "Second Serve Won (Count): 0\n",
            "Second Serve In (%): 100.00%\n",
            "Second Serve Won (%): 0.00%\n",
            "Ace (Count): 4\n",
            "Double Fault (Count): 0\n",
            "Points Won on Serve (Count) 8\n",
            "Points Won on Serve (%): 44.44%\n",
            "\n",
            "Return Results for Spencer Johnson:\n",
            "\n",
            "Total Return (Count): 22\n",
            "Return Won (Count): 10\n",
            "Return Won (%): 58.82352941176471\n",
            "\n",
            "Return Made (Count): 17\n",
            "Return Made (%): 0.7727272727272727\n",
            "Return Error (Count): 2\n",
            "Return Winner (Count): 0\n",
            "\n",
            "Deuce Return (Count): 3\n",
            "Deuce Return Made (Count): 1\n",
            "Deuce Return Made (%): 0.3333333333333333\n",
            "Deuce Return Won by Player1 (%): 200.0\n",
            "Deuce Return Won by Player1 (Count): 2\n",
            "\n",
            "Ad Return (Count): 19\n",
            "Ad Return Made (Count): 16\n",
            "Ad Return Made (%): 0.8421052631578947\n",
            "Ad Return Won by Player1 (Count): 8\n",
            "Ad Return Won by Player1 (%): 50.0\n",
            "\n",
            "Deuce Forehand Return Points - Made: 0\n",
            "Deuce Forehand Return Points - Error: 0\n",
            "Deuce Backhand Return Points - Made: 1\n",
            "Deuce Backhand Return Points - Error: 0\n",
            "\n",
            "Ad Forehand Return Points - Made: 4\n",
            "Ad Forehand Return Points - Error: 0\n",
            "Ad Backhand Return Points - Made: 12\n",
            "Ad Backhand Return Points - Error: 2\n",
            "\n",
            "At Net Results for Spencer Johnson:\n",
            "\n",
            "\n",
            "Serve Results for Emon van Loben Sels:\n",
            "21\n",
            "\n",
            "Total Serves: 21\n",
            "First Serve In (Count): 13\n",
            "First Serve Won (Count): 7\n",
            "First Serve In (%): 61.90%\n",
            "First Serve Won (%): 53.85%\n",
            "Second Serve In (Count): 7\n",
            "Second Serve Total (Count): 8\n",
            "Second Serve Won (Count): 2\n",
            "Second Serve In (%): 87.50%\n",
            "Second Serve Won (%): 28.57%\n",
            "Ace (Count): 0\n",
            "Double Fault (Count): 1\n",
            "Points Won on Serve (Count) 9\n",
            "Points Won on Serve (%): 42.86%\n",
            "\n",
            "Return Results for Emon van Loben Sels:\n",
            "\n",
            "Total Return (Count): 18\n",
            "Return Won (Count): 2\n",
            "Return Won (%): 20.0\n",
            "\n",
            "Return Made (Count): 10\n",
            "Return Made (%): 0.5555555555555556\n",
            "Return Error (Count): 8\n",
            "Return Winner (Count): 1\n",
            "\n",
            "Deuce Return (Count): 18\n",
            "Deuce Return Made (Count): 10\n",
            "Deuce Return Made (%): 0.5555555555555556\n",
            "Deuce Return Won by Player1 (%): 20.0\n",
            "Deuce Return Won by Player1 (Count): 2\n",
            "\n",
            "Ad Return (Count): 0\n",
            "Ad Return Made (Count): 0\n",
            "Ad Return Made (%): nan\n",
            "Ad Return Won by Player1 (Count): 1\n",
            "Ad Return Won by Player1 (%): 0\n",
            "\n",
            "Deuce Forehand Return Points - Made: 6\n",
            "Deuce Forehand Return Points - Error: 2\n",
            "Deuce Backhand Return Points - Made: 4\n",
            "Deuce Backhand Return Points - Error: 6\n",
            "\n",
            "Ad Forehand Return Points - Made: 0\n",
            "Ad Forehand Return Points - Error: 0\n",
            "Ad Backhand Return Points - Made: 0\n",
            "Ad Backhand Return Points - Error: 0\n",
            "\n",
            "At Net Results for Emon van Loben Sels:\n",
            "\n",
            "\n",
            "Serve Formation Results:\n",
            "\n",
            "Total Normal serve formations: 60\n",
            "Percentage of Normal serve formations: 80.00%\n",
            "Number of Normal serve formations won: 28\n",
            "Percentage of Normal serve formations won: 46.67%\n",
            "\n",
            "\n",
            "Total I-Formation serve formations: 15\n",
            "Percentage of I-Formation serve formations: 20.00%\n",
            "Number of I-Formation serve formations won: 9\n",
            "Percentage of I-Formation serve formations won: 60.00%\n",
            "\n",
            "Return Formation Results:\n",
            "\n",
            "Total 'Normal' return formations: 16\n",
            "Percentage of 'Normal' return formations: 21.33%\n",
            "Number of 'Normal' return formations won: 7\n",
            "Percentage of 'Normal' return formations won: 43.75%\n",
            "Total '2-back' return formations: 59\n",
            "Percentage of '2-back' return formations: 78.67%\n",
            "Number of '2-back' return formations won: 30\n",
            "Percentage of '2-back' return formations won: 50.85%\n",
            "\n",
            "Net Results\n",
            "\n",
            "Total Points Both At Net: 14\n",
            "Percentage of Total Points At Net: 18.67\n",
            "Both At Net Win %: 35.71\n",
            "\n",
            "Total Points Poached: 12\n",
            "Percentage of Total Points Poached: 16.00\n",
            "Poach Points Won: 6\n",
            "Poach Points Win %: 50.00\n"
          ]
        }
      ],
      "source": [
        "first_player1Name = shot_data.iloc[0]['teamAPlayer1']\n",
        "\n",
        "\n",
        "\n",
        "# PLAYER 1\n",
        "\n",
        "# Display the results\n",
        "print(f\"\\nServe Results for {first_player1Name}:\")\n",
        "\n",
        "# Assuming point_df_eda is your DataFrame\n",
        "total_serves = len(point_df_eda[point_df_eda['serverName'] == first_player1Name])\n",
        "print(total_serves)\n",
        "first_serve_in_count = len(point_df_eda[(point_df_eda['serverName'] == first_player1Name) & (point_df_eda['firstServeIn'] == 1)])\n",
        "first_serve_won_count = len(point_df_eda[(point_df_eda['serverName'] == first_player1Name) & (point_df_eda['firstServeIn'] == 1) & (point_df_eda['pointWonBy'] == first_player1Name)])\n",
        "percentage_first_serve_in = (first_serve_in_count / total_serves) * 100 if total_serves > 0 else 0\n",
        "percentage_first_serve_won = (first_serve_won_count / first_serve_in_count) * 100 if first_serve_in_count > 0 else 0\n",
        "\n",
        "second_serve_total_count = len(point_df_eda[(point_df_eda['serverName'] == first_player1Name) & (point_df_eda['firstServeIn'] == 0)])\n",
        "second_serve_in_count = len(point_df_eda[(point_df_eda['serverName'] == first_player1Name) & (point_df_eda['firstServeIn'] == 0)& (point_df_eda['secondServeIn'] == 1)])\n",
        "second_serve_won_count = len(point_df_eda[(point_df_eda['serverName'] == first_player1Name) & (point_df_eda['firstServeIn'] == 0)& (point_df_eda['secondServeIn'] == 1) & (point_df_eda['pointWonBy'] == first_player1Name)])\n",
        "percentage_second_serve_in = (second_serve_in_count / second_serve_total_count) * 100 if second_serve_total_count > 0 else 0\n",
        "percentage_second_serve_won = (second_serve_won_count / second_serve_in_count) * 100 if second_serve_in_count > 0 else 0\n",
        "\n",
        "\n",
        "\n",
        "# Display the results\n",
        "print(\"\\nTotal Serves:\", total_serves)\n",
        "print(\"First Serve In (Count):\", first_serve_in_count)\n",
        "print(\"First Serve Won (Count):\", first_serve_won_count)\n",
        "print(f\"First Serve In (%): {percentage_first_serve_in:.2f}%\")\n",
        "print(f\"First Serve Won (%): {percentage_first_serve_won:.2f}%\")\n",
        "\n",
        "print(\"Second Serve In (Count):\", second_serve_in_count)\n",
        "print(\"Second Serve Total (Count):\", second_serve_total_count)\n",
        "print(\"Second Serve Won (Count):\", second_serve_won_count)\n",
        "print(f\"Second Serve In (%): {percentage_second_serve_in:.2f}%\")\n",
        "print(f\"Second Serve Won (%): {percentage_second_serve_won:.2f}%\")\n",
        "\n",
        "# Assuming point_df is your DataFrame\n",
        "count_is_ace = (point_df_eda[point_df_eda['serverName'] == first_player1Name]['isAce']).sum()\n",
        "count_is_double_fault = ((point_df_eda['serverName'] == first_player1Name) & (point_df_eda['serveResult'] == \"Double Fault\")).sum()\n",
        "\n",
        "# Display the results\n",
        "print(\"Ace (Count):\", count_is_ace)\n",
        "print(\"Double Fault (Count):\", count_is_double_fault)\n",
        "\n",
        "# Count of rows where serverName is equal to the first row of player1Name and pointWonBy is equal to the first row of player1Name\n",
        "total_service_points_won = len(point_df_eda[(point_df_eda['serverName'] == first_player1Name) & (point_df_eda['pointWonBy'] == first_player1Name)])\n",
        "total_service_points_won_percentage = total_service_points_won / total_serves *100\n",
        "\n",
        "# Display the results\n",
        "print(f\"Points Won on Serve (Count) {total_service_points_won}\")\n",
        "\n",
        "print(f\"Points Won on Serve (%): {total_service_points_won_percentage:.2f}%\")\n",
        "\n",
        "# Assuming point_df is your DataFrame\n",
        "return_points = point_df_eda[(point_df_eda['returnerName'] == first_player1Name)] # CHANGED THIS JERRY, REMOVED RALLY COUNT >= 2\n",
        "\n",
        "total_return = len(return_points)\n",
        "returnMade = len(return_points[(return_points['rallyCount'] > 2) | ((return_points['rallyCount'] == 2) & (return_points['lastShotResult'] != 'Error'))])\n",
        "returnError = len(return_points[(return_points['lastShotResult'] == 'Error') & (return_points['rallyCount'] == 2)])\n",
        "returnWinner = len(return_points[(return_points['lastShotResult'] == 'Winner') & (return_points['rallyCount'] == 2)])\n",
        "returnMadePercentage = returnMade/total_return\n",
        "\n",
        "returnWonByPlayer1 = len(return_points[return_points['pointWonBy'] == first_player1Name])\n",
        "returnWonByPlayer1Percentage = returnWonByPlayer1 / returnMade * 100 if returnMade > 0 else 0\n",
        "\n",
        "deuceReturnCount = len(return_points[return_points['side'] == 'Deuce'])\n",
        "adReturnCount = len(return_points[return_points['side'] == 'Ad'])\n",
        "\n",
        "\n",
        "deuceReturnMade = len(return_points[(return_points['side'] == 'Deuce') & ((return_points['rallyCount'] > 2) | ((return_points['rallyCount'] == 2) & (return_points['lastShotResult'] != 'Error')))])\n",
        "adReturnMade = len(return_points[(return_points['side'] == 'Ad') & ((return_points['rallyCount'] > 2) | ((return_points['rallyCount'] == 2) & (return_points['lastShotResult'] != 'Error')))])\n",
        "\n",
        "# Calculate deuceReturnMadePercentage with a check for division by zero\n",
        "if deuceReturnCount != 0:\n",
        "    deuceReturnMadePercentage = deuceReturnMade / deuceReturnCount\n",
        "else:\n",
        "    deuceReturnMadePercentage = np.nan  # or 0, or any placeholder value\n",
        "\n",
        "# Calculate adReturnMadePercentage with a check for division by zero\n",
        "if adReturnCount != 0:\n",
        "    adReturnMadePercentage = adReturnMade / adReturnCount\n",
        "else:\n",
        "    adReturnMadePercentage = np.nan  # or 0, or any placeholder value\n",
        "\n",
        "deuceReturnWonByPlayer1 = len(return_points[(return_points['side'] == 'Deuce') & (return_points['pointWonBy'] == first_player1Name) | ((return_points['rallyCount'] == 2) & (return_points['lastShotResult'] != 'Error'))])\n",
        "adReturnWonByPlayer1 = len(return_points[(return_points['side'] == 'Ad') & (return_points['pointWonBy'] == first_player1Name) | ((return_points['rallyCount'] == 2) & (return_points['lastShotResult'] != 'Error'))])\n",
        "\n",
        "deuceReturnWonByPlayer1Percentage = deuceReturnWonByPlayer1 / deuceReturnMade * 100 if deuceReturnMade > 0 else 0\n",
        "adReturnWonByPlayer1Percentage = adReturnWonByPlayer1 / adReturnMade * 100 if adReturnMade > 0 else 0\n",
        "\n",
        "\n",
        "\n",
        "\n",
        "print(f\"\\nReturn Results for {first_player1Name}:\\n\")\n",
        "\n",
        "print(\"Total Return (Count):\", total_return)\n",
        "print(\"Return Won (Count):\", returnWonByPlayer1)\n",
        "print(\"Return Won (%):\", returnWonByPlayer1Percentage)\n",
        "\n",
        "print(\"\\nReturn Made (Count):\", returnMade)\n",
        "print(\"Return Made (%):\", returnMadePercentage)\n",
        "print(\"Return Error (Count):\", returnError)\n",
        "print(\"Return Winner (Count):\", returnWinner)\n",
        "\n",
        "print(\"\\nDeuce Return (Count):\", deuceReturnCount)\n",
        "print(\"Deuce Return Made (Count):\", deuceReturnMade)\n",
        "print(\"Deuce Return Made (%):\", deuceReturnMadePercentage)\n",
        "print(\"Deuce Return Won by Player1 (%):\", deuceReturnWonByPlayer1Percentage)\n",
        "print(\"Deuce Return Won by Player1 (Count):\", deuceReturnWonByPlayer1)\n",
        "\n",
        "\n",
        "print(\"\\nAd Return (Count):\", adReturnCount)\n",
        "print(\"Ad Return Made (Count):\", adReturnMade)\n",
        "print(\"Ad Return Made (%):\", adReturnMadePercentage)\n",
        "print(\"Ad Return Won by Player1 (Count):\", adReturnWonByPlayer1)\n",
        "print(\"Ad Return Won by Player1 (%):\", adReturnWonByPlayer1Percentage)\n",
        "\n",
        "# Assuming return_points is your DataFrame\n",
        "deuce_return_points = return_points[(return_points['side'] == 'Deuce') & (return_points['returnerName'] == first_player1Name) & (return_points['rallyCount'] >= 2)]\n",
        "\n",
        "# Deuce Return Points Separated by returnFhBh\n",
        "deuce_forehand_return_points = deuce_return_points[deuce_return_points['returnFhBh'] == 'Forehand']\n",
        "deuce_backhand_return_points = deuce_return_points[deuce_return_points['returnFhBh'] == 'Backhand']\n",
        "\n",
        "\n",
        "# Count for Deuce Return Points - Made\n",
        "count_deuce_forehand_made = len(deuce_forehand_return_points[(deuce_forehand_return_points['rallyCount'] > 2) | ((deuce_forehand_return_points['rallyCount'] == 2) & (deuce_forehand_return_points['lastShotResult'] != 'Error'))])\n",
        "count_deuce_backhand_made = len(deuce_backhand_return_points[(deuce_backhand_return_points['rallyCount'] > 2) | ((deuce_backhand_return_points['rallyCount'] == 2) & (deuce_backhand_return_points['lastShotResult'] != 'Error'))])\n",
        "\n",
        "# Count for Deuce Return Points - Error\n",
        "count_deuce_forehand_error = len(deuce_forehand_return_points[(deuce_forehand_return_points['lastShotResult'] == 'Error') & (deuce_forehand_return_points['rallyCount'] == 2)])\n",
        "count_deuce_backhand_error = len(deuce_backhand_return_points[(deuce_backhand_return_points['lastShotResult'] == 'Error') & (deuce_backhand_return_points['rallyCount'] == 2)])\n",
        "\n",
        "# Display the counts\n",
        "print(\"\\nDeuce Forehand Return Points - Made:\", count_deuce_forehand_made)\n",
        "print(\"Deuce Forehand Return Points - Error:\", count_deuce_forehand_error)\n",
        "\n",
        "print(\"Deuce Backhand Return Points - Made:\", count_deuce_backhand_made)\n",
        "print(\"Deuce Backhand Return Points - Error:\", count_deuce_backhand_error)\n",
        "\n",
        "# Assuming return_points is your DataFrame\n",
        "ad_return_points = return_points[(return_points['side'] == 'Ad') & (return_points['returnerName'] == first_player1Name) & (return_points['rallyCount'] >= 2)]\n",
        "\n",
        "# Ad Return Points Separated by returnFhBh\n",
        "ad_forehand_return_points = ad_return_points[ad_return_points['returnFhBh'] == 'Forehand']\n",
        "ad_backhand_return_points = ad_return_points[ad_return_points['returnFhBh'] == 'Backhand']\n",
        "\n",
        "# Count for Ad Return Points - Made\n",
        "count_ad_forehand_made = len(ad_forehand_return_points[(ad_forehand_return_points['rallyCount'] > 2) | ((ad_forehand_return_points['rallyCount'] == 2) & (ad_forehand_return_points['lastShotResult'] != 'Error'))])\n",
        "count_ad_backhand_made = len(ad_backhand_return_points[(ad_backhand_return_points['rallyCount'] > 2) | ((ad_backhand_return_points['rallyCount'] == 2) & (ad_backhand_return_points['lastShotResult'] != 'Error'))])\n",
        "\n",
        "# Count for Ad Return Points - Error\n",
        "count_ad_forehand_error = len(ad_forehand_return_points[(ad_forehand_return_points['lastShotResult'] == 'Error') & (ad_forehand_return_points['rallyCount'] == 2)])\n",
        "count_ad_backhand_error = len(ad_backhand_return_points[(ad_backhand_return_points['lastShotResult'] == 'Error') & (ad_backhand_return_points['rallyCount'] == 2)])\n",
        "\n",
        "# Display the counts\n",
        "print(\"\\nAd Forehand Return Points - Made:\", count_ad_forehand_made)\n",
        "print(\"Ad Forehand Return Points - Error:\", count_ad_forehand_error)\n",
        "\n",
        "print(\"Ad Backhand Return Points - Made:\", count_ad_backhand_made)\n",
        "print(\"Ad Backhand Return Points - Error:\", count_ad_backhand_error)\n",
        "\n",
        "\n",
        "\n",
        "# NET----\n",
        "\n",
        "print(f\"\\nAt Net Results for {first_player1Name}:\\n\")\n",
        "\n",
        "\n",
        "\n",
        "\n",
        "\n",
        "\n",
        "\n",
        "\n",
        "#------------------------------------\n",
        "# PLAYER 2\n",
        "#------------------------------------\n",
        "\n",
        "first_player1Name = shot_data.iloc[0]['teamAPlayer2']\n",
        "\n",
        "\n",
        "# Display the results\n",
        "print(f\"\\nServe Results for {first_player1Name}:\")\n",
        "\n",
        "# Assuming point_df_eda is your DataFrame\n",
        "total_serves = len(point_df_eda[point_df_eda['serverName'] == first_player1Name])\n",
        "print(total_serves)\n",
        "first_serve_in_count = len(point_df_eda[(point_df_eda['serverName'] == first_player1Name) & (point_df_eda['firstServeIn'] == 1)])\n",
        "first_serve_won_count = len(point_df_eda[(point_df_eda['serverName'] == first_player1Name) & (point_df_eda['firstServeIn'] == 1) & (point_df_eda['pointWonBy'] == first_player1Name)])\n",
        "percentage_first_serve_in = (first_serve_in_count / total_serves) * 100 if total_serves > 0 else 0\n",
        "percentage_first_serve_won = (first_serve_won_count / first_serve_in_count) * 100 if first_serve_in_count > 0 else 0\n",
        "\n",
        "second_serve_total_count = len(point_df_eda[(point_df_eda['serverName'] == first_player1Name) & (point_df_eda['firstServeIn'] == 0)])\n",
        "second_serve_in_count = len(point_df_eda[(point_df_eda['serverName'] == first_player1Name) & (point_df_eda['firstServeIn'] == 0)& (point_df_eda['secondServeIn'] == 1)])\n",
        "second_serve_won_count = len(point_df_eda[(point_df_eda['serverName'] == first_player1Name) & (point_df_eda['firstServeIn'] == 0)& (point_df_eda['secondServeIn'] == 1) & (point_df_eda['pointWonBy'] == first_player1Name)])\n",
        "percentage_second_serve_in = (second_serve_in_count / second_serve_total_count) * 100 if second_serve_total_count > 0 else 0\n",
        "percentage_second_serve_won = (second_serve_won_count / second_serve_in_count) * 100 if second_serve_in_count > 0 else 0\n",
        "\n",
        "\n",
        "\n",
        "# Display the results\n",
        "print(\"\\nTotal Serves:\", total_serves)\n",
        "print(\"First Serve In (Count):\", first_serve_in_count)\n",
        "print(\"First Serve Won (Count):\", first_serve_won_count)\n",
        "print(f\"First Serve In (%): {percentage_first_serve_in:.2f}%\")\n",
        "print(f\"First Serve Won (%): {percentage_first_serve_won:.2f}%\")\n",
        "\n",
        "print(\"Second Serve In (Count):\", second_serve_in_count)\n",
        "print(\"Second Serve Total (Count):\", second_serve_total_count)\n",
        "print(\"Second Serve Won (Count):\", second_serve_won_count)\n",
        "print(f\"Second Serve In (%): {percentage_second_serve_in:.2f}%\")\n",
        "print(f\"Second Serve Won (%): {percentage_second_serve_won:.2f}%\")\n",
        "\n",
        "# Assuming point_df is your DataFrame\n",
        "count_is_ace = (point_df_eda[point_df_eda['serverName'] == first_player1Name]['isAce']).sum()\n",
        "count_is_double_fault = ((point_df_eda['serverName'] == first_player1Name) & (point_df_eda['serveResult'] == \"Double Fault\")).sum()\n",
        "\n",
        "# Display the results\n",
        "print(\"Ace (Count):\", count_is_ace)\n",
        "print(\"Double Fault (Count):\", count_is_double_fault)\n",
        "\n",
        "# Count of rows where serverName is equal to the first row of player1Name and pointWonBy is equal to the first row of player1Name\n",
        "total_service_points_won = len(point_df_eda[(point_df_eda['serverName'] == first_player1Name) & (point_df_eda['pointWonBy'] == first_player1Name)])\n",
        "total_service_points_won_percentage = total_service_points_won / total_serves *100\n",
        "\n",
        "# Display the results\n",
        "print(f\"Points Won on Serve (Count) {total_service_points_won}\")\n",
        "\n",
        "print(f\"Points Won on Serve (%): {total_service_points_won_percentage:.2f}%\")\n",
        "\n",
        "# Assuming point_df is your DataFrame\n",
        "return_points = point_df_eda[(point_df_eda['returnerName'] == first_player1Name)] # CHANGED THIS JERRY, REMOVED RALLY COUNT >= 2\n",
        "\n",
        "total_return = len(return_points)\n",
        "returnMade = len(return_points[(return_points['rallyCount'] > 2) | ((return_points['rallyCount'] == 2) & (return_points['lastShotResult'] != 'Error'))])\n",
        "returnError = len(return_points[(return_points['lastShotResult'] == 'Error') & (return_points['rallyCount'] == 2)])\n",
        "returnWinner = len(return_points[(return_points['lastShotResult'] == 'Winner') & (return_points['rallyCount'] == 2)])\n",
        "returnMadePercentage = returnMade/total_return\n",
        "\n",
        "returnWonByPlayer1 = len(return_points[return_points['pointWonBy'] == first_player1Name])\n",
        "returnWonByPlayer1Percentage = returnWonByPlayer1 / returnMade * 100 if returnMade > 0 else 0\n",
        "\n",
        "deuceReturnCount = len(return_points[return_points['side'] == 'Deuce'])\n",
        "adReturnCount = len(return_points[return_points['side'] == 'Ad'])\n",
        "\n",
        "\n",
        "deuceReturnMade = len(return_points[(return_points['side'] == 'Deuce') & ((return_points['rallyCount'] > 2) | ((return_points['rallyCount'] == 2) & (return_points['lastShotResult'] != 'Error')))])\n",
        "adReturnMade = len(return_points[(return_points['side'] == 'Ad') & ((return_points['rallyCount'] > 2) | ((return_points['rallyCount'] == 2) & (return_points['lastShotResult'] != 'Error')))])\n",
        "\n",
        "# Calculate deuceReturnMadePercentage with a check for division by zero\n",
        "if deuceReturnCount != 0:\n",
        "    deuceReturnMadePercentage = deuceReturnMade / deuceReturnCount\n",
        "else:\n",
        "    deuceReturnMadePercentage = np.nan  # or 0, or any placeholder value\n",
        "\n",
        "# Calculate adReturnMadePercentage with a check for division by zero\n",
        "if adReturnCount != 0:\n",
        "    adReturnMadePercentage = adReturnMade / adReturnCount\n",
        "else:\n",
        "    adReturnMadePercentage = np.nan  # or 0, or any placeholder value\n",
        "\n",
        "deuceReturnWonByPlayer1 = len(return_points[(return_points['side'] == 'Deuce') & (return_points['pointWonBy'] == first_player1Name) | ((return_points['rallyCount'] == 2) & (return_points['lastShotResult'] != 'Error'))])\n",
        "adReturnWonByPlayer1 = len(return_points[(return_points['side'] == 'Ad') & (return_points['pointWonBy'] == first_player1Name) | ((return_points['rallyCount'] == 2) & (return_points['lastShotResult'] != 'Error'))])\n",
        "\n",
        "deuceReturnWonByPlayer1Percentage = deuceReturnWonByPlayer1 / deuceReturnMade * 100 if deuceReturnMade > 0 else 0\n",
        "adReturnWonByPlayer1Percentage = adReturnWonByPlayer1 / adReturnMade * 100 if adReturnMade > 0 else 0\n",
        "\n",
        "\n",
        "\n",
        "\n",
        "print(f\"\\nReturn Results for {first_player1Name}:\\n\")\n",
        "\n",
        "print(\"Total Return (Count):\", total_return)\n",
        "print(\"Return Won (Count):\", returnWonByPlayer1)\n",
        "print(\"Return Won (%):\", returnWonByPlayer1Percentage)\n",
        "\n",
        "print(\"\\nReturn Made (Count):\", returnMade)\n",
        "print(\"Return Made (%):\", returnMadePercentage)\n",
        "print(\"Return Error (Count):\", returnError)\n",
        "print(\"Return Winner (Count):\", returnWinner)\n",
        "\n",
        "print(\"\\nDeuce Return (Count):\", deuceReturnCount)\n",
        "print(\"Deuce Return Made (Count):\", deuceReturnMade)\n",
        "print(\"Deuce Return Made (%):\", deuceReturnMadePercentage)\n",
        "print(\"Deuce Return Won by Player1 (%):\", deuceReturnWonByPlayer1Percentage)\n",
        "print(\"Deuce Return Won by Player1 (Count):\", deuceReturnWonByPlayer1)\n",
        "\n",
        "\n",
        "print(\"\\nAd Return (Count):\", adReturnCount)\n",
        "print(\"Ad Return Made (Count):\", adReturnMade)\n",
        "print(\"Ad Return Made (%):\", adReturnMadePercentage)\n",
        "print(\"Ad Return Won by Player1 (Count):\", adReturnWonByPlayer1)\n",
        "print(\"Ad Return Won by Player1 (%):\", adReturnWonByPlayer1Percentage)\n",
        "\n",
        "# Assuming return_points is your DataFrame\n",
        "deuce_return_points = return_points[(return_points['side'] == 'Deuce') & (return_points['returnerName'] == first_player1Name) & (return_points['rallyCount'] >= 2)]\n",
        "\n",
        "# Deuce Return Points Separated by returnFhBh\n",
        "deuce_forehand_return_points = deuce_return_points[deuce_return_points['returnFhBh'] == 'Forehand']\n",
        "deuce_backhand_return_points = deuce_return_points[deuce_return_points['returnFhBh'] == 'Backhand']\n",
        "\n",
        "\n",
        "# Count for Deuce Return Points - Made\n",
        "count_deuce_forehand_made = len(deuce_forehand_return_points[(deuce_forehand_return_points['rallyCount'] > 2) | ((deuce_forehand_return_points['rallyCount'] == 2) & (deuce_forehand_return_points['lastShotResult'] != 'Error'))])\n",
        "count_deuce_backhand_made = len(deuce_backhand_return_points[(deuce_backhand_return_points['rallyCount'] > 2) | ((deuce_backhand_return_points['rallyCount'] == 2) & (deuce_backhand_return_points['lastShotResult'] != 'Error'))])\n",
        "\n",
        "# Count for Deuce Return Points - Error\n",
        "count_deuce_forehand_error = len(deuce_forehand_return_points[(deuce_forehand_return_points['lastShotResult'] == 'Error') & (deuce_forehand_return_points['rallyCount'] == 2)])\n",
        "count_deuce_backhand_error = len(deuce_backhand_return_points[(deuce_backhand_return_points['lastShotResult'] == 'Error') & (deuce_backhand_return_points['rallyCount'] == 2)])\n",
        "\n",
        "# Display the counts\n",
        "print(\"\\nDeuce Forehand Return Points - Made:\", count_deuce_forehand_made)\n",
        "print(\"Deuce Forehand Return Points - Error:\", count_deuce_forehand_error)\n",
        "\n",
        "print(\"Deuce Backhand Return Points - Made:\", count_deuce_backhand_made)\n",
        "print(\"Deuce Backhand Return Points - Error:\", count_deuce_backhand_error)\n",
        "\n",
        "# Assuming return_points is your DataFrame\n",
        "ad_return_points = return_points[(return_points['side'] == 'Ad') & (return_points['returnerName'] == first_player1Name) & (return_points['rallyCount'] >= 2)]\n",
        "\n",
        "# Ad Return Points Separated by returnFhBh\n",
        "ad_forehand_return_points = ad_return_points[ad_return_points['returnFhBh'] == 'Forehand']\n",
        "ad_backhand_return_points = ad_return_points[ad_return_points['returnFhBh'] == 'Backhand']\n",
        "\n",
        "# Count for Ad Return Points - Made\n",
        "count_ad_forehand_made = len(ad_forehand_return_points[(ad_forehand_return_points['rallyCount'] > 2) | ((ad_forehand_return_points['rallyCount'] == 2) & (ad_forehand_return_points['lastShotResult'] != 'Error'))])\n",
        "count_ad_backhand_made = len(ad_backhand_return_points[(ad_backhand_return_points['rallyCount'] > 2) | ((ad_backhand_return_points['rallyCount'] == 2) & (ad_backhand_return_points['lastShotResult'] != 'Error'))])\n",
        "\n",
        "# Count for Ad Return Points - Error\n",
        "count_ad_forehand_error = len(ad_forehand_return_points[(ad_forehand_return_points['lastShotResult'] == 'Error') & (ad_forehand_return_points['rallyCount'] == 2)])\n",
        "count_ad_backhand_error = len(ad_backhand_return_points[(ad_backhand_return_points['lastShotResult'] == 'Error') & (ad_backhand_return_points['rallyCount'] == 2)])\n",
        "\n",
        "# Display the counts\n",
        "print(\"\\nAd Forehand Return Points - Made:\", count_ad_forehand_made)\n",
        "print(\"Ad Forehand Return Points - Error:\", count_ad_forehand_error)\n",
        "\n",
        "print(\"Ad Backhand Return Points - Made:\", count_ad_backhand_made)\n",
        "print(\"Ad Backhand Return Points - Error:\", count_ad_backhand_error)\n",
        "\n",
        "print(f\"\\nAt Net Results for {first_player1Name}:\\n\")\n",
        "\n",
        "\n",
        "print(\"\\nServe Formation Results:\\n\")\n",
        "# Normal formation\n",
        "total_normal_serve = len(point_df_eda[point_df_eda['serveFormation'] == 'Normal'])\n",
        "percentage_normal_serve = (total_normal_serve / len(point_df_eda)) * 100\n",
        "normal_serve_won = len(point_df_eda[(point_df_eda['serveFormation'] == 'Normal') & ((point_df_eda['pointWonBy'] == shot_data.iloc[0]['teamAPlayer1']) | (point_df_eda['pointWonBy'] == shot_data.iloc[0]['teamAPlayer2']))])\n",
        "normal_serve_won_percentage = (normal_serve_won / total_normal_serve) * 100\n",
        "\n",
        "\n",
        "# I formation\n",
        "total_i_serve = len(point_df_eda[point_df_eda['serveFormation'] == 'I'])\n",
        "percentage_i_serve = (total_i_serve / len(point_df_eda)) * 100\n",
        "i_serve_won = len(point_df_eda[(point_df_eda['serveFormation'] == 'I') &\n",
        "                               ((point_df_eda['pointWonBy'] == shot_data.iloc[0]['teamAPlayer1']) |\n",
        "                                (point_df_eda['pointWonBy'] == shot_data.iloc[0]['teamAPlayer2']))])\n",
        "i_serve_won_percentage = (i_serve_won / total_i_serve) * 100\n",
        "\n",
        "print(f\"Total Normal serve formations: {total_normal_serve}\")\n",
        "print(f\"Percentage of Normal serve formations: {percentage_normal_serve:.2f}%\")\n",
        "print(f\"Number of Normal serve formations won: {normal_serve_won}\")\n",
        "print(f\"Percentage of Normal serve formations won: {normal_serve_won_percentage:.2f}%\")\n",
        "print('\\n')\n",
        "print(f\"Total I-Formation serve formations: {total_i_serve}\")\n",
        "print(f\"Percentage of I-Formation serve formations: {percentage_i_serve:.2f}%\")\n",
        "print(f\"Number of I-Formation serve formations won: {i_serve_won}\")\n",
        "print(f\"Percentage of I-Formation serve formations won: {i_serve_won_percentage:.2f}%\")\n",
        "\n",
        "print(\"\\nReturn Formation Results:\\n\")\n",
        "# Normal formation\n",
        "total_normal_return = len(point_df_eda[point_df_eda['returnFormation'] == 'Normal'])\n",
        "percentage_normal_return = (total_normal_return / len(point_df_eda)) * 100\n",
        "normal_return_won = len(point_df_eda[(point_df_eda['returnFormation'] == 'Normal') & ((point_df_eda['pointWonBy'] == shot_data.iloc[0]['teamAPlayer1']) | (point_df_eda['pointWonBy'] == shot_data.iloc[0]['teamAPlayer2']))])\n",
        "normal_return_won_percentage = (normal_return_won / total_normal_return) * 100\n",
        "\n",
        "# 2-Back formation\n",
        "total_2back_return = len(point_df_eda[point_df_eda['returnFormation'] == '2-Back'])\n",
        "percentage_2back_return = (total_2back_return / len(point_df_eda)) * 100\n",
        "twoback_return_won = len(point_df_eda[(point_df_eda['returnFormation'] == '2-Back') & ((point_df_eda['pointWonBy'] == shot_data.iloc[0]['teamAPlayer1']) | (point_df_eda['pointWonBy'] == shot_data.iloc[0]['teamAPlayer2']))])\n",
        "twoback_return_won_percentage = (twoback_return_won / total_2back_return) * 100\n",
        "\n",
        "# Print the results for 'Normal' return formations\n",
        "print(f\"Total 'Normal' return formations: {total_normal_return}\")\n",
        "print(f\"Percentage of 'Normal' return formations: {percentage_normal_return:.2f}%\")\n",
        "print(f\"Number of 'Normal' return formations won: {normal_return_won}\")\n",
        "print(f\"Percentage of 'Normal' return formations won: {normal_return_won_percentage:.2f}%\")\n",
        "\n",
        "# Print the results for '2-back' return formations\n",
        "print(f\"Total '2-back' return formations: {total_2back_return}\")\n",
        "print(f\"Percentage of '2-back' return formations: {percentage_2back_return:.2f}%\")\n",
        "print(f\"Number of '2-back' return formations won: {twoback_return_won}\")\n",
        "print(f\"Percentage of '2-back' return formations won: {twoback_return_won_percentage:.2f}%\")\n",
        "\n",
        "print(\"\\nNet Results\\n\")\n",
        "\n",
        "total_at_net = len(point_df_eda[point_df_eda['bothAtNetTeamA'] == 1])\n",
        "percentage_at_net = (total_at_net / len(point_df_eda)) * 100\n",
        "at_net_and_won = len(point_df_eda[(point_df_eda['bothAtNetTeamA'] == 1) & ((point_df_eda['pointWonBy'] == shot_data.iloc[0]['teamAPlayer1']) | (point_df_eda['pointWonBy'] == shot_data.iloc[0]['teamAPlayer2']))])\n",
        "at_net_and_won_percentage = (at_net_and_won / total_at_net) * 100\n",
        "print(f\"Total Points Both At Net: {total_at_net}\")\n",
        "print(f\"Percentage of Total Points At Net: {percentage_at_net:.2f}\")\n",
        "print(f\"Both At Net Win %: {at_net_and_won_percentage:.2f}\\n\")\n",
        "# bothatnetteamA and teamB win% and frequency\n",
        "# isPoach frequency\n",
        "total_poach = len(point_df_eda[point_df_eda['isPoach'] == 1])\n",
        "percentage_poach = (total_poach / len(point_df_eda)) * 100\n",
        "poach_and_won = len(point_df_eda[(point_df_eda['isPoach'] == 1) & ((point_df_eda['pointWonBy'] == shot_data.iloc[0]['teamAPlayer1']) | (point_df_eda['pointWonBy'] == shot_data.iloc[0]['teamAPlayer2']))])\n",
        "poach_and_won_percentage = (poach_and_won / total_poach) * 100\n",
        "\n",
        "print(f\"Total Points Poached: {total_poach}\")\n",
        "print(f\"Percentage of Total Points Poached: {percentage_poach:.2f}\")\n",
        "print(f\"Poach Points Won: {poach_and_won}\")\n",
        "print(f\"Poach Points Win %: {poach_and_won_percentage:.2f}\")\n",
        "\n",
        "\n",
        "# # Total points where atNetPlayer1 = first_player1Name\n",
        "# total_at_net_player1 = len(point_df_eda[point_df_eda['atNetPlayer1'] == first_player1Name])\n",
        "\n",
        "# # Percentage of points where atNetPlayer1 = 1 out of total points\n",
        "# percentage_at_net_player1 = (total_at_net_player1 / len(point_df_eda)) * 100 if len(point_df_eda) > 0 else 0\n",
        "\n",
        "# # Display the total count and percentage of points where atNetPlayer1 = 1\n",
        "# print(f\"Total Net Points for {first_player1Name}: {total_at_net_player1}\")\n",
        "# print(f\"Percentage of Net Points for {first_player1Name}: {percentage_at_net_player1:.2f}%\")\n",
        "\n",
        "# # Points where atNetPlayer1 = first_player1Name and pointWonBy = first_player1Name\n",
        "# at_net_player1_and_won_by_player1 = len(point_df_eda[(point_df_eda['atNetPlayer1'] == first_player1Name) & (point_df_eda['pointWonBy'] == first_player1Name)])\n",
        "\n",
        "# # Percentage of points where atNetPlayer1 = first_player1Name and pointWonBy = first_player1Name out of total points where atNetPlayer1 = 1\n",
        "# percentage_at_net_player1_and_won_by_player1 = (at_net_player1_and_won_by_player1 / total_at_net_player1) * 100 if total_at_net_player1 > 0 else 0\n",
        "\n",
        "# # Display the count and percentage of points where atNetPlayer1 = 1 and pointWonBy = first_player1Name\n",
        "# print(f\"\\nTotal Net Points won by {first_player1Name}: {at_net_player1_and_won_by_player1}\")\n",
        "# print(f\"Percentage of Net Points won by {first_player1Name}: {percentage_at_net_player1_and_won_by_player1:.2f}%\")\n"
      ]
    },
    {
      "cell_type": "code",
      "execution_count": null,
      "id": "add4f3ee",
      "metadata": {
        "id": "add4f3ee",
        "outputId": "64ef4f41-1df3-4d4d-8055-74e95e15eaa1",
        "colab": {
          "base_uri": "https://localhost:8080/"
        }
      },
      "outputs": [
        {
          "output_type": "stream",
          "name": "stdout",
          "text": [
            "\n",
            "Total Breakpoints on Return for Emon van Loben Sels: 0\n",
            "Total Breakpoints won on Return by Emon van Loben Sels: 0\n",
            "Percentage of Breakpoints won on Return by Emon van Loben Sels: 0.00%\n"
          ]
        }
      ],
      "source": [
        "# Caitlin Breakpoint Data\n",
        "\n",
        "# points_returned = point_df_eda[point_df_eda[]]\n",
        "\n",
        "# print(f\"\\nBreakpoint Results for {first_player1Name}:\\n\")\n",
        "\n",
        "# # Total points where isBreakPoint = 1\n",
        "# total_breakpoint = len(point_df_eda[point_df_eda['isBreakPoint'] == 1])\n",
        "\n",
        "# # Points where isBreakPoint = 1 and pointWonBy = first_player1Name\n",
        "# breakpoint_and_won_by_player1 = len(point_df_eda[(point_df_eda['isBreakPoint'] == 1) & (point_df_eda['pointWonBy'] == first_player1Name)])\n",
        "\n",
        "# # Percentage of points where isBreakPoint = 1 and pointWonBy = first_player1Name out of total points where isBreakPoint = 1\n",
        "# percentage_breakpoint_and_won_by_player1 = (breakpoint_and_won_by_player1 / total_breakpoint) * 100 if total_breakpoint > 0 else 0\n",
        "\n",
        "# # Display the total count of points where isBreakPoint = 1\n",
        "# print(f\"Total Breakpoints: {total_breakpoint}\")\n",
        "\n",
        "# # Display the count and percentage of points where isBreakPoint = 1 and pointWonBy = first_player1Name\n",
        "# print(f\"Total Breakpoints won by {first_player1Name}: {breakpoint_and_won_by_player1}\")\n",
        "# print(f\"Percentage of Breakpoints won by {first_player1Name}: {percentage_breakpoint_and_won_by_player1:.2f}%\")\n",
        "\n",
        "# # Total points where isBreakPoint = 1 and serverName = first_player1Name\n",
        "# total_breakpoint_serve = len(point_df_eda[(point_df_eda['isBreakPoint'] == 1) & (point_df_eda['serverName'] == first_player1Name)])\n",
        "\n",
        "# # Points where isBreakPoint = 1, serverName = first_player1Name, and pointWonBy = first_player1Name\n",
        "# breakpoint_and_won_by_player1_serve = len(point_df_eda[(point_df_eda['isBreakPoint'] == 1) & (point_df_eda['serverName'] == first_player1Name) & (point_df_eda['pointWonBy'] == first_player1Name)])\n",
        "\n",
        "# # Percentage of points where isBreakPoint = 1, serverName = first_player1Name, and pointWonBy = first_player1Name out of total points where isBreakPoint = 1 and serverName = first_player1Name\n",
        "# percentage_breakpoint_and_won_by_player1_serve = (breakpoint_and_won_by_player1_serve / total_breakpoint_serve) * 100 if total_breakpoint_serve > 0 else 0\n",
        "\n",
        "# # Display the total count of points where isBreakPoint = 1 and serverName = first_player1Name\n",
        "# print(f\"\\nTotal Breakpoints on Serve for {first_player1Name}: {total_breakpoint_serve}\")\n",
        "\n",
        "# # Display the count and percentage of points where isBreakPoint = 1, serverName = first_player1Name, and pointWonBy = first_player1Name\n",
        "# print(f\"Total Breakpoints won on Serve by {first_player1Name}: {breakpoint_and_won_by_player1_serve}\")\n",
        "# print(f\"Percentage of Breakpoints won on Serve by {first_player1Name}: {percentage_breakpoint_and_won_by_player1_serve:.2f}%\")\n",
        "\n",
        "# Total points where isBreakPoint = 1 and returnerName = first_player1Name\n",
        "total_breakpoint_return = len(point_df_eda[(point_df_eda['isBreakPoint'] == 1) & (point_df_eda['returnerName'] == first_player1Name)])\n",
        "\n",
        "# Points where isBreakPoint = 1, returnerName = first_player1Name, and pointWonBy = first_player1Name\n",
        "breakpoint_and_won_by_player1_return = len(point_df_eda[(point_df_eda['isBreakPoint'] == 1) & (point_df_eda['returnerName'] == first_player1Name) & (point_df_eda['pointWonBy'] == first_player1Name)])\n",
        "\n",
        "# Percentage of points where isBreakPoint = 1, returnerName = first_player1Name, and pointWonBy = first_player1Name out of total points where isBreakPoint = 1 and returnerName = first_player1Name\n",
        "percentage_breakpoint_and_won_by_player1_return = (breakpoint_and_won_by_player1_return / total_breakpoint_return) * 100 if total_breakpoint_return > 0 else 0\n",
        "\n",
        "# Display the total count of points where isBreakPoint = 1 and returnerName = first_player1Name\n",
        "print(f\"\\nTotal Breakpoints on Return for {first_player1Name}: {total_breakpoint_return}\")\n",
        "\n",
        "# Display the count and percentage of points where isBreakPoint = 1, returnerName = first_player1Name, and pointWonBy = first_player1Name\n",
        "print(f\"Total Breakpoints won on Return by {first_player1Name}: {breakpoint_and_won_by_player1_return}\")\n",
        "print(f\"Percentage of Breakpoints won on Return by {first_player1Name}: {percentage_breakpoint_and_won_by_player1_return:.2f}%\")\n",
        "\n",
        "# Jimmy Returning Games Won\n",
        "# games won/returning games by Jimmy Hou\n",
        "\n",
        "# points_returned = point_df_eda[point_df_eda[\"returnerName\"] == first_player1Name]\n",
        "\n",
        "# # Return percentage won on first serve\n",
        "# first_serves_won = points_returned[(points_returned['firstServeIn'] == 1) & (points_returned['pointWonBy'] == first_player1Name)]\n",
        "# total_first_serves = points_returned[points_returned['firstServeIn'] == 1]\n",
        "# fs_won_per_player1 = 100 * len(first_serves_won) / len(total_first_serves)\n",
        "# # print(f\"\\n{player1} won {fs_won_per_player1:.2f}% of first serves returned.\")\n",
        "# print(f\"\\nPerecentage of Breakpoinnts won by {first_player1Name} on Return when returning a first serve: {fs_won_per_player1:.2f}%\")\n",
        "\n",
        "# # Return percentage won on second serve\n",
        "# second_serves_won = points_returned[(points_returned['secondServeIn'] == 1) & (points_returned['pointWonBy'] == first_player1Name)]\n",
        "# total_second_serves = points_returned[points_returned['secondServeIn'] == 1]\n",
        "# ss_won_per_player1 = 100 * len(second_serves_won) / len(total_second_serves)\n",
        "# # print(f\"{player1} won {ss_won_per_player1:.2f}% of second serves returned.\"\n",
        "# print(f\"Perecentage of Breakpoinnts won by {first_player1Name} on Return when returning a second serve: {ss_won_per_player1:.2f}%\")\n"
      ]
    },
    {
      "cell_type": "code",
      "execution_count": null,
      "id": "a90e9704-73c6-4403-bb7d-1e4440fbe867",
      "metadata": {
        "id": "a90e9704-73c6-4403-bb7d-1e4440fbe867",
        "outputId": "ea248535-f4ab-42e4-bd82-5b12d4469ebd",
        "colab": {
          "base_uri": "https://localhost:8080/"
        }
      },
      "outputs": [
        {
          "output_type": "stream",
          "name": "stdout",
          "text": [
            "Total 21\n",
            "Serve Placement: \n",
            "Total Serves: 21\n",
            "Serves Won by Emon van Loben Sels: 9\n",
            "Percentage: 42.86%\n",
            "\n"
          ]
        }
      ],
      "source": [
        "# Filter points where serverName is equal to first_player1Name\n",
        "filtered_points = point_df[point_df['serverName'] == first_player1Name]\n",
        "\n",
        "# Group the filtered points by player1ServePlacement and count the occurrences\n",
        "serve_placement_counts = filtered_points.groupby('teamAPlayer1ServePlacement').size()\n",
        "\n",
        "serve_placements_ad = serve_placement_counts.filter(like='Ad').sum()\n",
        "serve_placements_deuce = serve_placement_counts.filter(like='Deuce').sum()\n",
        "\n",
        "# Iterate over filtered_points\n",
        "for index, point in filtered_points.iterrows():\n",
        "    serve_placement = point['teamAPlayer1ServePlacement']\n",
        "\n",
        "    # Check if serve placement is not in serve_placement_counts\n",
        "    if serve_placement not in serve_placement_counts:\n",
        "        print(point)\n",
        "\n",
        "\n",
        "# Initialize dictionaries to store counts and percentages\n",
        "point_won_counts = {}\n",
        "point_won_percentages = {}\n",
        "print(f\"Total {len(filtered_points)}\")\n",
        "\n",
        "# Iterate over serve placements\n",
        "for serve_placement, count in serve_placement_counts.items():\n",
        "    # Filter points with the specific serve placement\n",
        "    serve_placement_points = filtered_points[filtered_points['teamAPlayer1ServePlacement'] == serve_placement]\n",
        "\n",
        "    # Count points won by first_player1Name\n",
        "    point_won_count = serve_placement_points[serve_placement_points['pointWonBy'] == first_player1Name].shape[0]\n",
        "\n",
        "    # Calculate percentage\n",
        "    point_won_percentage = (point_won_count / count) * 100 if count > 0 else 0\n",
        "\n",
        "    # Store counts and percentages\n",
        "    point_won_counts[serve_placement] = point_won_count\n",
        "    point_won_percentages[serve_placement] = point_won_percentage\n",
        "\n",
        "\n",
        "\n",
        "\n",
        "\n",
        "# Filter serve placements for Ad and Deuce [CHANGED: BRIAN NTOES]\n",
        "serve_placements_ad = serve_placement_counts.filter(like='Ad').sum()\n",
        "serve_placements_deuce = serve_placement_counts.filter(like='Deuce').sum()\n",
        "\n",
        "# Print counts and percentages [CHANGED: BRIAN NOTES]\n",
        "for serve_placement, count in serve_placement_counts.items():\n",
        "    print(f\"Serve Placement: {serve_placement}\")\n",
        "    print(f\"Total Serves: {count}\")\n",
        "\n",
        "    if \"Deuce\" in serve_placement: # [CHANGED: BRIAN NOTES]\n",
        "        deuce_serve_format_number = f\"{count/serve_placements_deuce:.2f}\"\n",
        "        deuce_serve_percent = round(float(deuce_serve_format_number) * 100,2)\n",
        "        print(f\"Serve Frequency: {deuce_serve_percent}% ({count}/{serve_placements_deuce}) Deuce Serves\")\n",
        "    if \"Ad\" in serve_placement: # [CHANGED: BRIAN NOTES]\n",
        "        ad_serve_format_number = f\"{count/serve_placements_ad:.2f}\"\n",
        "        ad_serve_percent = round(float(ad_serve_format_number) * 100,2)\n",
        "        print(f\"Serve Frequency: {ad_serve_percent}% ({count}/{serve_placements_ad}) Ad Serves\")\n",
        "\n",
        "    print(f\"Serves Won by {first_player1Name}: {point_won_counts.get(serve_placement, 0)}\")\n",
        "    print(f\"Percentage: {point_won_percentages.get(serve_placement, 0):.2f}%\\n\")\n",
        "\n",
        "\n",
        "# print(\"This is Ad count: \" + str(len(point_df[(point_df['serverName'] == first_player1Name) & (point_df['side'] == 'Ad')])))\n",
        "# print(\"This is Deuce count: \" + str(len(point_df[(point_df['serverName'] == first_player1Name) & (point_df['side'] == 'Deuce')])))"
      ]
    },
    {
      "cell_type": "code",
      "execution_count": null,
      "id": "cecb4031-2e96-4d9a-aef9-b36aacede064",
      "metadata": {
        "id": "cecb4031-2e96-4d9a-aef9-b36aacede064",
        "colab": {
          "base_uri": "https://localhost:8080/"
        },
        "outputId": "26cb93eb-d05e-4f61-8f65-e50828bba202"
      },
      "outputs": [
        {
          "output_type": "stream",
          "name": "stdout",
          "text": [
            "\n",
            "Error Data for Spencer Johnson:\n",
            "\n",
            "Count of Total errors: 12\n",
            "Count of Forehand errors: 6\n",
            "Forehand Error %: 50.00%\n",
            "Count of Backhand errors: 6\n",
            "Backhand Error %: 50.00%\n",
            "\n",
            "Forehand errors:\n",
            "             Count\n",
            "Net             4\n",
            "Long            2\n",
            "Wide Right      0\n",
            "Wide Left       0\n",
            "\n",
            "Value counts of 'errorType' for Forehand errors with different directions:\n",
            " errorType                      Net  Long  Wide Right  Wide Left\n",
            "teamAPlayer1LastShotPlacement                                  \n",
            "Crosscourt                       3     0         NaN        NaN\n",
            "Down the Line                    1     2         NaN        NaN\n",
            "\n",
            "Backhand errors:\n",
            "             Count\n",
            "Net             4\n",
            "Long            1\n",
            "Wide Right      1\n",
            "Wide Left       0\n",
            "\n",
            "Value counts of 'errorType' for Backhand errors with different directions:\n",
            " errorType                      Net  Long  Wide Right  Wide Left\n",
            "teamAPlayer1LastShotPlacement                                  \n",
            "Crosscourt                       3     1           1        NaN\n",
            "Down the Line                    1     0           0        NaN\n",
            "\n",
            "Error Data for Emon van Loben Sels:\n",
            "\n",
            "Count of Total errors: 14\n",
            "Count of Forehand errors: 4\n",
            "Forehand Error %: 28.57%\n",
            "Count of Backhand errors: 10\n",
            "Backhand Error %: 71.43%\n",
            "\n",
            "Forehand errors:\n",
            "             Count\n",
            "Net             1\n",
            "Long            1\n",
            "Wide Right      1\n",
            "Wide Left       1\n",
            "\n",
            "Value counts of 'errorType' for Forehand errors with different directions:\n",
            " errorType                      Net  Long  Wide Right  Wide Left\n",
            "teamAPlayer1LastShotPlacement                                  \n",
            "                                 1     1           1          1\n",
            "\n",
            "Backhand errors:\n",
            "             Count\n",
            "Net             5\n",
            "Long            4\n",
            "Wide Right      0\n",
            "Wide Left       1\n",
            "\n",
            "Value counts of 'errorType' for Backhand errors with different directions:\n",
            " errorType                      Net  Long  Wide Right  Wide Left\n",
            "teamAPlayer1LastShotPlacement                                  \n",
            "                                 5     4         NaN          1\n"
          ]
        }
      ],
      "source": [
        "first_player1Name = shot_data.iloc[0]['teamAPlayer1']\n",
        "print(f\"\\nError Data for {first_player1Name}:\\n\")\n",
        "# Filter the DataFrame based on specified conditions\n",
        "total_errors = point_df[(point_df['lastShotHitBy'] == first_player1Name) &\n",
        "                           (point_df['lastShotResult'] == 'Error')]\n",
        "\n",
        "import numpy as np\n",
        "\n",
        "# Filter rows without NaN values in relevant columns\n",
        "forehand_errors = point_df[(point_df['lastShotHitBy'] == first_player1Name) &\n",
        "                           (point_df['lastShotResult'] == 'Error') &\n",
        "                           (point_df['lastShotFhBh'] == 'Forehand') &\n",
        "                           (~point_df['errorType'].isnull())]  # Ensure 'errorType' column doesn't have NaN\n",
        "\n",
        "backhand_errors = point_df[(point_df['lastShotHitBy'] == first_player1Name) &\n",
        "                           (point_df['lastShotResult'] == 'Error') &\n",
        "                           (point_df['lastShotFhBh'] == 'Backhand') &\n",
        "                           (~point_df['errorType'].isnull())]  # Ensure 'errorType' column doesn't have NaN\n",
        "\n",
        "# Count the occurrences of 'Forehand' and 'Backhand' separately\n",
        "forehand_counts = forehand_errors.shape[0]  # Count rows\n",
        "backhand_counts = backhand_errors.shape[0]  # Count rows\n",
        "\n",
        "# Print the total error counts for verification\n",
        "total_error_counts = forehand_counts + backhand_counts\n",
        "\n",
        "\n",
        "\n",
        "# Desired output order\n",
        "desired_order = ['Net', 'Long', 'Wide Right', 'Wide Left']\n",
        "\n",
        "# # Get value counts of 'errorType' for Forehand errors [CHANGED: BRIAN]\n",
        "# forehand_error_types = forehand_errors['errorType'].value_counts(dropna=False).loc[desired_order]  # Include NaN values in count\n",
        "# forehand_error_types_df = pd.DataFrame(forehand_error_types) # change into dataframe to erase object line\n",
        "# Get value counts of 'errorType' for Backhand errors\n",
        "\n",
        "\n",
        "\n",
        "######################### CHANGED SECTION ##############################################\n",
        "# [CHANGED: BRIAN]\n",
        "\n",
        "forehand_error_types = forehand_errors['errorType'].value_counts(dropna=False)\n",
        "\n",
        "# Create a Series with desired index containing zeros\n",
        "zeros_series = pd.Series(0, index=desired_order)\n",
        "\n",
        "# Combine the original Series with the zeros Series\n",
        "forehand_error_types_combined = forehand_error_types.combine(zeros_series, max, fill_value=0)\n",
        "\n",
        "# Reindex the Series to follow the desired order\n",
        "forehand_error_types_ordered = forehand_error_types_combined.reindex(desired_order, fill_value=0)\n",
        "\n",
        "# Create the DataFrame\n",
        "forehand_error_types_df = pd.DataFrame(forehand_error_types_ordered, columns=['Count'])\n",
        "\n",
        "# Get value counts of 'errorType' for Backhand errors [CHANGED: BRIAN]\n",
        "# backhand_error_types = backhand_errors['errorType'].value_counts(dropna=False).loc[desired_order]  # Include NaN values in count\n",
        "# backhand_error_types_df = pd.DataFrame(backhand_error_types) # change into dataframe to erase object line\n",
        "\n",
        "# Get value counts of 'errorType' for Backhand errors\n",
        "backhand_error_types = backhand_errors['errorType'].value_counts(dropna=False)\n",
        "\n",
        "# Combine the original Series with the zeros Series\n",
        "backhand_error_types_combined = backhand_error_types.combine(zeros_series, max, fill_value=0)\n",
        "\n",
        "# Reindex the Series to follow the desired order\n",
        "backhand_error_types_ordered = backhand_error_types_combined.reindex(desired_order, fill_value=0)\n",
        "\n",
        "# Create the DataFrame\n",
        "backhand_error_types_df = pd.DataFrame(backhand_error_types_ordered, columns=['Count'])\n",
        "\n",
        "\n",
        "\n",
        "######################### CHANGED SECTION ##############################################\n",
        "\n",
        "\n",
        "# Print the counts and error types\n",
        "print(\"Count of Total errors:\", total_error_counts)\n",
        "print(\"Count of Forehand errors:\", forehand_counts)\n",
        "print(f\"Forehand Error %: {(forehand_counts/total_error_counts)*100:.2f}%\")\n",
        "print(\"Count of Backhand errors:\", backhand_counts)\n",
        "print(f\"Backhand Error %: {(backhand_counts/total_error_counts)*100:.2f}%\")\n",
        "print(\"\\nForehand errors:\\n\", forehand_error_types_df)\n",
        "\n",
        "\n",
        "# # Group by both 'lastShotDirection' and 'errorType', and then count occurrences\n",
        "forehand_error_counts = forehand_errors.groupby(['teamAPlayer1LastShotPlacement', 'errorType']).size().unstack(fill_value=0)  # Fill NaN with 0\n",
        "forehand_error_counts_ordered = forehand_error_counts.reindex(columns = desired_order) # [CHANGED: BRIAN]\n",
        "\n",
        "print(\"\\nValue counts of 'errorType' for Forehand errors with different directions:\\n\", forehand_error_counts_ordered)\n",
        "\n",
        "\n",
        "print(\"\\nBackhand errors:\\n\", backhand_error_types_df)\n",
        "\n",
        "\n",
        "# Group by both 'lastShotDirection' and 'errorType', and then count occurrences\n",
        "backhand_error_counts = backhand_errors.groupby(['teamAPlayer1LastShotPlacement', 'errorType']).size().unstack(fill_value=0) # Fill NaN with 0\n",
        "backhand_error_counts_ordered = backhand_error_counts.reindex(columns = desired_order) # [CHANGED: BRIAN]\n",
        "\n",
        "print(\"\\nValue counts of 'errorType' for Backhand errors with different directions:\\n\", backhand_error_counts_ordered)\n",
        "\n",
        "\n",
        "\n",
        "\n",
        "# ----- PLAYER 2 -----\n",
        "first_player1Name = shot_data.iloc[0]['teamAPlayer2']\n",
        "\n",
        "print(f\"\\nError Data for {first_player1Name}:\\n\")\n",
        "# Filter the DataFrame based on specified conditions\n",
        "total_errors = point_df[(point_df['lastShotHitBy'] == first_player1Name) &\n",
        "                           (point_df['lastShotResult'] == 'Error')]\n",
        "\n",
        "import numpy as np\n",
        "\n",
        "# Filter rows without NaN values in relevant columns\n",
        "forehand_errors = point_df[(point_df['lastShotHitBy'] == first_player1Name) &\n",
        "                           (point_df['lastShotResult'] == 'Error') &\n",
        "                           (point_df['lastShotFhBh'] == 'Forehand') &\n",
        "                           (~point_df['errorType'].isnull())]  # Ensure 'errorType' column doesn't have NaN\n",
        "\n",
        "backhand_errors = point_df[(point_df['lastShotHitBy'] == first_player1Name) &\n",
        "                           (point_df['lastShotResult'] == 'Error') &\n",
        "                           (point_df['lastShotFhBh'] == 'Backhand') &\n",
        "                           (~point_df['errorType'].isnull())]  # Ensure 'errorType' column doesn't have NaN\n",
        "\n",
        "# Count the occurrences of 'Forehand' and 'Backhand' separately\n",
        "forehand_counts = forehand_errors.shape[0]  # Count rows\n",
        "backhand_counts = backhand_errors.shape[0]  # Count rows\n",
        "\n",
        "# Print the total error counts for verification\n",
        "total_error_counts = forehand_counts + backhand_counts\n",
        "\n",
        "\n",
        "\n",
        "# Desired output order\n",
        "desired_order = ['Net', 'Long', 'Wide Right', 'Wide Left']\n",
        "\n",
        "# # Get value counts of 'errorType' for Forehand errors [CHANGED: BRIAN]\n",
        "# forehand_error_types = forehand_errors['errorType'].value_counts(dropna=False).loc[desired_order]  # Include NaN values in count\n",
        "# forehand_error_types_df = pd.DataFrame(forehand_error_types) # change into dataframe to erase object line\n",
        "# Get value counts of 'errorType' for Backhand errors\n",
        "\n",
        "\n",
        "\n",
        "######################### CHANGED SECTION ##############################################\n",
        "# [CHANGED: BRIAN]\n",
        "\n",
        "forehand_error_types = forehand_errors['errorType'].value_counts(dropna=False)\n",
        "\n",
        "# Create a Series with desired index containing zeros\n",
        "zeros_series = pd.Series(0, index=desired_order)\n",
        "\n",
        "# Combine the original Series with the zeros Series\n",
        "forehand_error_types_combined = forehand_error_types.combine(zeros_series, max, fill_value=0)\n",
        "\n",
        "# Reindex the Series to follow the desired order\n",
        "forehand_error_types_ordered = forehand_error_types_combined.reindex(desired_order, fill_value=0)\n",
        "\n",
        "# Create the DataFrame\n",
        "forehand_error_types_df = pd.DataFrame(forehand_error_types_ordered, columns=['Count'])\n",
        "\n",
        "# Get value counts of 'errorType' for Backhand errors [CHANGED: BRIAN]\n",
        "# backhand_error_types = backhand_errors['errorType'].value_counts(dropna=False).loc[desired_order]  # Include NaN values in count\n",
        "# backhand_error_types_df = pd.DataFrame(backhand_error_types) # change into dataframe to erase object line\n",
        "\n",
        "# Get value counts of 'errorType' for Backhand errors\n",
        "backhand_error_types = backhand_errors['errorType'].value_counts(dropna=False)\n",
        "\n",
        "# Combine the original Series with the zeros Series\n",
        "backhand_error_types_combined = backhand_error_types.combine(zeros_series, max, fill_value=0)\n",
        "\n",
        "# Reindex the Series to follow the desired order\n",
        "backhand_error_types_ordered = backhand_error_types_combined.reindex(desired_order, fill_value=0)\n",
        "\n",
        "# Create the DataFrame\n",
        "backhand_error_types_df = pd.DataFrame(backhand_error_types_ordered, columns=['Count'])\n",
        "\n",
        "\n",
        "\n",
        "######################### CHANGED SECTION ##############################################\n",
        "\n",
        "\n",
        "# Print the counts and error types\n",
        "print(\"Count of Total errors:\", total_error_counts)\n",
        "print(\"Count of Forehand errors:\", forehand_counts)\n",
        "print(f\"Forehand Error %: {(forehand_counts/total_error_counts)*100:.2f}%\")\n",
        "print(\"Count of Backhand errors:\", backhand_counts)\n",
        "print(f\"Backhand Error %: {(backhand_counts/total_error_counts)*100:.2f}%\")\n",
        "print(\"\\nForehand errors:\\n\", forehand_error_types_df)\n",
        "\n",
        "\n",
        "# # Group by both 'lastShotDirection' and 'errorType', and then count occurrences\n",
        "forehand_error_counts = forehand_errors.groupby(['teamAPlayer1LastShotPlacement', 'errorType']).size().unstack(fill_value=0)  # Fill NaN with 0\n",
        "forehand_error_counts_ordered = forehand_error_counts.reindex(columns = desired_order) # [CHANGED: BRIAN]\n",
        "\n",
        "print(\"\\nValue counts of 'errorType' for Forehand errors with different directions:\\n\", forehand_error_counts_ordered)\n",
        "\n",
        "\n",
        "print(\"\\nBackhand errors:\\n\", backhand_error_types_df)\n",
        "\n",
        "\n",
        "# Group by both 'lastShotDirection' and 'errorType', and then count occurrences\n",
        "backhand_error_counts = backhand_errors.groupby(['teamAPlayer1LastShotPlacement', 'errorType']).size().unstack(fill_value=0) # Fill NaN with 0\n",
        "backhand_error_counts_ordered = backhand_error_counts.reindex(columns = desired_order) # [CHANGED: BRIAN]\n",
        "\n",
        "print(\"\\nValue counts of 'errorType' for Backhand errors with different directions:\\n\", backhand_error_counts_ordered)"
      ]
    },
    {
      "cell_type": "code",
      "source": [
        "forehand_errors.columns"
      ],
      "metadata": {
        "colab": {
          "base_uri": "https://localhost:8080/"
        },
        "id": "_LmIXiP08NSD",
        "outputId": "2a9648c6-9211-4a40-8932-41a80e878e84"
      },
      "id": "_LmIXiP08NSD",
      "execution_count": null,
      "outputs": [
        {
          "output_type": "execute_result",
          "data": {
            "text/plain": [
              "Index(['Name', 'pointNumber', 'setNum', 'gameNumber', 'teamAPlayer1',\n",
              "       'teamAPlayer2', 'teamBPlayer1', 'teamBPlayer2', 'pointScore',\n",
              "       'gameScore', 'setScore', 'tiebreakScore', 'side', 'serverName',\n",
              "       'returnerName', 'Position', 'pointEndPosition', 'Duration',\n",
              "       'pointWonBy', 'rallyCount', 'rallyCountFreq', 'firstServeIn',\n",
              "       'secondServeIn', 'serveResult', 'serveInPlacement', 'firstServeZone',\n",
              "       'secondServeZone', 'isAce', 'returnDirection', 'returnFhBh',\n",
              "       'errorType', 'returnError', 'lastShotDirection', 'lastShotFhBh',\n",
              "       'lastShotHitBy', 'lastShotResult', 'isBreakPoint', 'bothAtNetTeamA',\n",
              "       'bothAtNetTeamB', 'player1SetScore', 'player2SetScore',\n",
              "       'player1GameScore', 'player2GameScore', 'player1PointScore',\n",
              "       'player2PointScore', 'player1TiebreakScore', 'player2TiebreakScore',\n",
              "       'teamAPlayer1ServeResult', 'teamAPlayer1ServePlacement',\n",
              "       'teamAPlayer1ReturnPlacement', 'teamAPlayer1ReturnFhBh',\n",
              "       'teamAPlayer1LastShotPlacement', 'teamAPlayer1LastShotFhBh',\n",
              "       'teamAPlayer1LastShotResult', 'teamAPlayer2ServeResult',\n",
              "       'teamAPlayer2ServePlacement', 'teamAPlayer2ReturnPlacement',\n",
              "       'teamAPlayer2ReturnFhBh', 'teamAPlayer2LastShotPlacement',\n",
              "       'teamAPlayer2LastShotFhBh', 'teamAPlayer2LastShotResult', 'clientTeam',\n",
              "       'opponentTeam', 'teamBPlayer1ServeResult', 'teamBPlayer2ServeResult',\n",
              "       'teamBPlayer1ServePlacement', 'teamBPlayer2ServePlacement',\n",
              "       'teamBPlayer1ReturnPlacement', 'teamBPlayer2ReturnPlacement',\n",
              "       'teamBPlayer1ReturnFhBh', 'teamBPlayer2ReturnFhBh',\n",
              "       'teamBPlayer1LastShotPlacement', 'teamBPlayer2LastShotPlacement',\n",
              "       'teamAPlayer2LastShotFhBh', 'teamBPlayer1LastShotFhBh',\n",
              "       'teamBPlayer2LastShotFhBh', 'teamBPlayer1LastShotResult',\n",
              "       'teamBPlayer2LastShotResult', 'isPoach', 'serveFormation',\n",
              "       'returnFormation'],\n",
              "      dtype='object')"
            ]
          },
          "metadata": {},
          "execution_count": 118
        }
      ]
    },
    {
      "cell_type": "markdown",
      "id": "7b8c4147",
      "metadata": {
        "id": "7b8c4147"
      },
      "source": [
        "# CONDENSED REPORT (NEEDS UPDATE)"
      ]
    },
    {
      "cell_type": "code",
      "execution_count": null,
      "id": "f3de237f-a8d9-4775-b303-1c440acad5d1",
      "metadata": {
        "id": "f3de237f-a8d9-4775-b303-1c440acad5d1"
      },
      "outputs": [],
      "source": [
        "# pip install reportlab"
      ]
    },
    {
      "cell_type": "code",
      "execution_count": null,
      "id": "1af8fbf7-1b28-4362-bd52-068ab1b50732",
      "metadata": {
        "id": "1af8fbf7-1b28-4362-bd52-068ab1b50732"
      },
      "outputs": [],
      "source": [
        "# from reportlab.lib import colors\n",
        "# from reportlab.lib.pagesizes import letter\n",
        "# from reportlab.platypus import SimpleDocTemplate, Table, TableStyle\n",
        "\n",
        "# # Your raw output data\n",
        "# raw_data = [\n",
        "#     {\"Serve Placement\": \"Ad: Body\", \"Total Serves\": 3, \"Serves Won by Tian Fang Ran\": 3, \"Percentage\": \"100.00%\"},\n",
        "#     {\"Serve Placement\": \"Ad: T\", \"Total Serves\": 11, \"Serves Won by Tian Fang Ran\": 8, \"Percentage\": \"72.73%\"},\n",
        "#     {\"Serve Placement\": \"Ad: Wide\", \"Total Serves\": 19, \"Serves Won by Tian Fang Ran\": 10, \"Percentage\": \"52.63%\"},\n",
        "#     {\"Serve Placement\": \"Deuce: Body\", \"Total Serves\": 5, \"Serves Won by Tian Fang Ran\": 2, \"Percentage\": \"40.00%\"},\n",
        "#     {\"Serve Placement\": \"Deuce: T\", \"Total Serves\": 19, \"Serves Won by Tian Fang Ran\": 10, \"Percentage\": \"52.63%\"},\n",
        "#     {\"Serve Placement\": \"Deuce: Wide\", \"Total Serves\": 14, \"Serves Won by Tian Fang Ran\": 7, \"Percentage\": \"50.00%\"}\n",
        "# ]\n",
        "\n",
        "# # Convert raw data to list of lists for table\n",
        "# table_data = [[\"Serve Placement\", \"Total Serves\", \"Serves Won by Tian Fang Ran\", \"Percentage\"]]\n",
        "# for row in raw_data:\n",
        "#     table_data.append([row[\"Serve Placement\"], row[\"Total Serves\"], row[\"Serves Won by Tian Fang Ran\"], row[\"Percentage\"]])\n",
        "\n",
        "# # Create PDF\n",
        "# pdf_filename = \"tennis_stats.pdf\"\n",
        "# doc = SimpleDocTemplate(pdf_filename, pagesize=letter)\n",
        "# table = Table(table_data)\n",
        "\n",
        "# # Add style to table\n",
        "# style = TableStyle([('BACKGROUND', (0, 0), (-1, 0), colors.gray),\n",
        "#                     ('TEXTCOLOR', (0, 0), (-1, 0), colors.whitesmoke),\n",
        "#                     ('ALIGN', (0, 0), (-1, -1), 'CENTER'),\n",
        "#                     ('FONTNAME', (0, 0), (-1, 0), 'Helvetica-Bold'),\n",
        "#                     ('BOTTOMPADDING', (0, 0), (-1, 0), 12),\n",
        "#                     ('BACKGROUND', (0, 1), (-1, -1), colors.beige),\n",
        "#                     ('GRID', (0, 0), (-1, -1), 1, colors.black)])\n",
        "# table.setStyle(style)\n",
        "\n",
        "# # Add table to PDF\n",
        "# doc.build([table])\n"
      ]
    }
  ],
  "metadata": {
    "kernelspec": {
      "display_name": "Python 3 (ipykernel)",
      "language": "python",
      "name": "python3"
    },
    "language_info": {
      "codemirror_mode": {
        "name": "ipython",
        "version": 3
      },
      "file_extension": ".py",
      "mimetype": "text/x-python",
      "name": "python",
      "nbconvert_exporter": "python",
      "pygments_lexer": "ipython3",
      "version": "3.11.4"
    },
    "colab": {
      "provenance": []
    }
  },
  "nbformat": 4,
  "nbformat_minor": 5
}