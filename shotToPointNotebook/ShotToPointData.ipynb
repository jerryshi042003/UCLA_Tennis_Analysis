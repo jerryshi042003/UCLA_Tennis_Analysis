{
 "cells": [
  {
   "cell_type": "markdown",
   "id": "02d3fd87-62b1-4c6c-a986-8e302a9b9189",
   "metadata": {},
   "source": [
    "#### What Require Inputs in this Notebook\n",
    "1. [Fill in File Input](#Load-in-Data)\n",
    "2. [Right or Left Hand](#Right-or-Left-Hand)\n",
    "3. [Output ShotCSV](#Output-ShotCSV)\n",
    "4. [Change to atNet (by Player) from tagger later](#At-Net)\n",
    "5. [EDA and get Stats Here](#EDA)\n",
    "6. [Output PointCSV for Visuals](#PRINT-POINTCSV-VISUALS)\n",
    "7. [Output PointCSV for Upload](#Print-POINTCSV-UPLOAD)"
   ]
  },
  {
   "cell_type": "code",
   "execution_count": null,
   "id": "087f8ef2-fde3-4d93-939d-e83220579680",
   "metadata": {},
   "outputs": [],
   "source": []
  },
  {
   "cell_type": "markdown",
   "id": "a070c44e-ea6f-4b06-b098-5246cffd01a1",
   "metadata": {},
   "source": [
    "# Table of Contents\n",
    "1. [Load in Data](#Load-in-Data)\n",
    "- Error Checking\n",
    "- Add Columns\n",
    "- [Output ShotCSV](#Output-ShotCSV)\n",
    "2. [Create Point DF](#Create-Point-DF)\n",
    "- Add Columns\n",
    "- [Output PointCSV for Visuals](#PRINT-POINTCSV-VISUALS)\n",
    "- [Output PointCSV for Upload](#Print-POINTCSV-UPLOAD)    \n",
    "        - cut out points with no timestamp position    \n",
    "        - atNetPlayer1 has values of the player name for display purposes instead of boolean values\n",
    "\n",
    "# [Click for Summary Stats and EDA HERE](#EDA)"
   ]
  },
  {
   "cell_type": "code",
   "execution_count": null,
   "id": "a8dfff2c-8cf0-47ac-8df3-8a4f7ba7fb97",
   "metadata": {},
   "outputs": [],
   "source": []
  },
  {
   "cell_type": "markdown",
   "id": "54bd1212-6d48-4857-a421-727f9cb7938d",
   "metadata": {},
   "source": [
    "### List of Changes\n",
    "\n",
    "For Shot CSV\n",
    "- Adds Point Number (Comment out if already there)\n",
    "- Changes ShotType to ShotDirection and ShotFhBh (old tagger)\n",
    "- Forward Fills these columns'gameScore','setScore', 'tiebreakScore', 'serverName', 'player1Name', 'player2Name'\n",
    "\n",
    "Columns Added:\n",
    "  - 'isDoubleFault',\n",
    "  - 'pointWonBy',\n",
    "  - 'lastShotError',\n",
    "  - 'serveResult',\n",
    "  - 'isInsideIn',\n",
    "  - 'returnerName',\n",
    "  - 'serveInPlacement',\n",
    "  - 'player1Hand',\n",
    "  - 'player2Hand',\n",
    "  - 'shotHitBy',\n",
    "  - 'isInsideOut'\n",
    "  \n",
    "\n",
    "For Point (Visuals)\n",
    "- point related info, and player1 focused stats\n",
    "\n",
    "\n",
    "For Point (Upload)\n",
    "- removes columns with no start time\n",
    "- changes \"1\" value of atNetPlayer1 to player1Name"
   ]
  },
  {
   "cell_type": "code",
   "execution_count": null,
   "id": "df1a0628-fedf-4336-a549-30a1e34e6f69",
   "metadata": {},
   "outputs": [],
   "source": []
  },
  {
   "cell_type": "markdown",
   "id": "ceb6f561-161a-4737-b5fb-1a169a3fe4d7",
   "metadata": {},
   "source": [
    "### Warning: Changes to be made soon\n",
    "- atNetPlayer1, atNetPlayer2 are being aggregated by if hitting a volley. Will be replaced by tagger values for those\n",
    "- pointWonBy is being calculated, replaced by tagger soon\n",
    "- player1Hand and player2Hand are being manually inputted\n",
    "\n",
    "### Future Changes to Notebook\n",
    "- More stats on approach shots\n",
    "- Pressure Point stats, like what did players did on 30-30 points onwards\n",
    "- Inside Out/Inside In Stats once we get matches with accurate side info\n",
    "- handling of rows where there is error on video side and the point is cut short\n",
    "\n",
    "Notes:\n",
    "- Keep empty values None Type, they will be converted to empty string \"\" right before outputting to Point CSV Only for Upload\n",
    "- Having 1 does not mean other value is boolean 0, it is None"
   ]
  },
  {
   "cell_type": "markdown",
   "id": "a7732809-2f64-4073-92cd-53c6a89ae448",
   "metadata": {},
   "source": [
    "# Notebook Start"
   ]
  },
  {
   "cell_type": "markdown",
   "id": "f8d8fd7b-43ba-4fd2-83ec-3679c6de6174",
   "metadata": {},
   "source": [
    "### Load in Data"
   ]
  },
  {
   "cell_type": "code",
   "execution_count": null,
   "id": "d5c13104-5252-4b42-8d10-80ce021f8035",
   "metadata": {},
   "outputs": [],
   "source": [
    "import pandas as pd\n",
    "import numpy as np"
   ]
  },
  {
   "cell_type": "code",
   "execution_count": null,
   "id": "2bdb70cd-4596-4691-855c-0477381445dd",
   "metadata": {},
   "outputs": [],
   "source": [
    "# Put your file name here\n",
    "\n",
    "your_file_name = \"yourFileNameHere\"\n",
    "shot_data = pd.read_csv(your_file_name)\n",
    "\n"
   ]
  },
  {
   "cell_type": "code",
   "execution_count": null,
   "id": "9864aae5-8bbb-4d1c-a5f0-78fac5c6b5f2",
   "metadata": {},
   "outputs": [],
   "source": [
    "# Check existing columns\n",
    "\n",
    "shot_data.columns"
   ]
  },
  {
   "cell_type": "markdown",
   "id": "0bdf5560-c1db-4e3f-a2c7-bd5b44502bac",
   "metadata": {},
   "source": [
    "<!-- ### Error Check: \n",
    "#### If data includes firstServeZone but no \"1\" for firstServeIn, same for secondServeZone/secondServeIn -->"
   ]
  },
  {
   "cell_type": "markdown",
   "id": "17ef2b0e-f69f-4bd1-a652-5c3a4916b0f4",
   "metadata": {},
   "source": [
    "### Error Check: \n",
    "#### If returnData exists, separate values of \"Forehand/Backhand Crosscourt/Down the Line\" into shotFhBh and shotDirection"
   ]
  },
  {
   "cell_type": "code",
   "execution_count": null,
   "id": "47f0fb1e-1bf6-4a74-8d79-6804b6e5721e",
   "metadata": {},
   "outputs": [],
   "source": [
    "# Check if 'returnData' column exists\n",
    "if 'returnData' in shot_data.columns:\n",
    "    # Replace NaN values in returnData column with an empty string\n",
    "    shot_data['returnData'].fillna('', inplace=True)\n",
    "\n",
    "    # Check if \"backhand\" or \"forehand\" is in returnData and update shotFhBh accordingly\n",
    "    shot_data.loc[shot_data['returnData'].str.contains('backhand', case=False), 'shotFhBh'] = 'Backhand'\n",
    "    shot_data.loc[shot_data['returnData'].str.contains('forehand', case=False), 'shotFhBh'] = 'Forehand'\n",
    "\n",
    "    # Check if \"Crosscourt\" or \"Down the Line\" is in returnData and update shotDirection accordingly\n",
    "    shot_data.loc[shot_data['returnData'].str.contains('Crosscourt', case=False), 'shotDirection'] = 'Crosscourt'\n",
    "    shot_data.loc[shot_data['returnData'].str.contains('Down the Line', case=False), 'shotDirection'] = 'Down the Line'\n",
    "\n",
    "    # Display the modified shot_data\n",
    "    print(shot_data[['returnData', 'shotDirection', 'shotFhBh']].head(10))\n",
    "else:\n",
    "    print(\"Column 'returnData' does not exist.\")\n"
   ]
  },
  {
   "cell_type": "markdown",
   "id": "f3aabeea-30c8-456f-94f2-bfe4bb5909c8",
   "metadata": {},
   "source": [
    "### Error Check: \n",
    "#### Change ShotType to shotFhBh if old tagger"
   ]
  },
  {
   "cell_type": "code",
   "execution_count": null,
   "id": "06a0b5e9-080c-4390-a093-bd3314d2db49",
   "metadata": {},
   "outputs": [],
   "source": [
    "if 'shotType' in shot_data.columns:\n",
    "    # Rename the column\n",
    "    shot_data.rename(columns={'shotType': 'shotFhBh'}, inplace=True)\n",
    "    print(\"Column renamed successfully.\")\n",
    "else:\n",
    "    print(\"Check Passed: Column 'shotType' does not exist.\")"
   ]
  },
  {
   "cell_type": "markdown",
   "id": "a0f3181a-b9eb-4922-b9a4-475f876a529e",
   "metadata": {},
   "source": [
    "### Error Check: \n",
    "#### From Old Tagger, checks for shotFhBh doesn't include direction and fh/bh"
   ]
  },
  {
   "cell_type": "code",
   "execution_count": null,
   "id": "d6d40c54-7290-436e-86a1-5d2c16e3eeff",
   "metadata": {},
   "outputs": [],
   "source": [
    "shot_data.loc[shot_data['shotFhBh'] == 'Forehand Crosscourt', 'shotDirection'] = 'Crosscourt'\n",
    "shot_data.loc[shot_data['shotFhBh'] == 'Forehand Crosscourt', 'shotFhBh'] = 'Forehand'\n",
    "\n",
    "shot_data.loc[shot_data['shotFhBh'] == 'Backhand Crosscourt', 'shotDirection'] = 'Crosscourt'\n",
    "shot_data.loc[shot_data['shotFhBh'] == 'Backhand Crosscourt', 'shotFhBh'] = 'Backhand'\n",
    "\n",
    "shot_data.loc[shot_data['shotFhBh'] == 'Forehand Down the Line', 'shotDirection'] = 'Down the Line'\n",
    "shot_data.loc[shot_data['shotFhBh'] == 'Forehand Down the Line', 'shotFhBh'] = 'Forehand'\n",
    "\n",
    "shot_data.loc[shot_data['shotFhBh'] == 'Backhand Down the Line', 'shotDirection'] = 'Down the Line'\n",
    "shot_data.loc[shot_data['shotFhBh'] == 'Backhand Down the Line', 'shotFhBh'] = 'Backhand'\n",
    "\n",
    "print(shot_data[['shotDirection', 'shotFhBh']].head(10))"
   ]
  },
  {
   "cell_type": "markdown",
   "id": "09cac2b0-cff4-4f94-a880-375f3fe3cb29",
   "metadata": {},
   "source": [
    "### Error Check: \n",
    "#### Checks Player1Name and Player2Name have Values"
   ]
  },
  {
   "cell_type": "code",
   "execution_count": null,
   "id": "0396fcbc-16a4-47fc-a751-ff80e2752516",
   "metadata": {},
   "outputs": [],
   "source": [
    "fillInPlayer1Name = \"Choose_Player1Name_Here\"\n",
    "fillInPlayer2Name = \"Choose_Player2Name_Here\"\n",
    "\n",
    "if shot_data.at[0, 'player1Name'] == None:\n",
    "    print(\"player1Name was blank. Filling with 'fillInplayer1Name'\")\n",
    "    shot_data.at[0, 'player1Name'] = fillInPlayer1Name\n",
    "else:\n",
    "    print(\"Check Passed: player1Name is not blank. Current value:\", shot_data.at[0, 'player1Name'])\n",
    "\n",
    "# Check if player2Name is blank, if so, fill it with 'fillInplayer2Name'\n",
    "if shot_data.at[0, 'player2Name'] == None:\n",
    "    print(\"player2Name was blank. Filling with 'fillInplayer2Name'\")\n",
    "    shot_data.at[0, 'player2Name'] = fillInPlayer2Name\n",
    "else:\n",
    "    print(\"Check Passed: player2Name is not blank. Current value:\", shot_data.at[0, 'player2Name'])\n"
   ]
  },
  {
   "cell_type": "markdown",
   "id": "83cb5916-17e3-4620-b894-2cdfa9bf0747",
   "metadata": {},
   "source": [
    "### Error Check: \n",
    "#### Fills in PointNumber if not there"
   ]
  },
  {
   "cell_type": "code",
   "execution_count": null,
   "id": "175c644d-ffdc-4c76-8429-9115d001c13c",
   "metadata": {},
   "outputs": [],
   "source": [
    " # Check if both conditions passed\n",
    "if 'pointNumber' in shot_data.columns and not shot_data['pointNumber'].isnull().any() and shot_data['pointNumber'].is_monotonic_increasing:\n",
    "    print(\"Check Passed: Point Numbers already exist\")\n",
    "\n",
    "\n",
    "# Check if pointNumber exists for every row and is not empty\n",
    "if 'pointNumber' not in shot_data.columns or shot_data['pointNumber'].isnull().any():\n",
    "    # Execute the script to calculate pointNumber\n",
    "    point_starts = (shot_data['isPointStart'] == 1)\n",
    "    shot_data['pointNumber'] = point_starts.cumsum()\n",
    "    \n",
    "    print(\"Data had missing point numbers. They were filled in automatically\")\n",
    "    \n",
    "# Check if pointNumber is in increasing order\n",
    "if not shot_data['pointNumber'].is_monotonic_increasing:\n",
    "    # Print the condition failure if the 'pointNumber' column is not in increasing order\n",
    "    print(\"Data had point numbers in the wrong order. They were filled in automatically\")\n",
    "    point_starts = (shot_data['isPointStart'] == 1)\n",
    "    shot_data['pointNumber'] = point_starts.cumsum()\n",
    "   "
   ]
  },
  {
   "cell_type": "code",
   "execution_count": null,
   "id": "38151b56-3c39-479a-834d-ebf2b5dc45b7",
   "metadata": {},
   "outputs": [],
   "source": [
    "missing_pointNumber_rows = shot_data[shot_data['pointNumber'].isnull()]\n",
    "\n",
    "# Check if there are missing rows\n",
    "if len(missing_pointNumber_rows) == 0:\n",
    "    print(\"Check Passed: All rows have pointNumber\")\n",
    "else:\n",
    "    print(f\"Count of rows missing 'pointNumber': {len(missing_pointNumber_rows)}\")"
   ]
  },
  {
   "cell_type": "markdown",
   "id": "6d443221-db14-4598-bf2a-664dd32489f3",
   "metadata": {},
   "source": [
    "### Error Check: \n",
    "#### Check for NA's\n",
    "\n",
    "- all 0, except missing pointScore should match amount of tiebreak shots\n",
    "- side can have missing, for old tagger and not tagging side of each shot\n",
    "\n",
    "### Fixing:\n",
    "- Open CSV in Google Sheets (Excel will change to date format), output game, set, point Score of missing values. Then find in google sheets, adjust, redownload, and re-upload into notebook"
   ]
  },
  {
   "cell_type": "code",
   "execution_count": null,
   "id": "4ad4d3f7-6338-4e0b-a01a-683d3db80aee",
   "metadata": {},
   "outputs": [],
   "source": [
    "# Count empty strings in each column\n",
    "empty_string_counts = (shot_data == \"\").sum()\n",
    "\n",
    "# Filter out columns with zero empty strings\n",
    "non_zero_counts = empty_string_counts[empty_string_counts > 0]\n",
    "\n",
    "# Count NaN values in 'pointScore' column when 'gameScore' is '6-6'\n",
    "na_tiebreak_count = shot_data.loc[shot_data['gameScore'] == '6-6', 'pointScore'].isna().sum()\n",
    "\n",
    "side_na_count = shot_data.loc[shot_data['isPointStart'] == 1, 'side'].isna().sum()\n",
    "print(\"\\nCount of NaN values for 'side' on Point Start:\", side_na_count)\n",
    "\n",
    "# Display the count\n",
    "print(\"\\nCount of Nan when gameScore is '6-6' (# tiebreak shots):\", na_tiebreak_count)\n",
    "\n",
    "\n",
    "# Count NaN or empty values in specified columns\n",
    "na_counts = shot_data[[ 'pointScore', 'shotInRally', 'gameScore', 'setScore', 'side', 'serverName']].isna().sum()\n",
    "\n",
    "# Display the counts\n",
    "print(f\"\\nCout of NA's in these columns\\n{na_counts}\")\n",
    "\n",
    "# Display the counts\n",
    "print(\"Count of empty strings in each column that includes at least one:\")\n",
    "print(non_zero_counts)\n",
    "\n"
   ]
  },
  {
   "cell_type": "markdown",
   "id": "308083c2-bed5-4ca9-a778-b96432ccdf2c",
   "metadata": {},
   "source": [
    "### Error Check: \n",
    "####  rows where side is empty\n",
    "- If side missing, focus on rows where (shotInRally == 1) and returns (shotInRally == 2 ), anything else can leave NA"
   ]
  },
  {
   "cell_type": "code",
   "execution_count": null,
   "id": "1f1e630e-9578-4a13-a712-4bb4f348c001",
   "metadata": {},
   "outputs": [],
   "source": [
    "print(shot_data[shot_data[\"side\"].isnull()][['pointScore', 'gameScore', 'setScore','side', 'shotInRally']])"
   ]
  },
  {
   "cell_type": "markdown",
   "id": "03d9caf3-3614-4b70-b81b-33bb7df7cec3",
   "metadata": {},
   "source": [
    "### Error Check: \n",
    "####  Outputs Missing shotInRally Rows"
   ]
  },
  {
   "cell_type": "code",
   "execution_count": null,
   "id": "1c8e3ec9-bc77-4ba1-925d-e1d3ad8f75f9",
   "metadata": {},
   "outputs": [],
   "source": [
    "empty_shot_rows = shot_data[shot_data['shotInRally'].isnull()]\n",
    "\n",
    "if not empty_shot_rows.empty:\n",
    "    # Iterate over the index of empty_shot_rows\n",
    "    for index in empty_shot_rows.index:\n",
    "        # Get the row with empty shotInRally\n",
    "        empty_row = shot_data.loc[index]\n",
    "        \n",
    "        # Get the row above it\n",
    "        if index - 1 >= 0:\n",
    "            above_row = shot_data.loc[index - 1]\n",
    "        else:\n",
    "            above_row = None\n",
    "        \n",
    "        # Get the row below it\n",
    "        if index + 1 < len(shot_data):\n",
    "            below_row = shot_data.loc[index + 1]\n",
    "        else:\n",
    "            below_row = None\n",
    "        \n",
    "        # Print the rows\n",
    "        print(\"Empty row:\")\n",
    "        print(empty_row)\n",
    "        print(\"Row above:\")\n",
    "        print(above_row)\n",
    "        print(\"Row below:\")\n",
    "        print(below_row)\n",
    "        print(\"====================\")\n",
    "else:\n",
    "    print(\"Check Passed: No Missing shotInRally\")\n"
   ]
  },
  {
   "cell_type": "markdown",
   "id": "45a917fe-c252-4ca8-ba40-c0b69b5f5b96",
   "metadata": {},
   "source": [
    "### Error Check: \n",
    "####  Check that pointNumber is increasing consecutively"
   ]
  },
  {
   "cell_type": "code",
   "execution_count": null,
   "id": "381a01d7-3e2f-409c-a26b-d7c17e732e76",
   "metadata": {},
   "outputs": [],
   "source": [
    "point_numbers = shot_data['pointNumber'].unique()\n",
    "\n",
    "# Check if the point numbers are consecutive\n",
    "if list(point_numbers) == list(range(1, len(point_numbers) + 1)):\n",
    "    print(\"Check Passed\")\n",
    "else:\n",
    "    print(\"Error: The 'pointNumber' column does not contain consecutive numbers starting from 1.\")\n"
   ]
  },
  {
   "cell_type": "markdown",
   "id": "74f2bd4e-0ef1-45f9-8eb3-1bce987236a8",
   "metadata": {},
   "source": [
    "### Error Check: \n",
    "#### Check same amount of start and end points"
   ]
  },
  {
   "cell_type": "code",
   "execution_count": null,
   "id": "39dfe584-dd93-4f76-ad43-9b536e3bcf88",
   "metadata": {},
   "outputs": [],
   "source": [
    "# Count of Point Start and Point End\n",
    "num_point_start = shot_data['isPointStart'].sum()\n",
    "\n",
    "# Count the number of rows where isPointEnd is equal to 1\n",
    "num_point_end = shot_data['isPointEnd'].sum()\n",
    "\n",
    "print(\"Number of rows with isPointStart = 1:\", num_point_start)\n",
    "print(\"Number of rows with isPointEnd = 1:\", num_point_end)"
   ]
  },
  {
   "cell_type": "markdown",
   "id": "42bfb787-853d-4f94-8443-91069d3e6a38",
   "metadata": {},
   "source": [
    "### Error Check: \n",
    "#### Count of Missing Start Time, Output Rows"
   ]
  },
  {
   "cell_type": "code",
   "execution_count": null,
   "id": "1e1f3ced-b6f2-4435-b8f8-f9dc4fbf22e9",
   "metadata": {},
   "outputs": [],
   "source": [
    "# Find rows where isPointStart is True, but missing pointStartTime\n",
    "missing_start_time = shot_data[((shot_data['isPointStart'] == 1) & shot_data['pointStartTime'].isna())]\n",
    "print(f\"Count of rows where PointStartTime is missing: {len(missing_start_time)}\")\n",
    "\n",
    "\n",
    "print(f\"These are rows where PointStartTime is missing \\n{missing_start_time}\")"
   ]
  },
  {
   "cell_type": "markdown",
   "id": "9e91aeff-ebc0-4e46-8d48-10776ba04c32",
   "metadata": {},
   "source": [
    "### Error Check: \n",
    "#### Count of Missing End Time, Output Rows"
   ]
  },
  {
   "cell_type": "code",
   "execution_count": null,
   "id": "a80e9409-1888-4ca3-b38f-09cb77fda459",
   "metadata": {},
   "outputs": [],
   "source": [
    "# Find rows where isPointEnd is True, but missing pointEndTime\n",
    "missingEndTime = shot_data[((shot_data['isPointEnd'] == 1) & shot_data['pointEndTime'].isna())]\n",
    "print(f\"Count of rows where PointEndTime is missing: {len(missingEndTime)}\")\n",
    "\n",
    "# Display the missing rows \n",
    "print(f\"These are rows where PointEndTime is missing \\n{missingEndTime}\")"
   ]
  },
  {
   "cell_type": "markdown",
   "id": "9c13d5e3-16ef-4422-8cdd-85e2709b7baf",
   "metadata": {},
   "source": [
    "### Error Check: \n",
    "#### Make Jan-00 back into 1-0 for Game/Set Score"
   ]
  },
  {
   "cell_type": "code",
   "execution_count": null,
   "id": "eb3e80e3-f9fa-411c-b581-905d23c4b6b1",
   "metadata": {},
   "outputs": [],
   "source": [
    "# Make Scores Strings not Date Time\n",
    "columns_to_convert = ['gameScore', 'setScore'] #if no tiebreakScore\n",
    "# columns_to_convert = ['gameScore', 'setScore', 'tiebreakScore']\n",
    "shot_data[columns_to_convert] = shot_data[columns_to_convert].astype(object)"
   ]
  },
  {
   "cell_type": "code",
   "execution_count": null,
   "id": "9668d28e-c767-45ae-ae9e-20ac2a119e4c",
   "metadata": {},
   "outputs": [],
   "source": [
    "import re\n",
    "\n",
    "# Define a mapping for month abbreviations\n",
    "month_mapping = {'Jan': '1', 'Feb': '2', 'Mar': '3', 'Apr': '4', 'May': '5', 'Jun': '6',\n",
    "                 'Jul': '7', 'Aug': '8', 'Sep': '9', 'Oct': '10', 'Nov': '11', 'Dec': '12'}\n",
    "\n",
    "# Function to convert string like 'Jan-00' to '1-0'\n",
    "def convert_score_string(score_str):\n",
    "    # Check if the string has a month abbreviation and a year ending with '00'\n",
    "    if re.match(r'^\\d{1,2}-[A-Za-z]{3}$', score_str):\n",
    "        # Extract year and month abbreviation\n",
    "        year, month = score_str.split('-')\n",
    "\n",
    "        # Remove leading zeros from the year\n",
    "        year = str(int(year))\n",
    "\n",
    "        # Replace month abbreviation with corresponding number\n",
    "        month_number = month_mapping.get(month, month)\n",
    "\n",
    "        # Concatenate the parts to form the transformed string\n",
    "        transformed_str = f'{year}-{month_number}'\n",
    "\n",
    "        return transformed_str\n",
    "\n",
    "    # Check if the string has a month abbreviation and a year with leading '0's\n",
    "    elif re.match(r'^[A-Za-z]{3}-\\d{1,2}$', score_str):\n",
    "        # Extract month abbreviation and year\n",
    "        month, year = score_str.split('-')\n",
    "\n",
    "        # Replace month abbreviation with corresponding number\n",
    "        month_number = month_mapping.get(month, month)\n",
    "\n",
    "        # Remove leading zeros from the year\n",
    "        year = str(int(year))\n",
    "\n",
    "        # Concatenate the parts to form the transformed string\n",
    "        transformed_str = f'{month_number}-{year}'\n",
    "\n",
    "        return transformed_str\n",
    "\n",
    "    return score_str\n",
    "\n",
    "# Apply the conversion function to the relevant columns in shot_data\n",
    "shot_data['gameScore'] = shot_data['gameScore'].apply(convert_score_string)\n",
    "shot_data['setScore'] = shot_data['setScore'].apply(convert_score_string)\n",
    "# shot_data['tiebreakerScore'] = shot_data['tiebreakerScore'].apply(convert_score_string)\n"
   ]
  },
  {
   "cell_type": "markdown",
   "id": "d8522b57-d0cc-43fc-b08c-47768bae5231",
   "metadata": {},
   "source": [
    "### Error Check: \n",
    "#### Check that there is no strings in set, game scores"
   ]
  },
  {
   "cell_type": "code",
   "execution_count": null,
   "id": "6dc62692-a1a6-4d0c-9e3a-d15f3ce06b84",
   "metadata": {},
   "outputs": [],
   "source": [
    "# Assuming shot_data is your DataFrame\n",
    "unique_set_scores = shot_data['setScore'].unique()\n",
    "unique_game_scores = shot_data['gameScore'].unique()\n",
    "\n",
    "# Print unique values\n",
    "print(\"Unique Set Scores:\", unique_set_scores)\n",
    "print(\"Unique Game Scores:\", unique_game_scores)\n"
   ]
  },
  {
   "cell_type": "markdown",
   "id": "667a5e56-252f-4c58-9f20-1f1d0d48689b",
   "metadata": {},
   "source": [
    "### Error Check: \n",
    "#### Output consecutive isPointStart with no isPointEnd, and vice versa for isPointEnd"
   ]
  },
  {
   "cell_type": "code",
   "execution_count": null,
   "id": "0c4824d7-8324-4dc9-9b81-3a721f5c4d24",
   "metadata": {},
   "outputs": [],
   "source": [
    "# Output total start, total end\n",
    "# How many Points aren't enclosing between point start and point end \n",
    "\n",
    "# Count where isPointStart = 1\n",
    "count_isPointStart = (shot_data['isPointStart'] == 1).sum()\n",
    "\n",
    "# Count where isPointEnd = 1\n",
    "count_isPointEnd = (shot_data['isPointEnd'] == 1).sum()\n",
    "\n",
    "print(\"Total count where isPointStart = 1:\", count_isPointStart)\n",
    "print(\"Total count where isPointEnd = 1:\", count_isPointEnd)\n",
    "\n",
    "\n",
    "\n",
    "# Initialize variables to keep track of the state\n",
    "has_start = False\n",
    "overlapping_ends = []\n",
    "\n",
    "# Iterate through the DataFrame\n",
    "for i in range(len(shot_data)):\n",
    "    if shot_data['isPointStart'][i] == 1:\n",
    "        has_start = True\n",
    "    elif shot_data['isPointEnd'][i] == 1:\n",
    "        if not has_start:\n",
    "            overlapping_ends.append(i)\n",
    "        else:\n",
    "            has_start = False\n",
    "\n",
    "# Display the rows where isPointEnd doesn't have a corresponding isPointStart\n",
    "print(\"Rows where isPointEnd doesn't have a corresponding isPointStart:\")\n",
    "print(shot_data.iloc[overlapping_ends])\n",
    "\n",
    "# Initialize variables to keep track of the state\n",
    "start_indices = []\n",
    "consecutive_starts = []\n",
    "\n",
    "# Iterate through the DataFrame\n",
    "for i in range(len(shot_data) - 1):  # Iterate until the second last row\n",
    "    if shot_data['isPointStart'][i] == 1 and shot_data['isPointEnd'][i] != 1:\n",
    "        # Check if the next row also has isPointStart without a corresponding isPointEnd\n",
    "        if shot_data['isPointStart'][i + 1] == 1 and shot_data['isPointEnd'][i + 1] != 1:\n",
    "            consecutive_starts.append(i + 1)\n",
    "\n",
    "# Display the rows where isPointStart may double up without a corresponding isPointEnd\n",
    "print(\"Rows where isPointStart may double up without a corresponding isPointEnd:\")\n",
    "print(shot_data.iloc[consecutive_starts])\n"
   ]
  },
  {
   "cell_type": "markdown",
   "id": "9aa7ed4f-7ebd-4c0b-b287-b8492bba44b6",
   "metadata": {},
   "source": [
    "# Add More Columns"
   ]
  },
  {
   "cell_type": "markdown",
   "id": "a2f877ba-2c11-4bfa-b858-e9a7ce9f400d",
   "metadata": {},
   "source": [
    "### Add Column: returnerName"
   ]
  },
  {
   "cell_type": "code",
   "execution_count": null,
   "id": "a95e4421-a815-4347-96b0-a71ad91011a2",
   "metadata": {},
   "outputs": [],
   "source": [
    "# Get Returner Name for Shot DF\n",
    "\n",
    "# Extract player1Name and player2Name from the first row of shot_data\n",
    "first_row_shot_df = shot_data.iloc[0]\n",
    "player1_name = first_row_shot_df['player1Name']\n",
    "player2_name = first_row_shot_df['player2Name']\n",
    "\n",
    "# # Can Also Manually inpute Player 1 and 2 name\n",
    "# player1_name = \"Kimmi Hance\"\n",
    "# player2_name = \"Malaika Rapolu\"\n",
    "\n",
    "def get_returner_name(server_name):\n",
    "    return player2_name if server_name == player1_name else player1_name\n",
    "\n",
    "# Add 'Returner Name' column to point_df using the function\n",
    "shot_data['returnerName'] = shot_data['serverName'].apply(get_returner_name)\n",
    "\n",
    "print(f\"Player 1 = {player1_name}, Player 2 = {player2_name}\")\n",
    "# print(shot_data[['serverName','returnerName']])"
   ]
  },
  {
   "cell_type": "markdown",
   "id": "7c8cd7f8-100c-4419-a4ad-057a93024379",
   "metadata": {},
   "source": [
    "### Add Column: shotHitBy"
   ]
  },
  {
   "cell_type": "code",
   "execution_count": null,
   "id": "359b8ee1-b6f1-4bad-b4c0-e0fd39e01ae1",
   "metadata": {},
   "outputs": [],
   "source": [
    "# Add Shot Hit By for each Shot\n",
    "\n",
    "shot_data['shotHitBy'] = shot_data.apply(lambda row: row['serverName'] if row['shotInRally'] % 2 == 1 else row['returnerName'], axis=1)\n",
    "# print(shot_data[['serverName', 'shotHitBy','pointNumber', 'shotInRally']].head(20))"
   ]
  },
  {
   "cell_type": "markdown",
   "id": "14a4d9c4-ba53-4a5e-bfd1-55dfea8ad426",
   "metadata": {},
   "source": []
  },
  {
   "cell_type": "markdown",
   "id": "11500072-8116-4a17-82f6-6c8bce744215",
   "metadata": {},
   "source": [
    "### Add Column: player1Hand, player2Hand"
   ]
  },
  {
   "cell_type": "code",
   "execution_count": null,
   "id": "af2be844-bca8-4631-b0b1-55353fdfe47e",
   "metadata": {},
   "outputs": [],
   "source": [
    "# Change this with whatever is player1Hand and player2Hand first Column Values\n",
    "fill_in_player1hand = \"Right\"\n",
    "fill_in_player2hand = \"Right\"\n",
    "\n",
    "# Find the first non-null value in player1Hand column\n",
    "player1hand = shot_data['player1Hand'].dropna().iloc[0] if 'player1Hand' in shot_data.columns else fill_in_player1hand\n",
    "player2hand = shot_data['player2Hand'].dropna().iloc[0] if 'player2Hand' in shot_data.columns else fill_in_player2hand\n",
    "\n",
    "# Display the updated values\n",
    "print(\"player1Hand:\", player1hand)\n",
    "print(\"player2Hand:\", player2hand)\n",
    "\n",
    "shot_data['player1Hand'] = player1hand\n",
    "shot_data['player2Hand'] = player2hand"
   ]
  },
  {
   "cell_type": "markdown",
   "id": "74920095-a63b-4e61-b350-d84587c217ae",
   "metadata": {},
   "source": [
    "### Add Column: isInsideOut, isInsideIn"
   ]
  },
  {
   "cell_type": "code",
   "execution_count": null,
   "id": "f6d99f4c-77a8-48e4-9556-b0ff3417a2bb",
   "metadata": {},
   "outputs": [],
   "source": [
    "# Add columns for isInsideOut and isInsideIn, initially set to 0\n",
    "shot_data['isInsideOut'] = None\n",
    "shot_data['isInsideIn'] = None\n",
    "\n",
    "# Iterate through rows\n",
    "for index, row in shot_data.iterrows():\n",
    "    shotHitBy = row['shotHitBy']\n",
    "    player_hand = player1hand if shotHitBy == row['player1Name'] else player2hand\n",
    "    \n",
    "    if player_hand == \"Right\":\n",
    "        if row['side'] == \"Deuce\" and row['shotFhBh'] == \"Backhand\" and row['shotDirection'] == \"Crosscourt\":\n",
    "            shot_data.at[index, 'isInsideOut'] = 1\n",
    "        elif row['side'] == \"Ad\" and row['shotFhBh'] == \"Forehand\" and row['shotDirection'] == \"Crosscourt\":\n",
    "            shot_data.at[index, 'isInsideOut'] = 1\n",
    "        elif row['side'] == \"Deuce\" and row['shotFhBh'] == \"Backhand\" and row['shotDirection'] == \"Down the Line\":\n",
    "            shot_data.at[index, 'isInsideIn'] = 1\n",
    "        elif row['side'] == \"Ad\" and row['shotFhBh'] == \"Forehand\" and row['shotDirection'] == \"Down the Line\":\n",
    "            shot_data.at[index, 'isInsideIn'] = 1\n",
    "    elif player_hand == \"Left\":\n",
    "        if row['side'] == \"Ad\" and row['shotFhBh'] == \"Backhand\" and row['shotDirection'] == \"Crosscourt\":\n",
    "            shot_data.at[index, 'isInsideOut'] = 1\n",
    "        elif row['side'] == \"Deuce\" and row['shotFhBh'] == \"Forehand\" and row['shotDirection'] == \"Crosscourt\":\n",
    "            shot_data.at[index, 'isInsideOut'] = 1\n",
    "        elif row['side'] == \"Ad\" and row['shotFhBh'] == \"Backhand\" and row['shotDirection'] == \"Down the Line\":\n",
    "            shot_data.at[index, 'isInsideIn'] = 1\n",
    "        elif row['side'] == \"Deuce\" and row['shotFhBh'] == \"Forehand\" and row['shotDirection'] == \"Down the Line\":\n",
    "            shot_data.at[index, 'isInsideIn'] = 1"
   ]
  },
  {
   "cell_type": "markdown",
   "id": "5ce47455-e52a-4c29-846b-6ff44af87b62",
   "metadata": {},
   "source": [
    "### Add Column: isAce"
   ]
  },
  {
   "cell_type": "code",
   "execution_count": null,
   "id": "a14a32f6-db9d-44e8-ad59-32b48995eb23",
   "metadata": {},
   "outputs": [],
   "source": [
    "# Add the Ace column\n",
    "shot_data['isAce'] = None\n",
    "\n",
    "for index, row in shot_data.iterrows():\n",
    "    if row['isPointEnd'] == 1:\n",
    "        if row['shotInRally'] == 1: # last point is serve\n",
    "            if (row['firstServeIn'] == 1 or row['secondServeIn'] == 1): # either first or second serve went in\n",
    "                shot_data.at[index, 'isAce'] = 1"
   ]
  },
  {
   "cell_type": "markdown",
   "id": "5beb11c5-27f4-413a-a96c-a07431d1a797",
   "metadata": {},
   "source": [
    "### Add Column: isDoubleFault"
   ]
  },
  {
   "cell_type": "code",
   "execution_count": null,
   "id": "7365f350-9cb6-4c1a-ae51-8def184dddb4",
   "metadata": {},
   "outputs": [],
   "source": [
    "# Add the DoubleFault column\n",
    "shot_data['isDoubleFault'] = None\n",
    "\n",
    "for index, row in shot_data.iterrows():\n",
    "    if row['isPointEnd'] == 1:\n",
    "        if row['shotInRally'] == 1: # last point is serve\n",
    "            if (row['firstServeIn'] != 1 and row['secondServeIn'] != 1): # either first or second serve went in\n",
    "                shot_data.at[index, 'isDoubleFault'] = 1"
   ]
  },
  {
   "cell_type": "markdown",
   "id": "f8b2d1a4-6b15-49d8-82cf-451bf806402e",
   "metadata": {},
   "source": [
    "### Add Column: pointWonBy, lastShotError"
   ]
  },
  {
   "cell_type": "code",
   "execution_count": null,
   "id": "d453c3e5-cf56-41a1-89ff-0db6f4ace548",
   "metadata": {},
   "outputs": [],
   "source": [
    "# Add the 'pointWonBy' column\n",
    "shot_data['pointWonBy'] = None\n",
    "\n",
    "# Add the 'lastShotError' column\n",
    "shot_data['lastShotError'] = 0\n",
    "\n",
    "for index, row in shot_data.iterrows():\n",
    "    if row['isPointEnd'] == 1:\n",
    "        if row['shotInRally'] == 1: # last point is serve\n",
    "            if row['isAce'] == 1: \n",
    "                shot_data.at[index, 'pointWonBy'] = row['serverName']\n",
    "            elif row['isDoubleFault'] == 1: \n",
    "                shot_data.at[index, 'pointWonBy'] = row['returnerName']\n",
    "\n",
    "                \n",
    "        elif row['shotInRally'] != 1:\n",
    "            if row['isErrorWideR'] == 1 or row['isErrorWideL'] == 1 or row['isErrorNet'] == 1 or row['isErrorLong'] == 1: # if error\n",
    "                shot_data.at[index, 'lastShotError'] = 1\n",
    "                \n",
    "                if row['shotInRally'] % 2 == 0:\n",
    "                    shot_data.at[index, 'pointWonBy'] = row['serverName']\n",
    "                else:\n",
    "                    shot_data.at[index, 'pointWonBy'] = row['returnerName']\n",
    "        \n",
    "            elif row['isWinner'] == 1:\n",
    "                if row['shotInRally'] % 2 == 0:\n",
    "                    shot_data.at[index, 'pointWonBy'] = row['returnerName']\n",
    "                else:\n",
    "                    shot_data.at[index, 'pointWonBy'] = row['serverName']\n"
   ]
  },
  {
   "cell_type": "markdown",
   "id": "ed0a1097-1617-4a01-94ba-e6340dbebf08",
   "metadata": {},
   "source": [
    "### Error Check: \n",
    "#### Output Point End with no pointWonBy\n"
   ]
  },
  {
   "cell_type": "code",
   "execution_count": null,
   "id": "49a2474a-881f-4281-94cb-156ff1c947bc",
   "metadata": {},
   "outputs": [],
   "source": [
    "\n",
    "# Missing Point End\n",
    "print(shot_data[(shot_data['isPointEnd'] == 1) & (shot_data['pointWonBy'].isnull())][['pointScore', 'gameScore','setScore', 'lastShotError', 'isWinner', 'isErrorWideR', 'isErrorWideL',\n",
    "       'isErrorNet', 'isErrorLong', 'pointWonBy', 'serverName', 'shotInRally']])\n"
   ]
  },
  {
   "cell_type": "markdown",
   "id": "bfbb8b2d-abc2-46bc-80eb-d78bd6f66fb9",
   "metadata": {},
   "source": [
    "### Add Column: serveResult, serveInPlacement"
   ]
  },
  {
   "cell_type": "code",
   "execution_count": null,
   "id": "318eee77-8fa0-4da0-a8da-21656b027872",
   "metadata": {},
   "outputs": [],
   "source": [
    "conditions = [\n",
    "    (shot_data['isPointStart'] == 1) & (shot_data['firstServeIn'] == 1),\n",
    "    (shot_data['isPointStart'] == 1) & (shot_data['firstServeIn'] != 1) & (shot_data['secondServeIn'] == 1),\n",
    "    (shot_data['isPointStart'] == 1) & (shot_data['firstServeIn'] != 1) & (shot_data['secondServeIn'] != 1)\n",
    "]\n",
    "\n",
    "# Define the values to be assigned for each condition\n",
    "values_result = ['1st Serve In', '2nd Serve In', 'Double Fault']\n",
    "values_placement = [shot_data['firstServeZone'], shot_data['secondServeZone'], np.nan]\n",
    "\n",
    "# Use numpy.select to assign values based on conditions\n",
    "shot_data['serveResult'] = np.select(conditions, values_result, default='')\n",
    "shot_data['serveInPlacement'] = np.select(conditions, values_placement, default='')\n",
    "\n",
    "# Now shot_data DataFrame is updated with serveResult and serveInPlacement values where isPointStart is 1\n",
    "# print(shot_data[['serveResult', 'serveInPlacement','pointScore','side']].head(60))"
   ]
  },
  {
   "cell_type": "markdown",
   "id": "166d6c4f-f845-4e16-97a6-55dbccf154c1",
   "metadata": {},
   "source": [
    "### Filling Columns: Forward Fill\n",
    "- 'gameScore'\n",
    "- 'setScore'\n",
    "- 'serverName'\n",
    "- 'player1Name',\n",
    "- 'player2Name'\n",
    "- 'player1Hand'\n",
    "- 'player2Hand'"
   ]
  },
  {
   "cell_type": "code",
   "execution_count": null,
   "id": "ad71632e-37e0-422d-b486-8f5fb1eba85a",
   "metadata": {},
   "outputs": [],
   "source": [
    "# Forward Fill GameScore, SetScore, tiebreakScore, serverName, player1Name, player2Name\n",
    "\n",
    "columns_to_fill = ['gameScore','setScore', 'serverName', 'player1Name', 'player2Name', 'player1Hand', 'player2Hand'] \n",
    "# columns_to_fill = ['gameScore','setScore', 'tiebreakScore', 'serverName', 'player1Name', 'player2Name'] \n",
    "# Add player1Hand, player2Hand when it is in tagger\n",
    "\n",
    "for column in columns_to_fill:\n",
    "    shot_data[column].replace(['', 'na'], pd.NaT, inplace=True)\n",
    "    shot_data[column] = shot_data[column].ffill()"
   ]
  },
  {
   "cell_type": "code",
   "execution_count": null,
   "id": "2af189b3-2ae2-403a-91c4-a5367e417f86",
   "metadata": {},
   "outputs": [],
   "source": [
    "shot_data.replace(\"\", None, inplace=True)"
   ]
  },
  {
   "cell_type": "markdown",
   "id": "a69a017a-9959-4eca-b083-edbc8b009e78",
   "metadata": {},
   "source": [
    "# Output ShotCSV"
   ]
  },
  {
   "cell_type": "code",
   "execution_count": null,
   "id": "cb74fcb2-47ea-43bd-b304-dd5e05f17df3",
   "metadata": {},
   "outputs": [],
   "source": [
    "# # Ouput Improved Shot Csv HERE\n",
    "# Assuming point_df is your DataFrame and player1Name and player2Name are the names from the first row\n",
    "player1NameNoSpace = shot_data.iloc[0]['player1Name'].replace(\" \", \"\")\n",
    "player2NameNoSpace = shot_data.iloc[0]['player2Name'].replace(\" \", \"\")\n",
    "\n",
    "# Save DataFrame to CSV file with modified player names\n",
    "shot_data.to_csv(f'Shot_Visuals_{player1NameNoSpace}_{player2NameNoSpace}.csv', index=False)"
   ]
  },
  {
   "cell_type": "code",
   "execution_count": null,
   "id": "92ba40db-005c-47d7-86e7-fa52d25ec080",
   "metadata": {},
   "outputs": [],
   "source": [
    "shot_data['pointNumber'].unique()"
   ]
  },
  {
   "cell_type": "markdown",
   "id": "dd38774c-8826-4889-b85c-7b19567048ee",
   "metadata": {},
   "source": [
    "# Below is for Point CSV"
   ]
  },
  {
   "cell_type": "markdown",
   "id": "7f1d94f6-82a3-41b6-baf6-a37171703732",
   "metadata": {},
   "source": [
    "### Create Point DF"
   ]
  },
  {
   "cell_type": "code",
   "execution_count": null,
   "id": "e50fad00-3f62-41c7-9d3f-87d19fdc6925",
   "metadata": {},
   "outputs": [],
   "source": [
    "# Creating point_df (with only 1 row for each pointNumber)\n",
    "point_df = shot_data.drop_duplicates(subset='pointNumber')[['pointNumber']]\n",
    "# point_df.shape"
   ]
  },
  {
   "cell_type": "markdown",
   "id": "a57ecdf5-aaa6-4799-92e6-2845775401b8",
   "metadata": {},
   "source": [
    "### Add Column: player1Name, player2Name\n",
    "### Set Variable: first_player1Name, first_player2Name"
   ]
  },
  {
   "cell_type": "code",
   "execution_count": null,
   "id": "f15c115d-4eb4-4eb3-9a6d-e4ff225c1385",
   "metadata": {},
   "outputs": [],
   "source": [
    "# Extract the first value of player1Name and player2Name from shot_data\n",
    "first_player1Name = shot_data['player1Name'].iloc[0]\n",
    "first_player2Name = shot_data['player2Name'].iloc[0]\n",
    "\n",
    "# Fill in the first value into all rows of point_df['player1Name'] and point_df['player2Name']\n",
    "point_df['player1Name'] = first_player1Name\n",
    "point_df['player2Name'] = first_player2Name"
   ]
  },
  {
   "cell_type": "markdown",
   "id": "deb74788-f2d1-4c96-98e0-9d0d3717c6a7",
   "metadata": {},
   "source": [
    "### Add Column: Scores"
   ]
  },
  {
   "cell_type": "code",
   "execution_count": null,
   "id": "ee01bdd1-0815-4eb5-9d0b-7cd0f0749a38",
   "metadata": {},
   "outputs": [],
   "source": [
    "point_df['pointScore'] = shot_data.groupby('pointNumber')['pointScore'].first().values\n",
    "point_df['gameScore'] = shot_data.groupby('pointNumber')['gameScore'].first().values\n",
    "point_df['setScore'] = shot_data.groupby('pointNumber')['setScore'].first().values\n",
    "point_df['tiebreakScore'] = shot_data.groupby('pointNumber')['tiebreakScore'].first().values"
   ]
  },
  {
   "cell_type": "markdown",
   "id": "14fe84b7-38de-4c4a-97a2-17aca9281bd8",
   "metadata": {},
   "source": [
    "### Add Column: Side"
   ]
  },
  {
   "cell_type": "code",
   "execution_count": null,
   "id": "4d250819-706d-4cdf-ba3e-bc2a48a323bb",
   "metadata": {},
   "outputs": [],
   "source": [
    "# Group shot_data by 'pointNumber' and get the first 'side' value for each group\n",
    "side_values = shot_data.groupby('pointNumber')['side'].first().reset_index()\n",
    "\n",
    "point_df['side'] = side_values['side'].values"
   ]
  },
  {
   "cell_type": "markdown",
   "id": "0da6808a-148a-4a16-be9a-dcf1902c385a",
   "metadata": {},
   "source": [
    "### Add Column: serverName, returnerName"
   ]
  },
  {
   "cell_type": "code",
   "execution_count": null,
   "id": "062f1793-501f-4662-b5f9-606d4d44d97f",
   "metadata": {},
   "outputs": [],
   "source": [
    "# Adds Server and Returner Names and pointScore\n",
    "\n",
    "point_df['serverName'] = shot_data.groupby('pointNumber')['serverName'].first().values\n",
    "point_df['returnerName'] = shot_data.groupby('pointNumber')['returnerName'].first().values\n"
   ]
  },
  {
   "cell_type": "markdown",
   "id": "b2aa7da7-feee-49a5-9598-71c9738584cb",
   "metadata": {},
   "source": [
    "## Warning: Will be Empty if Timestamp separate\n",
    "### Add Column: serverName, returnerName"
   ]
  },
  {
   "cell_type": "code",
   "execution_count": null,
   "id": "bc3a101c-f6f7-410c-bae1-f248d85614df",
   "metadata": {},
   "outputs": [],
   "source": [
    "# Add Start and End times per point\n",
    "\n",
    "for index, row in shot_data.iterrows():\n",
    "    point_number = row['pointNumber']\n",
    "    \n",
    "    if row['isPointStart'] == 1:\n",
    "        point_df.loc[point_df['pointNumber'] == point_number, 'Position'] = row['pointStartTime']\n",
    "    if row['isPointEnd'] == 1:\n",
    "        point_df.loc[point_df['pointNumber'] == point_number, 'pointEndPosition'] = row['pointEndTime']\n",
    "\n",
    "# Add Duration\n",
    "point_df['Duration'] = point_df['pointEndPosition'] - point_df['Position']"
   ]
  },
  {
   "cell_type": "markdown",
   "id": "ab9a88ef-3f8a-42c1-b81c-50b03c2fc853",
   "metadata": {},
   "source": [
    "### Add Column: Rally Column\n",
    "- rallyCount (x amount)\n",
    "- rallyCountFreq (1-4,5-8,9-12,13+)"
   ]
  },
  {
   "cell_type": "code",
   "execution_count": null,
   "id": "c69f0435-3385-448e-8d1e-f60bad6bbfb9",
   "metadata": {},
   "outputs": [],
   "source": [
    "# Find the highest shotInRally for each pointNumber in shot_data\n",
    "max_rally_per_point = shot_data.groupby('pointNumber')['shotInRally'].max().reset_index()\n",
    "point_df['rallyCount'] = list(max_rally_per_point['shotInRally'])\n",
    "\n",
    "# Add 'rallyCountFreq' column based on specified conditions\n",
    "point_df['rallyCountFreq'] = point_df['rallyCount'].apply(lambda x: '1 - 4' if 1 <= x <= 4 else ('5 - 8' if 5 <= x <= 8 else ('9 - 12' if 9 <= x <= 12 else ('13 +' if x >= 13 else 'Error'))))\n"
   ]
  },
  {
   "cell_type": "markdown",
   "id": "6d73c5aa-9ba2-428b-80e8-5a85f7fbb4a1",
   "metadata": {},
   "source": [
    "### Add Column: Serve \n",
    "- firstServeIn\n",
    "- secondServeIn\n",
    "- serveResult\n",
    "- serveInPlacement\n",
    "\n",
    "Part 2\n",
    "- serveResult\n",
    "- serveInPlacement\n",
    " \n",
    "Part 3\n",
    "- firstServeZone\n",
    "- secondServeZone"
   ]
  },
  {
   "cell_type": "code",
   "execution_count": null,
   "id": "ab2ae70f-ad58-4d53-b229-44044ad391c8",
   "metadata": {},
   "outputs": [],
   "source": [
    "# Add firstServeIn and secondServeIn\n",
    "\n",
    "# Add firstServeIn and secondServeIn columns\n",
    "point_df['firstServeIn'] = 0\n",
    "point_df['secondServeIn'] = 0\n",
    "\n",
    "for point_number in shot_data['pointNumber'].unique():\n",
    "    # Check if firstServeIn is 1 for the given pointNumber in shot_data\n",
    "    if any((shot_data['pointNumber'] == point_number) & (shot_data['firstServeIn'] == 1)):\n",
    "        point_df.loc[point_df['pointNumber'] == point_number, 'firstServeIn'] = 1\n",
    "    \n",
    "    # Check if secondServeIn is 1 for the given pointNumber in shot_data\n",
    "    if any((shot_data['pointNumber'] == point_number) & (shot_data['secondServeIn'] == 1)):\n",
    "        point_df.loc[point_df['pointNumber'] == point_number, 'secondServeIn'] = 1\n",
    "\n",
    "#part 2\n",
    "start_points = shot_data[shot_data['isPointStart'] == 1]\n",
    "\n",
    "# Set values in point_df to corresponding values from start_points\n",
    "point_df['serveResult'] = start_points['serveResult'].values\n",
    "point_df['serveInPlacement'] = start_points['serveInPlacement'].values\n",
    "\n",
    "# part 3\n",
    "serve_zones = shot_data.loc[shot_data['shotInRally'] == 1, ['pointNumber', 'firstServeZone', 'secondServeZone', 'firstServeIn', 'secondServeIn']].drop_duplicates()\n",
    "point_df['firstServeZone'] = shot_data.groupby('pointNumber')['firstServeZone'].first().values\n",
    "point_df['secondServeZone'] = shot_data.groupby('pointNumber')['secondServeZone'].first().values"
   ]
  },
  {
   "cell_type": "markdown",
   "id": "eb67c372-56c0-41d2-b972-84b747cf0cd1",
   "metadata": {},
   "source": [
    "### Add Column: Ace"
   ]
  },
  {
   "cell_type": "code",
   "execution_count": null,
   "id": "dccd8e5d-c4aa-42a9-9131-a950fd9c1fc3",
   "metadata": {},
   "outputs": [],
   "source": [
    "point_df['isAce'] = ((point_df['rallyCount'] == 1) & ((point_df['serveResult'] != \"Double Fault\")))\n",
    "\n",
    "# Display the resulting DataFrame\n",
    "print(point_df[['pointNumber', 'rallyCount', 'isAce']].head(14))"
   ]
  },
  {
   "cell_type": "markdown",
   "id": "3e3a3730-dac7-44f0-b03c-de912ab7b0d5",
   "metadata": {},
   "source": [
    "### Add Column: Return"
   ]
  },
  {
   "cell_type": "code",
   "execution_count": null,
   "id": "6ad9166e-c979-4914-b749-d734d1a26bd7",
   "metadata": {},
   "outputs": [],
   "source": [
    "# print(shot_data[shot_data['shotInRally'] == 2][['shotDirection','shotFhBh','pointScore','gameScore','setScore']])"
   ]
  },
  {
   "cell_type": "code",
   "execution_count": null,
   "id": "c8456a4a-2faf-401c-ade1-180c6c28f40a",
   "metadata": {},
   "outputs": [],
   "source": [
    "# Set the initial values of 'returnDirection' and 'returnHand' columns to None\n",
    "point_df['returnDirection'] = None\n",
    "point_df['returnFhBh'] = None\n",
    "\n",
    "# Iterate through pointNumber in shot_data\n",
    "for point_number in shot_data['pointNumber'].unique():\n",
    "    # Check if shotInRally == 2 exists for the given pointNumber\n",
    "    if 2 in shot_data.loc[shot_data['pointNumber'] == point_number, 'shotInRally'].values:\n",
    "        # Get the information from the corresponding row\n",
    "        row_with_return_info = shot_data[(shot_data['pointNumber'] == point_number) & (shot_data['shotInRally'] == 2)].iloc[0]\n",
    "\n",
    "        # Assign values to 'returnDirection' and 'returnHand' columns\n",
    "        point_df.loc[point_df['pointNumber'] == point_number, 'returnDirection'] = row_with_return_info['shotDirection']\n",
    "        point_df.loc[point_df['pointNumber'] == point_number, 'returnFhBh'] = row_with_return_info['shotFhBh']\n",
    "\n",
    "# Display the modified DataFrame\n",
    "print(point_df.head(10))"
   ]
  },
  {
   "cell_type": "markdown",
   "id": "c33cb300-0c70-49d2-bb4b-e76d4853de0a",
   "metadata": {},
   "source": [
    "### Add Column: Error Column\n",
    "- errorType"
   ]
  },
  {
   "cell_type": "code",
   "execution_count": null,
   "id": "f10972b3-884a-4e58-9d81-ab0d9704bd23",
   "metadata": {},
   "outputs": [],
   "source": [
    "# Create an empty DataFrame to store the results\n",
    "error_results = pd.DataFrame(columns=['errorType', 'pointNumber'])\n",
    "\n",
    "# Iterate through entire shot_data\n",
    "for index, row in shot_data.iterrows():\n",
    "    pointNumber = row['pointNumber']\n",
    "    point_error_value = None\n",
    "    \n",
    "    if row['isErrorWideR'] == 1:\n",
    "        point_error_value = 'Wide Right'\n",
    "    elif row['isErrorWideL'] == 1:\n",
    "        point_error_value = 'Wide Left'\n",
    "    elif 'isErrorNet' in row and row['isErrorNet'] == 1:\n",
    "        point_error_value = 'Net'\n",
    "    elif row['isErrorLong'] == 1:\n",
    "        point_error_value = 'Long'\n",
    "    \n",
    "\n",
    "    # If an error is found, append the result to the error_results DataFrame\n",
    "    if point_error_value is not None:\n",
    "        error_results = pd.concat([error_results, pd.DataFrame({'pointNumber': [pointNumber], 'errorType': [point_error_value]})], ignore_index=True)\n",
    "\n",
    "\n",
    "# Drop duplicates based on 'pointNumber'\n",
    "error_results = error_results.drop_duplicates(subset=['pointNumber'])"
   ]
  },
  {
   "cell_type": "code",
   "execution_count": null,
   "id": "a9b428e1-322f-4908-b89f-2a7c38667504",
   "metadata": {},
   "outputs": [],
   "source": [
    "# Create a dictionary mapping 'pointNumber' to 'errorType' in error_results\n",
    "error_type_mapping = dict(zip(error_results['pointNumber'], error_results['errorType']))\n",
    "\n",
    "# Create 'errorType' column in point_df based on the mapping\n",
    "point_df['errorType'] = point_df['pointNumber'].map(error_type_mapping)\n",
    "\n",
    "point_df = point_df.replace({np.nan: None})"
   ]
  },
  {
   "cell_type": "markdown",
   "id": "60e73b6b-2a6f-4a29-9110-010eefc4021b",
   "metadata": {},
   "source": [
    "### Add Column: Error (Returns)"
   ]
  },
  {
   "cell_type": "code",
   "execution_count": null,
   "id": "4b6b3aa8-be4c-4fe7-ad30-f3a8b58fde86",
   "metadata": {},
   "outputs": [],
   "source": [
    "def get_return_error(row):\n",
    "    if row['rallyCount'] == 2:\n",
    "        return row['errorType']\n",
    "    else:\n",
    "        return None\n",
    "\n",
    "point_df.loc[point_df['pointNumber'] == point_number, 'serveInPlacement'] = shot_data['secondServeZone']  \n",
    "\n",
    "# Apply the functions to create the new columns\n",
    "point_df['returnError'] = point_df.apply(get_return_error, axis=1)\n"
   ]
  },
  {
   "cell_type": "code",
   "execution_count": null,
   "id": "93ab6169-92e0-4803-82e2-b8fa8731d9d5",
   "metadata": {},
   "outputs": [],
   "source": [
    "# print(point_df[\"returnError\"].unique())\n",
    "# print(point_df[['rallyCount','returnDirection','returnFhBh']])"
   ]
  },
  {
   "cell_type": "markdown",
   "id": "9016ca68-379b-4af0-9d34-17e9dea6de06",
   "metadata": {},
   "source": [
    "### Add Column: Last Shot"
   ]
  },
  {
   "cell_type": "code",
   "execution_count": null,
   "id": "d82dd333-70de-4a33-b493-cca692cde241",
   "metadata": {},
   "outputs": [],
   "source": [
    "point_df['lastShotDirection'] = None\n",
    "point_df['lastShotFhBh'] = None\n",
    "point_df['lastShotHitBy'] = None  \n",
    "point_df['lastShotResult'] = None  \n",
    "\n",
    "# Iterate through unique pointNumbers in shot_data\n",
    "for point_number in shot_data['pointNumber'].unique():\n",
    "    # Check if isPointEnd == 1 exists for the given pointNumber\n",
    "    if 1 in shot_data.loc[shot_data['pointNumber'] == point_number, 'isPointEnd'].values:\n",
    "        # Get the information from the corresponding row\n",
    "        row_with_lastshot_info = shot_data[(shot_data['pointNumber'] == point_number) & (shot_data['isPointEnd'] == 1)].iloc[0]\n",
    "\n",
    "        # Assign values to 'lastShotDirection' and 'lastShotFhBh' columns\n",
    "        point_df.loc[point_df['pointNumber'] == point_number, 'lastShotDirection'] = row_with_lastshot_info['shotDirection']\n",
    "        point_df.loc[point_df['pointNumber'] == point_number, 'lastShotFhBh'] = row_with_lastshot_info['shotFhBh']\n",
    "        point_df.loc[point_df['pointNumber'] == point_number, 'lastShotHitBy'] = row_with_lastshot_info['shotHitBy']\n",
    "        \n",
    "        # Determine lastShotResult based on conditions\n",
    "        if row_with_lastshot_info['isWinner'] == 1 and not row_with_lastshot_info['isAce']:\n",
    "            point_df.loc[point_df['pointNumber'] == point_number, 'lastShotResult'] = \"Winner\"\n",
    "        elif row_with_lastshot_info['lastShotError'] == 1:\n",
    "            point_df.loc[point_df['pointNumber'] == point_number, 'lastShotResult'] = \"Error\""
   ]
  },
  {
   "cell_type": "code",
   "execution_count": null,
   "id": "c4873ff7-3158-4467-a133-554b753b6600",
   "metadata": {},
   "outputs": [],
   "source": [
    "# # Display the modified DataFrame\n",
    "# print(point_df[['rallyCount','lastShotDirection','lastShotFhBh', 'lastShotHitBy']])"
   ]
  },
  {
   "cell_type": "code",
   "execution_count": null,
   "id": "d8f8eb4c-73cf-4dd4-ab19-60a81bcd6bc9",
   "metadata": {},
   "outputs": [],
   "source": [
    "print(point_df['lastShotResult'].unique())"
   ]
  },
  {
   "cell_type": "markdown",
   "id": "f86354a2-0aca-4d0b-9e61-5d5f93c2a6d8",
   "metadata": {},
   "source": [
    "### Add Column: pointWonBy"
   ]
  },
  {
   "cell_type": "code",
   "execution_count": null,
   "id": "072c95c3-a8cd-448c-8ce8-88b5288316bb",
   "metadata": {},
   "outputs": [],
   "source": [
    "# Initialize variables to keep track of the state\n",
    "prev_point_number = None\n",
    "point_won_by_list = []\n",
    "\n",
    "# Iterate through the DataFrame\n",
    "for index, row in shot_data.iterrows():\n",
    "    if row['isPointEnd'] == 1:\n",
    "        # Check if pointNumber is different and consecutively increasing\n",
    "        if prev_point_number is None or row['pointNumber'] == prev_point_number + 1:\n",
    "            # Append pointWonBy to the list\n",
    "            point_won_by_list.append(row['pointWonBy'])\n",
    "            prev_point_number = row['pointNumber']\n",
    "        else:\n",
    "            print(\"Error: Point numbers are not different or consecutively increasing.\")\n",
    "            break\n",
    "\n",
    "# Add point_won_by_list as a new column to point_df\n",
    "point_df['pointWonBy'] = point_won_by_list"
   ]
  },
  {
   "cell_type": "markdown",
   "id": "eaf01ad1-a8bd-4d4a-88fd-8a8e2402d069",
   "metadata": {},
   "source": [
    "### Error Check: \n",
    "#### player1, player2, serverName, returnerName do not have misspellings"
   ]
  },
  {
   "cell_type": "code",
   "execution_count": null,
   "id": "5a0fd4d2-e9e5-435a-ac05-17f52f8bfef2",
   "metadata": {},
   "outputs": [],
   "source": [
    "print(point_df['player1Name'].unique())\n",
    "print(point_df['player2Name'].unique())\n",
    "print(point_df['serverName'].unique())\n",
    "print(point_df['returnerName'].unique())"
   ]
  },
  {
   "cell_type": "markdown",
   "id": "81674f01-f647-4ecb-8c11-8e8c7caa037f",
   "metadata": {},
   "source": [
    "### Error Check: \n",
    "#### pointWonBy has value that is not one of the two player names\n",
    "- References: first_player1Name, first_player2Name from above server info in point_df"
   ]
  },
  {
   "cell_type": "code",
   "execution_count": null,
   "id": "20159d1f-49e5-4b80-94bc-0273386eeaf2",
   "metadata": {},
   "outputs": [],
   "source": [
    "print(point_df['pointWonBy'].unique())\n",
    "none_pointWonBy_df = point_df[~point_df['pointWonBy'].isin([first_player1Name, first_player2Name])]\n",
    "\n",
    "print(none_pointWonBy_df)"
   ]
  },
  {
   "cell_type": "markdown",
   "id": "60aebf71-65aa-4d1d-8fec-ea650c4ae3be",
   "metadata": {},
   "source": [
    "### Add Column: Break Point"
   ]
  },
  {
   "cell_type": "code",
   "execution_count": null,
   "id": "1a721604-958f-495e-9da4-074881a8e2c0",
   "metadata": {},
   "outputs": [],
   "source": [
    "# List of values to check for in 'Name' column\n",
    "break_point_values = ['0-40', '15-40', '30-40', '40-40 (Deuce)', '40-40 (Ad)']\n",
    "\n",
    "# Create 'isBreakPoint' column in point_df\n",
    "point_df['isBreakPoint'] = point_df['pointScore'].isin(break_point_values)"
   ]
  },
  {
   "cell_type": "markdown",
   "id": "57c12014-bf30-4719-b6d9-e9ab29a33c8f",
   "metadata": {},
   "source": [
    "## Warning: Do not use if atNetPlayer1 is in shot_data\n",
    "### Add Column: atNetPlayer1, atNetPlayer2\n",
    "\n",
    "- if below says atNetPlayer1: Uncomment below Code\n",
    "- replace later with atNetPlayer1 atNetPlayer2"
   ]
  },
  {
   "cell_type": "code",
   "execution_count": null,
   "id": "2cd27435-75e9-4673-862d-39adbeb93580",
   "metadata": {},
   "outputs": [],
   "source": [
    "# Check if 'atNetPlayer1' exists in point_df\n",
    "if 'atNetPlayer1' in shot_data.columns:\n",
    "    print(\"Column 'atNetPlayer1' exists in point_df.\")\n",
    "else:\n",
    "    print(\"Column 'atNetPlayer1' does not exist in point_df.\")\n",
    "\n",
    "# Uncomment if atNetPlayer1 does not exist\n",
    "import numpy as np\n",
    "\n",
    "# Copy the DataFrame\n",
    "at_net_df2 = shot_data.copy()\n",
    "\n",
    "# Record values for specified columns\n",
    "at_net_df2 = at_net_df2[['player1Name', 'player2Name', 'isVolley', 'serverName', 'shotHitBy', 'returnerName', 'pointNumber', 'shotInRally']].copy()\n",
    "\n",
    "# Add columns for aggregation\n",
    "at_net_df2['atNetPlayer1'] = np.where((at_net_df2['isVolley'] == 1) & (at_net_df2['shotHitBy'] == at_net_df2['player1Name']), 1, 0)\n",
    "at_net_df2['atNetPlayer2'] = np.where((at_net_df2['isVolley'] == 1) & (at_net_df2['shotHitBy'] == at_net_df2['player2Name']), 1, 0)\n",
    "\n",
    "# Aggregate atNetPlayer1 and atNetPlayer2 based on pointNumber\n",
    "at_net_df2['atNetPlayer1_Agg'] = at_net_df2.groupby('pointNumber')['atNetPlayer1'].transform('max')\n",
    "at_net_df2['atNetPlayer2_Agg'] = at_net_df2.groupby('pointNumber')['atNetPlayer2'].transform('max')\n",
    "\n",
    "# Drop the duplicate rows created during aggregation\n",
    "at_net_df2.drop_duplicates(subset=['pointNumber'], inplace=True)\n",
    "\n",
    "point_df['atNetPlayer1'] = at_net_df2['atNetPlayer1_Agg'].values\n",
    "point_df['atNetPlayer2'] = at_net_df2['atNetPlayer2_Agg'].values"
   ]
  },
  {
   "cell_type": "markdown",
   "id": "7d091079-a2ba-485c-8abb-71acb4df66f6",
   "metadata": {},
   "source": [
    "### Add Column: setNum"
   ]
  },
  {
   "cell_type": "code",
   "execution_count": null,
   "id": "6f762139-8377-4e82-90e1-5a6b474d0375",
   "metadata": {},
   "outputs": [],
   "source": [
    "# Extract numbers from 'setScore' and calculate the sum plus 1\n",
    "point_df['setNum'] = point_df['setScore'].apply(lambda x: sum(int(char) for char in x if char.isdigit()) + 1)"
   ]
  },
  {
   "cell_type": "code",
   "execution_count": null,
   "id": "5321fcdc-09a6-4442-832e-8df1485658f1",
   "metadata": {},
   "outputs": [],
   "source": [
    "point_df.columns"
   ]
  },
  {
   "cell_type": "markdown",
   "id": "68b07b91-ef33-4314-a33a-41be146d2707",
   "metadata": {},
   "source": [
    "### Add Column: Game Number, Set Number, Game/Set/Point for each player"
   ]
  },
  {
   "cell_type": "code",
   "execution_count": null,
   "id": "35bbb4a6-53dc-4b66-8399-5cd1d2cd4365",
   "metadata": {},
   "outputs": [],
   "source": [
    "point_df[['player1SetScore', 'player2SetScore']] = point_df['setScore'].str.split('-', expand=True)\n",
    "point_df[['player1GameScore', 'player2GameScore']] = point_df['gameScore'].str.split('-', expand=True)\n",
    "point_df[['player1PointScore', 'player2PointScore']] = point_df['pointScore'].str.split('-', expand=True)\n",
    "if not point_df['tiebreakScore'].isnull().all() and not point_df['tiebreakScore'].eq(\"\").all():\n",
    "    # Perform the operation only when tiebreakScore is not empty\n",
    "    point_df[['player1TiebreakScore', 'player2TiebreakScore']] = point_df['tiebreakScore'].str.split('-', expand=True)\n",
    "else:\n",
    "    # Set player1TiebreakScore and player2TiebreakScore to NaN\n",
    "    point_df['player1TiebreakScore'] = np.nan\n",
    "    point_df['player2TiebreakScore'] = np.nan\n",
    "    \n",
    "def calculate_game_number(score):\n",
    "    return int(score.split('-')[0]) + int(score.split('-')[1])+1\n",
    "\n",
    "# Apply the function to create the 'gameNumber' column\n",
    "point_df['gameNumber'] = point_df['gameScore'].apply(calculate_game_number)"
   ]
  },
  {
   "cell_type": "markdown",
   "id": "c07b8392-9f9d-4768-bef3-8217effe0c97",
   "metadata": {},
   "source": [
    "### Error Check: \n",
    "#### Output Game Number in order: Should be consecutive increasing. Ex: 1,2,3,4,5,6. End of Set 1. 1,2,3,4,5,6,7,8"
   ]
  },
  {
   "cell_type": "code",
   "execution_count": null,
   "id": "07889dd3-4887-495d-9536-30d0b799b14e",
   "metadata": {},
   "outputs": [],
   "source": [
    "game_numbers = point_df['gameNumber'].tolist()\n",
    "\n",
    "# Initialize variables\n",
    "seen = set()\n",
    "prev = None\n",
    "\n",
    "# Iterate through gameNumber column\n",
    "for num in game_numbers:\n",
    "    # If the number is not in seen or it's different from the previous one, print it\n",
    "    if num not in seen or num != prev:\n",
    "        print(num, end=', ')\n",
    "    # If the number is the same as the previous one but not consecutive, print it\n",
    "    elif num == prev and num not in seen:\n",
    "        print(num, end=', ')\n",
    "    # Update seen set and prev variable\n",
    "    seen.add(num)\n",
    "    prev = num"
   ]
  },
  {
   "cell_type": "markdown",
   "id": "528a0c89-8948-43be-8d37-b844a061d6b7",
   "metadata": {},
   "source": [
    "### Add Column: player1ServeResult"
   ]
  },
  {
   "cell_type": "code",
   "execution_count": null,
   "id": "c2362f99-6beb-4821-8880-a7717298d872",
   "metadata": {},
   "outputs": [],
   "source": [
    "# Add the 'player1ServeResult' column\n",
    "point_df['player1ServeResult'] = None\n",
    "\n",
    "# Set player1ServeResult based on conditions\n",
    "point_df.loc[point_df['serverName'] == point_df['player1Name'], 'player1ServeResult'] = point_df['serveResult']"
   ]
  },
  {
   "cell_type": "code",
   "execution_count": null,
   "id": "384f623f-5341-4996-b688-fd5856f77d55",
   "metadata": {},
   "outputs": [],
   "source": [
    "point_df.loc[point_df['isAce'] == True, 'player1ServeResult'] = 'Ace'\n"
   ]
  },
  {
   "cell_type": "code",
   "execution_count": null,
   "id": "5fabf138-bbff-401e-b46c-b03c76c7374f",
   "metadata": {},
   "outputs": [],
   "source": [
    "# print(point_df['serveInPlacement'].head(10))"
   ]
  },
  {
   "cell_type": "markdown",
   "id": "12706269-25d1-4c42-8200-6e4ccdeef2ab",
   "metadata": {},
   "source": [
    "### Add Column: player1ServePlacement"
   ]
  },
  {
   "cell_type": "code",
   "execution_count": null,
   "id": "096d87b3-5048-493d-9444-99549d3afa85",
   "metadata": {},
   "outputs": [],
   "source": [
    "# Add the 'player1ServePlacement' column\n",
    "point_df['player1ServePlacement'] = None\n",
    "\n",
    "# Set player1ServePlacement based on conditions\n",
    "point_df.loc[point_df['serverName'] == point_df['player1Name'], 'player1ServePlacement'] = point_df['side'] + ': ' + point_df['serveInPlacement']"
   ]
  },
  {
   "cell_type": "markdown",
   "id": "368139a0-a088-44d1-9603-3f15c4c9a92b",
   "metadata": {},
   "source": [
    "### Add Column: player1ReturnPlacement"
   ]
  },
  {
   "cell_type": "code",
   "execution_count": null,
   "id": "e6c850aa-b0bc-497e-a2b8-ba9b935287b1",
   "metadata": {},
   "outputs": [],
   "source": [
    "# Add the 'player1ReturnPlacement' column\n",
    "point_df['player1ReturnPlacement'] = None\n",
    "\n",
    "# Set player1ServePlacement based on conditions\n",
    "point_df.loc[point_df['returnerName'] == point_df['player1Name'], 'player1ReturnPlacement'] = point_df['returnDirection']"
   ]
  },
  {
   "cell_type": "markdown",
   "id": "1dbe59a6-7462-470a-8655-4ac199d5c678",
   "metadata": {},
   "source": [
    "### Add Column: player1ReturnFhBh"
   ]
  },
  {
   "cell_type": "code",
   "execution_count": null,
   "id": "12563728-af42-4207-bd96-3185ff9b1325",
   "metadata": {},
   "outputs": [],
   "source": [
    "# Add the 'player1ReturnFhBh' column\n",
    "point_df['player1ReturnFhBh'] = None\n",
    "\n",
    "# Set player1ServePlacement based on conditions\n",
    "point_df.loc[point_df['returnerName'] == point_df['player1Name'], 'player1ReturnFhBh'] = point_df['returnFhBh']"
   ]
  },
  {
   "cell_type": "markdown",
   "id": "6153038d-b0fb-4a4a-a6ef-964f5ba94d10",
   "metadata": {},
   "source": [
    "### Add Column: player1LastShotPlacement"
   ]
  },
  {
   "cell_type": "code",
   "execution_count": null,
   "id": "8a766537-32fa-4dee-b49b-05403db0fca6",
   "metadata": {},
   "outputs": [],
   "source": [
    "# Add the 'player1LastShotFhBh' column\n",
    "point_df['player1LastShotPlacement'] = None\n",
    "\n",
    "# Set player1ServePlacement based on conditions\n",
    "point_df.loc[point_df['lastShotHitBy'] == point_df['player1Name'], 'player1LastShotPlacement'] = point_df['lastShotDirection']"
   ]
  },
  {
   "cell_type": "markdown",
   "id": "0c6cb1ae-ea60-4d85-93ba-890ed98180b4",
   "metadata": {},
   "source": [
    "### Add Column: player1LastShotFhBh"
   ]
  },
  {
   "cell_type": "code",
   "execution_count": null,
   "id": "b3657d3b-ba7d-43e7-9735-9674e6a7a6ad",
   "metadata": {},
   "outputs": [],
   "source": [
    "# Add the 'player1LastShotFhBh' column\n",
    "point_df['player1LastShotFhBh'] = None\n",
    "\n",
    "# Set player1ServePlacement based on conditions\n",
    "point_df.loc[point_df['lastShotHitBy'] == point_df['player1Name'], 'player1LastShotFhBh'] = point_df['lastShotFhBh']"
   ]
  },
  {
   "cell_type": "markdown",
   "id": "7c843db5-492a-4b4b-9e73-18e82782b18d",
   "metadata": {},
   "source": [
    "### Add Column: player1LastShotResult"
   ]
  },
  {
   "cell_type": "code",
   "execution_count": null,
   "id": "a5d72b7c-175e-4389-9c1d-b87c905f07fd",
   "metadata": {},
   "outputs": [],
   "source": [
    "# Add the 'player1LastShotResult' column\n",
    "point_df['player1LastShotResult'] = None\n",
    "\n",
    "# Set player1LastShotResult based on conditions, excluding 'Ace' and 'Double Fault'\n",
    "point_df.loc[\n",
    "    (point_df['lastShotHitBy'] == point_df['player1Name']) & \n",
    "    ~point_df['player1ServeResult'].isin(['Ace', 'Double Fault']), \n",
    "    'player1LastShotResult'\n",
    "] = point_df['lastShotResult']\n"
   ]
  },
  {
   "cell_type": "code",
   "execution_count": null,
   "id": "75c4d4fb-612f-437d-8ea0-ba4895d11fc2",
   "metadata": {},
   "outputs": [],
   "source": [
    "print(point_df[['setNum', 'gameScore','pointScore','player1ServePlacement','serveInPlacement']].head(10))"
   ]
  },
  {
   "cell_type": "markdown",
   "id": "fcb3dc11-4abc-4f1b-b07a-50e2b8295043",
   "metadata": {},
   "source": [
    "## Add Column: Name (For Video)"
   ]
  },
  {
   "cell_type": "code",
   "execution_count": null,
   "id": "9487a6d5-18eb-4a3b-ab7c-995482a3ce49",
   "metadata": {},
   "outputs": [],
   "source": [
    "# Change pointScore to the specified format\n",
    "point_df['Name'] = point_df.apply(lambda row: f\"Set {row['setNum']}: {row['gameScore']}, {row['tiebreakScore']} {row['serverName']} Serving\" if pd.notna(row['tiebreakScore']) else f\"Set {row['setNum']}: {row['gameScore']}, {row['pointScore']} {row['serverName']} Serving\", axis=1)\n"
   ]
  },
  {
   "cell_type": "code",
   "execution_count": null,
   "id": "ea3c8e6e-fd05-47e1-90a1-aded3c01c54b",
   "metadata": {
    "scrolled": true
   },
   "outputs": [],
   "source": [
    "print(point_df[['setNum', 'gameScore','pointScore','tiebreakScore','Name']].head(5))\n",
    "print(point_df[['setNum', 'gameScore','pointScore','tiebreakScore','Name']].tail(5))"
   ]
  },
  {
   "cell_type": "markdown",
   "id": "d4ebed59-72a7-4dc9-a63f-95b528ab5bbb",
   "metadata": {},
   "source": [
    "## Reorder DataFrame for Output"
   ]
  },
  {
   "cell_type": "code",
   "execution_count": null,
   "id": "8fa6c8a9-ad32-47d6-88f0-1f3550fcff96",
   "metadata": {},
   "outputs": [],
   "source": [
    "point_df_copy = point_df.copy()"
   ]
  },
  {
   "cell_type": "code",
   "execution_count": null,
   "id": "90659462-13b0-4991-9c59-4924754d9924",
   "metadata": {},
   "outputs": [],
   "source": [
    "point_df.shape"
   ]
  },
  {
   "cell_type": "code",
   "execution_count": null,
   "id": "4ea3efb9-85d7-4428-afef-2c174d1e5f13",
   "metadata": {},
   "outputs": [],
   "source": [
    "point_df_copy.shape"
   ]
  },
  {
   "cell_type": "code",
   "execution_count": null,
   "id": "ba386657-82b9-4b27-9354-770b50fc7623",
   "metadata": {},
   "outputs": [],
   "source": [
    "desired_order = [\n",
    "    'Name', 'pointNumber', 'setNum', 'gameNumber', 'player1Name', 'player2Name',\n",
    "    'pointScore', 'gameScore', 'setScore', 'tiebreakScore', 'side', 'serverName',\n",
    "    'returnerName', 'Position', 'pointEndPosition', 'Duration', 'pointWonBy',\n",
    "    'rallyCount', 'rallyCountFreq', 'firstServeIn', 'secondServeIn',\n",
    "    'serveResult', 'serveInPlacement', 'firstServeZone', 'secondServeZone',\n",
    "    'isAce', 'returnDirection', 'returnFhBh', 'errorType', 'returnError',\n",
    "    'lastShotDirection', 'lastShotFhBh', 'lastShotHitBy', 'lastShotResult',\n",
    "    'isBreakPoint', 'atNetPlayer1', 'atNetPlayer2', 'player1SetScore',\n",
    "    'player2SetScore', 'player1GameScore', 'player2GameScore', 'player1PointScore',\n",
    "    'player2PointScore', 'player1TiebreakScore', 'player2TiebreakScore',\n",
    "    'player1ServeResult', 'player1ServePlacement', 'player1ReturnPlacement',\n",
    "    'player1ReturnFhBh', 'player1LastShotPlacement', 'player1LastShotFhBh',\n",
    "    'player1LastShotResult'\n",
    "]\n",
    "\n",
    "# Reorder the columns\n",
    "point_df = point_df.reindex(columns=desired_order)"
   ]
  },
  {
   "cell_type": "markdown",
   "id": "2b3f3268-eac6-4b0d-83d8-0b943d927015",
   "metadata": {},
   "source": [
    "### Error Check: \n",
    "#### Check if the columns and their order are the same"
   ]
  },
  {
   "cell_type": "code",
   "execution_count": null,
   "id": "fdead9e8-666d-4d5a-82b6-f3691aae7185",
   "metadata": {},
   "outputs": [],
   "source": [
    "print(point_df.shape)\n",
    "print(point_df_copy.shape)"
   ]
  },
  {
   "cell_type": "code",
   "execution_count": null,
   "id": "48cf85be-dfd1-4cd0-a548-be645e166da8",
   "metadata": {},
   "outputs": [],
   "source": [
    "# Get the set of column names for each DataFrame\n",
    "point_df_columns = set(point_df.columns)\n",
    "point_df_copy_columns = set(point_df_copy.columns)\n",
    "\n",
    "# Find the column names unique to each DataFrame\n",
    "unique_to_point_df = point_df_columns - point_df_copy_columns\n",
    "unique_to_point_df_copy = point_df_copy_columns - point_df_columns\n",
    "\n",
    "# Output the results\n",
    "if unique_to_point_df:\n",
    "    print(\"Columns unique to point_df:\", unique_to_point_df)\n",
    "else:\n",
    "    print(\"All columns in point_df are also in point_df_copy\")\n",
    "\n",
    "if unique_to_point_df_copy:\n",
    "    print(\"Columns unique to point_df_copy:\", unique_to_point_df_copy)\n",
    "else:\n",
    "    print(\"All columns in point_df_copy are also in point_df\")\n"
   ]
  },
  {
   "cell_type": "code",
   "execution_count": null,
   "id": "b01dbfd6-606c-417f-b2c8-a53b889f67e9",
   "metadata": {},
   "outputs": [],
   "source": [
    "# Check if the columns and their order are the same\n",
    "if all(point_df.columns == point_df_copy.columns):\n",
    "    print(\"Check Passed: Same columns\")\n",
    "else:\n",
    "    print(\"Check Failed: Different columns\")\n",
    "\n",
    "# Check if the columns contain the same data\n",
    "if point_df.equals(point_df_copy):\n",
    "    print(\"Check Passed: Same data\")\n",
    "else:\n",
    "    print(\"Check Failed: Different data\")\n"
   ]
  },
  {
   "cell_type": "markdown",
   "id": "0b51b1c2-8a26-4b5a-8a86-c08c7738172b",
   "metadata": {},
   "source": [
    "## Warning: All nan to \"\"\n",
    "### Alterating Data"
   ]
  },
  {
   "cell_type": "code",
   "execution_count": null,
   "id": "c6f8badd-f2e3-469e-a885-2ce2f56a9c49",
   "metadata": {},
   "outputs": [],
   "source": [
    "# Change Na to \"\" Empty String\n",
    "\n",
    "# Assuming point_df is your DataFrame\n",
    "# Replace NaN, None, and NA values with empty strings in point_df\n",
    "point_df.replace([pd.NA, None, pd.NaT, float('nan')], \"\", inplace=True)"
   ]
  },
  {
   "cell_type": "markdown",
   "id": "67a89dc9-8346-46c7-abd1-c35e3d60513d",
   "metadata": {},
   "source": [
    "# PRINT POINTCSV VISUALS"
   ]
  },
  {
   "cell_type": "code",
   "execution_count": null,
   "id": "bff13b81-595a-4b19-ad74-16ac9db8735e",
   "metadata": {},
   "outputs": [],
   "source": [
    "# Save point_df to CSV file\n",
    "\n",
    "# Assuming point_df is your DataFrame and player1Name and player2Name are the names from the first row\n",
    "player1NameNoSpace = point_df.iloc[0]['player1Name'].replace(\" \", \"\")\n",
    "player2NameNoSpace = point_df.iloc[0]['player2Name'].replace(\" \", \"\")\n",
    "\n",
    "# Save DataFrame to CSV file with modified player names\n",
    "point_df.to_csv(f'Point_Visuals_{player1NameNoSpace}_{player2NameNoSpace}.csv', index=False)\n"
   ]
  },
  {
   "cell_type": "markdown",
   "id": "29c55fac-8013-4892-b868-89894561453c",
   "metadata": {},
   "source": [
    "## Warning: Creates Copy of point_df called point_df_for_viewer"
   ]
  },
  {
   "cell_type": "code",
   "execution_count": null,
   "id": "6068f39f-7f61-4a09-8b29-07adc9b52e83",
   "metadata": {},
   "outputs": [],
   "source": [
    "point_df_for_viewer = point_df.copy()"
   ]
  },
  {
   "cell_type": "markdown",
   "id": "61805d4e-5536-411e-8ca9-ff030b0832f4",
   "metadata": {},
   "source": [
    "## Warning: Removing missing start time points\n",
    "### Removing Data"
   ]
  },
  {
   "cell_type": "code",
   "execution_count": null,
   "id": "cf9d32a6-260b-4853-8cd8-938b31da7e5d",
   "metadata": {},
   "outputs": [],
   "source": [
    "# Assuming pointdf is a DataFrame\n",
    "\n",
    "# Display rows where 'isPointStart' is equal to 1 and 'pointStartTime' is NaN in pointdf\n",
    "missing_start_time = point_df_for_viewer[point_df_for_viewer['Position'].isna() | (point_df_for_viewer['Position'] == \"\")]\n",
    "print(\"Rows with missing start time:\")\n",
    "print(missing_start_time)\n",
    "\n"
   ]
  },
  {
   "cell_type": "code",
   "execution_count": null,
   "id": "3ba26cf5-4348-4b5b-a8bf-c1f9b8a2ceec",
   "metadata": {},
   "outputs": [],
   "source": [
    "# Remove those rows from pointdf\n",
    "point_df_for_viewer = point_df_for_viewer.drop(missing_start_time.index)"
   ]
  },
  {
   "cell_type": "markdown",
   "id": "7fac9366-7862-40b1-8ff6-6c6dbafe2f5f",
   "metadata": {},
   "source": [
    "## Warning: Changing Value of atNetPlayer1 Column\n",
    "### Alterating Data"
   ]
  },
  {
   "cell_type": "code",
   "execution_count": null,
   "id": "0151b1a2-f1c5-4c47-be07-dd11421feba8",
   "metadata": {},
   "outputs": [],
   "source": [
    "# Change Value Names for Match Viewer Output\n",
    "\n",
    "# Assuming point_df is your DataFrame and player1Name is the name from the first row\n",
    "player1Name = point_df_for_viewer.iloc[0]['player1Name']\n",
    "\n",
    "# Replace values in the 'atNetPlayer1' column\n",
    "point_df_for_viewer['atNetPlayer1'] = point_df_for_viewer['atNetPlayer1'].replace({0: \"\", 1: player1Name})"
   ]
  },
  {
   "cell_type": "markdown",
   "id": "02180980-7ed2-480a-9a10-c8b4934278ec",
   "metadata": {},
   "source": [
    "## Warning: All nan to \"\"\n",
    "### Alterating Data"
   ]
  },
  {
   "cell_type": "code",
   "execution_count": null,
   "id": "c8ab99a6-731d-4115-b26d-77570e56d5ba",
   "metadata": {},
   "outputs": [],
   "source": [
    "# Change Na to \"\" Empty String\n",
    "\n",
    "# Assuming point_df is your DataFrame\n",
    "# Replace NaN, None, and NA values with empty strings in point_df\n",
    "point_df_for_viewer.replace([pd.NA, None, pd.NaT, float('nan')], \"\", inplace=True)"
   ]
  },
  {
   "cell_type": "code",
   "execution_count": null,
   "id": "4839c1ce-aa3a-4a98-8ed1-656c39ae9a13",
   "metadata": {},
   "outputs": [],
   "source": []
  },
  {
   "cell_type": "markdown",
   "id": "c69c7527-21c8-4a50-9cb2-7ccc9e48e1b4",
   "metadata": {},
   "source": [
    "# Print POINTCSV UPLOAD"
   ]
  },
  {
   "cell_type": "code",
   "execution_count": null,
   "id": "e437d833-f566-4a1b-805c-3ec1b674f4e3",
   "metadata": {},
   "outputs": [],
   "source": [
    "player1Name = point_df_for_viewer.iloc[0]['player1Name'].replace(\" \", \"\")\n",
    "player2Name = point_df_for_viewer.iloc[0]['player2Name'].replace(\" \", \"\")\n",
    "\n",
    "# Save DataFrame to CSV file with modified player names\n",
    "point_df_for_viewer.to_csv(f'Point_Upload_Website_{player1Name}_{player2Name}.csv', index=False)\n",
    "point_df_for_viewer.to_json(f'Point_Upload_Website_{player1Name}_{player2Name}.json', orient='records')"
   ]
  },
  {
   "cell_type": "markdown",
   "id": "8c455bbf-9406-470f-aa5e-e425112b7616",
   "metadata": {},
   "source": [
    "# REMINDER: AT THIS POINT, NEED TO APPEND Position Timestamps to POINT FOR UPLOAD"
   ]
  },
  {
   "cell_type": "code",
   "execution_count": null,
   "id": "bac20398-32b6-443c-91c8-b846081258ee",
   "metadata": {},
   "outputs": [],
   "source": []
  },
  {
   "cell_type": "markdown",
   "id": "c00e49c8-0479-47e8-bf83-28c6d57da209",
   "metadata": {},
   "source": [
    "# EDA"
   ]
  },
  {
   "cell_type": "markdown",
   "id": "735f9aa0-d40c-4c43-94a8-d97bbf920d60",
   "metadata": {},
   "source": [
    "## Shot CSV EDA"
   ]
  },
  {
   "cell_type": "code",
   "execution_count": null,
   "id": "fc732ce1-8de6-4248-a8b2-228f4934eebd",
   "metadata": {},
   "outputs": [],
   "source": [
    "# Can input CSV Directly here for statistics functions\n",
    "\n",
    "# your_file_name = \"filename.csv\"\n",
    "# shot_eda = pd.read_csv(your_file_name)\n",
    "\n",
    "# if directly from notebook\n",
    "shot_eda = shot_data.copy()"
   ]
  },
  {
   "cell_type": "code",
   "execution_count": null,
   "id": "4f834479-9c3d-4279-a799-99a8f595a08f",
   "metadata": {},
   "outputs": [],
   "source": [
    "player1Name = shot_eda.iloc[0]['player1Name']\n",
    "\n",
    "# Filter shot_data based on the conditions\n",
    "approach_data_player1 = shot_eda[(shot_eda['isApproach'] == 1) & (shot_eda['shotHitBy'] == player1Name)]\n",
    "\n",
    "# Count the distinct pointNumbers\n",
    "distinct_point_numbers = approach_data_player1['pointNumber'].nunique()\n",
    "\n",
    "# Print the result\n",
    "print(f\"Number of Approach Shots hit by {player1Name}: {distinct_point_numbers}\" )\n",
    "\n",
    "# print(approach_data_player1)\n"
   ]
  },
  {
   "cell_type": "code",
   "execution_count": null,
   "id": "90b77205-22df-4bd4-96a2-4dcc848e990a",
   "metadata": {},
   "outputs": [],
   "source": []
  },
  {
   "cell_type": "markdown",
   "id": "479c35f4-3096-40c9-9560-3d5abeb81626",
   "metadata": {},
   "source": [
    "## Point CSV EDA"
   ]
  },
  {
   "cell_type": "code",
   "execution_count": null,
   "id": "4f0feb90-99df-4639-bd31-95772fbdc57b",
   "metadata": {},
   "outputs": [],
   "source": [
    "# Can input CSV Directly here for statistics functions\n",
    "\n",
    "# your_file_name = \"filename.csv\"\n",
    "# point_df = pd.read_csv(your_file_name)\n",
    "\n"
   ]
  },
  {
   "cell_type": "code",
   "execution_count": null,
   "id": "7cfc7542-6668-4c85-9522-cc52c121fa37",
   "metadata": {},
   "outputs": [],
   "source": [
    "first_player1Name = point_df['player1Name'].iloc[0]\n",
    "\n",
    "\n",
    "\n",
    "# Display the results\n",
    "print(f\"\\nServe Results for {first_player1Name}:\")\n",
    "\n",
    "# Assuming point_df is your DataFrame\n",
    "total_serves = len(point_df[point_df['serverName'] == first_player1Name])\n",
    "first_serve_in_count = len(point_df[(point_df['serverName'] == first_player1Name) & (point_df['firstServeIn'] == 1)])\n",
    "first_serve_won_count = len(point_df[(point_df['serverName'] == first_player1Name) & (point_df['firstServeIn'] == 1) & (point_df['pointWonBy'] == first_player1Name)])\n",
    "percentage_first_serve_in = (first_serve_in_count / total_serves) * 100 if total_serves > 0 else 0\n",
    "percentage_first_serve_won = (first_serve_won_count / first_serve_in_count) * 100 if first_serve_in_count > 0 else 0\n",
    "\n",
    "second_serve_total_count = len(point_df[(point_df['serverName'] == first_player1Name) & (point_df['firstServeIn'] == 0)])\n",
    "second_serve_in_count = len(point_df[(point_df['serverName'] == first_player1Name) & (point_df['firstServeIn'] == 0)& (point_df['secondServeIn'] == 1)])\n",
    "second_serve_won_count = len(point_df[(point_df['serverName'] == first_player1Name) & (point_df['firstServeIn'] == 0)& (point_df['secondServeIn'] == 1) & (point_df['pointWonBy'] == first_player1Name)])\n",
    "percentage_second_serve_in = (second_serve_in_count / second_serve_total_count) * 100 if second_serve_total_count > 0 else 0\n",
    "percentage_second_serve_won = (second_serve_won_count / second_serve_in_count) * 100 if second_serve_in_count > 0 else 0\n",
    "\n",
    "\n",
    "\n",
    "# Display the results\n",
    "print(\"\\nTotal Serves:\", total_serves)\n",
    "print(\"First Serve In (Count):\", first_serve_in_count)\n",
    "print(\"First Serve Won (Count):\", first_serve_won_count)\n",
    "print(f\"First Serve In (%): {percentage_first_serve_in:.2f}%\")\n",
    "print(f\"First Serve Won (%): {percentage_first_serve_won:.2f}%\")\n",
    "\n",
    "print(\"Second Serve In (Count):\", second_serve_in_count)\n",
    "print(\"Second Serve Total (Count):\", second_serve_total_count)\n",
    "print(\"Second Serve Won (Count):\", second_serve_won_count)\n",
    "print(f\"Second Serve In (%): {percentage_second_serve_in:.2f}%\")\n",
    "print(f\"Second Serve Won (%): {percentage_second_serve_won:.2f}%\")\n",
    "\n",
    "# Assuming point_df is your DataFrame\n",
    "count_is_ace = (point_df[point_df['serverName'] == first_player1Name]['isAce']).sum()\n",
    "count_is_double_fault = ((point_df['serverName'] == first_player1Name) & (point_df['serveResult'] == \"Double Fault\")).sum()\n",
    "\n",
    "# Display the results\n",
    "print(\"Ace (Count):\", count_is_ace)\n",
    "print(\"Double Fault (Count):\", count_is_double_fault)\n",
    "\n",
    "# Count of rows where serverName is equal to the first row of player1Name and pointWonBy is equal to the first row of player1Name\n",
    "total_service_points_won = len(point_df[(point_df['serverName'] == first_player1Name) & (point_df['pointWonBy'] == first_player1Name)])\n",
    "total_service_points_won_percentage = total_service_points_won / total_serves *100\n",
    "\n",
    "# Display the results\n",
    "print(f\"Points Won on Serve (Count) {total_service_points_won}\")\n",
    "\n",
    "print(f\"Points Won on Serve (%): {total_service_points_won_percentage:.2f}%\")\n",
    "\n",
    "# Assuming point_df is your DataFrame\n",
    "return_points = point_df[(point_df['returnerName'] == first_player1Name) & (point_df['rallyCount'] >= 2)]\n",
    "\n",
    "total_return = len(return_points)\n",
    "returnMade = len(return_points[(return_points['rallyCount'] > 2) | ((return_points['rallyCount'] == 2) & (return_points['lastShotResult'] != 'Error'))])\n",
    "returnError = len(return_points[(return_points['lastShotResult'] == 'Error') & (return_points['rallyCount'] == 2)])\n",
    "returnWinner = len(return_points[(return_points['lastShotResult'] == 'Winner') & (return_points['rallyCount'] == 2)])\n",
    "returnMadePercentage = returnMade/total_return\n",
    "\n",
    "returnWonByPlayer1 = len(return_points[return_points['pointWonBy'] == first_player1Name])\n",
    "returnWonByPlayer1Percentage = returnWonByPlayer1 / total_return * 100 if total_return > 0 else 0\n",
    "\n",
    "deuceReturnCount = len(return_points[return_points['side'] == 'Deuce'])\n",
    "adReturnCount = len(return_points[return_points['side'] == 'Ad'])\n",
    "\n",
    "\n",
    "deuceReturnMade = len(return_points[(return_points['side'] == 'Deuce') & ((return_points['rallyCount'] > 2) | ((return_points['rallyCount'] == 2) & (return_points['lastShotResult'] != 'Error')))])\n",
    "adReturnMade = len(return_points[(return_points['side'] == 'Ad') & ((return_points['rallyCount'] > 2) | ((return_points['rallyCount'] == 2) & (return_points['lastShotResult'] != 'Error')))])\n",
    "\n",
    "deuceReturnMadePercentage = deuceReturnMade/deuceReturnCount\n",
    "adReturnMadePercentage = adReturnMade/adReturnCount\n",
    "\n",
    "deuceReturnWonByPlayer1 = len(return_points[(return_points['side'] == 'Deuce') & (return_points['pointWonBy'] == first_player1Name) | ((return_points['rallyCount'] == 2) & (return_points['lastShotResult'] != 'Error'))])\n",
    "adReturnWonByPlayer1 = len(return_points[(return_points['side'] == 'Ad') & (return_points['pointWonBy'] == first_player1Name) | ((return_points['rallyCount'] == 2) & (return_points['lastShotResult'] != 'Error'))])\n",
    "\n",
    "deuceReturnWonByPlayer1Percentage = deuceReturnWonByPlayer1 / deuceReturnCount * 100 if deuceReturnCount > 0 else 0\n",
    "adReturnWonByPlayer1Percentage = adReturnWonByPlayer1 / adReturnCount * 100 if adReturnCount > 0 else 0\n",
    "\n",
    "\n",
    "\n",
    "\n",
    "print(f\"\\nReturn Results for {first_player1Name}:\\n\")\n",
    "\n",
    "print(\"Total Return (Count):\", total_return)\n",
    "print(\"Return Won (Count):\", returnWonByPlayer1)\n",
    "print(\"Return Won (%):\", returnWonByPlayer1Percentage)\n",
    "\n",
    "print(\"\\nReturn Made (Count):\", returnMade)\n",
    "print(\"Return Made (%):\", returnMadePercentage)\n",
    "print(\"Return Error (Count):\", returnError)\n",
    "print(\"Return Winner (Count):\", returnWinner)\n",
    "\n",
    "print(\"\\nDeuce Return (Count):\", deuceReturnCount)\n",
    "print(\"Deuce Return Made (Count):\", deuceReturnMade)\n",
    "print(\"Deuce Return Made (%):\", deuceReturnMadePercentage)\n",
    "print(\"Deuce Return Won by Player1 (%):\", deuceReturnWonByPlayer1Percentage)\n",
    "print(\"Deuce Return Won by Player1 (Count):\", deuceReturnWonByPlayer1)\n",
    "\n",
    "\n",
    "print(\"\\nAd Return (Count):\", adReturnCount)\n",
    "print(\"Ad Return Made (Count):\", adReturnMade)\n",
    "print(\"Ad Return Made (%):\", adReturnMadePercentage)\n",
    "print(\"Ad Return Won by Player1 (Count):\", adReturnWonByPlayer1)\n",
    "print(\"Ad Return Won by Player1 (%):\", adReturnWonByPlayer1Percentage)\n",
    "\n",
    "# Assuming return_points is your DataFrame\n",
    "deuce_return_points = return_points[(return_points['side'] == 'Deuce') & (return_points['returnerName'] == first_player1Name) & (return_points['rallyCount'] >= 2)]\n",
    "\n",
    "# Deuce Return Points Separated by returnFhBh\n",
    "deuce_forehand_return_points = deuce_return_points[deuce_return_points['returnFhBh'] == 'Forehand']\n",
    "deuce_backhand_return_points = deuce_return_points[deuce_return_points['returnFhBh'] == 'Backhand']\n",
    "\n",
    "\n",
    "# Count for Deuce Return Points - Made\n",
    "count_deuce_forehand_made = len(deuce_forehand_return_points[(deuce_forehand_return_points['rallyCount'] > 2) | ((deuce_forehand_return_points['rallyCount'] == 2) & (deuce_forehand_return_points['lastShotResult'] != 'Error'))])\n",
    "count_deuce_backhand_made = len(deuce_backhand_return_points[(deuce_backhand_return_points['rallyCount'] > 2) | ((deuce_backhand_return_points['rallyCount'] == 2) & (deuce_backhand_return_points['lastShotResult'] != 'Error'))])\n",
    "\n",
    "# Count for Deuce Return Points - Error\n",
    "count_deuce_forehand_error = len(deuce_forehand_return_points[(deuce_forehand_return_points['lastShotResult'] == 'Error') & (deuce_forehand_return_points['rallyCount'] == 2)])\n",
    "count_deuce_backhand_error = len(deuce_backhand_return_points[(deuce_backhand_return_points['lastShotResult'] == 'Error') & (deuce_backhand_return_points['rallyCount'] == 2)])\n",
    "\n",
    "# Display the counts\n",
    "print(\"\\nDeuce Forehand Return Points - Made:\", count_deuce_forehand_made)\n",
    "print(\"Deuce Forehand Return Points - Error:\", count_deuce_forehand_error)\n",
    "\n",
    "print(\"Deuce Backhand Return Points - Made:\", count_deuce_backhand_made)\n",
    "print(\"Deuce Backhand Return Points - Error:\", count_deuce_backhand_error)\n",
    "\n",
    "# Assuming return_points is your DataFrame\n",
    "ad_return_points = return_points[(return_points['side'] == 'Ad') & (return_points['returnerName'] == first_player1Name) & (return_points['rallyCount'] >= 2)]\n",
    "\n",
    "# Ad Return Points Separated by returnFhBh\n",
    "ad_forehand_return_points = ad_return_points[ad_return_points['returnFhBh'] == 'Forehand']\n",
    "ad_backhand_return_points = ad_return_points[ad_return_points['returnFhBh'] == 'Backhand']\n",
    "\n",
    "# Count for Ad Return Points - Made\n",
    "count_ad_forehand_made = len(ad_forehand_return_points[(ad_forehand_return_points['rallyCount'] > 2) | ((ad_forehand_return_points['rallyCount'] == 2) & (ad_forehand_return_points['lastShotResult'] != 'Error'))])\n",
    "count_ad_backhand_made = len(ad_backhand_return_points[(ad_backhand_return_points['rallyCount'] > 2) | ((ad_backhand_return_points['rallyCount'] == 2) & (ad_backhand_return_points['lastShotResult'] != 'Error'))])\n",
    "\n",
    "# Count for Ad Return Points - Error\n",
    "count_ad_forehand_error = len(ad_forehand_return_points[(ad_forehand_return_points['lastShotResult'] == 'Error') & (ad_forehand_return_points['rallyCount'] == 2)])\n",
    "count_ad_backhand_error = len(ad_backhand_return_points[(ad_backhand_return_points['lastShotResult'] == 'Error') & (ad_backhand_return_points['rallyCount'] == 2)])\n",
    "\n",
    "# Display the counts\n",
    "print(\"\\nAd Forehand Return Points - Made:\", count_ad_forehand_made)\n",
    "print(\"Ad Forehand Return Points - Error:\", count_ad_forehand_error)\n",
    "\n",
    "print(\"Ad Backhand Return Points - Made:\", count_ad_backhand_made)\n",
    "print(\"Ad Backhand Return Points - Error:\", count_ad_backhand_error)\n",
    "\n",
    "print(f\"\\nAt Net Results for {first_player1Name}:\\n\")\n",
    "\n",
    "\n",
    "# Total points where atNetPlayer1 = 1\n",
    "total_at_net_player1 = len(point_df[point_df['atNetPlayer1'] == 1])\n",
    "\n",
    "# Percentage of points where atNetPlayer1 = 1 out of total points\n",
    "percentage_at_net_player1 = (total_at_net_player1 / len(point_df)) * 100 if len(point_df) > 0 else 0\n",
    "\n",
    "# Display the total count and percentage of points where atNetPlayer1 = 1\n",
    "print(f\"Total Net Points for {first_player1Name}: {total_at_net_player1}\")\n",
    "print(f\"Percentage of Net Points for {first_player1Name}: {percentage_at_net_player1:.2f}%\")\n",
    "\n",
    "# Points where atNetPlayer1 = 1 and pointWonBy = first_player1Name\n",
    "at_net_player1_and_won_by_player1 = len(point_df[(point_df['atNetPlayer1'] == 1) & (point_df['pointWonBy'] == first_player1Name)])\n",
    "\n",
    "# Percentage of points where atNetPlayer1 = 1 and pointWonBy = first_player1Name out of total points where atNetPlayer1 = 1\n",
    "percentage_at_net_player1_and_won_by_player1 = (at_net_player1_and_won_by_player1 / total_at_net_player1) * 100 if total_at_net_player1 > 0 else 0\n",
    "\n",
    "# Display the count and percentage of points where atNetPlayer1 = 1 and pointWonBy = first_player1Name\n",
    "print(f\"\\nTotal Net Points won by {first_player1Name}: {at_net_player1_and_won_by_player1}\")\n",
    "print(f\"Percentage of Net Points won by {first_player1Name}: {percentage_at_net_player1_and_won_by_player1:.2f}%\")\n"
   ]
  },
  {
   "cell_type": "code",
   "execution_count": null,
   "id": "a90e9704-73c6-4403-bb7d-1e4440fbe867",
   "metadata": {},
   "outputs": [],
   "source": [
    "# Filter points where serverName is equal to first_player1Name\n",
    "filtered_points = point_df[point_df['serverName'] == first_player1Name]\n",
    "\n",
    "# Group the filtered points by player1ServePlacement and count the occurrences\n",
    "serve_placement_counts = filtered_points.groupby('player1ServePlacement').size()\n",
    "\n",
    "\n",
    "# Iterate over filtered_points\n",
    "for index, point in filtered_points.iterrows():\n",
    "    serve_placement = point['player1ServePlacement']\n",
    "    \n",
    "    # Check if serve placement is not in serve_placement_counts\n",
    "    if serve_placement not in serve_placement_counts:\n",
    "        print(point)\n",
    "\n",
    "\n",
    "# Initialize dictionaries to store counts and percentages\n",
    "point_won_counts = {}\n",
    "point_won_percentages = {}\n",
    "print(f\"Total {len(filtered_points)}\")\n",
    "\n",
    "# Iterate over serve placements\n",
    "for serve_placement, count in serve_placement_counts.items():\n",
    "    # Filter points with the specific serve placement\n",
    "    serve_placement_points = filtered_points[filtered_points['player1ServePlacement'] == serve_placement]\n",
    "    \n",
    "    # Count points won by first_player1Name\n",
    "    point_won_count = serve_placement_points[serve_placement_points['pointWonBy'] == first_player1Name].shape[0]\n",
    "    \n",
    "    # Calculate percentage\n",
    "    point_won_percentage = (point_won_count / count) * 100 if count > 0 else 0\n",
    "    \n",
    "    # Store counts and percentages\n",
    "    point_won_counts[serve_placement] = point_won_count\n",
    "    point_won_percentages[serve_placement] = point_won_percentage\n",
    "\n",
    "# Print counts and percentages\n",
    "for serve_placement, count in serve_placement_counts.items():\n",
    "    print(f\"Serve Placement: {serve_placement}\")\n",
    "    print(f\"Total Serves: {count}\")\n",
    "    print(f\"Serves Won by {first_player1Name}: {point_won_counts.get(serve_placement, 0)}\")\n",
    "    print(f\"Percentage: {point_won_percentages.get(serve_placement, 0):.2f}%\\n\")"
   ]
  },
  {
   "cell_type": "code",
   "execution_count": null,
   "id": "cecb4031-2e96-4d9a-aef9-b36aacede064",
   "metadata": {},
   "outputs": [],
   "source": [
    "print(f\"\\nError Data for {first_player1Name}:\\n\")\n",
    "# Filter the DataFrame based on specified conditions\n",
    "total_errors = point_df[(point_df['lastShotHitBy'] == first_player1Name) & \n",
    "                           (point_df['lastShotResult'] == 'Error')]\n",
    "\n",
    "import numpy as np\n",
    "\n",
    "# Filter rows without NaN values in relevant columns\n",
    "forehand_errors = point_df[(point_df['lastShotHitBy'] == first_player1Name) & \n",
    "                           (point_df['lastShotResult'] == 'Error') &\n",
    "                           (point_df['lastShotFhBh'] == 'Forehand') &\n",
    "                           (~point_df['errorType'].isnull())]  # Ensure 'errorType' column doesn't have NaN\n",
    "\n",
    "backhand_errors = point_df[(point_df['lastShotHitBy'] == first_player1Name) & \n",
    "                           (point_df['lastShotResult'] == 'Error') &\n",
    "                           (point_df['lastShotFhBh'] == 'Backhand') &\n",
    "                           (~point_df['errorType'].isnull())]  # Ensure 'errorType' column doesn't have NaN\n",
    "\n",
    "# Count the occurrences of 'Forehand' and 'Backhand' separately\n",
    "forehand_counts = forehand_errors.shape[0]  # Count rows\n",
    "backhand_counts = backhand_errors.shape[0]  # Count rows\n",
    "\n",
    "# Print the total error counts for verification\n",
    "total_error_counts = forehand_counts + backhand_counts\n",
    "\n",
    "# Get value counts of 'errorType' for Forehand errors\n",
    "forehand_error_types = forehand_errors['errorType'].value_counts(dropna=False)  # Include NaN values in count\n",
    "\n",
    "# Get value counts of 'errorType' for Backhand errors\n",
    "backhand_error_types = backhand_errors['errorType'].value_counts(dropna=False)  # Include NaN values in count\n",
    "\n",
    "# Print the counts and error types\n",
    "print(\"Count of Total errors:\", total_error_counts)\n",
    "print(\"Count of Forehand errors:\", forehand_counts)\n",
    "print(\"Forehand Error %:\", forehand_counts/total_error_counts)\n",
    "print(\"Count of Backhand errors:\", backhand_counts)\n",
    "print(\"Backhand Error %:\", backhand_counts/total_error_counts)\n",
    "print(\"\\nForehand errors:\\n\", forehand_error_types)\n",
    "\n",
    "\n",
    "# # Group by both 'lastShotDirection' and 'errorType', and then count occurrences\n",
    "forehand_error_counts = forehand_errors.groupby(['player1LastShotPlacement', 'errorType']).size().unstack(fill_value=0)  # Fill NaN with 0\n",
    "\n",
    "print(\"\\nValue counts of 'errorType' for Forehand errors with different directions:\\n\", forehand_error_counts)\n",
    "\n",
    "\n",
    "print(\"\\nBackhand errors:\\n\", backhand_error_types)\n",
    "\n",
    "\n",
    "\n",
    "# Group by both 'lastShotDirection' and 'errorType', and then count occurrences\n",
    "backhand_error_counts = backhand_errors.groupby(['player1LastShotPlacement', 'errorType']).size().unstack(fill_value=0)  # Fill NaN with 0\n",
    "\n",
    "print(\"\\nValue counts of 'errorType' for Backhand errors with different directions:\\n\", backhand_error_counts)"
   ]
  }
 ],
 "metadata": {
  "kernelspec": {
   "display_name": "Python 3 (ipykernel)",
   "language": "python",
   "name": "python3"
  },
  "language_info": {
   "codemirror_mode": {
    "name": "ipython",
    "version": 3
   },
   "file_extension": ".py",
   "mimetype": "text/x-python",
   "name": "python",
   "nbconvert_exporter": "python",
   "pygments_lexer": "ipython3",
   "version": "3.9.18"
  }
 },
 "nbformat": 4,
 "nbformat_minor": 5
}
