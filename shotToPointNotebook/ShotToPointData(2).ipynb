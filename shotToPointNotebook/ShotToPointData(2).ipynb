{
 "cells": [
  {
   "cell_type": "markdown",
   "id": "02d3fd87-62b1-4c6c-a986-8e302a9b9189",
   "metadata": {},
   "source": [
    "#### What Require Inputs in this Notebook\n",
    "1. [Fill in File Input](#Load-in-Data)\n",
    "2. [Right or Left Hand](#Right-or-Left-Hand)\n",
    "3. [Output ShotCSV](#Output-ShotCSV)\n",
    "4. [Change to atNet (by Player) from tagger later](#At-Net)\n",
    "5. [EDA and get Stats Here](#EDA)\n",
    "6. [Output PointCSV for Visuals](#PRINT-POINTCSV-VISUALS)\n",
    "7. [Output PointCSV for Upload](#Print-POINTCSV-UPLOAD)"
   ]
  },
  {
   "cell_type": "code",
   "execution_count": null,
   "id": "087f8ef2-fde3-4d93-939d-e83220579680",
   "metadata": {},
   "outputs": [],
   "source": []
  },
  {
   "cell_type": "markdown",
   "id": "a070c44e-ea6f-4b06-b098-5246cffd01a1",
   "metadata": {},
   "source": [
    "# Table of Contents\n",
    "1. [Load in Data](#Load-in-Data)\n",
    "- Error Checking\n",
    "- Add Columns\n",
    "- [Output ShotCSV](#Output-ShotCSV)\n",
    "2. [Create Point DF](#Create-Point-DF)\n",
    "- Add Columns\n",
    "- [Output PointCSV for Visuals](#PRINT-POINTCSV-VISUALS)\n",
    "- [Output PointCSV for Upload](#Print-POINTCSV-UPLOAD)    \n",
    "        - cut out points with no timestamp position    \n",
    "        - atNetPlayer1 has values of the player name for display purposes instead of boolean values\n",
    "\n",
    "# [Click for Summary Stats and EDA HERE](#EDA)"
   ]
  },
  {
   "cell_type": "code",
   "execution_count": null,
   "id": "a8dfff2c-8cf0-47ac-8df3-8a4f7ba7fb97",
   "metadata": {},
   "outputs": [],
   "source": []
  },
  {
   "cell_type": "markdown",
   "id": "54bd1212-6d48-4857-a421-727f9cb7938d",
   "metadata": {},
   "source": [
    "### List of Changes\n",
    "\n",
    "For Shot CSV\n",
    "- Adds Point Number (Comment out if already there)\n",
    "- Changes ShotType to ShotDirection and ShotFhBh (old tagger)\n",
    "- Forward Fills these columns'gameScore','setScore', 'tiebreakScore', 'serverName', 'player1Name', 'player2Name'\n",
    "\n",
    "Columns Added:\n",
    "  - 'isDoubleFault',\n",
    "  - 'pointWonBy',\n",
    "  - 'lastShotError',\n",
    "  - 'serveResult',\n",
    "  - 'isInsideIn',\n",
    "  - 'returnerName',\n",
    "  - 'serveInPlacement',\n",
    "  - 'player1Hand',\n",
    "  - 'player2Hand',\n",
    "  - 'shotHitBy',\n",
    "  - 'isInsideOut'\n",
    "  \n",
    "\n",
    "For Point (Visuals)\n",
    "- point related info, and player1 focused stats\n",
    "\n",
    "\n",
    "For Point (Upload)\n",
    "- removes columns with no start time\n",
    "- changes \"1\" value of atNetPlayer1 to player1Name"
   ]
  },
  {
   "cell_type": "code",
   "execution_count": null,
   "id": "df1a0628-fedf-4336-a549-30a1e34e6f69",
   "metadata": {},
   "outputs": [],
   "source": []
  },
  {
   "cell_type": "markdown",
   "id": "ceb6f561-161a-4737-b5fb-1a169a3fe4d7",
   "metadata": {},
   "source": [
    "### Warning: Changes to be made soon\n",
    "- atNetPlayer1, atNetPlayer2 are being aggregated by if hitting a volley. Will be replaced by tagger values for those\n",
    "- pointWonBy is being calculated, replaced by tagger soon\n",
    "- player1Hand and player2Hand are being manually inputted\n",
    "\n",
    "### Future Changes to Notebook\n",
    "- More stats on approach shots\n",
    "- Pressure Point stats, like what did players did on 30-30 points onwards\n",
    "- Inside Out/Inside In Stats once we get matches with accurate side info\n",
    "- handling of rows where there is error on video side and the point is cut short\n",
    "\n",
    "Notes:\n",
    "- Keep empty values None Type, they will be converted to empty string \"\" right before outputting to Point CSV Only for Upload\n",
    "- Having 1 does not mean other value is boolean 0, it is None"
   ]
  },
  {
   "cell_type": "markdown",
   "id": "a7732809-2f64-4073-92cd-53c6a89ae448",
   "metadata": {},
   "source": [
    "# Notebook Start"
   ]
  },
  {
   "cell_type": "markdown",
   "id": "f8d8fd7b-43ba-4fd2-83ec-3679c6de6174",
   "metadata": {},
   "source": [
    "### Load in Data"
   ]
  },
  {
   "cell_type": "code",
   "execution_count": 1,
   "id": "d5c13104-5252-4b42-8d10-80ce021f8035",
   "metadata": {},
   "outputs": [],
   "source": [
    "import pandas as pd\n",
    "import numpy as np"
   ]
  },
  {
   "cell_type": "code",
   "execution_count": 2,
   "id": "2bdb70cd-4596-4691-855c-0477381445dd",
   "metadata": {},
   "outputs": [],
   "source": [
    "# Put your file name here\n",
    "\n",
    "your_file_name = \"Cleaned Tian_Fangran_OhioState_Full_Match - Tian_Fangran_OhioState_Full_Match.csv\"\n",
    "shot_data = pd.read_csv(your_file_name)\n",
    "\n"
   ]
  },
  {
   "cell_type": "code",
   "execution_count": 3,
   "id": "9864aae5-8bbb-4d1c-a5f0-78fac5c6b5f2",
   "metadata": {},
   "outputs": [
    {
     "data": {
      "text/plain": [
       "Index(['pointScore', 'gameScore', 'setScore', 'tiebreakScore', 'isPointStart',\n",
       "       'pointStartTime', 'isPointEnd', 'pointEndTime', 'pointEndTime.1',\n",
       "       'isBreakPoint', 'shotInRally', 'side', 'serverName', 'firstServeIn',\n",
       "       'firstServeZone', 'firstServeXCoord', 'firstServeYCoord',\n",
       "       'secondServeIn', 'secondServeZone', 'secondServeXCoord',\n",
       "       'secondServeYCoord', 'isAce', 'returnContactX', 'returnContactY',\n",
       "       'returnPlacementX', 'returnPlacementY', 'shotContactX', 'shotContactY',\n",
       "       'shotDirection', 'shotFhBh', 'isSlice', 'isVolley', 'isOverhead',\n",
       "       'isApproach', 'isDropshot', 'atNetPlayer1', 'atNetPlayer2', 'isLob',\n",
       "       'shotLocationX', 'shotLocationY', 'isWinner', 'isErrorWideR',\n",
       "       'isErrorWideL', 'isErrorNet', 'isErrorLong', 'clientTeam', 'Date',\n",
       "       'Division', 'Event', 'lineupPosition', 'matchDetails', 'opponentTeam',\n",
       "       'player1Name', 'player2Name', 'Round', 'Surface', 'Notes'],\n",
       "      dtype='object')"
      ]
     },
     "execution_count": 3,
     "metadata": {},
     "output_type": "execute_result"
    }
   ],
   "source": [
    "# Check existing columns\n",
    "\n",
    "shot_data.columns"
   ]
  },
  {
   "cell_type": "markdown",
   "id": "0bdf5560-c1db-4e3f-a2c7-bd5b44502bac",
   "metadata": {},
   "source": [
    "<!-- ### Error Check: \n",
    "#### If data includes firstServeZone but no \"1\" for firstServeIn, same for secondServeZone/secondServeIn -->"
   ]
  },
  {
   "cell_type": "markdown",
   "id": "17ef2b0e-f69f-4bd1-a652-5c3a4916b0f4",
   "metadata": {},
   "source": [
    "### Error Check: \n",
    "#### If returnData exists, separate values of \"Forehand/Backhand Crosscourt/Down the Line\" into shotFhBh and shotDirection"
   ]
  },
  {
   "cell_type": "code",
   "execution_count": 4,
   "id": "47f0fb1e-1bf6-4a74-8d79-6804b6e5721e",
   "metadata": {},
   "outputs": [
    {
     "name": "stdout",
     "output_type": "stream",
     "text": [
      "Column 'returnData' does not exist.\n"
     ]
    }
   ],
   "source": [
    "# Check if 'returnData' column exists\n",
    "if 'returnData' in shot_data.columns:\n",
    "    # Replace NaN values in returnData column with an empty string\n",
    "    shot_data['returnData'].fillna('', inplace=True)\n",
    "\n",
    "    # Check if \"backhand\" or \"forehand\" is in returnData and update shotFhBh accordingly\n",
    "    shot_data.loc[shot_data['returnData'].str.contains('backhand', case=False), 'shotFhBh'] = 'Backhand'\n",
    "    shot_data.loc[shot_data['returnData'].str.contains('forehand', case=False), 'shotFhBh'] = 'Forehand'\n",
    "\n",
    "    # Check if \"Crosscourt\" or \"Down the Line\" is in returnData and update shotDirection accordingly\n",
    "    shot_data.loc[shot_data['returnData'].str.contains('Crosscourt', case=False), 'shotDirection'] = 'Crosscourt'\n",
    "    shot_data.loc[shot_data['returnData'].str.contains('Down the Line', case=False), 'shotDirection'] = 'Down the Line'\n",
    "\n",
    "    # Display the modified shot_data\n",
    "    print(shot_data[['returnData', 'shotDirection', 'shotFhBh']].head(10))\n",
    "else:\n",
    "    print(\"Column 'returnData' does not exist.\")\n"
   ]
  },
  {
   "cell_type": "markdown",
   "id": "f3aabeea-30c8-456f-94f2-bfe4bb5909c8",
   "metadata": {},
   "source": [
    "### Error Check: \n",
    "#### Change ShotType to shotFhBh if old tagger"
   ]
  },
  {
   "cell_type": "code",
   "execution_count": 5,
   "id": "06a0b5e9-080c-4390-a093-bd3314d2db49",
   "metadata": {},
   "outputs": [
    {
     "name": "stdout",
     "output_type": "stream",
     "text": [
      "Check Passed: Column 'shotType' does not exist.\n"
     ]
    }
   ],
   "source": [
    "if 'shotType' in shot_data.columns:\n",
    "    # Rename the column\n",
    "    shot_data.rename(columns={'shotType': 'shotFhBh'}, inplace=True)\n",
    "    print(\"Column renamed successfully.\")\n",
    "else:\n",
    "    print(\"Check Passed: Column 'shotType' does not exist.\")"
   ]
  },
  {
   "cell_type": "markdown",
   "id": "a0f3181a-b9eb-4922-b9a4-475f876a529e",
   "metadata": {},
   "source": [
    "### Error Check: \n",
    "#### From Old Tagger, checks for shotFhBh doesn't include direction and fh/bh"
   ]
  },
  {
   "cell_type": "code",
   "execution_count": 6,
   "id": "d6d40c54-7290-436e-86a1-5d2c16e3eeff",
   "metadata": {},
   "outputs": [
    {
     "name": "stdout",
     "output_type": "stream",
     "text": [
      "   shotDirection  shotFhBh\n",
      "0            NaN       NaN\n",
      "1  Down the Line  Backhand\n",
      "2     Crosscourt  Forehand\n",
      "3     Crosscourt  Forehand\n",
      "4     Crosscourt  Forehand\n",
      "5            NaN       NaN\n",
      "6            NaN       NaN\n",
      "7     Crosscourt  Backhand\n",
      "8  Down the Line  Forehand\n",
      "9  Down the Line  Backhand\n"
     ]
    }
   ],
   "source": [
    "shot_data.loc[shot_data['shotFhBh'] == 'Forehand Crosscourt', 'shotDirection'] = 'Crosscourt'\n",
    "shot_data.loc[shot_data['shotFhBh'] == 'Forehand Crosscourt', 'shotFhBh'] = 'Forehand'\n",
    "\n",
    "shot_data.loc[shot_data['shotFhBh'] == 'Backhand Crosscourt', 'shotDirection'] = 'Crosscourt'\n",
    "shot_data.loc[shot_data['shotFhBh'] == 'Backhand Crosscourt', 'shotFhBh'] = 'Backhand'\n",
    "\n",
    "shot_data.loc[shot_data['shotFhBh'] == 'Forehand Down the Line', 'shotDirection'] = 'Down the Line'\n",
    "shot_data.loc[shot_data['shotFhBh'] == 'Forehand Down the Line', 'shotFhBh'] = 'Forehand'\n",
    "\n",
    "shot_data.loc[shot_data['shotFhBh'] == 'Backhand Down the Line', 'shotDirection'] = 'Down the Line'\n",
    "shot_data.loc[shot_data['shotFhBh'] == 'Backhand Down the Line', 'shotFhBh'] = 'Backhand'\n",
    "\n",
    "print(shot_data[['shotDirection', 'shotFhBh']].head(10))"
   ]
  },
  {
   "cell_type": "markdown",
   "id": "09cac2b0-cff4-4f94-a880-375f3fe3cb29",
   "metadata": {},
   "source": [
    "### Error Check: \n",
    "#### Checks Player1Name and Player2Name have Values"
   ]
  },
  {
   "cell_type": "code",
   "execution_count": 7,
   "id": "0396fcbc-16a4-47fc-a751-ff80e2752516",
   "metadata": {},
   "outputs": [
    {
     "name": "stdout",
     "output_type": "stream",
     "text": [
      "Check Passed: player1Name is not blank. Current value: Tian Fangran\n",
      "Check Passed: player2Name is not blank. Current value: Irina Cantos Siemers\n"
     ]
    }
   ],
   "source": [
    "fillInPlayer1Name = \"Choose_Player1Name_Here\"\n",
    "fillInPlayer2Name = \"Choose_Player2Name_Here\"\n",
    "\n",
    "if shot_data.at[0, 'player1Name'] == None:\n",
    "    print(\"player1Name was blank. Filling with 'fillInplayer1Name'\")\n",
    "    shot_data.at[0, 'player1Name'] = fillInPlayer1Name\n",
    "else:\n",
    "    print(\"Check Passed: player1Name is not blank. Current value:\", shot_data.at[0, 'player1Name'])\n",
    "\n",
    "# Check if player2Name is blank, if so, fill it with 'fillInplayer2Name'\n",
    "if shot_data.at[0, 'player2Name'] == None:\n",
    "    print(\"player2Name was blank. Filling with 'fillInplayer2Name'\")\n",
    "    shot_data.at[0, 'player2Name'] = fillInPlayer2Name\n",
    "else:\n",
    "    print(\"Check Passed: player2Name is not blank. Current value:\", shot_data.at[0, 'player2Name'])\n"
   ]
  },
  {
   "cell_type": "code",
   "execution_count": 8,
   "id": "88aa1ef1-d82e-4cf0-bb5d-915a9d0cce52",
   "metadata": {},
   "outputs": [],
   "source": [
    "### Error Check: \n",
    "#### Fills in PointNumber if not there"
   ]
  },
  {
   "cell_type": "code",
   "execution_count": 9,
   "id": "3d7232e3-95e2-4c74-954d-4d526e13d33d",
   "metadata": {},
   "outputs": [
    {
     "name": "stdout",
     "output_type": "stream",
     "text": [
      "Check Passed!\n",
      "\n",
      "Rows with Side that aren't Deuce or Ad: 0\n"
     ]
    }
   ],
   "source": [
    "# Filter out rows with 'side' values other than 'Deuce' and 'Ad'\n",
    "filtered_data = shot_data[shot_data['side'].isin(['Deuce', 'Ad'])]\n",
    "\n",
    "# Rows that don't meet the condition\n",
    "rows_not_meeting_condition = shot_data[~shot_data['side'].isin(['Deuce', 'Ad'])]\n",
    "\n",
    "# Count of rows not meeting the condition\n",
    "count_rows_not_meeting_condition = len(rows_not_meeting_condition)\n",
    "print(\"Check Passed!\\n\")\n",
    "\n",
    "print(\"Rows with Side that aren't Deuce or Ad:\", count_rows_not_meeting_condition)\n",
    "\n",
    "# Output rows if you want to see which rows\n",
    "# print(\"Rows not meeting the condition:\")\n",
    "# print(rows_not_meeting_condition)\n"
   ]
  },
  {
   "cell_type": "markdown",
   "id": "83cb5916-17e3-4620-b894-2cdfa9bf0747",
   "metadata": {},
   "source": [
    "### Error Check: \n",
    "#### Fills in PointNumber if not there"
   ]
  },
  {
   "cell_type": "code",
   "execution_count": 10,
   "id": "175c644d-ffdc-4c76-8429-9115d001c13c",
   "metadata": {},
   "outputs": [
    {
     "name": "stdout",
     "output_type": "stream",
     "text": [
      "Data had missing point numbers. They were filled in automatically\n"
     ]
    }
   ],
   "source": [
    " # Check if both conditions passed\n",
    "if 'pointNumber' in shot_data.columns and not shot_data['pointNumber'].isnull().any() and shot_data['pointNumber'].is_monotonic_increasing:\n",
    "    print(\"Check Passed: Point Numbers already exist\")\n",
    "\n",
    "\n",
    "# Check if pointNumber exists for every row and is not empty\n",
    "if 'pointNumber' not in shot_data.columns or shot_data['pointNumber'].isnull().any():\n",
    "    # Execute the script to calculate pointNumber\n",
    "    point_starts = (shot_data['isPointStart'] == 1)\n",
    "    shot_data['pointNumber'] = point_starts.cumsum()\n",
    "    \n",
    "    print(\"Data had missing point numbers. They were filled in automatically\")\n",
    "    \n",
    "# Check if pointNumber is in increasing order\n",
    "if not shot_data['pointNumber'].is_monotonic_increasing:\n",
    "    # Print the condition failure if the 'pointNumber' column is not in increasing order\n",
    "    print(\"Data had point numbers in the wrong order. They were filled in automatically\")\n",
    "    point_starts = (shot_data['isPointStart'] == 1)\n",
    "    shot_data['pointNumber'] = point_starts.cumsum()\n",
    "   "
   ]
  },
  {
   "cell_type": "code",
   "execution_count": 11,
   "id": "e68b3ad2-cd2a-431d-9a8f-f0e1d4982ec4",
   "metadata": {},
   "outputs": [],
   "source": [
    "# print(shot_data.tail())"
   ]
  },
  {
   "cell_type": "code",
   "execution_count": 12,
   "id": "38151b56-3c39-479a-834d-ebf2b5dc45b7",
   "metadata": {},
   "outputs": [
    {
     "name": "stdout",
     "output_type": "stream",
     "text": [
      "Check Passed: All rows have pointNumber\n"
     ]
    }
   ],
   "source": [
    "missing_pointNumber_rows = shot_data[shot_data['pointNumber'].isnull()]\n",
    "\n",
    "# Check if there are missing rows\n",
    "if len(missing_pointNumber_rows) == 0:\n",
    "    print(\"Check Passed: All rows have pointNumber\")\n",
    "else:\n",
    "    print(f\"Count of rows missing 'pointNumber': {len(missing_pointNumber_rows)}\")"
   ]
  },
  {
   "cell_type": "code",
   "execution_count": null,
   "id": "9c520c6c-cf63-4acb-956e-c97d55ded70a",
   "metadata": {},
   "outputs": [],
   "source": []
  },
  {
   "cell_type": "markdown",
   "id": "92345c3f-1893-4b78-bffe-b5fe9877995e",
   "metadata": {},
   "source": [
    "### Add Column: player1Hand, player2Hand"
   ]
  },
  {
   "cell_type": "code",
   "execution_count": 44,
   "id": "af9a7917-6704-49d6-9b23-e3d60270f8d9",
   "metadata": {},
   "outputs": [
    {
     "name": "stdout",
     "output_type": "stream",
     "text": [
      "Check Passed: player1Hand is not blank. Current value: Right\n",
      "Check Passed: player2Hand is not blank. Current value: Right\n",
      "Player1Hand Current value: Right\n",
      "Player2Hand Current value: Right\n"
     ]
    }
   ],
   "source": [
    "fillInplayer1Hand = \"Right\"\n",
    "fillInplayer2Hand = \"Right\"\n",
    "\n",
    "# Check if player1Hand key exists in shot_data, if not, create it\n",
    "if 'player1Hand' not in shot_data:\n",
    "    shot_data['player1Hand'] = None\n",
    "\n",
    "# Check if player2Hand key exists in shot_data, if not, create it\n",
    "if 'player2Hand' not in shot_data:\n",
    "    shot_data['player2Hand'] = None\n",
    "\n",
    "if shot_data.at[0, 'player1Hand'] == None:\n",
    "    print(\"player1Hand was blank. Filling with 'fillInplayer1Hand'\")\n",
    "    shot_data.at[0, 'player1Hand'] = fillInplayer1Hand\n",
    "else:\n",
    "    print(\"Check Passed: player1Hand is not blank. Current value:\", shot_data.at[0, 'player1Hand'])\n",
    "\n",
    "# Check if player2Hand is blank, if so, fill it with 'fillInplayer2Hand'\n",
    "if shot_data.at[0, 'player2Hand'] == None:\n",
    "    print(\"player2Hand was blank. Filling with 'fillInplayer2Hand'\")\n",
    "    shot_data.at[0, 'player2Hand'] = fillInplayer2Hand\n",
    "else:\n",
    "    print(\"Check Passed: player2Hand is not blank. Current value:\", shot_data.at[0, 'player2Hand'])\n",
    "\n",
    "\n",
    "print(\"Player1Hand Current value:\", shot_data.at[0, 'player1Hand'])\n",
    "print(\"Player2Hand Current value:\", shot_data.at[0, 'player2Hand'])"
   ]
  },
  {
   "cell_type": "code",
   "execution_count": null,
   "id": "e036699a-204a-4c39-8058-792fce94cbaa",
   "metadata": {},
   "outputs": [],
   "source": []
  },
  {
   "cell_type": "markdown",
   "id": "88189a3e-a8af-4c0c-b620-770e628a6bd9",
   "metadata": {},
   "source": [
    "### Filling Columns: Forward Fill\n",
    "- 'gameScore'\n",
    "- 'setScore'\n",
    "- 'serverName'\n",
    "- 'player1Name',\n",
    "- 'player2Name'\n",
    "- 'player2Hand'\n",
    "\n",
    "# Forward Fill GameScore, SetScore, tiebreakScore, serverName, player1Name, player2Name"
   ]
  },
  {
   "cell_type": "code",
   "execution_count": 45,
   "id": "203b5a5e-9f55-429f-87dd-a7807cb76b7a",
   "metadata": {},
   "outputs": [],
   "source": [
    "columns_to_fill = ['gameScore','setScore', 'serverName', 'player1Name', 'player2Name', 'player1Hand', 'player2Hand'] \n",
    "# columns_to_fill = ['gameScore','setScore', 'tiebreakScore', 'serverName', 'player1Name', 'player2Name'] \n",
    "# Add player1Hand, player2Hand when it is in tagger\n",
    "\n",
    "for column in columns_to_fill:\n",
    "    shot_data[column].replace(['', 'na'], pd.NaT, inplace=True)\n",
    "    shot_data[column] = shot_data[column].ffill()"
   ]
  },
  {
   "cell_type": "code",
   "execution_count": null,
   "id": "68bfd531-1e85-4fb2-aa51-56b8de703edb",
   "metadata": {},
   "outputs": [],
   "source": []
  },
  {
   "cell_type": "code",
   "execution_count": null,
   "id": "8bd7f82f-24de-49c0-9c5b-9192bd281cb2",
   "metadata": {},
   "outputs": [],
   "source": []
  },
  {
   "cell_type": "markdown",
   "id": "6d443221-db14-4598-bf2a-664dd32489f3",
   "metadata": {},
   "source": [
    "### Error Check: \n",
    "#### Check for NA's\n",
    "\n",
    "- all 0, except missing pointScore should match amount of tiebreak shots\n",
    "- side can have missing, for old tagger and not tagging side of each shot\n",
    "\n",
    "### Fixing:\n",
    "- Open CSV in Google Sheets (Excel will change to date format), output game, set, point Score of missing values. Then find in google sheets, adjust, redownload, and re-upload into notebook"
   ]
  },
  {
   "cell_type": "code",
   "execution_count": 46,
   "id": "4ad4d3f7-6338-4e0b-a01a-683d3db80aee",
   "metadata": {},
   "outputs": [
    {
     "name": "stdout",
     "output_type": "stream",
     "text": [
      "\n",
      "Count of NaN values for 'side' on Point Start: 0\n",
      "\n",
      "Count of Nan when gameScore is '6-6' (# tiebreak shots): 0\n",
      "\n",
      "Cout of NA's in these columns\n",
      "pointScore     0\n",
      "shotInRally    0\n",
      "gameScore      0\n",
      "setScore       0\n",
      "side           0\n",
      "serverName     0\n",
      "dtype: int64\n",
      "Count of empty strings in each column that includes at least one:\n",
      "Series([], dtype: int64)\n"
     ]
    }
   ],
   "source": [
    "# Count empty strings in each column\n",
    "empty_string_counts = (shot_data == \"\").sum()\n",
    "\n",
    "# Filter out columns with zero empty strings\n",
    "non_zero_counts = empty_string_counts[empty_string_counts > 0]\n",
    "\n",
    "# Count NaN values in 'pointScore' column when 'gameScore' is '6-6'\n",
    "na_tiebreak_count = shot_data.loc[shot_data['gameScore'] == '6-6', 'pointScore'].isna().sum()\n",
    "\n",
    "side_na_count = shot_data.loc[shot_data['isPointStart'] == 1, 'side'].isna().sum()\n",
    "print(\"\\nCount of NaN values for 'side' on Point Start:\", side_na_count)\n",
    "\n",
    "# Display the count\n",
    "print(\"\\nCount of Nan when gameScore is '6-6' (# tiebreak shots):\", na_tiebreak_count)\n",
    "\n",
    "\n",
    "# Count NaN or empty values in specified columns\n",
    "na_counts = shot_data[[ 'pointScore', 'shotInRally', 'gameScore', 'setScore', 'side', 'serverName']].isna().sum()\n",
    "\n",
    "# Display the counts\n",
    "print(f\"\\nCout of NA's in these columns\\n{na_counts}\")\n",
    "\n",
    "# Display the counts\n",
    "print(\"Count of empty strings in each column that includes at least one:\")\n",
    "print(non_zero_counts)\n",
    "\n"
   ]
  },
  {
   "cell_type": "markdown",
   "id": "308083c2-bed5-4ca9-a778-b96432ccdf2c",
   "metadata": {},
   "source": [
    "### Error Check: \n",
    "####  rows where side is empty\n",
    "- If side missing, focus on rows where (shotInRally == 1) and returns (shotInRally == 2 ), anything else can leave NA"
   ]
  },
  {
   "cell_type": "code",
   "execution_count": 47,
   "id": "1f1e630e-9578-4a13-a712-4bb4f348c001",
   "metadata": {},
   "outputs": [
    {
     "name": "stdout",
     "output_type": "stream",
     "text": [
      "Empty DataFrame\n",
      "Columns: [pointScore, gameScore, setScore, side, shotInRally]\n",
      "Index: []\n"
     ]
    }
   ],
   "source": [
    "print(shot_data[shot_data[\"side\"].isnull()][['pointScore', 'gameScore', 'setScore','side', 'shotInRally']])"
   ]
  },
  {
   "cell_type": "markdown",
   "id": "03d9caf3-3614-4b70-b81b-33bb7df7cec3",
   "metadata": {},
   "source": [
    "### Error Check: \n",
    "####  Outputs Missing shotInRally Rows"
   ]
  },
  {
   "cell_type": "code",
   "execution_count": 48,
   "id": "1c8e3ec9-bc77-4ba1-925d-e1d3ad8f75f9",
   "metadata": {},
   "outputs": [
    {
     "name": "stdout",
     "output_type": "stream",
     "text": [
      "Check Passed: No Missing shotInRally\n"
     ]
    }
   ],
   "source": [
    "empty_shot_rows = shot_data[shot_data['shotInRally'].isnull()]\n",
    "\n",
    "if not empty_shot_rows.empty:\n",
    "    # Iterate over the index of empty_shot_rows\n",
    "    for index in empty_shot_rows.index:\n",
    "        # Get the row with empty shotInRally\n",
    "        empty_row = shot_data.loc[index]\n",
    "        \n",
    "        # Get the row above it\n",
    "        if index - 1 >= 0:\n",
    "            above_row = shot_data.loc[index - 1]\n",
    "        else:\n",
    "            above_row = None\n",
    "        \n",
    "        # Get the row below it\n",
    "        if index + 1 < len(shot_data):\n",
    "            below_row = shot_data.loc[index + 1]\n",
    "        else:\n",
    "            below_row = None\n",
    "        \n",
    "        # Print the rows\n",
    "        print(\"Empty row:\")\n",
    "        print(empty_row)\n",
    "        print(\"Row above:\")\n",
    "        print(above_row)\n",
    "        print(\"Row below:\")\n",
    "        print(below_row)\n",
    "        print(\"====================\")\n",
    "else:\n",
    "    print(\"Check Passed: No Missing shotInRally\")\n"
   ]
  },
  {
   "cell_type": "markdown",
   "id": "45a917fe-c252-4ca8-ba40-c0b69b5f5b96",
   "metadata": {},
   "source": [
    "### Error Check: \n",
    "####  Check that pointNumber is increasing consecutively\n",
    "\n",
    "- if video is bad and points are cut out, this can fail and that's ok."
   ]
  },
  {
   "cell_type": "code",
   "execution_count": 49,
   "id": "381a01d7-3e2f-409c-a26b-d7c17e732e76",
   "metadata": {},
   "outputs": [
    {
     "name": "stdout",
     "output_type": "stream",
     "text": [
      "Check Passed\n"
     ]
    }
   ],
   "source": [
    "point_numbers = shot_data['pointNumber'].unique()\n",
    "\n",
    "# Check if the point numbers are consecutive\n",
    "if list(point_numbers) == list(range(1, len(point_numbers) + 1)):\n",
    "    print(\"Check Passed\")\n",
    "else:\n",
    "    print(\"Error: The 'pointNumber' column does not contain consecutive numbers starting from 1.\")\n"
   ]
  },
  {
   "cell_type": "markdown",
   "id": "74f2bd4e-0ef1-45f9-8eb3-1bce987236a8",
   "metadata": {},
   "source": [
    "### Error Check: \n",
    "#### Check same amount of start and end points"
   ]
  },
  {
   "cell_type": "code",
   "execution_count": 50,
   "id": "39dfe584-dd93-4f76-ad43-9b536e3bcf88",
   "metadata": {},
   "outputs": [
    {
     "name": "stdout",
     "output_type": "stream",
     "text": [
      "Number of rows with isPointStart = 1: 107.0\n",
      "Number of rows with isPointEnd = 1: 107.0\n"
     ]
    }
   ],
   "source": [
    "# Count of Point Start and Point End\n",
    "num_point_start = shot_data['isPointStart'].sum()\n",
    "\n",
    "# Count the number of rows where isPointEnd is equal to 1\n",
    "num_point_end = shot_data['isPointEnd'].sum()\n",
    "\n",
    "print(\"Number of rows with isPointStart = 1:\", num_point_start)\n",
    "print(\"Number of rows with isPointEnd = 1:\", num_point_end)"
   ]
  },
  {
   "cell_type": "markdown",
   "id": "5b82b4e8-e193-4430-b643-486afd26366e",
   "metadata": {},
   "source": [
    "### Error Check: \n",
    "#### Output consecutive isPointStart with no isPointEnd, and vice versa for isPointEnd\n",
    "(Sometimes Doesn't Work\""
   ]
  },
  {
   "cell_type": "code",
   "execution_count": 51,
   "id": "b9bcf70d-7a20-4f1d-b912-347063e2b20d",
   "metadata": {},
   "outputs": [
    {
     "name": "stdout",
     "output_type": "stream",
     "text": [
      "Total count where isPointStart = 1: 107\n",
      "Total count where isPointEnd = 1: 107\n",
      "Rows where isPointEnd doesn't have a corresponding isPointStart:\n",
      "Empty DataFrame\n",
      "Columns: [pointScore, gameScore, setScore, tiebreakScore, isPointStart, pointStartTime, isPointEnd, pointEndTime, pointEndTime.1, isBreakPoint, shotInRally, side, serverName, firstServeIn, firstServeZone, firstServeXCoord, firstServeYCoord, secondServeIn, secondServeZone, secondServeXCoord, secondServeYCoord, isAce, returnContactX, returnContactY, returnPlacementX, returnPlacementY, shotContactX, shotContactY, shotDirection, shotFhBh, isSlice, isVolley, isOverhead, isApproach, isDropshot, atNetPlayer1, atNetPlayer2, isLob, shotLocationX, shotLocationY, isWinner, isErrorWideR, isErrorWideL, isErrorNet, isErrorLong, clientTeam, Date, Division, Event, lineupPosition, matchDetails, opponentTeam, player1Name, player2Name, Round, Surface, Notes, pointNumber, player1Hand, player2Hand, returnerName, shotHitBy, isInsideOut, isInsideIn]\n",
      "Index: []\n",
      "\n",
      "[0 rows x 64 columns]\n",
      "Rows where isPointStart may double up without a corresponding isPointEnd:\n",
      "Empty DataFrame\n",
      "Columns: [pointScore, gameScore, setScore, tiebreakScore, isPointStart, pointStartTime, isPointEnd, pointEndTime, pointEndTime.1, isBreakPoint, shotInRally, side, serverName, firstServeIn, firstServeZone, firstServeXCoord, firstServeYCoord, secondServeIn, secondServeZone, secondServeXCoord, secondServeYCoord, isAce, returnContactX, returnContactY, returnPlacementX, returnPlacementY, shotContactX, shotContactY, shotDirection, shotFhBh, isSlice, isVolley, isOverhead, isApproach, isDropshot, atNetPlayer1, atNetPlayer2, isLob, shotLocationX, shotLocationY, isWinner, isErrorWideR, isErrorWideL, isErrorNet, isErrorLong, clientTeam, Date, Division, Event, lineupPosition, matchDetails, opponentTeam, player1Name, player2Name, Round, Surface, Notes, pointNumber, player1Hand, player2Hand, returnerName, shotHitBy, isInsideOut, isInsideIn]\n",
      "Index: []\n",
      "\n",
      "[0 rows x 64 columns]\n"
     ]
    }
   ],
   "source": [
    "# Output total start, total end\n",
    "# How many Points aren't enclosing between point start and point end \n",
    "\n",
    "# Count where isPointStart = 1\n",
    "count_isPointStart = (shot_data['isPointStart'] == 1).sum()\n",
    "\n",
    "# Count where isPointEnd = 1\n",
    "count_isPointEnd = (shot_data['isPointEnd'] == 1).sum()\n",
    "\n",
    "print(\"Total count where isPointStart = 1:\", count_isPointStart)\n",
    "print(\"Total count where isPointEnd = 1:\", count_isPointEnd)\n",
    "\n",
    "\n",
    "\n",
    "# Initialize variables to keep track of the state\n",
    "has_start = False\n",
    "overlapping_ends = []\n",
    "\n",
    "# Iterate through the DataFrame\n",
    "for i in range(len(shot_data)):\n",
    "    if shot_data['isPointStart'][i] == 1:\n",
    "        has_start = True\n",
    "    elif shot_data['isPointEnd'][i] == 1:\n",
    "        if not has_start:\n",
    "            overlapping_ends.append(i)\n",
    "        else:\n",
    "            has_start = False\n",
    "\n",
    "# Display the rows where isPointEnd doesn't have a corresponding isPointStart\n",
    "print(\"Rows where isPointEnd doesn't have a corresponding isPointStart:\")\n",
    "print(shot_data.iloc[overlapping_ends])\n",
    "\n",
    "# Initialize variables to keep track of the state\n",
    "start_indices = []\n",
    "consecutive_starts = []\n",
    "\n",
    "# Iterate through the DataFrame\n",
    "for i in range(len(shot_data) - 1):  # Iterate until the second last row\n",
    "    if shot_data['isPointStart'][i] == 1 and shot_data['isPointEnd'][i] != 1:\n",
    "        # Check if the next row also has isPointStart without a corresponding isPointEnd\n",
    "        if shot_data['isPointStart'][i + 1] == 1 and shot_data['isPointEnd'][i + 1] != 1:\n",
    "            consecutive_starts.append(i + 1)\n",
    "\n",
    "# Display the rows where isPointStart may double up without a corresponding isPointEnd\n",
    "print(\"Rows where isPointStart may double up without a corresponding isPointEnd:\")\n",
    "print(shot_data.iloc[consecutive_starts])\n"
   ]
  },
  {
   "cell_type": "code",
   "execution_count": null,
   "id": "44fd10c3-bc89-4226-b7e3-491aa0501c77",
   "metadata": {},
   "outputs": [],
   "source": []
  },
  {
   "cell_type": "code",
   "execution_count": null,
   "id": "c46a64f7-9005-4537-addd-1e599c69308b",
   "metadata": {},
   "outputs": [],
   "source": []
  },
  {
   "cell_type": "markdown",
   "id": "9c13d5e3-16ef-4422-8cdd-85e2709b7baf",
   "metadata": {},
   "source": [
    "### Error Check: \n",
    "#### Make Jan-00 back into 1-0 for Game/Set Score\n",
    "\n",
    "- In case you open in Excel and it changes score format to dates"
   ]
  },
  {
   "cell_type": "code",
   "execution_count": 52,
   "id": "eb3e80e3-f9fa-411c-b581-905d23c4b6b1",
   "metadata": {},
   "outputs": [],
   "source": [
    "# Make Scores Strings not Date Time\n",
    "columns_to_convert = ['gameScore', 'setScore'] #if no tiebreakScore\n",
    "# columns_to_convert = ['gameScore', 'setScore', 'tiebreakScore']\n",
    "shot_data[columns_to_convert] = shot_data[columns_to_convert].astype(object)"
   ]
  },
  {
   "cell_type": "code",
   "execution_count": 53,
   "id": "9668d28e-c767-45ae-ae9e-20ac2a119e4c",
   "metadata": {},
   "outputs": [],
   "source": [
    "import re\n",
    "\n",
    "# Define a mapping for month abbreviations\n",
    "month_mapping = {'Jan': '1', 'Feb': '2', 'Mar': '3', 'Apr': '4', 'May': '5', 'Jun': '6',\n",
    "                 'Jul': '7', 'Aug': '8', 'Sep': '9', 'Oct': '10', 'Nov': '11', 'Dec': '12'}\n",
    "\n",
    "# Function to convert string like 'Jan-00' to '1-0'\n",
    "def convert_score_string(score_str):\n",
    "    # Check if the string has a month abbreviation and a year ending with '00'\n",
    "    if re.match(r'^\\d{1,2}-[A-Za-z]{3}$', score_str):\n",
    "        # Extract year and month abbreviation\n",
    "        year, month = score_str.split('-')\n",
    "\n",
    "        # Remove leading zeros from the year\n",
    "        year = str(int(year))\n",
    "\n",
    "        # Replace month abbreviation with corresponding number\n",
    "        month_number = month_mapping.get(month, month)\n",
    "\n",
    "        # Concatenate the parts to form the transformed string\n",
    "        transformed_str = f'{year}-{month_number}'\n",
    "\n",
    "        return transformed_str\n",
    "\n",
    "    # Check if the string has a month abbreviation and a year with leading '0's\n",
    "    elif re.match(r'^[A-Za-z]{3}-\\d{1,2}$', score_str):\n",
    "        # Extract month abbreviation and year\n",
    "        month, year = score_str.split('-')\n",
    "\n",
    "        # Replace month abbreviation with corresponding number\n",
    "        month_number = month_mapping.get(month, month)\n",
    "\n",
    "        # Remove leading zeros from the year\n",
    "        year = str(int(year))\n",
    "\n",
    "        # Concatenate the parts to form the transformed string\n",
    "        transformed_str = f'{month_number}-{year}'\n",
    "\n",
    "        return transformed_str\n",
    "\n",
    "    return score_str\n",
    "\n",
    "# Apply the conversion function to the relevant columns in shot_data\n",
    "shot_data['gameScore'] = shot_data['gameScore'].apply(convert_score_string)\n",
    "shot_data['setScore'] = shot_data['setScore'].apply(convert_score_string)\n",
    "# shot_data['tiebreakerScore'] = shot_data['tiebreakerScore'].apply(convert_score_string)\n"
   ]
  },
  {
   "cell_type": "markdown",
   "id": "d8522b57-d0cc-43fc-b08c-47768bae5231",
   "metadata": {},
   "source": [
    "### Error Check: \n",
    "#### Check that there is no strings in set, game scores. "
   ]
  },
  {
   "cell_type": "code",
   "execution_count": 54,
   "id": "6dc62692-a1a6-4d0c-9e3a-d15f3ce06b84",
   "metadata": {},
   "outputs": [
    {
     "name": "stdout",
     "output_type": "stream",
     "text": [
      "Unique Set Scores: ['0-0' '0-1']\n",
      "Unique Game Scores: ['0-0' '1-0' '1-1' '2-1' '2-2' '2-3' '3-3' '3-4' '3-5' '1-2' '1-3' '1-4'\n",
      " '2-4']\n"
     ]
    }
   ],
   "source": [
    "# Assuming shot_data is your DataFrame\n",
    "unique_set_scores = shot_data['setScore'].unique()\n",
    "unique_game_scores = shot_data['gameScore'].unique()\n",
    "\n",
    "# Print unique values\n",
    "print(\"Unique Set Scores:\", unique_set_scores)\n",
    "print(\"Unique Game Scores:\", unique_game_scores)\n"
   ]
  },
  {
   "cell_type": "markdown",
   "id": "9aa7ed4f-7ebd-4c0b-b287-b8492bba44b6",
   "metadata": {},
   "source": [
    "# Add More Columns"
   ]
  },
  {
   "cell_type": "markdown",
   "id": "a2f877ba-2c11-4bfa-b858-e9a7ce9f400d",
   "metadata": {},
   "source": [
    "### Add Column: returnerName"
   ]
  },
  {
   "cell_type": "code",
   "execution_count": 55,
   "id": "a95e4421-a815-4347-96b0-a71ad91011a2",
   "metadata": {},
   "outputs": [
    {
     "name": "stdout",
     "output_type": "stream",
     "text": [
      "Player 1 = Tian Fangran, Player 2 = Irina Cantos Siemers\n"
     ]
    }
   ],
   "source": [
    "# Get Returner Name for Shot DF\n",
    "\n",
    "# Extract player1Name and player2Name from the first row of shot_data\n",
    "first_row_shot_df = shot_data.iloc[0]\n",
    "player1_name = first_row_shot_df['player1Name']\n",
    "player2_name = first_row_shot_df['player2Name']\n",
    "\n",
    "# # Can Also Manually inpute Player 1 and 2 name\n",
    "# player1_name = \"Kimmi Hance\"\n",
    "# player2_name = \"Malaika Rapolu\"\n",
    "\n",
    "def get_returner_name(server_name):\n",
    "    return player2_name if server_name == player1_name else player1_name\n",
    "\n",
    "# Add 'Returner Name' column to point_df using the function\n",
    "shot_data['returnerName'] = shot_data['serverName'].apply(get_returner_name)\n",
    "\n",
    "print(f\"Player 1 = {player1_name}, Player 2 = {player2_name}\")\n",
    "# print(shot_data[['serverName','returnerName']])"
   ]
  },
  {
   "cell_type": "markdown",
   "id": "7c8cd7f8-100c-4419-a4ad-057a93024379",
   "metadata": {},
   "source": [
    "### Add Column: shotHitBy"
   ]
  },
  {
   "cell_type": "code",
   "execution_count": 56,
   "id": "359b8ee1-b6f1-4bad-b4c0-e0fd39e01ae1",
   "metadata": {},
   "outputs": [],
   "source": [
    "# Add Shot Hit By for each Shot\n",
    "\n",
    "shot_data['shotHitBy'] = shot_data.apply(lambda row: row['serverName'] if row['shotInRally'] % 2 == 1 else row['returnerName'], axis=1)\n",
    "# print(shot_data[['serverName', 'shotHitBy','pointNumber', 'shotInRally']].head(20))"
   ]
  },
  {
   "cell_type": "markdown",
   "id": "14a4d9c4-ba53-4a5e-bfd1-55dfea8ad426",
   "metadata": {},
   "source": []
  },
  {
   "cell_type": "markdown",
   "id": "74920095-a63b-4e61-b350-d84587c217ae",
   "metadata": {},
   "source": [
    "### Add Column: isInsideOut, isInsideIn"
   ]
  },
  {
   "cell_type": "code",
   "execution_count": 58,
   "id": "f6d99f4c-77a8-48e4-9556-b0ff3417a2bb",
   "metadata": {},
   "outputs": [],
   "source": [
    "# Add columns for isInsideOut and isInsideIn, initially set to 0\n",
    "shot_data['isInsideOut'] = None\n",
    "shot_data['isInsideIn'] = None\n",
    "\n",
    "# Iterate through rows\n",
    "for index, row in shot_data.iterrows():\n",
    "    shotHitBy = row['shotHitBy']\n",
    "    player_hand = row['player1Hand'] if shotHitBy == row['player1Name'] else row['player2Hand']\n",
    "    \n",
    "\n",
    "    \n",
    "    if player_hand == \"Right\":\n",
    "        if row['side'] == \"Deuce\" and row['shotFhBh'] == \"Backhand\" and row['shotDirection'] == \"Crosscourt\":\n",
    "            shot_data.at[index, 'isInsideOut'] = 1\n",
    "        elif row['side'] == \"Ad\" and row['shotFhBh'] == \"Forehand\" and row['shotDirection'] == \"Crosscourt\":\n",
    "            shot_data.at[index, 'isInsideOut'] = 1\n",
    "        elif row['side'] == \"Deuce\" and row['shotFhBh'] == \"Backhand\" and row['shotDirection'] == \"Down the Line\":\n",
    "            shot_data.at[index, 'isInsideIn'] = 1\n",
    "        elif row['side'] == \"Ad\" and row['shotFhBh'] == \"Forehand\" and row['shotDirection'] == \"Down the Line\":\n",
    "            shot_data.at[index, 'isInsideIn'] = 1\n",
    "    elif player_hand == \"Left\":\n",
    "        if row['side'] == \"Ad\" and row['shotFhBh'] == \"Backhand\" and row['shotDirection'] == \"Crosscourt\":\n",
    "            shot_data.at[index, 'isInsideOut'] = 1\n",
    "        elif row['side'] == \"Deuce\" and row['shotFhBh'] == \"Forehand\" and row['shotDirection'] == \"Crosscourt\":\n",
    "            shot_data.at[index, 'isInsideOut'] = 1\n",
    "        elif row['side'] == \"Ad\" and row['shotFhBh'] == \"Backhand\" and row['shotDirection'] == \"Down the Line\":\n",
    "            shot_data.at[index, 'isInsideIn'] = 1\n",
    "        elif row['side'] == \"Deuce\" and row['shotFhBh'] == \"Forehand\" and row['shotDirection'] == \"Down the Line\":\n",
    "            shot_data.at[index, 'isInsideIn'] = 1"
   ]
  },
  {
   "cell_type": "markdown",
   "id": "5ce47455-e52a-4c29-846b-6ff44af87b62",
   "metadata": {},
   "source": [
    "### Add Column: isAce"
   ]
  },
  {
   "cell_type": "code",
   "execution_count": 59,
   "id": "a14a32f6-db9d-44e8-ad59-32b48995eb23",
   "metadata": {},
   "outputs": [],
   "source": [
    "# Add the Ace column\n",
    "shot_data['isAce'] = None\n",
    "\n",
    "for index, row in shot_data.iterrows():\n",
    "    if row['isPointEnd'] == 1:\n",
    "        if row['shotInRally'] == 1: # last point is serve\n",
    "            if (row['firstServeIn'] == 1 or row['secondServeIn'] == 1): # either first or second serve went in\n",
    "                shot_data.at[index, 'isAce'] = 1"
   ]
  },
  {
   "cell_type": "markdown",
   "id": "5beb11c5-27f4-413a-a96c-a07431d1a797",
   "metadata": {},
   "source": [
    "### Add Column: isDoubleFault"
   ]
  },
  {
   "cell_type": "code",
   "execution_count": 60,
   "id": "7365f350-9cb6-4c1a-ae51-8def184dddb4",
   "metadata": {},
   "outputs": [],
   "source": [
    "# Add the DoubleFault column\n",
    "shot_data['isDoubleFault'] = None\n",
    "\n",
    "for index, row in shot_data.iterrows():\n",
    "    if row['isPointEnd'] == 1:\n",
    "        if row['shotInRally'] == 1: # last point is serve\n",
    "            if (row['firstServeIn'] != 1 and row['secondServeIn'] != 1): # either first or second serve went in\n",
    "                shot_data.at[index, 'isDoubleFault'] = 1"
   ]
  },
  {
   "cell_type": "markdown",
   "id": "f8b2d1a4-6b15-49d8-82cf-451bf806402e",
   "metadata": {},
   "source": [
    "### Add Column: pointWonBy, lastShotError"
   ]
  },
  {
   "cell_type": "code",
   "execution_count": 61,
   "id": "d453c3e5-cf56-41a1-89ff-0db6f4ace548",
   "metadata": {},
   "outputs": [],
   "source": [
    "# Add the 'pointWonBy' column\n",
    "shot_data['pointWonBy'] = None\n",
    "\n",
    "# Add the 'lastShotError' column\n",
    "shot_data['lastShotError'] = 0\n",
    "\n",
    "for index, row in shot_data.iterrows():\n",
    "    if row['isPointEnd'] == 1:\n",
    "        if row['shotInRally'] == 1: # last point is serve\n",
    "            if row['isAce'] == 1: \n",
    "                shot_data.at[index, 'pointWonBy'] = row['serverName']\n",
    "            elif row['isDoubleFault'] == 1: \n",
    "                shot_data.at[index, 'pointWonBy'] = row['returnerName']\n",
    "\n",
    "                \n",
    "        elif row['shotInRally'] != 1:\n",
    "            if row['isErrorWideR'] == 1 or row['isErrorWideL'] == 1 or row['isErrorNet'] == 1 or row['isErrorLong'] == 1: # if error\n",
    "                shot_data.at[index, 'lastShotError'] = 1\n",
    "                \n",
    "                if row['shotInRally'] % 2 == 0:\n",
    "                    shot_data.at[index, 'pointWonBy'] = row['serverName']\n",
    "                else:\n",
    "                    shot_data.at[index, 'pointWonBy'] = row['returnerName']\n",
    "        \n",
    "            elif row['isWinner'] == 1:\n",
    "                if row['shotInRally'] % 2 == 0:\n",
    "                    shot_data.at[index, 'pointWonBy'] = row['returnerName']\n",
    "                else:\n",
    "                    shot_data.at[index, 'pointWonBy'] = row['serverName']\n"
   ]
  },
  {
   "cell_type": "markdown",
   "id": "ed0a1097-1617-4a01-94ba-e6340dbebf08",
   "metadata": {},
   "source": [
    "### Error Check: \n",
    "#### Output Point End with no pointWonBy\n"
   ]
  },
  {
   "cell_type": "code",
   "execution_count": 62,
   "id": "49a2474a-881f-4281-94cb-156ff1c947bc",
   "metadata": {},
   "outputs": [
    {
     "name": "stdout",
     "output_type": "stream",
     "text": [
      "Empty DataFrame\n",
      "Columns: [pointScore, gameScore, setScore, lastShotError, isWinner, isErrorWideR, isErrorWideL, isErrorNet, isErrorLong, pointWonBy, serverName, shotInRally]\n",
      "Index: []\n"
     ]
    }
   ],
   "source": [
    "# Missing Point End\n",
    "print(shot_data[(shot_data['isPointEnd'] == 1) & (shot_data['pointWonBy'].isnull())][['pointScore', 'gameScore','setScore', 'lastShotError', 'isWinner', 'isErrorWideR', 'isErrorWideL',\n",
    "       'isErrorNet', 'isErrorLong', 'pointWonBy', 'serverName', 'shotInRally']])\n"
   ]
  },
  {
   "cell_type": "markdown",
   "id": "4b8515de-5d31-4902-b3f0-a304940e3dfa",
   "metadata": {},
   "source": [
    "### Backward Fill: PointWonBy"
   ]
  },
  {
   "cell_type": "code",
   "execution_count": 63,
   "id": "1923cee2-b584-410b-a381-f1dc6396504b",
   "metadata": {},
   "outputs": [
    {
     "data": {
      "text/plain": [
       "0              Tian Fangran\n",
       "1              Tian Fangran\n",
       "2              Tian Fangran\n",
       "3              Tian Fangran\n",
       "4              Tian Fangran\n",
       "               ...         \n",
       "579    Irina Cantos Siemers\n",
       "580    Irina Cantos Siemers\n",
       "581    Irina Cantos Siemers\n",
       "582    Irina Cantos Siemers\n",
       "583    Irina Cantos Siemers\n",
       "Name: pointWonBy, Length: 584, dtype: object"
      ]
     },
     "execution_count": 63,
     "metadata": {},
     "output_type": "execute_result"
    }
   ],
   "source": [
    "shot_data['pointWonBy'].bfill()"
   ]
  },
  {
   "cell_type": "code",
   "execution_count": null,
   "id": "d1dd907f-1232-446e-b3ff-5eaacce279ae",
   "metadata": {},
   "outputs": [],
   "source": []
  },
  {
   "cell_type": "markdown",
   "id": "bfbb8b2d-abc2-46bc-80eb-d78bd6f66fb9",
   "metadata": {},
   "source": [
    "### Add Column: serveResult, serveInPlacement"
   ]
  },
  {
   "cell_type": "code",
   "execution_count": 64,
   "id": "318eee77-8fa0-4da0-a8da-21656b027872",
   "metadata": {},
   "outputs": [],
   "source": [
    "conditions = [\n",
    "    (shot_data['isPointStart'] == 1) & (shot_data['firstServeIn'] == 1),\n",
    "    (shot_data['isPointStart'] == 1) & (shot_data['firstServeIn'] != 1) & (shot_data['secondServeIn'] == 1),\n",
    "    (shot_data['isPointStart'] == 1) & (shot_data['firstServeIn'] != 1) & (shot_data['secondServeIn'] != 1)\n",
    "]\n",
    "\n",
    "# Define the values to be assigned for each condition\n",
    "values_result = ['1st Serve In', '2nd Serve In', 'Double Fault']\n",
    "values_placement = [shot_data['firstServeZone'], shot_data['secondServeZone'], np.nan]\n",
    "\n",
    "# Use numpy.select to assign values based on conditions\n",
    "shot_data['serveResult'] = np.select(conditions, values_result, default='')\n",
    "shot_data['serveInPlacement'] = np.select(conditions, values_placement, default='')\n",
    "\n",
    "# Now shot_data DataFrame is updated with serveResult and serveInPlacement values where isPointStart is 1\n",
    "# print(shot_data[['serveResult', 'serveInPlacement','pointScore','side']].head(60))"
   ]
  },
  {
   "cell_type": "code",
   "execution_count": null,
   "id": "9fdcfa8e-57fe-46f7-8375-a6f0a38d503d",
   "metadata": {},
   "outputs": [],
   "source": []
  },
  {
   "cell_type": "code",
   "execution_count": null,
   "id": "a722438a-d9c9-4647-b905-070152e9399b",
   "metadata": {},
   "outputs": [],
   "source": []
  },
  {
   "cell_type": "code",
   "execution_count": null,
   "id": "4388e2de-b08b-4bc2-89ed-30191a8dc3e1",
   "metadata": {},
   "outputs": [],
   "source": []
  },
  {
   "cell_type": "code",
   "execution_count": 65,
   "id": "2af189b3-2ae2-403a-91c4-a5367e417f86",
   "metadata": {},
   "outputs": [],
   "source": [
    "shot_data.replace(\"\", None, inplace=True)"
   ]
  },
  {
   "cell_type": "code",
   "execution_count": null,
   "id": "85d09601-a8f5-4957-b835-500678b3bb1a",
   "metadata": {},
   "outputs": [],
   "source": []
  },
  {
   "cell_type": "markdown",
   "id": "10658bcb-6b73-487c-bb7a-26b280781f10",
   "metadata": {},
   "source": [
    "# Double Check BEFORE Outputting"
   ]
  },
  {
   "cell_type": "code",
   "execution_count": 66,
   "id": "79424c5b-e819-4fdd-865e-80a3fc983710",
   "metadata": {},
   "outputs": [
    {
     "name": "stdout",
     "output_type": "stream",
     "text": [
      "  pointScore gameScore setScore  tiebreakScore  isPointStart  pointStartTime  \\\n",
      "0        0-0       0-0      0-0            NaN           1.0          1663.0   \n",
      "1        0-0       0-0      0-0            NaN           NaN             NaN   \n",
      "2        0-0       0-0      0-0            NaN           NaN             NaN   \n",
      "3        0-0       0-0      0-0            NaN           NaN             NaN   \n",
      "4        0-0       0-0      0-0            NaN           NaN             NaN   \n",
      "5       0-15       0-0      0-0            NaN           1.0         29046.0   \n",
      "6       0-30       0-0      0-0            NaN           1.0         72945.0   \n",
      "7       0-30       0-0      0-0            NaN           NaN             NaN   \n",
      "8       0-30       0-0      0-0            NaN           NaN             NaN   \n",
      "9       0-30       0-0      0-0            NaN           NaN             NaN   \n",
      "\n",
      "   isPointEnd  pointEndTime  pointEndTime.1  isBreakPoint  ...  player2Hand  \\\n",
      "0         NaN           NaN             NaN           NaN  ...        Right   \n",
      "1         NaN           NaN             NaN           NaN  ...        Right   \n",
      "2         NaN           NaN             NaN           NaN  ...        Right   \n",
      "3         NaN           NaN             NaN           NaN  ...        Right   \n",
      "4         1.0       11073.0             NaN           NaN  ...        Right   \n",
      "5         1.0       46666.0             NaN           NaN  ...        Right   \n",
      "6         NaN           NaN             NaN           NaN  ...        Right   \n",
      "7         NaN           NaN             NaN           NaN  ...        Right   \n",
      "8         NaN           NaN             NaN           NaN  ...        Right   \n",
      "9         NaN           NaN             NaN           NaN  ...        Right   \n",
      "\n",
      "   returnerName             shotHitBy  isInsideOut isInsideIn  isDoubleFault  \\\n",
      "0  Tian Fangran  Irina Cantos Siemers         None       None           None   \n",
      "1  Tian Fangran          Tian Fangran         None          1           None   \n",
      "2  Tian Fangran  Irina Cantos Siemers         None       None           None   \n",
      "3  Tian Fangran          Tian Fangran         None       None           None   \n",
      "4  Tian Fangran  Irina Cantos Siemers         None       None           None   \n",
      "5  Tian Fangran  Irina Cantos Siemers         None       None              1   \n",
      "6  Tian Fangran  Irina Cantos Siemers         None       None           None   \n",
      "7  Tian Fangran          Tian Fangran            1       None           None   \n",
      "8  Tian Fangran  Irina Cantos Siemers         None       None           None   \n",
      "9  Tian Fangran          Tian Fangran         None       None           None   \n",
      "\n",
      "     pointWonBy  lastShotError   serveResult  serveInPlacement  \n",
      "0          None              0  1st Serve In                 T  \n",
      "1          None              0          None              None  \n",
      "2          None              0          None              None  \n",
      "3          None              0          None              None  \n",
      "4  Tian Fangran              1          None              None  \n",
      "5  Tian Fangran              0  Double Fault               NaN  \n",
      "6          None              0  1st Serve In                 T  \n",
      "7          None              0          None              None  \n",
      "8          None              0          None              None  \n",
      "9          None              0          None              None  \n",
      "\n",
      "[10 rows x 69 columns]\n"
     ]
    }
   ],
   "source": [
    "print(shot_data.head(10))"
   ]
  },
  {
   "cell_type": "code",
   "execution_count": 67,
   "id": "7a9192e5-8f0e-4267-bdc5-7003a9dbe45d",
   "metadata": {},
   "outputs": [
    {
     "name": "stdout",
     "output_type": "stream",
     "text": [
      "    pointScore gameScore setScore  tiebreakScore  isPointStart  \\\n",
      "574      15-30       3-5      0-1            NaN           NaN   \n",
      "575      15-40       3-5      0-1            NaN           1.0   \n",
      "576      15-40       3-5      0-1            NaN           NaN   \n",
      "577      15-40       3-5      0-1            NaN           NaN   \n",
      "578      15-40       3-5      0-1            NaN           NaN   \n",
      "579      15-40       3-5      0-1            NaN           NaN   \n",
      "580      15-40       3-5      0-1            NaN           NaN   \n",
      "581      15-40       3-5      0-1            NaN           NaN   \n",
      "582      15-40       3-5      0-1            NaN           NaN   \n",
      "583      15-40       3-5      0-1            NaN           NaN   \n",
      "\n",
      "     pointStartTime  isPointEnd  pointEndTime  pointEndTime.1  isBreakPoint  \\\n",
      "574             NaN         1.0           NaN             NaN           NaN   \n",
      "575             NaN         NaN           NaN             NaN           1.0   \n",
      "576             NaN         NaN           NaN             NaN           NaN   \n",
      "577             NaN         NaN           NaN             NaN           NaN   \n",
      "578             NaN         NaN           NaN             NaN           NaN   \n",
      "579             NaN         NaN           NaN             NaN           NaN   \n",
      "580             NaN         NaN           NaN             NaN           NaN   \n",
      "581             NaN         NaN           NaN             NaN           NaN   \n",
      "582             NaN         NaN           NaN             NaN           NaN   \n",
      "583             NaN         1.0           NaN             NaN           NaN   \n",
      "\n",
      "     ...  player2Hand          returnerName             shotHitBy  \\\n",
      "574  ...        Right  Irina Cantos Siemers  Irina Cantos Siemers   \n",
      "575  ...        Right  Irina Cantos Siemers          Tian Fangran   \n",
      "576  ...        Right  Irina Cantos Siemers  Irina Cantos Siemers   \n",
      "577  ...        Right  Irina Cantos Siemers          Tian Fangran   \n",
      "578  ...        Right  Irina Cantos Siemers  Irina Cantos Siemers   \n",
      "579  ...        Right  Irina Cantos Siemers          Tian Fangran   \n",
      "580  ...        Right  Irina Cantos Siemers  Irina Cantos Siemers   \n",
      "581  ...        Right  Irina Cantos Siemers          Tian Fangran   \n",
      "582  ...        Right  Irina Cantos Siemers  Irina Cantos Siemers   \n",
      "583  ...        Right  Irina Cantos Siemers          Tian Fangran   \n",
      "\n",
      "     isInsideOut isInsideIn  isDoubleFault            pointWonBy  \\\n",
      "574         None          1           None  Irina Cantos Siemers   \n",
      "575         None       None           None                  None   \n",
      "576            1       None           None                  None   \n",
      "577         None       None           None                  None   \n",
      "578            1       None           None                  None   \n",
      "579            1       None           None                  None   \n",
      "580            1       None           None                  None   \n",
      "581         None          1           None                  None   \n",
      "582         None       None           None                  None   \n",
      "583         None       None           None  Irina Cantos Siemers   \n",
      "\n",
      "     lastShotError   serveResult  serveInPlacement  \n",
      "574              0          None              None  \n",
      "575              0  1st Serve In              Wide  \n",
      "576              0          None              None  \n",
      "577              0          None              None  \n",
      "578              0          None              None  \n",
      "579              0          None              None  \n",
      "580              0          None              None  \n",
      "581              0          None              None  \n",
      "582              0          None              None  \n",
      "583              1          None              None  \n",
      "\n",
      "[10 rows x 69 columns]\n"
     ]
    }
   ],
   "source": [
    "print(shot_data.tail(10))"
   ]
  },
  {
   "cell_type": "markdown",
   "id": "a69a017a-9959-4eca-b083-edbc8b009e78",
   "metadata": {},
   "source": [
    "# Output ShotCSV"
   ]
  },
  {
   "cell_type": "code",
   "execution_count": 68,
   "id": "cb74fcb2-47ea-43bd-b304-dd5e05f17df3",
   "metadata": {},
   "outputs": [],
   "source": [
    "# # # Ouput Improved Shot Csv HERE\n",
    "# # Assuming point_df is your DataFrame and player1Name and player2Name are the names from the first row\n",
    "player1NameNoSpace = shot_data.iloc[0]['player1Name'].replace(\" \", \"\")\n",
    "player2NameNoSpace = shot_data.iloc[0]['player2Name'].replace(\" \", \"\")\n",
    "\n",
    "# Save DataFrame to CSV file with modified player names\n",
    "shot_data.to_csv(f'Shot_Visuals_{player1NameNoSpace}_{player2NameNoSpace}.csv', index=False)"
   ]
  },
  {
   "cell_type": "code",
   "execution_count": 69,
   "id": "92ba40db-005c-47d7-86e7-fa52d25ec080",
   "metadata": {},
   "outputs": [
    {
     "data": {
      "text/plain": [
       "array([  1,   2,   3,   4,   5,   6,   7,   8,   9,  10,  11,  12,  13,\n",
       "        14,  15,  16,  17,  18,  19,  20,  21,  22,  23,  24,  25,  26,\n",
       "        27,  28,  29,  30,  31,  32,  33,  34,  35,  36,  37,  38,  39,\n",
       "        40,  41,  42,  43,  44,  45,  46,  47,  48,  49,  50,  51,  52,\n",
       "        53,  54,  55,  56,  57,  58,  59,  60,  61,  62,  63,  64,  65,\n",
       "        66,  67,  68,  69,  70,  71,  72,  73,  74,  75,  76,  77,  78,\n",
       "        79,  80,  81,  82,  83,  84,  85,  86,  87,  88,  89,  90,  91,\n",
       "        92,  93,  94,  95,  96,  97,  98,  99, 100, 101, 102, 103, 104,\n",
       "       105, 106, 107])"
      ]
     },
     "execution_count": 69,
     "metadata": {},
     "output_type": "execute_result"
    }
   ],
   "source": [
    "shot_data['pointNumber'].unique()"
   ]
  },
  {
   "cell_type": "markdown",
   "id": "dd38774c-8826-4889-b85c-7b19567048ee",
   "metadata": {},
   "source": [
    "# Below is for Point CSV"
   ]
  },
  {
   "cell_type": "markdown",
   "id": "7f1d94f6-82a3-41b6-baf6-a37171703732",
   "metadata": {},
   "source": [
    "### Create Point DF"
   ]
  },
  {
   "cell_type": "code",
   "execution_count": 70,
   "id": "e50fad00-3f62-41c7-9d3f-87d19fdc6925",
   "metadata": {},
   "outputs": [],
   "source": [
    "# Creating point_df (with only 1 row for each pointNumber)\n",
    "point_df = shot_data.drop_duplicates(subset='pointNumber')[['pointNumber']]\n",
    "# point_df.shape"
   ]
  },
  {
   "cell_type": "markdown",
   "id": "a57ecdf5-aaa6-4799-92e6-2845775401b8",
   "metadata": {},
   "source": [
    "### Add Column: player1Name, player2Name\n",
    "### Set Variable: first_player1Name, first_player2Name"
   ]
  },
  {
   "cell_type": "code",
   "execution_count": 71,
   "id": "f15c115d-4eb4-4eb3-9a6d-e4ff225c1385",
   "metadata": {},
   "outputs": [],
   "source": [
    "# Extract the first value of player1Name and player2Name from shot_data\n",
    "first_player1Name = shot_data['player1Name'].iloc[0]\n",
    "first_player2Name = shot_data['player2Name'].iloc[0]\n",
    "\n",
    "# Fill in the first value into all rows of point_df['player1Name'] and point_df['player2Name']\n",
    "point_df['player1Name'] = first_player1Name\n",
    "point_df['player2Name'] = first_player2Name"
   ]
  },
  {
   "cell_type": "markdown",
   "id": "deb74788-f2d1-4c96-98e0-9d0d3717c6a7",
   "metadata": {},
   "source": [
    "### Add Column: Scores"
   ]
  },
  {
   "cell_type": "code",
   "execution_count": 72,
   "id": "ee01bdd1-0815-4eb5-9d0b-7cd0f0749a38",
   "metadata": {},
   "outputs": [],
   "source": [
    "point_df['pointScore'] = shot_data.groupby('pointNumber')['pointScore'].first().values\n",
    "point_df['gameScore'] = shot_data.groupby('pointNumber')['gameScore'].first().values\n",
    "point_df['setScore'] = shot_data.groupby('pointNumber')['setScore'].first().values\n",
    "point_df['tiebreakScore'] = shot_data.groupby('pointNumber')['tiebreakScore'].first().values"
   ]
  },
  {
   "cell_type": "markdown",
   "id": "14fe84b7-38de-4c4a-97a2-17aca9281bd8",
   "metadata": {},
   "source": [
    "### Add Column: Side"
   ]
  },
  {
   "cell_type": "code",
   "execution_count": 73,
   "id": "4d250819-706d-4cdf-ba3e-bc2a48a323bb",
   "metadata": {},
   "outputs": [],
   "source": [
    "# Group shot_data by 'pointNumber' and get the first 'side' value for each group\n",
    "side_values = shot_data.groupby('pointNumber')['side'].first().reset_index()\n",
    "\n",
    "point_df['side'] = side_values['side'].values"
   ]
  },
  {
   "cell_type": "markdown",
   "id": "0da6808a-148a-4a16-be9a-dcf1902c385a",
   "metadata": {},
   "source": [
    "### Add Column: serverName, returnerName"
   ]
  },
  {
   "cell_type": "code",
   "execution_count": 74,
   "id": "062f1793-501f-4662-b5f9-606d4d44d97f",
   "metadata": {},
   "outputs": [],
   "source": [
    "# Adds Server and Returner Names and pointScore\n",
    "\n",
    "point_df['serverName'] = shot_data.groupby('pointNumber')['serverName'].first().values\n",
    "point_df['returnerName'] = shot_data.groupby('pointNumber')['returnerName'].first().values\n"
   ]
  },
  {
   "cell_type": "code",
   "execution_count": 75,
   "id": "04e27ed6-5293-4ef2-a98f-ce93e3b34e40",
   "metadata": {},
   "outputs": [],
   "source": [
    "client_team_value = shot_data.loc[0, 'clientTeam']\n",
    "opponent_team_value = shot_data.loc[0, 'opponentTeam']\n",
    "\n",
    "# Adding 'clientTeam' and 'opponentTeam' columns to point_df\n",
    "point_df['clientTeam'] = client_team_value\n",
    "point_df['opponentTeam'] = opponent_team_value\n"
   ]
  },
  {
   "cell_type": "markdown",
   "id": "b2aa7da7-feee-49a5-9598-71c9738584cb",
   "metadata": {},
   "source": [
    "## Warning: Will be Empty if Timestamp separate\n",
    "### Add Column: serverName, returnerName"
   ]
  },
  {
   "cell_type": "code",
   "execution_count": 76,
   "id": "bc3a101c-f6f7-410c-bae1-f248d85614df",
   "metadata": {},
   "outputs": [],
   "source": [
    "# Add Start and End times per point\n",
    "\n",
    "for index, row in shot_data.iterrows():\n",
    "    point_number = row['pointNumber']\n",
    "    \n",
    "    if row['isPointStart'] == 1:\n",
    "        point_df.loc[point_df['pointNumber'] == point_number, 'Position'] = row['pointStartTime']\n",
    "    if row['isPointEnd'] == 1:\n",
    "        point_df.loc[point_df['pointNumber'] == point_number, 'pointEndPosition'] = row['pointEndTime']\n",
    "\n",
    "# Add Duration\n",
    "point_df['Duration'] = point_df['pointEndPosition'] - point_df['Position']"
   ]
  },
  {
   "cell_type": "markdown",
   "id": "ab9a88ef-3f8a-42c1-b81c-50b03c2fc853",
   "metadata": {},
   "source": [
    "### Add Column: Rally Column\n",
    "- rallyCount (x amount)\n",
    "- rallyCountFreq (1-4,5-8,9-12,13+)"
   ]
  },
  {
   "cell_type": "code",
   "execution_count": 77,
   "id": "c69f0435-3385-448e-8d1e-f60bad6bbfb9",
   "metadata": {},
   "outputs": [],
   "source": [
    "# Find the highest shotInRally for each pointNumber in shot_data\n",
    "max_rally_per_point = shot_data.groupby('pointNumber')['shotInRally'].max().reset_index()\n",
    "point_df['rallyCount'] = list(max_rally_per_point['shotInRally'])\n",
    "\n",
    "# Add 'rallyCountFreq' column based on specified conditions\n",
    "point_df['rallyCountFreq'] = point_df['rallyCount'].apply(lambda x: '1 - 4' if 1 <= x <= 4 else ('5 - 8' if 5 <= x <= 8 else ('9 - 12' if 9 <= x <= 12 else ('13 +' if x >= 13 else 'Error'))))\n"
   ]
  },
  {
   "cell_type": "markdown",
   "id": "6d73c5aa-9ba2-428b-80e8-5a85f7fbb4a1",
   "metadata": {},
   "source": [
    "### Add Column: Serve \n",
    "- firstServeIn\n",
    "- secondServeIn\n",
    "- serveResult\n",
    "- serveInPlacement\n",
    "\n",
    "Part 2\n",
    "- serveResult\n",
    "- serveInPlacement\n",
    " \n",
    "Part 3\n",
    "- firstServeZone\n",
    "- secondServeZone"
   ]
  },
  {
   "cell_type": "code",
   "execution_count": 78,
   "id": "ab2ae70f-ad58-4d53-b229-44044ad391c8",
   "metadata": {},
   "outputs": [],
   "source": [
    "# Add firstServeIn and secondServeIn\n",
    "\n",
    "# Add firstServeIn and secondServeIn columns\n",
    "point_df['firstServeIn'] = 0\n",
    "point_df['secondServeIn'] = 0\n",
    "\n",
    "for point_number in shot_data['pointNumber'].unique():\n",
    "    # Check if firstServeIn is 1 for the given pointNumber in shot_data\n",
    "    if any((shot_data['pointNumber'] == point_number) & (shot_data['firstServeIn'] == 1)):\n",
    "        point_df.loc[point_df['pointNumber'] == point_number, 'firstServeIn'] = 1\n",
    "    \n",
    "    # Check if secondServeIn is 1 for the given pointNumber in shot_data\n",
    "    if any((shot_data['pointNumber'] == point_number) & (shot_data['secondServeIn'] == 1)):\n",
    "        point_df.loc[point_df['pointNumber'] == point_number, 'secondServeIn'] = 1\n",
    "\n",
    "#part 2\n",
    "start_points = shot_data[shot_data['isPointStart'] == 1]\n",
    "\n",
    "# Set values in point_df to corresponding values from start_points\n",
    "point_df['serveResult'] = start_points['serveResult'].values\n",
    "point_df['serveInPlacement'] = start_points['serveInPlacement'].values\n",
    "\n",
    "# part 3\n",
    "serve_zones = shot_data.loc[shot_data['shotInRally'] == 1, ['pointNumber', 'firstServeZone', 'secondServeZone', 'firstServeIn', 'secondServeIn']].drop_duplicates()\n",
    "point_df['firstServeZone'] = shot_data.groupby('pointNumber')['firstServeZone'].first().values\n",
    "point_df['secondServeZone'] = shot_data.groupby('pointNumber')['secondServeZone'].first().values"
   ]
  },
  {
   "cell_type": "markdown",
   "id": "eb67c372-56c0-41d2-b972-84b747cf0cd1",
   "metadata": {},
   "source": [
    "### Add Column: Ace"
   ]
  },
  {
   "cell_type": "code",
   "execution_count": 79,
   "id": "dccd8e5d-c4aa-42a9-9131-a950fd9c1fc3",
   "metadata": {},
   "outputs": [
    {
     "name": "stdout",
     "output_type": "stream",
     "text": [
      "    pointNumber  rallyCount  isAce\n",
      "0             1           5  False\n",
      "5             2           1  False\n",
      "6             3           5  False\n",
      "11            4           4  False\n",
      "15            5           2  False\n",
      "17            6           3  False\n",
      "20            7          10  False\n",
      "30            8           1  False\n",
      "31            9           2  False\n",
      "33           10           6  False\n",
      "39           11           4  False\n",
      "43           12           5  False\n",
      "48           13           9  False\n",
      "57           14           2  False\n"
     ]
    }
   ],
   "source": [
    "point_df['isAce'] = ((point_df['rallyCount'] == 1) & ((point_df['serveResult'] != \"Double Fault\")))\n",
    "\n",
    "# Display the resulting DataFrame\n",
    "print(point_df[['pointNumber', 'rallyCount', 'isAce']].head(14))"
   ]
  },
  {
   "cell_type": "markdown",
   "id": "3e3a3730-dac7-44f0-b03c-de912ab7b0d5",
   "metadata": {},
   "source": [
    "### Add Column: Return"
   ]
  },
  {
   "cell_type": "code",
   "execution_count": 80,
   "id": "6ad9166e-c979-4914-b749-d734d1a26bd7",
   "metadata": {},
   "outputs": [],
   "source": [
    "# print(shot_data[shot_data['shotInRally'] == 2][['shotDirection','shotFhBh','pointScore','gameScore','setScore']])"
   ]
  },
  {
   "cell_type": "code",
   "execution_count": 81,
   "id": "c8456a4a-2faf-401c-ade1-180c6c28f40a",
   "metadata": {},
   "outputs": [
    {
     "name": "stdout",
     "output_type": "stream",
     "text": [
      "    pointNumber   player1Name           player2Name pointScore gameScore  \\\n",
      "0             1  Tian Fangran  Irina Cantos Siemers        0-0       0-0   \n",
      "5             2  Tian Fangran  Irina Cantos Siemers       0-15       0-0   \n",
      "6             3  Tian Fangran  Irina Cantos Siemers       0-30       0-0   \n",
      "11            4  Tian Fangran  Irina Cantos Siemers      15-30       0-0   \n",
      "15            5  Tian Fangran  Irina Cantos Siemers      30-30       0-0   \n",
      "17            6  Tian Fangran  Irina Cantos Siemers      40-30       0-0   \n",
      "20            7  Tian Fangran  Irina Cantos Siemers      40-40       0-0   \n",
      "30            8  Tian Fangran  Irina Cantos Siemers        0-0       1-0   \n",
      "31            9  Tian Fangran  Irina Cantos Siemers       0-15       1-0   \n",
      "33           10  Tian Fangran  Irina Cantos Siemers       0-30       1-0   \n",
      "\n",
      "   setScore  tiebreakScore   side            serverName          returnerName  \\\n",
      "0       0-0            NaN  Deuce  Irina Cantos Siemers          Tian Fangran   \n",
      "5       0-0            NaN     Ad  Irina Cantos Siemers          Tian Fangran   \n",
      "6       0-0            NaN  Deuce  Irina Cantos Siemers          Tian Fangran   \n",
      "11      0-0            NaN     Ad  Irina Cantos Siemers          Tian Fangran   \n",
      "15      0-0            NaN  Deuce  Irina Cantos Siemers          Tian Fangran   \n",
      "17      0-0            NaN     Ad  Irina Cantos Siemers          Tian Fangran   \n",
      "20      0-0            NaN     Ad  Irina Cantos Siemers          Tian Fangran   \n",
      "30      0-0            NaN  Deuce          Tian Fangran  Irina Cantos Siemers   \n",
      "31      0-0            NaN     Ad          Tian Fangran  Irina Cantos Siemers   \n",
      "33      0-0            NaN  Deuce          Tian Fangran  Irina Cantos Siemers   \n",
      "\n",
      "    ... rallyCountFreq firstServeIn  secondServeIn   serveResult  \\\n",
      "0   ...          5 - 8            1              0  1st Serve In   \n",
      "5   ...          1 - 4            0              0  Double Fault   \n",
      "6   ...          5 - 8            1              0  1st Serve In   \n",
      "11  ...          1 - 4            0              1  2nd Serve In   \n",
      "15  ...          1 - 4            1              1  1st Serve In   \n",
      "17  ...          1 - 4            0              1  2nd Serve In   \n",
      "20  ...         9 - 12            1              0  1st Serve In   \n",
      "30  ...          1 - 4            0              0  Double Fault   \n",
      "31  ...          1 - 4            0              1  2nd Serve In   \n",
      "33  ...          5 - 8            0              1  2nd Serve In   \n",
      "\n",
      "    serveInPlacement  firstServeZone secondServeZone  isAce  returnDirection  \\\n",
      "0                  T               T            None  False    Down the Line   \n",
      "5                NaN            Wide            Wide  False             None   \n",
      "6                  T               T            None  False       Crosscourt   \n",
      "11              Wide            Wide            Wide  False              NaN   \n",
      "15                 T               T            Wide  False       Crosscourt   \n",
      "17              Wide            Wide            Wide  False              NaN   \n",
      "20              Wide            Wide            None  False              NaN   \n",
      "30               NaN            Wide            Wide  False             None   \n",
      "31              Wide               T            Wide  False    Down the Line   \n",
      "33              Wide            None            Wide  False    Down the Line   \n",
      "\n",
      "   returnFhBh  \n",
      "0    Backhand  \n",
      "5        None  \n",
      "6    Backhand  \n",
      "11        NaN  \n",
      "15   Backhand  \n",
      "17        NaN  \n",
      "20        NaN  \n",
      "30       None  \n",
      "31   Forehand  \n",
      "33   Backhand  \n",
      "\n",
      "[10 rows x 26 columns]\n"
     ]
    }
   ],
   "source": [
    "# Set the initial values of 'returnDirection' and 'returnHand' columns to None\n",
    "point_df['returnDirection'] = None\n",
    "point_df['returnFhBh'] = None\n",
    "\n",
    "# Iterate through pointNumber in shot_data\n",
    "for point_number in shot_data['pointNumber'].unique():\n",
    "    # Check if shotInRally == 2 exists for the given pointNumber\n",
    "    if 2 in shot_data.loc[shot_data['pointNumber'] == point_number, 'shotInRally'].values:\n",
    "        # Get the information from the corresponding row\n",
    "        row_with_return_info = shot_data[(shot_data['pointNumber'] == point_number) & (shot_data['shotInRally'] == 2)].iloc[0]\n",
    "\n",
    "        # Assign values to 'returnDirection' and 'returnHand' columns\n",
    "        point_df.loc[point_df['pointNumber'] == point_number, 'returnDirection'] = row_with_return_info['shotDirection']\n",
    "        point_df.loc[point_df['pointNumber'] == point_number, 'returnFhBh'] = row_with_return_info['shotFhBh']\n",
    "\n",
    "# Display the modified DataFrame\n",
    "print(point_df.head(10))"
   ]
  },
  {
   "cell_type": "markdown",
   "id": "c33cb300-0c70-49d2-bb4b-e76d4853de0a",
   "metadata": {},
   "source": [
    "### Add Column: Error Column\n",
    "- errorType"
   ]
  },
  {
   "cell_type": "code",
   "execution_count": 82,
   "id": "f10972b3-884a-4e58-9d81-ab0d9704bd23",
   "metadata": {},
   "outputs": [],
   "source": [
    "# Create an empty DataFrame to store the results\n",
    "error_results = pd.DataFrame(columns=['errorType', 'pointNumber'])\n",
    "\n",
    "# Iterate through entire shot_data\n",
    "for index, row in shot_data.iterrows():\n",
    "    pointNumber = row['pointNumber']\n",
    "    point_error_value = None\n",
    "    \n",
    "    if row['isErrorWideR'] == 1:\n",
    "        point_error_value = 'Wide Right'\n",
    "    elif row['isErrorWideL'] == 1:\n",
    "        point_error_value = 'Wide Left'\n",
    "    elif 'isErrorNet' in row and row['isErrorNet'] == 1:\n",
    "        point_error_value = 'Net'\n",
    "    elif row['isErrorLong'] == 1:\n",
    "        point_error_value = 'Long'\n",
    "    \n",
    "\n",
    "    # If an error is found, append the result to the error_results DataFrame\n",
    "    if point_error_value is not None:\n",
    "        error_results = pd.concat([error_results, pd.DataFrame({'pointNumber': [pointNumber], 'errorType': [point_error_value]})], ignore_index=True)\n",
    "\n",
    "\n",
    "# Drop duplicates based on 'pointNumber'\n",
    "error_results = error_results.drop_duplicates(subset=['pointNumber'])"
   ]
  },
  {
   "cell_type": "code",
   "execution_count": 83,
   "id": "a9b428e1-322f-4908-b89f-2a7c38667504",
   "metadata": {},
   "outputs": [],
   "source": [
    "# Create a dictionary mapping 'pointNumber' to 'errorType' in error_results\n",
    "error_type_mapping = dict(zip(error_results['pointNumber'], error_results['errorType']))\n",
    "\n",
    "# Create 'errorType' column in point_df based on the mapping\n",
    "point_df['errorType'] = point_df['pointNumber'].map(error_type_mapping)\n",
    "\n",
    "point_df = point_df.replace({np.nan: None})"
   ]
  },
  {
   "cell_type": "markdown",
   "id": "60e73b6b-2a6f-4a29-9110-010eefc4021b",
   "metadata": {},
   "source": [
    "### Add Column: Error (Returns)"
   ]
  },
  {
   "cell_type": "code",
   "execution_count": 84,
   "id": "4b6b3aa8-be4c-4fe7-ad30-f3a8b58fde86",
   "metadata": {},
   "outputs": [],
   "source": [
    "def get_return_error(row):\n",
    "    if row['rallyCount'] == 2:\n",
    "        return row['errorType']\n",
    "    else:\n",
    "        return None\n",
    "\n",
    "point_df.loc[point_df['pointNumber'] == point_number, 'serveInPlacement'] = shot_data['secondServeZone']  \n",
    "\n",
    "# Apply the functions to create the new columns\n",
    "point_df['returnError'] = point_df.apply(get_return_error, axis=1)\n"
   ]
  },
  {
   "cell_type": "code",
   "execution_count": 85,
   "id": "93ab6169-92e0-4803-82e2-b8fa8731d9d5",
   "metadata": {},
   "outputs": [],
   "source": [
    "# print(point_df[\"returnError\"].unique())\n",
    "# print(point_df[['rallyCount','returnDirection','returnFhBh']])"
   ]
  },
  {
   "cell_type": "markdown",
   "id": "9016ca68-379b-4af0-9d34-17e9dea6de06",
   "metadata": {},
   "source": [
    "### Add Column: Last Shot"
   ]
  },
  {
   "cell_type": "code",
   "execution_count": 86,
   "id": "d82dd333-70de-4a33-b493-cca692cde241",
   "metadata": {},
   "outputs": [],
   "source": [
    "point_df['lastShotDirection'] = None\n",
    "point_df['lastShotFhBh'] = None\n",
    "point_df['lastShotHitBy'] = None  \n",
    "point_df['lastShotResult'] = None  \n",
    "\n",
    "# Iterate through unique pointNumbers in shot_data\n",
    "for point_number in shot_data['pointNumber'].unique():\n",
    "    # Check if isPointEnd == 1 exists for the given pointNumber\n",
    "    if 1 in shot_data.loc[shot_data['pointNumber'] == point_number, 'isPointEnd'].values:\n",
    "        # Get the information from the corresponding row\n",
    "        row_with_lastshot_info = shot_data[(shot_data['pointNumber'] == point_number) & (shot_data['isPointEnd'] == 1)].iloc[0]\n",
    "\n",
    "        # Assign values to 'lastShotDirection' and 'lastShotFhBh' columns\n",
    "        point_df.loc[point_df['pointNumber'] == point_number, 'lastShotDirection'] = row_with_lastshot_info['shotDirection']\n",
    "        point_df.loc[point_df['pointNumber'] == point_number, 'lastShotFhBh'] = row_with_lastshot_info['shotFhBh']\n",
    "        point_df.loc[point_df['pointNumber'] == point_number, 'lastShotHitBy'] = row_with_lastshot_info['shotHitBy']\n",
    "        \n",
    "        # Determine lastShotResult based on conditions\n",
    "        if row_with_lastshot_info['isWinner'] == 1 and not row_with_lastshot_info['isAce']:\n",
    "            point_df.loc[point_df['pointNumber'] == point_number, 'lastShotResult'] = \"Winner\"\n",
    "        elif row_with_lastshot_info['lastShotError'] == 1:\n",
    "            point_df.loc[point_df['pointNumber'] == point_number, 'lastShotResult'] = \"Error\""
   ]
  },
  {
   "cell_type": "code",
   "execution_count": 87,
   "id": "c4873ff7-3158-4467-a133-554b753b6600",
   "metadata": {},
   "outputs": [],
   "source": [
    "# # Display the modified DataFrame\n",
    "# print(point_df[['rallyCount','lastShotDirection','lastShotFhBh', 'lastShotHitBy']])"
   ]
  },
  {
   "cell_type": "code",
   "execution_count": 88,
   "id": "d8f8eb4c-73cf-4dd4-ab19-60a81bcd6bc9",
   "metadata": {},
   "outputs": [
    {
     "name": "stdout",
     "output_type": "stream",
     "text": [
      "['Error' None 'Winner']\n"
     ]
    }
   ],
   "source": [
    "print(point_df['lastShotResult'].unique())"
   ]
  },
  {
   "cell_type": "markdown",
   "id": "f86354a2-0aca-4d0b-9e61-5d5f93c2a6d8",
   "metadata": {},
   "source": [
    "### Add Column: pointWonBy"
   ]
  },
  {
   "cell_type": "code",
   "execution_count": 89,
   "id": "072c95c3-a8cd-448c-8ce8-88b5288316bb",
   "metadata": {},
   "outputs": [],
   "source": [
    "# Initialize variables to keep track of the state\n",
    "prev_point_number = None\n",
    "point_won_by_list = []\n",
    "\n",
    "# Iterate through the DataFrame\n",
    "for index, row in shot_data.iterrows():\n",
    "    if row['isPointEnd'] == 1:\n",
    "        # Check if pointNumber is different and consecutively increasing\n",
    "        if prev_point_number is None or row['pointNumber'] == prev_point_number + 1:\n",
    "            # Append pointWonBy to the list\n",
    "            point_won_by_list.append(row['pointWonBy'])\n",
    "            prev_point_number = row['pointNumber']\n",
    "        else:\n",
    "            print(\"Error: Point numbers are not different or consecutively increasing.\")\n",
    "            break\n",
    "\n",
    "# Add point_won_by_list as a new column to point_df\n",
    "point_df['pointWonBy'] = point_won_by_list"
   ]
  },
  {
   "cell_type": "markdown",
   "id": "eaf01ad1-a8bd-4d4a-88fd-8a8e2402d069",
   "metadata": {},
   "source": [
    "### Error Check: \n",
    "#### player1, player2, serverName, returnerName do not have misspellings"
   ]
  },
  {
   "cell_type": "code",
   "execution_count": 90,
   "id": "5a0fd4d2-e9e5-435a-ac05-17f52f8bfef2",
   "metadata": {},
   "outputs": [
    {
     "name": "stdout",
     "output_type": "stream",
     "text": [
      "['Tian Fangran']\n",
      "['Irina Cantos Siemers']\n",
      "['Irina Cantos Siemers' 'Tian Fangran']\n",
      "['Tian Fangran' 'Irina Cantos Siemers']\n"
     ]
    }
   ],
   "source": [
    "print(point_df['player1Name'].unique())\n",
    "print(point_df['player2Name'].unique())\n",
    "print(point_df['serverName'].unique())\n",
    "print(point_df['returnerName'].unique())"
   ]
  },
  {
   "cell_type": "markdown",
   "id": "81674f01-f647-4ecb-8c11-8e8c7caa037f",
   "metadata": {},
   "source": [
    "### Error Check: \n",
    "#### pointWonBy has value that is not one of the two player names\n",
    "- References: first_player1Name, first_player2Name from above server info in point_df"
   ]
  },
  {
   "cell_type": "code",
   "execution_count": 91,
   "id": "20159d1f-49e5-4b80-94bc-0273386eeaf2",
   "metadata": {},
   "outputs": [
    {
     "name": "stdout",
     "output_type": "stream",
     "text": [
      "['Tian Fangran' 'Irina Cantos Siemers']\n",
      "Empty DataFrame\n",
      "Columns: [pointNumber, player1Name, player2Name, pointScore, gameScore, setScore, tiebreakScore, side, serverName, returnerName, clientTeam, opponentTeam, Position, pointEndPosition, Duration, rallyCount, rallyCountFreq, firstServeIn, secondServeIn, serveResult, serveInPlacement, firstServeZone, secondServeZone, isAce, returnDirection, returnFhBh, errorType, returnError, lastShotDirection, lastShotFhBh, lastShotHitBy, lastShotResult, pointWonBy]\n",
      "Index: []\n",
      "\n",
      "[0 rows x 33 columns]\n"
     ]
    }
   ],
   "source": [
    "print(point_df['pointWonBy'].unique())\n",
    "none_pointWonBy_df = point_df[~point_df['pointWonBy'].isin([first_player1Name, first_player2Name])]\n",
    "\n",
    "print(none_pointWonBy_df)"
   ]
  },
  {
   "cell_type": "markdown",
   "id": "60aebf71-65aa-4d1d-8fec-ea650c4ae3be",
   "metadata": {},
   "source": [
    "### Add Column: Break Point"
   ]
  },
  {
   "cell_type": "code",
   "execution_count": 92,
   "id": "1a721604-958f-495e-9da4-074881a8e2c0",
   "metadata": {},
   "outputs": [],
   "source": [
    "# List of values to check for in 'Name' column\n",
    "break_point_values = ['0-40', '15-40', '30-40', '40-40 (Deuce)', '40-40 (Ad)']\n",
    "\n",
    "# Create 'isBreakPoint' column in point_df\n",
    "point_df['isBreakPoint'] = point_df['pointScore'].isin(break_point_values)"
   ]
  },
  {
   "cell_type": "markdown",
   "id": "57c12014-bf30-4719-b6d9-e9ab29a33c8f",
   "metadata": {},
   "source": [
    "## Warning: Do not use if atNetPlayer1 is in shot_data\n",
    "### Add Column: atNetPlayer1, atNetPlayer2\n",
    "\n",
    "- if below says atNetPlayer1: Uncomment below Code\n",
    "- replace later with atNetPlayer1 atNetPlayer2"
   ]
  },
  {
   "cell_type": "code",
   "execution_count": 93,
   "id": "2cd27435-75e9-4673-862d-39adbeb93580",
   "metadata": {},
   "outputs": [
    {
     "name": "stdout",
     "output_type": "stream",
     "text": [
      "Column 'atNetPlayer1' exists in point_df.\n",
      "Column 'atNetPlayer2' exists in point_df.\n"
     ]
    }
   ],
   "source": [
    "# Check if 'atNetPlayer1' exists in point_df\n",
    "if 'atNetPlayer1' in shot_data.columns:\n",
    "    print(\"Column 'atNetPlayer1' exists in point_df.\")\n",
    "else:\n",
    "    print(\"Column 'atNetPlayer1' does not exist in point_df.\")\n",
    "\n",
    "\n",
    "if 'atNetPlayer2' in shot_data.columns:\n",
    "    print(\"Column 'atNetPlayer2' exists in point_df.\")\n",
    "else:\n",
    "    print(\"Column 'atNetPlayer2' does not exist in point_df.\")"
   ]
  },
  {
   "cell_type": "code",
   "execution_count": 94,
   "id": "36d51032-7be4-4e1c-81e8-6888f389660f",
   "metadata": {},
   "outputs": [],
   "source": [
    "# Add firstServeIn and secondServeIn columns\n",
    "point_df['atNetPlayer1'] = 0\n",
    "point_df['atNetPlayer2'] = 0\n",
    "\n",
    "for point_number in shot_data['pointNumber'].unique():\n",
    "    # Check if firstServeIn is 1 for the given pointNumber in shot_data\n",
    "    if any((shot_data['pointNumber'] == point_number) & (shot_data['atNetPlayer1'] == 1)):\n",
    "        point_df.loc[point_df['pointNumber'] == point_number, 'atNetPlayer1'] = 1\n",
    "\n",
    "    # Check if secondServeIn is 1 for the given pointNumber in shot_data\n",
    "    if any((shot_data['pointNumber'] == point_number) & (shot_data['atNetPlayer2'] == 1)):\n",
    "        point_df.loc[point_df['pointNumber'] == point_number, 'atNetPlayer2'] = 1"
   ]
  },
  {
   "cell_type": "code",
   "execution_count": null,
   "id": "9b309ec1-9750-45fe-a36a-a93a4909cb78",
   "metadata": {},
   "outputs": [],
   "source": []
  },
  {
   "cell_type": "markdown",
   "id": "7d091079-a2ba-485c-8abb-71acb4df66f6",
   "metadata": {},
   "source": [
    "### Add Column: setNum"
   ]
  },
  {
   "cell_type": "code",
   "execution_count": 95,
   "id": "6f762139-8377-4e82-90e1-5a6b474d0375",
   "metadata": {},
   "outputs": [],
   "source": [
    "# Extract numbers from 'setScore' and calculate the sum plus 1\n",
    "point_df['setNum'] = point_df['setScore'].apply(lambda x: sum(int(char) for char in x if char.isdigit()) + 1)"
   ]
  },
  {
   "cell_type": "code",
   "execution_count": 96,
   "id": "5321fcdc-09a6-4442-832e-8df1485658f1",
   "metadata": {},
   "outputs": [
    {
     "data": {
      "text/plain": [
       "Index(['pointNumber', 'player1Name', 'player2Name', 'pointScore', 'gameScore',\n",
       "       'setScore', 'tiebreakScore', 'side', 'serverName', 'returnerName',\n",
       "       'clientTeam', 'opponentTeam', 'Position', 'pointEndPosition',\n",
       "       'Duration', 'rallyCount', 'rallyCountFreq', 'firstServeIn',\n",
       "       'secondServeIn', 'serveResult', 'serveInPlacement', 'firstServeZone',\n",
       "       'secondServeZone', 'isAce', 'returnDirection', 'returnFhBh',\n",
       "       'errorType', 'returnError', 'lastShotDirection', 'lastShotFhBh',\n",
       "       'lastShotHitBy', 'lastShotResult', 'pointWonBy', 'isBreakPoint',\n",
       "       'atNetPlayer1', 'atNetPlayer2', 'setNum'],\n",
       "      dtype='object')"
      ]
     },
     "execution_count": 96,
     "metadata": {},
     "output_type": "execute_result"
    }
   ],
   "source": [
    "point_df.columns"
   ]
  },
  {
   "cell_type": "markdown",
   "id": "68b07b91-ef33-4314-a33a-41be146d2707",
   "metadata": {},
   "source": [
    "### Add Column: Game Number, Set Number, Game/Set/Point for each player"
   ]
  },
  {
   "cell_type": "code",
   "execution_count": 97,
   "id": "35bbb4a6-53dc-4b66-8399-5cd1d2cd4365",
   "metadata": {},
   "outputs": [],
   "source": [
    "point_df[['player1SetScore', 'player2SetScore']] = point_df['setScore'].str.split('-', expand=True)\n",
    "point_df[['player1GameScore', 'player2GameScore']] = point_df['gameScore'].str.split('-', expand=True)\n",
    "point_df[['player1PointScore', 'player2PointScore']] = point_df['pointScore'].str.split('-', expand=True)\n",
    "if not point_df['tiebreakScore'].isnull().all() and not point_df['tiebreakScore'].eq(\"\").all():\n",
    "    # Perform the operation only when tiebreakScore is not empty\n",
    "    point_df[['player1TiebreakScore', 'player2TiebreakScore']] = point_df['tiebreakScore'].str.split('-', expand=True)\n",
    "else:\n",
    "    # Set player1TiebreakScore and player2TiebreakScore to NaN\n",
    "    point_df['player1TiebreakScore'] = np.nan\n",
    "    point_df['player2TiebreakScore'] = np.nan\n",
    "    \n",
    "def calculate_game_number(score):\n",
    "    return int(score.split('-')[0]) + int(score.split('-')[1])+1\n",
    "\n",
    "# Apply the function to create the 'gameNumber' column\n",
    "point_df['gameNumber'] = point_df['gameScore'].apply(calculate_game_number)"
   ]
  },
  {
   "cell_type": "markdown",
   "id": "c07b8392-9f9d-4768-bef3-8217effe0c97",
   "metadata": {},
   "source": [
    "### Error Check: \n",
    "#### Output Game Number in order: Should be consecutive increasing. Ex: 1,2,3,4,5,6. End of Set 1. 1,2,3,4,5,6,7,8"
   ]
  },
  {
   "cell_type": "code",
   "execution_count": 98,
   "id": "07889dd3-4887-495d-9536-30d0b799b14e",
   "metadata": {},
   "outputs": [
    {
     "name": "stdout",
     "output_type": "stream",
     "text": [
      "1, 2, 3, 4, 5, 6, 7, 8, 9, 1, 2, 3, 4, 5, 6, 7, 8, 9, "
     ]
    }
   ],
   "source": [
    "game_numbers = point_df['gameNumber'].tolist()\n",
    "\n",
    "# Initialize variables\n",
    "seen = set()\n",
    "prev = None\n",
    "\n",
    "# Iterate through gameNumber column\n",
    "for num in game_numbers:\n",
    "    # If the number is not in seen or it's different from the previous one, print it\n",
    "    if num not in seen or num != prev:\n",
    "        print(num, end=', ')\n",
    "    # If the number is the same as the previous one but not consecutive, print it\n",
    "    elif num == prev and num not in seen:\n",
    "        print(num, end=', ')\n",
    "    # Update seen set and prev variable\n",
    "    seen.add(num)\n",
    "    prev = num"
   ]
  },
  {
   "cell_type": "markdown",
   "id": "528a0c89-8948-43be-8d37-b844a061d6b7",
   "metadata": {},
   "source": [
    "### Add Column: player1ServeResult"
   ]
  },
  {
   "cell_type": "code",
   "execution_count": 99,
   "id": "c2362f99-6beb-4821-8880-a7717298d872",
   "metadata": {},
   "outputs": [],
   "source": [
    "# Add the 'player1ServeResult' column\n",
    "point_df['player1ServeResult'] = None\n",
    "\n",
    "# Set player1ServeResult based on conditions\n",
    "point_df.loc[point_df['serverName'] == point_df['player1Name'], 'player1ServeResult'] = point_df['serveResult']"
   ]
  },
  {
   "cell_type": "code",
   "execution_count": 100,
   "id": "384f623f-5341-4996-b688-fd5856f77d55",
   "metadata": {},
   "outputs": [],
   "source": [
    "point_df.loc[point_df['isAce'] == True, 'player1ServeResult'] = 'Ace'\n"
   ]
  },
  {
   "cell_type": "code",
   "execution_count": 101,
   "id": "5fabf138-bbff-401e-b46c-b03c76c7374f",
   "metadata": {},
   "outputs": [],
   "source": [
    "# print(point_df['serveInPlacement'].head(10))"
   ]
  },
  {
   "cell_type": "markdown",
   "id": "12706269-25d1-4c42-8200-6e4ccdeef2ab",
   "metadata": {},
   "source": [
    "### Add Column: player1ServePlacement"
   ]
  },
  {
   "cell_type": "code",
   "execution_count": 102,
   "id": "096d87b3-5048-493d-9444-99549d3afa85",
   "metadata": {},
   "outputs": [],
   "source": [
    "# Add the 'player1ServePlacement' column\n",
    "point_df['player1ServePlacement'] = None\n",
    "\n",
    "# Set player1ServePlacement based on conditions\n",
    "point_df.loc[point_df['serverName'] == point_df['player1Name'], 'player1ServePlacement'] = point_df['side'] + ': ' + point_df['serveInPlacement']"
   ]
  },
  {
   "cell_type": "markdown",
   "id": "368139a0-a088-44d1-9603-3f15c4c9a92b",
   "metadata": {},
   "source": [
    "### Add Column: player1ReturnPlacement"
   ]
  },
  {
   "cell_type": "code",
   "execution_count": 103,
   "id": "e6c850aa-b0bc-497e-a2b8-ba9b935287b1",
   "metadata": {},
   "outputs": [],
   "source": [
    "# Add the 'player1ReturnPlacement' column\n",
    "point_df['player1ReturnPlacement'] = None\n",
    "\n",
    "# Set player1ServePlacement based on conditions\n",
    "point_df.loc[point_df['returnerName'] == point_df['player1Name'], 'player1ReturnPlacement'] = point_df['returnDirection']"
   ]
  },
  {
   "cell_type": "markdown",
   "id": "1dbe59a6-7462-470a-8655-4ac199d5c678",
   "metadata": {},
   "source": [
    "### Add Column: player1ReturnFhBh"
   ]
  },
  {
   "cell_type": "code",
   "execution_count": 104,
   "id": "12563728-af42-4207-bd96-3185ff9b1325",
   "metadata": {},
   "outputs": [],
   "source": [
    "# Add the 'player1ReturnFhBh' column\n",
    "point_df['player1ReturnFhBh'] = None\n",
    "\n",
    "# Set player1ServePlacement based on conditions\n",
    "point_df.loc[point_df['returnerName'] == point_df['player1Name'], 'player1ReturnFhBh'] = point_df['returnFhBh']"
   ]
  },
  {
   "cell_type": "markdown",
   "id": "6153038d-b0fb-4a4a-a6ef-964f5ba94d10",
   "metadata": {},
   "source": [
    "### Add Column: player1LastShotPlacement"
   ]
  },
  {
   "cell_type": "code",
   "execution_count": 105,
   "id": "8a766537-32fa-4dee-b49b-05403db0fca6",
   "metadata": {},
   "outputs": [],
   "source": [
    "# Add the 'player1LastShotFhBh' column\n",
    "point_df['player1LastShotPlacement'] = None\n",
    "\n",
    "# Set player1ServePlacement based on conditions\n",
    "point_df.loc[point_df['lastShotHitBy'] == point_df['player1Name'], 'player1LastShotPlacement'] = point_df['lastShotDirection']"
   ]
  },
  {
   "cell_type": "markdown",
   "id": "0c6cb1ae-ea60-4d85-93ba-890ed98180b4",
   "metadata": {},
   "source": [
    "### Add Column: player1LastShotFhBh"
   ]
  },
  {
   "cell_type": "code",
   "execution_count": 106,
   "id": "b3657d3b-ba7d-43e7-9735-9674e6a7a6ad",
   "metadata": {},
   "outputs": [],
   "source": [
    "# Add the 'player1LastShotFhBh' column\n",
    "point_df['player1LastShotFhBh'] = None\n",
    "\n",
    "# Set player1ServePlacement based on conditions\n",
    "point_df.loc[point_df['lastShotHitBy'] == point_df['player1Name'], 'player1LastShotFhBh'] = point_df['lastShotFhBh']"
   ]
  },
  {
   "cell_type": "markdown",
   "id": "7c843db5-492a-4b4b-9e73-18e82782b18d",
   "metadata": {},
   "source": [
    "### Add Column: player1LastShotResult"
   ]
  },
  {
   "cell_type": "code",
   "execution_count": 107,
   "id": "a5d72b7c-175e-4389-9c1d-b87c905f07fd",
   "metadata": {},
   "outputs": [],
   "source": [
    "# Add the 'player1LastShotResult' column\n",
    "point_df['player1LastShotResult'] = None\n",
    "\n",
    "# Set player1LastShotResult based on conditions, excluding 'Ace' and 'Double Fault'\n",
    "point_df.loc[\n",
    "    (point_df['lastShotHitBy'] == point_df['player1Name']) & \n",
    "    ~point_df['player1ServeResult'].isin(['Ace', 'Double Fault']), \n",
    "    'player1LastShotResult'\n",
    "] = point_df['lastShotResult']\n"
   ]
  },
  {
   "cell_type": "code",
   "execution_count": 108,
   "id": "d005cf12-d6e9-419e-9151-6fbfd9da4a63",
   "metadata": {},
   "outputs": [],
   "source": [
    "## Add Column: player2ServeResult"
   ]
  },
  {
   "cell_type": "code",
   "execution_count": 109,
   "id": "30f640bb-b8f8-4f3a-867a-bc157dfc2b25",
   "metadata": {},
   "outputs": [],
   "source": [
    "# Add the 'player2ServeResult' column\n",
    "point_df['player2ServeResult'] = None\n",
    "\n",
    "# Set player1ServeResult based on conditions\n",
    "point_df.loc[point_df['serverName'] == point_df['player2Name'], 'player2ServeResult'] = point_df['serveResult']"
   ]
  },
  {
   "cell_type": "code",
   "execution_count": 110,
   "id": "f7204d76-ebb4-488c-a1fd-20defa050fdc",
   "metadata": {},
   "outputs": [],
   "source": [
    "point_df.loc[point_df['isAce'] == True, 'player1ServeResult'] = 'Ace'\n"
   ]
  },
  {
   "cell_type": "code",
   "execution_count": 111,
   "id": "dd700927-e42e-4cca-a059-afb7e82a2c2d",
   "metadata": {},
   "outputs": [],
   "source": [
    "# print(point_df['serveInPlacement'].head(10))"
   ]
  },
  {
   "cell_type": "markdown",
   "id": "3f127274-937c-44dc-b661-0cf1394f7a55",
   "metadata": {},
   "source": [
    "### Add Column: player2ServePlacement"
   ]
  },
  {
   "cell_type": "code",
   "execution_count": 112,
   "id": "5555bf1b-130a-4504-a291-c55e14c7082e",
   "metadata": {},
   "outputs": [],
   "source": [
    "# Add the 'player1ServePlacement' column\n",
    "point_df['player2ServePlacement'] = None\n",
    "\n",
    "# Set player1ServePlacement based on conditions\n",
    "point_df.loc[point_df['serverName'] == point_df['player2Name'], 'player2ServePlacement'] = point_df['side'] + ': ' + point_df['serveInPlacement']"
   ]
  },
  {
   "cell_type": "markdown",
   "id": "ab680e05-13fa-445d-b17c-d4e917e4b0a0",
   "metadata": {},
   "source": [
    "## Add Column: player2ReturnPlacement"
   ]
  },
  {
   "cell_type": "code",
   "execution_count": 113,
   "id": "6cff1321-4e19-4f3b-a124-9447543f9836",
   "metadata": {},
   "outputs": [],
   "source": [
    "# Add the 'player2ReturnPlacement' column\n",
    "point_df['player2ReturnPlacement'] = None\n",
    "\n",
    "# Set player1ServePlacement based on conditions\n",
    "point_df.loc[point_df['returnerName'] == point_df['player2Name'], 'player2ReturnPlacement'] = point_df['returnDirection']"
   ]
  },
  {
   "cell_type": "markdown",
   "id": "9922c54f-d431-4d06-8e4f-5b5ae7db3ec4",
   "metadata": {},
   "source": [
    "### Add Column: player2ReturnFhBh"
   ]
  },
  {
   "cell_type": "code",
   "execution_count": 114,
   "id": "ab4569cf-557f-45e0-8d63-700c57ccb7d7",
   "metadata": {},
   "outputs": [],
   "source": [
    "# Add the 'player1ReturnFhBh' column\n",
    "point_df['player2ReturnFhBh'] = None\n",
    "\n",
    "# Set player1ServePlacement based on conditions\n",
    "point_df.loc[point_df['returnerName'] == point_df['player2Name'], 'player2ReturnFhBh'] = point_df['returnFhBh']"
   ]
  },
  {
   "cell_type": "markdown",
   "id": "ae86d237-6e1c-430e-9b4c-5b5a9b115a21",
   "metadata": {},
   "source": [
    "### Add Column: player2LastShotPlacement"
   ]
  },
  {
   "cell_type": "code",
   "execution_count": 115,
   "id": "9dc20090-333e-4779-93f3-734e4643bd3c",
   "metadata": {},
   "outputs": [],
   "source": [
    "# Add the 'player1LastShotFhBh' column\n",
    "point_df['player2LastShotPlacement'] = None\n",
    "\n",
    "# Set player1ServePlacement based on conditions\n",
    "point_df.loc[point_df['lastShotHitBy'] == point_df['player2Name'], 'player2LastShotPlacement'] = point_df['lastShotDirection']"
   ]
  },
  {
   "cell_type": "markdown",
   "id": "1f64ec58-4876-47f3-8312-6618e70a885b",
   "metadata": {},
   "source": [
    "### Add Column: player2LastShotFhBh"
   ]
  },
  {
   "cell_type": "code",
   "execution_count": 116,
   "id": "1e23e946-630d-4abb-8784-ba54ee2c361e",
   "metadata": {},
   "outputs": [],
   "source": [
    "# Add the 'player1LastShotFhBh' column\n",
    "point_df['player2LastShotFhBh'] = None\n",
    "\n",
    "# Set player1ServePlacement based on conditions\n",
    "point_df.loc[point_df['lastShotHitBy'] == point_df['player2Name'], 'player2LastShotFhBh'] = point_df['lastShotFhBh']"
   ]
  },
  {
   "cell_type": "markdown",
   "id": "980ec9fa-6b5c-48b5-bc75-7faee7fc6d16",
   "metadata": {},
   "source": [
    "## Add Column: player2LastShotResult"
   ]
  },
  {
   "cell_type": "code",
   "execution_count": 117,
   "id": "f2c4e04c-911c-4afc-b485-0f4236f0aa2b",
   "metadata": {},
   "outputs": [],
   "source": [
    "# Add the 'player2LastShotResult' column\n",
    "point_df['player2LastShotResult'] = None\n",
    "\n",
    "# Set player1LastShotResult based on conditions, excluding 'Ace' and 'Double Fault'\n",
    "point_df.loc[\n",
    "    (point_df['lastShotHitBy'] == point_df['player2Name']) &\n",
    "    ~point_df['player2ServeResult'].isin(['Ace', 'Double Fault']),\n",
    "    'player2LastShotResult'\n",
    "] = point_df['lastShotResult']\n"
   ]
  },
  {
   "cell_type": "code",
   "execution_count": 118,
   "id": "28c08aa1-6a66-4f0d-a28d-c159a9509fec",
   "metadata": {},
   "outputs": [
    {
     "name": "stdout",
     "output_type": "stream",
     "text": [
      "    setNum gameScore pointScore player1ServePlacement serveInPlacement\n",
      "0        1       0-0        0-0                  None                T\n",
      "5        1       0-0       0-15                  None             None\n",
      "6        1       0-0       0-30                  None                T\n",
      "11       1       0-0      15-30                  None             Wide\n",
      "15       1       0-0      30-30                  None                T\n",
      "17       1       0-0      40-30                  None             Wide\n",
      "20       1       0-0      40-40                  None             Wide\n",
      "30       1       1-0        0-0                   NaN             None\n",
      "31       1       1-0       0-15              Ad: Wide             Wide\n",
      "33       1       1-0       0-30           Deuce: Wide             Wide\n"
     ]
    }
   ],
   "source": [
    "print(point_df[['setNum', 'gameScore','pointScore','player1ServePlacement','serveInPlacement']].head(10))"
   ]
  },
  {
   "cell_type": "code",
   "execution_count": null,
   "id": "d252567b-e1c4-4659-9aaa-1cedf822c1c1",
   "metadata": {},
   "outputs": [],
   "source": []
  },
  {
   "cell_type": "code",
   "execution_count": null,
   "id": "8baa9302-2b8f-440a-9875-6683f5a01367",
   "metadata": {},
   "outputs": [],
   "source": []
  },
  {
   "cell_type": "code",
   "execution_count": 119,
   "id": "75c4d4fb-612f-437d-8ea0-ba4895d11fc2",
   "metadata": {},
   "outputs": [
    {
     "name": "stdout",
     "output_type": "stream",
     "text": [
      "    setNum gameScore pointScore player1ServePlacement serveInPlacement\n",
      "0        1       0-0        0-0                  None                T\n",
      "5        1       0-0       0-15                  None             None\n",
      "6        1       0-0       0-30                  None                T\n",
      "11       1       0-0      15-30                  None             Wide\n",
      "15       1       0-0      30-30                  None                T\n",
      "17       1       0-0      40-30                  None             Wide\n",
      "20       1       0-0      40-40                  None             Wide\n",
      "30       1       1-0        0-0                   NaN             None\n",
      "31       1       1-0       0-15              Ad: Wide             Wide\n",
      "33       1       1-0       0-30           Deuce: Wide             Wide\n"
     ]
    }
   ],
   "source": [
    "print(point_df[['setNum', 'gameScore','pointScore','player1ServePlacement','serveInPlacement']].head(10))"
   ]
  },
  {
   "cell_type": "markdown",
   "id": "fcb3dc11-4abc-4f1b-b07a-50e2b8295043",
   "metadata": {},
   "source": [
    "## Add Column: Name (For Video)"
   ]
  },
  {
   "cell_type": "code",
   "execution_count": 120,
   "id": "9487a6d5-18eb-4a3b-ab7c-995482a3ce49",
   "metadata": {},
   "outputs": [],
   "source": [
    "# Change pointScore to the specified format\n",
    "point_df['Name'] = point_df.apply(lambda row: f\"Set {row['setNum']}: {row['gameScore']}, {row['tiebreakScore']} {row['serverName']} Serving\" if pd.notna(row['tiebreakScore']) else f\"Set {row['setNum']}: {row['gameScore']}, {row['pointScore']} {row['serverName']} Serving\", axis=1)\n"
   ]
  },
  {
   "cell_type": "code",
   "execution_count": 121,
   "id": "ea3c8e6e-fd05-47e1-90a1-aded3c01c54b",
   "metadata": {
    "scrolled": true
   },
   "outputs": [
    {
     "name": "stdout",
     "output_type": "stream",
     "text": [
      "    setNum gameScore pointScore tiebreakScore  \\\n",
      "0        1       0-0        0-0          None   \n",
      "5        1       0-0       0-15          None   \n",
      "6        1       0-0       0-30          None   \n",
      "11       1       0-0      15-30          None   \n",
      "15       1       0-0      30-30          None   \n",
      "\n",
      "                                              Name  \n",
      "0     Set 1: 0-0, 0-0 Irina Cantos Siemers Serving  \n",
      "5    Set 1: 0-0, 0-15 Irina Cantos Siemers Serving  \n",
      "6    Set 1: 0-0, 0-30 Irina Cantos Siemers Serving  \n",
      "11  Set 1: 0-0, 15-30 Irina Cantos Siemers Serving  \n",
      "15  Set 1: 0-0, 30-30 Irina Cantos Siemers Serving  \n",
      "     setNum gameScore pointScore tiebreakScore  \\\n",
      "540       2       3-5        0-0          None   \n",
      "547       2       3-5       0-15          None   \n",
      "564       2       3-5       0-30          None   \n",
      "569       2       3-5      15-30          None   \n",
      "575       2       3-5      15-40          None   \n",
      "\n",
      "                                       Name  \n",
      "540    Set 2: 3-5, 0-0 Tian Fangran Serving  \n",
      "547   Set 2: 3-5, 0-15 Tian Fangran Serving  \n",
      "564   Set 2: 3-5, 0-30 Tian Fangran Serving  \n",
      "569  Set 2: 3-5, 15-30 Tian Fangran Serving  \n",
      "575  Set 2: 3-5, 15-40 Tian Fangran Serving  \n"
     ]
    }
   ],
   "source": [
    "print(point_df[['setNum', 'gameScore','pointScore','tiebreakScore','Name']].head(5))\n",
    "print(point_df[['setNum', 'gameScore','pointScore','tiebreakScore','Name']].tail(5))"
   ]
  },
  {
   "cell_type": "markdown",
   "id": "d4ebed59-72a7-4dc9-a63f-95b528ab5bbb",
   "metadata": {},
   "source": [
    "## Reorder DataFrame for Output"
   ]
  },
  {
   "cell_type": "code",
   "execution_count": 122,
   "id": "8fa6c8a9-ad32-47d6-88f0-1f3550fcff96",
   "metadata": {},
   "outputs": [],
   "source": [
    "point_df_copy = point_df.copy()"
   ]
  },
  {
   "cell_type": "code",
   "execution_count": 123,
   "id": "90659462-13b0-4991-9c59-4924754d9924",
   "metadata": {},
   "outputs": [
    {
     "data": {
      "text/plain": [
       "(107, 61)"
      ]
     },
     "execution_count": 123,
     "metadata": {},
     "output_type": "execute_result"
    }
   ],
   "source": [
    "point_df.shape"
   ]
  },
  {
   "cell_type": "code",
   "execution_count": 124,
   "id": "4ea3efb9-85d7-4428-afef-2c174d1e5f13",
   "metadata": {},
   "outputs": [
    {
     "data": {
      "text/plain": [
       "(107, 61)"
      ]
     },
     "execution_count": 124,
     "metadata": {},
     "output_type": "execute_result"
    }
   ],
   "source": [
    "point_df_copy.shape"
   ]
  },
  {
   "cell_type": "code",
   "execution_count": 125,
   "id": "fddad71c-4394-4731-979b-63add27425ea",
   "metadata": {},
   "outputs": [
    {
     "data": {
      "text/plain": [
       "Index(['pointNumber', 'player1Name', 'player2Name', 'pointScore', 'gameScore',\n",
       "       'setScore', 'tiebreakScore', 'side', 'serverName', 'returnerName',\n",
       "       'clientTeam', 'opponentTeam', 'Position', 'pointEndPosition',\n",
       "       'Duration', 'rallyCount', 'rallyCountFreq', 'firstServeIn',\n",
       "       'secondServeIn', 'serveResult', 'serveInPlacement', 'firstServeZone',\n",
       "       'secondServeZone', 'isAce', 'returnDirection', 'returnFhBh',\n",
       "       'errorType', 'returnError', 'lastShotDirection', 'lastShotFhBh',\n",
       "       'lastShotHitBy', 'lastShotResult', 'pointWonBy', 'isBreakPoint',\n",
       "       'atNetPlayer1', 'atNetPlayer2', 'setNum', 'player1SetScore',\n",
       "       'player2SetScore', 'player1GameScore', 'player2GameScore',\n",
       "       'player1PointScore', 'player2PointScore', 'player1TiebreakScore',\n",
       "       'player2TiebreakScore', 'gameNumber', 'player1ServeResult',\n",
       "       'player1ServePlacement', 'player1ReturnPlacement', 'player1ReturnFhBh',\n",
       "       'player1LastShotPlacement', 'player1LastShotFhBh',\n",
       "       'player1LastShotResult', 'player2ServeResult', 'player2ServePlacement',\n",
       "       'player2ReturnPlacement', 'player2ReturnFhBh',\n",
       "       'player2LastShotPlacement', 'player2LastShotFhBh',\n",
       "       'player2LastShotResult', 'Name'],\n",
       "      dtype='object')"
      ]
     },
     "execution_count": 125,
     "metadata": {},
     "output_type": "execute_result"
    }
   ],
   "source": [
    "point_df.columns"
   ]
  },
  {
   "cell_type": "code",
   "execution_count": 126,
   "id": "ba386657-82b9-4b27-9354-770b50fc7623",
   "metadata": {},
   "outputs": [],
   "source": [
    "desired_order = [\n",
    "    'Name', 'pointNumber', 'setNum', 'gameNumber', 'player1Name', 'player2Name',\n",
    "    'pointScore', 'gameScore', 'setScore', 'tiebreakScore', 'side', 'serverName',\n",
    "    'returnerName', 'Position', 'pointEndPosition', 'Duration', 'pointWonBy',\n",
    "    'rallyCount', 'rallyCountFreq', 'firstServeIn', 'secondServeIn',\n",
    "    'serveResult', 'serveInPlacement', 'firstServeZone', 'secondServeZone',\n",
    "    'isAce', 'returnDirection', 'returnFhBh', 'errorType', 'returnError',\n",
    "    'lastShotDirection', 'lastShotFhBh', 'lastShotHitBy', 'lastShotResult',\n",
    "    'isBreakPoint', 'atNetPlayer1', 'atNetPlayer2', 'player1SetScore',\n",
    "    'player2SetScore', 'player1GameScore', 'player2GameScore', 'player1PointScore',\n",
    "    'player2PointScore', 'player1TiebreakScore', 'player2TiebreakScore',\n",
    "    'player1ServeResult', 'player1ServePlacement', 'player1ReturnPlacement',\n",
    "    'player1ReturnFhBh', 'player1LastShotPlacement', 'player1LastShotFhBh',\n",
    "    'player1LastShotResult', 'player2ServeResult', 'player2ServePlacement',\n",
    "       'player2ReturnPlacement', 'player2ReturnFhBh',\n",
    "       'player2LastShotPlacement', 'player2LastShotFhBh',\n",
    "       'player2LastShotResult', 'clientTeam', 'opponentTeam'\n",
    "]\n",
    "\n",
    "# Reorder the columns\n",
    "point_df = point_df.reindex(columns=desired_order)"
   ]
  },
  {
   "cell_type": "code",
   "execution_count": null,
   "id": "fb60ca2d-7d27-406c-98b7-2cf714a0db7c",
   "metadata": {},
   "outputs": [],
   "source": []
  },
  {
   "cell_type": "markdown",
   "id": "2b3f3268-eac6-4b0d-83d8-0b943d927015",
   "metadata": {},
   "source": [
    "### Error Check: \n",
    "#### Check if the columns and their order are the same"
   ]
  },
  {
   "cell_type": "code",
   "execution_count": 127,
   "id": "fdead9e8-666d-4d5a-82b6-f3691aae7185",
   "metadata": {},
   "outputs": [
    {
     "name": "stdout",
     "output_type": "stream",
     "text": [
      "(107, 61)\n",
      "(107, 61)\n"
     ]
    }
   ],
   "source": [
    "print(point_df.shape)\n",
    "print(point_df_copy.shape)"
   ]
  },
  {
   "cell_type": "code",
   "execution_count": 128,
   "id": "48cf85be-dfd1-4cd0-a548-be645e166da8",
   "metadata": {},
   "outputs": [
    {
     "name": "stdout",
     "output_type": "stream",
     "text": [
      "All columns in point_df are also in point_df_copy\n",
      "All columns in point_df_copy are also in point_df\n"
     ]
    }
   ],
   "source": [
    "# Get the set of column names for each DataFrame\n",
    "point_df_columns = set(point_df.columns)\n",
    "point_df_copy_columns = set(point_df_copy.columns)\n",
    "\n",
    "# Find the column names unique to each DataFrame\n",
    "unique_to_point_df = point_df_columns - point_df_copy_columns\n",
    "unique_to_point_df_copy = point_df_copy_columns - point_df_columns\n",
    "\n",
    "# Output the results\n",
    "if unique_to_point_df:\n",
    "    print(\"Columns unique to point_df:\", unique_to_point_df)\n",
    "else:\n",
    "    print(\"All columns in point_df are also in point_df_copy\")\n",
    "\n",
    "if unique_to_point_df_copy:\n",
    "    print(\"Columns unique to point_df_copy:\", unique_to_point_df_copy)\n",
    "else:\n",
    "    print(\"All columns in point_df_copy are also in point_df\")\n"
   ]
  },
  {
   "cell_type": "markdown",
   "id": "0b51b1c2-8a26-4b5a-8a86-c08c7738172b",
   "metadata": {},
   "source": [
    "## Warning: All nan to \"\"\n",
    "### Alterating Data"
   ]
  },
  {
   "cell_type": "code",
   "execution_count": 129,
   "id": "c6f8badd-f2e3-469e-a885-2ce2f56a9c49",
   "metadata": {},
   "outputs": [],
   "source": [
    "# Change Na to \"\" Empty String\n",
    "\n",
    "# Assuming point_df is your DataFrame\n",
    "point_df.replace([pd.NA, None, pd.NaT, float('nan')], \"\", inplace=True)"
   ]
  },
  {
   "cell_type": "code",
   "execution_count": null,
   "id": "b43bdb8c-76ce-4c04-947a-3c467882330d",
   "metadata": {},
   "outputs": [],
   "source": []
  },
  {
   "cell_type": "markdown",
   "id": "ad4334e4-cac5-451d-8770-8b691649ba07",
   "metadata": {},
   "source": [
    "# Double Check before Outputting Point (FOR VISUAL)"
   ]
  },
  {
   "cell_type": "code",
   "execution_count": 130,
   "id": "6a44a324-4c8b-49a8-96d4-80be4ea2267f",
   "metadata": {},
   "outputs": [
    {
     "name": "stdout",
     "output_type": "stream",
     "text": [
      "                                              Name  pointNumber  setNum  \\\n",
      "0     Set 1: 0-0, 0-0 Irina Cantos Siemers Serving            1       1   \n",
      "5    Set 1: 0-0, 0-15 Irina Cantos Siemers Serving            2       1   \n",
      "6    Set 1: 0-0, 0-30 Irina Cantos Siemers Serving            3       1   \n",
      "11  Set 1: 0-0, 15-30 Irina Cantos Siemers Serving            4       1   \n",
      "15  Set 1: 0-0, 30-30 Irina Cantos Siemers Serving            5       1   \n",
      "\n",
      "    gameNumber   player1Name           player2Name pointScore gameScore  \\\n",
      "0            1  Tian Fangran  Irina Cantos Siemers        0-0       0-0   \n",
      "5            1  Tian Fangran  Irina Cantos Siemers       0-15       0-0   \n",
      "6            1  Tian Fangran  Irina Cantos Siemers       0-30       0-0   \n",
      "11           1  Tian Fangran  Irina Cantos Siemers      15-30       0-0   \n",
      "15           1  Tian Fangran  Irina Cantos Siemers      30-30       0-0   \n",
      "\n",
      "   setScore tiebreakScore  ... player1LastShotResult player2ServeResult  \\\n",
      "0       0-0                ...                             1st Serve In   \n",
      "5       0-0                ...                             Double Fault   \n",
      "6       0-0                ...                             1st Serve In   \n",
      "11      0-0                ...                 Error       2nd Serve In   \n",
      "15      0-0                ...                 Error       1st Serve In   \n",
      "\n",
      "   player2ServePlacement player2ReturnPlacement player2ReturnFhBh  \\\n",
      "0               Deuce: T                                            \n",
      "5                                                                   \n",
      "6               Deuce: T                                            \n",
      "11              Ad: Wide                                            \n",
      "15              Deuce: T                                            \n",
      "\n",
      "   player2LastShotPlacement player2LastShotFhBh  player2LastShotResult  \\\n",
      "0                Crosscourt            Forehand                  Error   \n",
      "5                                                                        \n",
      "6             Down the Line            Forehand                 Winner   \n",
      "11                                                                       \n",
      "15                                                                       \n",
      "\n",
      "   clientTeam  opponentTeam  \n",
      "0        UCLA    Ohio State  \n",
      "5        UCLA    Ohio State  \n",
      "6        UCLA    Ohio State  \n",
      "11       UCLA    Ohio State  \n",
      "15       UCLA    Ohio State  \n",
      "\n",
      "[5 rows x 61 columns]\n"
     ]
    }
   ],
   "source": [
    "print(point_df.head(5))"
   ]
  },
  {
   "cell_type": "code",
   "execution_count": 131,
   "id": "83c57f83-14d4-4594-8e29-ee29b83c6eea",
   "metadata": {},
   "outputs": [
    {
     "name": "stdout",
     "output_type": "stream",
     "text": [
      "                                       Name  pointNumber  setNum  gameNumber  \\\n",
      "540    Set 2: 3-5, 0-0 Tian Fangran Serving          103       2           9   \n",
      "547   Set 2: 3-5, 0-15 Tian Fangran Serving          104       2           9   \n",
      "564   Set 2: 3-5, 0-30 Tian Fangran Serving          105       2           9   \n",
      "569  Set 2: 3-5, 15-30 Tian Fangran Serving          106       2           9   \n",
      "575  Set 2: 3-5, 15-40 Tian Fangran Serving          107       2           9   \n",
      "\n",
      "      player1Name           player2Name pointScore gameScore setScore  \\\n",
      "540  Tian Fangran  Irina Cantos Siemers        0-0       3-5      0-1   \n",
      "547  Tian Fangran  Irina Cantos Siemers       0-15       3-5      0-1   \n",
      "564  Tian Fangran  Irina Cantos Siemers       0-30       3-5      0-1   \n",
      "569  Tian Fangran  Irina Cantos Siemers      15-30       3-5      0-1   \n",
      "575  Tian Fangran  Irina Cantos Siemers      15-40       3-5      0-1   \n",
      "\n",
      "    tiebreakScore  ... player1LastShotResult player2ServeResult  \\\n",
      "540                ...                Winner                      \n",
      "547                ...                 Error                      \n",
      "564                ...                Winner                      \n",
      "569                ...                                            \n",
      "575                ...                 Error                      \n",
      "\n",
      "    player2ServePlacement player2ReturnPlacement player2ReturnFhBh  \\\n",
      "540                                   Crosscourt          Forehand   \n",
      "547                                Down the Line          Backhand   \n",
      "564                                   Crosscourt          Backhand   \n",
      "569                                   Crosscourt          Backhand   \n",
      "575                                   Crosscourt          Backhand   \n",
      "\n",
      "    player2LastShotPlacement player2LastShotFhBh  player2LastShotResult  \\\n",
      "540                                                                       \n",
      "547                                                                       \n",
      "564                                                                       \n",
      "569            Down the Line            Backhand                 Winner   \n",
      "575                                                                       \n",
      "\n",
      "    clientTeam  opponentTeam  \n",
      "540       UCLA    Ohio State  \n",
      "547       UCLA    Ohio State  \n",
      "564       UCLA    Ohio State  \n",
      "569       UCLA    Ohio State  \n",
      "575       UCLA    Ohio State  \n",
      "\n",
      "[5 rows x 61 columns]\n"
     ]
    }
   ],
   "source": [
    "print(point_df.tail(5))"
   ]
  },
  {
   "cell_type": "markdown",
   "id": "67a89dc9-8346-46c7-abd1-c35e3d60513d",
   "metadata": {},
   "source": []
  },
  {
   "cell_type": "code",
   "execution_count": null,
   "id": "bff13b81-595a-4b19-ad74-16ac9db8735e",
   "metadata": {},
   "outputs": [],
   "source": []
  },
  {
   "cell_type": "code",
   "execution_count": 167,
   "id": "a7408afb-d79d-433f-bfad-12831c0d78a7",
   "metadata": {},
   "outputs": [],
   "source": [
    "# Change Value Names for Match Viewer Output\n",
    "\n",
    "# Assuming point_df is your DataFrame and player1Name is the name from the first row\n",
    "player1Name = point_df.iloc[0]['player1Name']\n",
    "player2Name = point_df.iloc[0]['player2Name']\n",
    "\n",
    "# Replace values in the 'atNetPlayer1' column\n",
    "point_df['atNetPlayer1'] = point_df['atNetPlayer1'].replace({0: \"\", 1: player1Name})\n",
    "point_df['atNetPlayer2'] = point_df['atNetPlayer2'].replace({0: \"\", 1: player2Name})"
   ]
  },
  {
   "cell_type": "code",
   "execution_count": null,
   "id": "1dc8f0f8-b552-455d-84d7-e71c0fd421a7",
   "metadata": {},
   "outputs": [],
   "source": []
  },
  {
   "cell_type": "code",
   "execution_count": null,
   "id": "0e86791c-3538-43d3-b7ed-df42164db5a3",
   "metadata": {},
   "outputs": [],
   "source": []
  },
  {
   "cell_type": "markdown",
   "id": "153a5c4d-b325-487b-aab7-a3526729d5a0",
   "metadata": {},
   "source": [
    "# Add in Timestamps"
   ]
  },
  {
   "cell_type": "code",
   "execution_count": 168,
   "id": "601dfcba-7555-4fba-8d45-b53301de92a5",
   "metadata": {},
   "outputs": [],
   "source": [
    "timestamp = pd.read_csv(\"Tian v. Ohio Timestamps - Sheet1.csv\")"
   ]
  },
  {
   "cell_type": "code",
   "execution_count": 169,
   "id": "2c964514-c2f6-4187-bd39-d7cbd235d723",
   "metadata": {},
   "outputs": [],
   "source": [
    "# Error Check, timestamp size should be same as point_df size"
   ]
  },
  {
   "cell_type": "code",
   "execution_count": 170,
   "id": "f52ace6a-3895-4482-bd56-dd571e5ced6e",
   "metadata": {},
   "outputs": [],
   "source": [
    "if timestamp.shape[0] != point_df.shape[0]:\n",
    "    print(\"Error: The number of rows in timestamp and point_df are not the same.\")\n",
    "else:\n",
    "    # Assign values to point_df\n",
    "    point_df['Position'] = timestamp['pointStartTime'].values\n",
    "    point_df['pointEndPosition'] = timestamp['pointEndTime'].values\n"
   ]
  },
  {
   "cell_type": "markdown",
   "id": "85e484d1-1746-45b6-851d-a7614aacafd2",
   "metadata": {},
   "source": [
    "# Check that Time Stamp head and end is same as point_df"
   ]
  },
  {
   "cell_type": "code",
   "execution_count": 171,
   "id": "db88bfc0-8f98-4e93-9ae1-908ede28ee50",
   "metadata": {},
   "outputs": [
    {
     "name": "stdout",
     "output_type": "stream",
     "text": [
      "   pointStartTime  pointEndTime\n",
      "0            2968         11195\n",
      "1           32766         45638\n",
      "2           73331         84832\n",
      "3          104089        123298\n",
      "4          144779        149950\n"
     ]
    }
   ],
   "source": [
    "print(timestamp.head())"
   ]
  },
  {
   "cell_type": "code",
   "execution_count": 172,
   "id": "cb70d08d-09ad-4fe9-a0b1-b66c9e55f7b6",
   "metadata": {},
   "outputs": [
    {
     "name": "stdout",
     "output_type": "stream",
     "text": [
      "     pointStartTime  pointEndTime\n",
      "102         5292198       5305858\n",
      "103         5328655       5370900\n",
      "104         5418691       5427429\n",
      "105         5468823       5480818\n",
      "106         5516354       5534543\n"
     ]
    }
   ],
   "source": [
    "print(timestamp.tail())"
   ]
  },
  {
   "cell_type": "code",
   "execution_count": 173,
   "id": "b568a138-ed57-4478-b09f-779454d4f702",
   "metadata": {},
   "outputs": [
    {
     "name": "stdout",
     "output_type": "stream",
     "text": [
      "     Position  pointEndPosition\n",
      "0        2968             11195\n",
      "5       32766             45638\n",
      "6       73331             84832\n",
      "11     104089            123298\n",
      "15     144779            149950\n",
      "..        ...               ...\n",
      "540   5292198           5305858\n",
      "547   5328655           5370900\n",
      "564   5418691           5427429\n",
      "569   5468823           5480818\n",
      "575   5516354           5534543\n",
      "\n",
      "[107 rows x 2 columns]\n"
     ]
    }
   ],
   "source": [
    "print(point_df[['Position', 'pointEndPosition']])"
   ]
  },
  {
   "cell_type": "code",
   "execution_count": null,
   "id": "86d6c8f4-ce52-4818-9e6d-26ffc5879263",
   "metadata": {},
   "outputs": [],
   "source": []
  },
  {
   "cell_type": "code",
   "execution_count": null,
   "id": "8689d305-d6b4-4775-b068-f24617f2e9f7",
   "metadata": {},
   "outputs": [],
   "source": []
  },
  {
   "cell_type": "markdown",
   "id": "29c55fac-8013-4892-b868-89894561453c",
   "metadata": {},
   "source": [
    "# PRINT POINTCSV VISUALS"
   ]
  },
  {
   "cell_type": "code",
   "execution_count": 174,
   "id": "6068f39f-7f61-4a09-8b29-07adc9b52e83",
   "metadata": {},
   "outputs": [],
   "source": [
    "# Save point_df to CSV file\n",
    "\n",
    "# Assuming point_df is your DataFrame and player1Name and player2Name are the names from the first row\n",
    "player1NameNoSpace = point_df.iloc[0]['player1Name'].replace(\" \", \"\")\n",
    "player2NameNoSpace = point_df.iloc[0]['player2Name'].replace(\" \", \"\")\n",
    "\n",
    "# Save DataFrame to CSV file with modified player names\n",
    "point_df.to_csv(f'Point_Visuals_{player1NameNoSpace}_{player2NameNoSpace}.csv', index=False)\n"
   ]
  },
  {
   "cell_type": "code",
   "execution_count": 176,
   "id": "bac20398-32b6-443c-91c8-b846081258ee",
   "metadata": {},
   "outputs": [
    {
     "data": {
      "text/plain": [
       "'Point_Visuals_TianFangran_IrinaCantosSiemers.json'"
      ]
     },
     "execution_count": 176,
     "metadata": {},
     "output_type": "execute_result"
    }
   ],
   "source": [
    "\n",
    "\n",
    "\n",
    "def csv_to_json(csv_file_path, json_file_name):\n",
    "    # Load CSV file into a pandas DataFrame\n",
    "    df = pd.read_csv(csv_file_path)\n",
    "    \n",
    "    # Convert DataFrame to JSON format\n",
    "    json_data = df.to_json(orient='records')\n",
    "    \n",
    "    # Save JSON data to a file in the same directory\n",
    "    json_file_path = f'{json_file_name}'\n",
    "    with open(json_file_path, 'w') as json_file:\n",
    "        json_file.write(json_data)\n",
    "    \n",
    "    return json_file_path\n",
    "\n",
    "# Define the CSV file path\n",
    "csv_file_path = f\"Point_Visuals_{player1NameNoSpace}_{player2NameNoSpace}.csv\"\n",
    "\n",
    "# Define the desired JSON file name (without extension)\n",
    "json_file_name = f\"Point_Visuals_{player1NameNoSpace}_{player2NameNoSpace}.json\"\n",
    "\n",
    "# Convert CSV to JSON and save in the same directory\n",
    "output_file_path = csv_to_json(csv_file_path, json_file_name)\n",
    "\n",
    "# Display the path where the JSON file is saved\n",
    "output_file_path\n"
   ]
  },
  {
   "cell_type": "code",
   "execution_count": null,
   "id": "e9230df0-3a90-4346-8e52-9ebb2d75c3cc",
   "metadata": {},
   "outputs": [],
   "source": []
  },
  {
   "cell_type": "code",
   "execution_count": null,
   "id": "b17bc2ce-bf51-4971-8a79-521218894248",
   "metadata": {},
   "outputs": [],
   "source": []
  },
  {
   "cell_type": "code",
   "execution_count": null,
   "id": "4b985650-0a76-412b-93eb-d4f08b185b5e",
   "metadata": {},
   "outputs": [],
   "source": []
  },
  {
   "cell_type": "markdown",
   "id": "c00e49c8-0479-47e8-bf83-28c6d57da209",
   "metadata": {},
   "source": [
    "# EDA"
   ]
  },
  {
   "cell_type": "markdown",
   "id": "735f9aa0-d40c-4c43-94a8-d97bbf920d60",
   "metadata": {},
   "source": [
    "## Shot CSV EDA"
   ]
  },
  {
   "cell_type": "code",
   "execution_count": null,
   "id": "fc732ce1-8de6-4248-a8b2-228f4934eebd",
   "metadata": {},
   "outputs": [],
   "source": [
    "# Can input CSV Directly here for statistics functions\n",
    "\n",
    "# your_file_name = \"filename.csv\"\n",
    "# shot_eda = pd.read_csv(your_file_name)\n",
    "\n",
    "# if directly from notebook\n",
    "shot_eda = shot_data.copy()"
   ]
  },
  {
   "cell_type": "code",
   "execution_count": null,
   "id": "4f834479-9c3d-4279-a799-99a8f595a08f",
   "metadata": {},
   "outputs": [],
   "source": [
    "player1Name = shot_eda.iloc[0]['player1Name']\n",
    "\n",
    "# Filter shot_data based on the conditions\n",
    "approach_data_player1 = shot_eda[(shot_eda['isApproach'] == 1) & (shot_eda['shotHitBy'] == player1Name)]\n",
    "\n",
    "# Count the distinct pointNumbers\n",
    "distinct_point_numbers = approach_data_player1['pointNumber'].nunique()\n",
    "\n",
    "# Print the result\n",
    "print(f\"Number of Approach Shots hit by {player1Name}: {distinct_point_numbers}\" )\n",
    "\n",
    "# print(approach_data_player1)\n"
   ]
  },
  {
   "cell_type": "code",
   "execution_count": null,
   "id": "90b77205-22df-4bd4-96a2-4dcc848e990a",
   "metadata": {},
   "outputs": [],
   "source": [
    "print(point_df['Name'])"
   ]
  },
  {
   "cell_type": "markdown",
   "id": "479c35f4-3096-40c9-9560-3d5abeb81626",
   "metadata": {},
   "source": [
    "## Point CSV EDA"
   ]
  },
  {
   "cell_type": "code",
   "execution_count": null,
   "id": "4f0feb90-99df-4639-bd31-95772fbdc57b",
   "metadata": {},
   "outputs": [],
   "source": [
    "# Can input CSV Directly here for statistics functions\n",
    "import pandas as pd\n",
    "your_file_name = \"Point_Visuals_Anne-ChristineLutkemeyer_SehaYu.csv\"\n",
    "point_df_eda = pd.read_csv(your_file_name)\n",
    "\n",
    "# OR MAKE point_df_eda copy of point_df\n",
    "\n",
    "# point_df_eda = point_df.copy()"
   ]
  },
  {
   "cell_type": "code",
   "execution_count": null,
   "id": "ff9f9652-5ce4-436a-be30-abf5ea40236b",
   "metadata": {},
   "outputs": [],
   "source": [
    "print(point_df_eda.columns)"
   ]
  },
  {
   "cell_type": "code",
   "execution_count": null,
   "id": "028aa13a-95ce-4020-85b6-b1a8e4d10014",
   "metadata": {},
   "outputs": [],
   "source": [
    "\n",
    "serve_in_rows = point_df_eda[(point_df_eda['serveResult'] == '1st Serve In') | (point_df_eda['serveResult'] == '2nd Serve In')]\n",
    "\n",
    "# filter the rows where rallyCount column is equal to 1\n",
    "desired_rows = serve_in_rows[serve_in_rows['rallyCount'] == 1]\n",
    "\n",
    "# print each row\n",
    "for index, row in desired_rows.iterrows():\n",
    "    print(row[['pointNumber', 'setNum', 'gameNumber','serveResult','rallyCount' ,'serverName']])\n"
   ]
  },
  {
   "cell_type": "code",
   "execution_count": null,
   "id": "7cfc7542-6668-4c85-9522-cc52c121fa37",
   "metadata": {},
   "outputs": [],
   "source": [
    "first_player1Name = point_df_eda['player1Name'].iloc[0]\n",
    "\n",
    "\n",
    "\n",
    "# Display the results\n",
    "print(f\"\\nServe Results for {first_player1Name}:\")\n",
    "\n",
    "# Assuming point_df_eda is your DataFrame\n",
    "total_serves = len(point_df_eda[point_df_eda['serverName'] == first_player1Name])\n",
    "first_serve_in_count = len(point_df_eda[(point_df_eda['serverName'] == first_player1Name) & (point_df_eda['firstServeIn'] == 1)])\n",
    "first_serve_won_count = len(point_df_eda[(point_df_eda['serverName'] == first_player1Name) & (point_df_eda['firstServeIn'] == 1) & (point_df_eda['pointWonBy'] == first_player1Name)])\n",
    "percentage_first_serve_in = (first_serve_in_count / total_serves) * 100 if total_serves > 0 else 0\n",
    "percentage_first_serve_won = (first_serve_won_count / first_serve_in_count) * 100 if first_serve_in_count > 0 else 0\n",
    "\n",
    "second_serve_total_count = len(point_df_eda[(point_df_eda['serverName'] == first_player1Name) & (point_df_eda['firstServeIn'] == 0)])\n",
    "second_serve_in_count = len(point_df_eda[(point_df_eda['serverName'] == first_player1Name) & (point_df_eda['firstServeIn'] == 0)& (point_df_eda['secondServeIn'] == 1)])\n",
    "second_serve_won_count = len(point_df_eda[(point_df_eda['serverName'] == first_player1Name) & (point_df_eda['firstServeIn'] == 0)& (point_df_eda['secondServeIn'] == 1) & (point_df_eda['pointWonBy'] == first_player1Name)])\n",
    "percentage_second_serve_in = (second_serve_in_count / second_serve_total_count) * 100 if second_serve_total_count > 0 else 0\n",
    "percentage_second_serve_won = (second_serve_won_count / second_serve_in_count) * 100 if second_serve_in_count > 0 else 0\n",
    "\n",
    "\n",
    "\n",
    "# Display the results\n",
    "print(\"\\nTotal Serves:\", total_serves)\n",
    "print(\"First Serve In (Count):\", first_serve_in_count)\n",
    "print(\"First Serve Won (Count):\", first_serve_won_count)\n",
    "print(f\"First Serve In (%): {percentage_first_serve_in:.2f}%\")\n",
    "print(f\"First Serve Won (%): {percentage_first_serve_won:.2f}%\")\n",
    "\n",
    "print(\"Second Serve In (Count):\", second_serve_in_count)\n",
    "print(\"Second Serve Total (Count):\", second_serve_total_count)\n",
    "print(\"Second Serve Won (Count):\", second_serve_won_count)\n",
    "print(f\"Second Serve In (%): {percentage_second_serve_in:.2f}%\")\n",
    "print(f\"Second Serve Won (%): {percentage_second_serve_won:.2f}%\")\n",
    "\n",
    "# Assuming point_df is your DataFrame\n",
    "count_is_ace = (point_df_eda[point_df_eda['serverName'] == first_player1Name]['isAce']).sum()\n",
    "count_is_double_fault = ((point_df_eda['serverName'] == first_player1Name) & (point_df_eda['serveResult'] == \"Double Fault\")).sum()\n",
    "\n",
    "# Display the results\n",
    "print(\"Ace (Count):\", count_is_ace)\n",
    "print(\"Double Fault (Count):\", count_is_double_fault)\n",
    "\n",
    "# Count of rows where serverName is equal to the first row of player1Name and pointWonBy is equal to the first row of player1Name\n",
    "total_service_points_won = len(point_df_eda[(point_df_eda['serverName'] == first_player1Name) & (point_df_eda['pointWonBy'] == first_player1Name)])\n",
    "total_service_points_won_percentage = total_service_points_won / total_serves *100\n",
    "\n",
    "# Display the results\n",
    "print(f\"Points Won on Serve (Count) {total_service_points_won}\")\n",
    "\n",
    "print(f\"Points Won on Serve (%): {total_service_points_won_percentage:.2f}%\")\n",
    "\n",
    "# Assuming point_df is your DataFrame\n",
    "return_points = point_df_eda[(point_df_eda['returnerName'] == first_player1Name)] # CHANGED THIS JERRY, REMOVED RALLY COUNT >= 2\n",
    "\n",
    "total_return = len(return_points)\n",
    "returnMade = len(return_points[(return_points['rallyCount'] > 2) | ((return_points['rallyCount'] == 2) & (return_points['lastShotResult'] != 'Error'))])\n",
    "returnError = len(return_points[(return_points['lastShotResult'] == 'Error') & (return_points['rallyCount'] == 2)])\n",
    "returnWinner = len(return_points[(return_points['lastShotResult'] == 'Winner') & (return_points['rallyCount'] == 2)])\n",
    "returnMadePercentage = returnMade/total_return\n",
    "\n",
    "returnWonByPlayer1 = len(return_points[return_points['pointWonBy'] == first_player1Name])\n",
    "returnWonByPlayer1Percentage = returnWonByPlayer1 / total_return * 100 if total_return > 0 else 0\n",
    "\n",
    "deuceReturnCount = len(return_points[return_points['side'] == 'Deuce'])\n",
    "adReturnCount = len(return_points[return_points['side'] == 'Ad'])\n",
    "\n",
    "\n",
    "deuceReturnMade = len(return_points[(return_points['side'] == 'Deuce') & ((return_points['rallyCount'] > 2) | ((return_points['rallyCount'] == 2) & (return_points['lastShotResult'] != 'Error')))])\n",
    "adReturnMade = len(return_points[(return_points['side'] == 'Ad') & ((return_points['rallyCount'] > 2) | ((return_points['rallyCount'] == 2) & (return_points['lastShotResult'] != 'Error')))])\n",
    "\n",
    "deuceReturnMadePercentage = deuceReturnMade/deuceReturnCount\n",
    "adReturnMadePercentage = adReturnMade/adReturnCount\n",
    "\n",
    "deuceReturnWonByPlayer1 = len(return_points[(return_points['side'] == 'Deuce') & (return_points['pointWonBy'] == first_player1Name) | ((return_points['rallyCount'] == 2) & (return_points['lastShotResult'] != 'Error'))])\n",
    "adReturnWonByPlayer1 = len(return_points[(return_points['side'] == 'Ad') & (return_points['pointWonBy'] == first_player1Name) | ((return_points['rallyCount'] == 2) & (return_points['lastShotResult'] != 'Error'))])\n",
    "\n",
    "deuceReturnWonByPlayer1Percentage = deuceReturnWonByPlayer1 / deuceReturnCount * 100 if deuceReturnCount > 0 else 0\n",
    "adReturnWonByPlayer1Percentage = adReturnWonByPlayer1 / adReturnCount * 100 if adReturnCount > 0 else 0\n",
    "\n",
    "\n",
    "\n",
    "\n",
    "print(f\"\\nReturn Results for {first_player1Name}:\\n\")\n",
    "\n",
    "print(\"Total Return (Count):\", total_return)\n",
    "print(\"Return Won (Count):\", returnWonByPlayer1)\n",
    "print(\"Return Won (%):\", returnWonByPlayer1Percentage)\n",
    "\n",
    "print(\"\\nReturn Made (Count):\", returnMade)\n",
    "print(\"Return Made (%):\", returnMadePercentage)\n",
    "print(\"Return Error (Count):\", returnError)\n",
    "print(\"Return Winner (Count):\", returnWinner)\n",
    "\n",
    "print(\"\\nDeuce Return (Count):\", deuceReturnCount)\n",
    "print(\"Deuce Return Made (Count):\", deuceReturnMade)\n",
    "print(\"Deuce Return Made (%):\", deuceReturnMadePercentage)\n",
    "print(\"Deuce Return Won by Player1 (%):\", deuceReturnWonByPlayer1Percentage)\n",
    "print(\"Deuce Return Won by Player1 (Count):\", deuceReturnWonByPlayer1)\n",
    "\n",
    "\n",
    "print(\"\\nAd Return (Count):\", adReturnCount)\n",
    "print(\"Ad Return Made (Count):\", adReturnMade)\n",
    "print(\"Ad Return Made (%):\", adReturnMadePercentage)\n",
    "print(\"Ad Return Won by Player1 (Count):\", adReturnWonByPlayer1)\n",
    "print(\"Ad Return Won by Player1 (%):\", adReturnWonByPlayer1Percentage)\n",
    "\n",
    "# Assuming return_points is your DataFrame\n",
    "deuce_return_points = return_points[(return_points['side'] == 'Deuce') & (return_points['returnerName'] == first_player1Name) & (return_points['rallyCount'] >= 2)]\n",
    "\n",
    "# Deuce Return Points Separated by returnFhBh\n",
    "deuce_forehand_return_points = deuce_return_points[deuce_return_points['returnFhBh'] == 'Forehand']\n",
    "deuce_backhand_return_points = deuce_return_points[deuce_return_points['returnFhBh'] == 'Backhand']\n",
    "\n",
    "\n",
    "# Count for Deuce Return Points - Made\n",
    "count_deuce_forehand_made = len(deuce_forehand_return_points[(deuce_forehand_return_points['rallyCount'] > 2) | ((deuce_forehand_return_points['rallyCount'] == 2) & (deuce_forehand_return_points['lastShotResult'] != 'Error'))])\n",
    "count_deuce_backhand_made = len(deuce_backhand_return_points[(deuce_backhand_return_points['rallyCount'] > 2) | ((deuce_backhand_return_points['rallyCount'] == 2) & (deuce_backhand_return_points['lastShotResult'] != 'Error'))])\n",
    "\n",
    "# Count for Deuce Return Points - Error\n",
    "count_deuce_forehand_error = len(deuce_forehand_return_points[(deuce_forehand_return_points['lastShotResult'] == 'Error') & (deuce_forehand_return_points['rallyCount'] == 2)])\n",
    "count_deuce_backhand_error = len(deuce_backhand_return_points[(deuce_backhand_return_points['lastShotResult'] == 'Error') & (deuce_backhand_return_points['rallyCount'] == 2)])\n",
    "\n",
    "# Display the counts\n",
    "print(\"\\nDeuce Forehand Return Points - Made:\", count_deuce_forehand_made)\n",
    "print(\"Deuce Forehand Return Points - Error:\", count_deuce_forehand_error)\n",
    "\n",
    "print(\"Deuce Backhand Return Points - Made:\", count_deuce_backhand_made)\n",
    "print(\"Deuce Backhand Return Points - Error:\", count_deuce_backhand_error)\n",
    "\n",
    "# Assuming return_points is your DataFrame\n",
    "ad_return_points = return_points[(return_points['side'] == 'Ad') & (return_points['returnerName'] == first_player1Name) & (return_points['rallyCount'] >= 2)]\n",
    "\n",
    "# Ad Return Points Separated by returnFhBh\n",
    "ad_forehand_return_points = ad_return_points[ad_return_points['returnFhBh'] == 'Forehand']\n",
    "ad_backhand_return_points = ad_return_points[ad_return_points['returnFhBh'] == 'Backhand']\n",
    "\n",
    "# Count for Ad Return Points - Made\n",
    "count_ad_forehand_made = len(ad_forehand_return_points[(ad_forehand_return_points['rallyCount'] > 2) | ((ad_forehand_return_points['rallyCount'] == 2) & (ad_forehand_return_points['lastShotResult'] != 'Error'))])\n",
    "count_ad_backhand_made = len(ad_backhand_return_points[(ad_backhand_return_points['rallyCount'] > 2) | ((ad_backhand_return_points['rallyCount'] == 2) & (ad_backhand_return_points['lastShotResult'] != 'Error'))])\n",
    "\n",
    "# Count for Ad Return Points - Error\n",
    "count_ad_forehand_error = len(ad_forehand_return_points[(ad_forehand_return_points['lastShotResult'] == 'Error') & (ad_forehand_return_points['rallyCount'] == 2)])\n",
    "count_ad_backhand_error = len(ad_backhand_return_points[(ad_backhand_return_points['lastShotResult'] == 'Error') & (ad_backhand_return_points['rallyCount'] == 2)])\n",
    "\n",
    "# Display the counts\n",
    "print(\"\\nAd Forehand Return Points - Made:\", count_ad_forehand_made)\n",
    "print(\"Ad Forehand Return Points - Error:\", count_ad_forehand_error)\n",
    "\n",
    "print(\"Ad Backhand Return Points - Made:\", count_ad_backhand_made)\n",
    "print(\"Ad Backhand Return Points - Error:\", count_ad_backhand_error)\n",
    "\n",
    "print(f\"\\nAt Net Results for {first_player1Name}:\\n\")\n",
    "\n",
    "\n",
    "# Total points where atNetPlayer1 = 1\n",
    "total_at_net_player1 = len(point_df_eda[point_df_eda['atNetPlayer1'] == 1])\n",
    "\n",
    "# Percentage of points where atNetPlayer1 = 1 out of total points\n",
    "percentage_at_net_player1 = (total_at_net_player1 / len(point_df_eda)) * 100 if len(point_df_eda) > 0 else 0\n",
    "\n",
    "# Display the total count and percentage of points where atNetPlayer1 = 1\n",
    "print(f\"Total Net Points for {first_player1Name}: {total_at_net_player1}\")\n",
    "print(f\"Percentage of Net Points for {first_player1Name}: {percentage_at_net_player1:.2f}%\")\n",
    "\n",
    "# Points where atNetPlayer1 = 1 and pointWonBy = first_player1Name\n",
    "at_net_player1_and_won_by_player1 = len(point_df_eda[(point_df_eda['atNetPlayer1'] == 1) & (point_df_eda['pointWonBy'] == first_player1Name)])\n",
    "\n",
    "# Percentage of points where atNetPlayer1 = 1 and pointWonBy = first_player1Name out of total points where atNetPlayer1 = 1\n",
    "percentage_at_net_player1_and_won_by_player1 = (at_net_player1_and_won_by_player1 / total_at_net_player1) * 100 if total_at_net_player1 > 0 else 0\n",
    "\n",
    "# Display the count and percentage of points where atNetPlayer1 = 1 and pointWonBy = first_player1Name\n",
    "print(f\"\\nTotal Net Points won by {first_player1Name}: {at_net_player1_and_won_by_player1}\")\n",
    "print(f\"Percentage of Net Points won by {first_player1Name}: {percentage_at_net_player1_and_won_by_player1:.2f}%\")\n"
   ]
  },
  {
   "cell_type": "code",
   "execution_count": null,
   "id": "a90e9704-73c6-4403-bb7d-1e4440fbe867",
   "metadata": {},
   "outputs": [],
   "source": [
    "# Filter points where serverName is equal to first_player1Name\n",
    "filtered_points = point_df_eda[point_df_eda['serverName'] == first_player1Name]\n",
    "\n",
    "# Group the filtered points by player1ServePlacement and count the occurrences\n",
    "serve_placement_counts = filtered_points.groupby('player1ServePlacement').size()\n",
    "\n",
    "\n",
    "# Iterate over filtered_points\n",
    "for index, point in filtered_points.iterrows():\n",
    "    serve_placement = point['player1ServePlacement']\n",
    "    \n",
    "    # Check if serve placement is not in serve_placement_counts\n",
    "    if serve_placement not in serve_placement_counts:\n",
    "        print(point['Name'])\n",
    "\n",
    "\n",
    "# Initialize dictionaries to store counts and percentages\n",
    "point_won_counts = {}\n",
    "point_won_percentages = {}\n",
    "print(f\"Total {len(filtered_points)}\")\n",
    "\n",
    "# Iterate over serve placements\n",
    "for serve_placement, count in serve_placement_counts.items():\n",
    "    # Filter points with the specific serve placement\n",
    "    serve_placement_points = filtered_points[filtered_points['player1ServePlacement'] == serve_placement]\n",
    "    \n",
    "    # Count points won by first_player1Name\n",
    "    point_won_count = serve_placement_points[serve_placement_points['pointWonBy'] == first_player1Name].shape[0]\n",
    "    \n",
    "    # Calculate percentage\n",
    "    point_won_percentage = (point_won_count / count) * 100 if count > 0 else 0\n",
    "    \n",
    "    # Store counts and percentages\n",
    "    point_won_counts[serve_placement] = point_won_count\n",
    "    point_won_percentages[serve_placement] = point_won_percentage\n",
    "\n",
    "# Print counts and percentages\n",
    "for serve_placement, count in serve_placement_counts.items():\n",
    "    print(f\"Serve Placement: {serve_placement}\")\n",
    "    print(f\"Total Serves: {count}\")\n",
    "    print(f\"Serves Won by {first_player1Name}: {point_won_counts.get(serve_placement, 0)}\")\n",
    "    print(f\"Percentage: {point_won_percentages.get(serve_placement, 0):.2f}%\\n\")"
   ]
  },
  {
   "cell_type": "code",
   "execution_count": null,
   "id": "cecb4031-2e96-4d9a-aef9-b36aacede064",
   "metadata": {},
   "outputs": [],
   "source": [
    "print(f\"\\nError Data for {first_player1Name}:\\n\")\n",
    "# Filter the DataFrame based on specified conditions\n",
    "total_errors = point_df_eda[(point_df_eda['lastShotHitBy'] == first_player1Name) & \n",
    "                           (point_df_eda['lastShotResult'] == 'Error')]\n",
    "\n",
    "import numpy as np\n",
    "\n",
    "# Filter rows without NaN values in relevant columns\n",
    "forehand_errors = point_df_eda[(point_df_eda['lastShotHitBy'] == first_player1Name) & \n",
    "                           (point_df_eda['lastShotResult'] == 'Error') &\n",
    "                           (point_df_eda['lastShotFhBh'] == 'Forehand') &\n",
    "                           (~point_df_eda['errorType'].isnull())]  # Ensure 'errorType' column doesn't have NaN\n",
    "\n",
    "backhand_errors = point_df_eda[(point_df_eda['lastShotHitBy'] == first_player1Name) & \n",
    "                           (point_df_eda['lastShotResult'] == 'Error') &\n",
    "                           (point_df_eda['lastShotFhBh'] == 'Backhand') &\n",
    "                           (~point_df_eda['errorType'].isnull())]  # Ensure 'errorType' column doesn't have NaN\n",
    "\n",
    "# Count the occurrences of 'Forehand' and 'Backhand' separately\n",
    "forehand_counts = forehand_errors.shape[0]  # Count rows\n",
    "backhand_counts = backhand_errors.shape[0]  # Count rows\n",
    "\n",
    "# Print the total error counts for verification\n",
    "total_error_counts = forehand_counts + backhand_counts\n",
    "\n",
    "# Get value counts of 'errorType' for Forehand errors\n",
    "forehand_error_types = forehand_errors['errorType'].value_counts(dropna=False)  # Include NaN values in count\n",
    "\n",
    "# Get value counts of 'errorType' for Backhand errors\n",
    "backhand_error_types = backhand_errors['errorType'].value_counts(dropna=False)  # Include NaN values in count\n",
    "\n",
    "# Print the counts and error types\n",
    "print(\"Count of Total errors:\", total_error_counts)\n",
    "print(\"Count of Forehand errors:\", forehand_counts)\n",
    "print(\"Forehand Error %:\", forehand_counts/total_error_counts)\n",
    "print(\"Count of Backhand errors:\", backhand_counts)\n",
    "print(\"Backhand Error %:\", backhand_counts/total_error_counts)\n",
    "print(\"\\nForehand errors:\\n\", forehand_error_types)\n",
    "\n",
    "\n",
    "# # Group by both 'lastShotDirection' and 'errorType', and then count occurrences\n",
    "forehand_error_counts = forehand_errors.groupby(['player1LastShotPlacement', 'errorType']).size().unstack(fill_value=0)  # Fill NaN with 0\n",
    "\n",
    "print(\"\\nValue counts of 'errorType' for Forehand errors with different directions:\\n\", forehand_error_counts)\n",
    "\n",
    "\n",
    "print(\"\\nBackhand errors:\\n\", backhand_error_types)\n",
    "\n",
    "\n",
    "\n",
    "# Group by both 'lastShotDirection' and 'errorType', and then count occurrences\n",
    "backhand_error_counts = backhand_errors.groupby(['player1LastShotPlacement', 'errorType']).size().unstack(fill_value=0)  # Fill NaN with 0\n",
    "\n",
    "print(\"\\nValue counts of 'errorType' for Backhand errors with different directions:\\n\", backhand_error_counts)"
   ]
  },
  {
   "cell_type": "code",
   "execution_count": null,
   "id": "f3de237f-a8d9-4775-b303-1c440acad5d1",
   "metadata": {},
   "outputs": [],
   "source": [
    "pip install reportlab"
   ]
  },
  {
   "cell_type": "code",
   "execution_count": null,
   "id": "1af8fbf7-1b28-4362-bd52-068ab1b50732",
   "metadata": {},
   "outputs": [],
   "source": [
    "from reportlab.lib import colors\n",
    "from reportlab.lib.pagesizes import letter\n",
    "from reportlab.platypus import SimpleDocTemplate, Table, TableStyle\n",
    "\n",
    "# Your raw output data\n",
    "raw_data = [\n",
    "    {\"Serve Placement\": \"Ad: Body\", \"Total Serves\": 3, \"Serves Won by Tian Fang Ran\": 3, \"Percentage\": \"100.00%\"},\n",
    "    {\"Serve Placement\": \"Ad: T\", \"Total Serves\": 11, \"Serves Won by Tian Fang Ran\": 8, \"Percentage\": \"72.73%\"},\n",
    "    {\"Serve Placement\": \"Ad: Wide\", \"Total Serves\": 19, \"Serves Won by Tian Fang Ran\": 10, \"Percentage\": \"52.63%\"},\n",
    "    {\"Serve Placement\": \"Deuce: Body\", \"Total Serves\": 5, \"Serves Won by Tian Fang Ran\": 2, \"Percentage\": \"40.00%\"},\n",
    "    {\"Serve Placement\": \"Deuce: T\", \"Total Serves\": 19, \"Serves Won by Tian Fang Ran\": 10, \"Percentage\": \"52.63%\"},\n",
    "    {\"Serve Placement\": \"Deuce: Wide\", \"Total Serves\": 14, \"Serves Won by Tian Fang Ran\": 7, \"Percentage\": \"50.00%\"}\n",
    "]\n",
    "\n",
    "# Convert raw data to list of lists for table\n",
    "table_data = [[\"Serve Placement\", \"Total Serves\", \"Serves Won by Tian Fang Ran\", \"Percentage\"]]\n",
    "for row in raw_data:\n",
    "    table_data.append([row[\"Serve Placement\"], row[\"Total Serves\"], row[\"Serves Won by Tian Fang Ran\"], row[\"Percentage\"]])\n",
    "\n",
    "# Create PDF\n",
    "pdf_filename = \"tennis_stats.pdf\"\n",
    "doc = SimpleDocTemplate(pdf_filename, pagesize=letter)\n",
    "table = Table(table_data)\n",
    "\n",
    "# Add style to table\n",
    "style = TableStyle([('BACKGROUND', (0, 0), (-1, 0), colors.gray),\n",
    "                    ('TEXTCOLOR', (0, 0), (-1, 0), colors.whitesmoke),\n",
    "                    ('ALIGN', (0, 0), (-1, -1), 'CENTER'),\n",
    "                    ('FONTNAME', (0, 0), (-1, 0), 'Helvetica-Bold'),\n",
    "                    ('BOTTOMPADDING', (0, 0), (-1, 0), 12),\n",
    "                    ('BACKGROUND', (0, 1), (-1, -1), colors.beige),\n",
    "                    ('GRID', (0, 0), (-1, -1), 1, colors.black)])\n",
    "table.setStyle(style)\n",
    "\n",
    "# Add table to PDF\n",
    "doc.build([table])\n"
   ]
  },
  {
   "cell_type": "code",
   "execution_count": null,
   "id": "a498a92e-0bbc-4443-9a56-a445afaaf8ea",
   "metadata": {},
   "outputs": [],
   "source": []
  },
  {
   "cell_type": "code",
   "execution_count": null,
   "id": "2fc1f0ee-3845-47f2-a0ad-5da55f6a9f42",
   "metadata": {},
   "outputs": [],
   "source": []
  },
  {
   "cell_type": "code",
   "execution_count": null,
   "id": "570c182f-95ab-488b-9c3c-e291b53c3882",
   "metadata": {},
   "outputs": [],
   "source": []
  },
  {
   "cell_type": "code",
   "execution_count": null,
   "id": "06cac698-8127-4759-afc4-dd5ed61b23d3",
   "metadata": {},
   "outputs": [],
   "source": []
  },
  {
   "cell_type": "code",
   "execution_count": null,
   "id": "9771bfba-a351-4c38-a7a1-435818bc551a",
   "metadata": {},
   "outputs": [],
   "source": []
  },
  {
   "cell_type": "code",
   "execution_count": null,
   "id": "751e3460-86d9-4b3f-8f9f-e84695aea9e5",
   "metadata": {},
   "outputs": [],
   "source": []
  },
  {
   "cell_type": "code",
   "execution_count": null,
   "id": "bbe864d6-4b2d-4ac9-8f91-168b50ff538e",
   "metadata": {},
   "outputs": [],
   "source": []
  },
  {
   "cell_type": "code",
   "execution_count": null,
   "id": "73ad3cda-225e-4b01-9c59-f3c392680df0",
   "metadata": {},
   "outputs": [],
   "source": []
  },
  {
   "cell_type": "code",
   "execution_count": null,
   "id": "b360dc90-7556-4250-bbb4-41f9fd6a208e",
   "metadata": {},
   "outputs": [],
   "source": []
  },
  {
   "cell_type": "code",
   "execution_count": null,
   "id": "111e542f-1110-40b5-b9cb-28e708c2374f",
   "metadata": {},
   "outputs": [],
   "source": []
  },
  {
   "cell_type": "code",
   "execution_count": null,
   "id": "d1153cdc-19fb-412b-a170-c6d2bc81c508",
   "metadata": {},
   "outputs": [],
   "source": []
  },
  {
   "cell_type": "code",
   "execution_count": null,
   "id": "47e4038e-69bc-499c-987f-aff54fec2f2a",
   "metadata": {},
   "outputs": [],
   "source": []
  },
  {
   "cell_type": "code",
   "execution_count": null,
   "id": "e482babb-ebb1-4911-b038-5f460c48f02c",
   "metadata": {},
   "outputs": [],
   "source": []
  },
  {
   "cell_type": "code",
   "execution_count": null,
   "id": "e6afa4fa-aa18-4a10-9827-b70d937804f8",
   "metadata": {},
   "outputs": [],
   "source": []
  },
  {
   "cell_type": "code",
   "execution_count": null,
   "id": "5a97bba7-89de-4336-a808-3365fad25671",
   "metadata": {},
   "outputs": [],
   "source": []
  },
  {
   "cell_type": "code",
   "execution_count": null,
   "id": "20901918-5797-4ece-96a1-c3ad11a5fbc8",
   "metadata": {},
   "outputs": [],
   "source": []
  },
  {
   "cell_type": "code",
   "execution_count": null,
   "id": "e21d3ade-a686-41bb-b067-05a0a32d089f",
   "metadata": {},
   "outputs": [],
   "source": []
  },
  {
   "cell_type": "code",
   "execution_count": null,
   "id": "925aabd6-4b9f-45ac-ad6f-77d50a5e5149",
   "metadata": {},
   "outputs": [],
   "source": []
  },
  {
   "cell_type": "code",
   "execution_count": null,
   "id": "ce26a6d1-de77-4335-b15c-7e7b7a30a611",
   "metadata": {},
   "outputs": [],
   "source": []
  },
  {
   "cell_type": "code",
   "execution_count": null,
   "id": "a1d62be7-0fef-4d11-8d97-8ee8739aa6f0",
   "metadata": {},
   "outputs": [],
   "source": []
  },
  {
   "cell_type": "code",
   "execution_count": null,
   "id": "5b20b844-656b-47a3-8794-b660d00cf28d",
   "metadata": {},
   "outputs": [],
   "source": []
  },
  {
   "cell_type": "code",
   "execution_count": null,
   "id": "694aaae8-c14b-4d80-b0de-b3cf4eed0c01",
   "metadata": {},
   "outputs": [],
   "source": []
  },
  {
   "cell_type": "code",
   "execution_count": null,
   "id": "b741d798-3db8-4e7c-8c35-af14c9f5e8c8",
   "metadata": {},
   "outputs": [],
   "source": []
  },
  {
   "cell_type": "code",
   "execution_count": null,
   "id": "b5d4eb4b-0ad5-44fd-a623-04e8b000c92f",
   "metadata": {},
   "outputs": [],
   "source": []
  },
  {
   "cell_type": "code",
   "execution_count": null,
   "id": "448d3458-77bf-4b7b-8c14-b47b015e798c",
   "metadata": {},
   "outputs": [],
   "source": []
  },
  {
   "cell_type": "code",
   "execution_count": null,
   "id": "f4431b2b-d1af-4529-bc76-f6d7d8621429",
   "metadata": {},
   "outputs": [],
   "source": []
  },
  {
   "cell_type": "code",
   "execution_count": null,
   "id": "f10c3b6d-0a2d-4f60-bf31-044f4ce0703b",
   "metadata": {},
   "outputs": [],
   "source": []
  },
  {
   "cell_type": "code",
   "execution_count": null,
   "id": "1c2e5ed7-bb15-4b35-baad-f8abe32b4410",
   "metadata": {},
   "outputs": [],
   "source": []
  },
  {
   "cell_type": "code",
   "execution_count": null,
   "id": "f32305e4-cef6-47e3-8775-573bce2647fa",
   "metadata": {},
   "outputs": [],
   "source": []
  },
  {
   "cell_type": "code",
   "execution_count": null,
   "id": "d1af7f42-ec99-4115-8682-b2076f054f87",
   "metadata": {},
   "outputs": [],
   "source": []
  },
  {
   "cell_type": "code",
   "execution_count": null,
   "id": "e0721ad8-7de0-46d8-9ebc-8dede726b176",
   "metadata": {},
   "outputs": [],
   "source": []
  },
  {
   "cell_type": "code",
   "execution_count": null,
   "id": "e1bc4d13-11d7-4971-b869-df3b56d21d1b",
   "metadata": {},
   "outputs": [],
   "source": []
  },
  {
   "cell_type": "code",
   "execution_count": null,
   "id": "6151ddec-da12-4498-8c38-2fa130e4fe96",
   "metadata": {},
   "outputs": [],
   "source": []
  },
  {
   "cell_type": "code",
   "execution_count": null,
   "id": "cdfd31c0-cc47-4cb1-b5d4-ad53ddefa76a",
   "metadata": {},
   "outputs": [],
   "source": []
  },
  {
   "cell_type": "code",
   "execution_count": null,
   "id": "3beb9c45-812e-4bf1-805d-a11bb360e4ad",
   "metadata": {},
   "outputs": [],
   "source": []
  },
  {
   "cell_type": "code",
   "execution_count": null,
   "id": "57736fb0-b2eb-4dd7-9a4d-dfdffc92efa6",
   "metadata": {},
   "outputs": [],
   "source": []
  },
  {
   "cell_type": "code",
   "execution_count": null,
   "id": "7d182635-4e62-4364-a200-cf3ce1b7719a",
   "metadata": {},
   "outputs": [],
   "source": []
  },
  {
   "cell_type": "code",
   "execution_count": null,
   "id": "bd3b094a-f6b8-4996-b2d4-781eed49b794",
   "metadata": {},
   "outputs": [],
   "source": []
  },
  {
   "cell_type": "code",
   "execution_count": null,
   "id": "9123c071-a818-4b25-af41-e5bd4a1824d8",
   "metadata": {},
   "outputs": [],
   "source": []
  },
  {
   "cell_type": "code",
   "execution_count": null,
   "id": "880deb31-dbc9-4118-8ae8-2b4b8c57ffeb",
   "metadata": {},
   "outputs": [],
   "source": []
  },
  {
   "cell_type": "code",
   "execution_count": null,
   "id": "c3daa323-de6a-4e1b-adf2-08e887d97f1e",
   "metadata": {},
   "outputs": [],
   "source": []
  },
  {
   "cell_type": "code",
   "execution_count": null,
   "id": "bea7307d-5e70-4673-a681-63336987fb7f",
   "metadata": {},
   "outputs": [],
   "source": []
  },
  {
   "cell_type": "code",
   "execution_count": null,
   "id": "17b93ef2-3a6a-42d1-8d67-13b75e721fdd",
   "metadata": {},
   "outputs": [],
   "source": []
  },
  {
   "cell_type": "code",
   "execution_count": null,
   "id": "e921cd47-023c-4bde-8eba-b94fc6293c4a",
   "metadata": {},
   "outputs": [],
   "source": []
  },
  {
   "cell_type": "code",
   "execution_count": null,
   "id": "59bfd547-3faa-4187-9a0c-3f0bc4f751c7",
   "metadata": {},
   "outputs": [],
   "source": []
  },
  {
   "cell_type": "code",
   "execution_count": null,
   "id": "611d736e-2d8d-4a96-bd82-27cde7179cd9",
   "metadata": {},
   "outputs": [],
   "source": []
  },
  {
   "cell_type": "code",
   "execution_count": null,
   "id": "551e55c5-6ded-40cf-8217-29b812930b65",
   "metadata": {},
   "outputs": [],
   "source": []
  },
  {
   "cell_type": "code",
   "execution_count": null,
   "id": "33ef78c3-f903-4abc-aeaa-edf38d62cd2b",
   "metadata": {},
   "outputs": [],
   "source": []
  },
  {
   "cell_type": "code",
   "execution_count": null,
   "id": "3962e070-c2c7-416f-bbb6-ff3d65385db2",
   "metadata": {},
   "outputs": [],
   "source": []
  },
  {
   "cell_type": "code",
   "execution_count": null,
   "id": "012a54e2-b262-4b5d-a844-4ceb6727785d",
   "metadata": {},
   "outputs": [],
   "source": []
  },
  {
   "cell_type": "code",
   "execution_count": null,
   "id": "bcee4a97-0a2f-4377-b6d6-997794f19eca",
   "metadata": {},
   "outputs": [],
   "source": []
  },
  {
   "cell_type": "code",
   "execution_count": null,
   "id": "a9e9e277-c932-4495-b405-01bbb6ab9995",
   "metadata": {},
   "outputs": [],
   "source": []
  },
  {
   "cell_type": "code",
   "execution_count": null,
   "id": "fe71217d-aac0-4beb-b66c-1bc840b26e9c",
   "metadata": {},
   "outputs": [],
   "source": []
  },
  {
   "cell_type": "code",
   "execution_count": null,
   "id": "c9bcaaf5-5afa-40af-8604-a90f7309af84",
   "metadata": {},
   "outputs": [],
   "source": []
  },
  {
   "cell_type": "code",
   "execution_count": null,
   "id": "733f42d6-817b-4b4f-8950-5ba99676b993",
   "metadata": {},
   "outputs": [],
   "source": []
  },
  {
   "cell_type": "code",
   "execution_count": null,
   "id": "8439cc19-bebe-4c59-8d10-fe0e1550f373",
   "metadata": {},
   "outputs": [],
   "source": []
  },
  {
   "cell_type": "code",
   "execution_count": null,
   "id": "6d52ee67-87d3-4188-b575-c8e506a937c4",
   "metadata": {},
   "outputs": [],
   "source": []
  },
  {
   "cell_type": "code",
   "execution_count": null,
   "id": "ceb2c16f-fbb5-4319-92c2-d13d6a495455",
   "metadata": {},
   "outputs": [],
   "source": []
  },
  {
   "cell_type": "code",
   "execution_count": null,
   "id": "6189c450-0e75-4e93-8183-3c5ec3399f04",
   "metadata": {},
   "outputs": [],
   "source": []
  },
  {
   "cell_type": "code",
   "execution_count": null,
   "id": "131cd1d7-0844-4e2f-ac9e-3e098fa1716d",
   "metadata": {},
   "outputs": [],
   "source": []
  },
  {
   "cell_type": "code",
   "execution_count": null,
   "id": "9f834518-f5ab-40aa-a647-23f92773ccec",
   "metadata": {},
   "outputs": [],
   "source": []
  },
  {
   "cell_type": "code",
   "execution_count": null,
   "id": "f7e7f54c-6a73-44ec-bf38-5215abc3e0db",
   "metadata": {},
   "outputs": [],
   "source": []
  },
  {
   "cell_type": "code",
   "execution_count": null,
   "id": "e3635850-9def-42bf-bae1-544f04a364a9",
   "metadata": {},
   "outputs": [],
   "source": []
  },
  {
   "cell_type": "code",
   "execution_count": null,
   "id": "35c451a8-aef9-49f8-bdc0-90fa21711f5f",
   "metadata": {},
   "outputs": [],
   "source": []
  },
  {
   "cell_type": "code",
   "execution_count": null,
   "id": "80e09832-b80b-44bb-90fb-f923ea83ff5c",
   "metadata": {},
   "outputs": [],
   "source": []
  },
  {
   "cell_type": "code",
   "execution_count": null,
   "id": "8709b1b9-b90b-4868-b0d9-d8381b3f126d",
   "metadata": {},
   "outputs": [],
   "source": []
  },
  {
   "cell_type": "code",
   "execution_count": null,
   "id": "ed20fde9-bb7a-415e-b29d-f59b7ecd20ca",
   "metadata": {},
   "outputs": [],
   "source": []
  },
  {
   "cell_type": "code",
   "execution_count": null,
   "id": "b53e4706-1c7c-4ba4-8d5c-6cda37280c3d",
   "metadata": {},
   "outputs": [],
   "source": []
  },
  {
   "cell_type": "code",
   "execution_count": null,
   "id": "29c269d5-2c4a-4942-af3f-c56f6c4973f7",
   "metadata": {},
   "outputs": [],
   "source": []
  },
  {
   "cell_type": "code",
   "execution_count": null,
   "id": "8fbb62ce-5f1a-4ede-acf6-933c258e3b03",
   "metadata": {},
   "outputs": [],
   "source": []
  },
  {
   "cell_type": "code",
   "execution_count": null,
   "id": "08259781-b67a-4af0-98b0-47090d744f82",
   "metadata": {},
   "outputs": [],
   "source": []
  },
  {
   "cell_type": "code",
   "execution_count": null,
   "id": "8501849a-bcb7-4798-bdcd-b2dfaf4fd206",
   "metadata": {},
   "outputs": [],
   "source": []
  },
  {
   "cell_type": "code",
   "execution_count": null,
   "id": "619bc795-b3a9-4149-b9cc-2a770465de18",
   "metadata": {},
   "outputs": [],
   "source": []
  },
  {
   "cell_type": "code",
   "execution_count": null,
   "id": "14d08a00-bb8f-4283-9a64-9e2abe60542c",
   "metadata": {},
   "outputs": [],
   "source": []
  },
  {
   "cell_type": "code",
   "execution_count": null,
   "id": "ae40915a-013d-48af-a781-e52757ae1d50",
   "metadata": {},
   "outputs": [],
   "source": []
  },
  {
   "cell_type": "code",
   "execution_count": null,
   "id": "0a752b7b-bb83-491d-9314-67b79e122a0a",
   "metadata": {},
   "outputs": [],
   "source": []
  },
  {
   "cell_type": "code",
   "execution_count": null,
   "id": "41442f6d-06bd-4294-8d25-d9ad4930bf46",
   "metadata": {},
   "outputs": [],
   "source": []
  },
  {
   "cell_type": "code",
   "execution_count": null,
   "id": "5c4f01f6-13b9-4dca-863a-ad102a05c4b8",
   "metadata": {},
   "outputs": [],
   "source": []
  },
  {
   "cell_type": "code",
   "execution_count": null,
   "id": "ca5564e0-a7fc-48ff-ada3-138e5d966f7f",
   "metadata": {},
   "outputs": [],
   "source": []
  },
  {
   "cell_type": "code",
   "execution_count": null,
   "id": "269e2ef6-a167-42c1-9ce6-a95668a1526e",
   "metadata": {},
   "outputs": [],
   "source": []
  },
  {
   "cell_type": "code",
   "execution_count": null,
   "id": "b976889c-8deb-4b33-92b7-4037e4b6c004",
   "metadata": {},
   "outputs": [],
   "source": []
  },
  {
   "cell_type": "code",
   "execution_count": null,
   "id": "e3972d78-8808-43ae-828c-d9f883ebdc1f",
   "metadata": {},
   "outputs": [],
   "source": []
  },
  {
   "cell_type": "code",
   "execution_count": null,
   "id": "553ef3c0-a824-4aa5-a5e9-4db0d54b65b3",
   "metadata": {},
   "outputs": [],
   "source": []
  },
  {
   "cell_type": "code",
   "execution_count": null,
   "id": "6588ba44-b85a-41a9-9f54-ed330c91d648",
   "metadata": {},
   "outputs": [],
   "source": []
  },
  {
   "cell_type": "code",
   "execution_count": null,
   "id": "e5bfe27d-f44d-4e85-bfd2-e22c80e87170",
   "metadata": {},
   "outputs": [],
   "source": []
  },
  {
   "cell_type": "code",
   "execution_count": null,
   "id": "386611e0-0bc0-49e1-8afe-1ebe8e9803bc",
   "metadata": {},
   "outputs": [],
   "source": []
  },
  {
   "cell_type": "code",
   "execution_count": null,
   "id": "b6bce86e-d942-4850-9fb9-9d7f09c2d1a7",
   "metadata": {},
   "outputs": [],
   "source": []
  },
  {
   "cell_type": "code",
   "execution_count": null,
   "id": "23671bdd-9b96-4e95-bc9f-0977843e662b",
   "metadata": {},
   "outputs": [],
   "source": []
  },
  {
   "cell_type": "code",
   "execution_count": null,
   "id": "ee19421f-533b-40a3-95a6-332214c1a4ce",
   "metadata": {},
   "outputs": [],
   "source": []
  }
 ],
 "metadata": {
  "kernelspec": {
   "display_name": "Python 3 (ipykernel)",
   "language": "python",
   "name": "python3"
  },
  "language_info": {
   "codemirror_mode": {
    "name": "ipython",
    "version": 3
   },
   "file_extension": ".py",
   "mimetype": "text/x-python",
   "name": "python",
   "nbconvert_exporter": "python",
   "pygments_lexer": "ipython3",
   "version": "3.9.18"
  }
 },
 "nbformat": 4,
 "nbformat_minor": 5
}
