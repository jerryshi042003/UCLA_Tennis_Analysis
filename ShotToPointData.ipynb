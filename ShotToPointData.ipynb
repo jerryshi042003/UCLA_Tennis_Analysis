{
 "cells": [
  {
   "cell_type": "markdown",
   "id": "02d3fd87-62b1-4c6c-a986-8e302a9b9189",
   "metadata": {},
   "source": [
    "# Require Input\n",
    "1. [Fill in File Input](#Load-in-Data)\n",
    "2. [Right or Left Hand](#Right-or-Left-Hand)\n",
    "3. [Output ShotCSV](#Output-ShotCSV)\n",
    "4. [Change to atNet (by Player) from tagger later](#At-Net)\n",
    "5. [EDA and get Stats Here](#EDA)\n",
    "6. [Output PointCSV for Visuals](#PRINT-POINTCSV-VISUALS)\n",
    "7. [Output PointCSV for Upload](#Print-POINTCSV-UPLOAD)"
   ]
  },
  {
   "cell_type": "code",
   "execution_count": null,
   "id": "cd8c00ff-3d26-4800-8124-fe9f5535ad72",
   "metadata": {},
   "outputs": [],
   "source": []
  },
  {
   "cell_type": "code",
   "execution_count": null,
   "id": "3d4eb8f5-b6c5-40e5-9e86-6a66dd993ef5",
   "metadata": {},
   "outputs": [],
   "source": []
  },
  {
   "cell_type": "markdown",
   "id": "ceb6f561-161a-4737-b5fb-1a169a3fe4d7",
   "metadata": {},
   "source": [
    "# Need to change soon\n",
    "- atNetPlayer1, atNetPlayer2 are being aggregated by if hitting a volley. Will be replaced by tagger values for those\n",
    "- pointWonBy is being calculated, replaced by tagger soon\n",
    "- player1Hand and player2Hand are being manually inputted\n",
    "\n",
    "# Add\n",
    "- More stats on approach shots\n",
    "- Pressure Point stats, like what did players did on 30-30 points onwards\n",
    "- Inside Out/Inside In Stats once we get matches with accurate side info\n",
    "- handling of rows where there is error on video side and the point is cut short\n",
    "\n",
    "Notes:\n",
    "- Keep empty values None Type, they will be converted to empty string \"\" right before outputting to Point CSV Only for Upload\n",
    "- Having 1 does not mean other value is boolean 0, it is None"
   ]
  },
  {
   "cell_type": "markdown",
   "id": "f56f6f26-f6d4-4ecd-b701-97224dd8d5db",
   "metadata": {},
   "source": [
    "# Post Process\n",
    "- Adds Point Number (Comment out if already there)\n",
    "- Forward Fills these columns'gameScore','setScore', 'tiebreakScore', 'serverName', 'player1Name', 'player2Name'\n",
    "   - Add this when in tagger: player1Hand, player2Hand \n",
    "- Adds Returner Name\n",
    "- Adds Shot Hit By for each Shot\n",
    "- Adds isInsidein/isInsideOut (booleans 0/1) Columns"
   ]
  },
  {
   "cell_type": "code",
   "execution_count": null,
   "id": "e4bc1d0c-81bc-4b4d-a2cf-4c2c7cab195a",
   "metadata": {},
   "outputs": [],
   "source": []
  },
  {
   "cell_type": "code",
   "execution_count": null,
   "id": "b1de4760-428c-4a32-b9ca-cc2f68ce665b",
   "metadata": {},
   "outputs": [],
   "source": []
  },
  {
   "cell_type": "code",
   "execution_count": 964,
   "id": "e208a631-e46a-41b4-900f-fdc035dec995",
   "metadata": {},
   "outputs": [],
   "source": [
    "import pandas as pd\n",
    "import numpy as np"
   ]
  },
  {
   "cell_type": "markdown",
   "id": "ec62c86e-46c5-40f2-b2f5-89d88a918c71",
   "metadata": {},
   "source": [
    "## Load in Data"
   ]
  },
  {
   "cell_type": "code",
   "execution_count": 965,
   "id": "2bdb70cd-4596-4691-855c-0477381445dd",
   "metadata": {},
   "outputs": [],
   "source": [
    "# Put your file name here\n",
    "shot_data = pd.read_csv(\"./oldtagger/TianFangRan_vs_SabinaZeynalova_Merged.csv\")\n",
    "\n"
   ]
  },
  {
   "cell_type": "markdown",
   "id": "09cac2b0-cff4-4f94-a880-375f3fe3cb29",
   "metadata": {},
   "source": [
    "# Fill in Player Name"
   ]
  },
  {
   "cell_type": "code",
   "execution_count": 966,
   "id": "0396fcbc-16a4-47fc-a751-ff80e2752516",
   "metadata": {},
   "outputs": [
    {
     "name": "stdout",
     "output_type": "stream",
     "text": [
      "player1Name is not blank. Current value: Tian Fang Ran\n",
      "player2Name is not blank. Current value: Sabina Zeynalova\n"
     ]
    }
   ],
   "source": [
    "if shot_data.at[0, 'player1Name'] == None:\n",
    "    print(\"player1Name was blank. Filling with 'fillInplayer1Name'\")\n",
    "    shot_data.at[0, 'player1Name'] = 'fillInplayer1Name'\n",
    "else:\n",
    "    print(\"player1Name is not blank. Current value:\", shot_data.at[0, 'player1Name'])\n",
    "\n",
    "# Check if player2Name is blank, if so, fill it with 'fillInplayer2Name'\n",
    "if shot_data.at[0, 'player2Name'] == None:\n",
    "    print(\"player2Name was blank. Filling with 'fillInplayer2Name'\")\n",
    "    shot_data.at[0, 'player2Name'] = 'fillInplayer2Name'\n",
    "else:\n",
    "    print(\"player2Name is not blank. Current value:\", shot_data.at[0, 'player2Name'])\n"
   ]
  },
  {
   "cell_type": "code",
   "execution_count": null,
   "id": "5afb546a-3f72-4b78-956b-762b96567446",
   "metadata": {},
   "outputs": [],
   "source": []
  },
  {
   "cell_type": "code",
   "execution_count": null,
   "id": "a343d47d-71f9-4947-b699-e596792459c1",
   "metadata": {},
   "outputs": [],
   "source": []
  },
  {
   "cell_type": "markdown",
   "id": "83cb5916-17e3-4620-b894-2cdfa9bf0747",
   "metadata": {},
   "source": [
    "- add side and pointNumber Columns"
   ]
  },
  {
   "cell_type": "code",
   "execution_count": 967,
   "id": "389bae46-ef6b-4c32-beef-ac7f9be19b78",
   "metadata": {},
   "outputs": [],
   "source": [
    "# # IF NO SIDE Column (Old tagger)\n",
    "# deuce_values = ['0-0', '15-15', '40-15', '30-0', '0-30', '15-40', '40-40 (Deuce)', '30-30']\n",
    "# shot_data['side'] = shot_data.apply(lambda row: 'Deuce' if str(row['pointScore']) in deuce_values and row['isPointStart'] == 1 else 'Ad' if str(row['pointScore']) is not None and row['isPointStart'] == 1 else None, axis=1)\n"
   ]
  },
  {
   "cell_type": "code",
   "execution_count": 968,
   "id": "175c644d-ffdc-4c76-8429-9115d001c13c",
   "metadata": {},
   "outputs": [
    {
     "name": "stdout",
     "output_type": "stream",
     "text": [
      "Condition 1 failed: 'pointNumber' column does not exist for every row or contains empty values.\n"
     ]
    }
   ],
   "source": [
    " # Check if both conditions passed\n",
    "if 'pointNumber' in shot_data.columns and not shot_data['pointNumber'].isnull().any() and shot_data['pointNumber'].is_monotonic_increasing:\n",
    "    print(\"All conditions passed: 'pointNumber' column exists for every row, is not empty, and is in increasing order.\")\n",
    "\n",
    "\n",
    "# Check if pointNumber exists for every row and is not empty\n",
    "if 'pointNumber' not in shot_data.columns or shot_data['pointNumber'].isnull().any():\n",
    "    # Execute the script to calculate pointNumber\n",
    "    point_starts = (shot_data['isPointStart'] == 1)\n",
    "    shot_data['pointNumber'] = point_starts.cumsum()\n",
    "    \n",
    "    print(\"Condition 1 failed: 'pointNumber' column does not exist for every row or contains empty values.\")\n",
    "    \n",
    "# Check if pointNumber is in increasing order\n",
    "if not shot_data['pointNumber'].is_monotonic_increasing:\n",
    "    # Print the condition failure if the 'pointNumber' column is not in increasing order\n",
    "    print(\"Condition 2 failed: 'pointNumber' column is not in increasing order.\")\n",
    "    point_starts = (shot_data['isPointStart'] == 1)\n",
    "    shot_data['pointNumber'] = point_starts.cumsum()\n",
    "   "
   ]
  },
  {
   "cell_type": "code",
   "execution_count": 969,
   "id": "38151b56-3c39-479a-834d-ebf2b5dc45b7",
   "metadata": {},
   "outputs": [
    {
     "name": "stdout",
     "output_type": "stream",
     "text": [
      "Count of rows missing 'pointNumber': 0\n"
     ]
    }
   ],
   "source": [
    "missing_rows = shot_data[shot_data['pointNumber'].isnull()]\n",
    "print(f\"Count of rows missing 'pointNumber': {len(missing_rows)}\")\n",
    "# print(missing_rows)"
   ]
  },
  {
   "cell_type": "code",
   "execution_count": null,
   "id": "3bda3b6d-a90c-4377-8229-ebbd4ff45cac",
   "metadata": {},
   "outputs": [],
   "source": []
  },
  {
   "cell_type": "markdown",
   "id": "6d443221-db14-4598-bf2a-664dd32489f3",
   "metadata": {},
   "source": [
    "- Check for NA's (Revise Data if needed)\n",
    "- shotInRally\n",
    "- pointScore\n",
    "- gameScore\n",
    "- setScore\n",
    "- side\n",
    "- pointStartTime when isPointStart = 1\n",
    "- pointEndTime when sPointEnd = 1"
   ]
  },
  {
   "cell_type": "code",
   "execution_count": 970,
   "id": "4ad4d3f7-6338-4e0b-a01a-683d3db80aee",
   "metadata": {},
   "outputs": [
    {
     "name": "stdout",
     "output_type": "stream",
     "text": [
      "Count of empty strings in each column that includes at least one:\n",
      "Series([], dtype: int64)\n",
      "\n",
      "Cout of NA's in these columns\n",
      "shotInRally      0\n",
      "pointScore      91\n",
      "gameScore        0\n",
      "setScore         0\n",
      "side           472\n",
      "player1Name    818\n",
      "player2Name    818\n",
      "serverName       0\n",
      "dtype: int64\n",
      "\n",
      "Count of NaN values in 'pointScore' when 'gameScore' is '6-6': 91\n",
      "\n",
      "Count of NaN values for side on Point Start: 0\n"
     ]
    }
   ],
   "source": [
    "# Count empty strings in each column\n",
    "empty_string_counts = (shot_data == \"\").sum()\n",
    "\n",
    "# Filter out columns with zero empty strings\n",
    "non_zero_counts = empty_string_counts[empty_string_counts > 0]\n",
    "\n",
    "# Display the counts\n",
    "print(\"Count of empty strings in each column that includes at least one:\")\n",
    "print(non_zero_counts)\n",
    "# Count NaN or empty values in specified columns\n",
    "na_counts = shot_data[['shotInRally', 'pointScore', 'gameScore', 'setScore', 'side', 'player1Name', 'player2Name','serverName']].isna().sum()\n",
    "\n",
    "# Display the counts\n",
    "print(f\"\\nCout of NA's in these columns\\n{na_counts}\")\n",
    "\n",
    "# Count NaN values in 'pointScore' column when 'gameScore' is '6-6'\n",
    "na_count = shot_data.loc[shot_data['gameScore'] == '6-6', 'pointScore'].isna().sum()\n",
    "\n",
    "# Display the count\n",
    "print(\"\\nCount of NaN values in 'pointScore' when 'gameScore' is '6-6':\", na_count)\n",
    "\n",
    "# Count NaN values in 'pointScore' column when 'gameScore' is '6-6'\n",
    "side_na_count = shot_data.loc[shot_data['isPointStart'] == 1, 'side'].isna().sum()\n",
    "\n",
    "# Display the count\n",
    "print(\"\\nCount of NaN values for side on Point Start:\", side_na_count)\n",
    "\n"
   ]
  },
  {
   "cell_type": "code",
   "execution_count": 971,
   "id": "1c8e3ec9-bc77-4ba1-925d-e1d3ad8f75f9",
   "metadata": {},
   "outputs": [],
   "source": [
    "empty_shot_rows = shot_data[shot_data['shotInRally'].isnull()]\n",
    "\n",
    "# Iterate over the index of empty_shot_rows\n",
    "for index in empty_shot_rows.index:\n",
    "    # Get the row with empty shotInRally\n",
    "    empty_row = shot_data.loc[index]\n",
    "    \n",
    "    # Get the row above it\n",
    "    if index - 1 >= 0:\n",
    "        above_row = shot_data.loc[index - 1]\n",
    "    else:\n",
    "        above_row = None\n",
    "    \n",
    "    # Get the row below it\n",
    "    if index + 1 < len(shot_data):\n",
    "        below_row = shot_data.loc[index + 1]\n",
    "    else:\n",
    "        below_row = None\n",
    "    \n",
    "    # Print the rows\n",
    "    print(\"Empty row:\")\n",
    "    print(empty_row)\n",
    "    print(\"Row above:\")\n",
    "    print(above_row)\n",
    "    print(\"Row below:\")\n",
    "    print(below_row)\n",
    "    print(\"====================\")\n"
   ]
  },
  {
   "cell_type": "code",
   "execution_count": 972,
   "id": "1e1f3ced-b6f2-4435-b8f8-f9dc4fbf22e9",
   "metadata": {},
   "outputs": [
    {
     "name": "stdout",
     "output_type": "stream",
     "text": [
      "Count of rows where PointStartTime is missing: 3\n",
      "These are rows where PointStartTime is missing \n",
      "    pointScore gameScore setScore tiebreakScore  isPointStart  pointStartTime  \\\n",
      "586      40-15       1-0      1-0           NaN           1.0             NaN   \n",
      "616        0-0       3-1      1-0           NaN           1.0             NaN   \n",
      "774      30-15       5-3      1-0           NaN           1.0             NaN   \n",
      "\n",
      "     isPointEnd  pointEndTime  pointNumber  isBreakPoint  ...  Date Division  \\\n",
      "586         NaN           NaN           92           NaN  ...   NaN      NaN   \n",
      "616         NaN           NaN          104           NaN  ...   NaN      NaN   \n",
      "774         NaN           NaN          134           NaN  ...   NaN      NaN   \n",
      "\n",
      "    Event  matchDetails opponentTeam  player1Name  player2Name  Round Surface  \\\n",
      "586   NaN           NaN          NaN          NaN          NaN    NaN     NaN   \n",
      "616   NaN           NaN          NaN          NaN          NaN    NaN     NaN   \n",
      "774   NaN           NaN          NaN          NaN          NaN    NaN     NaN   \n",
      "\n",
      "     Notes  \n",
      "586    NaN  \n",
      "616    NaN  \n",
      "774    NaN  \n",
      "\n",
      "[3 rows x 55 columns]\n"
     ]
    }
   ],
   "source": [
    "# Find rows where isPointStart is True, but missing pointStartTime\n",
    "missing_start_time = shot_data[((shot_data['isPointStart'] == 1) & shot_data['pointStartTime'].isna())]\n",
    "print(f\"Count of rows where PointStartTime is missing: {len(missing_start_time)}\")\n",
    "\n",
    "\n",
    "print(f\"These are rows where PointStartTime is missing \\n{missing_start_time}\")"
   ]
  },
  {
   "cell_type": "code",
   "execution_count": 973,
   "id": "a80e9409-1888-4ca3-b38f-09cb77fda459",
   "metadata": {},
   "outputs": [
    {
     "name": "stdout",
     "output_type": "stream",
     "text": [
      "Count of rows where PointEndTime is missing: 6\n",
      "These are rows where PointEndTime is missing \n",
      "    pointScore gameScore setScore tiebreakScore  isPointStart  pointStartTime  \\\n",
      "361       15-0       5-4      0-0           NaN           NaN             NaN   \n",
      "377      40-15       5-4      0-0           NaN           NaN             NaN   \n",
      "378      40-30       5-4      0-0           NaN           1.0       3143732.0   \n",
      "588      40-15       1-0      1-0           NaN           NaN             NaN   \n",
      "621        0-0       3-1      1-0           NaN           NaN             NaN   \n",
      "788      30-15       5-3      1-0           NaN           NaN             NaN   \n",
      "\n",
      "     isPointEnd  pointEndTime  pointNumber  isBreakPoint  ...  Date Division  \\\n",
      "361         1.0           NaN           52           NaN  ...   NaN      NaN   \n",
      "377         1.0           NaN           55           NaN  ...   NaN      NaN   \n",
      "378         1.0           NaN           56           NaN  ...   NaN      NaN   \n",
      "588         1.0           NaN           92           NaN  ...   NaN      NaN   \n",
      "621         1.0           NaN          104           NaN  ...   NaN      NaN   \n",
      "788         1.0           NaN          134           NaN  ...   NaN      NaN   \n",
      "\n",
      "    Event  matchDetails opponentTeam  player1Name  player2Name  Round Surface  \\\n",
      "361   NaN           NaN          NaN          NaN          NaN    NaN     NaN   \n",
      "377   NaN           NaN          NaN          NaN          NaN    NaN     NaN   \n",
      "378   NaN           NaN          NaN          NaN          NaN    NaN     NaN   \n",
      "588   NaN           NaN          NaN          NaN          NaN    NaN     NaN   \n",
      "621   NaN           NaN          NaN          NaN          NaN    NaN     NaN   \n",
      "788   NaN           NaN          NaN          NaN          NaN    NaN     NaN   \n",
      "\n",
      "     Notes  \n",
      "361    NaN  \n",
      "377    NaN  \n",
      "378    NaN  \n",
      "588    NaN  \n",
      "621    NaN  \n",
      "788    NaN  \n",
      "\n",
      "[6 rows x 55 columns]\n"
     ]
    }
   ],
   "source": [
    "# Find rows where isPointEnd is True, but missing pointEndTime\n",
    "missingEndTime = shot_data[((shot_data['isPointEnd'] == 1) & shot_data['pointEndTime'].isna())]\n",
    "print(f\"Count of rows where PointEndTime is missing: {len(missingEndTime)}\")\n",
    "\n",
    "# Display the missing rows \n",
    "print(f\"These are rows where PointEndTime is missing \\n{missingEndTime}\")"
   ]
  },
  {
   "cell_type": "code",
   "execution_count": null,
   "id": "35811be8-43d0-49c8-b522-ab3846b0bbdc",
   "metadata": {},
   "outputs": [],
   "source": []
  },
  {
   "cell_type": "markdown",
   "id": "9c13d5e3-16ef-4422-8cdd-85e2709b7baf",
   "metadata": {},
   "source": [
    "- Make Jan-00 back into 1-0 for Game/Set Score"
   ]
  },
  {
   "cell_type": "code",
   "execution_count": 974,
   "id": "eb3e80e3-f9fa-411c-b581-905d23c4b6b1",
   "metadata": {},
   "outputs": [],
   "source": [
    "# Make Scores Strings not Date Time\n",
    "columns_to_convert = ['gameScore', 'setScore'] #if no tiebreakScore\n",
    "# columns_to_convert = ['gameScore', 'setScore', 'tiebreakScore']\n",
    "shot_data[columns_to_convert] = shot_data[columns_to_convert].astype(object)"
   ]
  },
  {
   "cell_type": "code",
   "execution_count": 975,
   "id": "9668d28e-c767-45ae-ae9e-20ac2a119e4c",
   "metadata": {},
   "outputs": [],
   "source": [
    "import re\n",
    "\n",
    "# Define a mapping for month abbreviations\n",
    "month_mapping = {'Jan': '1', 'Feb': '2', 'Mar': '3', 'Apr': '4', 'May': '5', 'Jun': '6',\n",
    "                 'Jul': '7', 'Aug': '8', 'Sep': '9', 'Oct': '10', 'Nov': '11', 'Dec': '12'}\n",
    "\n",
    "# Function to convert string like 'Jan-00' to '1-0'\n",
    "def convert_score_string(score_str):\n",
    "    # Check if the string has a month abbreviation and a year ending with '00'\n",
    "    if re.match(r'^\\d{1,2}-[A-Za-z]{3}$', score_str):\n",
    "        # Extract year and month abbreviation\n",
    "        year, month = score_str.split('-')\n",
    "\n",
    "        # Remove leading zeros from the year\n",
    "        year = str(int(year))\n",
    "\n",
    "        # Replace month abbreviation with corresponding number\n",
    "        month_number = month_mapping.get(month, month)\n",
    "\n",
    "        # Concatenate the parts to form the transformed string\n",
    "        transformed_str = f'{year}-{month_number}'\n",
    "\n",
    "        return transformed_str\n",
    "\n",
    "    # Check if the string has a month abbreviation and a year with leading '0's\n",
    "    elif re.match(r'^[A-Za-z]{3}-\\d{1,2}$', score_str):\n",
    "        # Extract month abbreviation and year\n",
    "        month, year = score_str.split('-')\n",
    "\n",
    "        # Replace month abbreviation with corresponding number\n",
    "        month_number = month_mapping.get(month, month)\n",
    "\n",
    "        # Remove leading zeros from the year\n",
    "        year = str(int(year))\n",
    "\n",
    "        # Concatenate the parts to form the transformed string\n",
    "        transformed_str = f'{month_number}-{year}'\n",
    "\n",
    "        return transformed_str\n",
    "\n",
    "    return score_str\n",
    "\n",
    "# Apply the conversion function to the relevant columns in shot_data\n",
    "shot_data['gameScore'] = shot_data['gameScore'].apply(convert_score_string)\n",
    "shot_data['setScore'] = shot_data['setScore'].apply(convert_score_string)\n",
    "# shot_data['tiebreakerScore'] = shot_data['tiebreakerScore'].apply(convert_score_string)\n"
   ]
  },
  {
   "cell_type": "code",
   "execution_count": 976,
   "id": "6dc62692-a1a6-4d0c-9e3a-d15f3ce06b84",
   "metadata": {},
   "outputs": [
    {
     "name": "stdout",
     "output_type": "stream",
     "text": [
      "Unique Set Scores: ['0-0' '1-0']\n",
      "Unique Game Scores: ['0-0' '1-0' '2-0' '2-1' '3-1' '3-2' '3-3' '4-3' '5-3' '5-4' '5-5' '6-5'\n",
      " '6-6' '4-1' '4-2']\n"
     ]
    }
   ],
   "source": [
    "# Assuming shot_data is your DataFrame\n",
    "unique_set_scores = shot_data['setScore'].unique()\n",
    "unique_game_scores = shot_data['gameScore'].unique()\n",
    "\n",
    "# Print unique values\n",
    "print(\"Unique Set Scores:\", unique_set_scores)\n",
    "print(\"Unique Game Scores:\", unique_game_scores)\n"
   ]
  },
  {
   "cell_type": "code",
   "execution_count": null,
   "id": "425ab6c7-3090-4a9a-a36b-e5d3d374d5f7",
   "metadata": {},
   "outputs": [],
   "source": []
  },
  {
   "cell_type": "code",
   "execution_count": null,
   "id": "7b7fc357-1177-4b49-b365-e8dd8fec88bc",
   "metadata": {},
   "outputs": [],
   "source": []
  },
  {
   "cell_type": "code",
   "execution_count": 977,
   "id": "c3f90393-ff6d-48f5-b123-dcc6a0b4c19d",
   "metadata": {},
   "outputs": [
    {
     "name": "stdout",
     "output_type": "stream",
     "text": [
      "     shotType returnData  shotFhBh  shotDirection\n",
      "804       NaN        NaN      None           None\n",
      "805  Forehand        NaN  Forehand  Down the Line\n",
      "806       NaN        NaN      None           None\n",
      "807  Backhand        NaN  Backhand     Crosscourt\n",
      "808  Forehand        NaN  Forehand     Crosscourt\n",
      "809  Backhand        NaN  Backhand  Down the Line\n",
      "810  Forehand        NaN  Forehand     Crosscourt\n",
      "811       NaN        NaN      None           None\n",
      "812  Forehand        NaN  Forehand  Down the Line\n",
      "813  Backhand        NaN  Backhand     Crosscourt\n",
      "814  Backhand        NaN  Backhand     Crosscourt\n",
      "815       NaN        NaN      None           None\n",
      "816  Backhand        NaN  Backhand     Crosscourt\n",
      "817  Backhand        NaN  Backhand  Down the Line\n",
      "818  Forehand        NaN  Forehand     Crosscourt\n"
     ]
    }
   ],
   "source": [
    "# Create new columns\n",
    "import pandas as pd\n",
    "\n",
    "# Assuming shot_data is your DataFrame\n",
    "\n",
    "# Define functions to extract shotFhBh and shotDirection from shotType\n",
    "def extract_shotFhBh(x):\n",
    "    if 'Forehand' in str(x):\n",
    "        return 'Forehand'\n",
    "    elif 'Backhand' in str(x):\n",
    "        return 'Backhand'\n",
    "    else:\n",
    "        return None\n",
    "\n",
    "def extract_shotDirection(x):\n",
    "    if 'Crosscourt' in str(x):\n",
    "        return 'Crosscourt'\n",
    "    elif 'Down the Line' in str(x):\n",
    "        return 'Down the Line'\n",
    "    else:\n",
    "        return None\n",
    "\n",
    "# Apply the functions to create new columns, but only when shotFhBh and shotDirection are empty\n",
    "shot_data['shotFhBh'] = shot_data['shotFhBh'].fillna(shot_data['shotType'].apply(extract_shotFhBh))\n",
    "shot_data['shotDirection'] = shot_data['shotDirection'].fillna(shot_data['shotType'].apply(extract_shotDirection))\n",
    "\n",
    "# Similarly, apply the functions to returnData, but only when shotFhBh and shotDirection are still empty\n",
    "shot_data.loc[pd.notna(shot_data['returnData']) & pd.isna(shot_data['shotFhBh']), 'shotFhBh'] = shot_data.loc[pd.notna(shot_data['returnData']), 'returnData'].apply(extract_shotFhBh)\n",
    "shot_data.loc[pd.notna(shot_data['returnData']) & pd.isna(shot_data['shotDirection']), 'shotDirection'] = shot_data.loc[pd.notna(shot_data['returnData']), 'returnData'].apply(extract_shotDirection)\n",
    "\n",
    "\n",
    "# Display the resulting DataFrame\n",
    "print(shot_data[['shotType', 'returnData', 'shotFhBh', 'shotDirection']].tail(15))"
   ]
  },
  {
   "cell_type": "markdown",
   "id": "75dc0418-54c9-4169-8949-f0d0162dfa38",
   "metadata": {},
   "source": [
    "- Fill in any NA for ['gameScore','setScore', 'serverName', 'player1Name', 'player2Name'] by forward filling\n",
    "- Example: (1, NA, NA) -> (1, 1, 1)"
   ]
  },
  {
   "cell_type": "code",
   "execution_count": null,
   "id": "31a880ec-7ac5-4c1c-aa0d-4b4fb4aa7f6f",
   "metadata": {},
   "outputs": [],
   "source": []
  },
  {
   "cell_type": "code",
   "execution_count": null,
   "id": "eb5e5c61-8740-48c1-a4e8-84bb3709eab0",
   "metadata": {},
   "outputs": [],
   "source": []
  },
  {
   "cell_type": "markdown",
   "id": "9aa7ed4f-7ebd-4c0b-b287-b8492bba44b6",
   "metadata": {},
   "source": [
    "# Add More Columns\n",
    "- ReturnerName \n",
    "- shotHitBy\n",
    "- isInsideOut\n",
    "- isInsideIN\n"
   ]
  },
  {
   "cell_type": "code",
   "execution_count": 978,
   "id": "a95e4421-a815-4347-96b0-a71ad91011a2",
   "metadata": {},
   "outputs": [
    {
     "name": "stdout",
     "output_type": "stream",
     "text": [
      "Player 1 = Tian Fang Ran, Player 2 = Sabina Zeynalova\n"
     ]
    }
   ],
   "source": [
    "# Get Returner Name for Shot DF\n",
    "\n",
    "# Extract player1Name and player2Name from the first row of shot_data\n",
    "first_row_shot_df = shot_data.iloc[0]\n",
    "player1_name = first_row_shot_df['player1Name']\n",
    "player2_name = first_row_shot_df['player2Name']\n",
    "\n",
    "# # Can Also Manually inpute Player 1 and 2 name\n",
    "# player1_name = \"Kimmi Hance\"\n",
    "# player2_name = \"Malaika Rapolu\"\n",
    "\n",
    "def get_returner_name(server_name):\n",
    "    return player2_name if server_name == player1_name else player1_name\n",
    "\n",
    "# Add 'Returner Name' column to point_df using the function\n",
    "shot_data['returnerName'] = shot_data['serverName'].apply(get_returner_name)\n",
    "\n",
    "print(f\"Player 1 = {player1_name}, Player 2 = {player2_name}\")\n",
    "# print(shot_data[['serverName','returnerName']])"
   ]
  },
  {
   "cell_type": "code",
   "execution_count": 979,
   "id": "359b8ee1-b6f1-4bad-b4c0-e0fd39e01ae1",
   "metadata": {},
   "outputs": [],
   "source": [
    "# Add Shot Hit By for each Shot\n",
    "\n",
    "shot_data['shotHitBy'] = shot_data.apply(lambda row: row['serverName'] if row['shotInRally'] % 2 == 1 else row['returnerName'], axis=1)\n",
    "# print(shot_data[['serverName', 'shotHitBy','pointNumber', 'shotInRally']].head(20))"
   ]
  },
  {
   "cell_type": "markdown",
   "id": "14a4d9c4-ba53-4a5e-bfd1-55dfea8ad426",
   "metadata": {},
   "source": []
  },
  {
   "cell_type": "markdown",
   "id": "11500072-8116-4a17-82f6-6c8bce744215",
   "metadata": {},
   "source": [
    "# Right or Left Hand"
   ]
  },
  {
   "cell_type": "code",
   "execution_count": 980,
   "id": "af2be844-bca8-4631-b0b1-55353fdfe47e",
   "metadata": {},
   "outputs": [
    {
     "name": "stdout",
     "output_type": "stream",
     "text": [
      "player1Hand: Right\n",
      "player2Hand: Right\n"
     ]
    }
   ],
   "source": [
    "# Change this with whatever is player1Hand and player2Hand first Column Values\n",
    "fill_in_player1hand = \"Right\"\n",
    "fill_in_player2hand = \"Right\"\n",
    "\n",
    "# Find the first non-null value in player1Hand column\n",
    "player1hand = shot_data['player1Hand'].dropna().iloc[0] if 'player1Hand' in shot_data.columns else fill_in_player1hand\n",
    "player2hand = shot_data['player2Hand'].dropna().iloc[0] if 'player2Hand' in shot_data.columns else fill_in_player2hand\n",
    "\n",
    "# Display the updated values\n",
    "print(\"player1Hand:\", player1hand)\n",
    "print(\"player2Hand:\", player2hand)\n",
    "\n",
    "shot_data['player1Hand'] = player1hand\n",
    "shot_data['player2Hand'] = player2hand"
   ]
  },
  {
   "cell_type": "code",
   "execution_count": 981,
   "id": "f6d99f4c-77a8-48e4-9556-b0ff3417a2bb",
   "metadata": {},
   "outputs": [],
   "source": [
    "# Add columns for isInsideOut and isInsideIn, initially set to 0\n",
    "shot_data['isInsideOut'] = None\n",
    "shot_data['isInsideIn'] = None\n",
    "\n",
    "# Iterate through rows\n",
    "for index, row in shot_data.iterrows():\n",
    "    shotHitBy = row['shotHitBy']\n",
    "    player_hand = player1hand if shotHitBy == row['player1Name'] else player2hand\n",
    "    \n",
    "    if player_hand == \"Right\":\n",
    "        if row['side'] == \"Deuce\" and row['shotType'] == \"Backhand\" and row['shotDirection'] == \"Crosscourt\":\n",
    "            shot_data.at[index, 'isInsideOut'] = 1\n",
    "        elif row['side'] == \"Ad\" and row['shotType'] == \"Forehand\" and row['shotDirection'] == \"Crosscourt\":\n",
    "            shot_data.at[index, 'isInsideOut'] = 1\n",
    "        elif row['side'] == \"Deuce\" and row['shotType'] == \"Backhand\" and row['shotDirection'] == \"Down the Line\":\n",
    "            shot_data.at[index, 'isInsideIn'] = 1\n",
    "        elif row['side'] == \"Ad\" and row['shotType'] == \"Forehand\" and row['shotDirection'] == \"Down the Line\":\n",
    "            shot_data.at[index, 'isInsideIn'] = 1\n",
    "    elif player_hand == \"Left\":\n",
    "        if row['side'] == \"Ad\" and row['shotType'] == \"Backhand\" and row['shotDirection'] == \"Crosscourt\":\n",
    "            shot_data.at[index, 'isInsideOut'] = 1\n",
    "        elif row['side'] == \"Deuce\" and row['shotType'] == \"Forehand\" and row['shotDirection'] == \"Crosscourt\":\n",
    "            shot_data.at[index, 'isInsideOut'] = 1\n",
    "        elif row['side'] == \"Ad\" and row['shotType'] == \"Backhand\" and row['shotDirection'] == \"Down the Line\":\n",
    "            shot_data.at[index, 'isInsideIn'] = 1\n",
    "        elif row['side'] == \"Deuce\" and row['shotType'] == \"Forehand\" and row['shotDirection'] == \"Down the Line\":\n",
    "            shot_data.at[index, 'isInsideIn'] = 1"
   ]
  },
  {
   "cell_type": "code",
   "execution_count": 982,
   "id": "a14a32f6-db9d-44e8-ad59-32b48995eb23",
   "metadata": {},
   "outputs": [],
   "source": [
    "# Add the Ace column\n",
    "shot_data['isAce'] = None\n",
    "\n",
    "for index, row in shot_data.iterrows():\n",
    "    if row['isPointEnd'] == 1:\n",
    "        if row['shotInRally'] == 1: # last point is serve\n",
    "            if (row['firstServeIn'] == 1 or row['secondServeIn'] == 1): # either first or second serve went in\n",
    "                shot_data.at[index, 'isAce'] = 1"
   ]
  },
  {
   "cell_type": "code",
   "execution_count": 983,
   "id": "7365f350-9cb6-4c1a-ae51-8def184dddb4",
   "metadata": {},
   "outputs": [],
   "source": [
    "# Add the DoubleFault column\n",
    "shot_data['isDoubleFault'] = None\n",
    "\n",
    "for index, row in shot_data.iterrows():\n",
    "    if row['isPointEnd'] == 1:\n",
    "        if row['shotInRally'] == 1: # last point is serve\n",
    "            if (row['firstServeIn'] != 1 and row['secondServeIn'] != 1): # either first or second serve went in\n",
    "                shot_data.at[index, 'isDoubleFault'] = 1"
   ]
  },
  {
   "cell_type": "code",
   "execution_count": 984,
   "id": "d453c3e5-cf56-41a1-89ff-0db6f4ace548",
   "metadata": {},
   "outputs": [],
   "source": [
    "# Add the 'pointWonBy' column\n",
    "shot_data['pointWonBy'] = None\n",
    "\n",
    "# Add the 'lastShotError' column\n",
    "shot_data['lastShotError'] = 0\n",
    "\n",
    "for index, row in shot_data.iterrows():\n",
    "    if row['isPointEnd'] == 1:\n",
    "        if row['shotInRally'] == 1: # last point is serve\n",
    "            if row['isAce'] == 1: \n",
    "                shot_data.at[index, 'pointWonBy'] = row['serverName']\n",
    "            elif row['isDoubleFault'] == 1: \n",
    "                shot_data.at[index, 'pointWonBy'] = row['returnerName']\n",
    "\n",
    "                \n",
    "        elif row['shotInRally'] != 1:\n",
    "            if row['isErrorWideR'] == 1 or row['isErrorWideL'] == 1 or row['isErrorNet'] == 1 or row['isErrorLong'] == 1: # if error\n",
    "                shot_data.at[index, 'lastShotError'] = 1\n",
    "                \n",
    "                if row['shotInRally'] % 2 == 0:\n",
    "                    shot_data.at[index, 'pointWonBy'] = row['serverName']\n",
    "                else:\n",
    "                    shot_data.at[index, 'pointWonBy'] = row['returnerName']\n",
    "        \n",
    "            elif row['isWinner'] == 1:\n",
    "                if row['shotInRally'] % 2 == 0:\n",
    "                    shot_data.at[index, 'pointWonBy'] = row['returnerName']\n",
    "                else:\n",
    "                    shot_data.at[index, 'pointWonBy'] = row['serverName']\n"
   ]
  },
  {
   "cell_type": "code",
   "execution_count": 985,
   "id": "95575899-5503-43b7-ac8c-49e0fa438fd2",
   "metadata": {},
   "outputs": [
    {
     "data": {
      "text/plain": [
       "array(['Tian Fang Ran', 'Sabina Zeynalova'], dtype=object)"
      ]
     },
     "execution_count": 985,
     "metadata": {},
     "output_type": "execute_result"
    }
   ],
   "source": [
    "shot_data['serverName'].unique()"
   ]
  },
  {
   "cell_type": "code",
   "execution_count": 986,
   "id": "ad71632e-37e0-422d-b486-8f5fb1eba85a",
   "metadata": {},
   "outputs": [],
   "source": [
    "# Forward Fill GameScore, SetScore, tiebreakScore, serverName, player1Name, player2Name\n",
    "\n",
    "columns_to_fill = ['gameScore','setScore', 'serverName', 'player1Name', 'player2Name', 'player1Hand', 'player2Hand'] \n",
    "# columns_to_fill = ['gameScore','setScore', 'tiebreakScore', 'serverName', 'player1Name', 'player2Name'] \n",
    "# Add player1Hand, player2Hand when it is in tagger\n",
    "\n",
    "for column in columns_to_fill:\n",
    "    shot_data[column].replace(['', 'na'], pd.NaT, inplace=True)\n",
    "    shot_data[column] = shot_data[column].ffill()"
   ]
  },
  {
   "cell_type": "code",
   "execution_count": null,
   "id": "65314f7a-604a-4505-9836-ffa2fe710219",
   "metadata": {},
   "outputs": [],
   "source": []
  },
  {
   "cell_type": "code",
   "execution_count": 987,
   "id": "d4d7f2a2-2680-491b-8983-ee00a07188f1",
   "metadata": {},
   "outputs": [
    {
     "name": "stdout",
     "output_type": "stream",
     "text": [
      "    pointScore gameScore setScore  lastShotError  isWinner  isErrorWideR  \\\n",
      "60        0-15       2-0      0-0              0       NaN           NaN   \n",
      "358        0-0       5-4      0-0              0       NaN           NaN   \n",
      "517        NaN       6-6      0-0              0       NaN           NaN   \n",
      "\n",
      "     isErrorWideL  isErrorNet  isErrorLong pointWonBy        serverName  \\\n",
      "60            NaN         NaN          NaN       None     Tian Fang Ran   \n",
      "358           NaN         NaN          NaN       None  Sabina Zeynalova   \n",
      "517           NaN         NaN          NaN       None     Tian Fang Ran   \n",
      "\n",
      "     shotInRally  \n",
      "60             2  \n",
      "358            3  \n",
      "517            8  \n"
     ]
    }
   ],
   "source": [
    "print(shot_data[(shot_data['isPointEnd'] == 1) & (shot_data['pointWonBy'].isnull())][['pointScore', 'gameScore','setScore', 'lastShotError', 'isWinner', 'isErrorWideR', 'isErrorWideL',\n",
    "       'isErrorNet', 'isErrorLong', 'pointWonBy', 'serverName', 'shotInRally']])\n"
   ]
  },
  {
   "cell_type": "code",
   "execution_count": null,
   "id": "03c7ff90-0232-4052-a531-7d179fede8f3",
   "metadata": {},
   "outputs": [],
   "source": []
  },
  {
   "cell_type": "code",
   "execution_count": 988,
   "id": "0c4824d7-8324-4dc9-9b81-3a721f5c4d24",
   "metadata": {},
   "outputs": [
    {
     "name": "stdout",
     "output_type": "stream",
     "text": [
      "Total count where isPointStart = 1: 141\n",
      "Total count where isPointEnd = 1: 141\n",
      "Rows where isPointEnd doesn't have a corresponding isPointStart:\n",
      "Empty DataFrame\n",
      "Columns: [pointScore, gameScore, setScore, tiebreakScore, isPointStart, pointStartTime, isPointEnd, pointEndTime, pointNumber, isBreakPoint, shotInRally, side, serverName, firstServeIn, firstServeZone, firstServeXCoord, firstServeYCoord, secondServeIn, secondServeZone, secondServeXCoord, secondServeYCoord, isAce, returnData, returnContactX, returnContactY, returnPlacementX, returnPlacementY, shotContactX, shotContactY, shotDirection, shotFhBh, shotType, isSlice, isVolley, isOverhead, isApproach, isDropshot, shotLocationX, shotLocationY, isWinner, isErrorWideR, isErrorWideL, isErrorNet, isErrorLong, clientTeam, Date, Division, Event, matchDetails, opponentTeam, player1Name, player2Name, Round, Surface, Notes, returnerName, shotHitBy, player1Hand, player2Hand, isInsideOut, isInsideIn, isDoubleFault, pointWonBy, lastShotError]\n",
      "Index: []\n",
      "\n",
      "[0 rows x 64 columns]\n",
      "Rows where isPointStart may double up without a corresponding isPointEnd:\n",
      "Empty DataFrame\n",
      "Columns: [pointScore, gameScore, setScore, tiebreakScore, isPointStart, pointStartTime, isPointEnd, pointEndTime, pointNumber, isBreakPoint, shotInRally, side, serverName, firstServeIn, firstServeZone, firstServeXCoord, firstServeYCoord, secondServeIn, secondServeZone, secondServeXCoord, secondServeYCoord, isAce, returnData, returnContactX, returnContactY, returnPlacementX, returnPlacementY, shotContactX, shotContactY, shotDirection, shotFhBh, shotType, isSlice, isVolley, isOverhead, isApproach, isDropshot, shotLocationX, shotLocationY, isWinner, isErrorWideR, isErrorWideL, isErrorNet, isErrorLong, clientTeam, Date, Division, Event, matchDetails, opponentTeam, player1Name, player2Name, Round, Surface, Notes, returnerName, shotHitBy, player1Hand, player2Hand, isInsideOut, isInsideIn, isDoubleFault, pointWonBy, lastShotError]\n",
      "Index: []\n",
      "\n",
      "[0 rows x 64 columns]\n"
     ]
    }
   ],
   "source": [
    "\n",
    "\n",
    "# Count where isPointStart = 1\n",
    "count_isPointStart = (shot_data['isPointStart'] == 1).sum()\n",
    "\n",
    "# Count where isPointEnd = 1\n",
    "count_isPointEnd = (shot_data['isPointEnd'] == 1).sum()\n",
    "\n",
    "print(\"Total count where isPointStart = 1:\", count_isPointStart)\n",
    "print(\"Total count where isPointEnd = 1:\", count_isPointEnd)\n",
    "\n",
    "\n",
    "\n",
    "# Initialize variables to keep track of the state\n",
    "has_start = False\n",
    "overlapping_ends = []\n",
    "\n",
    "# Iterate through the DataFrame\n",
    "for i in range(len(shot_data)):\n",
    "    if shot_data['isPointStart'][i] == 1:\n",
    "        has_start = True\n",
    "    elif shot_data['isPointEnd'][i] == 1:\n",
    "        if not has_start:\n",
    "            overlapping_ends.append(i)\n",
    "        else:\n",
    "            has_start = False\n",
    "\n",
    "# Display the rows where isPointEnd doesn't have a corresponding isPointStart\n",
    "print(\"Rows where isPointEnd doesn't have a corresponding isPointStart:\")\n",
    "print(shot_data.iloc[overlapping_ends])\n",
    "\n",
    "# Initialize variables to keep track of the state\n",
    "start_indices = []\n",
    "consecutive_starts = []\n",
    "\n",
    "# Iterate through the DataFrame\n",
    "for i in range(len(shot_data) - 1):  # Iterate until the second last row\n",
    "    if shot_data['isPointStart'][i] == 1 and shot_data['isPointEnd'][i] != 1:\n",
    "        # Check if the next row also has isPointStart without a corresponding isPointEnd\n",
    "        if shot_data['isPointStart'][i + 1] == 1 and shot_data['isPointEnd'][i + 1] != 1:\n",
    "            consecutive_starts.append(i + 1)\n",
    "\n",
    "# Display the rows where isPointStart may double up without a corresponding isPointEnd\n",
    "print(\"Rows where isPointStart may double up without a corresponding isPointEnd:\")\n",
    "print(shot_data.iloc[consecutive_starts])\n"
   ]
  },
  {
   "cell_type": "code",
   "execution_count": 989,
   "id": "7c51d6a0-85d8-47e6-b18a-22c09aaeeccd",
   "metadata": {},
   "outputs": [
    {
     "name": "stdout",
     "output_type": "stream",
     "text": [
      "Number of distinct pointNumbers including isApproach = 1 and shotHitBy = player1Name: 8\n",
      "    pointScore gameScore setScore tiebreakScore  isPointStart  pointStartTime  \\\n",
      "163        0-0       3-2      0-0           NaN           NaN             NaN   \n",
      "219      15-40       3-3      0-0           NaN           NaN             NaN   \n",
      "543        NaN       6-6      0-0           6-6           NaN             NaN   \n",
      "588      40-15       1-0      1-0           NaN           NaN             NaN   \n",
      "621        0-0       3-1      1-0           NaN           NaN             NaN   \n",
      "642      40-40       3-1      1-0           NaN           NaN             NaN   \n",
      "734       30-0       4-3      1-0           NaN           NaN             NaN   \n",
      "737       40-0       4-3      1-0           NaN           1.0       6767748.0   \n",
      "\n",
      "     isPointEnd  pointEndTime  pointNumber  isBreakPoint  ...  Notes  \\\n",
      "163         NaN           NaN           27           NaN  ...    NaN   \n",
      "219         NaN           NaN           37           NaN  ...    NaN   \n",
      "543         NaN           NaN           80           NaN  ...    NaN   \n",
      "588         1.0           NaN           92           NaN  ...    NaN   \n",
      "621         1.0           NaN          104           NaN  ...    NaN   \n",
      "642         NaN           NaN          110           NaN  ...    NaN   \n",
      "734         NaN           NaN          126           NaN  ...    NaN   \n",
      "737         NaN           NaN          127           NaN  ...    NaN   \n",
      "\n",
      "         returnerName      shotHitBy  player1Hand player2Hand  isInsideOut  \\\n",
      "163     Tian Fang Ran  Tian Fang Ran        Right       Right         None   \n",
      "219  Sabina Zeynalova  Tian Fang Ran        Right       Right         None   \n",
      "543  Sabina Zeynalova  Tian Fang Ran        Right       Right         None   \n",
      "588  Sabina Zeynalova  Tian Fang Ran        Right       Right         None   \n",
      "621     Tian Fang Ran  Tian Fang Ran        Right       Right         None   \n",
      "642     Tian Fang Ran  Tian Fang Ran        Right       Right         None   \n",
      "734  Sabina Zeynalova  Tian Fang Ran        Right       Right            1   \n",
      "737  Sabina Zeynalova  Tian Fang Ran        Right       Right         None   \n",
      "\n",
      "     isInsideIn  isDoubleFault        pointWonBy  lastShotError  \n",
      "163        None           None              None              0  \n",
      "219        None           None              None              0  \n",
      "543        None           None              None              0  \n",
      "588        None           None     Tian Fang Ran              0  \n",
      "621        None           None  Sabina Zeynalova              1  \n",
      "642        None           None              None              0  \n",
      "734        None           None              None              0  \n",
      "737        None           None              None              0  \n",
      "\n",
      "[8 rows x 64 columns]\n"
     ]
    }
   ],
   "source": [
    "player1Name = shot_data.iloc[0]['player1Name']\n",
    "\n",
    "# Filter shot_data based on the conditions\n",
    "approach_data_player1 = shot_data[(shot_data['isApproach'] == 1) & (shot_data['shotHitBy'] == player1Name)]\n",
    "\n",
    "# Count the distinct pointNumbers\n",
    "distinct_point_numbers = approach_data_player1['pointNumber'].nunique()\n",
    "\n",
    "# Print the result\n",
    "print(\"Number of distinct pointNumbers including isApproach = 1 and shotHitBy = player1Name:\", distinct_point_numbers)\n",
    "\n",
    "print(approach_data_player1)\n"
   ]
  },
  {
   "cell_type": "code",
   "execution_count": 990,
   "id": "2af189b3-2ae2-403a-91c4-a5367e417f86",
   "metadata": {},
   "outputs": [],
   "source": [
    "shot_data.replace(\"\", None, inplace=True)"
   ]
  },
  {
   "cell_type": "markdown",
   "id": "a69a017a-9959-4eca-b083-edbc8b009e78",
   "metadata": {},
   "source": [
    "# Output ShotCSV"
   ]
  },
  {
   "cell_type": "code",
   "execution_count": 991,
   "id": "cb74fcb2-47ea-43bd-b304-dd5e05f17df3",
   "metadata": {},
   "outputs": [],
   "source": [
    "# # Ouput Improved Shot Csv HERE\n",
    "# Assuming point_df is your DataFrame and player1Name and player2Name are the names from the first row\n",
    "player1NameNoSpace = shot_data.iloc[0]['player1Name'].replace(\" \", \"\")\n",
    "player2NameNoSpace = shot_data.iloc[0]['player2Name'].replace(\" \", \"\")\n",
    "\n",
    "# Save DataFrame to CSV file with modified player names\n",
    "shot_data.to_csv(f'{player1NameNoSpace}_{player2NameNoSpace}_Shot.csv', index=False)"
   ]
  },
  {
   "cell_type": "code",
   "execution_count": 992,
   "id": "92ba40db-005c-47d7-86e7-fa52d25ec080",
   "metadata": {},
   "outputs": [
    {
     "data": {
      "text/plain": [
       "array([  1,   2,   3,   4,   5,   6,   7,   8,   9,  10,  11,  12,  13,\n",
       "        14,  15,  16,  17,  18,  19,  20,  21,  22,  23,  24,  25,  26,\n",
       "        27,  28,  29,  30,  31,  32,  33,  34,  35,  36,  37,  38,  39,\n",
       "        40,  41,  42,  43,  44,  45,  46,  47,  48,  49,  50,  51,  52,\n",
       "        53,  54,  55,  56,  57,  58,  59,  60,  61,  62,  63,  64,  65,\n",
       "        66,  67,  68,  69,  70,  71,  72,  73,  74,  75,  76,  77,  78,\n",
       "        79,  80,  81,  82,  83,  84,  85,  86,  87,  88,  89,  90,  91,\n",
       "        92,  93,  94,  95,  96,  97,  98,  99, 100, 101, 102, 103, 104,\n",
       "       105, 106, 107, 108, 109, 110, 111, 112, 113, 114, 115, 116, 117,\n",
       "       118, 119, 120, 121, 122, 123, 124, 125, 126, 127, 128, 129, 130,\n",
       "       131, 132, 133, 134, 135, 136, 137, 138, 139, 140, 141])"
      ]
     },
     "execution_count": 992,
     "metadata": {},
     "output_type": "execute_result"
    }
   ],
   "source": [
    "shot_data['pointNumber'].unique()"
   ]
  },
  {
   "cell_type": "markdown",
   "id": "dd38774c-8826-4889-b85c-7b19567048ee",
   "metadata": {},
   "source": [
    "# Below is for Point CSV"
   ]
  },
  {
   "cell_type": "markdown",
   "id": "7f1d94f6-82a3-41b6-baf6-a37171703732",
   "metadata": {},
   "source": [
    "# Create Point DF"
   ]
  },
  {
   "cell_type": "code",
   "execution_count": 993,
   "id": "e50fad00-3f62-41c7-9d3f-87d19fdc6925",
   "metadata": {},
   "outputs": [],
   "source": [
    "# Creating point_df (with only 1 row for each pointNumber)\n",
    "point_df = shot_data.drop_duplicates(subset='pointNumber')[['pointNumber']]"
   ]
  },
  {
   "cell_type": "code",
   "execution_count": 994,
   "id": "c4e89554-1344-414e-bc09-b60d8bc17b80",
   "metadata": {},
   "outputs": [
    {
     "data": {
      "text/plain": [
       "(141, 1)"
      ]
     },
     "execution_count": 994,
     "metadata": {},
     "output_type": "execute_result"
    }
   ],
   "source": [
    "point_df.shape"
   ]
  },
  {
   "cell_type": "code",
   "execution_count": 995,
   "id": "f15c115d-4eb4-4eb3-9a6d-e4ff225c1385",
   "metadata": {},
   "outputs": [],
   "source": [
    "# Extract the first value of player1Name and player2Name from shot_data\n",
    "first_player1Name = shot_data['player1Name'].iloc[0]\n",
    "first_player2Name = shot_data['player2Name'].iloc[0]\n",
    "\n",
    "# Fill in the first value into all rows of point_df['player1Name'] and point_df['player2Name']\n",
    "point_df['player1Name'] = first_player1Name\n",
    "point_df['player2Name'] = first_player2Name"
   ]
  },
  {
   "cell_type": "markdown",
   "id": "deb74788-f2d1-4c96-98e0-9d0d3717c6a7",
   "metadata": {},
   "source": [
    "# Add Scores\n"
   ]
  },
  {
   "cell_type": "code",
   "execution_count": 996,
   "id": "ee01bdd1-0815-4eb5-9d0b-7cd0f0749a38",
   "metadata": {},
   "outputs": [],
   "source": [
    "\n",
    "point_df['pointScore'] = shot_data.groupby('pointNumber')['pointScore'].first().values\n",
    "point_df['gameScore'] = shot_data.groupby('pointNumber')['gameScore'].first().values\n",
    "point_df['tiebreakScore'] = shot_data.groupby('pointNumber')['tiebreakScore'].first().values"
   ]
  },
  {
   "cell_type": "markdown",
   "id": "14fe84b7-38de-4c4a-97a2-17aca9281bd8",
   "metadata": {},
   "source": [
    "# Add Side"
   ]
  },
  {
   "cell_type": "code",
   "execution_count": 997,
   "id": "4d250819-706d-4cdf-ba3e-bc2a48a323bb",
   "metadata": {},
   "outputs": [],
   "source": [
    "# Group shot_data by 'pointNumber' and get the first 'side' value for each group\n",
    "side_values = shot_data.groupby('pointNumber')['side'].first().reset_index()\n",
    "\n",
    "point_df['side'] = side_values['side'].values"
   ]
  },
  {
   "cell_type": "code",
   "execution_count": 998,
   "id": "062f1793-501f-4662-b5f9-606d4d44d97f",
   "metadata": {},
   "outputs": [],
   "source": [
    "# Adds Server and Returner Names and pointScore\n",
    "\n",
    "point_df['serverName'] = shot_data.groupby('pointNumber')['serverName'].first().values\n",
    "point_df['returnerName'] = shot_data.groupby('pointNumber')['returnerName'].first().values\n"
   ]
  },
  {
   "cell_type": "code",
   "execution_count": 999,
   "id": "bc3a101c-f6f7-410c-bae1-f248d85614df",
   "metadata": {},
   "outputs": [],
   "source": [
    "# Add Start and End times per point\n",
    "\n",
    "for index, row in shot_data.iterrows():\n",
    "    point_number = row['pointNumber']\n",
    "    \n",
    "    if row['isPointStart'] == 1:\n",
    "        point_df.loc[point_df['pointNumber'] == point_number, 'Position'] = row['pointStartTime']\n",
    "    if row['isPointEnd'] == 1:\n",
    "        point_df.loc[point_df['pointNumber'] == point_number, 'pointEndPosition'] = row['pointEndTime']\n",
    "\n",
    "# Add Duration\n",
    "point_df['Duration'] = point_df['pointEndPosition'] - point_df['Position']"
   ]
  },
  {
   "cell_type": "markdown",
   "id": "ab9a88ef-3f8a-42c1-b81c-50b03c2fc853",
   "metadata": {},
   "source": [
    "# Add Rally Column\n",
    "- rallyCount (x amount)\n",
    "- rallyCountFreq (1-4,5-8,9-12,13+)"
   ]
  },
  {
   "cell_type": "code",
   "execution_count": 1000,
   "id": "c69f0435-3385-448e-8d1e-f60bad6bbfb9",
   "metadata": {},
   "outputs": [],
   "source": [
    "# Find the highest shotInRally for each pointNumber in shot_data\n",
    "max_rally_per_point = shot_data.groupby('pointNumber')['shotInRally'].max().reset_index()\n",
    "point_df['rallyCount'] = list(max_rally_per_point['shotInRally'])\n",
    "\n",
    "# Add 'rallyCountFreq' column based on specified conditions\n",
    "point_df['rallyCountFreq'] = point_df['rallyCount'].apply(lambda x: '1 - 4' if 1 <= x <= 4 else ('5 - 8' if 5 <= x <= 8 else ('9 - 12' if 9 <= x <= 12 else ('13 +' if x >= 13 else 'Error'))))\n"
   ]
  },
  {
   "cell_type": "markdown",
   "id": "6d73c5aa-9ba2-428b-80e8-5a85f7fbb4a1",
   "metadata": {},
   "source": [
    "# Serve \n",
    "- firstServeIn\n",
    "- secondServeIn\n",
    "- serveResult\n",
    "- serveInPlacement"
   ]
  },
  {
   "cell_type": "code",
   "execution_count": 1001,
   "id": "ab2ae70f-ad58-4d53-b229-44044ad391c8",
   "metadata": {},
   "outputs": [],
   "source": [
    "# Add firstServeIn and secondServeIn\n",
    "\n",
    "# Add firstServeIn and secondServeIn columns\n",
    "point_df['firstServeIn'] = 0\n",
    "point_df['secondServeIn'] = 0\n",
    "\n",
    "for point_number in shot_data['pointNumber'].unique():\n",
    "    # Check if firstServeIn is 1 for the given pointNumber in shot_data\n",
    "    if any((shot_data['pointNumber'] == point_number) & (shot_data['firstServeIn'] == 1)):\n",
    "        point_df.loc[point_df['pointNumber'] == point_number, 'firstServeIn'] = 1\n",
    "    \n",
    "    # Check if secondServeIn is 1 for the given pointNumber in shot_data\n",
    "    if any((shot_data['pointNumber'] == point_number) & (shot_data['secondServeIn'] == 1)):\n",
    "        point_df.loc[point_df['pointNumber'] == point_number, 'secondServeIn'] = 1"
   ]
  },
  {
   "cell_type": "code",
   "execution_count": 1002,
   "id": "5a273941-9b06-4ab0-97d6-499dd07997c7",
   "metadata": {},
   "outputs": [
    {
     "name": "stdout",
     "output_type": "stream",
     "text": [
      "['Wide' nan 'T' 'Body']\n"
     ]
    }
   ],
   "source": [
    "# Add serveResult and serveInPlacement\n",
    "\n",
    "point_df['serveResult'] = None\n",
    "point_df['serveInPlacement'] = None\n",
    "\n",
    "for point_number in shot_data['pointNumber'].unique():\n",
    "    if any((shot_data['pointNumber'] == point_number) & (shot_data['firstServeIn'] == 1)):\n",
    "        point_df.loc[point_df['pointNumber'] == point_number, 'serveResult'] = '1st Serve In'\n",
    "        point_df.loc[point_df['pointNumber'] == point_number, 'serveInPlacement'] = shot_data['firstServeZone']\n",
    "    elif any((shot_data['pointNumber'] == point_number) & (shot_data['secondServeIn'] == 1)):\n",
    "        point_df.loc[point_df['pointNumber'] == point_number, 'serveResult'] = '2nd Serve In'\n",
    "        point_df.loc[point_df['pointNumber'] == point_number, 'serveInPlacement'] = shot_data['secondServeZone']    \n",
    "    else: \n",
    "        point_df.loc[point_df['pointNumber'] == point_number, 'serveResult'] = 'Double Fault'\n",
    "        point_df.loc[point_df['pointNumber'] == point_number, 'serveInPlacement'] = np.nan\n",
    "        \n",
    "    point_df.loc[point_df['pointNumber'] == point_number, 'firstServeZone'] = shot_data['firstServeZone']\n",
    "    point_df.loc[point_df['pointNumber'] == point_number, 'secondServeZone'] = shot_data['secondServeZone']\n",
    "    \n",
    "# Display the result\n",
    "print(point_df['serveInPlacement'].unique())\n"
   ]
  },
  {
   "cell_type": "code",
   "execution_count": 1003,
   "id": "808e0ab8-3fe8-49bc-ae5b-2c90bed747d8",
   "metadata": {},
   "outputs": [],
   "source": [
    "serve_zones = shot_data.loc[shot_data['shotInRally'] == 1, ['pointNumber', 'firstServeZone', 'secondServeZone', 'firstServeIn', 'secondServeIn']].drop_duplicates()\n",
    "\n",
    "\n",
    "point_df['firstServeZone'] = shot_data.groupby('pointNumber')['firstServeZone'].first().values\n",
    "point_df['secondServeZone'] = shot_data.groupby('pointNumber')['secondServeZone'].first().values\n",
    "\n"
   ]
  },
  {
   "cell_type": "code",
   "execution_count": 1004,
   "id": "589ab308-885c-4158-919f-a2d2f8d7a58d",
   "metadata": {},
   "outputs": [],
   "source": [
    "double_fault_rows = point_df[point_df['serveResult'] == 'Double Fault']\n",
    "# print(double_fault_rows)"
   ]
  },
  {
   "cell_type": "markdown",
   "id": "eb67c372-56c0-41d2-b972-84b747cf0cd1",
   "metadata": {},
   "source": [
    "# Ace"
   ]
  },
  {
   "cell_type": "code",
   "execution_count": 1005,
   "id": "dccd8e5d-c4aa-42a9-9131-a950fd9c1fc3",
   "metadata": {},
   "outputs": [
    {
     "name": "stdout",
     "output_type": "stream",
     "text": [
      "    pointNumber  rallyCount  isAce\n",
      "0             1           3  False\n",
      "3             2           2  False\n",
      "5             3           2  False\n",
      "7             4           2  False\n",
      "9             5          11  False\n",
      "20            6           2  False\n",
      "22            7           2  False\n",
      "24            8           3  False\n",
      "27            9          17  False\n",
      "44           10           2  False\n",
      "46           11           8  False\n",
      "54           12           5  False\n",
      "59           13           2  False\n",
      "61           14           4  False\n"
     ]
    }
   ],
   "source": [
    "point_df['isAce'] = ((point_df['rallyCount'] == 1) & ((point_df['serveResult'] != \"Double Fault\")))\n",
    "\n",
    "# Display the resulting DataFrame\n",
    "print(point_df[['pointNumber', 'rallyCount', 'isAce']].head(14))"
   ]
  },
  {
   "cell_type": "markdown",
   "id": "3e3a3730-dac7-44f0-b03c-de912ab7b0d5",
   "metadata": {},
   "source": [
    "# Return"
   ]
  },
  {
   "cell_type": "code",
   "execution_count": 1006,
   "id": "b36e7ca5-533e-4a20-8ab9-14e3b4bdc8bf",
   "metadata": {},
   "outputs": [
    {
     "name": "stdout",
     "output_type": "stream",
     "text": [
      "    pointNumber    player1Name       player2Name pointScore gameScore  \\\n",
      "0             1  Tian Fang Ran  Sabina Zeynalova        0-0       0-0   \n",
      "3             2  Tian Fang Ran  Sabina Zeynalova       0-15       0-0   \n",
      "5             3  Tian Fang Ran  Sabina Zeynalova      15-15       0-0   \n",
      "7             4  Tian Fang Ran  Sabina Zeynalova      30-15       0-0   \n",
      "9             5  Tian Fang Ran  Sabina Zeynalova      40-15       0-0   \n",
      "20            6  Tian Fang Ran  Sabina Zeynalova      40-30       0-0   \n",
      "22            7  Tian Fang Ran  Sabina Zeynalova        0-0       1-0   \n",
      "24            8  Tian Fang Ran  Sabina Zeynalova       15-0       1-0   \n",
      "27            9  Tian Fang Ran  Sabina Zeynalova      15-15       1-0   \n",
      "44           10  Tian Fang Ran  Sabina Zeynalova      15-30       1-0   \n",
      "\n",
      "   tiebreakScore   side        serverName      returnerName  Position  ...  \\\n",
      "0           None  Deuce     Tian Fang Ran  Sabina Zeynalova   41482.0  ...   \n",
      "3           None     Ad     Tian Fang Ran  Sabina Zeynalova   79190.0  ...   \n",
      "5           None  Deuce     Tian Fang Ran  Sabina Zeynalova  101286.0  ...   \n",
      "7           None     Ad     Tian Fang Ran  Sabina Zeynalova  130499.0  ...   \n",
      "9           None  Deuce     Tian Fang Ran  Sabina Zeynalova  153287.0  ...   \n",
      "20          None     Ad     Tian Fang Ran  Sabina Zeynalova  227014.0  ...   \n",
      "22          None  Deuce  Sabina Zeynalova     Tian Fang Ran  227014.0  ...   \n",
      "24          None     Ad  Sabina Zeynalova     Tian Fang Ran  363658.0  ...   \n",
      "27          None  Deuce  Sabina Zeynalova     Tian Fang Ran  411243.0  ...   \n",
      "44          None     Ad  Sabina Zeynalova     Tian Fang Ran  467490.0  ...   \n",
      "\n",
      "    rallyCountFreq  firstServeIn  secondServeIn   serveResult  \\\n",
      "0            1 - 4             1              0  1st Serve In   \n",
      "3            1 - 4             0              0  Double Fault   \n",
      "5            1 - 4             0              0  Double Fault   \n",
      "7            1 - 4             0              0  Double Fault   \n",
      "9           9 - 12             0              0  Double Fault   \n",
      "20           1 - 4             0              0  Double Fault   \n",
      "22           1 - 4             0              0  Double Fault   \n",
      "24           1 - 4             0              0  Double Fault   \n",
      "27            13 +             0              0  Double Fault   \n",
      "44           1 - 4             0              0  Double Fault   \n",
      "\n",
      "    serveInPlacement  firstServeZone secondServeZone  isAce returnDirection  \\\n",
      "0               Wide            Wide            None  False   Down the Line   \n",
      "3                NaN            Wide            None  False   Down the Line   \n",
      "5                NaN               T            None  False      Crosscourt   \n",
      "7                NaN               T            None  False      Crosscourt   \n",
      "9                NaN            None               T  False      Crosscourt   \n",
      "20               NaN               T            None  False      Crosscourt   \n",
      "22               NaN            Body            None  False   Down the Line   \n",
      "24               NaN            None            Body  False      Crosscourt   \n",
      "27               NaN            Wide            None  False      Crosscourt   \n",
      "44               NaN               T            None  False   Down the Line   \n",
      "\n",
      "   returnFhBh  \n",
      "0    Forehand  \n",
      "3    Backhand  \n",
      "5    Backhand  \n",
      "7    Forehand  \n",
      "9    Backhand  \n",
      "20   Forehand  \n",
      "22   Forehand  \n",
      "24   Backhand  \n",
      "27   Forehand  \n",
      "44   Forehand  \n",
      "\n",
      "[10 rows x 23 columns]\n"
     ]
    }
   ],
   "source": [
    "# Assuming point_df is your DataFrame\n",
    "\n",
    "# Set the initial values of 'returnDirection' and 'returnHand' columns to None\n",
    "point_df['returnDirection'] = None\n",
    "point_df['returnFhBh'] = None\n",
    "\n",
    "# Iterate through pointNumber in shot_data\n",
    "for point_number in shot_data['pointNumber'].unique():\n",
    "    # Check if shotInRally == 2 exists for the given pointNumber\n",
    "    if 2 in shot_data.loc[shot_data['pointNumber'] == point_number, 'shotInRally'].values:\n",
    "        # Get the information from the corresponding row\n",
    "        row_with_return_info = shot_data[(shot_data['pointNumber'] == point_number) & (shot_data['shotInRally'] == 2)].iloc[0]\n",
    "\n",
    "        # Assign values to 'returnDirection' and 'returnHand' columns\n",
    "        point_df.loc[point_df['pointNumber'] == point_number, 'returnDirection'] = row_with_return_info['shotDirection']\n",
    "        point_df.loc[point_df['pointNumber'] == point_number, 'returnFhBh'] = row_with_return_info['shotFhBh']\n",
    "\n",
    "# Display the modified DataFrame\n",
    "print(point_df.head(10))\n"
   ]
  },
  {
   "cell_type": "code",
   "execution_count": null,
   "id": "f379926f-cb6d-4330-8efb-3db4d4add835",
   "metadata": {},
   "outputs": [],
   "source": []
  },
  {
   "cell_type": "markdown",
   "id": "3c543142-d3fb-489f-9f04-8fc325e3713d",
   "metadata": {},
   "source": []
  },
  {
   "cell_type": "markdown",
   "id": "00c1ac33-5f93-4a96-8fe8-70eafc0b9f06",
   "metadata": {},
   "source": []
  },
  {
   "cell_type": "code",
   "execution_count": null,
   "id": "5edb6eca-4374-4d88-9f42-7ac6cb949b03",
   "metadata": {},
   "outputs": [],
   "source": []
  },
  {
   "cell_type": "code",
   "execution_count": null,
   "id": "4f70b9e9-8562-4625-9fb7-272fe318ac8f",
   "metadata": {},
   "outputs": [],
   "source": []
  },
  {
   "cell_type": "code",
   "execution_count": null,
   "id": "8eb78db7-76e5-41bd-8aff-eb7800b55a80",
   "metadata": {},
   "outputs": [],
   "source": []
  },
  {
   "cell_type": "markdown",
   "id": "c33cb300-0c70-49d2-bb4b-e76d4853de0a",
   "metadata": {},
   "source": [
    "# Add Error Column"
   ]
  },
  {
   "cell_type": "code",
   "execution_count": 1007,
   "id": "f10972b3-884a-4e58-9d81-ab0d9704bd23",
   "metadata": {},
   "outputs": [],
   "source": [
    "# Create an empty DataFrame to store the results\n",
    "error_results = pd.DataFrame(columns=['errorType', 'pointNumber'])\n",
    "\n",
    "# Iterate through entire shot_data\n",
    "for index, row in shot_data.iterrows():\n",
    "    pointNumber = row['pointNumber']\n",
    "    point_error_value = None\n",
    "    \n",
    "    if row['isErrorWideR'] == 1:\n",
    "        point_error_value = 'Wide Right'\n",
    "    elif row['isErrorWideL'] == 1:\n",
    "        point_error_value = 'Wide Left'\n",
    "    elif 'isErrorNet' in row and row['isErrorNet'] == 1:\n",
    "        point_error_value = 'Net'\n",
    "    elif row['isErrorLong'] == 1:\n",
    "        point_error_value = 'Long'\n",
    "    \n",
    "\n",
    "    # If an error is found, append the result to the error_results DataFrame\n",
    "    if point_error_value is not None:\n",
    "        error_results = pd.concat([error_results, pd.DataFrame({'pointNumber': [pointNumber], 'errorType': [point_error_value]})], ignore_index=True)\n",
    "\n",
    "\n",
    "# Drop duplicates based on 'pointNumber'\n",
    "error_results = error_results.drop_duplicates(subset=['pointNumber'])"
   ]
  },
  {
   "cell_type": "code",
   "execution_count": 1008,
   "id": "a9b428e1-322f-4908-b89f-2a7c38667504",
   "metadata": {},
   "outputs": [],
   "source": [
    "# Create a dictionary mapping 'pointNumber' to 'errorType' in error_results\n",
    "error_type_mapping = dict(zip(error_results['pointNumber'], error_results['errorType']))\n",
    "\n",
    "# Create 'errorType' column in point_df based on the mapping\n",
    "point_df['errorType'] = point_df['pointNumber'].map(error_type_mapping)\n",
    "\n",
    "point_df = point_df.replace({np.nan: None})"
   ]
  },
  {
   "cell_type": "markdown",
   "id": "60e73b6b-2a6f-4a29-9110-010eefc4021b",
   "metadata": {},
   "source": [
    "# Return Stuff"
   ]
  },
  {
   "cell_type": "code",
   "execution_count": 1009,
   "id": "4b6b3aa8-be4c-4fe7-ad30-f3a8b58fde86",
   "metadata": {},
   "outputs": [],
   "source": [
    "def get_return_error(row):\n",
    "    if row['rallyCount'] == 2:\n",
    "        return row['errorType']\n",
    "    else:\n",
    "        return None\n",
    "\n",
    "point_df.loc[point_df['pointNumber'] == point_number, 'serveInPlacement'] = shot_data['secondServeZone']  \n",
    "\n",
    "# Apply the functions to create the new columns\n",
    "point_df['returnError'] = point_df.apply(get_return_error, axis=1)\n"
   ]
  },
  {
   "cell_type": "code",
   "execution_count": 1010,
   "id": "93ab6169-92e0-4803-82e2-b8fa8731d9d5",
   "metadata": {},
   "outputs": [],
   "source": [
    "# print(point_df[\"returnError\"].unique())\n",
    "# print(point_df[['rallyCount','returnDirection','returnFhBh']])"
   ]
  },
  {
   "cell_type": "markdown",
   "id": "9016ca68-379b-4af0-9d34-17e9dea6de06",
   "metadata": {},
   "source": [
    "# Last Shot"
   ]
  },
  {
   "cell_type": "code",
   "execution_count": 1011,
   "id": "d82dd333-70de-4a33-b493-cca692cde241",
   "metadata": {},
   "outputs": [],
   "source": [
    "\n",
    "point_df['lastShotDirection'] = None\n",
    "point_df['lastShotFhBh'] = None\n",
    "point_df['lastShotHitBy'] = None  \n",
    "point_df['lastShotResult'] = None  \n",
    "\n",
    "# Iterate through unique pointNumbers in shot_data\n",
    "for point_number in shot_data['pointNumber'].unique():\n",
    "    # Check if isPointEnd == 1 exists for the given pointNumber\n",
    "    if 1 in shot_data.loc[shot_data['pointNumber'] == point_number, 'isPointEnd'].values:\n",
    "        # Get the information from the corresponding row\n",
    "        row_with_lastshot_info = shot_data[(shot_data['pointNumber'] == point_number) & (shot_data['isPointEnd'] == 1)].iloc[0]\n",
    "\n",
    "        # Assign values to 'lastShotDirection' and 'lastShotFhBh' columns\n",
    "        point_df.loc[point_df['pointNumber'] == point_number, 'lastShotDirection'] = row_with_lastshot_info['shotDirection']\n",
    "        point_df.loc[point_df['pointNumber'] == point_number, 'lastShotFhBh'] = row_with_lastshot_info['shotFhBh']\n",
    "        point_df.loc[point_df['pointNumber'] == point_number, 'lastShotHitBy'] = row_with_lastshot_info['shotHitBy']\n",
    "        \n",
    "        # Determine lastShotResult based on conditions\n",
    "        if row_with_lastshot_info['isWinner'] == 1:\n",
    "            point_df.loc[point_df['pointNumber'] == point_number, 'lastShotResult'] = \"Winner\"\n",
    "        elif row_with_lastshot_info['lastShotError'] == 1:\n",
    "            point_df.loc[point_df['pointNumber'] == point_number, 'lastShotResult'] = \"Error\""
   ]
  },
  {
   "cell_type": "code",
   "execution_count": 1012,
   "id": "c4873ff7-3158-4467-a133-554b753b6600",
   "metadata": {},
   "outputs": [],
   "source": [
    "# # Display the modified DataFrame\n",
    "# print(point_df[['rallyCount','lastShotDirection','lastShotFhBh', 'lastShotHitBy']])"
   ]
  },
  {
   "cell_type": "code",
   "execution_count": null,
   "id": "d8f8eb4c-73cf-4dd4-ab19-60a81bcd6bc9",
   "metadata": {},
   "outputs": [],
   "source": []
  },
  {
   "cell_type": "code",
   "execution_count": null,
   "id": "04c06fc9-63dd-4f9f-b85e-a044d53d8d9c",
   "metadata": {},
   "outputs": [],
   "source": []
  },
  {
   "cell_type": "code",
   "execution_count": null,
   "id": "8d289342-d764-4b82-813a-f5ef67bb2341",
   "metadata": {},
   "outputs": [],
   "source": []
  },
  {
   "cell_type": "code",
   "execution_count": null,
   "id": "08c6ece5-1268-456f-a99a-50d647dc123c",
   "metadata": {},
   "outputs": [],
   "source": []
  },
  {
   "cell_type": "code",
   "execution_count": null,
   "id": "3e7d546b-25e4-4a93-9204-fd5325f2a24c",
   "metadata": {},
   "outputs": [],
   "source": []
  },
  {
   "cell_type": "code",
   "execution_count": null,
   "id": "6f9f0754-5c0a-49f6-8757-ba856642c51e",
   "metadata": {},
   "outputs": [],
   "source": []
  },
  {
   "cell_type": "code",
   "execution_count": null,
   "id": "23590e1a-635a-4910-bcc4-66033e49d744",
   "metadata": {},
   "outputs": [],
   "source": []
  },
  {
   "cell_type": "code",
   "execution_count": 1013,
   "id": "387d1831-fb54-4bfc-8ca2-62083adc4ed1",
   "metadata": {},
   "outputs": [
    {
     "name": "stdout",
     "output_type": "stream",
     "text": [
      "Index(['pointNumber', 'player1Name', 'player2Name', 'pointScore', 'gameScore',\n",
      "       'tiebreakScore', 'side', 'serverName', 'returnerName', 'Position',\n",
      "       'pointEndPosition', 'Duration', 'rallyCount', 'rallyCountFreq',\n",
      "       'firstServeIn', 'secondServeIn', 'serveResult', 'serveInPlacement',\n",
      "       'firstServeZone', 'secondServeZone', 'isAce', 'returnDirection',\n",
      "       'returnFhBh', 'errorType', 'returnError', 'lastShotDirection',\n",
      "       'lastShotFhBh', 'lastShotHitBy', 'lastShotResult'],\n",
      "      dtype='object')\n"
     ]
    }
   ],
   "source": [
    "print(point_df.columns)"
   ]
  },
  {
   "cell_type": "code",
   "execution_count": null,
   "id": "56010ab4-216a-49e5-90fb-4f8daa9995b2",
   "metadata": {},
   "outputs": [],
   "source": []
  },
  {
   "cell_type": "markdown",
   "id": "f86354a2-0aca-4d0b-9e61-5d5f93c2a6d8",
   "metadata": {},
   "source": [
    "# pointWonBy"
   ]
  },
  {
   "cell_type": "code",
   "execution_count": 1014,
   "id": "072c95c3-a8cd-448c-8ce8-88b5288316bb",
   "metadata": {},
   "outputs": [
    {
     "name": "stdout",
     "output_type": "stream",
     "text": [
      "     pointNumber    player1Name       player2Name pointScore gameScore  \\\n",
      "0              1  Tian Fang Ran  Sabina Zeynalova        0-0       0-0   \n",
      "3              2  Tian Fang Ran  Sabina Zeynalova       0-15       0-0   \n",
      "5              3  Tian Fang Ran  Sabina Zeynalova      15-15       0-0   \n",
      "7              4  Tian Fang Ran  Sabina Zeynalova      30-15       0-0   \n",
      "9              5  Tian Fang Ran  Sabina Zeynalova      40-15       0-0   \n",
      "..           ...            ...               ...        ...       ...   \n",
      "803          137  Tian Fang Ran  Sabina Zeynalova       15-0       5-4   \n",
      "804          138  Tian Fang Ran  Sabina Zeynalova      15-15       5-4   \n",
      "806          139  Tian Fang Ran  Sabina Zeynalova      30-15       5-4   \n",
      "811          140  Tian Fang Ran  Sabina Zeynalova      30-30       5-4   \n",
      "815          141  Tian Fang Ran  Sabina Zeynalova      40-30       5-4   \n",
      "\n",
      "    tiebreakScore   side     serverName      returnerName   Position  ...  \\\n",
      "0            None  Deuce  Tian Fang Ran  Sabina Zeynalova    41482.0  ...   \n",
      "3            None     Ad  Tian Fang Ran  Sabina Zeynalova    79190.0  ...   \n",
      "5            None  Deuce  Tian Fang Ran  Sabina Zeynalova   101286.0  ...   \n",
      "7            None     Ad  Tian Fang Ran  Sabina Zeynalova   130499.0  ...   \n",
      "9            None  Deuce  Tian Fang Ran  Sabina Zeynalova   153287.0  ...   \n",
      "..            ...    ...            ...               ...        ...  ...   \n",
      "803          None     Ad  Tian Fang Ran  Sabina Zeynalova  7280879.0  ...   \n",
      "804          None  Deuce  Tian Fang Ran  Sabina Zeynalova  7318825.0  ...   \n",
      "806          None     Ad  Tian Fang Ran  Sabina Zeynalova  7348814.0  ...   \n",
      "811          None  Deuce  Tian Fang Ran  Sabina Zeynalova  7376598.0  ...   \n",
      "815          None     Ad  Tian Fang Ran  Sabina Zeynalova  7411219.0  ...   \n",
      "\n",
      "     isAce returnDirection  returnFhBh   errorType  returnError  \\\n",
      "0    False   Down the Line    Forehand         Net         None   \n",
      "3    False   Down the Line    Backhand        Long         Long   \n",
      "5    False      Crosscourt    Backhand         Net          Net   \n",
      "7    False      Crosscourt    Forehand        Long         Long   \n",
      "9    False      Crosscourt    Backhand        Long         None   \n",
      "..     ...             ...         ...         ...          ...   \n",
      "803  False            None        None        None         None   \n",
      "804  False   Down the Line    Forehand         Net          Net   \n",
      "806  False      Crosscourt    Backhand        Long         None   \n",
      "811  False   Down the Line    Forehand  Wide Right         None   \n",
      "815  False      Crosscourt    Backhand        Long         None   \n",
      "\n",
      "     lastShotDirection lastShotFhBh     lastShotHitBy lastShotResult  \\\n",
      "0           Crosscourt     Forehand     Tian Fang Ran          Error   \n",
      "3        Down the Line     Backhand  Sabina Zeynalova          Error   \n",
      "5           Crosscourt     Backhand  Sabina Zeynalova          Error   \n",
      "7           Crosscourt     Forehand  Sabina Zeynalova          Error   \n",
      "9        Down the Line     Forehand     Tian Fang Ran          Error   \n",
      "..                 ...          ...               ...            ...   \n",
      "803               None         None     Tian Fang Ran           None   \n",
      "804      Down the Line     Forehand  Sabina Zeynalova          Error   \n",
      "806         Crosscourt     Forehand     Tian Fang Ran          Error   \n",
      "811         Crosscourt     Backhand  Sabina Zeynalova          Error   \n",
      "815         Crosscourt     Forehand  Sabina Zeynalova          Error   \n",
      "\n",
      "           pointWonBy  \n",
      "0    Sabina Zeynalova  \n",
      "3       Tian Fang Ran  \n",
      "5       Tian Fang Ran  \n",
      "7       Tian Fang Ran  \n",
      "9    Sabina Zeynalova  \n",
      "..                ...  \n",
      "803  Sabina Zeynalova  \n",
      "804     Tian Fang Ran  \n",
      "806  Sabina Zeynalova  \n",
      "811     Tian Fang Ran  \n",
      "815     Tian Fang Ran  \n",
      "\n",
      "[141 rows x 30 columns]\n",
      "['Tian Fang Ran']\n",
      "['Sabina Zeynalova']\n",
      "['Tian Fang Ran' 'Sabina Zeynalova']\n",
      "['Sabina Zeynalova' 'Tian Fang Ran']\n"
     ]
    }
   ],
   "source": [
    "# Initialize variables to keep track of the state\n",
    "prev_point_number = None\n",
    "point_won_by_list = []\n",
    "\n",
    "# Iterate through the DataFrame\n",
    "for index, row in shot_data.iterrows():\n",
    "    if row['isPointEnd'] == 1:\n",
    "        # Check if pointNumber is different and consecutively increasing\n",
    "        if prev_point_number is None or row['pointNumber'] == prev_point_number + 1:\n",
    "            # Append pointWonBy to the list\n",
    "            point_won_by_list.append(row['pointWonBy'])\n",
    "            prev_point_number = row['pointNumber']\n",
    "        else:\n",
    "            print(\"Error: Point numbers are not different or consecutively increasing.\")\n",
    "            break\n",
    "\n",
    "# Add point_won_by_list as a new column to point_df\n",
    "point_df['pointWonBy'] = point_won_by_list\n",
    "\n",
    "# Print point_df\n",
    "print(point_df)\n",
    "\n",
    "\n",
    "print(point_df['player1Name'].unique())\n",
    "print(point_df['player2Name'].unique())\n",
    "print(point_df['serverName'].unique())\n",
    "print(point_df['returnerName'].unique())\n",
    "\n",
    "# # Filter shot_data for rows where isPointEnd is 1\n",
    "# filtered_df = shot_data[shot_data['isPointEnd'] == 1]\n",
    "\n",
    "# # Record values for specified columns\n",
    "# pointWonBy_df2 = filtered_df[['player1Name', 'player2Name', 'serverName', 'isWinner', 'pointNumber', 'shotInRally']].copy()\n",
    "\n",
    "# # Determine returnerName based on serverName\n",
    "# pointWonBy_df2['returnerName'] = pointWonBy_df2.apply(lambda row: row['player2Name'] if row['serverName'] == row['player1Name'] else row['player1Name'], axis=1)\n",
    "\n",
    "\n",
    "# for index, row in pointWonBy_df2.iterrows():\n",
    "#     if (row['isWinner'] == 1 and row['shotInRally'] % 2 == 1) or (row['isWinner'] != 1 and row['shotInRally'] % 2 == 0):\n",
    "#         pointWonBy_df2.at[index, 'pointWonBy'] = row['serverName']\n",
    "#     elif (row['isWinner'] == 1 and row['shotInRally'] % 2 == 0) or (row['isWinner'] != 1 and row['shotInRally'] % 2 == 1):\n",
    "#         pointWonBy_df2.at[index, 'pointWonBy'] = row['returnerName']\n",
    "#     else:\n",
    "#         pointWonBy_df2.at[index, 'pointWonBy'] = None\n",
    "\n",
    "# point_df['pointWonBy'] = pointWonBy_df2['pointWonBy'].values"
   ]
  },
  {
   "cell_type": "code",
   "execution_count": 1015,
   "id": "20159d1f-49e5-4b80-94bc-0273386eeaf2",
   "metadata": {},
   "outputs": [
    {
     "name": "stdout",
     "output_type": "stream",
     "text": [
      "['Sabina Zeynalova' 'Tian Fang Ran' None]\n"
     ]
    }
   ],
   "source": [
    "# # Display the resulting DataFrame\n",
    "print(point_df['pointWonBy'].unique())"
   ]
  },
  {
   "cell_type": "markdown",
   "id": "60aebf71-65aa-4d1d-8fec-ea650c4ae3be",
   "metadata": {},
   "source": [
    "# Break Point"
   ]
  },
  {
   "cell_type": "code",
   "execution_count": 1016,
   "id": "1a721604-958f-495e-9da4-074881a8e2c0",
   "metadata": {},
   "outputs": [],
   "source": [
    "# List of values to check for in 'Name' column\n",
    "break_point_values = ['0-40', '15-40', '30-40', '40-40 (Deuce)', '40-40 (Ad)']\n",
    "\n",
    "# Create 'isBreakPoint' column in point_df\n",
    "point_df['isBreakPoint'] = point_df['pointScore'].isin(break_point_values)"
   ]
  },
  {
   "cell_type": "code",
   "execution_count": 1017,
   "id": "21d1bea9-0782-46b6-9760-38aef122f01a",
   "metadata": {},
   "outputs": [],
   "source": [
    "# Display the resulting DataFrame\n",
    "# print(point_df[['pointNumber', 'Name', 'isBreakPoint']])"
   ]
  },
  {
   "cell_type": "markdown",
   "id": "2c869816-01a5-4a42-90d1-e95a938f8809",
   "metadata": {},
   "source": [
    "# Add Side"
   ]
  },
  {
   "cell_type": "code",
   "execution_count": 1018,
   "id": "a705f586-9833-4249-a1c1-2825d5401bb0",
   "metadata": {},
   "outputs": [],
   "source": [
    "# # List of values to check for in 'Name' column for Deuce\n",
    "# deuce_values = ['0-0' ,'15-15','40-15','30-0' , '0-30','15-40' ,'40-40 (Deuce)','30-30']\n",
    "\n",
    "# # Create 'servingSide' column in point_df\n",
    "# point_df['servingSide'] = np.where(point_df['Name'].isin(deuce_values), 'Deuce', 'Ad')"
   ]
  },
  {
   "cell_type": "code",
   "execution_count": 1019,
   "id": "5b2d26c2-3784-4e35-99fd-85c220232ba5",
   "metadata": {},
   "outputs": [],
   "source": [
    "# # Display the resulting DataFrame\n",
    "# print(point_df[['pointNumber', 'Name', 'servingSide']])"
   ]
  },
  {
   "cell_type": "markdown",
   "id": "57c12014-bf30-4719-b6d9-e9ab29a33c8f",
   "metadata": {},
   "source": [
    "# At Net\n",
    "\n",
    "- replace later with atNetAutomatically value"
   ]
  },
  {
   "cell_type": "code",
   "execution_count": 1020,
   "id": "0a41d36e-32e2-46d1-870b-44457d330f8d",
   "metadata": {},
   "outputs": [],
   "source": [
    "import numpy as np\n",
    "\n",
    "# Copy the DataFrame\n",
    "at_net_df2 = shot_data.copy()\n",
    "\n",
    "# Record values for specified columns\n",
    "at_net_df2 = at_net_df2[['player1Name', 'player2Name', 'isVolley', 'serverName', 'shotHitBy', 'returnerName', 'pointNumber', 'shotInRally']].copy()\n",
    "\n",
    "# Add columns for aggregation\n",
    "at_net_df2['atNetPlayer1'] = np.where((at_net_df2['isVolley'] == 1) & (at_net_df2['shotHitBy'] == at_net_df2['player1Name']), 1, 0)\n",
    "at_net_df2['atNetPlayer2'] = np.where((at_net_df2['isVolley'] == 1) & (at_net_df2['shotHitBy'] == at_net_df2['player2Name']), 1, 0)\n",
    "\n",
    "# Aggregate atNetPlayer1 and atNetPlayer2 based on pointNumber\n",
    "at_net_df2['atNetPlayer1_Agg'] = at_net_df2.groupby('pointNumber')['atNetPlayer1'].transform('max')\n",
    "at_net_df2['atNetPlayer2_Agg'] = at_net_df2.groupby('pointNumber')['atNetPlayer2'].transform('max')\n",
    "\n",
    "# Drop the duplicate rows created during aggregation\n",
    "at_net_df2.drop_duplicates(subset=['pointNumber'], inplace=True)\n",
    "\n",
    "point_df['atNetPlayer1'] = at_net_df2['atNetPlayer1_Agg'].values\n",
    "point_df['atNetPlayer2'] = at_net_df2['atNetPlayer2_Agg'].values"
   ]
  },
  {
   "cell_type": "code",
   "execution_count": 1021,
   "id": "44f29f52-ed97-4904-a1b3-970efe274de9",
   "metadata": {},
   "outputs": [
    {
     "name": "stdout",
     "output_type": "stream",
     "text": [
      "     pointNumber    player1Name       player2Name pointScore gameScore  \\\n",
      "762          132  Tian Fang Ran  Sabina Zeynalova       0-15       5-3   \n",
      "770          133  Tian Fang Ran  Sabina Zeynalova      15-15       5-3   \n",
      "774          134  Tian Fang Ran  Sabina Zeynalova      30-15       5-3   \n",
      "789          135  Tian Fang Ran  Sabina Zeynalova      40-15       5-3   \n",
      "791          136  Tian Fang Ran  Sabina Zeynalova        0-0       5-4   \n",
      "803          137  Tian Fang Ran  Sabina Zeynalova       15-0       5-4   \n",
      "804          138  Tian Fang Ran  Sabina Zeynalova      15-15       5-4   \n",
      "806          139  Tian Fang Ran  Sabina Zeynalova      30-15       5-4   \n",
      "811          140  Tian Fang Ran  Sabina Zeynalova      30-30       5-4   \n",
      "815          141  Tian Fang Ran  Sabina Zeynalova      40-30       5-4   \n",
      "\n",
      "    tiebreakScore   side        serverName      returnerName   Position  ...  \\\n",
      "762          None     Ad  Sabina Zeynalova     Tian Fang Ran  6943437.0  ...   \n",
      "770          None  Deuce  Sabina Zeynalova     Tian Fang Ran  7023503.0  ...   \n",
      "774          None     Ad  Sabina Zeynalova     Tian Fang Ran       None  ...   \n",
      "789          None  Deuce  Sabina Zeynalova     Tian Fang Ran  7137124.0  ...   \n",
      "791          None  Deuce     Tian Fang Ran  Sabina Zeynalova  7227113.0  ...   \n",
      "803          None     Ad     Tian Fang Ran  Sabina Zeynalova  7280879.0  ...   \n",
      "804          None  Deuce     Tian Fang Ran  Sabina Zeynalova  7318825.0  ...   \n",
      "806          None     Ad     Tian Fang Ran  Sabina Zeynalova  7348814.0  ...   \n",
      "811          None  Deuce     Tian Fang Ran  Sabina Zeynalova  7376598.0  ...   \n",
      "815          None     Ad     Tian Fang Ran  Sabina Zeynalova  7411219.0  ...   \n",
      "\n",
      "      errorType returnError  lastShotDirection lastShotFhBh     lastShotHitBy  \\\n",
      "762        None        None         Crosscourt     Forehand     Tian Fang Ran   \n",
      "770        Long        None         Crosscourt     Forehand     Tian Fang Ran   \n",
      "774        None        None         Crosscourt     Forehand  Sabina Zeynalova   \n",
      "789   Wide Left   Wide Left         Crosscourt     Backhand     Tian Fang Ran   \n",
      "791        Long        None      Down the Line     Backhand  Sabina Zeynalova   \n",
      "803        None        None               None         None     Tian Fang Ran   \n",
      "804         Net         Net      Down the Line     Forehand  Sabina Zeynalova   \n",
      "806        Long        None         Crosscourt     Forehand     Tian Fang Ran   \n",
      "811  Wide Right        None         Crosscourt     Backhand  Sabina Zeynalova   \n",
      "815        Long        None         Crosscourt     Forehand  Sabina Zeynalova   \n",
      "\n",
      "     lastShotResult        pointWonBy isBreakPoint atNetPlayer1 atNetPlayer2  \n",
      "762          Winner     Tian Fang Ran        False            1            0  \n",
      "770           Error  Sabina Zeynalova        False            0            0  \n",
      "774          Winner  Sabina Zeynalova        False            0            0  \n",
      "789           Error  Sabina Zeynalova        False            0            0  \n",
      "791           Error     Tian Fang Ran        False            0            0  \n",
      "803            None  Sabina Zeynalova        False            0            0  \n",
      "804           Error     Tian Fang Ran        False            0            0  \n",
      "806           Error  Sabina Zeynalova        False            0            0  \n",
      "811           Error     Tian Fang Ran        False            0            0  \n",
      "815           Error     Tian Fang Ran        False            0            0  \n",
      "\n",
      "[10 rows x 33 columns]\n"
     ]
    }
   ],
   "source": [
    "print(point_df.tail(10))"
   ]
  },
  {
   "cell_type": "markdown",
   "id": "e3c4b777-625d-4849-b8cd-4d4994485353",
   "metadata": {},
   "source": []
  },
  {
   "cell_type": "code",
   "execution_count": null,
   "id": "d68c422e-b545-49da-8274-ac3437c8ce9b",
   "metadata": {},
   "outputs": [],
   "source": []
  },
  {
   "cell_type": "markdown",
   "id": "7d091079-a2ba-485c-8abb-71acb4df66f6",
   "metadata": {},
   "source": [
    "# Set Score\n",
    "- Add Set Score\n",
    "- Add setNum"
   ]
  },
  {
   "cell_type": "code",
   "execution_count": 1022,
   "id": "9fce1645-21dc-413e-9e9f-61994bdd19d9",
   "metadata": {},
   "outputs": [],
   "source": [
    "# Group shot_data by 'pointNumber' and get the first value of 'setScore'\n",
    "setScore_df = shot_data.groupby('pointNumber')['setScore'].first().reset_index()\n",
    "\n",
    "point_df['setScore'] = setScore_df['setScore'].values"
   ]
  },
  {
   "cell_type": "code",
   "execution_count": 1023,
   "id": "6f762139-8377-4e82-90e1-5a6b474d0375",
   "metadata": {},
   "outputs": [],
   "source": [
    "# Extract numbers from 'setScore' and calculate the sum plus 1\n",
    "point_df['setNum'] = point_df['setScore'].apply(lambda x: sum(int(char) for char in x if char.isdigit()) + 1)"
   ]
  },
  {
   "cell_type": "code",
   "execution_count": 1024,
   "id": "a10894ee-ebea-4036-9d30-1ed42e1d29d8",
   "metadata": {},
   "outputs": [],
   "source": [
    "# Create an empty DataFrame to store gameScore and setScore\n",
    "setScore = shot_data.groupby('pointNumber').first()['setScore'].reset_index()\n",
    "gameScore = shot_data.groupby('pointNumber').first()['gameScore'].reset_index()\n",
    "pointScore = shot_data.groupby('pointNumber').first()['pointScore'].reset_index()\n",
    "tiebreakScore = shot_data.groupby('pointNumber').first()['tiebreakScore'].reset_index()\n",
    "\n",
    "\n",
    "point_df['setScore'] = setScore['setScore'].values\n",
    "point_df['gameScore'] = gameScore['gameScore'].values\n",
    "point_df['pointScore'] = pointScore['pointScore'].values\n",
    "point_df['tiebreakScore'] = tiebreakScore['tiebreakScore'].values\n",
    "\n"
   ]
  },
  {
   "cell_type": "code",
   "execution_count": 1025,
   "id": "35bbb4a6-53dc-4b66-8399-5cd1d2cd4365",
   "metadata": {},
   "outputs": [],
   "source": [
    "# Add Game Number, Set Number, Game/Set/Point for each player\n",
    "\n",
    "point_df[['player1SetScore', 'player2SetScore']] = point_df['setScore'].str.split('-', expand=True)\n",
    "point_df[['player1GameScore', 'player2GameScore']] = point_df['gameScore'].str.split('-', expand=True)\n",
    "point_df[['player1PointScore', 'player2PointScore']] = point_df['pointScore'].str.split('-', expand=True)\n",
    "point_df[['player1TiebreakScore', 'player2TiebreakScore']] = point_df['tiebreakScore'].str.split('-', expand=True)\n",
    "\n",
    "\n",
    "def calculate_game_number(score):\n",
    "    return int(score.split('-')[0]) + int(score.split('-')[1])+1\n",
    "\n",
    "# Apply the function to create the 'gameNumber' column\n",
    "point_df['gameNumber'] = point_df['gameScore'].apply(calculate_game_number)"
   ]
  },
  {
   "cell_type": "code",
   "execution_count": 1026,
   "id": "07889dd3-4887-495d-9536-30d0b799b14e",
   "metadata": {},
   "outputs": [
    {
     "name": "stdout",
     "output_type": "stream",
     "text": [
      "0       1\n",
      "3       1\n",
      "5       1\n",
      "7       1\n",
      "9       1\n",
      "       ..\n",
      "803    10\n",
      "804    10\n",
      "806    10\n",
      "811    10\n",
      "815    10\n",
      "Name: gameNumber, Length: 141, dtype: int64\n"
     ]
    }
   ],
   "source": [
    "print(point_df['gameNumber'])"
   ]
  },
  {
   "cell_type": "code",
   "execution_count": 1027,
   "id": "c1ae20b2-ac9d-4b83-9337-08a7991dd1cd",
   "metadata": {},
   "outputs": [
    {
     "name": "stdout",
     "output_type": "stream",
     "text": [
      "0      1st Serve In\n",
      "3      Double Fault\n",
      "5      Double Fault\n",
      "7      Double Fault\n",
      "9      Double Fault\n",
      "           ...     \n",
      "803    Double Fault\n",
      "804    1st Serve In\n",
      "806    1st Serve In\n",
      "811    1st Serve In\n",
      "815    1st Serve In\n",
      "Name: serveResult, Length: 141, dtype: object\n"
     ]
    }
   ],
   "source": [
    "print(point_df['serveResult'])"
   ]
  },
  {
   "cell_type": "code",
   "execution_count": 1028,
   "id": "c2362f99-6beb-4821-8880-a7717298d872",
   "metadata": {},
   "outputs": [],
   "source": [
    "# Add the 'player1ServeResult' column\n",
    "point_df['player1ServeResult'] = None\n",
    "\n",
    "# Set player1ServeResult based on conditions\n",
    "point_df.loc[point_df['serverName'] == point_df['player1Name'], 'player1ServeResult'] = point_df['serveResult']"
   ]
  },
  {
   "cell_type": "code",
   "execution_count": 1029,
   "id": "384f623f-5341-4996-b688-fd5856f77d55",
   "metadata": {},
   "outputs": [],
   "source": [
    "point_df.loc[point_df['isAce'] == True, 'player1ServeResult'] = 'Ace'\n"
   ]
  },
  {
   "cell_type": "code",
   "execution_count": null,
   "id": "fdd28d0d-f19a-4504-b701-fb51ba30c14a",
   "metadata": {},
   "outputs": [],
   "source": []
  },
  {
   "cell_type": "code",
   "execution_count": 1030,
   "id": "a79fc74c-bdd0-465b-98ca-3b7f856dcb83",
   "metadata": {},
   "outputs": [
    {
     "name": "stdout",
     "output_type": "stream",
     "text": [
      "['Wide' None 'T' 'Body' nan]\n"
     ]
    }
   ],
   "source": [
    "print(point_df['serveInPlacement'].unique())"
   ]
  },
  {
   "cell_type": "code",
   "execution_count": 1031,
   "id": "096d87b3-5048-493d-9444-99549d3afa85",
   "metadata": {},
   "outputs": [],
   "source": [
    "# Add the 'player1ServePlacement' column\n",
    "point_df['player1ServePlacement'] = None\n",
    "\n",
    "# Set player1ServePlacement based on conditions\n",
    "point_df.loc[point_df['serverName'] == point_df['player1Name'], 'player1ServePlacement'] = point_df['side'] + ': ' + point_df['serveInPlacement']"
   ]
  },
  {
   "cell_type": "code",
   "execution_count": 1032,
   "id": "e6c850aa-b0bc-497e-a2b8-ba9b935287b1",
   "metadata": {},
   "outputs": [],
   "source": [
    "# Add the 'player1ReturnPlacement' column\n",
    "point_df['player1ReturnPlacement'] = None\n",
    "\n",
    "# Set player1ServePlacement based on conditions\n",
    "point_df.loc[point_df['returnerName'] == point_df['player1Name'], 'player1ReturnPlacement'] = point_df['returnDirection']"
   ]
  },
  {
   "cell_type": "code",
   "execution_count": 1033,
   "id": "12563728-af42-4207-bd96-3185ff9b1325",
   "metadata": {},
   "outputs": [],
   "source": [
    "# Add the 'player1ReturnFhBh' column\n",
    "point_df['player1ReturnFhBh'] = None\n",
    "\n",
    "# Set player1ServePlacement based on conditions\n",
    "point_df.loc[point_df['returnerName'] == point_df['player1Name'], 'player1ReturnFhBh'] = point_df['returnFhBh']"
   ]
  },
  {
   "cell_type": "code",
   "execution_count": 1034,
   "id": "8a766537-32fa-4dee-b49b-05403db0fca6",
   "metadata": {},
   "outputs": [],
   "source": [
    "# Add the 'player1LastShotFhBh' column\n",
    "point_df['player1LastShotPlacement'] = None\n",
    "\n",
    "# Set player1ServePlacement based on conditions\n",
    "point_df.loc[point_df['lastShotHitBy'] == point_df['player1Name'], 'player1LastShotPlacement'] = point_df['lastShotDirection']"
   ]
  },
  {
   "cell_type": "code",
   "execution_count": 1035,
   "id": "b3657d3b-ba7d-43e7-9735-9674e6a7a6ad",
   "metadata": {},
   "outputs": [],
   "source": [
    "# Add the 'player1LastShotFhBh' column\n",
    "point_df['player1LastShotFhBh'] = None\n",
    "\n",
    "# Set player1ServePlacement based on conditions\n",
    "point_df.loc[point_df['lastShotHitBy'] == point_df['player1Name'], 'player1LastShotFhBh'] = point_df['lastShotFhBh']"
   ]
  },
  {
   "cell_type": "code",
   "execution_count": 1036,
   "id": "a5d72b7c-175e-4389-9c1d-b87c905f07fd",
   "metadata": {},
   "outputs": [],
   "source": [
    "# Add the 'player1LastShotResult' column\n",
    "point_df['player1LastShotResult'] = None\n",
    "\n",
    "# Set player1LastShotResult based on conditions, excluding 'Ace' and 'Double Fault'\n",
    "point_df.loc[\n",
    "    (point_df['lastShotHitBy'] == point_df['player1Name']) & \n",
    "    ~point_df['player1ServeResult'].isin(['Ace', 'Double Fault']), \n",
    "    'player1LastShotResult'\n",
    "] = point_df['lastShotResult']\n"
   ]
  },
  {
   "cell_type": "markdown",
   "id": "fcb3dc11-4abc-4f1b-b07a-50e2b8295043",
   "metadata": {},
   "source": [
    "# Add Name\n",
    "- Changes PointScore\n",
    "- Adds pointScoreCopy"
   ]
  },
  {
   "cell_type": "code",
   "execution_count": 1037,
   "id": "ced2f28b-03eb-4fa7-9fef-67a1dbface2e",
   "metadata": {},
   "outputs": [
    {
     "name": "stdout",
     "output_type": "stream",
     "text": [
      "     setNum gameScore pointScore tiebreakScore\n",
      "0         1       0-0        0-0          None\n",
      "3         1       0-0       0-15          None\n",
      "5         1       0-0      15-15          None\n",
      "7         1       0-0      30-15          None\n",
      "9         1       0-0      40-15          None\n",
      "..      ...       ...        ...           ...\n",
      "803       2       5-4       15-0          None\n",
      "804       2       5-4      15-15          None\n",
      "806       2       5-4      30-15          None\n",
      "811       2       5-4      30-30          None\n",
      "815       2       5-4      40-30          None\n",
      "\n",
      "[141 rows x 4 columns]\n"
     ]
    }
   ],
   "source": [
    "print(point_df[['setNum', 'gameScore','pointScore','tiebreakScore']])"
   ]
  },
  {
   "cell_type": "code",
   "execution_count": 1038,
   "id": "9487a6d5-18eb-4a3b-ab7c-995482a3ce49",
   "metadata": {},
   "outputs": [],
   "source": [
    "# Change pointScore to the specified format\n",
    "point_df['Name'] = point_df.apply(lambda row: f\"Set {row['setNum']}: {row['gameScore']}, {row['tiebreakScore']} {row['serverName']} Serving\" if pd.notna(row['tiebreakScore']) else f\"Set {row['setNum']}: {row['gameScore']}, {row['pointScore']} {row['serverName']} Serving\", axis=1)\n"
   ]
  },
  {
   "cell_type": "code",
   "execution_count": 1039,
   "id": "ea3c8e6e-fd05-47e1-90a1-aded3c01c54b",
   "metadata": {},
   "outputs": [
    {
     "name": "stdout",
     "output_type": "stream",
     "text": [
      "     setNum gameScore pointScore tiebreakScore  \\\n",
      "0         1       0-0        0-0          None   \n",
      "3         1       0-0       0-15          None   \n",
      "5         1       0-0      15-15          None   \n",
      "7         1       0-0      30-15          None   \n",
      "9         1       0-0      40-15          None   \n",
      "..      ...       ...        ...           ...   \n",
      "803       2       5-4       15-0          None   \n",
      "804       2       5-4      15-15          None   \n",
      "806       2       5-4      30-15          None   \n",
      "811       2       5-4      30-30          None   \n",
      "815       2       5-4      40-30          None   \n",
      "\n",
      "                                        Name  \n",
      "0      Set 1: 0-0, 0-0 Tian Fang Ran Serving  \n",
      "3     Set 1: 0-0, 0-15 Tian Fang Ran Serving  \n",
      "5    Set 1: 0-0, 15-15 Tian Fang Ran Serving  \n",
      "7    Set 1: 0-0, 30-15 Tian Fang Ran Serving  \n",
      "9    Set 1: 0-0, 40-15 Tian Fang Ran Serving  \n",
      "..                                       ...  \n",
      "803   Set 2: 5-4, 15-0 Tian Fang Ran Serving  \n",
      "804  Set 2: 5-4, 15-15 Tian Fang Ran Serving  \n",
      "806  Set 2: 5-4, 30-15 Tian Fang Ran Serving  \n",
      "811  Set 2: 5-4, 30-30 Tian Fang Ran Serving  \n",
      "815  Set 2: 5-4, 40-30 Tian Fang Ran Serving  \n",
      "\n",
      "[141 rows x 5 columns]\n"
     ]
    }
   ],
   "source": [
    "print(point_df[['setNum', 'gameScore','pointScore','tiebreakScore','Name']])"
   ]
  },
  {
   "cell_type": "markdown",
   "id": "c00e49c8-0479-47e8-bf83-28c6d57da209",
   "metadata": {},
   "source": [
    "# EDA"
   ]
  },
  {
   "cell_type": "code",
   "execution_count": 1040,
   "id": "4f0feb90-99df-4639-bd31-95772fbdc57b",
   "metadata": {},
   "outputs": [],
   "source": [
    "# read in csv here"
   ]
  },
  {
   "cell_type": "code",
   "execution_count": null,
   "id": "e13bf7fb-296f-4606-aa7c-625c1335b1fd",
   "metadata": {},
   "outputs": [],
   "source": []
  },
  {
   "cell_type": "code",
   "execution_count": null,
   "id": "841cd9ca-a037-4c41-b029-eec04fd1deeb",
   "metadata": {},
   "outputs": [],
   "source": []
  },
  {
   "cell_type": "code",
   "execution_count": 1041,
   "id": "7cfc7542-6668-4c85-9522-cc52c121fa37",
   "metadata": {},
   "outputs": [
    {
     "name": "stdout",
     "output_type": "stream",
     "text": [
      "\n",
      "Serve Results for Tian Fang Ran:\n",
      "\n",
      "Total Serves: 72\n",
      "First Serve In (Count): 41\n",
      "First Serve Won (Count): 20\n",
      "First Serve In (%): 56.94%\n",
      "First Serve Won (%): 48.78%\n",
      "Second Serve In (Count): 17\n",
      "Second Serve Total (Count): 31\n",
      "Second Serve Won (Count): 9\n",
      "Second Serve In (%): 54.84%\n",
      "Second Serve Won (%): 52.94%\n",
      "Ace (Count): 0\n",
      "Double Fault (Count): 14\n",
      "Points Won on Serve (Count) 35\n",
      "Points Won on Serve (%): 48.61%\n",
      "\n",
      "Return Results for Tian Fang Ran:\n",
      "\n",
      "Total Return (Count): 68\n",
      "Return Won (Count): 32\n",
      "Return Won (%): 47.05882352941176\n",
      "\n",
      "Return Made (Count): 51\n",
      "Return Made (%): 0.75\n",
      "Return Error (Count): 17\n",
      "Return Winner (Count): 2\n",
      "\n",
      "Deuce Return (Count): 36\n",
      "Deuce Return Made (Count): 27\n",
      "Deuce Return Made (%): 0.75\n",
      "Deuce Return Won by Player1 (%): 44.44444444444444\n",
      "Deuce Return Won by Player1 (Count): 16\n",
      "\n",
      "Ad Return (Count): 32\n",
      "Ad Return Made (Count): 24\n",
      "Ad Return Made (%): 0.75\n",
      "Ad Return Won by Player1 (Count): 18\n",
      "Ad Return Won by Player1 (%): 56.25\n",
      "Deuce Forehand Return Points - Made: 23\n",
      "Deuce Forehand Return Points - Error: 7\n",
      "\n",
      "Deuce Backhand Return Points - Made: 4\n",
      "Deuce Backhand Return Points - Error: 2\n",
      "Ad Forehand Return Points - Made: 12\n",
      "Ad Forehand Return Points - Error: 5\n",
      "\n",
      "Ad Backhand Return Points - Made: 12\n",
      "Ad Backhand Return Points - Error: 3\n",
      "\n",
      "At Net Results for Tian Fang Ran:\n",
      "\n",
      "Total Net Points for Tian Fang Ran: 6\n",
      "Percentage of Net Points for Tian Fang Ran: 4.26%\n",
      "\n",
      "Total Net Points won by Tian Fang Ran: 4\n",
      "Percentage of Net Points won by Tian Fang Ran: 66.67%\n"
     ]
    }
   ],
   "source": [
    "first_player1Name = point_df['player1Name'].iloc[0]\n",
    "\n",
    "\n",
    "\n",
    "# Display the results\n",
    "print(f\"\\nServe Results for {first_player1Name}:\")\n",
    "\n",
    "# Assuming point_df is your DataFrame\n",
    "total_serves = len(point_df[point_df['serverName'] == first_player1Name])\n",
    "first_serve_in_count = len(point_df[(point_df['serverName'] == first_player1Name) & (point_df['firstServeIn'] == 1)])\n",
    "first_serve_won_count = len(point_df[(point_df['serverName'] == first_player1Name) & (point_df['firstServeIn'] == 1) & (point_df['pointWonBy'] == first_player1Name)])\n",
    "percentage_first_serve_in = (first_serve_in_count / total_serves) * 100 if total_count > 0 else 0\n",
    "percentage_first_serve_won = (first_serve_won_count / first_serve_in_count) * 100 if first_serve_in_count > 0 else 0\n",
    "\n",
    "second_serve_total_count = len(point_df[(point_df['serverName'] == first_player1Name) & (point_df['firstServeIn'] == 0)])\n",
    "second_serve_in_count = len(point_df[(point_df['serverName'] == first_player1Name) & (point_df['firstServeIn'] == 0)& (point_df['secondServeIn'] == 1)])\n",
    "second_serve_won_count = len(point_df[(point_df['serverName'] == first_player1Name) & (point_df['firstServeIn'] == 0)& (point_df['secondServeIn'] == 1) & (point_df['pointWonBy'] == first_player1Name)])\n",
    "percentage_second_serve_in = (second_serve_in_count / second_serve_total_count) * 100 if second_serve_total_count > 0 else 0\n",
    "percentage_second_serve_won = (second_serve_won_count / second_serve_in_count) * 100 if second_serve_in_count > 0 else 0\n",
    "\n",
    "\n",
    "\n",
    "# Display the results\n",
    "print(\"\\nTotal Serves:\", total_serves)\n",
    "print(\"First Serve In (Count):\", first_serve_in_count)\n",
    "print(\"First Serve Won (Count):\", first_serve_won_count)\n",
    "print(f\"First Serve In (%): {percentage_first_serve_in:.2f}%\")\n",
    "print(f\"First Serve Won (%): {percentage_first_serve_won:.2f}%\")\n",
    "\n",
    "print(\"Second Serve In (Count):\", second_serve_in_count)\n",
    "print(\"Second Serve Total (Count):\", second_serve_total_count)\n",
    "print(\"Second Serve Won (Count):\", second_serve_won_count)\n",
    "print(f\"Second Serve In (%): {percentage_second_serve_in:.2f}%\")\n",
    "print(f\"Second Serve Won (%): {percentage_second_serve_won:.2f}%\")\n",
    "\n",
    "# Assuming point_df is your DataFrame\n",
    "count_is_ace = (point_df[point_df['serverName'] == first_player1Name]['isAce']).sum()\n",
    "count_is_double_fault = ((point_df['serverName'] == first_player1Name) & (point_df['serveResult'] == \"Double Fault\")).sum()\n",
    "\n",
    "# Display the results\n",
    "print(\"Ace (Count):\", count_is_ace)\n",
    "print(\"Double Fault (Count):\", count_is_double_fault)\n",
    "\n",
    "# Count of rows where serverName is equal to the first row of player1Name and pointWonBy is equal to the first row of player1Name\n",
    "total_service_points_won = len(point_df[(point_df['serverName'] == first_player1Name) & (point_df['pointWonBy'] == first_player1Name)])\n",
    "total_service_points_won_percentage = total_service_points_won / total_serves *100\n",
    "\n",
    "# Display the results\n",
    "print(f\"Points Won on Serve (Count) {total_service_points_won}\")\n",
    "\n",
    "print(f\"Points Won on Serve (%): {total_service_points_won_percentage:.2f}%\")\n",
    "\n",
    "# Assuming point_df is your DataFrame\n",
    "return_points = point_df[(point_df['returnerName'] == first_player1Name) & (point_df['rallyCount'] >= 2)]\n",
    "\n",
    "total_return = len(return_points)\n",
    "returnMade = len(return_points[(return_points['rallyCount'] > 2) | ((return_points['rallyCount'] == 2) & (return_points['lastShotResult'] != 'Error'))])\n",
    "returnError = len(return_points[(return_points['lastShotResult'] == 'Error') & (return_points['rallyCount'] == 2)])\n",
    "returnWinner = len(return_points[(return_points['lastShotResult'] == 'Winner') & (return_points['rallyCount'] == 2)])\n",
    "returnMadePercentage = returnMade/total_return\n",
    "\n",
    "returnWonByPlayer1 = len(return_points[return_points['pointWonBy'] == first_player1Name])\n",
    "returnWonByPlayer1Percentage = returnWonByPlayer1 / total_return * 100 if total_return > 0 else 0\n",
    "\n",
    "deuceReturnCount = len(return_points[return_points['side'] == 'Deuce'])\n",
    "adReturnCount = len(return_points[return_points['side'] == 'Ad'])\n",
    "\n",
    "\n",
    "deuceReturnMade = len(return_points[(return_points['side'] == 'Deuce') & ((return_points['rallyCount'] > 2) | ((return_points['rallyCount'] == 2) & (return_points['lastShotResult'] != 'Error')))])\n",
    "adReturnMade = len(return_points[(return_points['side'] == 'Ad') & ((return_points['rallyCount'] > 2) | ((return_points['rallyCount'] == 2) & (return_points['lastShotResult'] != 'Error')))])\n",
    "\n",
    "deuceReturnMadePercentage = deuceReturnMade/deuceReturnCount\n",
    "adReturnMadePercentage = adReturnMade/adReturnCount\n",
    "\n",
    "deuceReturnWonByPlayer1 = len(return_points[(return_points['side'] == 'Deuce') & (return_points['pointWonBy'] == first_player1Name) | ((return_points['rallyCount'] == 2) & (return_points['lastShotResult'] != 'Error'))])\n",
    "adReturnWonByPlayer1 = len(return_points[(return_points['side'] == 'Ad') & (return_points['pointWonBy'] == first_player1Name) | ((return_points['rallyCount'] == 2) & (return_points['lastShotResult'] != 'Error'))])\n",
    "\n",
    "deuceReturnWonByPlayer1Percentage = deuceReturnWonByPlayer1 / deuceReturnCount * 100 if deuceReturnCount > 0 else 0\n",
    "adReturnWonByPlayer1Percentage = adReturnWonByPlayer1 / adReturnCount * 100 if adReturnCount > 0 else 0\n",
    "\n",
    "\n",
    "\n",
    "\n",
    "print(f\"\\nReturn Results for {first_player1Name}:\\n\")\n",
    "\n",
    "print(\"Total Return (Count):\", total_return)\n",
    "print(\"Return Won (Count):\", returnWonByPlayer1)\n",
    "print(\"Return Won (%):\", returnWonByPlayer1Percentage)\n",
    "\n",
    "print(\"\\nReturn Made (Count):\", returnMade)\n",
    "print(\"Return Made (%):\", returnMadePercentage)\n",
    "print(\"Return Error (Count):\", returnError)\n",
    "print(\"Return Winner (Count):\", returnWinner)\n",
    "\n",
    "print(\"\\nDeuce Return (Count):\", deuceReturnCount)\n",
    "print(\"Deuce Return Made (Count):\", deuceReturnMade)\n",
    "print(\"Deuce Return Made (%):\", deuceReturnMadePercentage)\n",
    "print(\"Deuce Return Won by Player1 (%):\", deuceReturnWonByPlayer1Percentage)\n",
    "print(\"Deuce Return Won by Player1 (Count):\", deuceReturnWonByPlayer1)\n",
    "\n",
    "\n",
    "print(\"\\nAd Return (Count):\", adReturnCount)\n",
    "print(\"Ad Return Made (Count):\", adReturnMade)\n",
    "print(\"Ad Return Made (%):\", adReturnMadePercentage)\n",
    "print(\"Ad Return Won by Player1 (Count):\", adReturnWonByPlayer1)\n",
    "print(\"Ad Return Won by Player1 (%):\", adReturnWonByPlayer1Percentage)\n",
    "\n",
    "# Assuming return_points is your DataFrame\n",
    "deuce_return_points = return_points[(return_points['side'] == 'Deuce') & (return_points['returnerName'] == first_player1Name) & (return_points['rallyCount'] >= 2)]\n",
    "\n",
    "# Deuce Return Points Separated by returnFhBh\n",
    "deuce_forehand_return_points = deuce_return_points[deuce_return_points['returnFhBh'] == 'Forehand']\n",
    "deuce_backhand_return_points = deuce_return_points[deuce_return_points['returnFhBh'] == 'Backhand']\n",
    "\n",
    "\n",
    "# Count for Deuce Return Points - Made\n",
    "count_deuce_forehand_made = len(deuce_forehand_return_points[(deuce_forehand_return_points['rallyCount'] > 2) | ((deuce_forehand_return_points['rallyCount'] == 2) & (deuce_forehand_return_points['lastShotResult'] != 'Error'))])\n",
    "count_deuce_backhand_made = len(deuce_backhand_return_points[(deuce_backhand_return_points['rallyCount'] > 2) | ((deuce_backhand_return_points['rallyCount'] == 2) & (deuce_backhand_return_points['lastShotResult'] != 'Error'))])\n",
    "\n",
    "# Count for Deuce Return Points - Error\n",
    "count_deuce_forehand_error = len(deuce_forehand_return_points[(deuce_forehand_return_points['lastShotResult'] == 'Error') & (deuce_forehand_return_points['rallyCount'] == 2)])\n",
    "count_deuce_backhand_error = len(deuce_backhand_return_points[(deuce_backhand_return_points['lastShotResult'] == 'Error') & (deuce_backhand_return_points['rallyCount'] == 2)])\n",
    "\n",
    "# Display the counts\n",
    "print(\"Deuce Forehand Return Points - Made:\", count_deuce_forehand_made)\n",
    "print(\"Deuce Forehand Return Points - Error:\", count_deuce_forehand_error)\n",
    "\n",
    "print(\"\\nDeuce Backhand Return Points - Made:\", count_deuce_backhand_made)\n",
    "print(\"Deuce Backhand Return Points - Error:\", count_deuce_backhand_error)\n",
    "\n",
    "# Assuming return_points is your DataFrame\n",
    "ad_return_points = return_points[(return_points['side'] == 'Ad') & (return_points['returnerName'] == first_player1Name) & (return_points['rallyCount'] >= 2)]\n",
    "\n",
    "# Ad Return Points Separated by returnFhBh\n",
    "ad_forehand_return_points = ad_return_points[ad_return_points['returnFhBh'] == 'Forehand']\n",
    "ad_backhand_return_points = ad_return_points[ad_return_points['returnFhBh'] == 'Backhand']\n",
    "\n",
    "# Count for Ad Return Points - Made\n",
    "count_ad_forehand_made = len(ad_forehand_return_points[(ad_forehand_return_points['rallyCount'] > 2) | ((ad_forehand_return_points['rallyCount'] == 2) & (ad_forehand_return_points['lastShotResult'] != 'Error'))])\n",
    "count_ad_backhand_made = len(ad_backhand_return_points[(ad_backhand_return_points['rallyCount'] > 2) | ((ad_backhand_return_points['rallyCount'] == 2) & (ad_backhand_return_points['lastShotResult'] != 'Error'))])\n",
    "\n",
    "# Count for Ad Return Points - Error\n",
    "count_ad_forehand_error = len(ad_forehand_return_points[(ad_forehand_return_points['lastShotResult'] == 'Error') & (ad_forehand_return_points['rallyCount'] == 2)])\n",
    "count_ad_backhand_error = len(ad_backhand_return_points[(ad_backhand_return_points['lastShotResult'] == 'Error') & (ad_backhand_return_points['rallyCount'] == 2)])\n",
    "\n",
    "# Display the counts\n",
    "print(\"Ad Forehand Return Points - Made:\", count_ad_forehand_made)\n",
    "print(\"Ad Forehand Return Points - Error:\", count_ad_forehand_error)\n",
    "\n",
    "print(\"\\nAd Backhand Return Points - Made:\", count_ad_backhand_made)\n",
    "print(\"Ad Backhand Return Points - Error:\", count_ad_backhand_error)\n",
    "\n",
    "print(f\"\\nAt Net Results for {first_player1Name}:\\n\")\n",
    "\n",
    "\n",
    "# Total points where atNetPlayer1 = 1\n",
    "total_at_net_player1 = len(point_df[point_df['atNetPlayer1'] == 1])\n",
    "\n",
    "# Percentage of points where atNetPlayer1 = 1 out of total points\n",
    "percentage_at_net_player1 = (total_at_net_player1 / len(point_df)) * 100 if len(point_df) > 0 else 0\n",
    "\n",
    "# Display the total count and percentage of points where atNetPlayer1 = 1\n",
    "print(f\"Total Net Points for {first_player1Name}: {total_at_net_player1}\")\n",
    "print(f\"Percentage of Net Points for {first_player1Name}: {percentage_at_net_player1:.2f}%\")\n",
    "\n",
    "# Points where atNetPlayer1 = 1 and pointWonBy = first_player1Name\n",
    "at_net_player1_and_won_by_player1 = len(point_df[(point_df['atNetPlayer1'] == 1) & (point_df['pointWonBy'] == first_player1Name)])\n",
    "\n",
    "# Percentage of points where atNetPlayer1 = 1 and pointWonBy = first_player1Name out of total points where atNetPlayer1 = 1\n",
    "percentage_at_net_player1_and_won_by_player1 = (at_net_player1_and_won_by_player1 / total_at_net_player1) * 100 if total_at_net_player1 > 0 else 0\n",
    "\n",
    "# Display the count and percentage of points where atNetPlayer1 = 1 and pointWonBy = first_player1Name\n",
    "print(f\"\\nTotal Net Points won by {first_player1Name}: {at_net_player1_and_won_by_player1}\")\n",
    "print(f\"Percentage of Net Points won by {first_player1Name}: {percentage_at_net_player1_and_won_by_player1:.2f}%\")\n",
    "\n",
    "\n",
    "\n",
    "\n",
    "\n"
   ]
  },
  {
   "cell_type": "code",
   "execution_count": 1042,
   "id": "cecb4031-2e96-4d9a-aef9-b36aacede064",
   "metadata": {},
   "outputs": [
    {
     "name": "stdout",
     "output_type": "stream",
     "text": [
      "\n",
      "Error Data for Tian Fang Ran:\n",
      "\n",
      "Count of Total errors: 49\n",
      "Count of Forehand errors: 30\n",
      "Count of Backhand errors: 19\n",
      "\n",
      "Forehand errors:\n",
      " errorType\n",
      "Long          14\n",
      "Net           10\n",
      "Wide Left      4\n",
      "Wide Right     2\n",
      "Name: count, dtype: int64\n",
      "\n",
      "Backhand errors:\n",
      " errorType\n",
      "Net           7\n",
      "Long          5\n",
      "Wide Right    4\n",
      "Wide Left     3\n",
      "Name: count, dtype: int64\n",
      "    lastShotDirection pointScore gameScore setScore\n",
      "0          Crosscourt        0-0       0-0      0-0\n",
      "9       Down the Line      40-15       0-0      0-0\n",
      "22      Down the Line        0-0       1-0      0-0\n",
      "44      Down the Line      15-30       1-0      0-0\n",
      "67         Crosscourt      15-40       2-0      0-0\n",
      "70         Crosscourt        0-0       2-1      0-0\n",
      "84         Crosscourt       0-15       2-1      0-0\n",
      "125        Crosscourt       0-15       3-1      0-0\n",
      "179     Down the Line      30-30       3-2      0-0\n",
      "183        Crosscourt      40-30       3-2      0-0\n",
      "257        Crosscourt        0-0       4-3      0-0\n",
      "287        Crosscourt      15-30       4-3      0-0\n",
      "372        Crosscourt      30-15       5-4      0-0\n",
      "379        Crosscourt        0-0       5-5      0-0\n",
      "455     Down the Line       30-0       6-5      0-0\n",
      "490        Crosscourt       None       6-6      0-0\n",
      "530     Down the Line       None       6-6      0-0\n",
      "532        Crosscourt       None       6-6      0-0\n",
      "589        Crosscourt        0-0       2-0      1-0\n",
      "595        Crosscourt      15-15       2-0      1-0\n",
      "597     Down the Line      30-15       2-0      1-0\n",
      "601     Down the Line      40-15       2-0      1-0\n",
      "630        Crosscourt      30-15       3-1      1-0\n",
      "647     Down the Line        0-0       4-1      1-0\n",
      "671        Crosscourt      30-30       4-1      1-0\n",
      "713        Crosscourt      15-30       4-2      1-0\n",
      "717        Crosscourt      30-30       4-2      1-0\n",
      "740     Down the Line      40-15       4-3      1-0\n",
      "770        Crosscourt      15-15       5-3      1-0\n",
      "806        Crosscourt      30-15       5-4      1-0\n",
      "    lastShotDirection pointScore gameScore setScore\n",
      "54      Down the Line        0-0       2-0      0-0\n",
      "90         Crosscourt      15-40       2-1      0-0\n",
      "122     Down the Line        0-0       3-1      0-0\n",
      "151     Down the Line      15-40       3-1      0-0\n",
      "186     Down the Line        0-0       3-3      0-0\n",
      "322     Down the Line        0-0       5-3      0-0\n",
      "349        Crosscourt      15-40       5-3      0-0\n",
      "362     Down the Line      15-15       5-4      0-0\n",
      "388     Down the Line       0-30       5-5      0-0\n",
      "453     Down the Line       15-0       6-5      0-0\n",
      "485     Down the Line       None       6-6      0-0\n",
      "492        Crosscourt       None       6-6      0-0\n",
      "555        Crosscourt       0-15       0-0      1-0\n",
      "575        Crosscourt       30-0       1-0      1-0\n",
      "616        Crosscourt        0-0       3-1      1-0\n",
      "637        Crosscourt      30-40       3-1      1-0\n",
      "737     Down the Line       40-0       4-3      1-0\n",
      "749        Crosscourt      40-30       4-3      1-0\n",
      "789        Crosscourt      40-15       5-3      1-0\n",
      "\n",
      "Value counts of 'errorType' for Forehand errors with different directions:\n",
      " errorType                 Long  Net  Wide Left  Wide Right\n",
      "player1LastShotPlacement                                  \n",
      "Crosscourt                  11    6          2           1\n",
      "Down the Line                3    4          2           1\n",
      "\n",
      "Value counts of 'errorType' for Backhand errors with different directions:\n",
      " errorType                 Long  Net  Wide Left  Wide Right\n",
      "player1LastShotPlacement                                  \n",
      "Crosscourt                   1    2          2           4\n",
      "Down the Line                4    5          1           0\n"
     ]
    }
   ],
   "source": [
    "print(f\"\\nError Data for {first_player1Name}:\\n\")\n",
    "# Filter the DataFrame based on specified conditions\n",
    "total_errors = point_df[(point_df['lastShotHitBy'] == first_player1Name) & \n",
    "                           (point_df['lastShotResult'] == 'Error')]\n",
    "\n",
    "import numpy as np\n",
    "\n",
    "# Filter rows without NaN values in relevant columns\n",
    "forehand_errors = point_df[(point_df['lastShotHitBy'] == first_player1Name) & \n",
    "                           (point_df['lastShotResult'] == 'Error') &\n",
    "                           (point_df['lastShotFhBh'] == 'Forehand') &\n",
    "                           (~point_df['errorType'].isnull())]  # Ensure 'errorType' column doesn't have NaN\n",
    "\n",
    "backhand_errors = point_df[(point_df['lastShotHitBy'] == first_player1Name) & \n",
    "                           (point_df['lastShotResult'] == 'Error') &\n",
    "                           (point_df['lastShotFhBh'] == 'Backhand') &\n",
    "                           (~point_df['errorType'].isnull())]  # Ensure 'errorType' column doesn't have NaN\n",
    "\n",
    "# Count the occurrences of 'Forehand' and 'Backhand' separately\n",
    "forehand_counts = forehand_errors.shape[0]  # Count rows\n",
    "backhand_counts = backhand_errors.shape[0]  # Count rows\n",
    "\n",
    "# Print the total error counts for verification\n",
    "total_error_counts = forehand_counts + backhand_counts\n",
    "\n",
    "# Get value counts of 'errorType' for Forehand errors\n",
    "forehand_error_types = forehand_errors['errorType'].value_counts(dropna=False)  # Include NaN values in count\n",
    "\n",
    "# Get value counts of 'errorType' for Backhand errors\n",
    "backhand_error_types = backhand_errors['errorType'].value_counts(dropna=False)  # Include NaN values in count\n",
    "\n",
    "# Print the counts and error types\n",
    "print(\"Count of Total errors:\", total_error_counts)\n",
    "print(\"Count of Forehand errors:\", forehand_counts)\n",
    "print(\"Count of Backhand errors:\", backhand_counts)\n",
    "print(\"\\nForehand errors:\\n\", forehand_error_types)\n",
    "print(\"\\nBackhand errors:\\n\", backhand_error_types)\n",
    "\n",
    "print(forehand_errors[['lastShotDirection','pointScore', 'gameScore','setScore']])\n",
    "\n",
    "print(backhand_errors[['lastShotDirection','pointScore', 'gameScore','setScore']])\n",
    "\n",
    "\n",
    "\n",
    "\n",
    "\n",
    "\n",
    "# # Group by both 'lastShotDirection' and 'errorType', and then count occurrences\n",
    "forehand_error_counts = forehand_errors.groupby(['player1LastShotPlacement', 'errorType']).size().unstack(fill_value=0)  # Fill NaN with 0\n",
    "\n",
    "print(\"\\nValue counts of 'errorType' for Forehand errors with different directions:\\n\", forehand_error_counts)\n",
    "\n",
    "\n",
    "# Group by both 'lastShotDirection' and 'errorType', and then count occurrences\n",
    "backhand_error_counts = backhand_errors.groupby(['player1LastShotPlacement', 'errorType']).size().unstack(fill_value=0)  # Fill NaN with 0\n",
    "\n",
    "print(\"\\nValue counts of 'errorType' for Backhand errors with different directions:\\n\", backhand_error_counts)\n",
    "\n",
    "\n",
    "# forehand_errors = point_df[(point_df['lastShotHitBy'] == first_player1Name) & \n",
    "#                            (point_df['lastShotResult'] == 'Error') &\n",
    "#                            (point_df['lastShotFhBh'] == 'Forehand')]\n",
    "\n",
    "# backhand_errors = point_df[(point_df['lastShotHitBy'] == first_player1Name) & \n",
    "#                            (point_df['lastShotResult'] == 'Error') &\n",
    "#                            (point_df['lastShotFhBh'] == 'Backhand')]\n",
    "\n",
    "# # Count the occurrences of 'Forehand' and 'Backhand' separately\n",
    "# forehand_counts = len(forehand_errors)\n",
    "# backhand_counts = len(backhand_errors)\n",
    "\n",
    "# # Print the total error counts for verification\n",
    "# total_error_counts = len(forehand_errors) + len(backhand_errors)\n",
    "\n",
    "# # Get value counts of 'errorType' for Forehand errors\n",
    "# forehand_error_types = forehand_errors['errorType'].value_counts()\n",
    "\n",
    "# # Get value counts of 'errorType' for Backhand errors\n",
    "# backhand_error_types = backhand_errors['errorType'].value_counts()\n",
    "\n",
    "# # Print the counts and error types\n",
    "# print(\"Count of Total errors:\", total_error_counts)\n",
    "# print(\"Count of Forehand errors:\", forehand_counts)\n",
    "# print(\"Count of Backhand errors:\", backhand_counts)\n",
    "# print(\"\\nForehand errors:\\n\", forehand_error_types)\n",
    "# print(\"\\nBackhand errors:\\n\", backhand_error_types)\n",
    "\n",
    "\n",
    "# # Group by both 'lastShotDirection' and 'errorType', and then count occurrences\n",
    "# forehand_error_counts = forehand_errors.groupby(['lastShotDirection', 'errorType']).size()\n",
    "\n",
    "# print(\"Value counts of 'errorType' for Forehand errors with different directions:\\n\", forehand_error_counts)\n",
    "\n",
    "\n",
    "# # Group by both 'lastShotDirection' and 'errorType', and then count occurrences\n",
    "# backhand_error_counts = backhand_errors.groupby(['lastShotDirection', 'errorType']).size()\n",
    "\n",
    "\n",
    "# print(\"Value counts of 'errorType' for Backhand errors with different directions:\\n\", backhand_error_counts)\n",
    "\n",
    "\n",
    "# forehand_errors = point_df[(point_df['lastShotHitBy'] == first_player1Name) & \n",
    "#                            (point_df['lastShotResult'] == 'Error') &\n",
    "#                            (point_df['lastShotFhBh'] == 'Forehand')]\n",
    "\n",
    "# backhand_errors = point_df[(point_df['lastShotHitBy'] == first_player1Name) & \n",
    "#                            (point_df['lastShotResult'] == 'Error') &\n",
    "#                            (point_df['lastShotFhBh'] == 'Backhand')]\n",
    "\n",
    "# # Count the occurrences of 'Forehand' and 'Backhand' separately\n",
    "# forehand_counts = len(forehand_errors)\n",
    "# backhand_counts = len(backhand_errors)\n",
    "# total_error_counts = len(total_errors)\n",
    "\n",
    "# # Get value counts of 'errorType' for Forehand errors\n",
    "# forehand_error_types = forehand_errors['errorType'].value_counts()\n",
    "\n",
    "# # Get value counts of 'errorType' for Backhand errors\n",
    "# backhand_error_types = backhand_errors['errorType'].value_counts()\n",
    "# print(\"Count of Total errors:\", total_error_counts)\n",
    "# print(\"Count of Forehand errors:\", forehand_counts)\n",
    "# print(\"Count of Backhand errors:\", backhand_counts)\n",
    "# print(\"\\nForehand errors:\\n\", forehand_error_types)\n",
    "# print(\"\\nBackhand errors:\\n\", backhand_error_types)\n",
    "\n",
    "\n",
    "\n",
    "#"
   ]
  },
  {
   "cell_type": "code",
   "execution_count": null,
   "id": "8d13ae6d-7f82-46fc-a2db-e0daff7206c9",
   "metadata": {},
   "outputs": [],
   "source": []
  },
  {
   "cell_type": "code",
   "execution_count": null,
   "id": "031686f1-1ab8-46ca-b9d9-f273fcf47b14",
   "metadata": {},
   "outputs": [],
   "source": []
  },
  {
   "cell_type": "code",
   "execution_count": null,
   "id": "1beb3dc5-213b-4057-809c-586023ffd169",
   "metadata": {},
   "outputs": [],
   "source": []
  },
  {
   "cell_type": "code",
   "execution_count": null,
   "id": "30b47532-caf9-40b9-a46a-dc01a0c1e4d6",
   "metadata": {},
   "outputs": [],
   "source": []
  },
  {
   "cell_type": "code",
   "execution_count": 1043,
   "id": "affcc37c-69db-4ded-bb6f-8d8332d35f29",
   "metadata": {},
   "outputs": [
    {
     "data": {
      "text/plain": [
       "Index(['pointNumber', 'player1Name', 'player2Name', 'pointScore', 'gameScore',\n",
       "       'tiebreakScore', 'side', 'serverName', 'returnerName', 'Position',\n",
       "       'pointEndPosition', 'Duration', 'rallyCount', 'rallyCountFreq',\n",
       "       'firstServeIn', 'secondServeIn', 'serveResult', 'serveInPlacement',\n",
       "       'firstServeZone', 'secondServeZone', 'isAce', 'returnDirection',\n",
       "       'returnFhBh', 'errorType', 'returnError', 'lastShotDirection',\n",
       "       'lastShotFhBh', 'lastShotHitBy', 'lastShotResult', 'pointWonBy',\n",
       "       'isBreakPoint', 'atNetPlayer1', 'atNetPlayer2', 'setScore', 'setNum',\n",
       "       'player1SetScore', 'player2SetScore', 'player1GameScore',\n",
       "       'player2GameScore', 'player1PointScore', 'player2PointScore',\n",
       "       'player1TiebreakScore', 'player2TiebreakScore', 'gameNumber',\n",
       "       'player1ServeResult', 'player1ServePlacement', 'player1ReturnPlacement',\n",
       "       'player1ReturnFhBh', 'player1LastShotPlacement', 'player1LastShotFhBh',\n",
       "       'player1LastShotResult', 'Name'],\n",
       "      dtype='object')"
      ]
     },
     "execution_count": 1043,
     "metadata": {},
     "output_type": "execute_result"
    }
   ],
   "source": [
    "point_df.columns"
   ]
  },
  {
   "cell_type": "markdown",
   "id": "32cb22b2-7389-43a8-b090-91cc804da3bd",
   "metadata": {},
   "source": [
    "# Continue down for print to Visuals and print to Json"
   ]
  },
  {
   "cell_type": "code",
   "execution_count": 1044,
   "id": "334b4a6d-c9ec-465e-aacb-7dbc3c42d1b1",
   "metadata": {},
   "outputs": [
    {
     "name": "stdout",
     "output_type": "stream",
     "text": [
      "Tian Fang Ran\n"
     ]
    }
   ],
   "source": [
    "first_player1Name = point_df['player1Name'].iloc[0]\n",
    "print(first_player1Name)"
   ]
  },
  {
   "cell_type": "code",
   "execution_count": 1045,
   "id": "b6ff52bd-17ab-4022-ac1e-14507605f877",
   "metadata": {},
   "outputs": [
    {
     "name": "stdout",
     "output_type": "stream",
     "text": [
      "Total Count: 72\n",
      "Count of First Serve In: 41\n",
      "First Serve In Percentage: 56.94%\n"
     ]
    }
   ],
   "source": [
    "# Assuming point_df is your DataFrame\n",
    "total_count = len(point_df[point_df['serverName'] == first_player1Name])\n",
    "first_serve_in_count = len(point_df[(point_df['serverName'] == first_player1Name) & (point_df['firstServeIn'] == 1)])\n",
    "percentage_first_serve_in = (first_serve_in_count / total_count) * 100 if total_count > 0 else 0\n",
    "\n",
    "# Display the results\n",
    "print(\"Total Count:\", total_count)\n",
    "print(\"Count of First Serve In:\", first_serve_in_count)\n",
    "print(f\"First Serve In Percentage: {percentage_first_serve_in:.2f}%\")\n"
   ]
  },
  {
   "cell_type": "code",
   "execution_count": 1046,
   "id": "75274c03-5a6d-4998-bcd1-fef9800dbf5d",
   "metadata": {},
   "outputs": [
    {
     "name": "stdout",
     "output_type": "stream",
     "text": [
      "Total Serves: 72\n",
      "First Serve In (Count): 41\n",
      "First Serve Won (Count): 20\n",
      "First Serve In (%): 56.94%\n",
      "First Serve Won (%): 48.78%\n",
      "Second Serve In (Count): 17\n",
      "Second Serve Total (Count): 31\n",
      "Second Serve Won (Count): 9\n",
      "Second Serve In (%): 54.84%\n",
      "Second Serve Won (%): 52.94%\n",
      "Ace (Count): 0\n",
      "Double Fault (Count): 14\n",
      "Points Won on Serve (Count) 35\n",
      "Points Won on Serve (%): 48.61%\n"
     ]
    }
   ],
   "source": [
    "# Assuming point_df is your DataFrame\n",
    "total_serves = len(point_df[point_df['serverName'] == first_player1Name])\n",
    "first_serve_in_count = len(point_df[(point_df['serverName'] == first_player1Name) & (point_df['firstServeIn'] == 1)])\n",
    "first_serve_won_count = len(point_df[(point_df['serverName'] == first_player1Name) & (point_df['firstServeIn'] == 1) & (point_df['pointWonBy'] == first_player1Name)])\n",
    "percentage_first_serve_in = (first_serve_in_count / total_serves) * 100 if total_count > 0 else 0\n",
    "percentage_first_serve_won = (first_serve_won_count / first_serve_in_count) * 100 if first_serve_in_count > 0 else 0\n",
    "\n",
    "second_serve_total_count = len(point_df[(point_df['serverName'] == first_player1Name) & (point_df['firstServeIn'] == 0)])\n",
    "second_serve_in_count = len(point_df[(point_df['serverName'] == first_player1Name) & (point_df['firstServeIn'] == 0)& (point_df['secondServeIn'] == 1)])\n",
    "second_serve_won_count = len(point_df[(point_df['serverName'] == first_player1Name) & (point_df['firstServeIn'] == 0)& (point_df['secondServeIn'] == 1) & (point_df['pointWonBy'] == first_player1Name)])\n",
    "percentage_second_serve_in = (second_serve_in_count / second_serve_total_count) * 100 if second_serve_total_count > 0 else 0\n",
    "percentage_second_serve_won = (second_serve_won_count / second_serve_in_count) * 100 if second_serve_in_count > 0 else 0\n",
    "\n",
    "\n",
    "\n",
    "# Display the results\n",
    "print(\"Total Serves:\", total_serves)\n",
    "print(\"First Serve In (Count):\", first_serve_in_count)\n",
    "print(\"First Serve Won (Count):\", first_serve_won_count)\n",
    "print(f\"First Serve In (%): {percentage_first_serve_in:.2f}%\")\n",
    "print(f\"First Serve Won (%): {percentage_first_serve_won:.2f}%\")\n",
    "\n",
    "print(\"Second Serve In (Count):\", second_serve_in_count)\n",
    "print(\"Second Serve Total (Count):\", second_serve_total_count)\n",
    "print(\"Second Serve Won (Count):\", second_serve_won_count)\n",
    "print(f\"Second Serve In (%): {percentage_second_serve_in:.2f}%\")\n",
    "print(f\"Second Serve Won (%): {percentage_second_serve_won:.2f}%\")\n",
    "\n",
    "# Assuming point_df is your DataFrame\n",
    "count_is_ace = (point_df[point_df['serverName'] == first_player1Name]['isAce']).sum()\n",
    "count_is_double_fault = ((point_df['serverName'] == first_player1Name) & (point_df['serveResult'] == \"Double Fault\")).sum()\n",
    "\n",
    "# Display the results\n",
    "print(\"Ace (Count):\", count_is_ace)\n",
    "print(\"Double Fault (Count):\", count_is_double_fault)\n",
    "\n",
    "# Count of rows where serverName is equal to the first row of player1Name and pointWonBy is equal to the first row of player1Name\n",
    "total_service_points_won = len(point_df[(point_df['serverName'] == first_player1Name) & (point_df['pointWonBy'] == first_player1Name)])\n",
    "total_service_points_won_percentage = total_service_points_won / total_serves *100\n",
    "\n",
    "# Display the results\n",
    "print(f\"Points Won on Serve (Count) {total_service_points_won}\")\n",
    "\n",
    "print(f\"Points Won on Serve (%): {total_service_points_won_percentage:.2f}%\")\n"
   ]
  },
  {
   "cell_type": "code",
   "execution_count": null,
   "id": "b2154a92-6f12-43e4-bd10-45f275dfc1c4",
   "metadata": {},
   "outputs": [],
   "source": []
  },
  {
   "cell_type": "code",
   "execution_count": 1047,
   "id": "2c37dbcc-87cb-4876-a259-0a00be313667",
   "metadata": {},
   "outputs": [
    {
     "data": {
      "text/plain": [
       "Index(['pointNumber', 'player1Name', 'player2Name', 'pointScore', 'gameScore',\n",
       "       'tiebreakScore', 'side', 'serverName', 'returnerName', 'Position',\n",
       "       'pointEndPosition', 'Duration', 'rallyCount', 'rallyCountFreq',\n",
       "       'firstServeIn', 'secondServeIn', 'serveResult', 'serveInPlacement',\n",
       "       'firstServeZone', 'secondServeZone', 'isAce', 'returnDirection',\n",
       "       'returnFhBh', 'errorType', 'returnError', 'lastShotDirection',\n",
       "       'lastShotFhBh', 'lastShotHitBy', 'lastShotResult', 'pointWonBy',\n",
       "       'isBreakPoint', 'atNetPlayer1', 'atNetPlayer2', 'setScore', 'setNum',\n",
       "       'player1SetScore', 'player2SetScore', 'player1GameScore',\n",
       "       'player2GameScore', 'player1PointScore', 'player2PointScore',\n",
       "       'player1TiebreakScore', 'player2TiebreakScore', 'gameNumber',\n",
       "       'player1ServeResult', 'player1ServePlacement', 'player1ReturnPlacement',\n",
       "       'player1ReturnFhBh', 'player1LastShotPlacement', 'player1LastShotFhBh',\n",
       "       'player1LastShotResult', 'Name'],\n",
       "      dtype='object')"
      ]
     },
     "execution_count": 1047,
     "metadata": {},
     "output_type": "execute_result"
    }
   ],
   "source": [
    "point_df.columns"
   ]
  },
  {
   "cell_type": "code",
   "execution_count": 1048,
   "id": "087a8248-7570-435f-a866-eeb7c2294137",
   "metadata": {},
   "outputs": [
    {
     "data": {
      "text/plain": [
       "array(['Error', 'Winner', None], dtype=object)"
      ]
     },
     "execution_count": 1048,
     "metadata": {},
     "output_type": "execute_result"
    }
   ],
   "source": [
    "point_df['lastShotResult'].unique()"
   ]
  },
  {
   "cell_type": "code",
   "execution_count": 1049,
   "id": "4ad8ec2c-8563-4af7-8366-5e9af144e5a1",
   "metadata": {},
   "outputs": [
    {
     "name": "stdout",
     "output_type": "stream",
     "text": [
      "Return Results for Tian Fang Ran:\n",
      "\n",
      "Total Return (Count): 68\n",
      "Return Won (Count): 32\n",
      "Return Won (%): 47.05882352941176\n",
      "\n",
      "Return Made (Count): 51\n",
      "Return Made (%): 0.75\n",
      "Return Error (Count): 17\n",
      "Return Winner (Count): 2\n",
      "\n",
      "Deuce Return (Count): 36\n",
      "Deuce Return Made (Count): 27\n",
      "Deuce Return Made (%): 0.75\n",
      "Deuce Return Won by Player1 (%): 44.44444444444444\n",
      "Deuce Return Won by Player1 (Count): 16\n",
      "\n",
      "Ad Return (Count): 32\n",
      "Ad Return Made (Count): 24\n",
      "Ad Return Made (%): 0.75\n",
      "Ad Return Won by Player1 (Count): 18\n",
      "Ad Return Won by Player1 (%): 56.25\n"
     ]
    }
   ],
   "source": [
    "# Assuming point_df is your DataFrame\n",
    "return_points = point_df[(point_df['returnerName'] == first_player1Name) & (point_df['rallyCount'] >= 2)]\n",
    "\n",
    "total_return = len(return_points)\n",
    "returnMade = len(return_points[(return_points['rallyCount'] > 2) | ((return_points['rallyCount'] == 2) & (return_points['lastShotResult'] != 'Error'))])\n",
    "returnError = len(return_points[(return_points['lastShotResult'] == 'Error') & (return_points['rallyCount'] == 2)])\n",
    "returnWinner = len(return_points[(return_points['lastShotResult'] == 'Winner') & (return_points['rallyCount'] == 2)])\n",
    "returnMadePercentage = returnMade/total_return\n",
    "\n",
    "returnWonByPlayer1 = len(return_points[return_points['pointWonBy'] == first_player1Name])\n",
    "returnWonByPlayer1Percentage = returnWonByPlayer1 / total_return * 100 if total_return > 0 else 0\n",
    "\n",
    "deuceReturnCount = len(return_points[return_points['side'] == 'Deuce'])\n",
    "adReturnCount = len(return_points[return_points['side'] == 'Ad'])\n",
    "\n",
    "\n",
    "deuceReturnMade = len(return_points[(return_points['side'] == 'Deuce') & ((return_points['rallyCount'] > 2) | ((return_points['rallyCount'] == 2) & (return_points['lastShotResult'] != 'Error')))])\n",
    "adReturnMade = len(return_points[(return_points['side'] == 'Ad') & ((return_points['rallyCount'] > 2) | ((return_points['rallyCount'] == 2) & (return_points['lastShotResult'] != 'Error')))])\n",
    "\n",
    "deuceReturnMadePercentage = deuceReturnMade/deuceReturnCount\n",
    "adReturnMadePercentage = adReturnMade/adReturnCount\n",
    "\n",
    "deuceReturnWonByPlayer1 = len(return_points[(return_points['side'] == 'Deuce') & (return_points['pointWonBy'] == first_player1Name) | ((return_points['rallyCount'] == 2) & (return_points['lastShotResult'] != 'Error'))])\n",
    "adReturnWonByPlayer1 = len(return_points[(return_points['side'] == 'Ad') & (return_points['pointWonBy'] == first_player1Name) | ((return_points['rallyCount'] == 2) & (return_points['lastShotResult'] != 'Error'))])\n",
    "\n",
    "deuceReturnWonByPlayer1Percentage = deuceReturnWonByPlayer1 / deuceReturnCount * 100 if deuceReturnCount > 0 else 0\n",
    "adReturnWonByPlayer1Percentage = adReturnWonByPlayer1 / adReturnCount * 100 if adReturnCount > 0 else 0\n",
    "\n",
    "\n",
    "\n",
    "\n",
    "print(f\"Return Results for {first_player1Name}:\\n\")\n",
    "\n",
    "print(\"Total Return (Count):\", total_return)\n",
    "print(\"Return Won (Count):\", returnWonByPlayer1)\n",
    "print(\"Return Won (%):\", returnWonByPlayer1Percentage)\n",
    "\n",
    "print(\"\\nReturn Made (Count):\", returnMade)\n",
    "print(\"Return Made (%):\", returnMadePercentage)\n",
    "print(\"Return Error (Count):\", returnError)\n",
    "print(\"Return Winner (Count):\", returnWinner)\n",
    "\n",
    "print(\"\\nDeuce Return (Count):\", deuceReturnCount)\n",
    "print(\"Deuce Return Made (Count):\", deuceReturnMade)\n",
    "print(\"Deuce Return Made (%):\", deuceReturnMadePercentage)\n",
    "print(\"Deuce Return Won by Player1 (%):\", deuceReturnWonByPlayer1Percentage)\n",
    "print(\"Deuce Return Won by Player1 (Count):\", deuceReturnWonByPlayer1)\n",
    "\n",
    "\n",
    "print(\"\\nAd Return (Count):\", adReturnCount)\n",
    "print(\"Ad Return Made (Count):\", adReturnMade)\n",
    "print(\"Ad Return Made (%):\", adReturnMadePercentage)\n",
    "print(\"Ad Return Won by Player1 (Count):\", adReturnWonByPlayer1)\n",
    "print(\"Ad Return Won by Player1 (%):\", adReturnWonByPlayer1Percentage)\n"
   ]
  },
  {
   "cell_type": "code",
   "execution_count": 1050,
   "id": "755d7098-a595-4f48-b0dd-5c3f4ac8d1b7",
   "metadata": {},
   "outputs": [
    {
     "name": "stdout",
     "output_type": "stream",
     "text": [
      "Deuce Forehand Return Points - Made: 23\n",
      "Deuce Forehand Return Points - Error: 7\n",
      "\n",
      "Deuce Backhand Return Points - Made: 4\n",
      "Deuce Backhand Return Points - Error: 2\n"
     ]
    }
   ],
   "source": [
    "# Assuming return_points is your DataFrame\n",
    "deuce_return_points = return_points[(return_points['side'] == 'Deuce') & (return_points['returnerName'] == first_player1Name) & (return_points['rallyCount'] >= 2)]\n",
    "\n",
    "# Deuce Return Points Separated by returnFhBh\n",
    "deuce_forehand_return_points = deuce_return_points[deuce_return_points['returnFhBh'] == 'Forehand']\n",
    "deuce_backhand_return_points = deuce_return_points[deuce_return_points['returnFhBh'] == 'Backhand']\n",
    "\n",
    "\n",
    "# Count for Deuce Return Points - Made\n",
    "count_deuce_forehand_made = len(deuce_forehand_return_points[(deuce_forehand_return_points['rallyCount'] > 2) | ((deuce_forehand_return_points['rallyCount'] == 2) & (deuce_forehand_return_points['lastShotResult'] != 'Error'))])\n",
    "count_deuce_backhand_made = len(deuce_backhand_return_points[(deuce_backhand_return_points['rallyCount'] > 2) | ((deuce_backhand_return_points['rallyCount'] == 2) & (deuce_backhand_return_points['lastShotResult'] != 'Error'))])\n",
    "\n",
    "# Count for Deuce Return Points - Error\n",
    "count_deuce_forehand_error = len(deuce_forehand_return_points[(deuce_forehand_return_points['lastShotResult'] == 'Error') & (deuce_forehand_return_points['rallyCount'] == 2)])\n",
    "count_deuce_backhand_error = len(deuce_backhand_return_points[(deuce_backhand_return_points['lastShotResult'] == 'Error') & (deuce_backhand_return_points['rallyCount'] == 2)])\n",
    "\n",
    "# Display the counts\n",
    "print(\"Deuce Forehand Return Points - Made:\", count_deuce_forehand_made)\n",
    "print(\"Deuce Forehand Return Points - Error:\", count_deuce_forehand_error)\n",
    "\n",
    "print(\"\\nDeuce Backhand Return Points - Made:\", count_deuce_backhand_made)\n",
    "print(\"Deuce Backhand Return Points - Error:\", count_deuce_backhand_error)\n"
   ]
  },
  {
   "cell_type": "code",
   "execution_count": 1051,
   "id": "93dd97c8-8cff-49b6-bcca-a6f39e1acd3f",
   "metadata": {},
   "outputs": [
    {
     "name": "stdout",
     "output_type": "stream",
     "text": [
      "Ad Forehand Return Points - Made: 12\n",
      "Ad Forehand Return Points - Error: 5\n",
      "\n",
      "Ad Backhand Return Points - Made: 12\n",
      "Ad Backhand Return Points - Error: 3\n"
     ]
    }
   ],
   "source": [
    "# Assuming return_points is your DataFrame\n",
    "ad_return_points = return_points[(return_points['side'] == 'Ad') & (return_points['returnerName'] == first_player1Name) & (return_points['rallyCount'] >= 2)]\n",
    "\n",
    "# Ad Return Points Separated by returnFhBh\n",
    "ad_forehand_return_points = ad_return_points[ad_return_points['returnFhBh'] == 'Forehand']\n",
    "ad_backhand_return_points = ad_return_points[ad_return_points['returnFhBh'] == 'Backhand']\n",
    "\n",
    "# Count for Ad Return Points - Made\n",
    "count_ad_forehand_made = len(ad_forehand_return_points[(ad_forehand_return_points['rallyCount'] > 2) | ((ad_forehand_return_points['rallyCount'] == 2) & (ad_forehand_return_points['lastShotResult'] != 'Error'))])\n",
    "count_ad_backhand_made = len(ad_backhand_return_points[(ad_backhand_return_points['rallyCount'] > 2) | ((ad_backhand_return_points['rallyCount'] == 2) & (ad_backhand_return_points['lastShotResult'] != 'Error'))])\n",
    "\n",
    "# Count for Ad Return Points - Error\n",
    "count_ad_forehand_error = len(ad_forehand_return_points[(ad_forehand_return_points['lastShotResult'] == 'Error') & (ad_forehand_return_points['rallyCount'] == 2)])\n",
    "count_ad_backhand_error = len(ad_backhand_return_points[(ad_backhand_return_points['lastShotResult'] == 'Error') & (ad_backhand_return_points['rallyCount'] == 2)])\n",
    "\n",
    "# Display the counts\n",
    "print(\"Ad Forehand Return Points - Made:\", count_ad_forehand_made)\n",
    "print(\"Ad Forehand Return Points - Error:\", count_ad_forehand_error)\n",
    "\n",
    "print(\"\\nAd Backhand Return Points - Made:\", count_ad_backhand_made)\n",
    "print(\"Ad Backhand Return Points - Error:\", count_ad_backhand_error)\n"
   ]
  },
  {
   "cell_type": "code",
   "execution_count": 1052,
   "id": "03a740e6-4fcd-440d-9c29-f1222a42b9ef",
   "metadata": {},
   "outputs": [
    {
     "name": "stdout",
     "output_type": "stream",
     "text": [
      "Total Net Points for Tian Fang Ran: 6\n",
      "Percentage of Net Points for Tian Fang Ran: 4.26%\n",
      "\n",
      "Total Net Points won by Tian Fang Ran: 4\n",
      "Percentage of Net Points won by Tian Fang Ran: 66.67%\n"
     ]
    }
   ],
   "source": [
    "# Total points where atNetPlayer1 = 1\n",
    "total_at_net_player1 = len(point_df[point_df['atNetPlayer1'] == 1])\n",
    "\n",
    "# Percentage of points where atNetPlayer1 = 1 out of total points\n",
    "percentage_at_net_player1 = (total_at_net_player1 / len(point_df)) * 100 if len(point_df) > 0 else 0\n",
    "\n",
    "# Display the total count and percentage of points where atNetPlayer1 = 1\n",
    "print(f\"Total Net Points for {first_player1Name}: {total_at_net_player1}\")\n",
    "print(f\"Percentage of Net Points for {first_player1Name}: {percentage_at_net_player1:.2f}%\")\n",
    "\n",
    "# Points where atNetPlayer1 = 1 and pointWonBy = first_player1Name\n",
    "at_net_player1_and_won_by_player1 = len(point_df[(point_df['atNetPlayer1'] == 1) & (point_df['pointWonBy'] == first_player1Name)])\n",
    "\n",
    "# Percentage of points where atNetPlayer1 = 1 and pointWonBy = first_player1Name out of total points where atNetPlayer1 = 1\n",
    "percentage_at_net_player1_and_won_by_player1 = (at_net_player1_and_won_by_player1 / total_at_net_player1) * 100 if total_at_net_player1 > 0 else 0\n",
    "\n",
    "# Display the count and percentage of points where atNetPlayer1 = 1 and pointWonBy = first_player1Name\n",
    "print(f\"\\nTotal Net Points won by {first_player1Name}: {at_net_player1_and_won_by_player1}\")\n",
    "print(f\"Percentage of Net Points won by {first_player1Name}: {percentage_at_net_player1_and_won_by_player1:.2f}%\")\n"
   ]
  },
  {
   "cell_type": "code",
   "execution_count": 1053,
   "id": "deb8e5ec-cbd4-490b-9042-9a00f685693b",
   "metadata": {},
   "outputs": [
    {
     "name": "stdout",
     "output_type": "stream",
     "text": [
      "Count of Total errors: 49\n",
      "Count of Forehand errors: 30\n",
      "Count of Backhand errors: 19\n",
      "\n",
      "Forehand errors:\n",
      " errorType\n",
      "Long          14\n",
      "Net           10\n",
      "Wide Left      4\n",
      "Wide Right     2\n",
      "Name: count, dtype: int64\n",
      "\n",
      "Backhand errors:\n",
      " errorType\n",
      "Net           7\n",
      "Long          5\n",
      "Wide Right    4\n",
      "Wide Left     3\n",
      "Name: count, dtype: int64\n"
     ]
    }
   ],
   "source": [
    "# Filter the DataFrame based on specified conditions\n",
    "total_errors = point_df[(point_df['lastShotHitBy'] == first_player1Name) & \n",
    "                           (point_df['lastShotResult'] == 'Error')]\n",
    "\n",
    "forehand_errors = point_df[(point_df['lastShotHitBy'] == first_player1Name) & \n",
    "                           (point_df['lastShotResult'] == 'Error') &\n",
    "                           (point_df['lastShotFhBh'] == 'Forehand')]\n",
    "\n",
    "backhand_errors = point_df[(point_df['lastShotHitBy'] == first_player1Name) & \n",
    "                           (point_df['lastShotResult'] == 'Error') &\n",
    "                           (point_df['lastShotFhBh'] == 'Backhand')]\n",
    "\n",
    "# Count the occurrences of 'Forehand' and 'Backhand' separately\n",
    "forehand_counts = len(forehand_errors)\n",
    "backhand_counts = len(backhand_errors)\n",
    "\n",
    "# Print the total error counts for verification\n",
    "total_error_counts = len(forehand_errors) + len(backhand_errors)\n",
    "\n",
    "# Get value counts of 'errorType' for Forehand errors\n",
    "forehand_error_types = forehand_errors['errorType'].value_counts()\n",
    "\n",
    "# Get value counts of 'errorType' for Backhand errors\n",
    "backhand_error_types = backhand_errors['errorType'].value_counts()\n",
    "\n",
    "# Print the counts and error types\n",
    "print(\"Count of Total errors:\", total_error_counts)\n",
    "print(\"Count of Forehand errors:\", forehand_counts)\n",
    "print(\"Count of Backhand errors:\", backhand_counts)\n",
    "print(\"\\nForehand errors:\\n\", forehand_error_types)\n",
    "print(\"\\nBackhand errors:\\n\", backhand_error_types)\n",
    "\n",
    "# forehand_errors = point_df[(point_df['lastShotHitBy'] == first_player1Name) & \n",
    "#                            (point_df['lastShotResult'] == 'Error') &\n",
    "#                            (point_df['lastShotFhBh'] == 'Forehand')]\n",
    "\n",
    "# backhand_errors = point_df[(point_df['lastShotHitBy'] == first_player1Name) & \n",
    "#                            (point_df['lastShotResult'] == 'Error') &\n",
    "#                            (point_df['lastShotFhBh'] == 'Backhand')]\n",
    "\n",
    "# # Count the occurrences of 'Forehand' and 'Backhand' separately\n",
    "# forehand_counts = len(forehand_errors)\n",
    "# backhand_counts = len(backhand_errors)\n",
    "# total_error_counts = len(total_errors)\n",
    "\n",
    "# # Get value counts of 'errorType' for Forehand errors\n",
    "# forehand_error_types = forehand_errors['errorType'].value_counts()\n",
    "\n",
    "# # Get value counts of 'errorType' for Backhand errors\n",
    "# backhand_error_types = backhand_errors['errorType'].value_counts()\n",
    "# print(\"Count of Total errors:\", total_error_counts)\n",
    "# print(\"Count of Forehand errors:\", forehand_counts)\n",
    "# print(\"Count of Backhand errors:\", backhand_counts)\n",
    "# print(\"\\nForehand errors:\\n\", forehand_error_types)\n",
    "# print(\"\\nBackhand errors:\\n\", backhand_error_types)\n"
   ]
  },
  {
   "cell_type": "code",
   "execution_count": 1054,
   "id": "b356f18e-2808-42ec-8e60-8696811b79fc",
   "metadata": {},
   "outputs": [
    {
     "name": "stdout",
     "output_type": "stream",
     "text": [
      "Value counts of 'errorType' for Forehand errors with different directions:\n",
      " lastShotDirection  errorType \n",
      "Crosscourt         Long          11\n",
      "                   Net            6\n",
      "                   Wide Left      2\n",
      "                   Wide Right     1\n",
      "Down the Line      Long           3\n",
      "                   Net            4\n",
      "                   Wide Left      2\n",
      "                   Wide Right     1\n",
      "dtype: int64\n"
     ]
    }
   ],
   "source": [
    "# Group by both 'lastShotDirection' and 'errorType', and then count occurrences\n",
    "forehand_error_counts = forehand_errors.groupby(['lastShotDirection', 'errorType']).size()\n",
    "\n",
    "print(\"Value counts of 'errorType' for Forehand errors with different directions:\\n\", forehand_error_counts)"
   ]
  },
  {
   "cell_type": "code",
   "execution_count": 1055,
   "id": "5d5cb3cf-23bc-4062-b40a-bf1a7e7219e1",
   "metadata": {},
   "outputs": [
    {
     "name": "stdout",
     "output_type": "stream",
     "text": [
      "Value counts of 'errorType' for Backhand errors with different directions:\n",
      " lastShotDirection  errorType \n",
      "Crosscourt         Long          1\n",
      "                   Net           2\n",
      "                   Wide Left     2\n",
      "                   Wide Right    4\n",
      "Down the Line      Long          4\n",
      "                   Net           5\n",
      "                   Wide Left     1\n",
      "dtype: int64\n"
     ]
    }
   ],
   "source": [
    "\n",
    "# Group by both 'lastShotDirection' and 'errorType', and then count occurrences\n",
    "backhand_error_counts = backhand_errors.groupby(['lastShotDirection', 'errorType']).size()\n",
    "\n",
    "print(\"Value counts of 'errorType' for Backhand errors with different directions:\\n\", backhand_error_counts)"
   ]
  },
  {
   "cell_type": "code",
   "execution_count": 1056,
   "id": "f0154982-2336-4d70-a1fb-2a93b212fabe",
   "metadata": {},
   "outputs": [
    {
     "name": "stdout",
     "output_type": "stream",
     "text": [
      "['Net' 'Long' None 'Wide Left' 'Wide Right']\n"
     ]
    }
   ],
   "source": [
    "print(point_df['errorType'].unique())"
   ]
  },
  {
   "cell_type": "code",
   "execution_count": null,
   "id": "19d8535f-57c2-4928-b6e9-a7376e27df2a",
   "metadata": {},
   "outputs": [],
   "source": []
  },
  {
   "cell_type": "code",
   "execution_count": null,
   "id": "48a45de5-cfe1-491c-be79-78ebb47da647",
   "metadata": {},
   "outputs": [],
   "source": []
  },
  {
   "cell_type": "code",
   "execution_count": null,
   "id": "f6fb6bec-4db2-465e-b6b6-8080550f6d29",
   "metadata": {},
   "outputs": [],
   "source": []
  },
  {
   "cell_type": "code",
   "execution_count": null,
   "id": "380d4412-c5dd-4364-9e02-cd8fc0765586",
   "metadata": {},
   "outputs": [],
   "source": []
  },
  {
   "cell_type": "code",
   "execution_count": null,
   "id": "cd6e5cfc-53c3-4994-8e46-456755accf08",
   "metadata": {},
   "outputs": [],
   "source": []
  },
  {
   "cell_type": "code",
   "execution_count": null,
   "id": "1c61b788-f7ab-4fb9-b80a-d9e5e5394d4a",
   "metadata": {},
   "outputs": [],
   "source": []
  },
  {
   "cell_type": "code",
   "execution_count": null,
   "id": "dab9ebd0-9ddc-4ec7-90c9-6e28a112e549",
   "metadata": {},
   "outputs": [],
   "source": []
  },
  {
   "cell_type": "code",
   "execution_count": null,
   "id": "496635a6-c79e-4141-b4d2-368a5fefe03a",
   "metadata": {},
   "outputs": [],
   "source": []
  },
  {
   "cell_type": "code",
   "execution_count": null,
   "id": "ba386657-82b9-4b27-9354-770b50fc7623",
   "metadata": {},
   "outputs": [],
   "source": []
  },
  {
   "cell_type": "markdown",
   "id": "67a89dc9-8346-46c7-abd1-c35e3d60513d",
   "metadata": {},
   "source": [
    "# PRINT POINTCSV VISUALS"
   ]
  },
  {
   "cell_type": "code",
   "execution_count": 1057,
   "id": "bff13b81-595a-4b19-ad74-16ac9db8735e",
   "metadata": {},
   "outputs": [],
   "source": [
    "# Save point_df to CSV file\n",
    "\n",
    "# Assuming point_df is your DataFrame and player1Name and player2Name are the names from the first row\n",
    "player1NameNoSpace = point_df.iloc[0]['player1Name'].replace(\" \", \"\")\n",
    "player2NameNoSpace = point_df.iloc[0]['player2Name'].replace(\" \", \"\")\n",
    "\n",
    "# Save DataFrame to CSV file with modified player names\n",
    "point_df.to_csv(f'{player1NameNoSpace}_{player2NameNoSpace}_Point_ForVisuals.csv', index=False)\n"
   ]
  },
  {
   "cell_type": "markdown",
   "id": "61805d4e-5536-411e-8ca9-ff030b0832f4",
   "metadata": {},
   "source": [
    "# Remove points"
   ]
  },
  {
   "cell_type": "code",
   "execution_count": 1058,
   "id": "cf9d32a6-260b-4853-8cd8-938b31da7e5d",
   "metadata": {},
   "outputs": [
    {
     "name": "stdout",
     "output_type": "stream",
     "text": [
      "Rows with missing start time:\n",
      "     pointNumber    player1Name       player2Name pointScore gameScore  \\\n",
      "586           92  Tian Fang Ran  Sabina Zeynalova      40-15       1-0   \n",
      "616          104  Tian Fang Ran  Sabina Zeynalova        0-0       3-1   \n",
      "774          134  Tian Fang Ran  Sabina Zeynalova      30-15       5-3   \n",
      "\n",
      "    tiebreakScore   side        serverName      returnerName Position  ...  \\\n",
      "586          None  Deuce     Tian Fang Ran  Sabina Zeynalova     None  ...   \n",
      "616          None  Deuce  Sabina Zeynalova     Tian Fang Ran     None  ...   \n",
      "774          None     Ad  Sabina Zeynalova     Tian Fang Ran     None  ...   \n",
      "\n",
      "    player2TiebreakScore gameNumber  player1ServeResult player1ServePlacement  \\\n",
      "586                 None          2        1st Serve In              Deuce: T   \n",
      "616                 None          5                None                  None   \n",
      "774                 None          9                None                  None   \n",
      "\n",
      "     player1ReturnPlacement  player1ReturnFhBh player1LastShotPlacement  \\\n",
      "586                    None               None            Down the Line   \n",
      "616              Crosscourt           Forehand               Crosscourt   \n",
      "774              Crosscourt           Backhand                     None   \n",
      "\n",
      "    player1LastShotFhBh player1LastShotResult  \\\n",
      "586            Forehand                Winner   \n",
      "616            Backhand                 Error   \n",
      "774                None                  None   \n",
      "\n",
      "                                           Name  \n",
      "586     Set 2: 1-0, 40-15 Tian Fang Ran Serving  \n",
      "616    Set 2: 3-1, 0-0 Sabina Zeynalova Serving  \n",
      "774  Set 2: 5-3, 30-15 Sabina Zeynalova Serving  \n",
      "\n",
      "[3 rows x 52 columns]\n"
     ]
    }
   ],
   "source": [
    "# Assuming pointdf is a DataFrame\n",
    "\n",
    "# Display rows where 'isPointStart' is equal to 1 and 'pointStartTime' is NaN in pointdf\n",
    "missing_start_time = point_df[point_df['Position'].isna() | (point_df['Position'] == \"\")]\n",
    "print(\"Rows with missing start time:\")\n",
    "print(missing_start_time)\n",
    "\n"
   ]
  },
  {
   "cell_type": "code",
   "execution_count": null,
   "id": "f1b036cf-af0c-46f4-82fb-32cde282a795",
   "metadata": {},
   "outputs": [],
   "source": []
  },
  {
   "cell_type": "code",
   "execution_count": 1059,
   "id": "3ba26cf5-4348-4b5b-a8bf-c1f9b8a2ceec",
   "metadata": {},
   "outputs": [],
   "source": [
    "\n",
    "# Remove those rows from pointdf\n",
    "point_df_for_viewer = point_df.drop(missing_start_time.index)"
   ]
  },
  {
   "cell_type": "code",
   "execution_count": 1060,
   "id": "0151b1a2-f1c5-4c47-be07-dd11421feba8",
   "metadata": {},
   "outputs": [],
   "source": [
    "# Change Value Names for Match Viewer Output\n",
    "\n",
    "# Assuming point_df is your DataFrame and player1Name is the name from the first row\n",
    "player1Name = point_df_for_viewer.iloc[0]['player1Name']\n",
    "\n",
    "# Replace values in the 'atNetPlayer1' column\n",
    "point_df_for_viewer['atNetPlayer1'] = point_df_for_viewer['atNetPlayer1'].replace({0: \"\", 1: player1Name})"
   ]
  },
  {
   "cell_type": "code",
   "execution_count": 1061,
   "id": "c8ab99a6-731d-4115-b26d-77570e56d5ba",
   "metadata": {},
   "outputs": [],
   "source": [
    "# Change Na to \"\" Empty String\n",
    "\n",
    "# Assuming point_df is your DataFrame\n",
    "# Replace NaN, None, and NA values with empty strings in point_df\n",
    "point_df_for_viewer.replace([pd.NA, None, pd.NaT, float('nan')], \"\", inplace=True)"
   ]
  },
  {
   "cell_type": "markdown",
   "id": "34ee096b-6ea3-4c78-b75b-5cbd48192a6d",
   "metadata": {},
   "source": [
    "# Print POINTCSV UPLOAD"
   ]
  },
  {
   "cell_type": "code",
   "execution_count": 1062,
   "id": "a438e3c9-da97-45bc-89e6-09e362679c3d",
   "metadata": {},
   "outputs": [],
   "source": [
    "player1Name = point_df_for_viewer.iloc[0]['player1Name'].replace(\" \", \"\")\n",
    "player2Name = point_df_for_viewer.iloc[0]['player2Name'].replace(\" \", \"\")\n",
    "\n",
    "# Save DataFrame to CSV file with modified player names\n",
    "point_df_for_viewer.to_csv(f'{player1Name}_{player2Name}_Point_ForUpload.csv', index=False)\n",
    "point_df_for_viewer.to_json(f'{player1Name}_{player2Name}_Point_ForUpload.json', orient='records')"
   ]
  },
  {
   "cell_type": "code",
   "execution_count": null,
   "id": "63ed1ff0-0244-43bb-bfdb-d258f87f30ee",
   "metadata": {},
   "outputs": [],
   "source": []
  },
  {
   "cell_type": "code",
   "execution_count": 1063,
   "id": "39376d8a-f523-4c0f-8923-e1587e8e47be",
   "metadata": {},
   "outputs": [],
   "source": [
    "# git fetch origin\n",
    "# git pull\n",
    "# git checkoutbranchName\n",
    "# git add .\n",
    "# git commit -m \"message\"\n",
    "# git push"
   ]
  },
  {
   "cell_type": "code",
   "execution_count": null,
   "id": "3be3bb05-78ef-4971-980f-fad30eb499e5",
   "metadata": {},
   "outputs": [],
   "source": []
  },
  {
   "cell_type": "code",
   "execution_count": null,
   "id": "98b98e27-6d3b-4e29-9102-34c740a777ec",
   "metadata": {},
   "outputs": [],
   "source": []
  },
  {
   "cell_type": "code",
   "execution_count": null,
   "id": "d13fb47f-c6a5-4243-907b-be7739c01797",
   "metadata": {},
   "outputs": [],
   "source": []
  },
  {
   "cell_type": "code",
   "execution_count": null,
   "id": "c3e37c23-8111-40a6-a06a-e217c5bd9267",
   "metadata": {},
   "outputs": [],
   "source": []
  },
  {
   "cell_type": "code",
   "execution_count": null,
   "id": "4f63c534-5eff-4f5a-b581-7b983af483ef",
   "metadata": {},
   "outputs": [],
   "source": []
  },
  {
   "cell_type": "code",
   "execution_count": null,
   "id": "4a7b6afe-706d-4be3-8cce-f5be0f5389fe",
   "metadata": {},
   "outputs": [],
   "source": []
  },
  {
   "cell_type": "code",
   "execution_count": null,
   "id": "be3ec44f-392e-4407-a539-90d65a24f6b8",
   "metadata": {},
   "outputs": [],
   "source": []
  },
  {
   "cell_type": "code",
   "execution_count": null,
   "id": "70cdc46d-29e9-4733-909a-e7e7601f703c",
   "metadata": {},
   "outputs": [],
   "source": []
  }
 ],
 "metadata": {
  "kernelspec": {
   "display_name": "Python 3 (ipykernel)",
   "language": "python",
   "name": "python3"
  },
  "language_info": {
   "codemirror_mode": {
    "name": "ipython",
    "version": 3
   },
   "file_extension": ".py",
   "mimetype": "text/x-python",
   "name": "python",
   "nbconvert_exporter": "python",
   "pygments_lexer": "ipython3",
   "version": "3.9.18"
  }
 },
 "nbformat": 4,
 "nbformat_minor": 5
}
