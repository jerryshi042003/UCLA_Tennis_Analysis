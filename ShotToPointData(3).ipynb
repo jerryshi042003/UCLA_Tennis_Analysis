{
 "cells": [
  {
   "cell_type": "markdown",
   "id": "f56f6f26-f6d4-4ecd-b701-97224dd8d5db",
   "metadata": {},
   "source": [
    "# Post Process\n",
    "- Adds Point Number (Comment out if already there)\n",
    "- Forward Fills these columns'gameScore','setScore', 'tiebreakScore', 'serverName', 'player1Name', 'player2Name'\n",
    "   - Add this when in tagger: Player1Hand, player2Hand \n",
    "- Adds Returner Name\n",
    "- Adds Shot Hit By for each Shot\n",
    "- Adds isInsidein/isInsideOut (booleans 0/1) Columns"
   ]
  },
  {
   "cell_type": "code",
   "execution_count": null,
   "id": "e4bc1d0c-81bc-4b4d-a2cf-4c2c7cab195a",
   "metadata": {},
   "outputs": [],
   "source": []
  },
  {
   "cell_type": "code",
   "execution_count": null,
   "id": "b1de4760-428c-4a32-b9ca-cc2f68ce665b",
   "metadata": {},
   "outputs": [],
   "source": []
  },
  {
   "cell_type": "code",
   "execution_count": 1265,
   "id": "e208a631-e46a-41b4-900f-fdc035dec995",
   "metadata": {},
   "outputs": [],
   "source": [
    "import pandas as pd\n",
    "import numpy as np"
   ]
  },
  {
   "cell_type": "markdown",
   "id": "ec62c86e-46c5-40f2-b2f5-89d88a918c71",
   "metadata": {},
   "source": [
    "# Load in Data"
   ]
  },
  {
   "cell_type": "code",
   "execution_count": 1266,
   "id": "2bdb70cd-4596-4691-855c-0477381445dd",
   "metadata": {},
   "outputs": [],
   "source": [
    "# Put your file name here\n",
    "shot_data = pd.read_csv(\"./oldtagger/nandaPerotFullMatchAgg.csv\")\n",
    "\n"
   ]
  },
  {
   "cell_type": "markdown",
   "id": "9c13d5e3-16ef-4422-8cdd-85e2709b7baf",
   "metadata": {},
   "source": [
    "# Revert Dates in setScore/gameScore to Strings"
   ]
  },
  {
   "cell_type": "markdown",
   "id": "b0dc2144-90c2-44f9-9094-d9f518f69052",
   "metadata": {},
   "source": [
    "# Clean because match has both taggers"
   ]
  },
  {
   "cell_type": "code",
   "execution_count": 1267,
   "id": "9668d28e-c767-45ae-ae9e-20ac2a119e4c",
   "metadata": {},
   "outputs": [],
   "source": [
    "import re\n",
    "\n",
    "# Define a mapping for month abbreviations\n",
    "month_mapping = {'Jan': '1', 'Feb': '2', 'Mar': '3', 'Apr': '4', 'May': '5', 'Jun': '6',\n",
    "                 'Jul': '7', 'Aug': '8', 'Sep': '9', 'Oct': '10', 'Nov': '11', 'Dec': '12'}\n",
    "\n",
    "# Function to convert string like 'Jan-00' to '1-0'\n",
    "def convert_score_string(score_str):\n",
    "    # Check if the string has a month abbreviation and a year ending with '00'\n",
    "    if re.match(r'^\\d{1,2}-[A-Za-z]{3}$', score_str):\n",
    "        # Extract year and month abbreviation\n",
    "        year, month = score_str.split('-')\n",
    "\n",
    "        # Remove leading zeros from the year\n",
    "        year = str(int(year))\n",
    "\n",
    "        # Replace month abbreviation with corresponding number\n",
    "        month_number = month_mapping.get(month, month)\n",
    "\n",
    "        # Concatenate the parts to form the transformed string\n",
    "        transformed_str = f'{year}-{month_number}'\n",
    "\n",
    "        return transformed_str\n",
    "\n",
    "    # Check if the string has a month abbreviation and a year with leading '0's\n",
    "    elif re.match(r'^[A-Za-z]{3}-\\d{1,2}$', score_str):\n",
    "        # Extract month abbreviation and year\n",
    "        month, year = score_str.split('-')\n",
    "\n",
    "        # Replace month abbreviation with corresponding number\n",
    "        month_number = month_mapping.get(month, month)\n",
    "\n",
    "        # Remove leading zeros from the year\n",
    "        year = str(int(year))\n",
    "\n",
    "        # Concatenate the parts to form the transformed string\n",
    "        transformed_str = f'{month_number}-{year}'\n",
    "\n",
    "        return transformed_str\n",
    "\n",
    "    return score_str\n",
    "\n",
    "# Apply the conversion function to the relevant columns in shot_data\n",
    "shot_data['gameScore'] = shot_data['gameScore'].apply(convert_score_string)\n",
    "shot_data['setScore'] = shot_data['setScore'].apply(convert_score_string)\n",
    "# shot_data['tiebreakerScore'] = shot_data['tiebreakerScore'].apply(convert_score_string)\n"
   ]
  },
  {
   "cell_type": "code",
   "execution_count": 1268,
   "id": "6dc62692-a1a6-4d0c-9e3a-d15f3ce06b84",
   "metadata": {},
   "outputs": [
    {
     "name": "stdout",
     "output_type": "stream",
     "text": [
      "Unique Set Scores: ['0-0' '1-0']\n",
      "Unique Game Scores: ['0-0' '1-0' '1-1' '2-1' '3-1' '3-2' '4-2' '4-3' '5-3' '5-4' '5-5' '6-5'\n",
      " '0-1']\n"
     ]
    }
   ],
   "source": [
    "# Assuming shot_data is your DataFrame\n",
    "unique_set_scores = shot_data['setScore'].unique()\n",
    "unique_game_scores = shot_data['gameScore'].unique()\n",
    "\n",
    "# Print unique values\n",
    "print(\"Unique Set Scores:\", unique_set_scores)\n",
    "print(\"Unique Game Scores:\", unique_game_scores)\n"
   ]
  },
  {
   "cell_type": "code",
   "execution_count": null,
   "id": "425ab6c7-3090-4a9a-a36b-e5d3d374d5f7",
   "metadata": {},
   "outputs": [],
   "source": []
  },
  {
   "cell_type": "code",
   "execution_count": null,
   "id": "7b7fc357-1177-4b49-b365-e8dd8fec88bc",
   "metadata": {},
   "outputs": [],
   "source": []
  },
  {
   "cell_type": "code",
   "execution_count": 1269,
   "id": "c3f90393-ff6d-48f5-b123-dcc6a0b4c19d",
   "metadata": {},
   "outputs": [
    {
     "name": "stdout",
     "output_type": "stream",
     "text": [
      "                  shotType              returnData  shotFhBh  shotDirection\n",
      "0                      NaN                     NaN      None           None\n",
      "1                      NaN     Forehand Crosscourt  Forehand     Crosscourt\n",
      "2      Forehand Crosscourt                     NaN  Forehand     Crosscourt\n",
      "3   Forehand Down the Line                     NaN  Forehand  Down the Line\n",
      "4      Backhand Crosscourt                     NaN  Backhand     Crosscourt\n",
      "5                      NaN                     NaN      None           None\n",
      "6                      NaN     Backhand Crosscourt  Backhand     Crosscourt\n",
      "7   Forehand Down the Line                     NaN  Forehand  Down the Line\n",
      "8      Forehand Crosscourt                     NaN  Forehand     Crosscourt\n",
      "9   Forehand Down the Line                     NaN  Forehand  Down the Line\n",
      "10     Backhand Crosscourt                     NaN  Backhand     Crosscourt\n",
      "11  Backhand Down the Line                     NaN  Backhand  Down the Line\n",
      "12                     NaN                     NaN      None           None\n",
      "13                     NaN  Forehand Down the Line  Forehand  Down the Line\n",
      "14                     NaN                     NaN      None           None\n"
     ]
    }
   ],
   "source": [
    "# Create new columns\n",
    "shot_data['shotFhBh'] = shot_data['shotType'].apply(lambda x: 'Forehand' if 'Forehand' in str(x) else ('Backhand' if 'Backhand' in str(x) else None))\n",
    "shot_data['shotDirection'] = shot_data['shotType'].apply(lambda x: 'Crosscourt' if 'Crosscourt' in str(x) else ('Down the Line' if 'Down the Line' in str(x) else None))\n",
    "\n",
    "\n",
    "shot_data.loc[pd.notna(shot_data['returnData']), 'shotFhBh'] = shot_data.loc[pd.notna(shot_data['returnData']), 'returnData'].apply(lambda x: 'Forehand' if 'Forehand' in str(x) else ('Backhand' if 'Backhand' in str(x) else None))\n",
    "shot_data.loc[pd.notna(shot_data['returnData']), 'shotDirection'] = shot_data.loc[pd.notna(shot_data['returnData']), 'returnData'].apply(lambda x: 'Crosscourt' if 'Crosscourt' in str(x) else ('Down the Line' if 'Down the Line' in str(x) else None))\n",
    "\n",
    "\n",
    "# Display the resulting DataFrame\n",
    "print(shot_data[['shotType', 'returnData', 'shotFhBh', 'shotDirection']].head(15))"
   ]
  },
  {
   "cell_type": "code",
   "execution_count": 1270,
   "id": "b49b167c-1c12-4025-8947-895a415e490a",
   "metadata": {},
   "outputs": [
    {
     "name": "stdout",
     "output_type": "stream",
     "text": [
      "                 shotType  shotFhBh  shotDirection pointScore   side\n",
      "0                     NaN      None           None        0-0  Deuce\n",
      "1                     NaN  Forehand     Crosscourt        0-0   None\n",
      "2     Forehand Crosscourt  Forehand     Crosscourt        0-0   None\n",
      "3  Forehand Down the Line  Forehand  Down the Line        0-0   None\n",
      "4     Backhand Crosscourt  Backhand     Crosscourt        0-0   None\n",
      "5                     NaN      None           None       15-0     Ad\n",
      "6                     NaN  Backhand     Crosscourt       15-0   None\n",
      "7  Forehand Down the Line  Forehand  Down the Line       15-0   None\n",
      "8     Forehand Crosscourt  Forehand     Crosscourt       15-0   None\n",
      "9  Forehand Down the Line  Forehand  Down the Line       15-0   None\n"
     ]
    }
   ],
   "source": [
    "# IF NO SIDE Column (Old tagger)\n",
    "deuce_values = ['0-0', '15-15', '40-15', '30-0', '0-30', '15-40', '40-40 (Deuce)', '30-30']\n",
    "shot_data['side'] = shot_data.apply(lambda row: 'Deuce' if str(row['pointScore']) in deuce_values and row['isPointStart'] == 1 else 'Ad' if str(row['pointScore']) is not None and row['isPointStart'] == 1 else None, axis=1)\n",
    "\n",
    "# Display the resulting DataFrame\n",
    "print(shot_data[['shotType', 'shotFhBh', 'shotDirection', 'pointScore', 'side']].head(10))"
   ]
  },
  {
   "cell_type": "code",
   "execution_count": 1271,
   "id": "7bf13f77-cffa-406e-9d32-fdd3d4ffc74b",
   "metadata": {},
   "outputs": [
    {
     "data": {
      "text/plain": [
       "Index(['pointScore', 'gameScore', 'setScore', 'isPointStart', 'pointStartTime',\n",
       "       'isPointEnd', 'pointEndTime', 'shotInRally', 'serverName',\n",
       "       'firstServeIn', 'firstServeZone', 'firstServeXCoord',\n",
       "       'firstServeYCoord', 'secondServeIn', 'secondServeZone',\n",
       "       'secondServeXCoord', 'secondServeYCoord', 'returnData',\n",
       "       'returnContactX', 'returnContactY', 'returnPlacementX',\n",
       "       'returnPlacementY', 'shotContactX', 'shotContactY', 'shotType',\n",
       "       'Topspin', 'isVolley', 'isApproach', 'isDropshot', 'shotLocationX',\n",
       "       'shotLocationY', 'isWinner', 'isErrorWideR', 'isErrorWideL',\n",
       "       'isErrorNet', 'isErrorLong', 'clientTeam', 'Date', 'Division', 'Event',\n",
       "       'lineupPosition', 'matchDetails', 'opponentTeam', 'player1Name',\n",
       "       'player2Name', 'Round', 'Surface', 'Notes', 'pointNumber',\n",
       "       'returnerName', 'shotHitBy', 'isInsideOut', 'isInsideIn', 'shotFhBh',\n",
       "       'shotDirection', 'side'],\n",
       "      dtype='object')"
      ]
     },
     "execution_count": 1271,
     "metadata": {},
     "output_type": "execute_result"
    }
   ],
   "source": [
    "# Check Columns\n",
    "shot_data.columns"
   ]
  },
  {
   "cell_type": "code",
   "execution_count": 1272,
   "id": "752d92e7-348c-4abe-baf8-138ebffcd42b",
   "metadata": {},
   "outputs": [
    {
     "name": "stdout",
     "output_type": "stream",
     "text": [
      "shotInRally      0\n",
      "pointScore       0\n",
      "gameScore        0\n",
      "setScore         0\n",
      "side           580\n",
      "dtype: int64\n"
     ]
    }
   ],
   "source": [
    "# Count NaN or empty values in specified columns\n",
    "na_counts = shot_data[['shotInRally', 'pointScore', 'gameScore', 'setScore', 'side']].isna().sum()\n",
    "\n",
    "# Display the counts\n",
    "print(na_counts)\n",
    "\n"
   ]
  },
  {
   "cell_type": "code",
   "execution_count": 1273,
   "id": "026fe3fb-3556-45b4-8a92-5a1d7a7258de",
   "metadata": {},
   "outputs": [
    {
     "name": "stdout",
     "output_type": "stream",
     "text": [
      "Empty DataFrame\n",
      "Columns: [pointScore, gameScore, setScore, isPointStart, pointStartTime, isPointEnd, pointEndTime, shotInRally, serverName, firstServeIn, firstServeZone, firstServeXCoord, firstServeYCoord, secondServeIn, secondServeZone, secondServeXCoord, secondServeYCoord, returnData, returnContactX, returnContactY, returnPlacementX, returnPlacementY, shotContactX, shotContactY, shotType, Topspin, isVolley, isApproach, isDropshot, shotLocationX, shotLocationY, isWinner, isErrorWideR, isErrorWideL, isErrorNet, isErrorLong, clientTeam, Date, Division, Event, lineupPosition, matchDetails, opponentTeam, player1Name, player2Name, Round, Surface, Notes, pointNumber, returnerName, shotHitBy, isInsideOut, isInsideIn, shotFhBh, shotDirection, side]\n",
      "Index: []\n",
      "\n",
      "[0 rows x 56 columns]\n"
     ]
    }
   ],
   "source": [
    "# Filter rows where 'shotInRally' is NaN\n",
    "na_rows = shot_data[shot_data['shotInRally'].isna()]\n",
    "\n",
    "# Display the rows\n",
    "print(na_rows)"
   ]
  },
  {
   "cell_type": "markdown",
   "id": "75dc0418-54c9-4169-8949-f0d0162dfa38",
   "metadata": {},
   "source": [
    "# Cleaning Shot DF"
   ]
  },
  {
   "cell_type": "code",
   "execution_count": 1274,
   "id": "c1aed367-36fb-418e-b252-cb9cf083210e",
   "metadata": {},
   "outputs": [],
   "source": [
    "# Make Scores Strings not Date Time\n",
    "columns_to_convert = ['gameScore', 'setScore'] #if no tiebreakScore\n",
    "# columns_to_convert = ['gameScore', 'setScore', 'tiebreakScore']\n",
    "shot_data[columns_to_convert] = shot_data[columns_to_convert].astype(object)"
   ]
  },
  {
   "cell_type": "code",
   "execution_count": 1275,
   "id": "374b453c-472a-451d-9eef-37c4b71b9c9b",
   "metadata": {},
   "outputs": [],
   "source": [
    "# Adds Point Number, by incrementing when isPointStart = 1\n",
    "\n",
    "point_starts = (shot_data['isPointStart'] == 1) \n",
    "shot_data['pointNumber'] = point_starts.cumsum()\n",
    "\n",
    "# print(shot_data['pointNumber'].tail(10))"
   ]
  },
  {
   "cell_type": "code",
   "execution_count": 1276,
   "id": "31a880ec-7ac5-4c1c-aa0d-4b4fb4aa7f6f",
   "metadata": {},
   "outputs": [
    {
     "name": "stdout",
     "output_type": "stream",
     "text": [
      "    pointScore gameScore setScore  isPointStart  pointStartTime  isPointEnd  \\\n",
      "0          0-0       0-0      0-0           1.0         20671.0         NaN   \n",
      "1          0-0       0-0      0-0           NaN             NaN         NaN   \n",
      "2          0-0       0-0      0-0           NaN             NaN         NaN   \n",
      "3          0-0       0-0      0-0           NaN             NaN         NaN   \n",
      "4          0-0       0-0      0-0           NaN             NaN         1.0   \n",
      "..         ...       ...      ...           ...             ...         ...   \n",
      "697       0-40       5-3      1-0           NaN             NaN         NaN   \n",
      "698       0-40       5-3      1-0           NaN             NaN         1.0   \n",
      "699      15-40       5-3      1-0           1.0       6497093.0         NaN   \n",
      "700      15-40       5-3      1-0           NaN             NaN         NaN   \n",
      "701      15-40       5-3      1-0           NaN             NaN         1.0   \n",
      "\n",
      "     pointEndTime  shotInRally     serverName  firstServeIn  ... Surface  \\\n",
      "0         30153.0            1  Raphael Perot           1.0  ...     NaN   \n",
      "1             NaN            2  Raphael Perot           NaN  ...     NaN   \n",
      "2             NaN            3  Raphael Perot           NaN  ...     NaN   \n",
      "3             NaN            4  Raphael Perot           NaN  ...     NaN   \n",
      "4             NaN            5  Raphael Perot           NaN  ...     NaN   \n",
      "..            ...          ...            ...           ...  ...     ...   \n",
      "697           NaN           15  Raphael Perot           NaN  ...     NaN   \n",
      "698     6470168.0           16  Raphael Perot           NaN  ...     NaN   \n",
      "699           NaN            1  Raphael Perot           1.0  ...     NaN   \n",
      "700           NaN            2  Raphael Perot           NaN  ...     NaN   \n",
      "701     6505022.0            3  Raphael Perot           NaN  ...     NaN   \n",
      "\n",
      "     Notes  pointNumber  returnerName      shotHitBy  isInsideOut  isInsideIn  \\\n",
      "0      NaN            1  Govind Nanda  Raphael Perot            0           0   \n",
      "1      NaN            1  Govind Nanda   Govind Nanda            0           0   \n",
      "2      NaN            1  Govind Nanda  Raphael Perot            0           0   \n",
      "3      NaN            1  Govind Nanda   Govind Nanda            0           0   \n",
      "4      NaN            1  Govind Nanda  Raphael Perot            0           0   \n",
      "..     ...          ...           ...            ...          ...         ...   \n",
      "697    NaN          121  Govind Nanda  Raphael Perot            0           0   \n",
      "698    NaN          121  Govind Nanda   Govind Nanda            0           0   \n",
      "699    NaN          122  Govind Nanda  Raphael Perot            0           0   \n",
      "700    NaN          122  Govind Nanda   Govind Nanda            0           0   \n",
      "701    NaN          122  Govind Nanda  Raphael Perot            0           0   \n",
      "\n",
      "     shotFhBh  shotDirection   side  \n",
      "0        None           None  Deuce  \n",
      "1    Forehand     Crosscourt   None  \n",
      "2    Forehand     Crosscourt   None  \n",
      "3    Forehand  Down the Line   None  \n",
      "4    Backhand     Crosscourt   None  \n",
      "..        ...            ...    ...  \n",
      "697  Forehand  Down the Line   None  \n",
      "698  Forehand  Down the Line   None  \n",
      "699      None           None  Deuce  \n",
      "700  Backhand     Crosscourt   None  \n",
      "701  Forehand     Crosscourt   None  \n",
      "\n",
      "[702 rows x 56 columns]\n"
     ]
    }
   ],
   "source": [
    "# Forward Fill GameScore, SetScore, tiebreakScore, serverName, player1Name, player2Name\n",
    "\n",
    "columns_to_fill = ['gameScore','setScore', 'serverName', 'player1Name', 'player2Name'] \n",
    "# columns_to_fill = ['gameScore','setScore', 'tiebreakScore', 'serverName', 'player1Name', 'player2Name'] \n",
    "# Add player1Hand, player2Hand when it is in tagger\n",
    "\n",
    "for column in columns_to_fill:\n",
    "    shot_data[column].replace(['', 'na'], pd.NaT, inplace=True)\n",
    "    shot_data[column] = shot_data[column].ffill()\n",
    "\n",
    "# Print the updated DataFrame\n",
    "print(shot_data)\n"
   ]
  },
  {
   "cell_type": "code",
   "execution_count": 1277,
   "id": "a95e4421-a815-4347-96b0-a71ad91011a2",
   "metadata": {},
   "outputs": [
    {
     "name": "stdout",
     "output_type": "stream",
     "text": [
      "Player 1 = Govind Nanda, Player 2 = Raphael Perot\n"
     ]
    }
   ],
   "source": [
    "# Get Returner Name for Shot DF\n",
    "\n",
    "# Extract player1Name and player2Name from the first row of shot_data\n",
    "first_row_shot_df = shot_data.iloc[0]\n",
    "player1_name = first_row_shot_df['player1Name']\n",
    "player2_name = first_row_shot_df['player2Name']\n",
    "\n",
    "# # Can Also Manually inpute Player 1 and 2 name\n",
    "# player1_name = \"Kimmi Hance\"\n",
    "# player2_name = \"Malaika Rapolu\"\n",
    "\n",
    "def get_returner_name(server_name):\n",
    "    return player2_name if server_name == player1_name else player1_name\n",
    "\n",
    "# Add 'Returner Name' column to point_df using the function\n",
    "shot_data['returnerName'] = shot_data['serverName'].apply(get_returner_name)\n",
    "\n",
    "print(f\"Player 1 = {player1_name}, Player 2 = {player2_name}\")\n",
    "# print(shot_data[['serverName','returnerName']])"
   ]
  },
  {
   "cell_type": "code",
   "execution_count": 1278,
   "id": "359b8ee1-b6f1-4bad-b4c0-e0fd39e01ae1",
   "metadata": {},
   "outputs": [],
   "source": [
    "# Add Shot Hit By for each Shot\n",
    "\n",
    "shot_data['shotHitBy'] = shot_data.apply(lambda row: row['serverName'] if row['shotInRally'] % 2 == 1 else row['returnerName'], axis=1)\n",
    "# print(shot_data[['serverName', 'shotHitBy','pointNumber', 'shotInRally']].head(20))"
   ]
  },
  {
   "cell_type": "code",
   "execution_count": 1279,
   "id": "f6d99f4c-77a8-48e4-9556-b0ff3417a2bb",
   "metadata": {},
   "outputs": [],
   "source": [
    "\n",
    "# Change this with whatever is player1Hand and player2Hand first Column Values\n",
    "player1hand = \"Right\"\n",
    "player2hand = \"Right\"\n",
    "\n",
    "# Add columns for isInsideOut and isInsideIn, initially set to 0\n",
    "shot_data['isInsideOut'] = 0\n",
    "shot_data['isInsideIn'] = 0\n",
    "\n",
    "# Iterate through rows\n",
    "for index, row in shot_data.iterrows():\n",
    "    shotHitBy = row['shotHitBy']\n",
    "    player_hand = player1hand if shotHitBy == row['player1Name'] else player2hand\n",
    "    \n",
    "    if player_hand == \"Right\":\n",
    "        if row['side'] == \"Duece\" and row['shotType'] == \"Backhand\" and row['shotDirection'] == \"Crosscourt\":\n",
    "            shot_data.at[index, 'isInsideOut'] = 1\n",
    "        elif row['side'] == \"Ad\" and row['shotType'] == \"Forehand\" and row['shotDirection'] == \"Crosscourt\":\n",
    "            shot_data.at[index, 'isInsideOut'] = 1\n",
    "        elif row['side'] == \"Duece\" and row['shotType'] == \"Backhand\" and row['shotDirection'] == \"Down the Line\":\n",
    "            shot_data.at[index, 'isInsideIn'] = 1\n",
    "        elif row['side'] == \"Ad\" and row['shotType'] == \"Forehand\" and row['shotDirection'] == \"Down the Line\":\n",
    "            shot_data.at[index, 'isInsideIn'] = 1\n",
    "    elif player_hand == \"Left\":\n",
    "        if row['side'] == \"Ad\" and row['shotType'] == \"Backhand\" and row['shotDirection'] == \"Crosscourt\":\n",
    "            shot_data.at[index, 'isInsideOut'] = 1\n",
    "        elif row['side'] == \"Duece\" and row['shotType'] == \"Forehand\" and row['shotDirection'] == \"Crosscourt\":\n",
    "            shot_data.at[index, 'isInsideOut'] = 1\n",
    "        elif row['side'] == \"Ad\" and row['shotType'] == \"Backhand\" and row['shotDirection'] == \"Down the Line\":\n",
    "            shot_data.at[index, 'isInsideIn'] = 1\n",
    "        elif row['side'] == \"Duece\" and row['shotType'] == \"Forehand\" and row['shotDirection'] == \"Down the Line\":\n",
    "            shot_data.at[index, 'isInsideIn'] = 1"
   ]
  },
  {
   "cell_type": "markdown",
   "id": "a69a017a-9959-4eca-b083-edbc8b009e78",
   "metadata": {},
   "source": [
    "# Ouput Improved Shot Csv HERE"
   ]
  },
  {
   "cell_type": "code",
   "execution_count": 1280,
   "id": "cb74fcb2-47ea-43bd-b304-dd5e05f17df3",
   "metadata": {},
   "outputs": [],
   "source": [
    "# # Ouput Improved Shot Csv HERE\n",
    "\n",
    "# your_df_name = \"NandaPerotFullMatch2.csv\" # edit this \n",
    "\n",
    "# shot_data.to_csv(your_df_name, index=False)"
   ]
  },
  {
   "cell_type": "code",
   "execution_count": null,
   "id": "ca381648-0fe1-425b-935e-d2e9526b7300",
   "metadata": {},
   "outputs": [],
   "source": []
  },
  {
   "cell_type": "markdown",
   "id": "dd38774c-8826-4889-b85c-7b19567048ee",
   "metadata": {},
   "source": [
    "# Below is for Point CSV"
   ]
  },
  {
   "cell_type": "code",
   "execution_count": 1281,
   "id": "839565c5-f520-4fa7-b685-d5b3a9a3c296",
   "metadata": {},
   "outputs": [],
   "source": [
    "# import pandas as pd\n",
    "\n",
    "# # Assuming shot_data is your DataFrame\n",
    "# # You can replace 'shot_data' with the actual name of your DataFrame\n",
    "# filtered_data = shot_data[(shot_data['shotHitBy'] == 'Govind Nanda') & (shot_data['isVolley'] == True)]\n",
    "# unique_point_numbers = filtered_data['pointNumber'].unique()\n",
    "\n",
    "# print(f\"The number of unique pointNumbers where shotHitBy Govind Nanda and isVolley is True: {len(unique_point_numbers)}\")\n",
    "# print(f\"List of unique pointNumbers: {unique_point_numbers}\")\n"
   ]
  },
  {
   "cell_type": "code",
   "execution_count": 1282,
   "id": "e2162aa7-fec4-4164-be11-28a962bdf93e",
   "metadata": {},
   "outputs": [],
   "source": [
    "# import pandas as pd\n",
    "\n",
    "# # Assuming shot_data is your DataFrame\n",
    "# # You can replace 'shot_data' with the actual name of your DataFrame\n",
    "# total_volleys = shot_data[shot_data['isVolley'] == True]['pointNumber'].nunique()\n",
    "\n",
    "# print(f\"The total number of volleys (considering unique pointNumbers): {total_volleys}\")\n"
   ]
  },
  {
   "cell_type": "code",
   "execution_count": null,
   "id": "21934337-25e3-40f5-9620-2efcac48233d",
   "metadata": {},
   "outputs": [],
   "source": []
  },
  {
   "cell_type": "code",
   "execution_count": null,
   "id": "e1bc0409-7025-4b19-ac77-baddec39946c",
   "metadata": {},
   "outputs": [],
   "source": []
  },
  {
   "cell_type": "markdown",
   "id": "d3555edc-492e-4156-904d-76e88546bccb",
   "metadata": {},
   "source": [
    "# This Needs to be adjusted if tagger template columns change !"
   ]
  },
  {
   "cell_type": "markdown",
   "id": "7f1d94f6-82a3-41b6-baf6-a37171703732",
   "metadata": {},
   "source": [
    "# Create Point DF"
   ]
  },
  {
   "cell_type": "code",
   "execution_count": 1283,
   "id": "e50fad00-3f62-41c7-9d3f-87d19fdc6925",
   "metadata": {},
   "outputs": [],
   "source": [
    "# Creating point_df (with only 1 row for each pointNumber)\n",
    "point_df = shot_data.drop_duplicates(subset='pointNumber')[['pointNumber']]"
   ]
  },
  {
   "cell_type": "markdown",
   "id": "14fe84b7-38de-4c4a-97a2-17aca9281bd8",
   "metadata": {},
   "source": [
    "# Add Side"
   ]
  },
  {
   "cell_type": "code",
   "execution_count": 1284,
   "id": "4d250819-706d-4cdf-ba3e-bc2a48a323bb",
   "metadata": {},
   "outputs": [],
   "source": [
    "# Group shot_data by 'pointNumber' and get the first 'side' value for each group\n",
    "side_values = shot_data.groupby('pointNumber')['side'].first().reset_index()\n",
    "\n",
    "point_df['side'] = side_values['side'].values"
   ]
  },
  {
   "cell_type": "code",
   "execution_count": 1285,
   "id": "062f1793-501f-4662-b5f9-606d4d44d97f",
   "metadata": {},
   "outputs": [],
   "source": [
    "# Adds Server and Returner Names\n",
    "\n",
    "point_df['serverName'] = shot_data.groupby('pointNumber')['serverName'].first().values\n",
    "point_df['returnerName'] = shot_data.groupby('pointNumber')['returnerName'].first().values\n",
    "point_df['Name'] = shot_data.groupby('pointNumber')['pointScore'].first().values"
   ]
  },
  {
   "cell_type": "code",
   "execution_count": 1286,
   "id": "8de4aef7-2d4f-4985-827b-cbd04b780914",
   "metadata": {},
   "outputs": [],
   "source": [
    "# print(point_df.tail(6))"
   ]
  },
  {
   "cell_type": "code",
   "execution_count": 1287,
   "id": "bc3a101c-f6f7-410c-bae1-f248d85614df",
   "metadata": {},
   "outputs": [],
   "source": [
    "# Add Start and End times per point\n",
    "\n",
    "for index, row in shot_data.iterrows():\n",
    "    point_number = row['pointNumber']\n",
    "    \n",
    "    if row['isPointStart'] == 1:\n",
    "        point_df.loc[point_df['pointNumber'] == point_number, 'Position'] = row['pointStartTime']\n",
    "    if row['isPointEnd'] == 1:\n",
    "        point_df.loc[point_df['pointNumber'] == point_number, 'pointEndPosition'] = row['pointEndTime']\n",
    "\n",
    "# Add Duration\n",
    "point_df['Duration'] = point_df['pointEndPosition'] - point_df['Position']"
   ]
  },
  {
   "cell_type": "markdown",
   "id": "ab9a88ef-3f8a-42c1-b81c-50b03c2fc853",
   "metadata": {},
   "source": [
    "# Add Rally Column"
   ]
  },
  {
   "cell_type": "code",
   "execution_count": 1288,
   "id": "c69f0435-3385-448e-8d1e-f60bad6bbfb9",
   "metadata": {},
   "outputs": [],
   "source": [
    "# Find the highest shotInRally for each pointNumber in shot_data\n",
    "max_rally_per_point = shot_data.groupby('pointNumber')['shotInRally'].max().reset_index()\n",
    "point_df['rallyCount'] = list(max_rally_per_point['shotInRally'])\n",
    "\n",
    "# Add 'rallyCountFreq' column based on specified conditions\n",
    "point_df['rallyCountFreq'] = point_df['rallyCount'].apply(lambda x: '1 - 4' if 1 <= x <= 4 else ('5 - 8' if 5 <= x <= 8 else ('9 - 12' if 9 <= x <= 12 else ('13 +' if x >= 13 else 'Error'))))\n"
   ]
  },
  {
   "cell_type": "markdown",
   "id": "6d73c5aa-9ba2-428b-80e8-5a85f7fbb4a1",
   "metadata": {},
   "source": [
    "# Serve "
   ]
  },
  {
   "cell_type": "code",
   "execution_count": 1289,
   "id": "ab2ae70f-ad58-4d53-b229-44044ad391c8",
   "metadata": {},
   "outputs": [],
   "source": [
    "# Add firstServeIn and secondServeIn\n",
    "\n",
    "# Add firstServeIn and secondServeIn columns\n",
    "point_df['firstServeIn'] = 0\n",
    "point_df['secondServeIn'] = 0\n",
    "\n",
    "for point_number in shot_data['pointNumber'].unique():\n",
    "    # Check if firstServeIn is 1 for the given pointNumber in shot_data\n",
    "    if any((shot_data['pointNumber'] == point_number) & (shot_data['firstServeIn'] == 1)):\n",
    "        point_df.loc[point_df['pointNumber'] == point_number, 'firstServeIn'] = 1\n",
    "    \n",
    "    # Check if secondServeIn is 1 for the given pointNumber in shot_data\n",
    "    if any((shot_data['pointNumber'] == point_number) & (shot_data['secondServeIn'] == 1)):\n",
    "        point_df.loc[point_df['pointNumber'] == point_number, 'secondServeIn'] = 1"
   ]
  },
  {
   "cell_type": "code",
   "execution_count": 1290,
   "id": "5a273941-9b06-4ab0-97d6-499dd07997c7",
   "metadata": {},
   "outputs": [
    {
     "name": "stdout",
     "output_type": "stream",
     "text": [
      "['1st Serve In' '2nd Serve In' 'Double Fault']\n"
     ]
    }
   ],
   "source": [
    "# Add serveResult and serveInPlacement\n",
    "\n",
    "point_df['serveResult'] = ''\n",
    "point_df['serveInPlacement'] = ''\n",
    "\n",
    "for point_number in shot_data['pointNumber'].unique():\n",
    "    if any((shot_data['pointNumber'] == point_number) & (shot_data['firstServeIn'] == 1)):\n",
    "        point_df.loc[point_df['pointNumber'] == point_number, 'serveResult'] = '1st Serve In'\n",
    "        point_df.loc[point_df['pointNumber'] == point_number, 'serveInPlacement'] = shot_data['firstServeZone']\n",
    "    elif any((shot_data['pointNumber'] == point_number) & (shot_data['secondServeIn'] == 1)):\n",
    "        point_df.loc[point_df['pointNumber'] == point_number, 'serveResult'] = '2nd Serve In'\n",
    "        point_df.loc[point_df['pointNumber'] == point_number, 'serveInPlacement'] = shot_data['secondServeZone']    \n",
    "    else: \n",
    "        point_df.loc[point_df['pointNumber'] == point_number, 'serveResult'] = 'Double Fault'\n",
    "        point_df.loc[point_df['pointNumber'] == point_number, 'serveInPlacement'] = np.nan\n",
    "        \n",
    "    point_df.loc[point_df['pointNumber'] == point_number, 'firstServeZone'] = shot_data['firstServeZone']\n",
    "    point_df.loc[point_df['pointNumber'] == point_number, 'secondServeZone'] = shot_data['secondServeZone']\n",
    "    \n",
    "# Display the result\n",
    "print(point_df['serveResult'].unique())\n"
   ]
  },
  {
   "cell_type": "code",
   "execution_count": 1291,
   "id": "808e0ab8-3fe8-49bc-ae5b-2c90bed747d8",
   "metadata": {},
   "outputs": [
    {
     "name": "stdout",
     "output_type": "stream",
     "text": [
      "    pointNumber   side     serverName   returnerName   Name  Position  \\\n",
      "0             1  Deuce  Raphael Perot   Govind Nanda    0-0   20671.0   \n",
      "5             2     Ad  Raphael Perot   Govind Nanda   15-0   52726.0   \n",
      "12            3  Deuce  Raphael Perot   Govind Nanda  15-15   95309.0   \n",
      "14            4     Ad  Raphael Perot   Govind Nanda  30-15  120318.0   \n",
      "15            5  Deuce  Raphael Perot   Govind Nanda  30-30  156269.0   \n",
      "20            6     Ad  Raphael Perot   Govind Nanda  30-40  201932.0   \n",
      "28            7  Deuce   Govind Nanda  Raphael Perot    0-0  271253.0   \n",
      "35            8     Ad   Govind Nanda  Raphael Perot   0-15  311691.0   \n",
      "37            9  Deuce   Govind Nanda  Raphael Perot  15-15  344517.0   \n",
      "54           10     Ad   Govind Nanda  Raphael Perot  30-15  398115.0   \n",
      "\n",
      "    pointEndPosition  Duration  rallyCount rallyCountFreq  firstServeIn  \\\n",
      "0                NaN       NaN           5          5 - 8             1   \n",
      "5                NaN       NaN           7          5 - 8             0   \n",
      "12               NaN       NaN           2          1 - 4             1   \n",
      "14          135340.0   15022.0           1          1 - 4             0   \n",
      "15               NaN       NaN           5          5 - 8             0   \n",
      "20               NaN       NaN           8          5 - 8             1   \n",
      "28               NaN       NaN           7          5 - 8             1   \n",
      "35               NaN       NaN           2          1 - 4             0   \n",
      "37               NaN       NaN          17           13 +             1   \n",
      "54               NaN       NaN           9         9 - 12             1   \n",
      "\n",
      "    secondServeIn   serveResult serveInPlacement firstServeZone  \\\n",
      "0               0  1st Serve In             Wide           Wide   \n",
      "5               1  2nd Serve In             Body              T   \n",
      "12              0  1st Serve In             Wide           Wide   \n",
      "14              0  Double Fault     Double Fault           Wide   \n",
      "15              1  2nd Serve In             Body              T   \n",
      "20              0  1st Serve In             Body           Body   \n",
      "28              0  1st Serve In             Body           Body   \n",
      "35              1  2nd Serve In                T           Body   \n",
      "37              0  1st Serve In             Body           Body   \n",
      "54              0  1st Serve In             Wide           Wide   \n",
      "\n",
      "   secondServeZone  \n",
      "0             None  \n",
      "5             Body  \n",
      "12            None  \n",
      "14               T  \n",
      "15            Body  \n",
      "20            None  \n",
      "28            None  \n",
      "35               T  \n",
      "37            None  \n",
      "54            None  \n"
     ]
    }
   ],
   "source": [
    "serve_zones = shot_data.loc[shot_data['shotInRally'] == 1, ['pointNumber', 'firstServeZone', 'secondServeZone', 'firstServeIn', 'secondServeIn']].drop_duplicates()\n",
    "\n",
    "# Define a function to handle serveInPlacement based on conditions\n",
    "def get_serve_placement(row):\n",
    "    if row['firstServeIn'] == 1:\n",
    "        return row['firstServeZone']\n",
    "    elif row['secondServeIn'] == 1:\n",
    "        return row['secondServeZone']\n",
    "    else:\n",
    "        return 'Double Fault'\n",
    "\n",
    "# Apply the function to create the serveInPlacement column\n",
    "point_df['serveInPlacement'] = shot_data.apply(get_serve_placement, axis=1)\n",
    "point_df['firstServeZone'] = shot_data.groupby('pointNumber')['firstServeZone'].first().values\n",
    "point_df['secondServeZone'] = shot_data.groupby('pointNumber')['secondServeZone'].first().values\n",
    "\n",
    "# Display the result\n",
    "print(point_df.head(10))"
   ]
  },
  {
   "cell_type": "code",
   "execution_count": 1292,
   "id": "589ab308-885c-4158-919f-a2d2f8d7a58d",
   "metadata": {},
   "outputs": [
    {
     "name": "stdout",
     "output_type": "stream",
     "text": [
      "     pointNumber   side     serverName   returnerName   Name   Position  \\\n",
      "14             4     Ad  Raphael Perot   Govind Nanda  30-15   120318.0   \n",
      "190           33  Deuce   Govind Nanda  Raphael Perot  40-15  1415438.0   \n",
      "197           35  Deuce  Raphael Perot   Govind Nanda    0-0  1527426.0   \n",
      "435           75  Deuce  Raphael Perot   Govind Nanda  15-15  4333699.0   \n",
      "\n",
      "     pointEndPosition  Duration  rallyCount rallyCountFreq  firstServeIn  \\\n",
      "14           135340.0   15022.0           1          1 - 4             0   \n",
      "190         1442327.0   26889.0           1          1 - 4             0   \n",
      "197         1547779.0   20353.0           1          1 - 4             0   \n",
      "435         4349691.0   15992.0           1          1 - 4             0   \n",
      "\n",
      "     secondServeIn   serveResult serveInPlacement firstServeZone  \\\n",
      "14               0  Double Fault     Double Fault           Wide   \n",
      "190              0  Double Fault     Double Fault           Wide   \n",
      "197              0  Double Fault     Double Fault              T   \n",
      "435              0  Double Fault     Double Fault           Body   \n",
      "\n",
      "    secondServeZone  \n",
      "14                T  \n",
      "190               T  \n",
      "197               T  \n",
      "435            Body  \n"
     ]
    }
   ],
   "source": [
    "double_fault_rows = point_df[point_df['serveResult'] == 'Double Fault']\n",
    "print(double_fault_rows)"
   ]
  },
  {
   "cell_type": "markdown",
   "id": "eb67c372-56c0-41d2-b972-84b747cf0cd1",
   "metadata": {},
   "source": [
    "# Ace"
   ]
  },
  {
   "cell_type": "code",
   "execution_count": 1293,
   "id": "dccd8e5d-c4aa-42a9-9131-a950fd9c1fc3",
   "metadata": {},
   "outputs": [
    {
     "name": "stdout",
     "output_type": "stream",
     "text": [
      "    pointNumber  rallyCount  isAce\n",
      "0             1           5  False\n",
      "5             2           7  False\n",
      "12            3           2  False\n",
      "14            4           1  False\n",
      "15            5           5  False\n",
      "20            6           8  False\n",
      "28            7           7  False\n",
      "35            8           2  False\n",
      "37            9          17  False\n",
      "54           10           9  False\n",
      "63           11           1   True\n",
      "64           12           3  False\n",
      "67           13           5  False\n",
      "72           14           8  False\n"
     ]
    }
   ],
   "source": [
    "point_df['isAce'] = ((point_df['rallyCount'] == 1) & ((point_df['serveInPlacement'] != \"Double Fault\")))\n",
    "\n",
    "# Display the resulting DataFrame\n",
    "print(point_df[['pointNumber', 'rallyCount', 'isAce']].head(14))"
   ]
  },
  {
   "cell_type": "markdown",
   "id": "3e3a3730-dac7-44f0-b03c-de912ab7b0d5",
   "metadata": {},
   "source": [
    "# Return"
   ]
  },
  {
   "cell_type": "code",
   "execution_count": 1294,
   "id": "b36e7ca5-533e-4a20-8ab9-14e3b4bdc8bf",
   "metadata": {},
   "outputs": [
    {
     "name": "stdout",
     "output_type": "stream",
     "text": [
      "    pointNumber   side     serverName   returnerName   Name  Position  \\\n",
      "0             1  Deuce  Raphael Perot   Govind Nanda    0-0   20671.0   \n",
      "5             2     Ad  Raphael Perot   Govind Nanda   15-0   52726.0   \n",
      "12            3  Deuce  Raphael Perot   Govind Nanda  15-15   95309.0   \n",
      "14            4     Ad  Raphael Perot   Govind Nanda  30-15  120318.0   \n",
      "15            5  Deuce  Raphael Perot   Govind Nanda  30-30  156269.0   \n",
      "20            6     Ad  Raphael Perot   Govind Nanda  30-40  201932.0   \n",
      "28            7  Deuce   Govind Nanda  Raphael Perot    0-0  271253.0   \n",
      "35            8     Ad   Govind Nanda  Raphael Perot   0-15  311691.0   \n",
      "37            9  Deuce   Govind Nanda  Raphael Perot  15-15  344517.0   \n",
      "54           10     Ad   Govind Nanda  Raphael Perot  30-15  398115.0   \n",
      "\n",
      "    pointEndPosition  Duration  rallyCount rallyCountFreq  firstServeIn  \\\n",
      "0                NaN       NaN           5          5 - 8             1   \n",
      "5                NaN       NaN           7          5 - 8             0   \n",
      "12               NaN       NaN           2          1 - 4             1   \n",
      "14          135340.0   15022.0           1          1 - 4             0   \n",
      "15               NaN       NaN           5          5 - 8             0   \n",
      "20               NaN       NaN           8          5 - 8             1   \n",
      "28               NaN       NaN           7          5 - 8             1   \n",
      "35               NaN       NaN           2          1 - 4             0   \n",
      "37               NaN       NaN          17           13 +             1   \n",
      "54               NaN       NaN           9         9 - 12             1   \n",
      "\n",
      "    secondServeIn   serveResult serveInPlacement firstServeZone  \\\n",
      "0               0  1st Serve In             Wide           Wide   \n",
      "5               1  2nd Serve In             Body              T   \n",
      "12              0  1st Serve In             Wide           Wide   \n",
      "14              0  Double Fault     Double Fault           Wide   \n",
      "15              1  2nd Serve In             Body              T   \n",
      "20              0  1st Serve In             Body           Body   \n",
      "28              0  1st Serve In             Body           Body   \n",
      "35              1  2nd Serve In                T           Body   \n",
      "37              0  1st Serve In             Body           Body   \n",
      "54              0  1st Serve In             Wide           Wide   \n",
      "\n",
      "   secondServeZone  isAce returnDirection returnFhBh  \n",
      "0             None  False      Crosscourt   Forehand  \n",
      "5             Body  False      Crosscourt   Backhand  \n",
      "12            None  False   Down the Line   Forehand  \n",
      "14               T  False            None       None  \n",
      "15            Body  False   Down the Line   Backhand  \n",
      "20            None  False   Down the Line   Forehand  \n",
      "28            None  False   Down the Line   Backhand  \n",
      "35               T  False   Down the Line   Forehand  \n",
      "37            None  False   Down the Line   Backhand  \n",
      "54            None  False      Crosscourt   Backhand  \n"
     ]
    }
   ],
   "source": [
    "# Assuming point_df is your DataFrame\n",
    "\n",
    "# Set the initial values of 'returnDirection' and 'returnHand' columns to None\n",
    "point_df['returnDirection'] = None\n",
    "point_df['returnFhBh'] = None\n",
    "\n",
    "# Iterate through pointNumber in shot_data\n",
    "for point_number in shot_data['pointNumber'].unique():\n",
    "    # Check if shotInRally == 2 exists for the given pointNumber\n",
    "    if 2 in shot_data.loc[shot_data['pointNumber'] == point_number, 'shotInRally'].values:\n",
    "        # Get the information from the corresponding row\n",
    "        row_with_return_info = shot_data[(shot_data['pointNumber'] == point_number) & (shot_data['shotInRally'] == 2)].iloc[0]\n",
    "\n",
    "        # Assign values to 'returnDirection' and 'returnHand' columns\n",
    "        point_df.loc[point_df['pointNumber'] == point_number, 'returnDirection'] = row_with_return_info['shotDirection']\n",
    "        point_df.loc[point_df['pointNumber'] == point_number, 'returnFhBh'] = row_with_return_info['shotFhBh']\n",
    "\n",
    "# Display the modified DataFrame\n",
    "print(point_df.head(10))\n"
   ]
  },
  {
   "cell_type": "code",
   "execution_count": null,
   "id": "f379926f-cb6d-4330-8efb-3db4d4add835",
   "metadata": {},
   "outputs": [],
   "source": []
  },
  {
   "cell_type": "markdown",
   "id": "3c543142-d3fb-489f-9f04-8fc325e3713d",
   "metadata": {},
   "source": []
  },
  {
   "cell_type": "markdown",
   "id": "00c1ac33-5f93-4a96-8fe8-70eafc0b9f06",
   "metadata": {},
   "source": []
  },
  {
   "cell_type": "code",
   "execution_count": null,
   "id": "5edb6eca-4374-4d88-9f42-7ac6cb949b03",
   "metadata": {},
   "outputs": [],
   "source": []
  },
  {
   "cell_type": "code",
   "execution_count": null,
   "id": "4f70b9e9-8562-4625-9fb7-272fe318ac8f",
   "metadata": {},
   "outputs": [],
   "source": []
  },
  {
   "cell_type": "code",
   "execution_count": null,
   "id": "8eb78db7-76e5-41bd-8aff-eb7800b55a80",
   "metadata": {},
   "outputs": [],
   "source": []
  },
  {
   "cell_type": "markdown",
   "id": "c33cb300-0c70-49d2-bb4b-e76d4853de0a",
   "metadata": {},
   "source": [
    "# Add Error Column"
   ]
  },
  {
   "cell_type": "code",
   "execution_count": 1295,
   "id": "f10972b3-884a-4e58-9d81-ab0d9704bd23",
   "metadata": {},
   "outputs": [],
   "source": [
    "# Create an empty DataFrame to store the results\n",
    "error_results = pd.DataFrame(columns=['errorType', 'pointNumber'])\n",
    "\n",
    "# Iterate through entire shot_data\n",
    "for index, row in shot_data.iterrows():\n",
    "    pointNumber = row['pointNumber']\n",
    "    point_error_value = None\n",
    "    \n",
    "    if row['isErrorWideR'] == 1:\n",
    "        point_error_value = 'Wide Right'\n",
    "    elif row['isErrorWideL'] == 1:\n",
    "        point_error_value = 'Wide Left'\n",
    "    elif 'isErrorNet' in row and row['isErrorNet'] == 1:\n",
    "        point_error_value = 'Net'\n",
    "    elif row['isErrorLong'] == 1:\n",
    "        point_error_value = 'Long'\n",
    "    \n",
    "\n",
    "    # If an error is found, append the result to the error_results DataFrame\n",
    "    if point_error_value is not None:\n",
    "        error_results = pd.concat([error_results, pd.DataFrame({'pointNumber': [pointNumber], 'errorType': [point_error_value]})], ignore_index=True)\n",
    "\n",
    "\n",
    "# Drop duplicates based on 'pointNumber'\n",
    "error_results = error_results.drop_duplicates(subset=['pointNumber'])"
   ]
  },
  {
   "cell_type": "code",
   "execution_count": 1296,
   "id": "a9b428e1-322f-4908-b89f-2a7c38667504",
   "metadata": {},
   "outputs": [],
   "source": [
    "# Create a dictionary mapping 'pointNumber' to 'errorType' in error_results\n",
    "error_type_mapping = dict(zip(error_results['pointNumber'], error_results['errorType']))\n",
    "\n",
    "# Create 'errorType' column in point_df based on the mapping\n",
    "point_df['errorType'] = point_df['pointNumber'].map(error_type_mapping)\n",
    "\n",
    "point_df = point_df.replace({np.nan: None})"
   ]
  },
  {
   "cell_type": "markdown",
   "id": "60e73b6b-2a6f-4a29-9110-010eefc4021b",
   "metadata": {},
   "source": [
    "# Return Stuff"
   ]
  },
  {
   "cell_type": "code",
   "execution_count": 1297,
   "id": "4b6b3aa8-be4c-4fe7-ad30-f3a8b58fde86",
   "metadata": {},
   "outputs": [],
   "source": [
    "def get_return_error(row):\n",
    "    if row['rallyCount'] == 2:\n",
    "        return row['errorType']\n",
    "    else:\n",
    "        return None\n",
    "\n",
    "point_df.loc[point_df['pointNumber'] == point_number, 'serveInPlacement'] = shot_data['secondServeZone']  \n",
    "\n",
    "# Apply the functions to create the new columns\n",
    "point_df['returnError'] = point_df.apply(get_return_error, axis=1)\n"
   ]
  },
  {
   "cell_type": "code",
   "execution_count": 1298,
   "id": "93ab6169-92e0-4803-82e2-b8fa8731d9d5",
   "metadata": {},
   "outputs": [],
   "source": [
    "# print(point_df[\"returnError\"].unique())\n",
    "# print(point_df[['rallyCount','returnDirection','returnFhBh']])"
   ]
  },
  {
   "cell_type": "markdown",
   "id": "9016ca68-379b-4af0-9d34-17e9dea6de06",
   "metadata": {},
   "source": [
    "# Last Shot"
   ]
  },
  {
   "cell_type": "code",
   "execution_count": 1299,
   "id": "d82dd333-70de-4a33-b493-cca692cde241",
   "metadata": {},
   "outputs": [],
   "source": [
    "\n",
    "point_df['lastShotDirection'] = None\n",
    "point_df['lastShotFhBh'] = None\n",
    "\n",
    "# Iterate through unique pointNumbers in shot_data\n",
    "for point_number in shot_data['pointNumber'].unique():\n",
    "    # Check if isPointEnd == 1 exists for the given pointNumber\n",
    "    if 1 in shot_data.loc[shot_data['pointNumber'] == point_number, 'isPointEnd'].values:\n",
    "        # Get the information from the corresponding row\n",
    "        row_with_return_info = shot_data[(shot_data['pointNumber'] == point_number) & (shot_data['isPointEnd'] == 1)].iloc[0]\n",
    "\n",
    "        # Assign values to 'lastShotDirection' and 'lastShotFhBh' columns\n",
    "        point_df.loc[point_df['pointNumber'] == point_number, 'lastShotDirection'] = row_with_return_info['shotDirection']\n",
    "        point_df.loc[point_df['pointNumber'] == point_number, 'lastShotFhBh'] = row_with_return_info['shotFhBh']"
   ]
  },
  {
   "cell_type": "code",
   "execution_count": 1300,
   "id": "c4873ff7-3158-4467-a133-554b753b6600",
   "metadata": {},
   "outputs": [],
   "source": [
    "# # Display the modified DataFrame\n",
    "# print(point_df[['rallyCount','lastShotDirection','lastShotFhBh']])"
   ]
  },
  {
   "cell_type": "markdown",
   "id": "089faa77-9847-4cd3-84c8-d4dccf62cd0d",
   "metadata": {},
   "source": [
    "# Shot 3 Info"
   ]
  },
  {
   "cell_type": "code",
   "execution_count": 1301,
   "id": "ad745f2b-252a-46a5-aa43-cd6f2871e9b4",
   "metadata": {},
   "outputs": [],
   "source": [
    "# point_df['shot3Direction'] = None\n",
    "# point_df['shot3FhBh'] = None\n",
    "# point_df['shot3Error'] = None\n",
    "\n",
    "# # Iterate through pointNumber in shot_data\n",
    "# for point_number in shot_data['pointNumber'].unique():\n",
    "#     # Check if shotInRally == 2 exists for the given pointNumber\n",
    "#     if 3 in shot_data.loc[shot_data['pointNumber'] == point_number, 'shotInRally'].values:\n",
    "#         # Get the information from the corresponding row\n",
    "#         row_with_shot3_info = shot_data[(shot_data['pointNumber'] == point_number) & (shot_data['shotInRally'] == 3)].iloc[0]\n",
    "\n",
    "#         # Assign values to 'returnDirection' and 'returnHand' columns\n",
    "#         point_df.loc[shot_data['pointNumber'] == point_number, 'shot3Direction'] = row_with_shot3_info['shotDirection']\n",
    "#         point_df.loc[shot_data['pointNumber'] == point_number, 'shot3FhBh'] = row_with_shot3_info['shotFhBh']\n",
    "\n",
    "#         # Check if rallyCount is 3 for this pointNumber\n",
    "#         if point_df.loc[point_df['pointNumber'] == point_number, 'rallyCount'].values[0] == 3:\n",
    "#             # Assign value from 'errorType' column to 'shot3Error'\n",
    "#             point_df.loc[point_df['pointNumber'] == point_number, 'shot3Error'] = point_df['errorType']\n",
    "\n",
    "#             # # Check if isWinner is True for this row in shot_data\n",
    "#             # if row_with_shot3_info['isWinner']:\n",
    "#             #     point_df.loc[point_df['pointNumber'] == point_number, 'shot3Winner'] = True\n",
    "\n",
    "# # Display the modified DataFrame\n",
    "# print(point_df[['rallyCount','shot3FhBh','shot4Direction']])"
   ]
  },
  {
   "cell_type": "code",
   "execution_count": 1302,
   "id": "910a11f5-ccf7-48f9-b5a7-2a97e2ee4a95",
   "metadata": {},
   "outputs": [],
   "source": [
    "# import pandas as pd\n",
    "\n",
    "# # Assuming shot_data and point_df are your DataFrames\n",
    "\n",
    "# def get_serve_shot3_forehand_backhand(row):\n",
    "#     if row['shotInRally'] == 3 and pd.notna(row['shotType']):\n",
    "#         if 'Forehand' in row['shotType']:\n",
    "#             return 'Forehand'\n",
    "#         elif 'Backhand' in row['shotType']:\n",
    "#             return 'Backhand'\n",
    "#     return None\n",
    "\n",
    "# def get_serve_shot3_placement(row):\n",
    "#     if row['shotInRally'] == 3 and pd.notna(row['shotType']):\n",
    "#         if 'Down the Line' in row['shotType']:\n",
    "#             return 'Down the Line'\n",
    "#         elif 'Crosscourt' in row['shotType']:\n",
    "#             return 'Crosscourt'\n",
    "#     return None\n",
    "\n",
    "# def get_serve_shot3_error(row):\n",
    "#     if row['rallyCount'] == 3:\n",
    "#         return row['errorType']\n",
    "#     else:\n",
    "#         return None\n",
    "\n",
    "\n",
    "# # Step 1: Add 'Return Forehand/Backhand' column to point_df\n",
    "# point_df['Serve +1 Forehand/Backhand'] = point_df.apply(get_serve_shot3_forehand_backhand, axis=1)\n",
    "\n",
    "# # Step 2: Add 'Return Placement' column to point_df\n",
    "# point_df['Serve +1 Placement'] = point_df.apply(get_return_placement, axis=1)\n",
    "\n",
    "# # Apply the modified function to create the new column 'Return Error Type' in shot_data\n",
    "# point_df['Serve +1 Error Type'] = point_df.apply(get_return_error, axis=1)\n"
   ]
  },
  {
   "cell_type": "markdown",
   "id": "67e9a41f-29f2-4e22-a8bd-cda644aa2c83",
   "metadata": {},
   "source": [
    "# Shot 4 Info"
   ]
  },
  {
   "cell_type": "code",
   "execution_count": 1303,
   "id": "69a29f5d-9fef-42a2-8853-7d1b8d39519a",
   "metadata": {},
   "outputs": [],
   "source": [
    "# point_df['shot4Direction'] = None\n",
    "# point_df['shot4FhBh'] = None\n",
    "# point_df['shot4Error'] = None\n",
    "# shotInRally = 4\n",
    "\n",
    "# # Iterate through pointNumber in shot_data\n",
    "# for point_number in shot_data['pointNumber'].unique():\n",
    "#     if shotInRally in shot_data.loc[shot_data['pointNumber'] == point_number, 'shotInRally'].values:\n",
    "#         # Get the information from the corresponding row\n",
    "#         row_with_shot3_info = shot_data[(shot_data['pointNumber'] == point_number) & (shot_data['shotInRally'] == shotInRally)].iloc[0]\n",
    "\n",
    "#         # Assign values to 'returnDirection' and 'returnHand' columns\n",
    "#         point_df.loc[shot_data['pointNumber'] == point_number, 'shot4Direction'] = row_with_shot3_info['shotDirection']\n",
    "#         point_df.loc[shot_data['pointNumber'] == point_number, 'shot4FhBh'] = row_with_shot3_info['shotFhBh']\n",
    "\n",
    "#         if point_df.loc[point_df['pointNumber'] == point_number, 'rallyCount'].values[0] == 3:\n",
    "#             point_df.loc[point_df['pointNumber'] == point_number, 'shot4Error'] = point_df['errorType']\n",
    "\n",
    "            \n",
    "# print(point_df[['rallyCount','shot4FhBh','shot4Direction']])"
   ]
  },
  {
   "cell_type": "code",
   "execution_count": 1304,
   "id": "868a1eba-3317-45a4-badc-ec58d36dde87",
   "metadata": {},
   "outputs": [],
   "source": [
    "# print(point_df['Return +1 Error Type'].unique())"
   ]
  },
  {
   "cell_type": "code",
   "execution_count": 1305,
   "id": "17ef5db2-995d-42a5-88b6-9123bffe7b9c",
   "metadata": {},
   "outputs": [],
   "source": [
    "# point_df.shape"
   ]
  },
  {
   "cell_type": "code",
   "execution_count": 1306,
   "id": "1bb7ed92-89a0-4a03-9956-d95927afe5be",
   "metadata": {},
   "outputs": [],
   "source": [
    "# serve_plus1_placement_counts = point_df['Serve +1 Placement'].value_counts()\n",
    "\n",
    "# # Display the count of unique values in 'Serve +1 Placement'\n",
    "# print(serve_plus1_placement_counts)\n"
   ]
  },
  {
   "cell_type": "markdown",
   "id": "1c163eec-123c-4a6e-bf4e-e8438ddb5544",
   "metadata": {},
   "source": [
    "# last shot info"
   ]
  },
  {
   "cell_type": "code",
   "execution_count": 1307,
   "id": "6d6be193-5970-4007-8eee-966cf4faeb61",
   "metadata": {},
   "outputs": [],
   "source": [
    "# def get_last_shot_forehand_backhand(row):\n",
    "#     if row['isPointEnd'] == 1 and pd.notna(row['shotType']):\n",
    "#         if 'Forehand' in row['shotType']:\n",
    "#             return 'Forehand'\n",
    "#         elif 'Backhand' in row['shotType']:\n",
    "#             return 'Backhand'\n",
    "#     return None\n",
    "\n",
    "# def get_last_shot_placement(row):\n",
    "#     if row['isPointEnd'] == 1 and pd.notna(row['shotType']):\n",
    "#         if 'Down the Line' in row['shotType']:\n",
    "#             return 'Down the Line'\n",
    "#         elif 'Crosscourt' in row['shotType']:\n",
    "#             return 'Crosscourt'\n",
    "#     return None\n",
    "\n",
    "# def get_last_shot_error(row):\n",
    "#     if row['isPointEnd'] == 1 and pd.notna(row['shotType']):\n",
    "#         return row['errorType']\n",
    "#     else:\n",
    "#         return None\n",
    "\n",
    "# # Step 1: Add 'Return Forehand/Backhand' column to point_df\n",
    "# point_df['Last Shot Forehand/Backhand'] = point_df.apply(get_last_shot_forehand_backhand, axis=1)\n",
    "\n",
    "# # Step 2: Add 'Return Placement' column to point_df\n",
    "# point_df['Last Shot Placement'] = point_df.apply(get_last_shot_placement, axis=1)\n",
    "\n",
    "#       # Apply the modified function to create the new column 'Return Error Type' in shot_data\n",
    "# point_df['Last Shot Error Type'] = point_df.apply(get_last_shot_error, axis=1)"
   ]
  },
  {
   "cell_type": "code",
   "execution_count": 1308,
   "id": "87658ac1-9f00-4bf2-93ad-be769d1a31c7",
   "metadata": {},
   "outputs": [],
   "source": [
    "# print(point_df['Last Shot Error Type'].unique())"
   ]
  },
  {
   "cell_type": "markdown",
   "id": "f86354a2-0aca-4d0b-9e61-5d5f93c2a6d8",
   "metadata": {},
   "source": [
    "# pointWonBy"
   ]
  },
  {
   "cell_type": "code",
   "execution_count": 1309,
   "id": "072c95c3-a8cd-448c-8ce8-88b5288316bb",
   "metadata": {},
   "outputs": [],
   "source": [
    "# Filter shot_data for rows where isPointEnd is 1\n",
    "filtered_df = shot_data[shot_data['isPointEnd'] == 1]\n",
    "\n",
    "# Record values for specified columns\n",
    "pointWonBy_df2 = filtered_df[['player1Name', 'player2Name', 'serverName', 'isWinner', 'pointNumber', 'shotInRally']].copy()\n",
    "\n",
    "# Determine returnerName based on serverName\n",
    "pointWonBy_df2['returnerName'] = pointWonBy_df2.apply(lambda row: row['player2Name'] if row['serverName'] == row['player1Name'] else row['player1Name'], axis=1)\n",
    "\n",
    "\n",
    "for index, row in pointWonBy_df2.iterrows():\n",
    "    if (row['isWinner'] == 1 and row['shotInRally'] % 2 == 1) or (row['isWinner'] != 1 and row['shotInRally'] % 2 == 0):\n",
    "        pointWonBy_df2.at[index, 'pointWonBy'] = row['serverName']\n",
    "    elif (row['isWinner'] == 1 and row['shotInRally'] % 2 == 0) or (row['isWinner'] != 1 and row['shotInRally'] % 2 == 1):\n",
    "        pointWonBy_df2.at[index, 'pointWonBy'] = row['returnerName']\n",
    "    else:\n",
    "        pointWonBy_df2.at[index, 'pointWonBy'] = None\n",
    "\n",
    "point_df['pointWonBy'] = pointWonBy_df2['pointWonBy'].values"
   ]
  },
  {
   "cell_type": "code",
   "execution_count": 1310,
   "id": "20159d1f-49e5-4b80-94bc-0273386eeaf2",
   "metadata": {},
   "outputs": [],
   "source": [
    "# # Display the resulting DataFrame\n",
    "# print(point_df)"
   ]
  },
  {
   "cell_type": "markdown",
   "id": "60aebf71-65aa-4d1d-8fec-ea650c4ae3be",
   "metadata": {},
   "source": [
    "# Break Point"
   ]
  },
  {
   "cell_type": "code",
   "execution_count": 1311,
   "id": "1a721604-958f-495e-9da4-074881a8e2c0",
   "metadata": {},
   "outputs": [],
   "source": [
    "# List of values to check for in 'Name' column\n",
    "break_point_values = ['0-40', '15-40', '30-40', '40-40 (Deuce)', '40-40 (Ad)']\n",
    "\n",
    "# Create 'isBreakPoint' column in point_df\n",
    "point_df['isBreakPoint'] = point_df['Name'].isin(break_point_values)"
   ]
  },
  {
   "cell_type": "code",
   "execution_count": 1312,
   "id": "21d1bea9-0782-46b6-9760-38aef122f01a",
   "metadata": {},
   "outputs": [],
   "source": [
    "# Display the resulting DataFrame\n",
    "# print(point_df[['pointNumber', 'Name', 'isBreakPoint']])"
   ]
  },
  {
   "cell_type": "markdown",
   "id": "2c869816-01a5-4a42-90d1-e95a938f8809",
   "metadata": {},
   "source": [
    "# Add Side"
   ]
  },
  {
   "cell_type": "code",
   "execution_count": 1313,
   "id": "a705f586-9833-4249-a1c1-2825d5401bb0",
   "metadata": {},
   "outputs": [],
   "source": [
    "# # List of values to check for in 'Name' column for Deuce\n",
    "# deuce_values = ['0-0' ,'15-15','40-15','30-0' , '0-30','15-40' ,'40-40 (Deuce)','30-30']\n",
    "\n",
    "# # Create 'servingSide' column in point_df\n",
    "# point_df['servingSide'] = np.where(point_df['Name'].isin(deuce_values), 'Deuce', 'Ad')"
   ]
  },
  {
   "cell_type": "code",
   "execution_count": 1314,
   "id": "5b2d26c2-3784-4e35-99fd-85c220232ba5",
   "metadata": {},
   "outputs": [],
   "source": [
    "# # Display the resulting DataFrame\n",
    "# print(point_df[['pointNumber', 'Name', 'servingSide']])"
   ]
  },
  {
   "cell_type": "markdown",
   "id": "57c12014-bf30-4719-b6d9-e9ab29a33c8f",
   "metadata": {},
   "source": [
    "# At Net (will be replaced by atNet Button later)"
   ]
  },
  {
   "cell_type": "code",
   "execution_count": 1315,
   "id": "0a41d36e-32e2-46d1-870b-44457d330f8d",
   "metadata": {},
   "outputs": [],
   "source": [
    "import numpy as np\n",
    "\n",
    "# Copy the DataFrame\n",
    "at_net_df2 = shot_data.copy()\n",
    "\n",
    "# Record values for specified columns\n",
    "at_net_df2 = at_net_df2[['player1Name', 'player2Name', 'isVolley', 'serverName', 'shotHitBy', 'returnerName', 'pointNumber', 'shotInRally']].copy()\n",
    "\n",
    "# Add columns for aggregation\n",
    "at_net_df2['atNetPlayer1'] = np.where((at_net_df2['isVolley'] == 1) & (at_net_df2['shotHitBy'] == at_net_df2['player1Name']), 1, 0)\n",
    "at_net_df2['atNetPlayer2'] = np.where((at_net_df2['isVolley'] == 1) & (at_net_df2['shotHitBy'] == at_net_df2['player2Name']), 1, 0)\n",
    "\n",
    "# Aggregate atNetPlayer1 and atNetPlayer2 based on pointNumber\n",
    "at_net_df2['atNetPlayer1_Agg'] = at_net_df2.groupby('pointNumber')['atNetPlayer1'].transform('max')\n",
    "at_net_df2['atNetPlayer2_Agg'] = at_net_df2.groupby('pointNumber')['atNetPlayer2'].transform('max')\n",
    "\n",
    "# Drop the duplicate rows created during aggregation\n",
    "at_net_df2.drop_duplicates(subset=['pointNumber'], inplace=True)\n",
    "\n",
    "point_df['atNetPlayer1'] = at_net_df2['atNetPlayer1_Agg'].values\n",
    "point_df['atNetPlayer2'] = at_net_df2['atNetPlayer2_Agg'].values"
   ]
  },
  {
   "cell_type": "code",
   "execution_count": 1316,
   "id": "44f29f52-ed97-4904-a1b3-970efe274de9",
   "metadata": {},
   "outputs": [
    {
     "name": "stdout",
     "output_type": "stream",
     "text": [
      "     pointNumber   side     serverName   returnerName   Name   Position  \\\n",
      "633          113     Ad   Govind Nanda  Raphael Perot   15-0  6042098.0   \n",
      "637          114  Deuce   Govind Nanda  Raphael Perot   30-0  6067753.0   \n",
      "646          115     Ad   Govind Nanda  Raphael Perot  30-15  6222710.0   \n",
      "666          116  Deuce   Govind Nanda  Raphael Perot  40-15  6284050.0   \n",
      "671          117     Ad   Govind Nanda  Raphael Perot  40-30  6322807.0   \n",
      "673          118  Deuce  Raphael Perot   Govind Nanda    0-0  6351895.0   \n",
      "676          119     Ad  Raphael Perot   Govind Nanda   0-15  6372657.0   \n",
      "678          120  Deuce  Raphael Perot   Govind Nanda   0-30  6413797.0   \n",
      "683          121     Ad  Raphael Perot   Govind Nanda   0-40  6444496.0   \n",
      "699          122  Deuce  Raphael Perot   Govind Nanda  15-40  6497093.0   \n",
      "\n",
      "    pointEndPosition Duration  rallyCount rallyCountFreq  ...  returnFhBh  \\\n",
      "633        6050306.0   8208.0           4          1 - 4  ...    Forehand   \n",
      "637        6095938.0  28185.0           9         9 - 12  ...    Backhand   \n",
      "646        6261633.0  38923.0          20           13 +  ...    Forehand   \n",
      "666        6292617.0   8567.0           5          5 - 8  ...    Forehand   \n",
      "671        6328141.0   5334.0           2          1 - 4  ...    Backhand   \n",
      "673        6358468.0   6573.0           3          1 - 4  ...    Backhand   \n",
      "676        6388241.0  15584.0           2          1 - 4  ...    Backhand   \n",
      "678        6423402.0   9605.0           5          5 - 8  ...    Forehand   \n",
      "683        6470168.0  25672.0          16           13 +  ...    Backhand   \n",
      "699        6505022.0   7929.0           3          1 - 4  ...    Backhand   \n",
      "\n",
      "      errorType returnError lastShotDirection lastShotFhBh     pointWonBy  \\\n",
      "633         Net        None     Down the Line     Backhand   Govind Nanda   \n",
      "637        Long        None     Down the Line     Forehand  Raphael Perot   \n",
      "646  Wide Right        None     Down the Line     Backhand   Govind Nanda   \n",
      "666         Net        None        Crosscourt     Backhand  Raphael Perot   \n",
      "671         Net         Net     Down the Line     Backhand   Govind Nanda   \n",
      "673         Net        None        Crosscourt     Forehand   Govind Nanda   \n",
      "676        None        None     Down the Line     Backhand   Govind Nanda   \n",
      "678         Net        None     Down the Line     Forehand   Govind Nanda   \n",
      "683  Wide Right        None     Down the Line     Forehand  Raphael Perot   \n",
      "699        Long        None        Crosscourt     Forehand   Govind Nanda   \n",
      "\n",
      "     isBreakPoint servingSide atNetPlayer1 atNetPlayer2  \n",
      "633         False          Ad            0            0  \n",
      "637         False       Deuce            0            0  \n",
      "646         False          Ad            0            0  \n",
      "666         False       Deuce            0            0  \n",
      "671         False          Ad            0            0  \n",
      "673         False       Deuce            0            0  \n",
      "676         False          Ad            0            0  \n",
      "678         False       Deuce            0            0  \n",
      "683          True          Ad            0            0  \n",
      "699          True       Deuce            0            1  \n",
      "\n",
      "[10 rows x 28 columns]\n"
     ]
    }
   ],
   "source": [
    "print(point_df.tail(10))"
   ]
  },
  {
   "cell_type": "markdown",
   "id": "e3c4b777-625d-4849-b8cd-4d4994485353",
   "metadata": {},
   "source": [
    "# Replace Nan with None"
   ]
  },
  {
   "cell_type": "code",
   "execution_count": 1317,
   "id": "d68c422e-b545-49da-8274-ac3437c8ce9b",
   "metadata": {},
   "outputs": [],
   "source": [
    "point_df = point_df.replace({np.nan: None})"
   ]
  },
  {
   "cell_type": "markdown",
   "id": "7d091079-a2ba-485c-8abb-71acb4df66f6",
   "metadata": {},
   "source": [
    "# Set Score\n",
    "- Add Set Score\n",
    "- Add setNum"
   ]
  },
  {
   "cell_type": "code",
   "execution_count": 1318,
   "id": "9fce1645-21dc-413e-9e9f-61994bdd19d9",
   "metadata": {},
   "outputs": [],
   "source": [
    "# Group shot_data by 'pointNumber' and get the first value of 'setScore'\n",
    "setScore_df = shot_data.groupby('pointNumber')['setScore'].first().reset_index()\n",
    "\n",
    "point_df['setScore'] = setScore_df['setScore'].values"
   ]
  },
  {
   "cell_type": "code",
   "execution_count": 1319,
   "id": "6f762139-8377-4e82-90e1-5a6b474d0375",
   "metadata": {},
   "outputs": [],
   "source": [
    "# Extract numbers from 'setScore' and calculate the sum plus 1\n",
    "point_df['setNum'] = point_df['setScore'].apply(lambda x: sum(int(char) for char in x if char.isdigit()) + 1)"
   ]
  },
  {
   "cell_type": "code",
   "execution_count": 1325,
   "id": "a10894ee-ebea-4036-9d30-1ed42e1d29d8",
   "metadata": {},
   "outputs": [],
   "source": [
    "# Create an empty DataFrame to store gameScore and setScore\n",
    "setScore = shot_data.groupby('pointNumber').first()['setScore'].reset_index()\n",
    "gameScore = shot_data.groupby('pointNumber').first()['gameScore'].reset_index()\n",
    "pointScore = shot_data.groupby('pointNumber').first()['pointScore'].reset_index()\n",
    "\n",
    "\n",
    "point_df['setScore'] = setScore['setScore'].values\n",
    "point_df['gameScore'] = gameScore['gameScore'].values\n",
    "point_df['pointScore'] = pointScore['pointScore'].values"
   ]
  },
  {
   "cell_type": "code",
   "execution_count": 1326,
   "id": "35bbb4a6-53dc-4b66-8399-5cd1d2cd4365",
   "metadata": {},
   "outputs": [],
   "source": [
    "# Add Game Number, Set Number, Game/Set/Point for each player\n",
    "\n",
    "point_df[['player1SetScore', 'player2SetScore']] = point_df['setScore'].str.split('-', expand=True)\n",
    "point_df[['player1GameScore', 'player2GameScore']] = point_df['gameScore'].str.split('-', expand=True)\n",
    "point_df[['player1PointScore', 'player2PointScore']] = point_df['pointScore'].str.split('-', expand=True)\n",
    "\n",
    "def calculate_game_number(score):\n",
    "    return int(score.split('-')[0]) + int(score.split('-')[1])\n",
    "\n",
    "# Apply the function to create the 'gameNumber' column\n",
    "point_df['gameNumber'] = point_df['gameScore'].apply(calculate_game_number)"
   ]
  },
  {
   "cell_type": "code",
   "execution_count": null,
   "id": "07889dd3-4887-495d-9536-30d0b799b14e",
   "metadata": {},
   "outputs": [],
   "source": []
  },
  {
   "cell_type": "markdown",
   "id": "c00e49c8-0479-47e8-bf83-28c6d57da209",
   "metadata": {},
   "source": [
    "# EDA"
   ]
  },
  {
   "cell_type": "markdown",
   "id": "db1e21b1-d92c-4b08-a3c0-4813ca168cc5",
   "metadata": {},
   "source": [
    "# Duece Serve Placement and Win %"
   ]
  },
  {
   "cell_type": "code",
   "execution_count": 1341,
   "id": "4e8f19bd-19a2-4432-a811-8ec8a5e7dd17",
   "metadata": {},
   "outputs": [
    {
     "name": "stdout",
     "output_type": "stream",
     "text": [
      "Value counts for serveInPlacement:\n",
      "serveInPlacement\n",
      "T               11\n",
      "Wide             9\n",
      "Body             6\n",
      "Double Fault     1\n",
      "Name: count, dtype: int64\n",
      "Wins for each Duece Serve Placement\n",
      "  serveInPlacement  Wins\n",
      "0             Body     5\n",
      "1     Double Fault     0\n",
      "2                T     9\n",
      "3             Wide     7\n"
     ]
    }
   ],
   "source": [
    "# # Testing Serve In Placement\n",
    "# import pandas as pd\n",
    "\n",
    "# serverName = 'Govind Nanda'\n",
    "\n",
    "# # Assuming shot_data is your DataFrame\n",
    "# # You can replace 'shot_data' with the actual name of your DataFrame\n",
    "# filtered_data = point_df[(point_df['serverName'] == serverName) & \n",
    "#                           (point_df['side'] == 'Deuce')]\n",
    "\n",
    "# serve_in_placement_counts = filtered_data['serveInPlacement'].value_counts()\n",
    "\n",
    "# print(\"Value counts for serveInPlacement:\")\n",
    "# print(serve_in_placement_counts)\n",
    "\n",
    "# # Group by 'serveInPlacement' and count occurrences of pointWinner being 'Govind Nanda'\n",
    "# server_wins_by_placement = filtered_data.groupby('serveInPlacement')['pointWonBy'].apply(lambda x: (x == serverName).sum()).reset_index()\n",
    "\n",
    "# # Rename the columns for clarity\n",
    "# server_wins_by_placement.columns = ['serveInPlacement', 'Wins']\n",
    "\n",
    "# print(f\"Wins for each Duece Serve Placement\")\n",
    "# print(server_wins_by_placement)\n"
   ]
  },
  {
   "cell_type": "markdown",
   "id": "31344e36-6b0f-4cd9-b5ab-3ae24041800d",
   "metadata": {},
   "source": [
    "# Ad Serve Placement Win %"
   ]
  },
  {
   "cell_type": "code",
   "execution_count": 1331,
   "id": "cd6e5cfc-53c3-4994-8e46-456755accf08",
   "metadata": {},
   "outputs": [
    {
     "name": "stdout",
     "output_type": "stream",
     "text": [
      "Value counts for serveInPlacement:\n",
      "serveInPlacement\n",
      "T       12\n",
      "Wide    10\n",
      "Body     6\n",
      "Name: count, dtype: int64\n"
     ]
    }
   ],
   "source": []
  },
  {
   "cell_type": "code",
   "execution_count": 1332,
   "id": "292da0bc-1d20-4379-af1d-081b6cb06dd3",
   "metadata": {},
   "outputs": [
    {
     "name": "stdout",
     "output_type": "stream",
     "text": [
      "Number of times pointWinner is 'Govind Nanda' for each unique value of serveInPlacement:\n",
      "  serveInPlacement  govindNandaWins\n",
      "0             Body                3\n",
      "1                T                9\n",
      "2             Wide                5\n"
     ]
    }
   ],
   "source": [
    "import pandas as pd\n",
    "\n",
    "# Assuming point_df is your DataFrame\n",
    "# You can replace 'point_df' with the actual name of your DataFrame\n",
    "\n",
    "# Filter point_df based on 'serverName' and 'side'\n",
    "filtered_data = point_df[(point_df['serverName'] == 'Govind Nanda') & (point_df['side'] == 'Ad')]\n",
    "\n",
    "# Group by 'serveInPlacement' and count occurrences of pointWinner being 'Govind Nanda'\n",
    "govind_nanda_wins_by_placement = filtered_data.groupby('serveInPlacement')['pointWonBy'].apply(lambda x: (x == 'Govind Nanda').sum()).reset_index()\n",
    "\n",
    "# Rename the columns for clarity\n",
    "govind_nanda_wins_by_placement.columns = ['serveInPlacement', 'govindNandaWins']\n",
    "\n",
    "print(\"Number of times pointWinner is 'Govind Nanda' for each unique value of serveInPlacement:\")\n",
    "print(govind_nanda_wins_by_placement)\n"
   ]
  },
  {
   "cell_type": "code",
   "execution_count": 1333,
   "id": "94a0d75e-0039-4eac-88e3-8d3bbacaaeb1",
   "metadata": {},
   "outputs": [
    {
     "name": "stdout",
     "output_type": "stream",
     "text": [
      "Occurrences where serverName is 'Govind Nanda' and serveResult is '1st Serve In': 37\n",
      "Occurrences where serverName is 'Govind Nanda', serveResult is '1st Serve In', and pointWinner is 'Govind Nanda': 26\n"
     ]
    }
   ],
   "source": [
    "import pandas as pd\n",
    "\n",
    "# Assuming point_df is your DataFrame\n",
    "# You can replace 'point_df' with the actual name of your DataFrame\n",
    "\n",
    "# Count occurrences where serverName is 'Govind Nanda' and serveResult is '1st Serve In'\n",
    "total_govind_nanda_serves = point_df[(point_df['serverName'] == 'Govind Nanda') & \n",
    "                                      (point_df['serveResult'] == '1st Serve In')].shape[0]\n",
    "\n",
    "# Count occurrences where serverName is 'Govind Nanda', serveResult is '1st Serve In', and pointWinner is also 'Govind Nanda'\n",
    "govind_nanda_wins_on_first_serve = point_df[(point_df['serverName'] == 'Govind Nanda') & \n",
    "                                            (point_df['serveResult'] == '1st Serve In') & \n",
    "                                            (point_df['pointWonBy'] == 'Govind Nanda')].shape[0]\n",
    "\n",
    "# Print the counts\n",
    "print(f\"Occurrences where serverName is 'Govind Nanda' and serveResult is '1st Serve In': {total_govind_nanda_serves}\")\n",
    "print(f\"Occurrences where serverName is 'Govind Nanda', serveResult is '1st Serve In', and pointWinner is 'Govind Nanda': {govind_nanda_wins_on_first_serve}\")\n"
   ]
  },
  {
   "cell_type": "code",
   "execution_count": 1334,
   "id": "068d555b-6371-4e79-b7d9-c76e4b8927db",
   "metadata": {},
   "outputs": [
    {
     "name": "stdout",
     "output_type": "stream",
     "text": [
      "Occurrences where serverName is 'Govind Nanda' and serveResult is '2nd Serve In': 17\n",
      "Occurrences where serverName is 'Govind Nanda', serveResult is '2nd Serve In', and pointWinner is 'Govind Nanda': 55\n"
     ]
    }
   ],
   "source": [
    "import pandas as pd\n",
    "\n",
    "# Assuming point_df is your DataFrame\n",
    "# You can replace 'point_df' with the actual name of your DataFrame\n",
    "\n",
    "# Count occurrences where serverName is 'Govind Nanda' and serveResult is '1st Serve In'\n",
    "total_govind_nanda_serves = point_df[(point_df['serverName'] == 'Govind Nanda') & \n",
    "                                      (point_df['serveResult'] == '2nd Serve In')].shape[0]\n",
    "\n",
    "# Count occurrences where serverName is 'Govind Nanda', serveResult is '1st Serve In', and pointWinner is also 'Govind Nanda'\n",
    "govind_nanda_wins_on_first_serve = point_df[(point_df['serverName'] == 'Govind Nanda')].shape[0]\n",
    "\n",
    "# Print the counts\n",
    "print(f\"Occurrences where serverName is 'Govind Nanda' and serveResult is '2nd Serve In': {total_govind_nanda_serves}\")\n",
    "print(f\"Occurrences where serverName is 'Govind Nanda', serveResult is '2nd Serve In', and pointWinner is 'Govind Nanda': {govind_nanda_wins_on_first_serve}\")\n"
   ]
  },
  {
   "cell_type": "code",
   "execution_count": null,
   "id": "c76476d4-282c-4872-92a7-f69be8ca145c",
   "metadata": {},
   "outputs": [],
   "source": []
  },
  {
   "cell_type": "code",
   "execution_count": null,
   "id": "38248e85-dadc-41ab-9a29-2dd98906c2ce",
   "metadata": {},
   "outputs": [],
   "source": []
  },
  {
   "cell_type": "code",
   "execution_count": 1335,
   "id": "f7615ecc-940d-48d0-9e40-fa549a808bcb",
   "metadata": {},
   "outputs": [
    {
     "name": "stdout",
     "output_type": "stream",
     "text": [
      "Occurrences where serverName is 'Govind Nanda' and serveResult is 'Double Fault': 1\n"
     ]
    }
   ],
   "source": [
    "import pandas as pd\n",
    "\n",
    "# Assuming point_df is your DataFrame\n",
    "# You can replace 'point_df' with the actual name of your DataFrame\n",
    "\n",
    "# Count occurrences where serverName is 'Govind Nanda' and serveResult is 'Double Fault'\n",
    "govind_nanda_double_faults = point_df[(point_df['serverName'] == 'Govind Nanda') & \n",
    "                                       (point_df['serveResult'] == 'Double Fault')].shape[0]\n",
    "\n",
    "# Print the count\n",
    "print(f\"Occurrences where serverName is 'Govind Nanda' and serveResult is 'Double Fault': {govind_nanda_double_faults}\")\n"
   ]
  },
  {
   "cell_type": "code",
   "execution_count": 1336,
   "id": "cbfa12c2-8a8a-4893-a680-4a7973b3340d",
   "metadata": {},
   "outputs": [
    {
     "name": "stdout",
     "output_type": "stream",
     "text": [
      "Rows where serverName is 'Govind Nanda' and serveResult is 'Double Fault':\n",
      "190    Raphael Perot\n",
      "Name: pointWonBy, dtype: object\n"
     ]
    }
   ],
   "source": [
    "import pandas as pd\n",
    "\n",
    "# Assuming point_df is your DataFrame\n",
    "# You can replace 'point_df' with the actual name of your DataFrame\n",
    "\n",
    "# Filter rows where serverName is 'Govind Nanda' and serveResult is 'Double Fault'\n",
    "govind_nanda_double_fault_rows = point_df[(point_df['serverName'] == 'Govind Nanda') & \n",
    "                                          (point_df['serveResult'] == 'Double Fault')]\n",
    "\n",
    "# Display the selected rows\n",
    "print(\"Rows where serverName is 'Govind Nanda' and serveResult is 'Double Fault':\")\n",
    "print(govind_nanda_double_fault_rows['pointWonBy'])\n"
   ]
  },
  {
   "cell_type": "code",
   "execution_count": 1337,
   "id": "0e07c9b2-74ea-4aad-88e6-3fa5db6c46d8",
   "metadata": {},
   "outputs": [
    {
     "name": "stdout",
     "output_type": "stream",
     "text": [
      "Occurrences where serverName is 'Govind Nanda' and serveResult is '1st Serve In': 37\n",
      "Occurrences where serverName is 'Govind Nanda', serveResult is '1st Serve In', and pointWinner is 'Govind Nanda': 55\n"
     ]
    }
   ],
   "source": [
    "import pandas as pd\n",
    "\n",
    "# Assuming point_df is your DataFrame\n",
    "# You can replace 'point_df' with the actual name of your DataFrame\n",
    "\n",
    "# Count occurrences where serverName is 'Govind Nanda' and serveResult is '1st Serve In'\n",
    "total_govind_nanda_serves = point_df[(point_df['serverName'] == 'Govind Nanda') & \n",
    "                                      (point_df['serveResult'] == '1st Serve In')].shape[0]\n",
    "\n",
    "# Count occurrences where serverName is 'Govind Nanda', serveResult is '1st Serve In', and pointWinner is also 'Govind Nanda'\n",
    "govind_nanda_wins_on_first_serve = point_df[(point_df['serverName'] == 'Govind Nanda')].shape[0]\n",
    "\n",
    "# Print the counts\n",
    "print(f\"Occurrences where serverName is 'Govind Nanda' and serveResult is '1st Serve In': {total_govind_nanda_serves}\")\n",
    "print(f\"Occurrences where serverName is 'Govind Nanda', serveResult is '1st Serve In', and pointWinner is 'Govind Nanda': {govind_nanda_wins_on_first_serve}\")\n"
   ]
  },
  {
   "cell_type": "code",
   "execution_count": 1338,
   "id": "8d10168f-a719-41ce-a3c6-0796dab0a367",
   "metadata": {},
   "outputs": [
    {
     "name": "stdout",
     "output_type": "stream",
     "text": [
      "Occurrences where serverName is 'Govind Nanda' and serveResult is '1st Serve In': 38\n",
      "Occurrences where serverName is 'Govind Nanda', serveResult is '1st Serve In', and pointWinner is 'Govind Nanda': 21\n"
     ]
    }
   ],
   "source": [
    "import pandas as pd\n",
    "\n",
    "# Assuming point_df is your DataFrame\n",
    "# You can replace 'point_df' with the actual name of your DataFrame\n",
    "\n",
    "# Count occurrences where serverName is 'Govind Nanda' and serveResult is '1st Serve In'\n",
    "total_govind_nanda_serves = point_df[(point_df['serverName'] == 'Govind Nanda') & \n",
    "                                     (point_df['pointWonBy'] == 'Govind Nanda')].shape[0]\n",
    "\n",
    "# Count occurrences where serverName is 'Govind Nanda', serveResult is '1st Serve In', and pointWinner is also 'Govind Nanda'\n",
    "second_serves = point_df[(point_df['serverName'] == 'Govind Nanda') & \n",
    "                                      (point_df['serveResult'] == '2nd Serve In') | \n",
    "                                      (point_df['serveResult'] == 'Double Fault')].shape[0]\n",
    "# Print the counts\n",
    "print(f\"Occurrences where serverName is 'Govind Nanda' and serveResult is '1st Serve In': {total_govind_nanda_serves}\")\n",
    "print(f\"Occurrences where serverName is 'Govind Nanda', serveResult is '1st Serve In', and pointWinner is 'Govind Nanda': {second_serves}\")\n"
   ]
  },
  {
   "cell_type": "code",
   "execution_count": 1339,
   "id": "282ef8b9-68e6-40e3-a749-7673c9301e75",
   "metadata": {},
   "outputs": [
    {
     "name": "stdout",
     "output_type": "stream",
     "text": [
      "Occurrences where serverName is 'Govind Nanda' and serveResult is '1st Serve In': 38\n",
      "Occurrences where serverName is 'Govind Nanda', serveResult is '1st Serve In', and pointWinner is 'Govind Nanda': 55\n"
     ]
    }
   ],
   "source": [
    "import pandas as pd\n",
    "\n",
    "# Assuming point_df is your DataFrame\n",
    "# You can replace 'point_df' with the actual name of your DataFrame\n",
    "\n",
    "# Count occurrences where serverName is 'Govind Nanda' and serveResult is '1st Serve In'\n",
    "points_won_serving = point_df[(point_df['serverName'] == 'Govind Nanda') & \n",
    "                                     (point_df['pointWonBy'] == 'Govind Nanda')].shape[0]\n",
    "\n",
    "# Count occurrences where serverName is 'Govind Nanda', serveResult is '1st Serve In', and pointWinner is also 'Govind Nanda'\n",
    "point_serving = point_df[(point_df['serverName'] == 'Govind Nanda')].shape[0]\n",
    "# Print the counts\n",
    "print(f\"Occurrences where serverName is 'Govind Nanda' and serveResult is '1st Serve In': {points_won_serving}\")\n",
    "print(f\"Occurrences where serverName is 'Govind Nanda', serveResult is '1st Serve In', and pointWinner is 'Govind Nanda': {point_serving}\")\n"
   ]
  },
  {
   "cell_type": "code",
   "execution_count": null,
   "id": "9e6df3b5-87e3-43fa-93c5-afd8891b3f24",
   "metadata": {},
   "outputs": [],
   "source": []
  },
  {
   "cell_type": "code",
   "execution_count": 1197,
   "id": "f096751b-cf0f-4243-9cd1-16a5c8b3771c",
   "metadata": {},
   "outputs": [
    {
     "name": "stdout",
     "output_type": "stream",
     "text": [
      "Occurrences where serverName is 'Govind Nanda' and serveResult is '1st Serve In': 32\n",
      "Occurrences where serverName is 'Govind Nanda', serveResult is '1st Serve In', and pointWinner is 'Govind Nanda': 67\n"
     ]
    }
   ],
   "source": [
    "import pandas as pd\n",
    "\n",
    "# Assuming point_df is your DataFrame\n",
    "# You can replace 'point_df' with the actual name of your DataFrame\n",
    "\n",
    "# Count occurrences where serverName is 'Govind Nanda' and serveResult is '1st Serve In'\n",
    "points_won_serving = point_df[(point_df['returnerName'] == 'Govind Nanda') & \n",
    "                                     (point_df['pointWonBy'] == 'Govind Nanda')].shape[0]\n",
    "\n",
    "# Count occurrences where serverName is 'Govind Nanda', serveResult is '1st Serve In', and pointWinner is also 'Govind Nanda'\n",
    "point_serving = point_df[(point_df['returnerName'] == 'Govind Nanda')].shape[0]\n",
    "# Print the counts\n",
    "print(f\"Occurrences where serverName is 'Govind Nanda' and serveResult is '1st Serve In': {points_won_serving}\")\n",
    "print(f\"Occurrences where serverName is 'Govind Nanda', serveResult is '1st Serve In', and pointWinner is 'Govind Nanda': {point_serving}\")\n"
   ]
  },
  {
   "cell_type": "code",
   "execution_count": null,
   "id": "fcab3ae6-90c0-40b9-b38a-f442c518a7f3",
   "metadata": {},
   "outputs": [],
   "source": []
  },
  {
   "cell_type": "code",
   "execution_count": null,
   "id": "ad0f33ed-e706-424e-80de-8597eac42292",
   "metadata": {},
   "outputs": [],
   "source": []
  },
  {
   "cell_type": "code",
   "execution_count": 1040,
   "id": "10456c24-c261-4b7c-abab-def6b00489f6",
   "metadata": {},
   "outputs": [
    {
     "name": "stdout",
     "output_type": "stream",
     "text": [
      "Occurrences where serverName is 'Govind Nanda' and serveResult is '1st Serve In': 38\n",
      "Occurrences where serverName is 'Govind Nanda', serveResult is '1st Serve In', and pointWinner is 'Govind Nanda': 23\n"
     ]
    }
   ],
   "source": [
    "\n",
    "govind_nanda_serves = point_df[(point_df['serverName'] == 'Govind Nanda') & \n",
    "                                      (point_df['serveResult'] == '2nd Serve In')].shape[0]\n",
    "\n",
    "# Count occurrences where serverName is 'Govind Nanda', serveResult is '1st Serve In', and pointWinner is also 'Govind Nanda'\n",
    "second_serves = point_df[(point_df['serverName'] == 'Govind Nanda') & \n",
    "                                      (point_df['serveResult'] == '2nd Serve In') | \n",
    "                                      (point_df['serveResult'] == 'Double Fault')].shape[0]\n",
    "# Print the counts\n",
    "print(f\"Occurrences where serverName is 'Govind Nanda' and serveResult is '1st Serve In': {total_govind_nanda_serves}\")\n",
    "print(f\"Occurrences where serverName is 'Govind Nanda', serveResult is '1st Serve In', and pointWinner is 'Govind Nanda': {second_serves}\")\n"
   ]
  },
  {
   "cell_type": "code",
   "execution_count": 1041,
   "id": "895f2eb8-eca4-4115-bd7d-4d9fe1a667dc",
   "metadata": {},
   "outputs": [
    {
     "data": {
      "text/plain": [
       "Index(['pointNumber', 'side', 'serverName', 'returnerName', 'Name', 'Position',\n",
       "       'pointEndPosition', 'Duration', 'serveResult', 'serveInPlacement',\n",
       "       'firstServeZone', 'secondServeZone', 'returnDirection', 'returnFhBh',\n",
       "       'rallyCount', 'errorType', 'returnError', 'lastShotDirection',\n",
       "       'lastShotFhBh', 'point_winner', 'isBreakPoint', 'servingSide',\n",
       "       'atNetName', 'setScore', 'setScoreSum', 'rallyCountFreq', 'isAce',\n",
       "       'gameScore', 'pointScore', 'player1Set', 'player2Set', 'player1Game',\n",
       "       'player2Game', 'player1Point', 'player2Point', 'gameNumber'],\n",
       "      dtype='object')"
      ]
     },
     "execution_count": 1041,
     "metadata": {},
     "output_type": "execute_result"
    }
   ],
   "source": [
    "point_df.columns"
   ]
  },
  {
   "cell_type": "code",
   "execution_count": 1049,
   "id": "9eda7c87-d1ac-408d-af74-3a475c0b5190",
   "metadata": {},
   "outputs": [
    {
     "name": "stdout",
     "output_type": "stream",
     "text": [
      "Count of points where atNetName is 'Govind Nanda': 18\n",
      "Count of points where 'Govind Nanda' wins at net: 14\n"
     ]
    }
   ],
   "source": [
    "import pandas as pd\n",
    "\n",
    "# Assuming point_df is your DataFrame\n",
    "# You can replace 'point_df' with the actual name of your DataFrame\n",
    "\n",
    "# Count occurrences where atNetName is 'Govind Nanda'\n",
    "govind_nanda_at_net_count = point_df[point_df['atNetName'] == 'Govind Nanda'].shape[0]\n",
    "\n",
    "# Count occurrences where atNetName is 'Govind Nanda'\n",
    "govind_nanda_wins_at_net_count = point_df[(point_df['atNetName'] == 'Govind Nanda') &\n",
    "                                                          (point_df['pointWonBy'] == 'Govind Nanda')].shape[0]\n",
    "\n",
    "# Display the count\n",
    "print(f\"Count of points where atNetName is 'Govind Nanda': {govind_nanda_at_net_count}\")\n",
    "print(f\"Count of points where 'Govind Nanda' wins at net: {govind_nanda_wins_at_net_count}\")\n",
    "\n"
   ]
  },
  {
   "cell_type": "code",
   "execution_count": null,
   "id": "1c61b788-f7ab-4fb9-b80a-d9e5e5394d4a",
   "metadata": {},
   "outputs": [],
   "source": []
  },
  {
   "cell_type": "markdown",
   "id": "34ee096b-6ea3-4c78-b75b-5cbd48192a6d",
   "metadata": {},
   "source": [
    "# PRINT HERE"
   ]
  },
  {
   "cell_type": "code",
   "execution_count": 1042,
   "id": "a438e3c9-da97-45bc-89e6-09e362679c3d",
   "metadata": {},
   "outputs": [],
   "source": [
    "# Save point_df to CSV file\n",
    "point_df.to_csv('point_df_1-22_v3.csv', index=False)\n"
   ]
  },
  {
   "cell_type": "code",
   "execution_count": null,
   "id": "63ed1ff0-0244-43bb-bfdb-d258f87f30ee",
   "metadata": {},
   "outputs": [],
   "source": []
  },
  {
   "cell_type": "code",
   "execution_count": null,
   "id": "39376d8a-f523-4c0f-8923-e1587e8e47be",
   "metadata": {},
   "outputs": [],
   "source": []
  },
  {
   "cell_type": "code",
   "execution_count": null,
   "id": "c73f0d76-b6d1-4174-9d83-2a51df3c429c",
   "metadata": {},
   "outputs": [],
   "source": []
  }
 ],
 "metadata": {
  "kernelspec": {
   "display_name": "Python 3 (ipykernel)",
   "language": "python",
   "name": "python3"
  },
  "language_info": {
   "codemirror_mode": {
    "name": "ipython",
    "version": 3
   },
   "file_extension": ".py",
   "mimetype": "text/x-python",
   "name": "python",
   "nbconvert_exporter": "python",
   "pygments_lexer": "ipython3",
   "version": "3.9.18"
  }
 },
 "nbformat": 4,
 "nbformat_minor": 5
}
