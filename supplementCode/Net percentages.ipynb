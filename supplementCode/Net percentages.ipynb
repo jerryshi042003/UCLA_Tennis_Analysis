{
 "cells": [
  {
   "cell_type": "code",
   "execution_count": 1,
   "id": "47cd50e4-eaa7-40a5-9771-11c2cd96d014",
   "metadata": {},
   "outputs": [],
   "source": [
    "import matplotlib.pyplot as plt\n",
    "import pandas as pd\n",
    "import numpy as np\n",
    "import seaborn as sns"
   ]
  },
  {
   "cell_type": "code",
   "execution_count": 14,
   "id": "d8a5bbad-7701-4151-a49f-f0a2f082aea1",
   "metadata": {},
   "outputs": [],
   "source": [
    "data = pd.read_csv(\"E:/UCLA/Bruin Sports Analytics/Tennis/UCLA_Spencer_Johnson_vs_TexasA&M_Tiago_Pires_1-17.csv\")\n",
    "data\n",
    "player_name = \"Spencer Johnson\""
   ]
  },
  {
   "cell_type": "code",
   "execution_count": 15,
   "id": "75ce6cc6-5606-422e-a4eb-76f507bb4c55",
   "metadata": {},
   "outputs": [],
   "source": [
    "def is_odd(n):\n",
    "  return n % 2 == 1\n",
    "\n",
    "def is_even(n):\n",
    "    return n % 2 == 0"
   ]
  },
  {
   "cell_type": "code",
   "execution_count": 16,
   "id": "0bf37b41-8bef-4459-9f6c-fcc6949f2f2b",
   "metadata": {},
   "outputs": [],
   "source": [
    "volleys_serve = pd.DataFrame(data.loc[(data[\"isVolley\"] == 1) & (data[\"serverName\"] == player_name) & (data[\"shotInRally\"].apply(is_odd))])\n",
    "volleys_return = pd.DataFrame(data.loc[(data[\"isVolley\"] == 1) & (data[\"serverName\"] != player_name) & (data[\"shotInRally\"].apply(is_even))])\n",
    "volleys = pd.concat([volleys_serve, volleys_return])\n",
    "num_volleys = len(volleys)"
   ]
  },
  {
   "cell_type": "code",
   "execution_count": 17,
   "id": "c9793fc7-6c0d-4d83-b085-90814dcd9ff1",
   "metadata": {},
   "outputs": [],
   "source": [
    "approach_serve = pd.DataFrame(data.loc[(data[\"isApproach\"] == 1) & (data[\"serverName\"] == player_name) & (data[\"shotInRally\"].apply(is_odd))])\n",
    "approach_return = pd.DataFrame(data.loc[(data[\"isApproach\"] == 1) & (data[\"serverName\"] != player_name) & (data[\"shotInRally\"].apply(is_even))])\n",
    "num_approach = len(approach)"
   ]
  },
  {
   "cell_type": "code",
   "execution_count": 18,
   "id": "e6b8e225-25d3-4db1-9717-a2fd4f5e0f7f",
   "metadata": {},
   "outputs": [
    {
     "data": {
      "text/html": [
       "<div>\n",
       "<style scoped>\n",
       "    .dataframe tbody tr th:only-of-type {\n",
       "        vertical-align: middle;\n",
       "    }\n",
       "\n",
       "    .dataframe tbody tr th {\n",
       "        vertical-align: top;\n",
       "    }\n",
       "\n",
       "    .dataframe thead th {\n",
       "        text-align: right;\n",
       "    }\n",
       "</style>\n",
       "<table border=\"1\" class=\"dataframe\">\n",
       "  <thead>\n",
       "    <tr style=\"text-align: right;\">\n",
       "      <th></th>\n",
       "      <th>Field Name</th>\n",
       "      <th>Statistic</th>\n",
       "    </tr>\n",
       "  </thead>\n",
       "  <tbody>\n",
       "  </tbody>\n",
       "</table>\n",
       "</div>"
      ],
      "text/plain": [
       "Empty DataFrame\n",
       "Columns: [Field Name, Statistic]\n",
       "Index: []"
      ]
     },
     "execution_count": 18,
     "metadata": {},
     "output_type": "execute_result"
    }
   ],
   "source": [
    "table_fields = [\"Field Name\", \"Statistic\"]\n",
    "table = pd.DataFrame(columns = table_fields)\n",
    "table"
   ]
  },
  {
   "cell_type": "code",
   "execution_count": 19,
   "id": "9d4249e1-8a5f-4a87-87e0-20b5d309ba3b",
   "metadata": {},
   "outputs": [],
   "source": [
    "winner_volleys_serve = pd.DataFrame(data.loc[(data[\"isVolley\"] == 1) & (data[\"serverName\"] == player_name) & (data[\"isWinner\"] == 1) & (data[\"shotInRally\"].apply(is_odd))])\n",
    "winner_volleys_return = pd.DataFrame(data.loc[(data[\"isVolley\"] == 1) & (data[\"serverName\"] != player_name) & (data[\"isWinner\"] == 1) & (data[\"shotInRally\"].apply(is_even))])\n",
    "winner_volleys = pd.concat([winner_volleys_serve, winner_volleys_return])\n",
    "num_winner_volleys = len(winner_volleys)"
   ]
  },
  {
   "cell_type": "code",
   "execution_count": 20,
   "id": "9079cc64-6476-4c47-8326-2b4956251b8f",
   "metadata": {},
   "outputs": [],
   "source": [
    "winner_approach_serve = pd.DataFrame(data.loc[(data[\"isApproach\"] == 1) & (data[\"serverName\"] == player_name) & (data[\"isWinner\"] == 1) & (data[\"shotInRally\"].apply(is_odd))])\n",
    "winner_approach_return = pd.DataFrame(data.loc[(data[\"isApproach\"] == 1) & (data[\"serverName\"] != player_name) & (data[\"isWinner\"] == 1) & (data[\"shotInRally\"].apply(is_even))])\n",
    "winner_approach = pd.concat([winner_approach_serve, winner_approach_return])\n",
    "num_winner_approach = len(winner_approach)"
   ]
  },
  {
   "cell_type": "code",
   "execution_count": 21,
   "id": "98cb89ce-47d8-4de8-9467-8b69f1aac8d5",
   "metadata": {},
   "outputs": [],
   "source": [
    "data1 = [\"Number of volleys played\", num_volleys]\n",
    "data2 = [\"Number of approach shots played\", num_approach]\n",
    "data3 = [\"Volleys as a % of total shots\", round((num_volleys/len(data))*100, 3)]\n",
    "data4 = [\"Approach shots as a % of total shots\", round((num_approach/len(data))*100, 3)]\n",
    "data5 = [\"Volleys that were winners (%)\", round((num_winner_volleys/num_volleys)*100, 3)]\n",
    "data6 = [\"Approach shots that were winners (%)\", round((num_winner_approach/num_approach)*100, 3)]\n",
    "\n",
    "table.loc[len(table)] = data1\n",
    "table.loc[len(table)] = data2\n",
    "table.loc[len(table)] = data3\n",
    "table.loc[len(table)] = data4\n",
    "table.loc[len(table)] = data5\n",
    "table.loc[len(table)] = data6"
   ]
  },
  {
   "cell_type": "code",
   "execution_count": 22,
   "id": "6a93fa37-7072-4468-be43-e04f863060ea",
   "metadata": {},
   "outputs": [
    {
     "data": {
      "text/html": [
       "<div>\n",
       "<style scoped>\n",
       "    .dataframe tbody tr th:only-of-type {\n",
       "        vertical-align: middle;\n",
       "    }\n",
       "\n",
       "    .dataframe tbody tr th {\n",
       "        vertical-align: top;\n",
       "    }\n",
       "\n",
       "    .dataframe thead th {\n",
       "        text-align: right;\n",
       "    }\n",
       "</style>\n",
       "<table border=\"1\" class=\"dataframe\">\n",
       "  <thead>\n",
       "    <tr style=\"text-align: right;\">\n",
       "      <th></th>\n",
       "      <th>Field Name</th>\n",
       "      <th>Statistic</th>\n",
       "    </tr>\n",
       "  </thead>\n",
       "  <tbody>\n",
       "    <tr>\n",
       "      <th>0</th>\n",
       "      <td>Number of volleys played</td>\n",
       "      <td>29.000</td>\n",
       "    </tr>\n",
       "    <tr>\n",
       "      <th>1</th>\n",
       "      <td>Number of approach shots played</td>\n",
       "      <td>5.000</td>\n",
       "    </tr>\n",
       "    <tr>\n",
       "      <th>2</th>\n",
       "      <td>Volleys as a % of total shots</td>\n",
       "      <td>5.321</td>\n",
       "    </tr>\n",
       "    <tr>\n",
       "      <th>3</th>\n",
       "      <td>Approach shots as a % of total shots</td>\n",
       "      <td>0.917</td>\n",
       "    </tr>\n",
       "    <tr>\n",
       "      <th>4</th>\n",
       "      <td>Volleys that were winners (%)</td>\n",
       "      <td>10.345</td>\n",
       "    </tr>\n",
       "    <tr>\n",
       "      <th>5</th>\n",
       "      <td>Approach shots that were winners (%)</td>\n",
       "      <td>0.000</td>\n",
       "    </tr>\n",
       "  </tbody>\n",
       "</table>\n",
       "</div>"
      ],
      "text/plain": [
       "                             Field Name  Statistic\n",
       "0              Number of volleys played     29.000\n",
       "1       Number of approach shots played      5.000\n",
       "2         Volleys as a % of total shots      5.321\n",
       "3  Approach shots as a % of total shots      0.917\n",
       "4         Volleys that were winners (%)     10.345\n",
       "5  Approach shots that were winners (%)      0.000"
      ]
     },
     "execution_count": 22,
     "metadata": {},
     "output_type": "execute_result"
    }
   ],
   "source": [
    "table = table.loc[:5]\n",
    "table"
   ]
  },
  {
   "cell_type": "code",
   "execution_count": 85,
   "id": "e7991b3f-77ba-4d0a-9b06-33d6043cd7c1",
   "metadata": {},
   "outputs": [],
   "source": [
    "table.to_csv('Spencer_table.csv', index=False)"
   ]
  },
  {
   "cell_type": "code",
   "execution_count": null,
   "id": "9e48a078-866d-4946-8238-f33d7fd756af",
   "metadata": {},
   "outputs": [],
   "source": []
  }
 ],
 "metadata": {
  "kernelspec": {
   "display_name": "Python 3 (ipykernel)",
   "language": "python",
   "name": "python3"
  },
  "language_info": {
   "codemirror_mode": {
    "name": "ipython",
    "version": 3
   },
   "file_extension": ".py",
   "mimetype": "text/x-python",
   "name": "python",
   "nbconvert_exporter": "python",
   "pygments_lexer": "ipython3",
   "version": "3.11.5"
  }
 },
 "nbformat": 4,
 "nbformat_minor": 5
}
